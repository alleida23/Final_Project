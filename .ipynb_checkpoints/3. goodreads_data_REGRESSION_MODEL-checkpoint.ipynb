{
 "cells": [
  {
   "cell_type": "markdown",
   "id": "24740cc2",
   "metadata": {},
   "source": [
    "## Predicting Book Ratings on GoodReads using Linear Regression Models"
   ]
  },
  {
   "cell_type": "markdown",
   "id": "ead6f8cd",
   "metadata": {},
   "source": [
    "In this section, I will develop a linear regression model to predict the \"rating\" value for GoodReads books.\n",
    "\n",
    "For this particular model, I will take advantage of the fact that each book in the original dataframe has an extensive list of genres and some of them have also received multiple awards. Before reducing their quantity, there were 980 unique genres and 5831 unique awards.\n",
    "\n",
    "Once these features have been extracted and converted to numerical variables in previous kernels, I expect them to help me build a more robust model to predict the \"rating\".\n",
    "\n",
    "The next steps in the process will be to import the cleaned dataframe, select the appropriate features for modeling, build the model, check the metrics, and make improvements if possible."
   ]
  },
  {
   "cell_type": "code",
   "execution_count": 1,
   "id": "58d3aca4",
   "metadata": {},
   "outputs": [],
   "source": [
    "import pandas as pd\n",
    "import numpy as np"
   ]
  },
  {
   "cell_type": "markdown",
   "id": "122f9aa9",
   "metadata": {},
   "source": [
    "### Import Dataframe"
   ]
  },
  {
   "cell_type": "markdown",
   "id": "d15b0a38",
   "metadata": {},
   "source": [
    "Importing clean dataframe\n",
    "- Cleaning and wrangling done in \"1. goodreads_data_CLEANING_AND_WRANGLING.ipynb\""
   ]
  },
  {
   "cell_type": "code",
   "execution_count": 2,
   "id": "01df9567",
   "metadata": {},
   "outputs": [],
   "source": [
    "gr_data = pd.read_csv('./2. Clean_df/gr_data_CLEAN.csv')\n",
    "gr_data = gr_data.drop(['Unnamed: 0'],axis=1)"
   ]
  },
  {
   "cell_type": "code",
   "execution_count": 3,
   "id": "e836f677",
   "metadata": {},
   "outputs": [
    {
     "data": {
      "text/html": [
       "<div>\n",
       "<style scoped>\n",
       "    .dataframe tbody tr th:only-of-type {\n",
       "        vertical-align: middle;\n",
       "    }\n",
       "\n",
       "    .dataframe tbody tr th {\n",
       "        vertical-align: top;\n",
       "    }\n",
       "\n",
       "    .dataframe thead th {\n",
       "        text-align: right;\n",
       "    }\n",
       "</style>\n",
       "<table border=\"1\" class=\"dataframe\">\n",
       "  <thead>\n",
       "    <tr style=\"text-align: right;\">\n",
       "      <th></th>\n",
       "      <th>title</th>\n",
       "      <th>series</th>\n",
       "      <th>author</th>\n",
       "      <th>description</th>\n",
       "      <th>language</th>\n",
       "      <th>pages</th>\n",
       "      <th>isbn</th>\n",
       "      <th>book_format</th>\n",
       "      <th>publish_year</th>\n",
       "      <th>first_publish_year</th>\n",
       "      <th>...</th>\n",
       "      <th>West Australian Young Readers' Book Award (WAYRBA) for Older Readers</th>\n",
       "      <th>West Australian Young Readers' Book Award (WAYRBA) for Younger Readers</th>\n",
       "      <th>William Allen White Children's Book Award</th>\n",
       "      <th>William C. Morris YA Debut Award Nominee</th>\n",
       "      <th>Women's Prize for Fiction Nominee</th>\n",
       "      <th>Women's Prize for Fiction Nominee for Longlist</th>\n",
       "      <th>World Fantasy Award Nominee for Best Novel</th>\n",
       "      <th>World Fantasy Award for Best Novel</th>\n",
       "      <th>Zilveren Griffel</th>\n",
       "      <th>الجائزة العالمية للرواية العربية (أي باف) / International Prize for Arabic Fiction (IPAF) Nominee</th>\n",
       "    </tr>\n",
       "  </thead>\n",
       "  <tbody>\n",
       "    <tr>\n",
       "      <th>0</th>\n",
       "      <td>The Hunger Games</td>\n",
       "      <td>The Hunger Games</td>\n",
       "      <td>Suzanne Collins</td>\n",
       "      <td>WINNING MEANS FAME AND FORTUNE.LOSING MEANS CE...</td>\n",
       "      <td>English</td>\n",
       "      <td>200-300</td>\n",
       "      <td>9.78044E+12</td>\n",
       "      <td>Hardcover</td>\n",
       "      <td>2008</td>\n",
       "      <td>2008</td>\n",
       "      <td>...</td>\n",
       "      <td>1</td>\n",
       "      <td>0</td>\n",
       "      <td>0</td>\n",
       "      <td>0</td>\n",
       "      <td>0</td>\n",
       "      <td>0</td>\n",
       "      <td>0</td>\n",
       "      <td>0</td>\n",
       "      <td>0</td>\n",
       "      <td>0</td>\n",
       "    </tr>\n",
       "    <tr>\n",
       "      <th>1</th>\n",
       "      <td>Harry Potter and the Order of the Phoenix</td>\n",
       "      <td>Harry Potter</td>\n",
       "      <td>J.K. Rowling</td>\n",
       "      <td>There is a door at the end of a silent corrido...</td>\n",
       "      <td>English</td>\n",
       "      <td>700-800</td>\n",
       "      <td>9.78044E+12</td>\n",
       "      <td>Paperback</td>\n",
       "      <td>2004</td>\n",
       "      <td>2003</td>\n",
       "      <td>...</td>\n",
       "      <td>0</td>\n",
       "      <td>0</td>\n",
       "      <td>0</td>\n",
       "      <td>0</td>\n",
       "      <td>0</td>\n",
       "      <td>0</td>\n",
       "      <td>0</td>\n",
       "      <td>0</td>\n",
       "      <td>0</td>\n",
       "      <td>0</td>\n",
       "    </tr>\n",
       "    <tr>\n",
       "      <th>2</th>\n",
       "      <td>To Kill a Mockingbird</td>\n",
       "      <td>To Kill a Mockingbird</td>\n",
       "      <td>Harper Lee</td>\n",
       "      <td>The unforgettable novel of a childhood in a sl...</td>\n",
       "      <td>English</td>\n",
       "      <td>200-300</td>\n",
       "      <td>1E+13</td>\n",
       "      <td>Paperback</td>\n",
       "      <td>2006</td>\n",
       "      <td>1960</td>\n",
       "      <td>...</td>\n",
       "      <td>0</td>\n",
       "      <td>0</td>\n",
       "      <td>0</td>\n",
       "      <td>0</td>\n",
       "      <td>0</td>\n",
       "      <td>0</td>\n",
       "      <td>0</td>\n",
       "      <td>0</td>\n",
       "      <td>0</td>\n",
       "      <td>0</td>\n",
       "    </tr>\n",
       "    <tr>\n",
       "      <th>3</th>\n",
       "      <td>Pride and Prejudice</td>\n",
       "      <td>Single Book</td>\n",
       "      <td>Jane Austen</td>\n",
       "      <td>Alternate cover edition of ISBN 9780679783268S...</td>\n",
       "      <td>English</td>\n",
       "      <td>100-200</td>\n",
       "      <td>1E+13</td>\n",
       "      <td>Paperback</td>\n",
       "      <td>2000</td>\n",
       "      <td>2013</td>\n",
       "      <td>...</td>\n",
       "      <td>0</td>\n",
       "      <td>0</td>\n",
       "      <td>0</td>\n",
       "      <td>0</td>\n",
       "      <td>0</td>\n",
       "      <td>0</td>\n",
       "      <td>0</td>\n",
       "      <td>0</td>\n",
       "      <td>0</td>\n",
       "      <td>0</td>\n",
       "    </tr>\n",
       "    <tr>\n",
       "      <th>4</th>\n",
       "      <td>Twilight</td>\n",
       "      <td>The Twilight Saga</td>\n",
       "      <td>Stephenie Meyer</td>\n",
       "      <td>About three things I was absolutely positive.\\...</td>\n",
       "      <td>English</td>\n",
       "      <td>400-500</td>\n",
       "      <td>9.78032E+12</td>\n",
       "      <td>Paperback</td>\n",
       "      <td>2006</td>\n",
       "      <td>2005</td>\n",
       "      <td>...</td>\n",
       "      <td>1</td>\n",
       "      <td>0</td>\n",
       "      <td>0</td>\n",
       "      <td>0</td>\n",
       "      <td>0</td>\n",
       "      <td>0</td>\n",
       "      <td>0</td>\n",
       "      <td>0</td>\n",
       "      <td>0</td>\n",
       "      <td>0</td>\n",
       "    </tr>\n",
       "  </tbody>\n",
       "</table>\n",
       "<p>5 rows × 862 columns</p>\n",
       "</div>"
      ],
      "text/plain": [
       "                                       title                 series  \\\n",
       "0                           The Hunger Games       The Hunger Games   \n",
       "1  Harry Potter and the Order of the Phoenix           Harry Potter   \n",
       "2                      To Kill a Mockingbird  To Kill a Mockingbird   \n",
       "3                        Pride and Prejudice            Single Book   \n",
       "4                                   Twilight      The Twilight Saga   \n",
       "\n",
       "            author                                        description  \\\n",
       "0  Suzanne Collins  WINNING MEANS FAME AND FORTUNE.LOSING MEANS CE...   \n",
       "1     J.K. Rowling  There is a door at the end of a silent corrido...   \n",
       "2       Harper Lee  The unforgettable novel of a childhood in a sl...   \n",
       "3      Jane Austen  Alternate cover edition of ISBN 9780679783268S...   \n",
       "4  Stephenie Meyer  About three things I was absolutely positive.\\...   \n",
       "\n",
       "  language    pages         isbn book_format  publish_year  \\\n",
       "0  English  200-300  9.78044E+12   Hardcover          2008   \n",
       "1  English  700-800  9.78044E+12   Paperback          2004   \n",
       "2  English  200-300        1E+13   Paperback          2006   \n",
       "3  English  100-200        1E+13   Paperback          2000   \n",
       "4  English  400-500  9.78032E+12   Paperback          2006   \n",
       "\n",
       "   first_publish_year  ...  \\\n",
       "0                2008  ...   \n",
       "1                2003  ...   \n",
       "2                1960  ...   \n",
       "3                2013  ...   \n",
       "4                2005  ...   \n",
       "\n",
       "  West Australian Young Readers' Book Award (WAYRBA) for Older Readers   \\\n",
       "0                                                  1                      \n",
       "1                                                  0                      \n",
       "2                                                  0                      \n",
       "3                                                  0                      \n",
       "4                                                  1                      \n",
       "\n",
       "   West Australian Young Readers' Book Award (WAYRBA) for Younger Readers   \\\n",
       "0                                                  0                         \n",
       "1                                                  0                         \n",
       "2                                                  0                         \n",
       "3                                                  0                         \n",
       "4                                                  0                         \n",
       "\n",
       "   William Allen White Children's Book Award   \\\n",
       "0                                           0   \n",
       "1                                           0   \n",
       "2                                           0   \n",
       "3                                           0   \n",
       "4                                           0   \n",
       "\n",
       "   William C. Morris YA Debut Award Nominee   \\\n",
       "0                                          0   \n",
       "1                                          0   \n",
       "2                                          0   \n",
       "3                                          0   \n",
       "4                                          0   \n",
       "\n",
       "   Women's Prize for Fiction Nominee   \\\n",
       "0                                   0   \n",
       "1                                   0   \n",
       "2                                   0   \n",
       "3                                   0   \n",
       "4                                   0   \n",
       "\n",
       "   Women's Prize for Fiction Nominee for Longlist   \\\n",
       "0                                                0   \n",
       "1                                                0   \n",
       "2                                                0   \n",
       "3                                                0   \n",
       "4                                                0   \n",
       "\n",
       "   World Fantasy Award Nominee for Best Novel   \\\n",
       "0                                            0   \n",
       "1                                            0   \n",
       "2                                            0   \n",
       "3                                            0   \n",
       "4                                            0   \n",
       "\n",
       "   World Fantasy Award for Best Novel   Zilveren Griffel   \\\n",
       "0                                    0                  0   \n",
       "1                                    0                  0   \n",
       "2                                    0                  0   \n",
       "3                                    0                  0   \n",
       "4                                    0                  0   \n",
       "\n",
       "   الجائزة العالمية للرواية العربية (أي باف) / International Prize for Arabic Fiction (IPAF) Nominee   \n",
       "0                                                  0                                                   \n",
       "1                                                  0                                                   \n",
       "2                                                  0                                                   \n",
       "3                                                  0                                                   \n",
       "4                                                  0                                                   \n",
       "\n",
       "[5 rows x 862 columns]"
      ]
     },
     "metadata": {},
     "output_type": "display_data"
    },
    {
     "data": {
      "text/plain": [
       "(48655, 862)"
      ]
     },
     "metadata": {},
     "output_type": "display_data"
    }
   ],
   "source": [
    "display(gr_data.head(), gr_data.shape)"
   ]
  },
  {
   "cell_type": "markdown",
   "id": "857862a8",
   "metadata": {},
   "source": [
    "### Preprocessing data and features for modeling"
   ]
  },
  {
   "cell_type": "markdown",
   "id": "c781a6eb",
   "metadata": {},
   "source": [
    "#### Drop unnecesary columns"
   ]
  },
  {
   "cell_type": "code",
   "execution_count": 4,
   "id": "1df632d2",
   "metadata": {},
   "outputs": [],
   "source": [
    "gr_data= gr_data.drop(['isbn','description'],axis=1)"
   ]
  },
  {
   "cell_type": "code",
   "execution_count": 5,
   "id": "758dffe1",
   "metadata": {},
   "outputs": [
    {
     "data": {
      "text/plain": [
       "(48655, 860)"
      ]
     },
     "execution_count": 5,
     "metadata": {},
     "output_type": "execute_result"
    }
   ],
   "source": [
    "gr_data.shape"
   ]
  },
  {
   "cell_type": "markdown",
   "id": "33db57dc",
   "metadata": {},
   "source": [
    "#### NaN"
   ]
  },
  {
   "cell_type": "code",
   "execution_count": 6,
   "id": "5e2bbd60",
   "metadata": {},
   "outputs": [
    {
     "data": {
      "text/plain": [
       "0"
      ]
     },
     "execution_count": 6,
     "metadata": {},
     "output_type": "execute_result"
    }
   ],
   "source": [
    "gr_data.isna().sum().sum()"
   ]
  },
  {
   "cell_type": "markdown",
   "id": "11829a3a",
   "metadata": {},
   "source": [
    "#### Types"
   ]
  },
  {
   "cell_type": "code",
   "execution_count": 7,
   "id": "fce4c1e0",
   "metadata": {},
   "outputs": [
    {
     "data": {
      "text/plain": [
       "title                   object\n",
       "series                  object\n",
       "author                  object\n",
       "language                object\n",
       "pages                   object\n",
       "book_format             object\n",
       "publish_year             int64\n",
       "first_publish_year       int64\n",
       "publisher               object\n",
       "liked_perc             float64\n",
       "bbe_score              float64\n",
       "bbe_votes              float64\n",
       "log_num_ratings        float64\n",
       "5_stars_num_ratings      int64\n",
       "4_stars_num_ratings      int64\n",
       "3_stars_num_ratings      int64\n",
       "2_stars_num_ratings      int64\n",
       "1_star_num_ratings       int64\n",
       "dtype: object"
      ]
     },
     "execution_count": 7,
     "metadata": {},
     "output_type": "execute_result"
    }
   ],
   "source": [
    "gr_data.iloc[:, :18].dtypes"
   ]
  },
  {
   "cell_type": "markdown",
   "id": "5e7aeb94",
   "metadata": {},
   "source": [
    "#### Numerical Data"
   ]
  },
  {
   "cell_type": "code",
   "execution_count": 8,
   "id": "9e24e5e8",
   "metadata": {},
   "outputs": [
    {
     "data": {
      "text/plain": [
       "(48655, 853)"
      ]
     },
     "execution_count": 8,
     "metadata": {},
     "output_type": "execute_result"
    }
   ],
   "source": [
    "numerical = gr_data.select_dtypes(include=np.number)\n",
    "numerical.shape\n",
    "#categorical = gr_data.select_dtypes(include=['object'])"
   ]
  },
  {
   "cell_type": "markdown",
   "id": "2280b3bc",
   "metadata": {},
   "source": [
    "##### Correlation-Association amongst features"
   ]
  },
  {
   "cell_type": "markdown",
   "id": "72afd8da",
   "metadata": {},
   "source": [
    "Correlation Matrix:"
   ]
  },
  {
   "cell_type": "code",
   "execution_count": 9,
   "id": "024d23f4",
   "metadata": {},
   "outputs": [],
   "source": [
    "# Correlation matrix for numerical values (854 columns)\n",
    "corr_matrix = numerical.corr()"
   ]
  },
  {
   "cell_type": "markdown",
   "id": "d7a080cd",
   "metadata": {},
   "source": [
    "- As there are so many columns, displaying data where correlations > 0.6 or < -0,6 :"
   ]
  },
  {
   "cell_type": "code",
   "execution_count": 10,
   "id": "063879d3",
   "metadata": {
    "scrolled": true
   },
   "outputs": [
    {
     "data": {
      "text/html": [
       "<div>\n",
       "<style scoped>\n",
       "    .dataframe tbody tr th:only-of-type {\n",
       "        vertical-align: middle;\n",
       "    }\n",
       "\n",
       "    .dataframe tbody tr th {\n",
       "        vertical-align: top;\n",
       "    }\n",
       "\n",
       "    .dataframe thead th {\n",
       "        text-align: right;\n",
       "    }\n",
       "</style>\n",
       "<table border=\"1\" class=\"dataframe\">\n",
       "  <thead>\n",
       "    <tr style=\"text-align: right;\">\n",
       "      <th></th>\n",
       "      <th>row name</th>\n",
       "      <th>col name</th>\n",
       "      <th>corr number</th>\n",
       "    </tr>\n",
       "  </thead>\n",
       "  <tbody>\n",
       "    <tr>\n",
       "      <th>11</th>\n",
       "      <td>3_stars_num_ratings</td>\n",
       "      <td>4_stars_num_ratings</td>\n",
       "      <td>0.957836</td>\n",
       "    </tr>\n",
       "    <tr>\n",
       "      <th>16</th>\n",
       "      <td>2_stars_num_ratings</td>\n",
       "      <td>3_stars_num_ratings</td>\n",
       "      <td>0.956072</td>\n",
       "    </tr>\n",
       "    <tr>\n",
       "      <th>0</th>\n",
       "      <td>bbe_score</td>\n",
       "      <td>bbe_votes</td>\n",
       "      <td>0.939596</td>\n",
       "    </tr>\n",
       "    <tr>\n",
       "      <th>21</th>\n",
       "      <td>1_star_num_ratings</td>\n",
       "      <td>2_stars_num_ratings</td>\n",
       "      <td>0.933824</td>\n",
       "    </tr>\n",
       "    <tr>\n",
       "      <th>6</th>\n",
       "      <td>4_stars_num_ratings</td>\n",
       "      <td>5_stars_num_ratings</td>\n",
       "      <td>0.931859</td>\n",
       "    </tr>\n",
       "    <tr>\n",
       "      <th>15</th>\n",
       "      <td>2_stars_num_ratings</td>\n",
       "      <td>4_stars_num_ratings</td>\n",
       "      <td>0.856281</td>\n",
       "    </tr>\n",
       "    <tr>\n",
       "      <th>10</th>\n",
       "      <td>3_stars_num_ratings</td>\n",
       "      <td>5_stars_num_ratings</td>\n",
       "      <td>0.831870</td>\n",
       "    </tr>\n",
       "    <tr>\n",
       "      <th>20</th>\n",
       "      <td>1_star_num_ratings</td>\n",
       "      <td>3_stars_num_ratings</td>\n",
       "      <td>0.820076</td>\n",
       "    </tr>\n",
       "    <tr>\n",
       "      <th>14</th>\n",
       "      <td>2_stars_num_ratings</td>\n",
       "      <td>5_stars_num_ratings</td>\n",
       "      <td>0.726403</td>\n",
       "    </tr>\n",
       "    <tr>\n",
       "      <th>19</th>\n",
       "      <td>1_star_num_ratings</td>\n",
       "      <td>4_stars_num_ratings</td>\n",
       "      <td>0.711987</td>\n",
       "    </tr>\n",
       "    <tr>\n",
       "      <th>65</th>\n",
       "      <td>Hugo Award for Best Novel</td>\n",
       "      <td>hugo awards</td>\n",
       "      <td>0.708158</td>\n",
       "    </tr>\n",
       "    <tr>\n",
       "      <th>63</th>\n",
       "      <td>booze</td>\n",
       "      <td>drinking</td>\n",
       "      <td>0.707100</td>\n",
       "    </tr>\n",
       "    <tr>\n",
       "      <th>54</th>\n",
       "      <td>love inspired</td>\n",
       "      <td>love inspired historical</td>\n",
       "      <td>0.707070</td>\n",
       "    </tr>\n",
       "    <tr>\n",
       "      <th>25</th>\n",
       "      <td>historical</td>\n",
       "      <td>historical fiction</td>\n",
       "      <td>0.699301</td>\n",
       "    </tr>\n",
       "    <tr>\n",
       "      <th>50</th>\n",
       "      <td>money</td>\n",
       "      <td>personal finance</td>\n",
       "      <td>0.677922</td>\n",
       "    </tr>\n",
       "    <tr>\n",
       "      <th>30</th>\n",
       "      <td>christian fiction</td>\n",
       "      <td>christianity</td>\n",
       "      <td>0.676971</td>\n",
       "    </tr>\n",
       "    <tr>\n",
       "      <th>57</th>\n",
       "      <td>cthulhu mythos</td>\n",
       "      <td>lovecraftian</td>\n",
       "      <td>0.675476</td>\n",
       "    </tr>\n",
       "    <tr>\n",
       "      <th>28</th>\n",
       "      <td>paranormal</td>\n",
       "      <td>paranormal romance</td>\n",
       "      <td>0.656138</td>\n",
       "    </tr>\n",
       "    <tr>\n",
       "      <th>56</th>\n",
       "      <td>brain</td>\n",
       "      <td>neuroscience</td>\n",
       "      <td>0.648837</td>\n",
       "    </tr>\n",
       "    <tr>\n",
       "      <th>64</th>\n",
       "      <td>business and finance.1</td>\n",
       "      <td>money</td>\n",
       "      <td>0.647308</td>\n",
       "    </tr>\n",
       "    <tr>\n",
       "      <th>47</th>\n",
       "      <td>american civil war</td>\n",
       "      <td>civil war</td>\n",
       "      <td>0.647194</td>\n",
       "    </tr>\n",
       "    <tr>\n",
       "      <th>46</th>\n",
       "      <td>personal development</td>\n",
       "      <td>self help</td>\n",
       "      <td>0.646251</td>\n",
       "    </tr>\n",
       "    <tr>\n",
       "      <th>62</th>\n",
       "      <td>shounen ai</td>\n",
       "      <td>yaoi</td>\n",
       "      <td>0.645358</td>\n",
       "    </tr>\n",
       "    <tr>\n",
       "      <th>43</th>\n",
       "      <td>prehistoric</td>\n",
       "      <td>prehistory</td>\n",
       "      <td>0.643481</td>\n",
       "    </tr>\n",
       "    <tr>\n",
       "      <th>18</th>\n",
       "      <td>1_star_num_ratings</td>\n",
       "      <td>5_stars_num_ratings</td>\n",
       "      <td>0.639672</td>\n",
       "    </tr>\n",
       "    <tr>\n",
       "      <th>42</th>\n",
       "      <td>counting</td>\n",
       "      <td>number</td>\n",
       "      <td>0.639534</td>\n",
       "    </tr>\n",
       "    <tr>\n",
       "      <th>37</th>\n",
       "      <td>mystery thriller</td>\n",
       "      <td>thriller</td>\n",
       "      <td>0.638663</td>\n",
       "    </tr>\n",
       "    <tr>\n",
       "      <th>22</th>\n",
       "      <td>fantasy</td>\n",
       "      <td>science fiction</td>\n",
       "      <td>0.634241</td>\n",
       "    </tr>\n",
       "    <tr>\n",
       "      <th>36</th>\n",
       "      <td>crime</td>\n",
       "      <td>mystery thriller</td>\n",
       "      <td>0.629742</td>\n",
       "    </tr>\n",
       "    <tr>\n",
       "      <th>35</th>\n",
       "      <td>suspense</td>\n",
       "      <td>thriller</td>\n",
       "      <td>0.618759</td>\n",
       "    </tr>\n",
       "    <tr>\n",
       "      <th>44</th>\n",
       "      <td>medical</td>\n",
       "      <td>medicine</td>\n",
       "      <td>0.615121</td>\n",
       "    </tr>\n",
       "    <tr>\n",
       "      <th>27</th>\n",
       "      <td>paranormal</td>\n",
       "      <td>urban fantasy</td>\n",
       "      <td>0.612334</td>\n",
       "    </tr>\n",
       "    <tr>\n",
       "      <th>41</th>\n",
       "      <td>history</td>\n",
       "      <td>nonfiction</td>\n",
       "      <td>0.603818</td>\n",
       "    </tr>\n",
       "  </tbody>\n",
       "</table>\n",
       "</div>"
      ],
      "text/plain": [
       "                      row name                  col name  corr number\n",
       "11         3_stars_num_ratings       4_stars_num_ratings     0.957836\n",
       "16         2_stars_num_ratings       3_stars_num_ratings     0.956072\n",
       "0                    bbe_score                 bbe_votes     0.939596\n",
       "21          1_star_num_ratings       2_stars_num_ratings     0.933824\n",
       "6          4_stars_num_ratings       5_stars_num_ratings     0.931859\n",
       "15         2_stars_num_ratings       4_stars_num_ratings     0.856281\n",
       "10         3_stars_num_ratings       5_stars_num_ratings     0.831870\n",
       "20          1_star_num_ratings       3_stars_num_ratings     0.820076\n",
       "14         2_stars_num_ratings       5_stars_num_ratings     0.726403\n",
       "19          1_star_num_ratings       4_stars_num_ratings     0.711987\n",
       "65  Hugo Award for Best Novel                hugo awards     0.708158\n",
       "63                       booze                  drinking     0.707100\n",
       "54               love inspired  love inspired historical     0.707070\n",
       "25                  historical        historical fiction     0.699301\n",
       "50                       money          personal finance     0.677922\n",
       "30           christian fiction              christianity     0.676971\n",
       "57              cthulhu mythos              lovecraftian     0.675476\n",
       "28                  paranormal        paranormal romance     0.656138\n",
       "56                       brain              neuroscience     0.648837\n",
       "64      business and finance.1                     money     0.647308\n",
       "47          american civil war                 civil war     0.647194\n",
       "46        personal development                 self help     0.646251\n",
       "62                  shounen ai                      yaoi     0.645358\n",
       "43                 prehistoric                prehistory     0.643481\n",
       "18          1_star_num_ratings       5_stars_num_ratings     0.639672\n",
       "42                    counting                    number     0.639534\n",
       "37            mystery thriller                  thriller     0.638663\n",
       "22                     fantasy           science fiction     0.634241\n",
       "36                       crime          mystery thriller     0.629742\n",
       "35                    suspense                  thriller     0.618759\n",
       "44                     medical                  medicine     0.615121\n",
       "27                  paranormal             urban fantasy     0.612334\n",
       "41                     history                nonfiction     0.603818"
      ]
     },
     "metadata": {},
     "output_type": "display_data"
    },
    {
     "data": {
      "text/plain": [
       "33"
      ]
     },
     "metadata": {},
     "output_type": "display_data"
    }
   ],
   "source": [
    "# Indices of non-NaN values in the correlation matrix\n",
    "indices = [(row, col) for row in corr_matrix.index for col in corr_matrix.columns if not pd.isna(corr_matrix.loc[row, col])]\n",
    "\n",
    "# New df with the row and column's names, and correlation number\n",
    "df = pd.DataFrame([(idx[0], idx[1], corr_matrix.loc[idx]) for idx in indices if (corr_matrix.loc[idx] > 0.6 or corr_matrix.loc[idx] < -0.6) and idx[0] != idx[1]], columns=['row name', 'col name', 'corr number'])\n",
    "\n",
    "# Drop duplicate rows where row name is greater than col name (diagonal)\n",
    "df = df[df['row name'] < df['col name']]\n",
    "\n",
    "# Sort df by the correlation number in descending order\n",
    "df = df.sort_values(by='corr number', ascending=False)\n",
    "\n",
    "# Sorted df\n",
    "display(df, len(df))\n"
   ]
  },
  {
   "cell_type": "markdown",
   "id": "7212166a",
   "metadata": {},
   "source": [
    " - Check counts from paired highly-correlated variables to choose which one to eliminate"
   ]
  },
  {
   "cell_type": "code",
   "execution_count": 11,
   "id": "aa848682",
   "metadata": {},
   "outputs": [
    {
     "data": {
      "text/plain": [
       "0    48593\n",
       "1       62\n",
       "Name: Hugo Award for Best Novel , dtype: int64"
      ]
     },
     "metadata": {},
     "output_type": "display_data"
    },
    {
     "data": {
      "text/plain": [
       "0    48620\n",
       "1       35\n",
       "Name: hugo awards, dtype: int64"
      ]
     },
     "metadata": {},
     "output_type": "display_data"
    }
   ],
   "source": [
    "display(numerical['Hugo Award for Best Novel '].value_counts(),numerical['hugo awards'].value_counts())"
   ]
  },
  {
   "cell_type": "code",
   "execution_count": 12,
   "id": "927103e5",
   "metadata": {},
   "outputs": [
    {
     "data": {
      "text/plain": [
       "0    48645\n",
       "1       10\n",
       "Name: love inspired, dtype: int64"
      ]
     },
     "metadata": {},
     "output_type": "display_data"
    },
    {
     "data": {
      "text/plain": [
       "0    48650\n",
       "1        5\n",
       "Name: love inspired historical, dtype: int64"
      ]
     },
     "metadata": {},
     "output_type": "display_data"
    }
   ],
   "source": [
    "display(numerical['love inspired'].value_counts(),numerical['love inspired historical'].value_counts())"
   ]
  },
  {
   "cell_type": "code",
   "execution_count": 13,
   "id": "0d1bc32f",
   "metadata": {},
   "outputs": [],
   "source": [
    "# High correlated variables to drop\n",
    "high_correlated = ['2_stars_num_ratings','3_stars_num_ratings','4_stars_num_ratings',\n",
    "                   'bbe_votes','hugo awards','booze','love inspired historical']"
   ]
  },
  {
   "cell_type": "code",
   "execution_count": 14,
   "id": "b669b25a",
   "metadata": {},
   "outputs": [
    {
     "data": {
      "text/plain": [
       "(48655, 853)"
      ]
     },
     "execution_count": 14,
     "metadata": {},
     "output_type": "execute_result"
    }
   ],
   "source": [
    "numerical.shape"
   ]
  },
  {
   "cell_type": "code",
   "execution_count": 15,
   "id": "2bbe0bfa",
   "metadata": {},
   "outputs": [
    {
     "data": {
      "text/plain": [
       "(48655, 846)"
      ]
     },
     "execution_count": 15,
     "metadata": {},
     "output_type": "execute_result"
    }
   ],
   "source": [
    "# Drop high correlated variables\n",
    "numerical = numerical.drop(high_correlated, axis=1)\n",
    "\n",
    "# New shape\n",
    "numerical.shape"
   ]
  },
  {
   "cell_type": "code",
   "execution_count": null,
   "id": "d71d4559",
   "metadata": {},
   "outputs": [],
   "source": []
  },
  {
   "cell_type": "markdown",
   "id": "b5ce6890",
   "metadata": {},
   "source": [
    "correlation matrix can differ depending on whether the data is scaled or not. This is because correlation measures the linear relationship between two variables, and the scale of the variables can affect the strength of their relationship.\n",
    "\n",
    "For example, if one variable has a much larger scale than another variable, it may dominate the correlation analysis and obscure any relationships between the other variables. Scaling the variables to have the same range of values can help to mitigate this problem and provide a more accurate representation of the correlations between the variables."
   ]
  },
  {
   "cell_type": "markdown",
   "id": "b402a764",
   "metadata": {},
   "source": [
    "generally recommended to scale the numerical features before applying PCA to ensure that they are on a similar scale and have equal weight in the analysis. This is because PCA is sensitive to the scale of the variables, and features with larger scales can dominate the analysis. "
   ]
  },
  {
   "cell_type": "code",
   "execution_count": null,
   "id": "f417654c",
   "metadata": {},
   "outputs": [],
   "source": []
  },
  {
   "cell_type": "markdown",
   "id": "81ebd3c4",
   "metadata": {},
   "source": [
    "#### Categorical Data"
   ]
  },
  {
   "cell_type": "code",
   "execution_count": 16,
   "id": "7e3c309b",
   "metadata": {},
   "outputs": [
    {
     "data": {
      "text/plain": [
       "(48655, 7)"
      ]
     },
     "execution_count": 16,
     "metadata": {},
     "output_type": "execute_result"
    }
   ],
   "source": [
    "categorical = gr_data.select_dtypes(include=['object'])\n",
    "categorical.shape"
   ]
  },
  {
   "cell_type": "code",
   "execution_count": 17,
   "id": "fa4635b4",
   "metadata": {},
   "outputs": [
    {
     "name": "stdout",
     "output_type": "stream",
     "text": [
      "Unique values for title: 46328\n",
      "Unique values for series: 4405\n",
      "Unique values for author: 21720\n",
      "Unique values for language: 92\n",
      "Unique values for pages: 12\n",
      "Unique values for book_format: 10\n",
      "Unique values for publisher: 4\n"
     ]
    }
   ],
   "source": [
    "# Unique values\n",
    "for col in categorical.columns:\n",
    "    print(f\"Unique values for {col}: {categorical[col].nunique()}\")"
   ]
  },
  {
   "cell_type": "markdown",
   "id": "28d83461",
   "metadata": {},
   "source": [
    "- Reducing unique values"
   ]
  },
  {
   "cell_type": "markdown",
   "id": "62ab081c",
   "metadata": {},
   "source": [
    "Author"
   ]
  },
  {
   "cell_type": "code",
   "execution_count": 18,
   "id": "e93911a4",
   "metadata": {},
   "outputs": [
    {
     "data": {
      "text/plain": [
       "0        Suzanne Collins\n",
       "1           J.K. Rowling\n",
       "2             Harper Lee\n",
       "3            Jane Austen\n",
       "4        Stephenie Meyer\n",
       "              ...       \n",
       "48650      Sherry Gammon\n",
       "48651      Emma Michaels\n",
       "48652     Kim Richardson\n",
       "48653        Tom Pollack\n",
       "48654       Misty Moncur\n",
       "Name: author, Length: 48655, dtype: object"
      ]
     },
     "execution_count": 18,
     "metadata": {},
     "output_type": "execute_result"
    }
   ],
   "source": [
    "categorical['author']"
   ]
  },
  {
   "cell_type": "markdown",
   "id": "cbb34472",
   "metadata": {},
   "source": [
    "Reducing number of authors by grouping them into 'Top 1000', 'Top 1001-10000' and 'General Authors' according to the average 'rating' for authors that have published more than 1 book (there are a lot of authors with just 1 book published and a 5 rating)."
   ]
  },
  {
   "cell_type": "code",
   "execution_count": 22,
   "id": "8c8ec550",
   "metadata": {},
   "outputs": [
    {
     "data": {
      "text/plain": [
       "1000"
      ]
     },
     "metadata": {},
     "output_type": "display_data"
    },
    {
     "data": {
      "text/html": [
       "<div>\n",
       "<style scoped>\n",
       "    .dataframe tbody tr th:only-of-type {\n",
       "        vertical-align: middle;\n",
       "    }\n",
       "\n",
       "    .dataframe tbody tr th {\n",
       "        vertical-align: top;\n",
       "    }\n",
       "\n",
       "    .dataframe thead th {\n",
       "        text-align: right;\n",
       "    }\n",
       "</style>\n",
       "<table border=\"1\" class=\"dataframe\">\n",
       "  <thead>\n",
       "    <tr style=\"text-align: right;\">\n",
       "      <th></th>\n",
       "      <th>author</th>\n",
       "      <th>rating</th>\n",
       "    </tr>\n",
       "  </thead>\n",
       "  <tbody>\n",
       "    <tr>\n",
       "      <th>0</th>\n",
       "      <td>James Goodman</td>\n",
       "      <td>5.00</td>\n",
       "    </tr>\n",
       "    <tr>\n",
       "      <th>1</th>\n",
       "      <td>Doug \"Hollywood\" Davis</td>\n",
       "      <td>5.00</td>\n",
       "    </tr>\n",
       "    <tr>\n",
       "      <th>2</th>\n",
       "      <td>Natasha Lukin</td>\n",
       "      <td>5.00</td>\n",
       "    </tr>\n",
       "    <tr>\n",
       "      <th>3</th>\n",
       "      <td>Rita Pam Tarachi</td>\n",
       "      <td>5.00</td>\n",
       "    </tr>\n",
       "    <tr>\n",
       "      <th>4</th>\n",
       "      <td>Granthana Sinha</td>\n",
       "      <td>5.00</td>\n",
       "    </tr>\n",
       "    <tr>\n",
       "      <th>5</th>\n",
       "      <td>Nadine May</td>\n",
       "      <td>5.00</td>\n",
       "    </tr>\n",
       "    <tr>\n",
       "      <th>6</th>\n",
       "      <td>Bernard Cenney</td>\n",
       "      <td>5.00</td>\n",
       "    </tr>\n",
       "    <tr>\n",
       "      <th>7</th>\n",
       "      <td>Luke A.M. Brown</td>\n",
       "      <td>5.00</td>\n",
       "    </tr>\n",
       "    <tr>\n",
       "      <th>8</th>\n",
       "      <td>Susan Davis</td>\n",
       "      <td>5.00</td>\n",
       "    </tr>\n",
       "    <tr>\n",
       "      <th>9</th>\n",
       "      <td>Rodolfo Martin Vitangcol</td>\n",
       "      <td>5.00</td>\n",
       "    </tr>\n",
       "    <tr>\n",
       "      <th>10</th>\n",
       "      <td>Steve Jones Snr</td>\n",
       "      <td>5.00</td>\n",
       "    </tr>\n",
       "    <tr>\n",
       "      <th>11</th>\n",
       "      <td>Carol Denise Mitchell</td>\n",
       "      <td>5.00</td>\n",
       "    </tr>\n",
       "    <tr>\n",
       "      <th>12</th>\n",
       "      <td>Crystal L. Du Bois</td>\n",
       "      <td>5.00</td>\n",
       "    </tr>\n",
       "    <tr>\n",
       "      <th>13</th>\n",
       "      <td>Cristina G.</td>\n",
       "      <td>5.00</td>\n",
       "    </tr>\n",
       "    <tr>\n",
       "      <th>14</th>\n",
       "      <td>Creative Success Coach</td>\n",
       "      <td>5.00</td>\n",
       "    </tr>\n",
       "    <tr>\n",
       "      <th>15</th>\n",
       "      <td>Cat Ellington</td>\n",
       "      <td>5.00</td>\n",
       "    </tr>\n",
       "    <tr>\n",
       "      <th>16</th>\n",
       "      <td>Melissa Webb</td>\n",
       "      <td>5.00</td>\n",
       "    </tr>\n",
       "    <tr>\n",
       "      <th>17</th>\n",
       "      <td>Silvana G. Sánchez</td>\n",
       "      <td>5.00</td>\n",
       "    </tr>\n",
       "    <tr>\n",
       "      <th>18</th>\n",
       "      <td>Martine Jardin</td>\n",
       "      <td>5.00</td>\n",
       "    </tr>\n",
       "    <tr>\n",
       "      <th>19</th>\n",
       "      <td>Lisa C. Miller</td>\n",
       "      <td>5.00</td>\n",
       "    </tr>\n",
       "    <tr>\n",
       "      <th>20</th>\n",
       "      <td>Jerrye Woods</td>\n",
       "      <td>5.00</td>\n",
       "    </tr>\n",
       "    <tr>\n",
       "      <th>21</th>\n",
       "      <td>Lashone Vs Shaneek</td>\n",
       "      <td>5.00</td>\n",
       "    </tr>\n",
       "    <tr>\n",
       "      <th>22</th>\n",
       "      <td>Garry Bonsall</td>\n",
       "      <td>5.00</td>\n",
       "    </tr>\n",
       "    <tr>\n",
       "      <th>23</th>\n",
       "      <td>Violet Plum</td>\n",
       "      <td>5.00</td>\n",
       "    </tr>\n",
       "    <tr>\n",
       "      <th>24</th>\n",
       "      <td>Alice Batchelor Hambright</td>\n",
       "      <td>5.00</td>\n",
       "    </tr>\n",
       "    <tr>\n",
       "      <th>25</th>\n",
       "      <td>Vidya Gargote</td>\n",
       "      <td>5.00</td>\n",
       "    </tr>\n",
       "    <tr>\n",
       "      <th>26</th>\n",
       "      <td>Ginger Baum</td>\n",
       "      <td>4.97</td>\n",
       "    </tr>\n",
       "    <tr>\n",
       "      <th>27</th>\n",
       "      <td>Sharon Storm</td>\n",
       "      <td>4.96</td>\n",
       "    </tr>\n",
       "    <tr>\n",
       "      <th>28</th>\n",
       "      <td>Anişoara Laura Musteţiu</td>\n",
       "      <td>4.96</td>\n",
       "    </tr>\n",
       "    <tr>\n",
       "      <th>29</th>\n",
       "      <td>Krystyna Fitzgerald-Morris</td>\n",
       "      <td>4.95</td>\n",
       "    </tr>\n",
       "  </tbody>\n",
       "</table>\n",
       "</div>"
      ],
      "text/plain": [
       "                        author  rating\n",
       "0                James Goodman    5.00\n",
       "1       Doug \"Hollywood\" Davis    5.00\n",
       "2                Natasha Lukin    5.00\n",
       "3             Rita Pam Tarachi    5.00\n",
       "4              Granthana Sinha    5.00\n",
       "5                   Nadine May    5.00\n",
       "6               Bernard Cenney    5.00\n",
       "7              Luke A.M. Brown    5.00\n",
       "8                  Susan Davis    5.00\n",
       "9     Rodolfo Martin Vitangcol    5.00\n",
       "10             Steve Jones Snr    5.00\n",
       "11       Carol Denise Mitchell    5.00\n",
       "12          Crystal L. Du Bois    5.00\n",
       "13                 Cristina G.    5.00\n",
       "14      Creative Success Coach    5.00\n",
       "15               Cat Ellington    5.00\n",
       "16                Melissa Webb    5.00\n",
       "17          Silvana G. Sánchez    5.00\n",
       "18              Martine Jardin    5.00\n",
       "19              Lisa C. Miller    5.00\n",
       "20                Jerrye Woods    5.00\n",
       "21          Lashone Vs Shaneek    5.00\n",
       "22               Garry Bonsall    5.00\n",
       "23                 Violet Plum    5.00\n",
       "24   Alice Batchelor Hambright    5.00\n",
       "25               Vidya Gargote    5.00\n",
       "26                 Ginger Baum    4.97\n",
       "27                Sharon Storm    4.96\n",
       "28     Anişoara Laura Musteţiu    4.96\n",
       "29  Krystyna Fitzgerald-Morris    4.95"
      ]
     },
     "execution_count": 22,
     "metadata": {},
     "output_type": "execute_result"
    }
   ],
   "source": [
    "# Reducing number of unique authors: TOP 1000 (average rating for authors with >1 book published)\n",
    "\n",
    "# Count the number of books for each author\n",
    "author_counts = gr_data['author'].value_counts()\n",
    "\n",
    "# Filter the resulting series to only include authors with a count greater than 1\n",
    "filtered_authors = author_counts[author_counts > 1].index\n",
    "\n",
    "# Filter the original dataframe to only include titles with authors in the filtered series\n",
    "filtered_gr_data = gr_data[gr_data['author'].isin(filtered_authors)]\n",
    "\n",
    "# Group by author and calculate the mean rating for each author\n",
    "author_avg_rating = filtered_gr_data.groupby('author')['rating'].mean()\n",
    "\n",
    "# Sort the resulting series in descending order based on the average rating and select the top 100 authors\n",
    "top_1000_most_rated_authors = author_avg_rating.sort_values(ascending=False).head(1000)\n",
    "\n",
    "# Convert the resulting series to a dataframe and reset the index\n",
    "top_1000_most_rated_authors_df = top_1000_most_rated_authors.to_frame().reset_index()\n",
    "\n",
    "display(len(top_1000_most_rated_authors_df))\n",
    "\n",
    "top_1000_most_rated_authors_df.head(30)"
   ]
  },
  {
   "cell_type": "code",
   "execution_count": 23,
   "id": "26f74e89",
   "metadata": {},
   "outputs": [
    {
     "data": {
      "text/plain": [
       "6180"
      ]
     },
     "metadata": {},
     "output_type": "display_data"
    },
    {
     "data": {
      "text/html": [
       "<div>\n",
       "<style scoped>\n",
       "    .dataframe tbody tr th:only-of-type {\n",
       "        vertical-align: middle;\n",
       "    }\n",
       "\n",
       "    .dataframe tbody tr th {\n",
       "        vertical-align: top;\n",
       "    }\n",
       "\n",
       "    .dataframe thead th {\n",
       "        text-align: right;\n",
       "    }\n",
       "</style>\n",
       "<table border=\"1\" class=\"dataframe\">\n",
       "  <thead>\n",
       "    <tr style=\"text-align: right;\">\n",
       "      <th></th>\n",
       "      <th>author</th>\n",
       "      <th>rating</th>\n",
       "    </tr>\n",
       "  </thead>\n",
       "  <tbody>\n",
       "    <tr>\n",
       "      <th>0</th>\n",
       "      <td>Adrienne Rich</td>\n",
       "      <td>4.276667</td>\n",
       "    </tr>\n",
       "    <tr>\n",
       "      <th>1</th>\n",
       "      <td>E.F. Benson</td>\n",
       "      <td>4.276667</td>\n",
       "    </tr>\n",
       "    <tr>\n",
       "      <th>2</th>\n",
       "      <td>Lexie Xu</td>\n",
       "      <td>4.276667</td>\n",
       "    </tr>\n",
       "    <tr>\n",
       "      <th>3</th>\n",
       "      <td>Anna Zaires</td>\n",
       "      <td>4.276667</td>\n",
       "    </tr>\n",
       "    <tr>\n",
       "      <th>4</th>\n",
       "      <td>Mandi Beck</td>\n",
       "      <td>4.276667</td>\n",
       "    </tr>\n",
       "    <tr>\n",
       "      <th>5</th>\n",
       "      <td>Arnold Lobel</td>\n",
       "      <td>4.276667</td>\n",
       "    </tr>\n",
       "    <tr>\n",
       "      <th>6</th>\n",
       "      <td>Lois Walfrid Johnson</td>\n",
       "      <td>4.276667</td>\n",
       "    </tr>\n",
       "    <tr>\n",
       "      <th>7</th>\n",
       "      <td>Amy Clipston</td>\n",
       "      <td>4.276667</td>\n",
       "    </tr>\n",
       "    <tr>\n",
       "      <th>8</th>\n",
       "      <td>J.M. Darhower</td>\n",
       "      <td>4.276000</td>\n",
       "    </tr>\n",
       "    <tr>\n",
       "      <th>9</th>\n",
       "      <td>Mike Mignola</td>\n",
       "      <td>4.276000</td>\n",
       "    </tr>\n",
       "    <tr>\n",
       "      <th>10</th>\n",
       "      <td>Miasha</td>\n",
       "      <td>4.275714</td>\n",
       "    </tr>\n",
       "    <tr>\n",
       "      <th>11</th>\n",
       "      <td>Jon J. Muth</td>\n",
       "      <td>4.275000</td>\n",
       "    </tr>\n",
       "    <tr>\n",
       "      <th>12</th>\n",
       "      <td>V.D. Savarkar</td>\n",
       "      <td>4.275000</td>\n",
       "    </tr>\n",
       "    <tr>\n",
       "      <th>13</th>\n",
       "      <td>E.J. Mellow</td>\n",
       "      <td>4.275000</td>\n",
       "    </tr>\n",
       "    <tr>\n",
       "      <th>14</th>\n",
       "      <td>Juan Díaz Canales</td>\n",
       "      <td>4.275000</td>\n",
       "    </tr>\n",
       "    <tr>\n",
       "      <th>15</th>\n",
       "      <td>Wallace D. Wattles</td>\n",
       "      <td>4.275000</td>\n",
       "    </tr>\n",
       "    <tr>\n",
       "      <th>16</th>\n",
       "      <td>Shinobu Kaitani</td>\n",
       "      <td>4.275000</td>\n",
       "    </tr>\n",
       "    <tr>\n",
       "      <th>17</th>\n",
       "      <td>Bisco Hatori</td>\n",
       "      <td>4.275000</td>\n",
       "    </tr>\n",
       "    <tr>\n",
       "      <th>18</th>\n",
       "      <td>Mahmoud Darwish</td>\n",
       "      <td>4.275000</td>\n",
       "    </tr>\n",
       "    <tr>\n",
       "      <th>19</th>\n",
       "      <td>Elena Garro</td>\n",
       "      <td>4.275000</td>\n",
       "    </tr>\n",
       "    <tr>\n",
       "      <th>20</th>\n",
       "      <td>Matthew Van Fleet</td>\n",
       "      <td>4.275000</td>\n",
       "    </tr>\n",
       "    <tr>\n",
       "      <th>21</th>\n",
       "      <td>Dale Cramer</td>\n",
       "      <td>4.275000</td>\n",
       "    </tr>\n",
       "    <tr>\n",
       "      <th>22</th>\n",
       "      <td>Gilbert Hernández</td>\n",
       "      <td>4.275000</td>\n",
       "    </tr>\n",
       "    <tr>\n",
       "      <th>23</th>\n",
       "      <td>Krishna-Dwaipayana Vyasa</td>\n",
       "      <td>4.275000</td>\n",
       "    </tr>\n",
       "    <tr>\n",
       "      <th>24</th>\n",
       "      <td>Luis Buñuel</td>\n",
       "      <td>4.275000</td>\n",
       "    </tr>\n",
       "    <tr>\n",
       "      <th>25</th>\n",
       "      <td>Kyle Idleman</td>\n",
       "      <td>4.275000</td>\n",
       "    </tr>\n",
       "    <tr>\n",
       "      <th>26</th>\n",
       "      <td>Eric Wilson</td>\n",
       "      <td>4.275000</td>\n",
       "    </tr>\n",
       "    <tr>\n",
       "      <th>27</th>\n",
       "      <td>Michelle Sutton</td>\n",
       "      <td>4.275000</td>\n",
       "    </tr>\n",
       "    <tr>\n",
       "      <th>28</th>\n",
       "      <td>Angelina J. Steffort</td>\n",
       "      <td>4.274000</td>\n",
       "    </tr>\n",
       "    <tr>\n",
       "      <th>29</th>\n",
       "      <td>Jillian Dodd</td>\n",
       "      <td>4.274000</td>\n",
       "    </tr>\n",
       "  </tbody>\n",
       "</table>\n",
       "</div>"
      ],
      "text/plain": [
       "                      author    rating\n",
       "0              Adrienne Rich  4.276667\n",
       "1                E.F. Benson  4.276667\n",
       "2                   Lexie Xu  4.276667\n",
       "3                Anna Zaires  4.276667\n",
       "4                 Mandi Beck  4.276667\n",
       "5               Arnold Lobel  4.276667\n",
       "6       Lois Walfrid Johnson  4.276667\n",
       "7               Amy Clipston  4.276667\n",
       "8              J.M. Darhower  4.276000\n",
       "9               Mike Mignola  4.276000\n",
       "10                    Miasha  4.275714\n",
       "11               Jon J. Muth  4.275000\n",
       "12             V.D. Savarkar  4.275000\n",
       "13               E.J. Mellow  4.275000\n",
       "14         Juan Díaz Canales  4.275000\n",
       "15        Wallace D. Wattles  4.275000\n",
       "16           Shinobu Kaitani  4.275000\n",
       "17              Bisco Hatori  4.275000\n",
       "18           Mahmoud Darwish  4.275000\n",
       "19               Elena Garro  4.275000\n",
       "20         Matthew Van Fleet  4.275000\n",
       "21               Dale Cramer  4.275000\n",
       "22         Gilbert Hernández  4.275000\n",
       "23  Krishna-Dwaipayana Vyasa  4.275000\n",
       "24               Luis Buñuel  4.275000\n",
       "25              Kyle Idleman  4.275000\n",
       "26               Eric Wilson  4.275000\n",
       "27           Michelle Sutton  4.275000\n",
       "28      Angelina J. Steffort  4.274000\n",
       "29              Jillian Dodd  4.274000"
      ]
     },
     "execution_count": 23,
     "metadata": {},
     "output_type": "execute_result"
    }
   ],
   "source": [
    "# Reducing number of unique authors: TOP 1001-10.000\n",
    "\n",
    "# Count the number of books for each author\n",
    "author_counts = gr_data['author'].value_counts()\n",
    "\n",
    "# Filter the resulting series to only include authors with a count greater than 1\n",
    "filtered_authors = author_counts[author_counts > 1].index\n",
    "\n",
    "# Filter the original dataframe to only include titles with authors in the filtered series\n",
    "filtered_gr_data = gr_data[gr_data['author'].isin(filtered_authors)]\n",
    "\n",
    "# Group by author and calculate the mean rating for each author\n",
    "author_avg_rating = filtered_gr_data.groupby('author')['rating'].mean()\n",
    "\n",
    "# Sort the resulting series in descending order based on the average rating and select the top 1001 to 10000 authors\n",
    "top_1001_to_10000_most_rated_authors = author_avg_rating.sort_values(ascending=False).iloc[1000:10000]\n",
    "\n",
    "# Convert the resulting series to a dataframe and reset the index\n",
    "top_1001_to_10000_most_rated_authors_df = top_1001_to_10000_most_rated_authors.to_frame().reset_index()\n",
    "\n",
    "display(len(top_1001_to_10000_most_rated_authors_df))\n",
    "\n",
    "top_1001_to_10000_most_rated_authors_df.head(30)\n"
   ]
  },
  {
   "cell_type": "code",
   "execution_count": 24,
   "id": "ccd4c3ef",
   "metadata": {},
   "outputs": [
    {
     "data": {
      "text/plain": [
       "14540"
      ]
     },
     "metadata": {},
     "output_type": "display_data"
    },
    {
     "data": {
      "text/html": [
       "<div>\n",
       "<style scoped>\n",
       "    .dataframe tbody tr th:only-of-type {\n",
       "        vertical-align: middle;\n",
       "    }\n",
       "\n",
       "    .dataframe tbody tr th {\n",
       "        vertical-align: top;\n",
       "    }\n",
       "\n",
       "    .dataframe thead th {\n",
       "        text-align: right;\n",
       "    }\n",
       "</style>\n",
       "<table border=\"1\" class=\"dataframe\">\n",
       "  <thead>\n",
       "    <tr style=\"text-align: right;\">\n",
       "      <th></th>\n",
       "      <th>author</th>\n",
       "      <th>rating</th>\n",
       "    </tr>\n",
       "  </thead>\n",
       "  <tbody>\n",
       "    <tr>\n",
       "      <th>0</th>\n",
       "      <td>50 Cent</td>\n",
       "      <td>4.15</td>\n",
       "    </tr>\n",
       "    <tr>\n",
       "      <th>1</th>\n",
       "      <td>A. Bates</td>\n",
       "      <td>3.54</td>\n",
       "    </tr>\n",
       "    <tr>\n",
       "      <th>2</th>\n",
       "      <td>A. Cort Sinnes</td>\n",
       "      <td>4.50</td>\n",
       "    </tr>\n",
       "    <tr>\n",
       "      <th>3</th>\n",
       "      <td>A. Helwa</td>\n",
       "      <td>4.63</td>\n",
       "    </tr>\n",
       "    <tr>\n",
       "      <th>4</th>\n",
       "      <td>A. Merritt</td>\n",
       "      <td>3.33</td>\n",
       "    </tr>\n",
       "    <tr>\n",
       "      <th>5</th>\n",
       "      <td>A. Roger Ekirch</td>\n",
       "      <td>3.68</td>\n",
       "    </tr>\n",
       "    <tr>\n",
       "      <th>6</th>\n",
       "      <td>A. Scott Berg</td>\n",
       "      <td>4.00</td>\n",
       "    </tr>\n",
       "    <tr>\n",
       "      <th>7</th>\n",
       "      <td>A. Teeuw</td>\n",
       "      <td>4.06</td>\n",
       "    </tr>\n",
       "    <tr>\n",
       "      <th>8</th>\n",
       "      <td>A. Ubaidillah Alias</td>\n",
       "      <td>3.94</td>\n",
       "    </tr>\n",
       "    <tr>\n",
       "      <th>9</th>\n",
       "      <td>A. White</td>\n",
       "      <td>4.93</td>\n",
       "    </tr>\n",
       "    <tr>\n",
       "      <th>10</th>\n",
       "      <td>A.C. Bhaktivedanta Swami Prabhupāda</td>\n",
       "      <td>4.54</td>\n",
       "    </tr>\n",
       "    <tr>\n",
       "      <th>11</th>\n",
       "      <td>A.C. Weisbecker</td>\n",
       "      <td>3.88</td>\n",
       "    </tr>\n",
       "    <tr>\n",
       "      <th>12</th>\n",
       "      <td>A.C.H. Smith</td>\n",
       "      <td>4.20</td>\n",
       "    </tr>\n",
       "    <tr>\n",
       "      <th>13</th>\n",
       "      <td>A.D. Bloom</td>\n",
       "      <td>3.87</td>\n",
       "    </tr>\n",
       "    <tr>\n",
       "      <th>14</th>\n",
       "      <td>A.D. Truax</td>\n",
       "      <td>4.02</td>\n",
       "    </tr>\n",
       "    <tr>\n",
       "      <th>15</th>\n",
       "      <td>A.D.T. McLellan</td>\n",
       "      <td>4.51</td>\n",
       "    </tr>\n",
       "    <tr>\n",
       "      <th>16</th>\n",
       "      <td>A.F. Harrold</td>\n",
       "      <td>4.03</td>\n",
       "    </tr>\n",
       "    <tr>\n",
       "      <th>17</th>\n",
       "      <td>A.F. Knott</td>\n",
       "      <td>4.50</td>\n",
       "    </tr>\n",
       "    <tr>\n",
       "      <th>18</th>\n",
       "      <td>A.G. Cairns-Smith</td>\n",
       "      <td>4.02</td>\n",
       "    </tr>\n",
       "    <tr>\n",
       "      <th>19</th>\n",
       "      <td>A.G. Mogan</td>\n",
       "      <td>4.25</td>\n",
       "    </tr>\n",
       "    <tr>\n",
       "      <th>20</th>\n",
       "      <td>A.G. Roemmers</td>\n",
       "      <td>3.38</td>\n",
       "    </tr>\n",
       "    <tr>\n",
       "      <th>21</th>\n",
       "      <td>A.H. Anquetil-Duperron</td>\n",
       "      <td>5.00</td>\n",
       "    </tr>\n",
       "    <tr>\n",
       "      <th>22</th>\n",
       "      <td>A.J. Betts</td>\n",
       "      <td>3.68</td>\n",
       "    </tr>\n",
       "    <tr>\n",
       "      <th>23</th>\n",
       "      <td>A.J. Finn</td>\n",
       "      <td>3.94</td>\n",
       "    </tr>\n",
       "    <tr>\n",
       "      <th>24</th>\n",
       "      <td>A.J. Forrest</td>\n",
       "      <td>4.00</td>\n",
       "    </tr>\n",
       "    <tr>\n",
       "      <th>25</th>\n",
       "      <td>A.J. Hackwith</td>\n",
       "      <td>3.85</td>\n",
       "    </tr>\n",
       "    <tr>\n",
       "      <th>26</th>\n",
       "      <td>A.J. Jacobs</td>\n",
       "      <td>3.75</td>\n",
       "    </tr>\n",
       "    <tr>\n",
       "      <th>27</th>\n",
       "      <td>A.J. Kazinski</td>\n",
       "      <td>3.53</td>\n",
       "    </tr>\n",
       "    <tr>\n",
       "      <th>28</th>\n",
       "      <td>A.J. Mackinnon</td>\n",
       "      <td>4.26</td>\n",
       "    </tr>\n",
       "    <tr>\n",
       "      <th>29</th>\n",
       "      <td>A.J. Mendez Brooks</td>\n",
       "      <td>4.49</td>\n",
       "    </tr>\n",
       "  </tbody>\n",
       "</table>\n",
       "</div>"
      ],
      "text/plain": [
       "                                 author  rating\n",
       "0                               50 Cent    4.15\n",
       "1                              A. Bates    3.54\n",
       "2                        A. Cort Sinnes    4.50\n",
       "3                              A. Helwa    4.63\n",
       "4                            A. Merritt    3.33\n",
       "5                       A. Roger Ekirch    3.68\n",
       "6                         A. Scott Berg    4.00\n",
       "7                              A. Teeuw    4.06\n",
       "8                   A. Ubaidillah Alias    3.94\n",
       "9                              A. White    4.93\n",
       "10  A.C. Bhaktivedanta Swami Prabhupāda    4.54\n",
       "11                      A.C. Weisbecker    3.88\n",
       "12                         A.C.H. Smith    4.20\n",
       "13                           A.D. Bloom    3.87\n",
       "14                           A.D. Truax    4.02\n",
       "15                      A.D.T. McLellan    4.51\n",
       "16                         A.F. Harrold    4.03\n",
       "17                           A.F. Knott    4.50\n",
       "18                    A.G. Cairns-Smith    4.02\n",
       "19                           A.G. Mogan    4.25\n",
       "20                        A.G. Roemmers    3.38\n",
       "21               A.H. Anquetil-Duperron    5.00\n",
       "22                           A.J. Betts    3.68\n",
       "23                            A.J. Finn    3.94\n",
       "24                         A.J. Forrest    4.00\n",
       "25                        A.J. Hackwith    3.85\n",
       "26                          A.J. Jacobs    3.75\n",
       "27                        A.J. Kazinski    3.53\n",
       "28                       A.J. Mackinnon    4.26\n",
       "29                   A.J. Mendez Brooks    4.49"
      ]
     },
     "execution_count": 24,
     "metadata": {},
     "output_type": "execute_result"
    }
   ],
   "source": [
    "# Other authors\n",
    "\n",
    "# Count the number of books for each author\n",
    "author_counts = gr_data['author'].value_counts()\n",
    "\n",
    "# Filter the resulting series to only include authors with a count equal to 1\n",
    "single_authors = author_counts[author_counts == 1].index\n",
    "\n",
    "# Filter the original dataframe to only include titles with authors not in the top rated authors lists or with only 1 book\n",
    "general_authors_data = gr_data[~gr_data['author'].isin(top_1000_most_rated_authors.index) & ~gr_data['author'].isin(top_1000_most_rated_authors.index) & gr_data['author'].isin(single_authors)]\n",
    "#general_authors_data = gr_data[~gr_data['author'].isin(top_1000_most_rated_authors.index) & ~gr_data['author'].isin(top_1001_to_10000_most_rated_authors.index) & ~gr_data['author'].isin(author_counts[author_counts == 1].index)]\n",
    "\n",
    "# Group by author and calculate the mean rating for each author\n",
    "general_authors_avg_rating = general_authors_data.groupby('author')['rating'].mean()\n",
    "\n",
    "# Convert the resulting series to a dataframe and reset the index\n",
    "general_authors_avg_rating_df = general_authors_avg_rating.to_frame().reset_index()\n",
    "\n",
    "display(len(general_authors_avg_rating_df))\n",
    "\n",
    "general_authors_avg_rating_df.head(30)\n"
   ]
  },
  {
   "cell_type": "code",
   "execution_count": 25,
   "id": "4af26608",
   "metadata": {},
   "outputs": [
    {
     "name": "stdout",
     "output_type": "stream",
     "text": [
      "The number of unique authors in the three new dataframes is equal to the number of unique authors in the original gr_data dataframe.\n"
     ]
    }
   ],
   "source": [
    "# Check result\n",
    "\n",
    "# Count the number of unique authors in the original dataframe\n",
    "num_unique_authors = len(gr_data['author'].unique())\n",
    "\n",
    "# Count the number of unique authors in new authors dataframes\n",
    "num_top_1000_authors = len(top_1000_most_rated_authors_df)\n",
    "num_top_1001_to_10000_authors = len(top_1001_to_10000_most_rated_authors_df)\n",
    "num_general_authors = len(general_authors_avg_rating_df)\n",
    "\n",
    "# Check if the sum of the number of new dataframes is equal to unique authors in the original dataframe\n",
    "if num_top_1000_authors + num_top_1001_to_10000_authors + num_general_authors == num_unique_authors:\n",
    "    print(\"The number of unique authors in the three new dataframes is equal to the number of unique authors in the original gr_data dataframe.\")\n",
    "else:\n",
    "    print(\"The number of unique authors in the three new dataframes is not equal to the number of unique authors in the original gr_data dataframe.\")"
   ]
  },
  {
   "cell_type": "code",
   "execution_count": 26,
   "id": "a6cbdc54",
   "metadata": {},
   "outputs": [
    {
     "data": {
      "text/html": [
       "<div>\n",
       "<style scoped>\n",
       "    .dataframe tbody tr th:only-of-type {\n",
       "        vertical-align: middle;\n",
       "    }\n",
       "\n",
       "    .dataframe tbody tr th {\n",
       "        vertical-align: top;\n",
       "    }\n",
       "\n",
       "    .dataframe thead th {\n",
       "        text-align: right;\n",
       "    }\n",
       "</style>\n",
       "<table border=\"1\" class=\"dataframe\">\n",
       "  <thead>\n",
       "    <tr style=\"text-align: right;\">\n",
       "      <th></th>\n",
       "      <th>title</th>\n",
       "      <th>series</th>\n",
       "      <th>author</th>\n",
       "      <th>language</th>\n",
       "      <th>pages</th>\n",
       "      <th>book_format</th>\n",
       "      <th>publisher</th>\n",
       "    </tr>\n",
       "  </thead>\n",
       "  <tbody>\n",
       "    <tr>\n",
       "      <th>0</th>\n",
       "      <td>The Hunger Games</td>\n",
       "      <td>The Hunger Games</td>\n",
       "      <td>top_1001_to_10000_most_rated_authors</td>\n",
       "      <td>English</td>\n",
       "      <td>200-300</td>\n",
       "      <td>Hardcover</td>\n",
       "      <td>Top Publishers</td>\n",
       "    </tr>\n",
       "    <tr>\n",
       "      <th>1</th>\n",
       "      <td>Harry Potter and the Order of the Phoenix</td>\n",
       "      <td>Harry Potter</td>\n",
       "      <td>top_1000_most_rated_authors</td>\n",
       "      <td>English</td>\n",
       "      <td>700-800</td>\n",
       "      <td>Paperback</td>\n",
       "      <td>Top Publishers</td>\n",
       "    </tr>\n",
       "    <tr>\n",
       "      <th>2</th>\n",
       "      <td>To Kill a Mockingbird</td>\n",
       "      <td>To Kill a Mockingbird</td>\n",
       "      <td>top_1001_to_10000_most_rated_authors</td>\n",
       "      <td>English</td>\n",
       "      <td>200-300</td>\n",
       "      <td>Paperback</td>\n",
       "      <td>Top Publishers</td>\n",
       "    </tr>\n",
       "    <tr>\n",
       "      <th>3</th>\n",
       "      <td>Pride and Prejudice</td>\n",
       "      <td>Single Book</td>\n",
       "      <td>top_1001_to_10000_most_rated_authors</td>\n",
       "      <td>English</td>\n",
       "      <td>100-200</td>\n",
       "      <td>Paperback</td>\n",
       "      <td>Top Publishers</td>\n",
       "    </tr>\n",
       "    <tr>\n",
       "      <th>4</th>\n",
       "      <td>Twilight</td>\n",
       "      <td>The Twilight Saga</td>\n",
       "      <td>top_1001_to_10000_most_rated_authors</td>\n",
       "      <td>English</td>\n",
       "      <td>400-500</td>\n",
       "      <td>Paperback</td>\n",
       "      <td>Top Publishers</td>\n",
       "    </tr>\n",
       "    <tr>\n",
       "      <th>5</th>\n",
       "      <td>The Book Thief</td>\n",
       "      <td>Single Book</td>\n",
       "      <td>top_1001_to_10000_most_rated_authors</td>\n",
       "      <td>English</td>\n",
       "      <td>400-500</td>\n",
       "      <td>Hardcover</td>\n",
       "      <td>Top Publishers</td>\n",
       "    </tr>\n",
       "    <tr>\n",
       "      <th>6</th>\n",
       "      <td>Animal Farm</td>\n",
       "      <td>Single Book</td>\n",
       "      <td>top_1001_to_10000_most_rated_authors</td>\n",
       "      <td>English</td>\n",
       "      <td>&lt;100</td>\n",
       "      <td>Paperback</td>\n",
       "      <td>Top Publishers</td>\n",
       "    </tr>\n",
       "    <tr>\n",
       "      <th>7</th>\n",
       "      <td>The Chronicles of Narnia</td>\n",
       "      <td>Single Book</td>\n",
       "      <td>top_1001_to_10000_most_rated_authors</td>\n",
       "      <td>English</td>\n",
       "      <td>600-700</td>\n",
       "      <td>Paperback</td>\n",
       "      <td>Top Publishers</td>\n",
       "    </tr>\n",
       "    <tr>\n",
       "      <th>8</th>\n",
       "      <td>J.R.R. Tolkien 4-Book Boxed Set: The Hobbit an...</td>\n",
       "      <td>The Lord of the Rings-3</td>\n",
       "      <td>top_1001_to_10000_most_rated_authors</td>\n",
       "      <td>English</td>\n",
       "      <td>900-1000</td>\n",
       "      <td>Paperback</td>\n",
       "      <td>Top Publishers</td>\n",
       "    </tr>\n",
       "    <tr>\n",
       "      <th>9</th>\n",
       "      <td>Gone with the Wind</td>\n",
       "      <td>Single Book</td>\n",
       "      <td>top_1000_most_rated_authors</td>\n",
       "      <td>English</td>\n",
       "      <td>900-1000</td>\n",
       "      <td>Paperback</td>\n",
       "      <td>Top Publishers</td>\n",
       "    </tr>\n",
       "  </tbody>\n",
       "</table>\n",
       "</div>"
      ],
      "text/plain": [
       "                                               title                   series  \\\n",
       "0                                   The Hunger Games         The Hunger Games   \n",
       "1          Harry Potter and the Order of the Phoenix             Harry Potter   \n",
       "2                              To Kill a Mockingbird    To Kill a Mockingbird   \n",
       "3                                Pride and Prejudice              Single Book   \n",
       "4                                           Twilight        The Twilight Saga   \n",
       "5                                     The Book Thief              Single Book   \n",
       "6                                        Animal Farm              Single Book   \n",
       "7                           The Chronicles of Narnia              Single Book   \n",
       "8  J.R.R. Tolkien 4-Book Boxed Set: The Hobbit an...  The Lord of the Rings-3   \n",
       "9                                 Gone with the Wind              Single Book   \n",
       "\n",
       "                                 author language     pages book_format  \\\n",
       "0  top_1001_to_10000_most_rated_authors  English   200-300   Hardcover   \n",
       "1           top_1000_most_rated_authors  English   700-800   Paperback   \n",
       "2  top_1001_to_10000_most_rated_authors  English   200-300   Paperback   \n",
       "3  top_1001_to_10000_most_rated_authors  English   100-200   Paperback   \n",
       "4  top_1001_to_10000_most_rated_authors  English   400-500   Paperback   \n",
       "5  top_1001_to_10000_most_rated_authors  English   400-500   Hardcover   \n",
       "6  top_1001_to_10000_most_rated_authors  English      <100   Paperback   \n",
       "7  top_1001_to_10000_most_rated_authors  English   600-700   Paperback   \n",
       "8  top_1001_to_10000_most_rated_authors  English  900-1000   Paperback   \n",
       "9           top_1000_most_rated_authors  English  900-1000   Paperback   \n",
       "\n",
       "        publisher  \n",
       "0  Top Publishers  \n",
       "1  Top Publishers  \n",
       "2  Top Publishers  \n",
       "3  Top Publishers  \n",
       "4  Top Publishers  \n",
       "5  Top Publishers  \n",
       "6  Top Publishers  \n",
       "7  Top Publishers  \n",
       "8  Top Publishers  \n",
       "9  Top Publishers  "
      ]
     },
     "execution_count": 26,
     "metadata": {},
     "output_type": "execute_result"
    }
   ],
   "source": [
    "# Replace the author values in categorical['author'] with the appropriate category\n",
    "categorical['author'] = np.where(categorical['author'].isin(top_1000_most_rated_authors_df['author']), 'top_1000_most_rated_authors',\n",
    "                    np.where(categorical['author'].isin(top_1001_to_10000_most_rated_authors_df['author']), 'top_1001_to_10000_most_rated_authors',\n",
    "                    np.where(categorical['author'].isin(general_authors_avg_rating_df['author']), 'general_authors',\n",
    "                    categorical['author'])))\n",
    "\n",
    "categorical.head(10)"
   ]
  },
  {
   "cell_type": "code",
   "execution_count": 27,
   "id": "10106770",
   "metadata": {},
   "outputs": [
    {
     "data": {
      "text/plain": [
       "array(['top_1001_to_10000_most_rated_authors',\n",
       "       'top_1000_most_rated_authors', 'general_authors'], dtype=object)"
      ]
     },
     "execution_count": 27,
     "metadata": {},
     "output_type": "execute_result"
    }
   ],
   "source": [
    "categorical['author'].unique()"
   ]
  },
  {
   "cell_type": "markdown",
   "id": "bfe2caf3",
   "metadata": {},
   "source": [
    "Series"
   ]
  },
  {
   "cell_type": "code",
   "execution_count": 29,
   "id": "afde646f",
   "metadata": {},
   "outputs": [
    {
     "data": {
      "text/plain": [
       "4405"
      ]
     },
     "execution_count": 29,
     "metadata": {},
     "output_type": "execute_result"
    }
   ],
   "source": [
    "categorical['series'].nunique()"
   ]
  },
  {
   "cell_type": "markdown",
   "id": "e2d4ee7d",
   "metadata": {},
   "source": [
    "Same idea as before, this time grouping series into 'Top 500 rated series' and 'Other Series' and keeping 'Single Books' for those books not included in any literary saga. And again, criteria to bin them is according to the average 'rating' for each series."
   ]
  },
  {
   "cell_type": "code",
   "execution_count": 30,
   "id": "eb1e9752",
   "metadata": {},
   "outputs": [],
   "source": [
    "# Filter the original dataframe to only include titles that are not 'Single Book'\n",
    "series_data = gr_data[gr_data['series'] != 'Single Book']\n",
    "\n",
    "# Group by series and calculate the mean rating for each series\n",
    "series_avg_rating = series_data.groupby('series')['rating'].mean()\n",
    "\n",
    "# Sort the resulting series in descending order based on the average rating and select the top 500 series\n",
    "top_500_most_rated_series = series_avg_rating.sort_values(ascending=False).head(500)\n",
    "\n",
    "# Filter the original dataframe to only include titles with series not in the top rated series lists or with empty series\n",
    "other_series_data = series_data[~series_data['series'].isin(top_500_most_rated_series.index) & (series_data['series'] != '')]\n",
    "\n",
    "# Group by series and calculate the mean rating for each series\n",
    "other_series_avg_rating = other_series_data.groupby('series')['rating'].mean()\n",
    "\n",
    "# Convert the resulting series to a dataframe and reset the index\n",
    "top_500_most_rated_series_df = top_500_most_rated_series.to_frame().reset_index()\n",
    "other_series_avg_rating_df = other_series_avg_rating.to_frame().reset_index()\n"
   ]
  },
  {
   "cell_type": "code",
   "execution_count": 31,
   "id": "26948f25",
   "metadata": {},
   "outputs": [],
   "source": [
    "# Replace series values in categorical['series'] with the appropriate category\n",
    "categorical['series'] = np.where(categorical['series'] == 'Single Book', 'Single Book',\n",
    "                    np.where(categorical['series'].isin(top_500_most_rated_series_df['series']), 'Top 500 rated series',\n",
    "                    np.where(categorical['series'].isin(other_series_avg_rating_df['series']), 'Other series',\n",
    "                    categorical['series'])))\n"
   ]
  },
  {
   "cell_type": "code",
   "execution_count": 32,
   "id": "899c7ba5",
   "metadata": {},
   "outputs": [
    {
     "data": {
      "text/plain": [
       "array(['Other series', 'Top 500 rated series', 'Single Book'],\n",
       "      dtype=object)"
      ]
     },
     "execution_count": 32,
     "metadata": {},
     "output_type": "execute_result"
    }
   ],
   "source": [
    "categorical['series'].unique()"
   ]
  },
  {
   "cell_type": "markdown",
   "id": "51f3c3f5",
   "metadata": {},
   "source": [
    "Title"
   ]
  },
  {
   "cell_type": "code",
   "execution_count": 33,
   "id": "43d3c052",
   "metadata": {},
   "outputs": [
    {
     "data": {
      "text/plain": [
       "46328"
      ]
     },
     "execution_count": 33,
     "metadata": {},
     "output_type": "execute_result"
    }
   ],
   "source": [
    "categorical['title'].nunique()"
   ]
  },
  {
   "cell_type": "markdown",
   "id": "76060040",
   "metadata": {},
   "source": [
    "- As there are a lot of unique authors, I have decided to drop that column"
   ]
  },
  {
   "cell_type": "code",
   "execution_count": 34,
   "id": "9e31596e",
   "metadata": {},
   "outputs": [],
   "source": [
    "categorical = categorical.drop(['title'],axis=1)"
   ]
  },
  {
   "cell_type": "markdown",
   "id": "e75b03e3",
   "metadata": {},
   "source": [
    "Language"
   ]
  },
  {
   "cell_type": "code",
   "execution_count": 35,
   "id": "ecef172d",
   "metadata": {},
   "outputs": [
    {
     "data": {
      "text/plain": [
       "English                                  43415\n",
       "Arabic                                     894\n",
       "Spanish                                    632\n",
       "French                                     562\n",
       "German                                     501\n",
       "                                         ...  \n",
       "Iranian (Other)                              1\n",
       "Aromanian; Arumanian; Macedo-Romanian        1\n",
       "gu                                           1\n",
       "Faroese                                      1\n",
       "Afrikaans                                    1\n",
       "Name: language, Length: 92, dtype: int64"
      ]
     },
     "execution_count": 35,
     "metadata": {},
     "output_type": "execute_result"
    }
   ],
   "source": [
    "categorical['language'].value_counts()"
   ]
  },
  {
   "cell_type": "code",
   "execution_count": 36,
   "id": "ef9c9169",
   "metadata": {},
   "outputs": [
    {
     "data": {
      "text/plain": [
       "Index(['English', 'Arabic', 'Spanish', 'French', 'German'], dtype='object')"
      ]
     },
     "execution_count": 36,
     "metadata": {},
     "output_type": "execute_result"
    }
   ],
   "source": [
    "# Count the unique values in the 'language' column\n",
    "language_counts = categorical['language'].value_counts()\n",
    "\n",
    "# Top 5 most common languages\n",
    "top_languages = language_counts.index[:5]\n",
    "top_languages"
   ]
  },
  {
   "cell_type": "markdown",
   "id": "707f794a",
   "metadata": {},
   "source": [
    "All languages not included in top_languages are going to be grouped as 'Other languages'"
   ]
  },
  {
   "cell_type": "code",
   "execution_count": 37,
   "id": "34b4afe3",
   "metadata": {},
   "outputs": [],
   "source": [
    "# Replace all the other languages with 'Other languages'\n",
    "categorical.loc[~categorical['language'].isin(top_languages), 'language'] = 'Other languages'"
   ]
  },
  {
   "cell_type": "code",
   "execution_count": 39,
   "id": "e604cb34",
   "metadata": {},
   "outputs": [
    {
     "data": {
      "text/plain": [
       "array(['English', 'French', 'German', 'Other languages', 'Arabic',\n",
       "       'Spanish'], dtype=object)"
      ]
     },
     "execution_count": 39,
     "metadata": {},
     "output_type": "execute_result"
    }
   ],
   "source": [
    "categorical['language'].unique()"
   ]
  },
  {
   "cell_type": "code",
   "execution_count": 40,
   "id": "197cbf65",
   "metadata": {},
   "outputs": [
    {
     "data": {
      "text/plain": [
       "6"
      ]
     },
     "execution_count": 40,
     "metadata": {},
     "output_type": "execute_result"
    }
   ],
   "source": [
    "categorical['language'].nunique()"
   ]
  },
  {
   "cell_type": "code",
   "execution_count": 41,
   "id": "960326aa",
   "metadata": {},
   "outputs": [
    {
     "name": "stdout",
     "output_type": "stream",
     "text": [
      "Unique values for series: 3\n",
      "Unique values for author: 3\n",
      "Unique values for language: 6\n",
      "Unique values for pages: 12\n",
      "Unique values for book_format: 10\n",
      "Unique values for publisher: 4\n"
     ]
    }
   ],
   "source": [
    "# Unique values\n",
    "for col in categorical.columns:\n",
    "    print(f\"Unique values for {col}: {categorical[col].nunique()}\")"
   ]
  },
  {
   "cell_type": "markdown",
   "id": "8090c9fa",
   "metadata": {},
   "source": [
    "#### Concatenate numerical and categorical processed data"
   ]
  },
  {
   "cell_type": "code",
   "execution_count": 42,
   "id": "754a9f10",
   "metadata": {},
   "outputs": [],
   "source": [
    "gr_data_for_modelling = pd.concat([categorical,numerical],axis=1)"
   ]
  },
  {
   "cell_type": "code",
   "execution_count": 47,
   "id": "838d0e02",
   "metadata": {
    "scrolled": true
   },
   "outputs": [
    {
     "data": {
      "text/html": [
       "<div>\n",
       "<style scoped>\n",
       "    .dataframe tbody tr th:only-of-type {\n",
       "        vertical-align: middle;\n",
       "    }\n",
       "\n",
       "    .dataframe tbody tr th {\n",
       "        vertical-align: top;\n",
       "    }\n",
       "\n",
       "    .dataframe thead th {\n",
       "        text-align: right;\n",
       "    }\n",
       "</style>\n",
       "<table border=\"1\" class=\"dataframe\">\n",
       "  <thead>\n",
       "    <tr style=\"text-align: right;\">\n",
       "      <th></th>\n",
       "      <th>series</th>\n",
       "      <th>author</th>\n",
       "      <th>language</th>\n",
       "      <th>pages</th>\n",
       "      <th>book_format</th>\n",
       "      <th>publisher</th>\n",
       "      <th>publish_year</th>\n",
       "      <th>first_publish_year</th>\n",
       "      <th>liked_perc</th>\n",
       "      <th>bbe_score</th>\n",
       "      <th>...</th>\n",
       "      <th>West Australian Young Readers' Book Award (WAYRBA) for Older Readers</th>\n",
       "      <th>West Australian Young Readers' Book Award (WAYRBA) for Younger Readers</th>\n",
       "      <th>William Allen White Children's Book Award</th>\n",
       "      <th>William C. Morris YA Debut Award Nominee</th>\n",
       "      <th>Women's Prize for Fiction Nominee</th>\n",
       "      <th>Women's Prize for Fiction Nominee for Longlist</th>\n",
       "      <th>World Fantasy Award Nominee for Best Novel</th>\n",
       "      <th>World Fantasy Award for Best Novel</th>\n",
       "      <th>Zilveren Griffel</th>\n",
       "      <th>الجائزة العالمية للرواية العربية (أي باف) / International Prize for Arabic Fiction (IPAF) Nominee</th>\n",
       "    </tr>\n",
       "  </thead>\n",
       "  <tbody>\n",
       "    <tr>\n",
       "      <th>0</th>\n",
       "      <td>Other series</td>\n",
       "      <td>top_1001_to_10000_most_rated_authors</td>\n",
       "      <td>English</td>\n",
       "      <td>200-300</td>\n",
       "      <td>Hardcover</td>\n",
       "      <td>Top Publishers</td>\n",
       "      <td>2008</td>\n",
       "      <td>2008</td>\n",
       "      <td>96.0</td>\n",
       "      <td>6.476225</td>\n",
       "      <td>...</td>\n",
       "      <td>1</td>\n",
       "      <td>0</td>\n",
       "      <td>0</td>\n",
       "      <td>0</td>\n",
       "      <td>0</td>\n",
       "      <td>0</td>\n",
       "      <td>0</td>\n",
       "      <td>0</td>\n",
       "      <td>0</td>\n",
       "      <td>0</td>\n",
       "    </tr>\n",
       "    <tr>\n",
       "      <th>1</th>\n",
       "      <td>Top 500 rated series</td>\n",
       "      <td>top_1000_most_rated_authors</td>\n",
       "      <td>English</td>\n",
       "      <td>700-800</td>\n",
       "      <td>Paperback</td>\n",
       "      <td>Top Publishers</td>\n",
       "      <td>2004</td>\n",
       "      <td>2003</td>\n",
       "      <td>98.0</td>\n",
       "      <td>6.420324</td>\n",
       "      <td>...</td>\n",
       "      <td>0</td>\n",
       "      <td>0</td>\n",
       "      <td>0</td>\n",
       "      <td>0</td>\n",
       "      <td>0</td>\n",
       "      <td>0</td>\n",
       "      <td>0</td>\n",
       "      <td>0</td>\n",
       "      <td>0</td>\n",
       "      <td>0</td>\n",
       "    </tr>\n",
       "    <tr>\n",
       "      <th>2</th>\n",
       "      <td>Other series</td>\n",
       "      <td>top_1001_to_10000_most_rated_authors</td>\n",
       "      <td>English</td>\n",
       "      <td>200-300</td>\n",
       "      <td>Paperback</td>\n",
       "      <td>Top Publishers</td>\n",
       "      <td>2006</td>\n",
       "      <td>1960</td>\n",
       "      <td>95.0</td>\n",
       "      <td>6.355911</td>\n",
       "      <td>...</td>\n",
       "      <td>0</td>\n",
       "      <td>0</td>\n",
       "      <td>0</td>\n",
       "      <td>0</td>\n",
       "      <td>0</td>\n",
       "      <td>0</td>\n",
       "      <td>0</td>\n",
       "      <td>0</td>\n",
       "      <td>0</td>\n",
       "      <td>0</td>\n",
       "    </tr>\n",
       "  </tbody>\n",
       "</table>\n",
       "<p>3 rows × 852 columns</p>\n",
       "</div>"
      ],
      "text/plain": [
       "                 series                                author language  \\\n",
       "0          Other series  top_1001_to_10000_most_rated_authors  English   \n",
       "1  Top 500 rated series           top_1000_most_rated_authors  English   \n",
       "2          Other series  top_1001_to_10000_most_rated_authors  English   \n",
       "\n",
       "     pages book_format       publisher  publish_year  first_publish_year  \\\n",
       "0  200-300   Hardcover  Top Publishers          2008                2008   \n",
       "1  700-800   Paperback  Top Publishers          2004                2003   \n",
       "2  200-300   Paperback  Top Publishers          2006                1960   \n",
       "\n",
       "   liked_perc  bbe_score  ...  \\\n",
       "0        96.0   6.476225  ...   \n",
       "1        98.0   6.420324  ...   \n",
       "2        95.0   6.355911  ...   \n",
       "\n",
       "   West Australian Young Readers' Book Award (WAYRBA) for Older Readers   \\\n",
       "0                                                  1                       \n",
       "1                                                  0                       \n",
       "2                                                  0                       \n",
       "\n",
       "   West Australian Young Readers' Book Award (WAYRBA) for Younger Readers   \\\n",
       "0                                                  0                         \n",
       "1                                                  0                         \n",
       "2                                                  0                         \n",
       "\n",
       "   William Allen White Children's Book Award   \\\n",
       "0                                           0   \n",
       "1                                           0   \n",
       "2                                           0   \n",
       "\n",
       "   William C. Morris YA Debut Award Nominee   \\\n",
       "0                                          0   \n",
       "1                                          0   \n",
       "2                                          0   \n",
       "\n",
       "   Women's Prize for Fiction Nominee   \\\n",
       "0                                   0   \n",
       "1                                   0   \n",
       "2                                   0   \n",
       "\n",
       "   Women's Prize for Fiction Nominee for Longlist   \\\n",
       "0                                                0   \n",
       "1                                                0   \n",
       "2                                                0   \n",
       "\n",
       "   World Fantasy Award Nominee for Best Novel   \\\n",
       "0                                            0   \n",
       "1                                            0   \n",
       "2                                            0   \n",
       "\n",
       "   World Fantasy Award for Best Novel   Zilveren Griffel   \\\n",
       "0                                    0                  0   \n",
       "1                                    0                  0   \n",
       "2                                    0                  0   \n",
       "\n",
       "   الجائزة العالمية للرواية العربية (أي باف) / International Prize for Arabic Fiction (IPAF) Nominee   \n",
       "0                                                  0                                                   \n",
       "1                                                  0                                                   \n",
       "2                                                  0                                                   \n",
       "\n",
       "[3 rows x 852 columns]"
      ]
     },
     "metadata": {},
     "output_type": "display_data"
    },
    {
     "data": {
      "text/plain": [
       "(48655, 852)"
      ]
     },
     "metadata": {},
     "output_type": "display_data"
    }
   ],
   "source": [
    "display(gr_data_for_modelling.head(3),gr_data_for_modelling.shape)"
   ]
  },
  {
   "cell_type": "code",
   "execution_count": 45,
   "id": "8f2f5b7a",
   "metadata": {},
   "outputs": [
    {
     "data": {
      "text/plain": [
       "0"
      ]
     },
     "execution_count": 45,
     "metadata": {},
     "output_type": "execute_result"
    }
   ],
   "source": [
    "# NaN values\n",
    "gr_data_for_modelling.isna().sum().sum()"
   ]
  },
  {
   "cell_type": "code",
   "execution_count": 46,
   "id": "b834e582",
   "metadata": {},
   "outputs": [],
   "source": [
    "# Saving data processed for modelling\n",
    "gr_data_for_modelling.to_csv('./2. Clean_df/gr_data_MODELLING.csv')"
   ]
  },
  {
   "cell_type": "code",
   "execution_count": null,
   "id": "5ba0f4ca",
   "metadata": {},
   "outputs": [],
   "source": []
  },
  {
   "cell_type": "markdown",
   "id": "972ea6a8",
   "metadata": {},
   "source": [
    "## Linear Regression Model"
   ]
  },
  {
   "cell_type": "code",
   "execution_count": 335,
   "id": "e96cd575",
   "metadata": {},
   "outputs": [],
   "source": [
    "from sklearn.model_selection import train_test_split\n",
    "from sklearn.linear_model import LinearRegression\n",
    "from sklearn.preprocessing import StandardScaler\n",
    "from sklearn.compose import ColumnTransformer\n",
    "from sklearn.preprocessing import OneHotEncoder\n",
    "from sklearn.metrics import r2_score, mean_squared_error, mean_absolute_error\n",
    "\n",
    "#import scipy.stats as stats"
   ]
  },
  {
   "cell_type": "code",
   "execution_count": 336,
   "id": "e02148d3",
   "metadata": {},
   "outputs": [
    {
     "data": {
      "text/plain": [
       "(48655, 852)"
      ]
     },
     "execution_count": 336,
     "metadata": {},
     "output_type": "execute_result"
    }
   ],
   "source": [
    "gr_data = pd.read_csv('./2. Clean_df/gr_data_MODELLING.csv')\n",
    "gr_data = gr_data.drop(['Unnamed: 0'],axis=1)\n",
    "gr_data.shape"
   ]
  },
  {
   "cell_type": "code",
   "execution_count": 337,
   "id": "b17f6e43",
   "metadata": {
    "scrolled": true
   },
   "outputs": [
    {
     "data": {
      "text/html": [
       "<div>\n",
       "<style scoped>\n",
       "    .dataframe tbody tr th:only-of-type {\n",
       "        vertical-align: middle;\n",
       "    }\n",
       "\n",
       "    .dataframe tbody tr th {\n",
       "        vertical-align: top;\n",
       "    }\n",
       "\n",
       "    .dataframe thead th {\n",
       "        text-align: right;\n",
       "    }\n",
       "</style>\n",
       "<table border=\"1\" class=\"dataframe\">\n",
       "  <thead>\n",
       "    <tr style=\"text-align: right;\">\n",
       "      <th></th>\n",
       "      <th>series</th>\n",
       "      <th>author</th>\n",
       "      <th>language</th>\n",
       "      <th>pages</th>\n",
       "      <th>book_format</th>\n",
       "      <th>publisher</th>\n",
       "      <th>publish_year</th>\n",
       "      <th>first_publish_year</th>\n",
       "      <th>liked_perc</th>\n",
       "      <th>bbe_score</th>\n",
       "      <th>...</th>\n",
       "      <th>West Australian Young Readers' Book Award (WAYRBA) for Older Readers</th>\n",
       "      <th>West Australian Young Readers' Book Award (WAYRBA) for Younger Readers</th>\n",
       "      <th>William Allen White Children's Book Award</th>\n",
       "      <th>William C. Morris YA Debut Award Nominee</th>\n",
       "      <th>Women's Prize for Fiction Nominee</th>\n",
       "      <th>Women's Prize for Fiction Nominee for Longlist</th>\n",
       "      <th>World Fantasy Award Nominee for Best Novel</th>\n",
       "      <th>World Fantasy Award for Best Novel</th>\n",
       "      <th>Zilveren Griffel</th>\n",
       "      <th>الجائزة العالمية للرواية العربية (أي باف) / International Prize for Arabic Fiction (IPAF) Nominee</th>\n",
       "    </tr>\n",
       "  </thead>\n",
       "  <tbody>\n",
       "    <tr>\n",
       "      <th>0</th>\n",
       "      <td>Other series</td>\n",
       "      <td>top_1001_to_10000_most_rated_authors</td>\n",
       "      <td>English</td>\n",
       "      <td>200-300</td>\n",
       "      <td>Hardcover</td>\n",
       "      <td>Top Publishers</td>\n",
       "      <td>2008</td>\n",
       "      <td>2008</td>\n",
       "      <td>96.0</td>\n",
       "      <td>6.476225</td>\n",
       "      <td>...</td>\n",
       "      <td>1</td>\n",
       "      <td>0</td>\n",
       "      <td>0</td>\n",
       "      <td>0</td>\n",
       "      <td>0</td>\n",
       "      <td>0</td>\n",
       "      <td>0</td>\n",
       "      <td>0</td>\n",
       "      <td>0</td>\n",
       "      <td>0</td>\n",
       "    </tr>\n",
       "    <tr>\n",
       "      <th>1</th>\n",
       "      <td>Top 500 rated series</td>\n",
       "      <td>top_1000_most_rated_authors</td>\n",
       "      <td>English</td>\n",
       "      <td>700-800</td>\n",
       "      <td>Paperback</td>\n",
       "      <td>Top Publishers</td>\n",
       "      <td>2004</td>\n",
       "      <td>2003</td>\n",
       "      <td>98.0</td>\n",
       "      <td>6.420324</td>\n",
       "      <td>...</td>\n",
       "      <td>0</td>\n",
       "      <td>0</td>\n",
       "      <td>0</td>\n",
       "      <td>0</td>\n",
       "      <td>0</td>\n",
       "      <td>0</td>\n",
       "      <td>0</td>\n",
       "      <td>0</td>\n",
       "      <td>0</td>\n",
       "      <td>0</td>\n",
       "    </tr>\n",
       "    <tr>\n",
       "      <th>2</th>\n",
       "      <td>Other series</td>\n",
       "      <td>top_1001_to_10000_most_rated_authors</td>\n",
       "      <td>English</td>\n",
       "      <td>200-300</td>\n",
       "      <td>Paperback</td>\n",
       "      <td>Top Publishers</td>\n",
       "      <td>2006</td>\n",
       "      <td>1960</td>\n",
       "      <td>95.0</td>\n",
       "      <td>6.355911</td>\n",
       "      <td>...</td>\n",
       "      <td>0</td>\n",
       "      <td>0</td>\n",
       "      <td>0</td>\n",
       "      <td>0</td>\n",
       "      <td>0</td>\n",
       "      <td>0</td>\n",
       "      <td>0</td>\n",
       "      <td>0</td>\n",
       "      <td>0</td>\n",
       "      <td>0</td>\n",
       "    </tr>\n",
       "    <tr>\n",
       "      <th>3</th>\n",
       "      <td>Single Book</td>\n",
       "      <td>top_1001_to_10000_most_rated_authors</td>\n",
       "      <td>English</td>\n",
       "      <td>100-200</td>\n",
       "      <td>Paperback</td>\n",
       "      <td>Top Publishers</td>\n",
       "      <td>2000</td>\n",
       "      <td>2013</td>\n",
       "      <td>94.0</td>\n",
       "      <td>6.297348</td>\n",
       "      <td>...</td>\n",
       "      <td>0</td>\n",
       "      <td>0</td>\n",
       "      <td>0</td>\n",
       "      <td>0</td>\n",
       "      <td>0</td>\n",
       "      <td>0</td>\n",
       "      <td>0</td>\n",
       "      <td>0</td>\n",
       "      <td>0</td>\n",
       "      <td>0</td>\n",
       "    </tr>\n",
       "    <tr>\n",
       "      <th>4</th>\n",
       "      <td>Other series</td>\n",
       "      <td>top_1001_to_10000_most_rated_authors</td>\n",
       "      <td>English</td>\n",
       "      <td>400-500</td>\n",
       "      <td>Paperback</td>\n",
       "      <td>Top Publishers</td>\n",
       "      <td>2006</td>\n",
       "      <td>2005</td>\n",
       "      <td>78.0</td>\n",
       "      <td>6.164189</td>\n",
       "      <td>...</td>\n",
       "      <td>1</td>\n",
       "      <td>0</td>\n",
       "      <td>0</td>\n",
       "      <td>0</td>\n",
       "      <td>0</td>\n",
       "      <td>0</td>\n",
       "      <td>0</td>\n",
       "      <td>0</td>\n",
       "      <td>0</td>\n",
       "      <td>0</td>\n",
       "    </tr>\n",
       "  </tbody>\n",
       "</table>\n",
       "<p>5 rows × 852 columns</p>\n",
       "</div>"
      ],
      "text/plain": [
       "                 series                                author language  \\\n",
       "0          Other series  top_1001_to_10000_most_rated_authors  English   \n",
       "1  Top 500 rated series           top_1000_most_rated_authors  English   \n",
       "2          Other series  top_1001_to_10000_most_rated_authors  English   \n",
       "3           Single Book  top_1001_to_10000_most_rated_authors  English   \n",
       "4          Other series  top_1001_to_10000_most_rated_authors  English   \n",
       "\n",
       "     pages book_format       publisher  publish_year  first_publish_year  \\\n",
       "0  200-300   Hardcover  Top Publishers          2008                2008   \n",
       "1  700-800   Paperback  Top Publishers          2004                2003   \n",
       "2  200-300   Paperback  Top Publishers          2006                1960   \n",
       "3  100-200   Paperback  Top Publishers          2000                2013   \n",
       "4  400-500   Paperback  Top Publishers          2006                2005   \n",
       "\n",
       "   liked_perc  bbe_score  ...  \\\n",
       "0        96.0   6.476225  ...   \n",
       "1        98.0   6.420324  ...   \n",
       "2        95.0   6.355911  ...   \n",
       "3        94.0   6.297348  ...   \n",
       "4        78.0   6.164189  ...   \n",
       "\n",
       "   West Australian Young Readers' Book Award (WAYRBA) for Older Readers   \\\n",
       "0                                                  1                       \n",
       "1                                                  0                       \n",
       "2                                                  0                       \n",
       "3                                                  0                       \n",
       "4                                                  1                       \n",
       "\n",
       "   West Australian Young Readers' Book Award (WAYRBA) for Younger Readers   \\\n",
       "0                                                  0                         \n",
       "1                                                  0                         \n",
       "2                                                  0                         \n",
       "3                                                  0                         \n",
       "4                                                  0                         \n",
       "\n",
       "   William Allen White Children's Book Award   \\\n",
       "0                                           0   \n",
       "1                                           0   \n",
       "2                                           0   \n",
       "3                                           0   \n",
       "4                                           0   \n",
       "\n",
       "   William C. Morris YA Debut Award Nominee   \\\n",
       "0                                          0   \n",
       "1                                          0   \n",
       "2                                          0   \n",
       "3                                          0   \n",
       "4                                          0   \n",
       "\n",
       "   Women's Prize for Fiction Nominee   \\\n",
       "0                                   0   \n",
       "1                                   0   \n",
       "2                                   0   \n",
       "3                                   0   \n",
       "4                                   0   \n",
       "\n",
       "   Women's Prize for Fiction Nominee for Longlist   \\\n",
       "0                                                0   \n",
       "1                                                0   \n",
       "2                                                0   \n",
       "3                                                0   \n",
       "4                                                0   \n",
       "\n",
       "   World Fantasy Award Nominee for Best Novel   \\\n",
       "0                                            0   \n",
       "1                                            0   \n",
       "2                                            0   \n",
       "3                                            0   \n",
       "4                                            0   \n",
       "\n",
       "   World Fantasy Award for Best Novel   Zilveren Griffel   \\\n",
       "0                                    0                  0   \n",
       "1                                    0                  0   \n",
       "2                                    0                  0   \n",
       "3                                    0                  0   \n",
       "4                                    0                  0   \n",
       "\n",
       "   الجائزة العالمية للرواية العربية (أي باف) / International Prize for Arabic Fiction (IPAF) Nominee   \n",
       "0                                                  0                                                   \n",
       "1                                                  0                                                   \n",
       "2                                                  0                                                   \n",
       "3                                                  0                                                   \n",
       "4                                                  0                                                   \n",
       "\n",
       "[5 rows x 852 columns]"
      ]
     },
     "execution_count": 337,
     "metadata": {},
     "output_type": "execute_result"
    }
   ],
   "source": [
    "gr_data.head()"
   ]
  },
  {
   "cell_type": "markdown",
   "id": "a31c1e2f",
   "metadata": {},
   "source": [
    "#### X-y split"
   ]
  },
  {
   "cell_type": "code",
   "execution_count": 338,
   "id": "618b2fb8",
   "metadata": {},
   "outputs": [],
   "source": [
    "# Target = 'rating'\n",
    "y = gr_data['rating']\n",
    "X = gr_data.drop(['rating'],axis=1)"
   ]
  },
  {
   "cell_type": "markdown",
   "id": "7eca10ab",
   "metadata": {},
   "source": [
    "#### Train-Test Split"
   ]
  },
  {
   "cell_type": "code",
   "execution_count": 339,
   "id": "b87d4dcc",
   "metadata": {},
   "outputs": [],
   "source": [
    "X_train, X_test, y_train, y_test = train_test_split(X, y, test_size=0.2, random_state=77)"
   ]
  },
  {
   "cell_type": "code",
   "execution_count": 340,
   "id": "b784d6ca",
   "metadata": {},
   "outputs": [],
   "source": [
    "#### Split both Train and Test into numerical and categoricals"
   ]
  },
  {
   "cell_type": "code",
   "execution_count": 341,
   "id": "4a1a93be",
   "metadata": {},
   "outputs": [],
   "source": [
    "# X_train\n",
    "X_train_num = X_train.select_dtypes(include=np.number)\n",
    "X_train_cat = X_train.select_dtypes(include=['object'])\n",
    "\n",
    "# X_test\n",
    "X_test_num = X_test.select_dtypes(include=np.number)\n",
    "X_test_cat = X_test.select_dtypes(include=['object'])"
   ]
  },
  {
   "cell_type": "markdown",
   "id": "f69c1ef4",
   "metadata": {},
   "source": [
    "#### Numerical Transformations"
   ]
  },
  {
   "cell_type": "markdown",
   "id": "100c4e4d",
   "metadata": {},
   "source": [
    "- Fit only with numericals_train"
   ]
  },
  {
   "cell_type": "code",
   "execution_count": 342,
   "id": "6f14d578",
   "metadata": {},
   "outputs": [],
   "source": [
    "scaler = StandardScaler().fit(X_train_num)"
   ]
  },
  {
   "cell_type": "markdown",
   "id": "d5df83c8",
   "metadata": {},
   "source": [
    "- Transform both numericals_train and numericals_test"
   ]
  },
  {
   "cell_type": "code",
   "execution_count": 343,
   "id": "326d96cb",
   "metadata": {},
   "outputs": [],
   "source": [
    "X_train_num_scaled = scaler.transform(X_train_num)\n",
    "X_test_num_scaled = scaler.transform(X_test_num)"
   ]
  },
  {
   "cell_type": "code",
   "execution_count": 344,
   "id": "11ec866f",
   "metadata": {},
   "outputs": [],
   "source": [
    "# Convert X_train_num_scaled and X_test_num_scaled to dataframes\n",
    "X_train_num_scaled_df = pd.DataFrame(X_train_num_scaled, columns=X_train_num.columns)\n",
    "X_test_num_scaled_df = pd.DataFrame(X_test_num_scaled, columns=X_test_num.columns)"
   ]
  },
  {
   "cell_type": "markdown",
   "id": "4a55427f",
   "metadata": {},
   "source": [
    "#### Categorical Encoding"
   ]
  },
  {
   "cell_type": "markdown",
   "id": "65b7e38b",
   "metadata": {},
   "source": [
    "Fit only with categoricals_train"
   ]
  },
  {
   "cell_type": "code",
   "execution_count": 345,
   "id": "f74d9dcc",
   "metadata": {},
   "outputs": [],
   "source": [
    "encoder = OneHotEncoder().fit(X_train_cat)"
   ]
  },
  {
   "cell_type": "markdown",
   "id": "a1b11c99",
   "metadata": {},
   "source": [
    "Encode both categoricals_train and numericals_test"
   ]
  },
  {
   "cell_type": "code",
   "execution_count": 346,
   "id": "d89454d3",
   "metadata": {},
   "outputs": [],
   "source": [
    "X_train_cat_encoded = encoder.transform(X_train_cat)\n",
    "X_test_cat_encoded = encoder.transform(X_test_cat)"
   ]
  },
  {
   "cell_type": "code",
   "execution_count": 347,
   "id": "e6c11a67",
   "metadata": {},
   "outputs": [],
   "source": [
    "# Convert X_train_cat_encoded and X_test_cat_encoded to dataframes\n",
    "X_train_cat_encoded_df = pd.DataFrame(X_train_cat_encoded.toarray(), columns=encoder.get_feature_names_out())\n",
    "X_test_cat_encoded_df = pd.DataFrame(X_test_cat_encoded.toarray(), columns=encoder.get_feature_names_out())"
   ]
  },
  {
   "cell_type": "markdown",
   "id": "eccd96b7",
   "metadata": {},
   "source": [
    "#### Combine numericals_train and categoricals_train into train_processed"
   ]
  },
  {
   "cell_type": "code",
   "execution_count": 348,
   "id": "0d4338d8",
   "metadata": {},
   "outputs": [],
   "source": [
    "train_processed = pd.concat([X_train_num_scaled_df, X_train_cat_encoded_df], axis=1)"
   ]
  },
  {
   "cell_type": "markdown",
   "id": "85b7bf73",
   "metadata": {},
   "source": [
    "#### Combine numericals_test and categoricals_test into test_processed"
   ]
  },
  {
   "cell_type": "code",
   "execution_count": 349,
   "id": "5e5d65d5",
   "metadata": {},
   "outputs": [],
   "source": [
    "test_processed = pd.concat([X_test_num_scaled_df, X_test_cat_encoded_df], axis=1)"
   ]
  },
  {
   "cell_type": "markdown",
   "id": "d50c2121",
   "metadata": {},
   "source": [
    "#### Define Linear Regression Model"
   ]
  },
  {
   "cell_type": "markdown",
   "id": "9aa3981d",
   "metadata": {},
   "source": [
    "- Fit model on train_processed"
   ]
  },
  {
   "cell_type": "code",
   "execution_count": 350,
   "id": "9a828bd2",
   "metadata": {},
   "outputs": [],
   "source": [
    "lr = LinearRegression().fit(train_processed, y_train)"
   ]
  },
  {
   "cell_type": "code",
   "execution_count": 351,
   "id": "e66d5550",
   "metadata": {},
   "outputs": [
    {
     "name": "stdout",
     "output_type": "stream",
     "text": [
      "First 5 predictions on the training data: [3.7379303  4.15601349 3.7937088  4.09070587 3.90460968]\n",
      "\n",
      "R-squared score on the training data: 0.45\n",
      "Root mean squared error on the training data: 0.26\n",
      "Mean squared error on the training data: 0.07\n",
      "Mean absolute error on the training data: 0.16\n"
     ]
    }
   ],
   "source": [
    "# Predictions on training data\n",
    "y_train_pred = lr.predict(train_processed)\n",
    "\n",
    "print(\"First 5 predictions on the training data:\", y_train_pred[:5])\n",
    "\n",
    "# Evaluation metrics\n",
    "r2 = r2_score(y_train, y_train_pred)\n",
    "rmse = np.sqrt(mean_squared_error(y_train, y_train_pred))\n",
    "mse = mean_squared_error(y_train, y_train_pred)\n",
    "mae = mean_absolute_error(y_train, y_train_pred)\n",
    "\n",
    "print(\"\\nR-squared score on the training data:\", round(r2, 2))\n",
    "print(\"Root mean squared error on the training data:\", round(rmse, 2))\n",
    "print(\"Mean squared error on the training data:\", round(mse, 2))\n",
    "print(\"Mean absolute error on the training data:\", round(mae, 2))"
   ]
  },
  {
   "cell_type": "markdown",
   "id": "34475bb5",
   "metadata": {},
   "source": [
    "- Predictions on test_processed and scores"
   ]
  },
  {
   "cell_type": "code",
   "execution_count": 352,
   "id": "75f3be06",
   "metadata": {},
   "outputs": [
    {
     "name": "stdout",
     "output_type": "stream",
     "text": [
      "Actual data: 13219    4.05\n",
      "28726    4.00\n",
      "46900    3.86\n",
      "13985    4.51\n",
      "40148    4.10\n",
      "27223    3.97\n",
      "Name: rating, dtype: float64\n",
      "\n",
      "Predictions on the TEST data: [3.99914551 3.99900055 3.90647125 4.48347473 3.92236328 3.77119446]\n",
      "\n",
      "R-squared score on the test data: 0.42\n",
      "Root mean squared error on the test data: 0.27\n",
      "Mean squared error on the test data: 0.07\n",
      "Mean absolute error on the test data: 0.17\n"
     ]
    }
   ],
   "source": [
    "# Predictions on test data\n",
    "y_test_pred = lr.predict(test_processed)\n",
    "\n",
    "print(\"Actual data:\", y_test[:6])\n",
    "print(\"\\nPredictions on the TEST data:\", y_test_pred[:6])\n",
    "\n",
    "# Evaluation metrics on test data\n",
    "r2_test = r2_score(y_test, y_test_pred)\n",
    "rmse_test = np.sqrt(mean_squared_error(y_test, y_test_pred))\n",
    "mse_test = mean_squared_error(y_test, y_test_pred)\n",
    "mae_test = mean_absolute_error(y_test, y_test_pred)\n",
    "\n",
    "print(\"\\nR-squared score on the test data:\", round(r2_test, 2))\n",
    "print(\"Root mean squared error on the test data:\", round(rmse_test, 2))\n",
    "print(\"Mean squared error on the test data:\", round(mse_test, 2))\n",
    "print(\"Mean absolute error on the test data:\", round(mae_test, 2))"
   ]
  },
  {
   "cell_type": "markdown",
   "id": "dd0b9e95",
   "metadata": {},
   "source": [
    "The model is not performing well on the test data:\n",
    "\n",
    "An R-squared score of 0.42 indicates that the model explains 42% of the variance in the target variable, which is moderately good.\n",
    "\n",
    "The root mean squared error (RMSE) on the test data is 0.27, which means that on average, the model's predictions are off by 0.27 units from the actual values.\n",
    "\n",
    "The mean squared error (MSE) on the test data is 0.07, which is the average squared difference between the predicted and actual values.\n",
    "\n",
    "The mean absolute error (MAE) on the test data is 0.17, which is the average absolute difference between the predicted and actual values."
   ]
  },
  {
   "cell_type": "code",
   "execution_count": null,
   "id": "b38c212c",
   "metadata": {},
   "outputs": [],
   "source": []
  },
  {
   "cell_type": "code",
   "execution_count": null,
   "id": "97ccbe58",
   "metadata": {},
   "outputs": [],
   "source": []
  }
 ],
 "metadata": {
  "kernelspec": {
   "display_name": "Python 3 (ipykernel)",
   "language": "python",
   "name": "python3"
  },
  "language_info": {
   "codemirror_mode": {
    "name": "ipython",
    "version": 3
   },
   "file_extension": ".py",
   "mimetype": "text/x-python",
   "name": "python",
   "nbconvert_exporter": "python",
   "pygments_lexer": "ipython3",
   "version": "3.9.13"
  }
 },
 "nbformat": 4,
 "nbformat_minor": 5
}
