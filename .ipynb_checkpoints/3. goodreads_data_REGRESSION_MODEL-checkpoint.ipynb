{
 "cells": [
  {
   "cell_type": "markdown",
   "id": "24740cc2",
   "metadata": {},
   "source": [
    "## Predicting Book Ratings on GoodReads using Regression Models"
   ]
  },
  {
   "cell_type": "markdown",
   "id": "062220f2",
   "metadata": {},
   "source": [
    "The objective of this section is to develop a linear regression model to forecast the \"rating\" value of books from GoodReads.\n",
    "\n",
    "To achieve this goal, amongst other typical variables to rate literary books, I will use the \"genres\" and \"awards\" attributes, which were initially present in the dataset as strings embedded in individual lists. These two features contained up to 980 unique genres and 5831 unique awards.\n",
    "\n",
    "After extracting, transforming, and reducing them into numerical variables in previous steps, I expect them to be sufficiently related to the target and that will enhance the robustness of the model.\n",
    "\n",
    "The following steps will be undertaken in this process:\n",
    "\n",
    "- Import the cleaned dataframe.\n",
    "- Preprocess the variables to select and modify the appropriate ones for modeling.\n",
    "- Develop the linear regression model and evaluate the performance metrics.\n",
    "- Incorporate enhancements, if possible, such as using dimensionality reduction.\n",
    "- Compare the outcomes with those of another regression model, Random Forest Regressor."
   ]
  },
  {
   "cell_type": "code",
   "execution_count": 1,
   "id": "58d3aca4",
   "metadata": {},
   "outputs": [],
   "source": [
    "import pandas as pd\n",
    "import numpy as np\n",
    "import matplotlib.pyplot as plt\n",
    "#%matplotlib inline"
   ]
  },
  {
   "cell_type": "markdown",
   "id": "122f9aa9",
   "metadata": {},
   "source": [
    "### Import Dataframe"
   ]
  },
  {
   "cell_type": "markdown",
   "id": "bdbd042c",
   "metadata": {},
   "source": [
    "Importing clean dataframe\n",
    "- Cleaning and wrangling were done in \"1. goodreads_data_CLEANING_AND_WRANGLING.ipynb\""
   ]
  },
  {
   "cell_type": "code",
   "execution_count": 2,
   "id": "01df9567",
   "metadata": {},
   "outputs": [],
   "source": [
    "gr_data = pd.read_csv('./2. Clean_df/gr_data_CLEAN.csv')\n",
    "gr_data = gr_data.drop(['Unnamed: 0'],axis=1)"
   ]
  },
  {
   "cell_type": "code",
   "execution_count": 3,
   "id": "e836f677",
   "metadata": {},
   "outputs": [
    {
     "data": {
      "text/html": [
       "<div>\n",
       "<style scoped>\n",
       "    .dataframe tbody tr th:only-of-type {\n",
       "        vertical-align: middle;\n",
       "    }\n",
       "\n",
       "    .dataframe tbody tr th {\n",
       "        vertical-align: top;\n",
       "    }\n",
       "\n",
       "    .dataframe thead th {\n",
       "        text-align: right;\n",
       "    }\n",
       "</style>\n",
       "<table border=\"1\" class=\"dataframe\">\n",
       "  <thead>\n",
       "    <tr style=\"text-align: right;\">\n",
       "      <th></th>\n",
       "      <th>title</th>\n",
       "      <th>series</th>\n",
       "      <th>author</th>\n",
       "      <th>description</th>\n",
       "      <th>language</th>\n",
       "      <th>pages</th>\n",
       "      <th>isbn</th>\n",
       "      <th>book_format</th>\n",
       "      <th>publish_year</th>\n",
       "      <th>first_publish_year</th>\n",
       "      <th>...</th>\n",
       "      <th>West Australian Young Readers' Book Award (WAYRBA) for Older Readers</th>\n",
       "      <th>West Australian Young Readers' Book Award (WAYRBA) for Younger Readers</th>\n",
       "      <th>William Allen White Children's Book Award</th>\n",
       "      <th>William C. Morris YA Debut Award Nominee</th>\n",
       "      <th>Women's Prize for Fiction Nominee</th>\n",
       "      <th>Women's Prize for Fiction Nominee for Longlist</th>\n",
       "      <th>World Fantasy Award Nominee for Best Novel</th>\n",
       "      <th>World Fantasy Award for Best Novel</th>\n",
       "      <th>Zilveren Griffel</th>\n",
       "      <th>الجائزة العالمية للرواية العربية (أي باف) / International Prize for Arabic Fiction (IPAF) Nominee</th>\n",
       "    </tr>\n",
       "  </thead>\n",
       "  <tbody>\n",
       "    <tr>\n",
       "      <th>0</th>\n",
       "      <td>The Hunger Games</td>\n",
       "      <td>The Hunger Games</td>\n",
       "      <td>Suzanne Collins</td>\n",
       "      <td>WINNING MEANS FAME AND FORTUNE.LOSING MEANS CE...</td>\n",
       "      <td>English</td>\n",
       "      <td>200-300</td>\n",
       "      <td>9.78044E+12</td>\n",
       "      <td>Hardcover</td>\n",
       "      <td>2008</td>\n",
       "      <td>2008</td>\n",
       "      <td>...</td>\n",
       "      <td>1</td>\n",
       "      <td>0</td>\n",
       "      <td>0</td>\n",
       "      <td>0</td>\n",
       "      <td>0</td>\n",
       "      <td>0</td>\n",
       "      <td>0</td>\n",
       "      <td>0</td>\n",
       "      <td>0</td>\n",
       "      <td>0</td>\n",
       "    </tr>\n",
       "    <tr>\n",
       "      <th>1</th>\n",
       "      <td>Harry Potter and the Order of the Phoenix</td>\n",
       "      <td>Harry Potter</td>\n",
       "      <td>J.K. Rowling</td>\n",
       "      <td>There is a door at the end of a silent corrido...</td>\n",
       "      <td>English</td>\n",
       "      <td>700-800</td>\n",
       "      <td>9.78044E+12</td>\n",
       "      <td>Paperback</td>\n",
       "      <td>2004</td>\n",
       "      <td>2003</td>\n",
       "      <td>...</td>\n",
       "      <td>0</td>\n",
       "      <td>0</td>\n",
       "      <td>0</td>\n",
       "      <td>0</td>\n",
       "      <td>0</td>\n",
       "      <td>0</td>\n",
       "      <td>0</td>\n",
       "      <td>0</td>\n",
       "      <td>0</td>\n",
       "      <td>0</td>\n",
       "    </tr>\n",
       "    <tr>\n",
       "      <th>2</th>\n",
       "      <td>To Kill a Mockingbird</td>\n",
       "      <td>To Kill a Mockingbird</td>\n",
       "      <td>Harper Lee</td>\n",
       "      <td>The unforgettable novel of a childhood in a sl...</td>\n",
       "      <td>English</td>\n",
       "      <td>200-300</td>\n",
       "      <td>1E+13</td>\n",
       "      <td>Paperback</td>\n",
       "      <td>2006</td>\n",
       "      <td>1960</td>\n",
       "      <td>...</td>\n",
       "      <td>0</td>\n",
       "      <td>0</td>\n",
       "      <td>0</td>\n",
       "      <td>0</td>\n",
       "      <td>0</td>\n",
       "      <td>0</td>\n",
       "      <td>0</td>\n",
       "      <td>0</td>\n",
       "      <td>0</td>\n",
       "      <td>0</td>\n",
       "    </tr>\n",
       "    <tr>\n",
       "      <th>3</th>\n",
       "      <td>Pride and Prejudice</td>\n",
       "      <td>Single Book</td>\n",
       "      <td>Jane Austen</td>\n",
       "      <td>Alternate cover edition of ISBN 9780679783268S...</td>\n",
       "      <td>English</td>\n",
       "      <td>100-200</td>\n",
       "      <td>1E+13</td>\n",
       "      <td>Paperback</td>\n",
       "      <td>2000</td>\n",
       "      <td>2013</td>\n",
       "      <td>...</td>\n",
       "      <td>0</td>\n",
       "      <td>0</td>\n",
       "      <td>0</td>\n",
       "      <td>0</td>\n",
       "      <td>0</td>\n",
       "      <td>0</td>\n",
       "      <td>0</td>\n",
       "      <td>0</td>\n",
       "      <td>0</td>\n",
       "      <td>0</td>\n",
       "    </tr>\n",
       "    <tr>\n",
       "      <th>4</th>\n",
       "      <td>Twilight</td>\n",
       "      <td>The Twilight Saga</td>\n",
       "      <td>Stephenie Meyer</td>\n",
       "      <td>About three things I was absolutely positive.\\...</td>\n",
       "      <td>English</td>\n",
       "      <td>400-500</td>\n",
       "      <td>9.78032E+12</td>\n",
       "      <td>Paperback</td>\n",
       "      <td>2006</td>\n",
       "      <td>2005</td>\n",
       "      <td>...</td>\n",
       "      <td>1</td>\n",
       "      <td>0</td>\n",
       "      <td>0</td>\n",
       "      <td>0</td>\n",
       "      <td>0</td>\n",
       "      <td>0</td>\n",
       "      <td>0</td>\n",
       "      <td>0</td>\n",
       "      <td>0</td>\n",
       "      <td>0</td>\n",
       "    </tr>\n",
       "  </tbody>\n",
       "</table>\n",
       "<p>5 rows × 862 columns</p>\n",
       "</div>"
      ],
      "text/plain": [
       "                                       title                 series  \\\n",
       "0                           The Hunger Games       The Hunger Games   \n",
       "1  Harry Potter and the Order of the Phoenix           Harry Potter   \n",
       "2                      To Kill a Mockingbird  To Kill a Mockingbird   \n",
       "3                        Pride and Prejudice            Single Book   \n",
       "4                                   Twilight      The Twilight Saga   \n",
       "\n",
       "            author                                        description  \\\n",
       "0  Suzanne Collins  WINNING MEANS FAME AND FORTUNE.LOSING MEANS CE...   \n",
       "1     J.K. Rowling  There is a door at the end of a silent corrido...   \n",
       "2       Harper Lee  The unforgettable novel of a childhood in a sl...   \n",
       "3      Jane Austen  Alternate cover edition of ISBN 9780679783268S...   \n",
       "4  Stephenie Meyer  About three things I was absolutely positive.\\...   \n",
       "\n",
       "  language    pages         isbn book_format  publish_year  \\\n",
       "0  English  200-300  9.78044E+12   Hardcover          2008   \n",
       "1  English  700-800  9.78044E+12   Paperback          2004   \n",
       "2  English  200-300        1E+13   Paperback          2006   \n",
       "3  English  100-200        1E+13   Paperback          2000   \n",
       "4  English  400-500  9.78032E+12   Paperback          2006   \n",
       "\n",
       "   first_publish_year  ...  \\\n",
       "0                2008  ...   \n",
       "1                2003  ...   \n",
       "2                1960  ...   \n",
       "3                2013  ...   \n",
       "4                2005  ...   \n",
       "\n",
       "  West Australian Young Readers' Book Award (WAYRBA) for Older Readers   \\\n",
       "0                                                  1                      \n",
       "1                                                  0                      \n",
       "2                                                  0                      \n",
       "3                                                  0                      \n",
       "4                                                  1                      \n",
       "\n",
       "   West Australian Young Readers' Book Award (WAYRBA) for Younger Readers   \\\n",
       "0                                                  0                         \n",
       "1                                                  0                         \n",
       "2                                                  0                         \n",
       "3                                                  0                         \n",
       "4                                                  0                         \n",
       "\n",
       "   William Allen White Children's Book Award   \\\n",
       "0                                           0   \n",
       "1                                           0   \n",
       "2                                           0   \n",
       "3                                           0   \n",
       "4                                           0   \n",
       "\n",
       "   William C. Morris YA Debut Award Nominee   \\\n",
       "0                                          0   \n",
       "1                                          0   \n",
       "2                                          0   \n",
       "3                                          0   \n",
       "4                                          0   \n",
       "\n",
       "   Women's Prize for Fiction Nominee   \\\n",
       "0                                   0   \n",
       "1                                   0   \n",
       "2                                   0   \n",
       "3                                   0   \n",
       "4                                   0   \n",
       "\n",
       "   Women's Prize for Fiction Nominee for Longlist   \\\n",
       "0                                                0   \n",
       "1                                                0   \n",
       "2                                                0   \n",
       "3                                                0   \n",
       "4                                                0   \n",
       "\n",
       "   World Fantasy Award Nominee for Best Novel   \\\n",
       "0                                            0   \n",
       "1                                            0   \n",
       "2                                            0   \n",
       "3                                            0   \n",
       "4                                            0   \n",
       "\n",
       "   World Fantasy Award for Best Novel   Zilveren Griffel   \\\n",
       "0                                    0                  0   \n",
       "1                                    0                  0   \n",
       "2                                    0                  0   \n",
       "3                                    0                  0   \n",
       "4                                    0                  0   \n",
       "\n",
       "   الجائزة العالمية للرواية العربية (أي باف) / International Prize for Arabic Fiction (IPAF) Nominee   \n",
       "0                                                  0                                                   \n",
       "1                                                  0                                                   \n",
       "2                                                  0                                                   \n",
       "3                                                  0                                                   \n",
       "4                                                  0                                                   \n",
       "\n",
       "[5 rows x 862 columns]"
      ]
     },
     "metadata": {},
     "output_type": "display_data"
    },
    {
     "data": {
      "text/plain": [
       "(48655, 862)"
      ]
     },
     "metadata": {},
     "output_type": "display_data"
    }
   ],
   "source": [
    "display(gr_data.head(), gr_data.shape)"
   ]
  },
  {
   "cell_type": "markdown",
   "id": "47a66ef6",
   "metadata": {},
   "source": [
    "### Preprocessing data and features for modeling"
   ]
  },
  {
   "cell_type": "markdown",
   "id": "c781a6eb",
   "metadata": {},
   "source": [
    "#### Drop unnecesary columns"
   ]
  },
  {
   "cell_type": "code",
   "execution_count": 4,
   "id": "1df632d2",
   "metadata": {},
   "outputs": [],
   "source": [
    "gr_data= gr_data.drop(['isbn','description'],axis=1)"
   ]
  },
  {
   "cell_type": "code",
   "execution_count": 5,
   "id": "758dffe1",
   "metadata": {},
   "outputs": [
    {
     "data": {
      "text/plain": [
       "(48655, 860)"
      ]
     },
     "execution_count": 5,
     "metadata": {},
     "output_type": "execute_result"
    }
   ],
   "source": [
    "gr_data.shape"
   ]
  },
  {
   "cell_type": "markdown",
   "id": "33db57dc",
   "metadata": {},
   "source": [
    "#### NaN"
   ]
  },
  {
   "cell_type": "code",
   "execution_count": 6,
   "id": "5e2bbd60",
   "metadata": {},
   "outputs": [
    {
     "data": {
      "text/plain": [
       "0"
      ]
     },
     "execution_count": 6,
     "metadata": {},
     "output_type": "execute_result"
    }
   ],
   "source": [
    "gr_data.isna().sum().sum()"
   ]
  },
  {
   "cell_type": "markdown",
   "id": "11829a3a",
   "metadata": {},
   "source": [
    "#### Types"
   ]
  },
  {
   "cell_type": "code",
   "execution_count": 7,
   "id": "fce4c1e0",
   "metadata": {},
   "outputs": [
    {
     "data": {
      "text/plain": [
       "title                   object\n",
       "series                  object\n",
       "author                  object\n",
       "language                object\n",
       "pages                   object\n",
       "book_format             object\n",
       "publish_year             int64\n",
       "first_publish_year       int64\n",
       "publisher               object\n",
       "liked_perc             float64\n",
       "bbe_score              float64\n",
       "bbe_votes              float64\n",
       "log_num_ratings        float64\n",
       "5_stars_num_ratings      int64\n",
       "4_stars_num_ratings      int64\n",
       "3_stars_num_ratings      int64\n",
       "2_stars_num_ratings      int64\n",
       "1_star_num_ratings       int64\n",
       "dtype: object"
      ]
     },
     "execution_count": 7,
     "metadata": {},
     "output_type": "execute_result"
    }
   ],
   "source": [
    "gr_data.iloc[:, :18].dtypes"
   ]
  },
  {
   "cell_type": "code",
   "execution_count": 8,
   "id": "29f46d04",
   "metadata": {},
   "outputs": [
    {
     "name": "stdout",
     "output_type": "stream",
     "text": [
      "Numerical columns: 853\n",
      "Categorical columns: 7\n"
     ]
    }
   ],
   "source": [
    "numerical_columns = gr_data.select_dtypes(include=np.number).columns.tolist()\n",
    "print(f\"Numerical columns: {len(numerical_columns)}\")\n",
    "\n",
    "categorical_columns = gr_data.select_dtypes(include='object').columns.tolist()\n",
    "print(f\"Categorical columns: {len(categorical_columns)}\")"
   ]
  },
  {
   "cell_type": "markdown",
   "id": "7100aa9c",
   "metadata": {},
   "source": [
    "#### Dealing with type of 'genres' and 'awards' multiple columns.\n",
    "#### Converting to categorical"
   ]
  },
  {
   "cell_type": "markdown",
   "id": "44b90317",
   "metadata": {},
   "source": [
    "After extracting their names from their respective lists, I created two dataframes in which each unique genre and award was converted into a single column. If the original list for a book (row) contained that genre or award, the corresponding value in that record was assigned a 1; otherwise, it was assigned a 0.\n",
    "\n",
    "The only exceptions are the columns that hold aggregated numbers for the binned awards in 'Unique Award (1)', 'Uncommon Award (2,3)', 'Singular Award (4-8)', and 'Frequently Awarded Literary Prizes (9-15)'. In order to reduce the thousands of unique awards, I grouped them according to their frequency.\n",
    "\n",
    "Since the binned award columns should be treated as numerical data and the 1-0 column values as categorical, I will import those dataframes to generate a list with all those columns names (more than 800) and then assign the appropriate data types in the original dataframe.\n",
    "\n",
    "Kernels (in '0. Drafts' folder):\n",
    "\n",
    "- 1.1 goodreads_genres_REDUCTION.ipynb\n",
    "- 1.2 goodreads_genres_NEWDF.ipynb\n",
    "- 1.3 goodreads_awards_NEWDF.ipynb"
   ]
  },
  {
   "cell_type": "code",
   "execution_count": 9,
   "id": "71b99570",
   "metadata": {},
   "outputs": [],
   "source": [
    "# Importing dataframes\n",
    "award_df = pd.read_csv('./0. Drafts/award_df.csv')\n",
    "award_df = award_df.drop(['Unnamed: 0'],axis=1)\n",
    "award_df = award_df.drop(['index_gr_data'],axis=1)\n",
    "\n",
    "genres_df = pd.read_csv('./0. Drafts/genres_clean_dataset.csv')\n",
    "genres_df = genres_df.drop(['Unnamed: 0'],axis=1)\n",
    "genres_df = genres_df.drop(['index_gr_data'],axis=1)"
   ]
  },
  {
   "cell_type": "code",
   "execution_count": 10,
   "id": "61b602f1",
   "metadata": {},
   "outputs": [
    {
     "data": {
      "text/plain": [
       "609"
      ]
     },
     "execution_count": 10,
     "metadata": {},
     "output_type": "execute_result"
    }
   ],
   "source": [
    "# As all values in genre_df are 0 or 1, I'm appending them into binary_columns list\n",
    "binary_columns = [column for column in genres_df.columns]\n",
    "len(binary_columns)"
   ]
  },
  {
   "cell_type": "code",
   "execution_count": 11,
   "id": "c449b8fb",
   "metadata": {},
   "outputs": [],
   "source": [
    "# Extracting binary column names and appending to previous list.\n",
    "for column in award_df.columns:\n",
    "    unique_values = award_df[column].unique()\n",
    "    if set(unique_values) != set([0, 1]):\n",
    "        continue\n",
    "        #non_binary_columns.append(column)\n",
    "    elif set(unique_values) == set([0, 1]):\n",
    "        binary_columns.append(column)"
   ]
  },
  {
   "cell_type": "code",
   "execution_count": 12,
   "id": "af5d7c5b",
   "metadata": {},
   "outputs": [
    {
     "data": {
      "text/plain": [
       "844"
      ]
     },
     "execution_count": 12,
     "metadata": {},
     "output_type": "execute_result"
    }
   ],
   "source": [
    "# New length\n",
    "len(binary_columns)"
   ]
  },
  {
   "cell_type": "code",
   "execution_count": 13,
   "id": "31a0d5ee",
   "metadata": {},
   "outputs": [],
   "source": [
    "# Loop through columns names in gr_data; if listed in binary_columns converted to 'object' type\n",
    "for column in gr_data.columns:\n",
    "    if column in binary_columns:\n",
    "        gr_data[column] = gr_data[column].astype('object')"
   ]
  },
  {
   "cell_type": "code",
   "execution_count": 14,
   "id": "9d4527c5",
   "metadata": {},
   "outputs": [
    {
     "name": "stdout",
     "output_type": "stream",
     "text": [
      "Numerical columns: 16\n",
      "Categorical columns: 844\n"
     ]
    }
   ],
   "source": [
    "numerical_columns = gr_data.select_dtypes(include=np.number).columns.tolist()\n",
    "print(f\"Numerical columns: {len(numerical_columns)}\")\n",
    "\n",
    "categorical_columns = gr_data.select_dtypes(include='object').columns.tolist()\n",
    "print(f\"Categorical columns: {len(categorical_columns)}\")"
   ]
  },
  {
   "cell_type": "markdown",
   "id": "5e7aeb94",
   "metadata": {},
   "source": [
    "#### Numerical Data"
   ]
  },
  {
   "cell_type": "code",
   "execution_count": 15,
   "id": "9e24e5e8",
   "metadata": {},
   "outputs": [
    {
     "data": {
      "text/plain": [
       "(48655, 16)"
      ]
     },
     "execution_count": 15,
     "metadata": {},
     "output_type": "execute_result"
    }
   ],
   "source": [
    "numerical = gr_data.select_dtypes(include=np.number)\n",
    "numerical.shape\n",
    "#categorical = gr_data.select_dtypes(include=['object'])"
   ]
  },
  {
   "cell_type": "markdown",
   "id": "2280b3bc",
   "metadata": {},
   "source": [
    "- Correlation amongst features: correlation matrix"
   ]
  },
  {
   "cell_type": "code",
   "execution_count": 16,
   "id": "b12272a0",
   "metadata": {},
   "outputs": [],
   "source": [
    "# Correlation matrix for numerical values (854 columns)\n",
    "corr_matrix = numerical.corr()"
   ]
  },
  {
   "cell_type": "code",
   "execution_count": 18,
   "id": "063879d3",
   "metadata": {
    "scrolled": true
   },
   "outputs": [
    {
     "data": {
      "text/html": [
       "<div>\n",
       "<style scoped>\n",
       "    .dataframe tbody tr th:only-of-type {\n",
       "        vertical-align: middle;\n",
       "    }\n",
       "\n",
       "    .dataframe tbody tr th {\n",
       "        vertical-align: top;\n",
       "    }\n",
       "\n",
       "    .dataframe thead th {\n",
       "        text-align: right;\n",
       "    }\n",
       "</style>\n",
       "<table border=\"1\" class=\"dataframe\">\n",
       "  <thead>\n",
       "    <tr style=\"text-align: right;\">\n",
       "      <th></th>\n",
       "      <th>row name</th>\n",
       "      <th>col name</th>\n",
       "      <th>corr number</th>\n",
       "    </tr>\n",
       "  </thead>\n",
       "  <tbody>\n",
       "    <tr>\n",
       "      <th>11</th>\n",
       "      <td>3_stars_num_ratings</td>\n",
       "      <td>4_stars_num_ratings</td>\n",
       "      <td>0.957836</td>\n",
       "    </tr>\n",
       "    <tr>\n",
       "      <th>16</th>\n",
       "      <td>2_stars_num_ratings</td>\n",
       "      <td>3_stars_num_ratings</td>\n",
       "      <td>0.956072</td>\n",
       "    </tr>\n",
       "    <tr>\n",
       "      <th>0</th>\n",
       "      <td>bbe_score</td>\n",
       "      <td>bbe_votes</td>\n",
       "      <td>0.939596</td>\n",
       "    </tr>\n",
       "    <tr>\n",
       "      <th>21</th>\n",
       "      <td>1_star_num_ratings</td>\n",
       "      <td>2_stars_num_ratings</td>\n",
       "      <td>0.933824</td>\n",
       "    </tr>\n",
       "    <tr>\n",
       "      <th>6</th>\n",
       "      <td>4_stars_num_ratings</td>\n",
       "      <td>5_stars_num_ratings</td>\n",
       "      <td>0.931859</td>\n",
       "    </tr>\n",
       "    <tr>\n",
       "      <th>15</th>\n",
       "      <td>2_stars_num_ratings</td>\n",
       "      <td>4_stars_num_ratings</td>\n",
       "      <td>0.856281</td>\n",
       "    </tr>\n",
       "    <tr>\n",
       "      <th>10</th>\n",
       "      <td>3_stars_num_ratings</td>\n",
       "      <td>5_stars_num_ratings</td>\n",
       "      <td>0.831870</td>\n",
       "    </tr>\n",
       "    <tr>\n",
       "      <th>20</th>\n",
       "      <td>1_star_num_ratings</td>\n",
       "      <td>3_stars_num_ratings</td>\n",
       "      <td>0.820076</td>\n",
       "    </tr>\n",
       "    <tr>\n",
       "      <th>14</th>\n",
       "      <td>2_stars_num_ratings</td>\n",
       "      <td>5_stars_num_ratings</td>\n",
       "      <td>0.726403</td>\n",
       "    </tr>\n",
       "    <tr>\n",
       "      <th>19</th>\n",
       "      <td>1_star_num_ratings</td>\n",
       "      <td>4_stars_num_ratings</td>\n",
       "      <td>0.711987</td>\n",
       "    </tr>\n",
       "    <tr>\n",
       "      <th>18</th>\n",
       "      <td>1_star_num_ratings</td>\n",
       "      <td>5_stars_num_ratings</td>\n",
       "      <td>0.639672</td>\n",
       "    </tr>\n",
       "  </tbody>\n",
       "</table>\n",
       "</div>"
      ],
      "text/plain": [
       "               row name             col name  corr number\n",
       "11  3_stars_num_ratings  4_stars_num_ratings     0.957836\n",
       "16  2_stars_num_ratings  3_stars_num_ratings     0.956072\n",
       "0             bbe_score            bbe_votes     0.939596\n",
       "21   1_star_num_ratings  2_stars_num_ratings     0.933824\n",
       "6   4_stars_num_ratings  5_stars_num_ratings     0.931859\n",
       "15  2_stars_num_ratings  4_stars_num_ratings     0.856281\n",
       "10  3_stars_num_ratings  5_stars_num_ratings     0.831870\n",
       "20   1_star_num_ratings  3_stars_num_ratings     0.820076\n",
       "14  2_stars_num_ratings  5_stars_num_ratings     0.726403\n",
       "19   1_star_num_ratings  4_stars_num_ratings     0.711987\n",
       "18   1_star_num_ratings  5_stars_num_ratings     0.639672"
      ]
     },
     "metadata": {},
     "output_type": "display_data"
    },
    {
     "data": {
      "text/plain": [
       "11"
      ]
     },
     "metadata": {},
     "output_type": "display_data"
    }
   ],
   "source": [
    "# Indices of non-NaN values in the correlation matrix\n",
    "indices = [(row, col) for row in corr_matrix.index for col in corr_matrix.columns if not pd.isna(corr_matrix.loc[row, col])]\n",
    "\n",
    "# New df with the row and column's names, and correlation number\n",
    "df = pd.DataFrame([(idx[0], idx[1], corr_matrix.loc[idx]) for idx in indices if (corr_matrix.loc[idx] > 0.6 or corr_matrix.loc[idx] < -0.6) and idx[0] != idx[1]], columns=['row name', 'col name', 'corr number'])\n",
    "\n",
    "# Drop duplicate rows where row name is greater than col name (diagonal)\n",
    "df = df[df['row name'] < df['col name']]\n",
    "\n",
    "# Sort df by the correlation number in descending order\n",
    "df = df.sort_values(by='corr number', ascending=False)\n",
    "\n",
    "# Sorted df\n",
    "display(df, len(df))\n"
   ]
  },
  {
   "cell_type": "markdown",
   "id": "be4ae65b",
   "metadata": {},
   "source": [
    " - Check counts from paired highly-correlated variables to choose which one to eliminate"
   ]
  },
  {
   "cell_type": "code",
   "execution_count": 19,
   "id": "aa848682",
   "metadata": {},
   "outputs": [],
   "source": [
    "#display(numerical['Hugo Award for Best Novel '].value_counts(),numerical['hugo awards'].value_counts())"
   ]
  },
  {
   "cell_type": "code",
   "execution_count": 20,
   "id": "927103e5",
   "metadata": {},
   "outputs": [],
   "source": [
    "#display(numerical['love inspired'].value_counts(),numerical['love inspired historical'].value_counts())"
   ]
  },
  {
   "cell_type": "code",
   "execution_count": 21,
   "id": "67a4a25b",
   "metadata": {},
   "outputs": [],
   "source": [
    "# High correlated variables to drop\n",
    "high_correlated = ['2_stars_num_ratings','3_stars_num_ratings','4_stars_num_ratings',\n",
    "                   'bbe_votes']"
   ]
  },
  {
   "cell_type": "code",
   "execution_count": 22,
   "id": "0d1bc32f",
   "metadata": {},
   "outputs": [],
   "source": [
    "# High correlated variables to drop\n",
    "# high_correlated = ['2_stars_num_ratings','3_stars_num_ratings','4_stars_num_ratings',\n",
    "#                   'bbe_votes','hugo awards','booze','love inspired historical']"
   ]
  },
  {
   "cell_type": "code",
   "execution_count": 23,
   "id": "b669b25a",
   "metadata": {},
   "outputs": [
    {
     "data": {
      "text/plain": [
       "(48655, 16)"
      ]
     },
     "execution_count": 23,
     "metadata": {},
     "output_type": "execute_result"
    }
   ],
   "source": [
    "numerical.shape"
   ]
  },
  {
   "cell_type": "code",
   "execution_count": 24,
   "id": "2bbe0bfa",
   "metadata": {},
   "outputs": [
    {
     "data": {
      "text/plain": [
       "(48655, 12)"
      ]
     },
     "execution_count": 24,
     "metadata": {},
     "output_type": "execute_result"
    }
   ],
   "source": [
    "# Drop high correlated variables\n",
    "numerical = numerical.drop(high_correlated, axis=1)\n",
    "\n",
    "# New shape\n",
    "numerical.shape"
   ]
  },
  {
   "cell_type": "code",
   "execution_count": null,
   "id": "d71d4559",
   "metadata": {},
   "outputs": [],
   "source": []
  },
  {
   "cell_type": "markdown",
   "id": "81ebd3c4",
   "metadata": {},
   "source": [
    "#### Categorical Data"
   ]
  },
  {
   "cell_type": "code",
   "execution_count": 25,
   "id": "11cac4ad",
   "metadata": {},
   "outputs": [
    {
     "data": {
      "text/plain": [
       "(48655, 844)"
      ]
     },
     "execution_count": 25,
     "metadata": {},
     "output_type": "execute_result"
    }
   ],
   "source": [
    "categorical = gr_data.select_dtypes(include=['object'])\n",
    "categorical.shape"
   ]
  },
  {
   "cell_type": "code",
   "execution_count": 26,
   "id": "fa4635b4",
   "metadata": {},
   "outputs": [],
   "source": [
    "# Unique values\n",
    "#for col in categorical.columns:\n",
    "#    print(f\"Unique values for {col}: {categorical[col].nunique()}\")"
   ]
  },
  {
   "cell_type": "markdown",
   "id": "79d6190c",
   "metadata": {},
   "source": [
    "- Reducing unique values"
   ]
  },
  {
   "cell_type": "markdown",
   "id": "a2d338d2",
   "metadata": {},
   "source": [
    "Author"
   ]
  },
  {
   "cell_type": "code",
   "execution_count": 27,
   "id": "e93911a4",
   "metadata": {},
   "outputs": [
    {
     "data": {
      "text/plain": [
       "0        Suzanne Collins\n",
       "1           J.K. Rowling\n",
       "2             Harper Lee\n",
       "3            Jane Austen\n",
       "4        Stephenie Meyer\n",
       "              ...       \n",
       "48650      Sherry Gammon\n",
       "48651      Emma Michaels\n",
       "48652     Kim Richardson\n",
       "48653        Tom Pollack\n",
       "48654       Misty Moncur\n",
       "Name: author, Length: 48655, dtype: object"
      ]
     },
     "execution_count": 27,
     "metadata": {},
     "output_type": "execute_result"
    }
   ],
   "source": [
    "categorical['author']"
   ]
  },
  {
   "cell_type": "markdown",
   "id": "9b6b7af5",
   "metadata": {},
   "source": [
    "To categorize the authors, I will group them into 'Top 1000', 'Top 1001-10000', and 'General Authors'. This grouping will be based on the average 'rating' of authors who have published more than one book.\n",
    "\n",
    "To ensure a fair average, I will exclude authors who have only published one book and received a rating of 5 from the calculation.\""
   ]
  },
  {
   "cell_type": "code",
   "execution_count": 28,
   "id": "ee01ef31",
   "metadata": {},
   "outputs": [
    {
     "data": {
      "text/plain": [
       "1000"
      ]
     },
     "metadata": {},
     "output_type": "display_data"
    },
    {
     "data": {
      "text/html": [
       "<div>\n",
       "<style scoped>\n",
       "    .dataframe tbody tr th:only-of-type {\n",
       "        vertical-align: middle;\n",
       "    }\n",
       "\n",
       "    .dataframe tbody tr th {\n",
       "        vertical-align: top;\n",
       "    }\n",
       "\n",
       "    .dataframe thead th {\n",
       "        text-align: right;\n",
       "    }\n",
       "</style>\n",
       "<table border=\"1\" class=\"dataframe\">\n",
       "  <thead>\n",
       "    <tr style=\"text-align: right;\">\n",
       "      <th></th>\n",
       "      <th>author</th>\n",
       "      <th>rating</th>\n",
       "    </tr>\n",
       "  </thead>\n",
       "  <tbody>\n",
       "    <tr>\n",
       "      <th>0</th>\n",
       "      <td>James Goodman</td>\n",
       "      <td>5.00</td>\n",
       "    </tr>\n",
       "    <tr>\n",
       "      <th>1</th>\n",
       "      <td>Doug \"Hollywood\" Davis</td>\n",
       "      <td>5.00</td>\n",
       "    </tr>\n",
       "    <tr>\n",
       "      <th>2</th>\n",
       "      <td>Natasha Lukin</td>\n",
       "      <td>5.00</td>\n",
       "    </tr>\n",
       "    <tr>\n",
       "      <th>3</th>\n",
       "      <td>Rita Pam Tarachi</td>\n",
       "      <td>5.00</td>\n",
       "    </tr>\n",
       "    <tr>\n",
       "      <th>4</th>\n",
       "      <td>Granthana Sinha</td>\n",
       "      <td>5.00</td>\n",
       "    </tr>\n",
       "    <tr>\n",
       "      <th>5</th>\n",
       "      <td>Nadine May</td>\n",
       "      <td>5.00</td>\n",
       "    </tr>\n",
       "    <tr>\n",
       "      <th>6</th>\n",
       "      <td>Bernard Cenney</td>\n",
       "      <td>5.00</td>\n",
       "    </tr>\n",
       "    <tr>\n",
       "      <th>7</th>\n",
       "      <td>Luke A.M. Brown</td>\n",
       "      <td>5.00</td>\n",
       "    </tr>\n",
       "    <tr>\n",
       "      <th>8</th>\n",
       "      <td>Susan Davis</td>\n",
       "      <td>5.00</td>\n",
       "    </tr>\n",
       "    <tr>\n",
       "      <th>9</th>\n",
       "      <td>Rodolfo Martin Vitangcol</td>\n",
       "      <td>5.00</td>\n",
       "    </tr>\n",
       "    <tr>\n",
       "      <th>10</th>\n",
       "      <td>Steve Jones Snr</td>\n",
       "      <td>5.00</td>\n",
       "    </tr>\n",
       "    <tr>\n",
       "      <th>11</th>\n",
       "      <td>Carol Denise Mitchell</td>\n",
       "      <td>5.00</td>\n",
       "    </tr>\n",
       "    <tr>\n",
       "      <th>12</th>\n",
       "      <td>Crystal L. Du Bois</td>\n",
       "      <td>5.00</td>\n",
       "    </tr>\n",
       "    <tr>\n",
       "      <th>13</th>\n",
       "      <td>Cristina G.</td>\n",
       "      <td>5.00</td>\n",
       "    </tr>\n",
       "    <tr>\n",
       "      <th>14</th>\n",
       "      <td>Creative Success Coach</td>\n",
       "      <td>5.00</td>\n",
       "    </tr>\n",
       "    <tr>\n",
       "      <th>15</th>\n",
       "      <td>Cat Ellington</td>\n",
       "      <td>5.00</td>\n",
       "    </tr>\n",
       "    <tr>\n",
       "      <th>16</th>\n",
       "      <td>Melissa Webb</td>\n",
       "      <td>5.00</td>\n",
       "    </tr>\n",
       "    <tr>\n",
       "      <th>17</th>\n",
       "      <td>Silvana G. Sánchez</td>\n",
       "      <td>5.00</td>\n",
       "    </tr>\n",
       "    <tr>\n",
       "      <th>18</th>\n",
       "      <td>Martine Jardin</td>\n",
       "      <td>5.00</td>\n",
       "    </tr>\n",
       "    <tr>\n",
       "      <th>19</th>\n",
       "      <td>Lisa C. Miller</td>\n",
       "      <td>5.00</td>\n",
       "    </tr>\n",
       "    <tr>\n",
       "      <th>20</th>\n",
       "      <td>Jerrye Woods</td>\n",
       "      <td>5.00</td>\n",
       "    </tr>\n",
       "    <tr>\n",
       "      <th>21</th>\n",
       "      <td>Lashone Vs Shaneek</td>\n",
       "      <td>5.00</td>\n",
       "    </tr>\n",
       "    <tr>\n",
       "      <th>22</th>\n",
       "      <td>Garry Bonsall</td>\n",
       "      <td>5.00</td>\n",
       "    </tr>\n",
       "    <tr>\n",
       "      <th>23</th>\n",
       "      <td>Violet Plum</td>\n",
       "      <td>5.00</td>\n",
       "    </tr>\n",
       "    <tr>\n",
       "      <th>24</th>\n",
       "      <td>Alice Batchelor Hambright</td>\n",
       "      <td>5.00</td>\n",
       "    </tr>\n",
       "    <tr>\n",
       "      <th>25</th>\n",
       "      <td>Vidya Gargote</td>\n",
       "      <td>5.00</td>\n",
       "    </tr>\n",
       "    <tr>\n",
       "      <th>26</th>\n",
       "      <td>Ginger Baum</td>\n",
       "      <td>4.97</td>\n",
       "    </tr>\n",
       "    <tr>\n",
       "      <th>27</th>\n",
       "      <td>Sharon Storm</td>\n",
       "      <td>4.96</td>\n",
       "    </tr>\n",
       "    <tr>\n",
       "      <th>28</th>\n",
       "      <td>Anişoara Laura Musteţiu</td>\n",
       "      <td>4.96</td>\n",
       "    </tr>\n",
       "    <tr>\n",
       "      <th>29</th>\n",
       "      <td>Krystyna Fitzgerald-Morris</td>\n",
       "      <td>4.95</td>\n",
       "    </tr>\n",
       "  </tbody>\n",
       "</table>\n",
       "</div>"
      ],
      "text/plain": [
       "                        author  rating\n",
       "0                James Goodman    5.00\n",
       "1       Doug \"Hollywood\" Davis    5.00\n",
       "2                Natasha Lukin    5.00\n",
       "3             Rita Pam Tarachi    5.00\n",
       "4              Granthana Sinha    5.00\n",
       "5                   Nadine May    5.00\n",
       "6               Bernard Cenney    5.00\n",
       "7              Luke A.M. Brown    5.00\n",
       "8                  Susan Davis    5.00\n",
       "9     Rodolfo Martin Vitangcol    5.00\n",
       "10             Steve Jones Snr    5.00\n",
       "11       Carol Denise Mitchell    5.00\n",
       "12          Crystal L. Du Bois    5.00\n",
       "13                 Cristina G.    5.00\n",
       "14      Creative Success Coach    5.00\n",
       "15               Cat Ellington    5.00\n",
       "16                Melissa Webb    5.00\n",
       "17          Silvana G. Sánchez    5.00\n",
       "18              Martine Jardin    5.00\n",
       "19              Lisa C. Miller    5.00\n",
       "20                Jerrye Woods    5.00\n",
       "21          Lashone Vs Shaneek    5.00\n",
       "22               Garry Bonsall    5.00\n",
       "23                 Violet Plum    5.00\n",
       "24   Alice Batchelor Hambright    5.00\n",
       "25               Vidya Gargote    5.00\n",
       "26                 Ginger Baum    4.97\n",
       "27                Sharon Storm    4.96\n",
       "28     Anişoara Laura Musteţiu    4.96\n",
       "29  Krystyna Fitzgerald-Morris    4.95"
      ]
     },
     "execution_count": 28,
     "metadata": {},
     "output_type": "execute_result"
    }
   ],
   "source": [
    "# Count the number of books for each author\n",
    "author_counts = gr_data['author'].value_counts()\n",
    "\n",
    "# Filter to only include authors with a count greater than 1\n",
    "filtered_authors = author_counts[author_counts > 1].index\n",
    "\n",
    "# Filter in the original df to only include titles with authors in the filtered authors\n",
    "filtered_gr_data = gr_data[gr_data['author'].isin(filtered_authors)]\n",
    "\n",
    "# Group by author and calculate the mean rating for each author\n",
    "author_avg_rating = filtered_gr_data.groupby('author')['rating'].mean()\n",
    "\n",
    "# Sort in descending order of average rating and select the top 1000 authors\n",
    "top_1000_most_rated_authors = author_avg_rating.sort_values(ascending=False).head(1000)\n",
    "\n",
    "# Convert to a dataframe\n",
    "top_1000_most_rated_authors_df = top_1000_most_rated_authors.to_frame().reset_index()\n",
    "\n",
    "display(len(top_1000_most_rated_authors_df))\n",
    "\n",
    "top_1000_most_rated_authors_df.head(30)"
   ]
  },
  {
   "cell_type": "code",
   "execution_count": 29,
   "id": "09d7272e",
   "metadata": {},
   "outputs": [
    {
     "data": {
      "text/plain": [
       "6180"
      ]
     },
     "metadata": {},
     "output_type": "display_data"
    },
    {
     "data": {
      "text/html": [
       "<div>\n",
       "<style scoped>\n",
       "    .dataframe tbody tr th:only-of-type {\n",
       "        vertical-align: middle;\n",
       "    }\n",
       "\n",
       "    .dataframe tbody tr th {\n",
       "        vertical-align: top;\n",
       "    }\n",
       "\n",
       "    .dataframe thead th {\n",
       "        text-align: right;\n",
       "    }\n",
       "</style>\n",
       "<table border=\"1\" class=\"dataframe\">\n",
       "  <thead>\n",
       "    <tr style=\"text-align: right;\">\n",
       "      <th></th>\n",
       "      <th>author</th>\n",
       "      <th>rating</th>\n",
       "    </tr>\n",
       "  </thead>\n",
       "  <tbody>\n",
       "    <tr>\n",
       "      <th>0</th>\n",
       "      <td>Adrienne Rich</td>\n",
       "      <td>4.276667</td>\n",
       "    </tr>\n",
       "    <tr>\n",
       "      <th>1</th>\n",
       "      <td>E.F. Benson</td>\n",
       "      <td>4.276667</td>\n",
       "    </tr>\n",
       "    <tr>\n",
       "      <th>2</th>\n",
       "      <td>Lexie Xu</td>\n",
       "      <td>4.276667</td>\n",
       "    </tr>\n",
       "    <tr>\n",
       "      <th>3</th>\n",
       "      <td>Anna Zaires</td>\n",
       "      <td>4.276667</td>\n",
       "    </tr>\n",
       "    <tr>\n",
       "      <th>4</th>\n",
       "      <td>Mandi Beck</td>\n",
       "      <td>4.276667</td>\n",
       "    </tr>\n",
       "    <tr>\n",
       "      <th>5</th>\n",
       "      <td>Arnold Lobel</td>\n",
       "      <td>4.276667</td>\n",
       "    </tr>\n",
       "    <tr>\n",
       "      <th>6</th>\n",
       "      <td>Lois Walfrid Johnson</td>\n",
       "      <td>4.276667</td>\n",
       "    </tr>\n",
       "    <tr>\n",
       "      <th>7</th>\n",
       "      <td>Amy Clipston</td>\n",
       "      <td>4.276667</td>\n",
       "    </tr>\n",
       "    <tr>\n",
       "      <th>8</th>\n",
       "      <td>J.M. Darhower</td>\n",
       "      <td>4.276000</td>\n",
       "    </tr>\n",
       "    <tr>\n",
       "      <th>9</th>\n",
       "      <td>Mike Mignola</td>\n",
       "      <td>4.276000</td>\n",
       "    </tr>\n",
       "    <tr>\n",
       "      <th>10</th>\n",
       "      <td>Miasha</td>\n",
       "      <td>4.275714</td>\n",
       "    </tr>\n",
       "    <tr>\n",
       "      <th>11</th>\n",
       "      <td>Jon J. Muth</td>\n",
       "      <td>4.275000</td>\n",
       "    </tr>\n",
       "    <tr>\n",
       "      <th>12</th>\n",
       "      <td>V.D. Savarkar</td>\n",
       "      <td>4.275000</td>\n",
       "    </tr>\n",
       "    <tr>\n",
       "      <th>13</th>\n",
       "      <td>E.J. Mellow</td>\n",
       "      <td>4.275000</td>\n",
       "    </tr>\n",
       "    <tr>\n",
       "      <th>14</th>\n",
       "      <td>Juan Díaz Canales</td>\n",
       "      <td>4.275000</td>\n",
       "    </tr>\n",
       "    <tr>\n",
       "      <th>15</th>\n",
       "      <td>Wallace D. Wattles</td>\n",
       "      <td>4.275000</td>\n",
       "    </tr>\n",
       "    <tr>\n",
       "      <th>16</th>\n",
       "      <td>Shinobu Kaitani</td>\n",
       "      <td>4.275000</td>\n",
       "    </tr>\n",
       "    <tr>\n",
       "      <th>17</th>\n",
       "      <td>Bisco Hatori</td>\n",
       "      <td>4.275000</td>\n",
       "    </tr>\n",
       "    <tr>\n",
       "      <th>18</th>\n",
       "      <td>Mahmoud Darwish</td>\n",
       "      <td>4.275000</td>\n",
       "    </tr>\n",
       "    <tr>\n",
       "      <th>19</th>\n",
       "      <td>Elena Garro</td>\n",
       "      <td>4.275000</td>\n",
       "    </tr>\n",
       "    <tr>\n",
       "      <th>20</th>\n",
       "      <td>Matthew Van Fleet</td>\n",
       "      <td>4.275000</td>\n",
       "    </tr>\n",
       "    <tr>\n",
       "      <th>21</th>\n",
       "      <td>Dale Cramer</td>\n",
       "      <td>4.275000</td>\n",
       "    </tr>\n",
       "    <tr>\n",
       "      <th>22</th>\n",
       "      <td>Gilbert Hernández</td>\n",
       "      <td>4.275000</td>\n",
       "    </tr>\n",
       "    <tr>\n",
       "      <th>23</th>\n",
       "      <td>Krishna-Dwaipayana Vyasa</td>\n",
       "      <td>4.275000</td>\n",
       "    </tr>\n",
       "    <tr>\n",
       "      <th>24</th>\n",
       "      <td>Luis Buñuel</td>\n",
       "      <td>4.275000</td>\n",
       "    </tr>\n",
       "    <tr>\n",
       "      <th>25</th>\n",
       "      <td>Kyle Idleman</td>\n",
       "      <td>4.275000</td>\n",
       "    </tr>\n",
       "    <tr>\n",
       "      <th>26</th>\n",
       "      <td>Eric Wilson</td>\n",
       "      <td>4.275000</td>\n",
       "    </tr>\n",
       "    <tr>\n",
       "      <th>27</th>\n",
       "      <td>Michelle Sutton</td>\n",
       "      <td>4.275000</td>\n",
       "    </tr>\n",
       "    <tr>\n",
       "      <th>28</th>\n",
       "      <td>Angelina J. Steffort</td>\n",
       "      <td>4.274000</td>\n",
       "    </tr>\n",
       "    <tr>\n",
       "      <th>29</th>\n",
       "      <td>Jillian Dodd</td>\n",
       "      <td>4.274000</td>\n",
       "    </tr>\n",
       "  </tbody>\n",
       "</table>\n",
       "</div>"
      ],
      "text/plain": [
       "                      author    rating\n",
       "0              Adrienne Rich  4.276667\n",
       "1                E.F. Benson  4.276667\n",
       "2                   Lexie Xu  4.276667\n",
       "3                Anna Zaires  4.276667\n",
       "4                 Mandi Beck  4.276667\n",
       "5               Arnold Lobel  4.276667\n",
       "6       Lois Walfrid Johnson  4.276667\n",
       "7               Amy Clipston  4.276667\n",
       "8              J.M. Darhower  4.276000\n",
       "9               Mike Mignola  4.276000\n",
       "10                    Miasha  4.275714\n",
       "11               Jon J. Muth  4.275000\n",
       "12             V.D. Savarkar  4.275000\n",
       "13               E.J. Mellow  4.275000\n",
       "14         Juan Díaz Canales  4.275000\n",
       "15        Wallace D. Wattles  4.275000\n",
       "16           Shinobu Kaitani  4.275000\n",
       "17              Bisco Hatori  4.275000\n",
       "18           Mahmoud Darwish  4.275000\n",
       "19               Elena Garro  4.275000\n",
       "20         Matthew Van Fleet  4.275000\n",
       "21               Dale Cramer  4.275000\n",
       "22         Gilbert Hernández  4.275000\n",
       "23  Krishna-Dwaipayana Vyasa  4.275000\n",
       "24               Luis Buñuel  4.275000\n",
       "25              Kyle Idleman  4.275000\n",
       "26               Eric Wilson  4.275000\n",
       "27           Michelle Sutton  4.275000\n",
       "28      Angelina J. Steffort  4.274000\n",
       "29              Jillian Dodd  4.274000"
      ]
     },
     "execution_count": 29,
     "metadata": {},
     "output_type": "execute_result"
    }
   ],
   "source": [
    "# Second group, same process\n",
    "\n",
    "author_counts = gr_data['author'].value_counts()\n",
    "filtered_authors = author_counts[author_counts > 1].index\n",
    "filtered_gr_data = gr_data[gr_data['author'].isin(filtered_authors)]\n",
    "author_avg_rating = filtered_gr_data.groupby('author')['rating'].mean()\n",
    "top_1001_to_10000_most_rated_authors = author_avg_rating.sort_values(ascending=False).iloc[1000:10000]\n",
    "top_1001_to_10000_most_rated_authors_df = top_1001_to_10000_most_rated_authors.to_frame().reset_index()\n",
    "\n",
    "display(len(top_1001_to_10000_most_rated_authors_df))\n",
    "top_1001_to_10000_most_rated_authors_df.head(10)\n"
   ]
  },
  {
   "cell_type": "code",
   "execution_count": 30,
   "id": "33ef7ef7",
   "metadata": {},
   "outputs": [
    {
     "data": {
      "text/plain": [
       "14540"
      ]
     },
     "metadata": {},
     "output_type": "display_data"
    },
    {
     "data": {
      "text/html": [
       "<div>\n",
       "<style scoped>\n",
       "    .dataframe tbody tr th:only-of-type {\n",
       "        vertical-align: middle;\n",
       "    }\n",
       "\n",
       "    .dataframe tbody tr th {\n",
       "        vertical-align: top;\n",
       "    }\n",
       "\n",
       "    .dataframe thead th {\n",
       "        text-align: right;\n",
       "    }\n",
       "</style>\n",
       "<table border=\"1\" class=\"dataframe\">\n",
       "  <thead>\n",
       "    <tr style=\"text-align: right;\">\n",
       "      <th></th>\n",
       "      <th>author</th>\n",
       "      <th>rating</th>\n",
       "    </tr>\n",
       "  </thead>\n",
       "  <tbody>\n",
       "    <tr>\n",
       "      <th>0</th>\n",
       "      <td>50 Cent</td>\n",
       "      <td>4.15</td>\n",
       "    </tr>\n",
       "    <tr>\n",
       "      <th>1</th>\n",
       "      <td>A. Bates</td>\n",
       "      <td>3.54</td>\n",
       "    </tr>\n",
       "    <tr>\n",
       "      <th>2</th>\n",
       "      <td>A. Cort Sinnes</td>\n",
       "      <td>4.50</td>\n",
       "    </tr>\n",
       "    <tr>\n",
       "      <th>3</th>\n",
       "      <td>A. Helwa</td>\n",
       "      <td>4.63</td>\n",
       "    </tr>\n",
       "    <tr>\n",
       "      <th>4</th>\n",
       "      <td>A. Merritt</td>\n",
       "      <td>3.33</td>\n",
       "    </tr>\n",
       "    <tr>\n",
       "      <th>5</th>\n",
       "      <td>A. Roger Ekirch</td>\n",
       "      <td>3.68</td>\n",
       "    </tr>\n",
       "    <tr>\n",
       "      <th>6</th>\n",
       "      <td>A. Scott Berg</td>\n",
       "      <td>4.00</td>\n",
       "    </tr>\n",
       "    <tr>\n",
       "      <th>7</th>\n",
       "      <td>A. Teeuw</td>\n",
       "      <td>4.06</td>\n",
       "    </tr>\n",
       "    <tr>\n",
       "      <th>8</th>\n",
       "      <td>A. Ubaidillah Alias</td>\n",
       "      <td>3.94</td>\n",
       "    </tr>\n",
       "    <tr>\n",
       "      <th>9</th>\n",
       "      <td>A. White</td>\n",
       "      <td>4.93</td>\n",
       "    </tr>\n",
       "    <tr>\n",
       "      <th>10</th>\n",
       "      <td>A.C. Bhaktivedanta Swami Prabhupāda</td>\n",
       "      <td>4.54</td>\n",
       "    </tr>\n",
       "    <tr>\n",
       "      <th>11</th>\n",
       "      <td>A.C. Weisbecker</td>\n",
       "      <td>3.88</td>\n",
       "    </tr>\n",
       "    <tr>\n",
       "      <th>12</th>\n",
       "      <td>A.C.H. Smith</td>\n",
       "      <td>4.20</td>\n",
       "    </tr>\n",
       "    <tr>\n",
       "      <th>13</th>\n",
       "      <td>A.D. Bloom</td>\n",
       "      <td>3.87</td>\n",
       "    </tr>\n",
       "    <tr>\n",
       "      <th>14</th>\n",
       "      <td>A.D. Truax</td>\n",
       "      <td>4.02</td>\n",
       "    </tr>\n",
       "    <tr>\n",
       "      <th>15</th>\n",
       "      <td>A.D.T. McLellan</td>\n",
       "      <td>4.51</td>\n",
       "    </tr>\n",
       "    <tr>\n",
       "      <th>16</th>\n",
       "      <td>A.F. Harrold</td>\n",
       "      <td>4.03</td>\n",
       "    </tr>\n",
       "    <tr>\n",
       "      <th>17</th>\n",
       "      <td>A.F. Knott</td>\n",
       "      <td>4.50</td>\n",
       "    </tr>\n",
       "    <tr>\n",
       "      <th>18</th>\n",
       "      <td>A.G. Cairns-Smith</td>\n",
       "      <td>4.02</td>\n",
       "    </tr>\n",
       "    <tr>\n",
       "      <th>19</th>\n",
       "      <td>A.G. Mogan</td>\n",
       "      <td>4.25</td>\n",
       "    </tr>\n",
       "    <tr>\n",
       "      <th>20</th>\n",
       "      <td>A.G. Roemmers</td>\n",
       "      <td>3.38</td>\n",
       "    </tr>\n",
       "    <tr>\n",
       "      <th>21</th>\n",
       "      <td>A.H. Anquetil-Duperron</td>\n",
       "      <td>5.00</td>\n",
       "    </tr>\n",
       "    <tr>\n",
       "      <th>22</th>\n",
       "      <td>A.J. Betts</td>\n",
       "      <td>3.68</td>\n",
       "    </tr>\n",
       "    <tr>\n",
       "      <th>23</th>\n",
       "      <td>A.J. Finn</td>\n",
       "      <td>3.94</td>\n",
       "    </tr>\n",
       "    <tr>\n",
       "      <th>24</th>\n",
       "      <td>A.J. Forrest</td>\n",
       "      <td>4.00</td>\n",
       "    </tr>\n",
       "    <tr>\n",
       "      <th>25</th>\n",
       "      <td>A.J. Hackwith</td>\n",
       "      <td>3.85</td>\n",
       "    </tr>\n",
       "    <tr>\n",
       "      <th>26</th>\n",
       "      <td>A.J. Jacobs</td>\n",
       "      <td>3.75</td>\n",
       "    </tr>\n",
       "    <tr>\n",
       "      <th>27</th>\n",
       "      <td>A.J. Kazinski</td>\n",
       "      <td>3.53</td>\n",
       "    </tr>\n",
       "    <tr>\n",
       "      <th>28</th>\n",
       "      <td>A.J. Mackinnon</td>\n",
       "      <td>4.26</td>\n",
       "    </tr>\n",
       "    <tr>\n",
       "      <th>29</th>\n",
       "      <td>A.J. Mendez Brooks</td>\n",
       "      <td>4.49</td>\n",
       "    </tr>\n",
       "  </tbody>\n",
       "</table>\n",
       "</div>"
      ],
      "text/plain": [
       "                                 author  rating\n",
       "0                               50 Cent    4.15\n",
       "1                              A. Bates    3.54\n",
       "2                        A. Cort Sinnes    4.50\n",
       "3                              A. Helwa    4.63\n",
       "4                            A. Merritt    3.33\n",
       "5                       A. Roger Ekirch    3.68\n",
       "6                         A. Scott Berg    4.00\n",
       "7                              A. Teeuw    4.06\n",
       "8                   A. Ubaidillah Alias    3.94\n",
       "9                              A. White    4.93\n",
       "10  A.C. Bhaktivedanta Swami Prabhupāda    4.54\n",
       "11                      A.C. Weisbecker    3.88\n",
       "12                         A.C.H. Smith    4.20\n",
       "13                           A.D. Bloom    3.87\n",
       "14                           A.D. Truax    4.02\n",
       "15                      A.D.T. McLellan    4.51\n",
       "16                         A.F. Harrold    4.03\n",
       "17                           A.F. Knott    4.50\n",
       "18                    A.G. Cairns-Smith    4.02\n",
       "19                           A.G. Mogan    4.25\n",
       "20                        A.G. Roemmers    3.38\n",
       "21               A.H. Anquetil-Duperron    5.00\n",
       "22                           A.J. Betts    3.68\n",
       "23                            A.J. Finn    3.94\n",
       "24                         A.J. Forrest    4.00\n",
       "25                        A.J. Hackwith    3.85\n",
       "26                          A.J. Jacobs    3.75\n",
       "27                        A.J. Kazinski    3.53\n",
       "28                       A.J. Mackinnon    4.26\n",
       "29                   A.J. Mendez Brooks    4.49"
      ]
     },
     "execution_count": 30,
     "metadata": {},
     "output_type": "execute_result"
    }
   ],
   "source": [
    "# Third group, same process\n",
    "\n",
    "author_counts = gr_data['author'].value_counts()\n",
    "single_authors = author_counts[author_counts == 1].index\n",
    "general_authors_data = gr_data[~gr_data['author'].isin(top_1000_most_rated_authors.index) & ~gr_data['author'].isin(top_1000_most_rated_authors.index) & gr_data['author'].isin(single_authors)]\n",
    "general_authors_avg_rating = general_authors_data.groupby('author')['rating'].mean()\n",
    "general_authors_avg_rating_df = general_authors_avg_rating.to_frame().reset_index()\n",
    "\n",
    "display(len(general_authors_avg_rating_df))\n",
    "general_authors_avg_rating_df.head(10)"
   ]
  },
  {
   "cell_type": "code",
   "execution_count": 31,
   "id": "844c136d",
   "metadata": {},
   "outputs": [
    {
     "name": "stdout",
     "output_type": "stream",
     "text": [
      "The number of unique authors in the three new dataframes is equal to the number of unique authors in the original gr_data dataframe.\n"
     ]
    }
   ],
   "source": [
    "# Check result\n",
    "\n",
    "# Unique authors in the original dataframe\n",
    "num_unique_authors = len(gr_data['author'].unique())\n",
    "\n",
    "# Unique authors in new authors dataframes\n",
    "num_top_1000_authors = len(top_1000_most_rated_authors_df)\n",
    "num_top_1001_to_10000_authors = len(top_1001_to_10000_most_rated_authors_df)\n",
    "num_general_authors = len(general_authors_avg_rating_df)\n",
    "\n",
    "# Check if the sum of the number of new dataframes is equal to unique authors in the original dataframe\n",
    "if num_top_1000_authors + num_top_1001_to_10000_authors + num_general_authors == num_unique_authors:\n",
    "    print(\"The number of unique authors in the three new dataframes is equal to the number of unique authors in the original gr_data dataframe.\")\n",
    "else:\n",
    "    print(\"The number of unique authors in the three new dataframes is not equal to the number of unique authors in the original gr_data dataframe.\")"
   ]
  },
  {
   "cell_type": "code",
   "execution_count": 32,
   "id": "ec6797c5",
   "metadata": {},
   "outputs": [
    {
     "data": {
      "text/html": [
       "<div>\n",
       "<style scoped>\n",
       "    .dataframe tbody tr th:only-of-type {\n",
       "        vertical-align: middle;\n",
       "    }\n",
       "\n",
       "    .dataframe tbody tr th {\n",
       "        vertical-align: top;\n",
       "    }\n",
       "\n",
       "    .dataframe thead th {\n",
       "        text-align: right;\n",
       "    }\n",
       "</style>\n",
       "<table border=\"1\" class=\"dataframe\">\n",
       "  <thead>\n",
       "    <tr style=\"text-align: right;\">\n",
       "      <th></th>\n",
       "      <th>title</th>\n",
       "      <th>series</th>\n",
       "      <th>author</th>\n",
       "      <th>language</th>\n",
       "      <th>pages</th>\n",
       "      <th>book_format</th>\n",
       "      <th>publisher</th>\n",
       "      <th>fantasy</th>\n",
       "      <th>science fiction</th>\n",
       "      <th>dystopia</th>\n",
       "      <th>...</th>\n",
       "      <th>West Australian Young Readers' Book Award (WAYRBA) for Older Readers</th>\n",
       "      <th>West Australian Young Readers' Book Award (WAYRBA) for Younger Readers</th>\n",
       "      <th>William Allen White Children's Book Award</th>\n",
       "      <th>William C. Morris YA Debut Award Nominee</th>\n",
       "      <th>Women's Prize for Fiction Nominee</th>\n",
       "      <th>Women's Prize for Fiction Nominee for Longlist</th>\n",
       "      <th>World Fantasy Award Nominee for Best Novel</th>\n",
       "      <th>World Fantasy Award for Best Novel</th>\n",
       "      <th>Zilveren Griffel</th>\n",
       "      <th>الجائزة العالمية للرواية العربية (أي باف) / International Prize for Arabic Fiction (IPAF) Nominee</th>\n",
       "    </tr>\n",
       "  </thead>\n",
       "  <tbody>\n",
       "    <tr>\n",
       "      <th>0</th>\n",
       "      <td>The Hunger Games</td>\n",
       "      <td>The Hunger Games</td>\n",
       "      <td>top_1001_to_10000_most_rated_authors</td>\n",
       "      <td>English</td>\n",
       "      <td>200-300</td>\n",
       "      <td>Hardcover</td>\n",
       "      <td>Top Publishers</td>\n",
       "      <td>1</td>\n",
       "      <td>1</td>\n",
       "      <td>1</td>\n",
       "      <td>...</td>\n",
       "      <td>1</td>\n",
       "      <td>0</td>\n",
       "      <td>0</td>\n",
       "      <td>0</td>\n",
       "      <td>0</td>\n",
       "      <td>0</td>\n",
       "      <td>0</td>\n",
       "      <td>0</td>\n",
       "      <td>0</td>\n",
       "      <td>0</td>\n",
       "    </tr>\n",
       "    <tr>\n",
       "      <th>1</th>\n",
       "      <td>Harry Potter and the Order of the Phoenix</td>\n",
       "      <td>Harry Potter</td>\n",
       "      <td>top_1000_most_rated_authors</td>\n",
       "      <td>English</td>\n",
       "      <td>700-800</td>\n",
       "      <td>Paperback</td>\n",
       "      <td>Top Publishers</td>\n",
       "      <td>1</td>\n",
       "      <td>1</td>\n",
       "      <td>0</td>\n",
       "      <td>...</td>\n",
       "      <td>0</td>\n",
       "      <td>0</td>\n",
       "      <td>0</td>\n",
       "      <td>0</td>\n",
       "      <td>0</td>\n",
       "      <td>0</td>\n",
       "      <td>0</td>\n",
       "      <td>0</td>\n",
       "      <td>0</td>\n",
       "      <td>0</td>\n",
       "    </tr>\n",
       "    <tr>\n",
       "      <th>2</th>\n",
       "      <td>To Kill a Mockingbird</td>\n",
       "      <td>To Kill a Mockingbird</td>\n",
       "      <td>top_1001_to_10000_most_rated_authors</td>\n",
       "      <td>English</td>\n",
       "      <td>200-300</td>\n",
       "      <td>Paperback</td>\n",
       "      <td>Top Publishers</td>\n",
       "      <td>0</td>\n",
       "      <td>0</td>\n",
       "      <td>0</td>\n",
       "      <td>...</td>\n",
       "      <td>0</td>\n",
       "      <td>0</td>\n",
       "      <td>0</td>\n",
       "      <td>0</td>\n",
       "      <td>0</td>\n",
       "      <td>0</td>\n",
       "      <td>0</td>\n",
       "      <td>0</td>\n",
       "      <td>0</td>\n",
       "      <td>0</td>\n",
       "    </tr>\n",
       "    <tr>\n",
       "      <th>3</th>\n",
       "      <td>Pride and Prejudice</td>\n",
       "      <td>Single Book</td>\n",
       "      <td>top_1001_to_10000_most_rated_authors</td>\n",
       "      <td>English</td>\n",
       "      <td>100-200</td>\n",
       "      <td>Paperback</td>\n",
       "      <td>Top Publishers</td>\n",
       "      <td>0</td>\n",
       "      <td>0</td>\n",
       "      <td>0</td>\n",
       "      <td>...</td>\n",
       "      <td>0</td>\n",
       "      <td>0</td>\n",
       "      <td>0</td>\n",
       "      <td>0</td>\n",
       "      <td>0</td>\n",
       "      <td>0</td>\n",
       "      <td>0</td>\n",
       "      <td>0</td>\n",
       "      <td>0</td>\n",
       "      <td>0</td>\n",
       "    </tr>\n",
       "    <tr>\n",
       "      <th>4</th>\n",
       "      <td>Twilight</td>\n",
       "      <td>The Twilight Saga</td>\n",
       "      <td>top_1001_to_10000_most_rated_authors</td>\n",
       "      <td>English</td>\n",
       "      <td>400-500</td>\n",
       "      <td>Paperback</td>\n",
       "      <td>Top Publishers</td>\n",
       "      <td>1</td>\n",
       "      <td>1</td>\n",
       "      <td>0</td>\n",
       "      <td>...</td>\n",
       "      <td>1</td>\n",
       "      <td>0</td>\n",
       "      <td>0</td>\n",
       "      <td>0</td>\n",
       "      <td>0</td>\n",
       "      <td>0</td>\n",
       "      <td>0</td>\n",
       "      <td>0</td>\n",
       "      <td>0</td>\n",
       "      <td>0</td>\n",
       "    </tr>\n",
       "    <tr>\n",
       "      <th>5</th>\n",
       "      <td>The Book Thief</td>\n",
       "      <td>Single Book</td>\n",
       "      <td>top_1001_to_10000_most_rated_authors</td>\n",
       "      <td>English</td>\n",
       "      <td>400-500</td>\n",
       "      <td>Hardcover</td>\n",
       "      <td>Top Publishers</td>\n",
       "      <td>0</td>\n",
       "      <td>0</td>\n",
       "      <td>0</td>\n",
       "      <td>...</td>\n",
       "      <td>0</td>\n",
       "      <td>0</td>\n",
       "      <td>0</td>\n",
       "      <td>0</td>\n",
       "      <td>0</td>\n",
       "      <td>0</td>\n",
       "      <td>0</td>\n",
       "      <td>0</td>\n",
       "      <td>0</td>\n",
       "      <td>0</td>\n",
       "    </tr>\n",
       "    <tr>\n",
       "      <th>6</th>\n",
       "      <td>Animal Farm</td>\n",
       "      <td>Single Book</td>\n",
       "      <td>top_1001_to_10000_most_rated_authors</td>\n",
       "      <td>English</td>\n",
       "      <td>&lt;100</td>\n",
       "      <td>Paperback</td>\n",
       "      <td>Top Publishers</td>\n",
       "      <td>1</td>\n",
       "      <td>1</td>\n",
       "      <td>1</td>\n",
       "      <td>...</td>\n",
       "      <td>0</td>\n",
       "      <td>0</td>\n",
       "      <td>0</td>\n",
       "      <td>0</td>\n",
       "      <td>0</td>\n",
       "      <td>0</td>\n",
       "      <td>0</td>\n",
       "      <td>0</td>\n",
       "      <td>0</td>\n",
       "      <td>0</td>\n",
       "    </tr>\n",
       "    <tr>\n",
       "      <th>7</th>\n",
       "      <td>The Chronicles of Narnia</td>\n",
       "      <td>Single Book</td>\n",
       "      <td>top_1001_to_10000_most_rated_authors</td>\n",
       "      <td>English</td>\n",
       "      <td>600-700</td>\n",
       "      <td>Paperback</td>\n",
       "      <td>Top Publishers</td>\n",
       "      <td>1</td>\n",
       "      <td>1</td>\n",
       "      <td>0</td>\n",
       "      <td>...</td>\n",
       "      <td>0</td>\n",
       "      <td>0</td>\n",
       "      <td>0</td>\n",
       "      <td>0</td>\n",
       "      <td>0</td>\n",
       "      <td>0</td>\n",
       "      <td>0</td>\n",
       "      <td>0</td>\n",
       "      <td>0</td>\n",
       "      <td>0</td>\n",
       "    </tr>\n",
       "    <tr>\n",
       "      <th>8</th>\n",
       "      <td>J.R.R. Tolkien 4-Book Boxed Set: The Hobbit an...</td>\n",
       "      <td>The Lord of the Rings-3</td>\n",
       "      <td>top_1001_to_10000_most_rated_authors</td>\n",
       "      <td>English</td>\n",
       "      <td>900-1000</td>\n",
       "      <td>Paperback</td>\n",
       "      <td>Top Publishers</td>\n",
       "      <td>1</td>\n",
       "      <td>1</td>\n",
       "      <td>0</td>\n",
       "      <td>...</td>\n",
       "      <td>0</td>\n",
       "      <td>0</td>\n",
       "      <td>0</td>\n",
       "      <td>0</td>\n",
       "      <td>0</td>\n",
       "      <td>0</td>\n",
       "      <td>0</td>\n",
       "      <td>0</td>\n",
       "      <td>0</td>\n",
       "      <td>0</td>\n",
       "    </tr>\n",
       "    <tr>\n",
       "      <th>9</th>\n",
       "      <td>Gone with the Wind</td>\n",
       "      <td>Single Book</td>\n",
       "      <td>top_1000_most_rated_authors</td>\n",
       "      <td>English</td>\n",
       "      <td>900-1000</td>\n",
       "      <td>Paperback</td>\n",
       "      <td>Top Publishers</td>\n",
       "      <td>0</td>\n",
       "      <td>0</td>\n",
       "      <td>0</td>\n",
       "      <td>...</td>\n",
       "      <td>0</td>\n",
       "      <td>0</td>\n",
       "      <td>0</td>\n",
       "      <td>0</td>\n",
       "      <td>0</td>\n",
       "      <td>0</td>\n",
       "      <td>0</td>\n",
       "      <td>0</td>\n",
       "      <td>0</td>\n",
       "      <td>0</td>\n",
       "    </tr>\n",
       "  </tbody>\n",
       "</table>\n",
       "<p>10 rows × 844 columns</p>\n",
       "</div>"
      ],
      "text/plain": [
       "                                               title                   series  \\\n",
       "0                                   The Hunger Games         The Hunger Games   \n",
       "1          Harry Potter and the Order of the Phoenix             Harry Potter   \n",
       "2                              To Kill a Mockingbird    To Kill a Mockingbird   \n",
       "3                                Pride and Prejudice              Single Book   \n",
       "4                                           Twilight        The Twilight Saga   \n",
       "5                                     The Book Thief              Single Book   \n",
       "6                                        Animal Farm              Single Book   \n",
       "7                           The Chronicles of Narnia              Single Book   \n",
       "8  J.R.R. Tolkien 4-Book Boxed Set: The Hobbit an...  The Lord of the Rings-3   \n",
       "9                                 Gone with the Wind              Single Book   \n",
       "\n",
       "                                 author language     pages book_format  \\\n",
       "0  top_1001_to_10000_most_rated_authors  English   200-300   Hardcover   \n",
       "1           top_1000_most_rated_authors  English   700-800   Paperback   \n",
       "2  top_1001_to_10000_most_rated_authors  English   200-300   Paperback   \n",
       "3  top_1001_to_10000_most_rated_authors  English   100-200   Paperback   \n",
       "4  top_1001_to_10000_most_rated_authors  English   400-500   Paperback   \n",
       "5  top_1001_to_10000_most_rated_authors  English   400-500   Hardcover   \n",
       "6  top_1001_to_10000_most_rated_authors  English      <100   Paperback   \n",
       "7  top_1001_to_10000_most_rated_authors  English   600-700   Paperback   \n",
       "8  top_1001_to_10000_most_rated_authors  English  900-1000   Paperback   \n",
       "9           top_1000_most_rated_authors  English  900-1000   Paperback   \n",
       "\n",
       "        publisher fantasy science fiction dystopia  ...  \\\n",
       "0  Top Publishers       1               1        1  ...   \n",
       "1  Top Publishers       1               1        0  ...   \n",
       "2  Top Publishers       0               0        0  ...   \n",
       "3  Top Publishers       0               0        0  ...   \n",
       "4  Top Publishers       1               1        0  ...   \n",
       "5  Top Publishers       0               0        0  ...   \n",
       "6  Top Publishers       1               1        1  ...   \n",
       "7  Top Publishers       1               1        0  ...   \n",
       "8  Top Publishers       1               1        0  ...   \n",
       "9  Top Publishers       0               0        0  ...   \n",
       "\n",
       "  West Australian Young Readers' Book Award (WAYRBA) for Older Readers   \\\n",
       "0                                                  1                      \n",
       "1                                                  0                      \n",
       "2                                                  0                      \n",
       "3                                                  0                      \n",
       "4                                                  1                      \n",
       "5                                                  0                      \n",
       "6                                                  0                      \n",
       "7                                                  0                      \n",
       "8                                                  0                      \n",
       "9                                                  0                      \n",
       "\n",
       "  West Australian Young Readers' Book Award (WAYRBA) for Younger Readers   \\\n",
       "0                                                  0                        \n",
       "1                                                  0                        \n",
       "2                                                  0                        \n",
       "3                                                  0                        \n",
       "4                                                  0                        \n",
       "5                                                  0                        \n",
       "6                                                  0                        \n",
       "7                                                  0                        \n",
       "8                                                  0                        \n",
       "9                                                  0                        \n",
       "\n",
       "  William Allen White Children's Book Award   \\\n",
       "0                                          0   \n",
       "1                                          0   \n",
       "2                                          0   \n",
       "3                                          0   \n",
       "4                                          0   \n",
       "5                                          0   \n",
       "6                                          0   \n",
       "7                                          0   \n",
       "8                                          0   \n",
       "9                                          0   \n",
       "\n",
       "  William C. Morris YA Debut Award Nominee   \\\n",
       "0                                         0   \n",
       "1                                         0   \n",
       "2                                         0   \n",
       "3                                         0   \n",
       "4                                         0   \n",
       "5                                         0   \n",
       "6                                         0   \n",
       "7                                         0   \n",
       "8                                         0   \n",
       "9                                         0   \n",
       "\n",
       "  Women's Prize for Fiction Nominee   \\\n",
       "0                                  0   \n",
       "1                                  0   \n",
       "2                                  0   \n",
       "3                                  0   \n",
       "4                                  0   \n",
       "5                                  0   \n",
       "6                                  0   \n",
       "7                                  0   \n",
       "8                                  0   \n",
       "9                                  0   \n",
       "\n",
       "  Women's Prize for Fiction Nominee for Longlist   \\\n",
       "0                                               0   \n",
       "1                                               0   \n",
       "2                                               0   \n",
       "3                                               0   \n",
       "4                                               0   \n",
       "5                                               0   \n",
       "6                                               0   \n",
       "7                                               0   \n",
       "8                                               0   \n",
       "9                                               0   \n",
       "\n",
       "  World Fantasy Award Nominee for Best Novel   \\\n",
       "0                                           0   \n",
       "1                                           0   \n",
       "2                                           0   \n",
       "3                                           0   \n",
       "4                                           0   \n",
       "5                                           0   \n",
       "6                                           0   \n",
       "7                                           0   \n",
       "8                                           0   \n",
       "9                                           0   \n",
       "\n",
       "  World Fantasy Award for Best Novel  Zilveren Griffel   \\\n",
       "0                                   0                 0   \n",
       "1                                   0                 0   \n",
       "2                                   0                 0   \n",
       "3                                   0                 0   \n",
       "4                                   0                 0   \n",
       "5                                   0                 0   \n",
       "6                                   0                 0   \n",
       "7                                   0                 0   \n",
       "8                                   0                 0   \n",
       "9                                   0                 0   \n",
       "\n",
       "  الجائزة العالمية للرواية العربية (أي باف) / International Prize for Arabic Fiction (IPAF) Nominee   \n",
       "0                                                  0                                                  \n",
       "1                                                  0                                                  \n",
       "2                                                  0                                                  \n",
       "3                                                  0                                                  \n",
       "4                                                  0                                                  \n",
       "5                                                  0                                                  \n",
       "6                                                  0                                                  \n",
       "7                                                  0                                                  \n",
       "8                                                  0                                                  \n",
       "9                                                  0                                                  \n",
       "\n",
       "[10 rows x 844 columns]"
      ]
     },
     "execution_count": 32,
     "metadata": {},
     "output_type": "execute_result"
    }
   ],
   "source": [
    "# Replace the author values in categorical['author'] with the appropriate category\n",
    "categorical['author'] = np.where(categorical['author'].isin(top_1000_most_rated_authors_df['author']), 'top_1000_most_rated_authors',\n",
    "                        np.where(categorical['author'].isin(top_1001_to_10000_most_rated_authors_df['author']), 'top_1001_to_10000_most_rated_authors',\n",
    "                        np.where(categorical['author'].isin(general_authors_avg_rating_df['author']), 'general_authors',\n",
    "                                 categorical['author'])))\n",
    "\n",
    "categorical.head(10)"
   ]
  },
  {
   "cell_type": "code",
   "execution_count": 33,
   "id": "737ab798",
   "metadata": {},
   "outputs": [
    {
     "data": {
      "text/plain": [
       "array(['top_1001_to_10000_most_rated_authors',\n",
       "       'top_1000_most_rated_authors', 'general_authors'], dtype=object)"
      ]
     },
     "execution_count": 33,
     "metadata": {},
     "output_type": "execute_result"
    }
   ],
   "source": [
    "categorical['author'].unique()"
   ]
  },
  {
   "cell_type": "markdown",
   "id": "d045d8ae",
   "metadata": {},
   "source": [
    "Series"
   ]
  },
  {
   "cell_type": "code",
   "execution_count": 34,
   "id": "afde646f",
   "metadata": {},
   "outputs": [
    {
     "data": {
      "text/plain": [
       "4405"
      ]
     },
     "execution_count": 34,
     "metadata": {},
     "output_type": "execute_result"
    }
   ],
   "source": [
    "categorical['series'].nunique()"
   ]
  },
  {
   "cell_type": "markdown",
   "id": "41632580",
   "metadata": {},
   "source": [
    "To group the series, I will create two categories: 'Top 500 rated series' and 'Other Series'. For books not included in any literary saga, I will keep them under the existing 'Single Books' category. The grouping will be based on the average 'rating' for each series, using a similar process to the previous grouping method."
   ]
  },
  {
   "cell_type": "code",
   "execution_count": 35,
   "id": "eb1e9752",
   "metadata": {},
   "outputs": [],
   "source": [
    "# Filter the original dataframe to only include titles that are not 'Single Book'\n",
    "series_data = gr_data[gr_data['series'] != 'Single Book']\n",
    "\n",
    "# Group by series and calculate the mean rating for each series\n",
    "series_avg_rating = series_data.groupby('series')['rating'].mean()\n",
    "\n",
    "# Sort in descending order based on the average rating and select the top 500 series\n",
    "top_500_most_rated_series = series_avg_rating.sort_values(ascending=False).head(500)\n",
    "\n",
    "# Filter the original dataframe to only include titles with series not in the top rated series lists or with empty series\n",
    "other_series_data = series_data[~series_data['series'].isin(top_500_most_rated_series.index) & (series_data['series'] != '')]\n",
    "\n",
    "# Group by series and calculate the mean rating for each series\n",
    "other_series_avg_rating = other_series_data.groupby('series')['rating'].mean()\n",
    "\n",
    "# Convert to a dataframe\n",
    "top_500_most_rated_series_df = top_500_most_rated_series.to_frame().reset_index()\n",
    "other_series_avg_rating_df = other_series_avg_rating.to_frame().reset_index()\n"
   ]
  },
  {
   "cell_type": "code",
   "execution_count": 36,
   "id": "26948f25",
   "metadata": {},
   "outputs": [],
   "source": [
    "# Replace series values in categorical['series'] with the appropriate category\n",
    "categorical['series'] = np.where(categorical['series'] == 'Single Book', 'Single Book',\n",
    "                    np.where(categorical['series'].isin(top_500_most_rated_series_df['series']), 'Top 500 rated series',\n",
    "                    np.where(categorical['series'].isin(other_series_avg_rating_df['series']), 'Other series',\n",
    "                    categorical['series'])))\n"
   ]
  },
  {
   "cell_type": "code",
   "execution_count": 37,
   "id": "899c7ba5",
   "metadata": {},
   "outputs": [
    {
     "data": {
      "text/plain": [
       "array(['Other series', 'Top 500 rated series', 'Single Book'],\n",
       "      dtype=object)"
      ]
     },
     "execution_count": 37,
     "metadata": {},
     "output_type": "execute_result"
    }
   ],
   "source": [
    "categorical['series'].unique()"
   ]
  },
  {
   "cell_type": "markdown",
   "id": "e3d80d5c",
   "metadata": {},
   "source": [
    "Title"
   ]
  },
  {
   "cell_type": "code",
   "execution_count": 38,
   "id": "80ee0928",
   "metadata": {},
   "outputs": [
    {
     "data": {
      "text/plain": [
       "46328"
      ]
     },
     "execution_count": 38,
     "metadata": {},
     "output_type": "execute_result"
    }
   ],
   "source": [
    "categorical['title'].nunique()"
   ]
  },
  {
   "cell_type": "markdown",
   "id": "e96e8741",
   "metadata": {},
   "source": [
    "As there are a lot of unique authors, I have decided to drop that column"
   ]
  },
  {
   "cell_type": "code",
   "execution_count": 39,
   "id": "f3fdc064",
   "metadata": {},
   "outputs": [],
   "source": [
    "categorical = categorical.drop(['title'],axis=1)"
   ]
  },
  {
   "cell_type": "markdown",
   "id": "42e836d3",
   "metadata": {},
   "source": [
    "Language"
   ]
  },
  {
   "cell_type": "markdown",
   "id": "0b522f8b",
   "metadata": {},
   "source": [
    "Here, I will identify the 5 most frequently published languages and keep their names. For all other languages, I will group them into a single category named 'Other languages'"
   ]
  },
  {
   "cell_type": "code",
   "execution_count": 40,
   "id": "7cd51f5a",
   "metadata": {},
   "outputs": [
    {
     "data": {
      "text/plain": [
       "English                                  43415\n",
       "Arabic                                     894\n",
       "Spanish                                    632\n",
       "French                                     562\n",
       "German                                     501\n",
       "                                         ...  \n",
       "Iranian (Other)                              1\n",
       "Aromanian; Arumanian; Macedo-Romanian        1\n",
       "gu                                           1\n",
       "Faroese                                      1\n",
       "Afrikaans                                    1\n",
       "Name: language, Length: 92, dtype: int64"
      ]
     },
     "execution_count": 40,
     "metadata": {},
     "output_type": "execute_result"
    }
   ],
   "source": [
    "categorical['language'].value_counts()"
   ]
  },
  {
   "cell_type": "code",
   "execution_count": 41,
   "id": "48147ed1",
   "metadata": {},
   "outputs": [
    {
     "data": {
      "text/plain": [
       "Index(['English', 'Arabic', 'Spanish', 'French', 'German'], dtype='object')"
      ]
     },
     "execution_count": 41,
     "metadata": {},
     "output_type": "execute_result"
    }
   ],
   "source": [
    "# Count the unique values in the 'language' column\n",
    "language_counts = categorical['language'].value_counts()\n",
    "\n",
    "# Top 5 most common languages\n",
    "top_languages = language_counts.index[:5]\n",
    "top_languages"
   ]
  },
  {
   "cell_type": "code",
   "execution_count": 42,
   "id": "308a7353",
   "metadata": {},
   "outputs": [],
   "source": [
    "# Replace all the other languages with 'Other languages'\n",
    "categorical.loc[~categorical['language'].isin(top_languages), 'language'] = 'Other languages'"
   ]
  },
  {
   "cell_type": "code",
   "execution_count": 43,
   "id": "b139ad55",
   "metadata": {},
   "outputs": [
    {
     "data": {
      "text/plain": [
       "array(['English', 'French', 'German', 'Other languages', 'Arabic',\n",
       "       'Spanish'], dtype=object)"
      ]
     },
     "execution_count": 43,
     "metadata": {},
     "output_type": "execute_result"
    }
   ],
   "source": [
    "categorical['language'].unique()"
   ]
  },
  {
   "cell_type": "code",
   "execution_count": 44,
   "id": "4bc3360c",
   "metadata": {},
   "outputs": [
    {
     "data": {
      "text/plain": [
       "6"
      ]
     },
     "execution_count": 44,
     "metadata": {},
     "output_type": "execute_result"
    }
   ],
   "source": [
    "categorical['language'].nunique()"
   ]
  },
  {
   "cell_type": "code",
   "execution_count": 78,
   "id": "8c8bdb21",
   "metadata": {},
   "outputs": [],
   "source": [
    "# Unique values\n",
    "# for col in categorical.columns:\n",
    "#    print(f\"Unique values for {col}: {categorical[col].nunique()}\")"
   ]
  },
  {
   "cell_type": "markdown",
   "id": "8c34080c",
   "metadata": {},
   "source": [
    "#### Concatenate numerical and categorical processed data"
   ]
  },
  {
   "cell_type": "code",
   "execution_count": 46,
   "id": "a74073ef",
   "metadata": {},
   "outputs": [],
   "source": [
    "gr_data_for_modelling = pd.concat([categorical,numerical],axis=1)"
   ]
  },
  {
   "cell_type": "code",
   "execution_count": 47,
   "id": "94060b7d",
   "metadata": {
    "scrolled": true
   },
   "outputs": [
    {
     "data": {
      "text/html": [
       "<div>\n",
       "<style scoped>\n",
       "    .dataframe tbody tr th:only-of-type {\n",
       "        vertical-align: middle;\n",
       "    }\n",
       "\n",
       "    .dataframe tbody tr th {\n",
       "        vertical-align: top;\n",
       "    }\n",
       "\n",
       "    .dataframe thead th {\n",
       "        text-align: right;\n",
       "    }\n",
       "</style>\n",
       "<table border=\"1\" class=\"dataframe\">\n",
       "  <thead>\n",
       "    <tr style=\"text-align: right;\">\n",
       "      <th></th>\n",
       "      <th>series</th>\n",
       "      <th>author</th>\n",
       "      <th>language</th>\n",
       "      <th>pages</th>\n",
       "      <th>book_format</th>\n",
       "      <th>publisher</th>\n",
       "      <th>fantasy</th>\n",
       "      <th>science fiction</th>\n",
       "      <th>dystopia</th>\n",
       "      <th>young adult</th>\n",
       "      <th>...</th>\n",
       "      <th>liked_perc</th>\n",
       "      <th>bbe_score</th>\n",
       "      <th>log_num_ratings</th>\n",
       "      <th>5_stars_num_ratings</th>\n",
       "      <th>1_star_num_ratings</th>\n",
       "      <th>rating</th>\n",
       "      <th>Unique Award (1)</th>\n",
       "      <th>Uncommon Award (2,3)</th>\n",
       "      <th>Singular Award (4-8)</th>\n",
       "      <th>Frequently Awarded Literary Prizes (9-15)</th>\n",
       "    </tr>\n",
       "  </thead>\n",
       "  <tbody>\n",
       "    <tr>\n",
       "      <th>0</th>\n",
       "      <td>Other series</td>\n",
       "      <td>top_1001_to_10000_most_rated_authors</td>\n",
       "      <td>English</td>\n",
       "      <td>200-300</td>\n",
       "      <td>Hardcover</td>\n",
       "      <td>Top Publishers</td>\n",
       "      <td>1</td>\n",
       "      <td>1</td>\n",
       "      <td>1</td>\n",
       "      <td>1</td>\n",
       "      <td>...</td>\n",
       "      <td>96.0</td>\n",
       "      <td>6.476225</td>\n",
       "      <td>6.804602</td>\n",
       "      <td>3444695</td>\n",
       "      <td>93557</td>\n",
       "      <td>4.33</td>\n",
       "      <td>4</td>\n",
       "      <td>5</td>\n",
       "      <td>3</td>\n",
       "      <td>15</td>\n",
       "    </tr>\n",
       "    <tr>\n",
       "      <th>1</th>\n",
       "      <td>Top 500 rated series</td>\n",
       "      <td>top_1000_most_rated_authors</td>\n",
       "      <td>English</td>\n",
       "      <td>700-800</td>\n",
       "      <td>Paperback</td>\n",
       "      <td>Top Publishers</td>\n",
       "      <td>1</td>\n",
       "      <td>1</td>\n",
       "      <td>0</td>\n",
       "      <td>1</td>\n",
       "      <td>...</td>\n",
       "      <td>98.0</td>\n",
       "      <td>6.420324</td>\n",
       "      <td>6.399262</td>\n",
       "      <td>1593642</td>\n",
       "      <td>14526</td>\n",
       "      <td>4.50</td>\n",
       "      <td>2</td>\n",
       "      <td>0</td>\n",
       "      <td>1</td>\n",
       "      <td>3</td>\n",
       "    </tr>\n",
       "    <tr>\n",
       "      <th>2</th>\n",
       "      <td>Other series</td>\n",
       "      <td>top_1001_to_10000_most_rated_authors</td>\n",
       "      <td>English</td>\n",
       "      <td>200-300</td>\n",
       "      <td>Paperback</td>\n",
       "      <td>Top Publishers</td>\n",
       "      <td>0</td>\n",
       "      <td>0</td>\n",
       "      <td>0</td>\n",
       "      <td>1</td>\n",
       "      <td>...</td>\n",
       "      <td>95.0</td>\n",
       "      <td>6.355911</td>\n",
       "      <td>6.653316</td>\n",
       "      <td>2363896</td>\n",
       "      <td>80794</td>\n",
       "      <td>4.28</td>\n",
       "      <td>0</td>\n",
       "      <td>0</td>\n",
       "      <td>0</td>\n",
       "      <td>2</td>\n",
       "    </tr>\n",
       "  </tbody>\n",
       "</table>\n",
       "<p>3 rows × 855 columns</p>\n",
       "</div>"
      ],
      "text/plain": [
       "                 series                                author language  \\\n",
       "0          Other series  top_1001_to_10000_most_rated_authors  English   \n",
       "1  Top 500 rated series           top_1000_most_rated_authors  English   \n",
       "2          Other series  top_1001_to_10000_most_rated_authors  English   \n",
       "\n",
       "     pages book_format       publisher fantasy science fiction dystopia  \\\n",
       "0  200-300   Hardcover  Top Publishers       1               1        1   \n",
       "1  700-800   Paperback  Top Publishers       1               1        0   \n",
       "2  200-300   Paperback  Top Publishers       0               0        0   \n",
       "\n",
       "  young adult  ... liked_perc bbe_score log_num_ratings 5_stars_num_ratings  \\\n",
       "0           1  ...       96.0  6.476225        6.804602             3444695   \n",
       "1           1  ...       98.0  6.420324        6.399262             1593642   \n",
       "2           1  ...       95.0  6.355911        6.653316             2363896   \n",
       "\n",
       "  1_star_num_ratings rating Unique Award (1) Uncommon Award (2,3)  \\\n",
       "0              93557   4.33                4                    5   \n",
       "1              14526   4.50                2                    0   \n",
       "2              80794   4.28                0                    0   \n",
       "\n",
       "  Singular Award (4-8) Frequently Awarded Literary Prizes (9-15)  \n",
       "0                    3                                        15  \n",
       "1                    1                                         3  \n",
       "2                    0                                         2  \n",
       "\n",
       "[3 rows x 855 columns]"
      ]
     },
     "metadata": {},
     "output_type": "display_data"
    },
    {
     "data": {
      "text/plain": [
       "(48655, 855)"
      ]
     },
     "metadata": {},
     "output_type": "display_data"
    }
   ],
   "source": [
    "display(gr_data_for_modelling.head(3),gr_data_for_modelling.shape)"
   ]
  },
  {
   "cell_type": "code",
   "execution_count": 48,
   "id": "37cfe8b4",
   "metadata": {},
   "outputs": [
    {
     "data": {
      "text/plain": [
       "0"
      ]
     },
     "execution_count": 48,
     "metadata": {},
     "output_type": "execute_result"
    }
   ],
   "source": [
    "# NaN values\n",
    "gr_data_for_modelling.isna().sum().sum()"
   ]
  },
  {
   "cell_type": "markdown",
   "id": "acdabae4",
   "metadata": {},
   "source": [
    "#### Saving data processed for modelling"
   ]
  },
  {
   "cell_type": "code",
   "execution_count": 49,
   "id": "48798df3",
   "metadata": {},
   "outputs": [],
   "source": [
    "gr_data_for_modelling.to_csv('./2. Clean_df/gr_data_MODELLING.csv')"
   ]
  },
  {
   "cell_type": "code",
   "execution_count": null,
   "id": "e1296c65",
   "metadata": {},
   "outputs": [],
   "source": []
  },
  {
   "cell_type": "markdown",
   "id": "35807237",
   "metadata": {},
   "source": [
    "## Linear Regression Model"
   ]
  },
  {
   "cell_type": "code",
   "execution_count": 50,
   "id": "8fd1db49",
   "metadata": {},
   "outputs": [],
   "source": [
    "from sklearn.model_selection import train_test_split\n",
    "from sklearn.linear_model import LinearRegression\n",
    "from sklearn.preprocessing import StandardScaler\n",
    "from sklearn.compose import ColumnTransformer\n",
    "from sklearn.preprocessing import OneHotEncoder\n",
    "from sklearn.metrics import r2_score, mean_squared_error, mean_absolute_error\n",
    "\n",
    "#import scipy.stats as stats"
   ]
  },
  {
   "cell_type": "code",
   "execution_count": 51,
   "id": "9a33c0f7",
   "metadata": {},
   "outputs": [
    {
     "data": {
      "text/plain": [
       "(48655, 855)"
      ]
     },
     "execution_count": 51,
     "metadata": {},
     "output_type": "execute_result"
    }
   ],
   "source": [
    "gr_data = pd.read_csv('./2. Clean_df/gr_data_MODELLING.csv')\n",
    "gr_data = gr_data.drop(['Unnamed: 0'],axis=1)\n",
    "gr_data.shape"
   ]
  },
  {
   "cell_type": "code",
   "execution_count": 52,
   "id": "3833fd4a",
   "metadata": {
    "scrolled": true
   },
   "outputs": [
    {
     "data": {
      "text/html": [
       "<div>\n",
       "<style scoped>\n",
       "    .dataframe tbody tr th:only-of-type {\n",
       "        vertical-align: middle;\n",
       "    }\n",
       "\n",
       "    .dataframe tbody tr th {\n",
       "        vertical-align: top;\n",
       "    }\n",
       "\n",
       "    .dataframe thead th {\n",
       "        text-align: right;\n",
       "    }\n",
       "</style>\n",
       "<table border=\"1\" class=\"dataframe\">\n",
       "  <thead>\n",
       "    <tr style=\"text-align: right;\">\n",
       "      <th></th>\n",
       "      <th>series</th>\n",
       "      <th>author</th>\n",
       "      <th>language</th>\n",
       "      <th>pages</th>\n",
       "      <th>book_format</th>\n",
       "      <th>publisher</th>\n",
       "      <th>fantasy</th>\n",
       "      <th>science fiction</th>\n",
       "      <th>dystopia</th>\n",
       "      <th>young adult</th>\n",
       "      <th>...</th>\n",
       "      <th>liked_perc</th>\n",
       "      <th>bbe_score</th>\n",
       "      <th>log_num_ratings</th>\n",
       "      <th>5_stars_num_ratings</th>\n",
       "      <th>1_star_num_ratings</th>\n",
       "      <th>rating</th>\n",
       "      <th>Unique Award (1)</th>\n",
       "      <th>Uncommon Award (2,3)</th>\n",
       "      <th>Singular Award (4-8)</th>\n",
       "      <th>Frequently Awarded Literary Prizes (9-15)</th>\n",
       "    </tr>\n",
       "  </thead>\n",
       "  <tbody>\n",
       "    <tr>\n",
       "      <th>0</th>\n",
       "      <td>Other series</td>\n",
       "      <td>top_1001_to_10000_most_rated_authors</td>\n",
       "      <td>English</td>\n",
       "      <td>200-300</td>\n",
       "      <td>Hardcover</td>\n",
       "      <td>Top Publishers</td>\n",
       "      <td>1</td>\n",
       "      <td>1</td>\n",
       "      <td>1</td>\n",
       "      <td>1</td>\n",
       "      <td>...</td>\n",
       "      <td>96.0</td>\n",
       "      <td>6.476225</td>\n",
       "      <td>6.804602</td>\n",
       "      <td>3444695</td>\n",
       "      <td>93557</td>\n",
       "      <td>4.33</td>\n",
       "      <td>4</td>\n",
       "      <td>5</td>\n",
       "      <td>3</td>\n",
       "      <td>15</td>\n",
       "    </tr>\n",
       "    <tr>\n",
       "      <th>1</th>\n",
       "      <td>Top 500 rated series</td>\n",
       "      <td>top_1000_most_rated_authors</td>\n",
       "      <td>English</td>\n",
       "      <td>700-800</td>\n",
       "      <td>Paperback</td>\n",
       "      <td>Top Publishers</td>\n",
       "      <td>1</td>\n",
       "      <td>1</td>\n",
       "      <td>0</td>\n",
       "      <td>1</td>\n",
       "      <td>...</td>\n",
       "      <td>98.0</td>\n",
       "      <td>6.420324</td>\n",
       "      <td>6.399262</td>\n",
       "      <td>1593642</td>\n",
       "      <td>14526</td>\n",
       "      <td>4.50</td>\n",
       "      <td>2</td>\n",
       "      <td>0</td>\n",
       "      <td>1</td>\n",
       "      <td>3</td>\n",
       "    </tr>\n",
       "    <tr>\n",
       "      <th>2</th>\n",
       "      <td>Other series</td>\n",
       "      <td>top_1001_to_10000_most_rated_authors</td>\n",
       "      <td>English</td>\n",
       "      <td>200-300</td>\n",
       "      <td>Paperback</td>\n",
       "      <td>Top Publishers</td>\n",
       "      <td>0</td>\n",
       "      <td>0</td>\n",
       "      <td>0</td>\n",
       "      <td>1</td>\n",
       "      <td>...</td>\n",
       "      <td>95.0</td>\n",
       "      <td>6.355911</td>\n",
       "      <td>6.653316</td>\n",
       "      <td>2363896</td>\n",
       "      <td>80794</td>\n",
       "      <td>4.28</td>\n",
       "      <td>0</td>\n",
       "      <td>0</td>\n",
       "      <td>0</td>\n",
       "      <td>2</td>\n",
       "    </tr>\n",
       "    <tr>\n",
       "      <th>3</th>\n",
       "      <td>Single Book</td>\n",
       "      <td>top_1001_to_10000_most_rated_authors</td>\n",
       "      <td>English</td>\n",
       "      <td>100-200</td>\n",
       "      <td>Paperback</td>\n",
       "      <td>Top Publishers</td>\n",
       "      <td>0</td>\n",
       "      <td>0</td>\n",
       "      <td>0</td>\n",
       "      <td>0</td>\n",
       "      <td>...</td>\n",
       "      <td>94.0</td>\n",
       "      <td>6.297348</td>\n",
       "      <td>6.476867</td>\n",
       "      <td>1617567</td>\n",
       "      <td>76770</td>\n",
       "      <td>4.26</td>\n",
       "      <td>0</td>\n",
       "      <td>0</td>\n",
       "      <td>0</td>\n",
       "      <td>0</td>\n",
       "    </tr>\n",
       "    <tr>\n",
       "      <th>4</th>\n",
       "      <td>Other series</td>\n",
       "      <td>top_1001_to_10000_most_rated_authors</td>\n",
       "      <td>English</td>\n",
       "      <td>400-500</td>\n",
       "      <td>Paperback</td>\n",
       "      <td>Top Publishers</td>\n",
       "      <td>1</td>\n",
       "      <td>1</td>\n",
       "      <td>0</td>\n",
       "      <td>1</td>\n",
       "      <td>...</td>\n",
       "      <td>78.0</td>\n",
       "      <td>6.164189</td>\n",
       "      <td>6.695877</td>\n",
       "      <td>1751460</td>\n",
       "      <td>548674</td>\n",
       "      <td>3.60</td>\n",
       "      <td>3</td>\n",
       "      <td>5</td>\n",
       "      <td>4</td>\n",
       "      <td>6</td>\n",
       "    </tr>\n",
       "  </tbody>\n",
       "</table>\n",
       "<p>5 rows × 855 columns</p>\n",
       "</div>"
      ],
      "text/plain": [
       "                 series                                author language  \\\n",
       "0          Other series  top_1001_to_10000_most_rated_authors  English   \n",
       "1  Top 500 rated series           top_1000_most_rated_authors  English   \n",
       "2          Other series  top_1001_to_10000_most_rated_authors  English   \n",
       "3           Single Book  top_1001_to_10000_most_rated_authors  English   \n",
       "4          Other series  top_1001_to_10000_most_rated_authors  English   \n",
       "\n",
       "     pages book_format       publisher  fantasy  science fiction  dystopia  \\\n",
       "0  200-300   Hardcover  Top Publishers        1                1         1   \n",
       "1  700-800   Paperback  Top Publishers        1                1         0   \n",
       "2  200-300   Paperback  Top Publishers        0                0         0   \n",
       "3  100-200   Paperback  Top Publishers        0                0         0   \n",
       "4  400-500   Paperback  Top Publishers        1                1         0   \n",
       "\n",
       "   young adult  ...  liked_perc  bbe_score  log_num_ratings  \\\n",
       "0            1  ...        96.0   6.476225         6.804602   \n",
       "1            1  ...        98.0   6.420324         6.399262   \n",
       "2            1  ...        95.0   6.355911         6.653316   \n",
       "3            0  ...        94.0   6.297348         6.476867   \n",
       "4            1  ...        78.0   6.164189         6.695877   \n",
       "\n",
       "   5_stars_num_ratings  1_star_num_ratings  rating  Unique Award (1)  \\\n",
       "0              3444695               93557    4.33                 4   \n",
       "1              1593642               14526    4.50                 2   \n",
       "2              2363896               80794    4.28                 0   \n",
       "3              1617567               76770    4.26                 0   \n",
       "4              1751460              548674    3.60                 3   \n",
       "\n",
       "   Uncommon Award (2,3)  Singular Award (4-8)  \\\n",
       "0                     5                     3   \n",
       "1                     0                     1   \n",
       "2                     0                     0   \n",
       "3                     0                     0   \n",
       "4                     5                     4   \n",
       "\n",
       "   Frequently Awarded Literary Prizes (9-15)  \n",
       "0                                         15  \n",
       "1                                          3  \n",
       "2                                          2  \n",
       "3                                          0  \n",
       "4                                          6  \n",
       "\n",
       "[5 rows x 855 columns]"
      ]
     },
     "execution_count": 52,
     "metadata": {},
     "output_type": "execute_result"
    }
   ],
   "source": [
    "gr_data.head()"
   ]
  },
  {
   "cell_type": "markdown",
   "id": "9d5a7025",
   "metadata": {},
   "source": [
    "#### X-y split"
   ]
  },
  {
   "cell_type": "code",
   "execution_count": 53,
   "id": "7fc08abf",
   "metadata": {},
   "outputs": [],
   "source": [
    "# Target = 'rating'\n",
    "y = gr_data['rating']\n",
    "X = gr_data.drop(['rating'],axis=1)"
   ]
  },
  {
   "cell_type": "markdown",
   "id": "8deaa975",
   "metadata": {},
   "source": [
    "#### Train-Test Split"
   ]
  },
  {
   "cell_type": "code",
   "execution_count": 54,
   "id": "a73eaa68",
   "metadata": {},
   "outputs": [],
   "source": [
    "X_train, X_test, y_train, y_test = train_test_split(X, y, test_size=0.2, random_state=77)"
   ]
  },
  {
   "cell_type": "markdown",
   "id": "fb5b449b",
   "metadata": {},
   "source": [
    "#### Split both Train and Test into numerical and categoricals"
   ]
  },
  {
   "cell_type": "code",
   "execution_count": 56,
   "id": "d57c38d7",
   "metadata": {},
   "outputs": [],
   "source": [
    "# X_train\n",
    "X_train_num = X_train.select_dtypes(include=np.number)\n",
    "X_train_cat = X_train.select_dtypes(include=['object'])\n",
    "\n",
    "# X_test\n",
    "X_test_num = X_test.select_dtypes(include=np.number)\n",
    "X_test_cat = X_test.select_dtypes(include=['object'])"
   ]
  },
  {
   "cell_type": "markdown",
   "id": "312654e4",
   "metadata": {},
   "source": [
    "#### Numerical Transformations"
   ]
  },
  {
   "cell_type": "markdown",
   "id": "3518bd00",
   "metadata": {},
   "source": [
    "- Fit only with numericals_train"
   ]
  },
  {
   "cell_type": "code",
   "execution_count": 57,
   "id": "c7074b16",
   "metadata": {},
   "outputs": [],
   "source": [
    "scaler = StandardScaler().fit(X_train_num)"
   ]
  },
  {
   "cell_type": "markdown",
   "id": "bb5390ad",
   "metadata": {},
   "source": [
    "- Transform both numericals_train and numericals_test"
   ]
  },
  {
   "cell_type": "code",
   "execution_count": 58,
   "id": "16d4fa9e",
   "metadata": {},
   "outputs": [],
   "source": [
    "X_train_num_scaled = scaler.transform(X_train_num)\n",
    "X_test_num_scaled = scaler.transform(X_test_num)"
   ]
  },
  {
   "cell_type": "code",
   "execution_count": 59,
   "id": "573dbcfd",
   "metadata": {},
   "outputs": [],
   "source": [
    "# Convert X_train_num_scaled and X_test_num_scaled to dataframes\n",
    "X_train_num_scaled_df = pd.DataFrame(X_train_num_scaled, columns=X_train_num.columns)\n",
    "X_test_num_scaled_df = pd.DataFrame(X_test_num_scaled, columns=X_test_num.columns)"
   ]
  },
  {
   "cell_type": "markdown",
   "id": "c83b6e6e",
   "metadata": {},
   "source": [
    "#### Categorical Encoding"
   ]
  },
  {
   "cell_type": "markdown",
   "id": "5cd229ed",
   "metadata": {},
   "source": [
    "Fit only with categoricals_train"
   ]
  },
  {
   "cell_type": "code",
   "execution_count": 60,
   "id": "26d48f9f",
   "metadata": {},
   "outputs": [],
   "source": [
    "encoder = OneHotEncoder().fit(X_train_cat)"
   ]
  },
  {
   "cell_type": "markdown",
   "id": "dd21e004",
   "metadata": {},
   "source": [
    "Encode both categoricals_train and numericals_test"
   ]
  },
  {
   "cell_type": "code",
   "execution_count": 61,
   "id": "416deff5",
   "metadata": {},
   "outputs": [],
   "source": [
    "X_train_cat_encoded = encoder.transform(X_train_cat)\n",
    "X_test_cat_encoded = encoder.transform(X_test_cat)"
   ]
  },
  {
   "cell_type": "code",
   "execution_count": 62,
   "id": "9c5b0dd3",
   "metadata": {},
   "outputs": [],
   "source": [
    "# Convert X_train_cat_encoded and X_test_cat_encoded to dataframes\n",
    "X_train_cat_encoded_df = pd.DataFrame(X_train_cat_encoded.toarray(), columns=encoder.get_feature_names_out())\n",
    "X_test_cat_encoded_df = pd.DataFrame(X_test_cat_encoded.toarray(), columns=encoder.get_feature_names_out())"
   ]
  },
  {
   "cell_type": "markdown",
   "id": "14dd06c1",
   "metadata": {},
   "source": [
    "#### Combine numericals_train and categoricals_train into train_processed"
   ]
  },
  {
   "cell_type": "code",
   "execution_count": 63,
   "id": "5383a13d",
   "metadata": {},
   "outputs": [],
   "source": [
    "train_processed = pd.concat([X_train_num_scaled_df, X_train_cat_encoded_df], axis=1)"
   ]
  },
  {
   "cell_type": "markdown",
   "id": "b4ba552e",
   "metadata": {},
   "source": [
    "#### Combine numericals_test and categoricals_test into test_processed"
   ]
  },
  {
   "cell_type": "code",
   "execution_count": 64,
   "id": "aec77f88",
   "metadata": {},
   "outputs": [],
   "source": [
    "test_processed = pd.concat([X_test_num_scaled_df, X_test_cat_encoded_df], axis=1)"
   ]
  },
  {
   "cell_type": "markdown",
   "id": "e403524f",
   "metadata": {},
   "source": [
    "#### Define Linear Regression Model"
   ]
  },
  {
   "cell_type": "markdown",
   "id": "c4a65ffe",
   "metadata": {},
   "source": [
    "- Fit model on train_processed"
   ]
  },
  {
   "cell_type": "code",
   "execution_count": 65,
   "id": "52e4cc33",
   "metadata": {},
   "outputs": [],
   "source": [
    "lr = LinearRegression().fit(train_processed, y_train)"
   ]
  },
  {
   "cell_type": "code",
   "execution_count": 66,
   "id": "ff32aa3c",
   "metadata": {},
   "outputs": [
    {
     "name": "stdout",
     "output_type": "stream",
     "text": [
      "First 5 predictions on the training data: [3.73948669 4.16273499 3.79444885 4.09135437 3.90409851]\n",
      "\n",
      "R-squared score on the training data: 0.45\n",
      "Root mean squared error on the training data: 0.26\n",
      "Mean squared error on the training data: 0.07\n",
      "Mean absolute error on the training data: 0.16\n"
     ]
    }
   ],
   "source": [
    "# Predictions on training data\n",
    "y_train_pred = lr.predict(train_processed)\n",
    "\n",
    "print(\"First 5 predictions on the training data:\", y_train_pred[:5])\n",
    "\n",
    "# Evaluation metrics\n",
    "r2 = r2_score(y_train, y_train_pred)\n",
    "rmse = np.sqrt(mean_squared_error(y_train, y_train_pred))\n",
    "mse = mean_squared_error(y_train, y_train_pred)\n",
    "mae = mean_absolute_error(y_train, y_train_pred)\n",
    "\n",
    "print(\"\\nR-squared score on the training data:\", round(r2, 2))\n",
    "print(\"Root mean squared error on the training data:\", round(rmse, 2))\n",
    "print(\"Mean squared error on the training data:\", round(mse, 2))\n",
    "print(\"Mean absolute error on the training data:\", round(mae, 2))"
   ]
  },
  {
   "cell_type": "markdown",
   "id": "b817ed5d",
   "metadata": {},
   "source": [
    "#### Predictions on test_processed and scores"
   ]
  },
  {
   "cell_type": "code",
   "execution_count": 80,
   "id": "883085c7",
   "metadata": {},
   "outputs": [
    {
     "name": "stdout",
     "output_type": "stream",
     "text": [
      "Actual data:\n",
      " 13219    4.05\n",
      "28726    4.00\n",
      "46900    3.86\n",
      "13985    4.51\n",
      "40148    4.10\n",
      "27223    3.97\n",
      "Name: rating, dtype: float64\n",
      "\n",
      "Predictions on the TEST data: [4.00071716 4.00016785 3.89833069 4.48484802 3.92564392 3.77653503]\n",
      "\n",
      "R-squared score on the test data: 0.42\n",
      "Root mean squared error on the test data: 0.27\n",
      "Mean squared error on the test data: 0.07\n",
      "Mean absolute error on the test data: 0.17\n"
     ]
    }
   ],
   "source": [
    "# Predictions on test data\n",
    "y_test_pred = lr.predict(test_processed)\n",
    "\n",
    "print(\"Actual data:\\n\", y_test[:6])\n",
    "print(\"\\nPredictions on the TEST data:\", y_test_pred[:6])\n",
    "\n",
    "# Evaluation metrics on test data\n",
    "r2_test = r2_score(y_test, y_test_pred)\n",
    "rmse_test = np.sqrt(mean_squared_error(y_test, y_test_pred))\n",
    "mse_test = mean_squared_error(y_test, y_test_pred)\n",
    "mae_test = mean_absolute_error(y_test, y_test_pred)\n",
    "\n",
    "print(\"\\nR-squared score on the test data:\", round(r2_test, 2))\n",
    "print(\"Root mean squared error on the test data:\", round(rmse_test, 2))\n",
    "print(\"Mean squared error on the test data:\", round(mse_test, 2))\n",
    "print(\"Mean absolute error on the test data:\", round(mae_test, 2))"
   ]
  },
  {
   "cell_type": "code",
   "execution_count": 68,
   "id": "e043deeb",
   "metadata": {},
   "outputs": [
    {
     "data": {
      "text/plain": [
       "count    48655.000000\n",
       "mean         4.015514\n",
       "std          0.347446\n",
       "min          0.000000\n",
       "25%          3.820000\n",
       "50%          4.020000\n",
       "75%          4.220000\n",
       "max          5.000000\n",
       "Name: rating, dtype: float64"
      ]
     },
     "execution_count": 68,
     "metadata": {},
     "output_type": "execute_result"
    }
   ],
   "source": [
    "gr_data['rating'].describe()"
   ]
  },
  {
   "cell_type": "code",
   "execution_count": null,
   "id": "e8c583bf",
   "metadata": {},
   "outputs": [],
   "source": []
  },
  {
   "cell_type": "markdown",
   "id": "56042b0b",
   "metadata": {},
   "source": [
    "After trying to use 'genres' and 'awards' (binary values) features both as numerical or categorical, the model is not performing well on the test data in any case:\n",
    "\n",
    "An R-squared score of 0.42 indicates that the model explains 42% of the variance in the target variable.\n",
    "\n",
    "The root mean squared error (RMSE) on the test data is 0.27 ('rating' std = 0.34), which means that on average, the model's predictions are off by 0.27 units from the actual values.\n",
    "\n",
    "The mean squared error (MSE) on the test data is 0.07, which is the average squared difference between the predicted and actual values.\n",
    "\n",
    "The mean absolute error (MAE) on the test data is 0.17, which is the average absolute difference between the predicted and actual values."
   ]
  },
  {
   "cell_type": "code",
   "execution_count": null,
   "id": "bd1e5665",
   "metadata": {},
   "outputs": [],
   "source": []
  },
  {
   "cell_type": "markdown",
   "id": "c553b1cf",
   "metadata": {},
   "source": [
    "#### Dimensionality Reduction: PCA and RFE"
   ]
  },
  {
   "cell_type": "markdown",
   "id": "603d6387",
   "metadata": {},
   "source": [
    "Considering that there are no large differences between the prediction scores of train and test data and variance of results for different subsets it's low, this model seems not to be overfitted. However, I'm going to check anyways if dimensionality reduction helps improving this scores.\n",
    "\n",
    "To do so, I'm going to apply PCA and RFE."
   ]
  },
  {
   "cell_type": "markdown",
   "id": "c5bde6e4",
   "metadata": {},
   "source": [
    "- Principal Component Analysis PCA"
   ]
  },
  {
   "cell_type": "markdown",
   "id": "fc8e46c2",
   "metadata": {},
   "source": [
    "Despite the potential loss of interpretability (since the principal components are linear combinations of the original features) and that PCA assumes a linear relationship between the features and the target (which seems weak at the moment after the scores of my model), I'm going to use PCA as it can reveal patterns and relationships in the data that may not be apparent in the original feature space."
   ]
  },
  {
   "cell_type": "code",
   "execution_count": 69,
   "id": "b639472b",
   "metadata": {
    "scrolled": true
   },
   "outputs": [
    {
     "data": {
      "text/html": [
       "<style>#sk-container-id-1 {color: black;background-color: white;}#sk-container-id-1 pre{padding: 0;}#sk-container-id-1 div.sk-toggleable {background-color: white;}#sk-container-id-1 label.sk-toggleable__label {cursor: pointer;display: block;width: 100%;margin-bottom: 0;padding: 0.3em;box-sizing: border-box;text-align: center;}#sk-container-id-1 label.sk-toggleable__label-arrow:before {content: \"▸\";float: left;margin-right: 0.25em;color: #696969;}#sk-container-id-1 label.sk-toggleable__label-arrow:hover:before {color: black;}#sk-container-id-1 div.sk-estimator:hover label.sk-toggleable__label-arrow:before {color: black;}#sk-container-id-1 div.sk-toggleable__content {max-height: 0;max-width: 0;overflow: hidden;text-align: left;background-color: #f0f8ff;}#sk-container-id-1 div.sk-toggleable__content pre {margin: 0.2em;color: black;border-radius: 0.25em;background-color: #f0f8ff;}#sk-container-id-1 input.sk-toggleable__control:checked~div.sk-toggleable__content {max-height: 200px;max-width: 100%;overflow: auto;}#sk-container-id-1 input.sk-toggleable__control:checked~label.sk-toggleable__label-arrow:before {content: \"▾\";}#sk-container-id-1 div.sk-estimator input.sk-toggleable__control:checked~label.sk-toggleable__label {background-color: #d4ebff;}#sk-container-id-1 div.sk-label input.sk-toggleable__control:checked~label.sk-toggleable__label {background-color: #d4ebff;}#sk-container-id-1 input.sk-hidden--visually {border: 0;clip: rect(1px 1px 1px 1px);clip: rect(1px, 1px, 1px, 1px);height: 1px;margin: -1px;overflow: hidden;padding: 0;position: absolute;width: 1px;}#sk-container-id-1 div.sk-estimator {font-family: monospace;background-color: #f0f8ff;border: 1px dotted black;border-radius: 0.25em;box-sizing: border-box;margin-bottom: 0.5em;}#sk-container-id-1 div.sk-estimator:hover {background-color: #d4ebff;}#sk-container-id-1 div.sk-parallel-item::after {content: \"\";width: 100%;border-bottom: 1px solid gray;flex-grow: 1;}#sk-container-id-1 div.sk-label:hover label.sk-toggleable__label {background-color: #d4ebff;}#sk-container-id-1 div.sk-serial::before {content: \"\";position: absolute;border-left: 1px solid gray;box-sizing: border-box;top: 0;bottom: 0;left: 50%;z-index: 0;}#sk-container-id-1 div.sk-serial {display: flex;flex-direction: column;align-items: center;background-color: white;padding-right: 0.2em;padding-left: 0.2em;position: relative;}#sk-container-id-1 div.sk-item {position: relative;z-index: 1;}#sk-container-id-1 div.sk-parallel {display: flex;align-items: stretch;justify-content: center;background-color: white;position: relative;}#sk-container-id-1 div.sk-item::before, #sk-container-id-1 div.sk-parallel-item::before {content: \"\";position: absolute;border-left: 1px solid gray;box-sizing: border-box;top: 0;bottom: 0;left: 50%;z-index: -1;}#sk-container-id-1 div.sk-parallel-item {display: flex;flex-direction: column;z-index: 1;position: relative;background-color: white;}#sk-container-id-1 div.sk-parallel-item:first-child::after {align-self: flex-end;width: 50%;}#sk-container-id-1 div.sk-parallel-item:last-child::after {align-self: flex-start;width: 50%;}#sk-container-id-1 div.sk-parallel-item:only-child::after {width: 0;}#sk-container-id-1 div.sk-dashed-wrapped {border: 1px dashed gray;margin: 0 0.4em 0.5em 0.4em;box-sizing: border-box;padding-bottom: 0.4em;background-color: white;}#sk-container-id-1 div.sk-label label {font-family: monospace;font-weight: bold;display: inline-block;line-height: 1.2em;}#sk-container-id-1 div.sk-label-container {text-align: center;}#sk-container-id-1 div.sk-container {/* jupyter's `normalize.less` sets `[hidden] { display: none; }` but bootstrap.min.css set `[hidden] { display: none !important; }` so we also need the `!important` here to be able to override the default hidden behavior on the sphinx rendered scikit-learn.org. See: https://github.com/scikit-learn/scikit-learn/issues/21755 */display: inline-block !important;position: relative;}#sk-container-id-1 div.sk-text-repr-fallback {display: none;}</style><div id=\"sk-container-id-1\" class=\"sk-top-container\"><div class=\"sk-text-repr-fallback\"><pre>PCA()</pre><b>In a Jupyter environment, please rerun this cell to show the HTML representation or trust the notebook. <br />On GitHub, the HTML representation is unable to render, please try loading this page with nbviewer.org.</b></div><div class=\"sk-container\" hidden><div class=\"sk-item\"><div class=\"sk-estimator sk-toggleable\"><input class=\"sk-toggleable__control sk-hidden--visually\" id=\"sk-estimator-id-1\" type=\"checkbox\" checked><label for=\"sk-estimator-id-1\" class=\"sk-toggleable__label sk-toggleable__label-arrow\">PCA</label><div class=\"sk-toggleable__content\"><pre>PCA()</pre></div></div></div></div></div>"
      ],
      "text/plain": [
       "PCA()"
      ]
     },
     "execution_count": 69,
     "metadata": {},
     "output_type": "execute_result"
    }
   ],
   "source": [
    "from sklearn.decomposition import PCA\n",
    "\n",
    "# Fit PCA on training data\n",
    "pca = PCA() #n_components=100\n",
    "pca.fit(train_processed)\n",
    "\n",
    "#pca.explained_variance_ratio_.round(2)"
   ]
  },
  {
   "cell_type": "code",
   "execution_count": 70,
   "id": "af6f30ce",
   "metadata": {},
   "outputs": [
    {
     "data": {
      "image/png": "[encoded data removed]",
      "text/plain": [
       "<Figure size 640x480 with 1 Axes>"
      ]
     },
     "metadata": {},
     "output_type": "display_data"
    }
   ],
   "source": [
    "# Get the explained variance ratios\n",
    "exp_var_pca = pca.explained_variance_ratio_\n",
    "\n",
    "# Calculate the cumulative sum of variance explained\n",
    "cum_sum_eigenvalues = np.cumsum(exp_var_pca)\n",
    "#cum_sum_eigenvalues\n",
    "\n",
    "# Plot the cumulative explained variance vs number of components\n",
    "plt.bar(range(0,len(exp_var_pca)), exp_var_pca, \n",
    "        alpha=0.5, align='center', label='Individual explained variance')\n",
    "plt.step(range(0,len(cum_sum_eigenvalues)), cum_sum_eigenvalues, \n",
    "         where='mid',label='Cumulative explained variance')\n",
    "plt.ylabel('Explained variance ratio')\n",
    "plt.xlabel('Principal component index')\n",
    "plt.legend(loc='best')\n",
    "plt.tight_layout()\n",
    "plt.show()"
   ]
  },
  {
   "cell_type": "markdown",
   "id": "a6345a15",
   "metadata": {},
   "source": [
    "As shown in the graph, we can see that the features selected to predict the target variable have a very weak ability to capture the variance in the original data. Therefore, it may be difficult to improve the regression model just by reducing dimensionality."
   ]
  },
  {
   "cell_type": "code",
   "execution_count": 71,
   "id": "60c93a4a",
   "metadata": {},
   "outputs": [
    {
     "data": {
      "text/plain": [
       "(48655, 855)"
      ]
     },
     "execution_count": 71,
     "metadata": {},
     "output_type": "execute_result"
    }
   ],
   "source": [
    "gr_data.shape"
   ]
  },
  {
   "cell_type": "code",
   "execution_count": 72,
   "id": "c3f2f826",
   "metadata": {},
   "outputs": [
    {
     "data": {
      "text/plain": [
       "0.9011793924892567"
      ]
     },
     "execution_count": 72,
     "metadata": {},
     "output_type": "execute_result"
    }
   ],
   "source": [
    "pca.explained_variance_ratio_[:650].sum()"
   ]
  },
  {
   "cell_type": "markdown",
   "id": "83227f25",
   "metadata": {},
   "source": [
    "Number of dimensions: 650 (Variance explained 0.90)"
   ]
  },
  {
   "cell_type": "code",
   "execution_count": 73,
   "id": "8949aa6e",
   "metadata": {
    "scrolled": true
   },
   "outputs": [
    {
     "data": {
      "text/html": [
       "<style>#sk-container-id-2 {color: black;background-color: white;}#sk-container-id-2 pre{padding: 0;}#sk-container-id-2 div.sk-toggleable {background-color: white;}#sk-container-id-2 label.sk-toggleable__label {cursor: pointer;display: block;width: 100%;margin-bottom: 0;padding: 0.3em;box-sizing: border-box;text-align: center;}#sk-container-id-2 label.sk-toggleable__label-arrow:before {content: \"▸\";float: left;margin-right: 0.25em;color: #696969;}#sk-container-id-2 label.sk-toggleable__label-arrow:hover:before {color: black;}#sk-container-id-2 div.sk-estimator:hover label.sk-toggleable__label-arrow:before {color: black;}#sk-container-id-2 div.sk-toggleable__content {max-height: 0;max-width: 0;overflow: hidden;text-align: left;background-color: #f0f8ff;}#sk-container-id-2 div.sk-toggleable__content pre {margin: 0.2em;color: black;border-radius: 0.25em;background-color: #f0f8ff;}#sk-container-id-2 input.sk-toggleable__control:checked~div.sk-toggleable__content {max-height: 200px;max-width: 100%;overflow: auto;}#sk-container-id-2 input.sk-toggleable__control:checked~label.sk-toggleable__label-arrow:before {content: \"▾\";}#sk-container-id-2 div.sk-estimator input.sk-toggleable__control:checked~label.sk-toggleable__label {background-color: #d4ebff;}#sk-container-id-2 div.sk-label input.sk-toggleable__control:checked~label.sk-toggleable__label {background-color: #d4ebff;}#sk-container-id-2 input.sk-hidden--visually {border: 0;clip: rect(1px 1px 1px 1px);clip: rect(1px, 1px, 1px, 1px);height: 1px;margin: -1px;overflow: hidden;padding: 0;position: absolute;width: 1px;}#sk-container-id-2 div.sk-estimator {font-family: monospace;background-color: #f0f8ff;border: 1px dotted black;border-radius: 0.25em;box-sizing: border-box;margin-bottom: 0.5em;}#sk-container-id-2 div.sk-estimator:hover {background-color: #d4ebff;}#sk-container-id-2 div.sk-parallel-item::after {content: \"\";width: 100%;border-bottom: 1px solid gray;flex-grow: 1;}#sk-container-id-2 div.sk-label:hover label.sk-toggleable__label {background-color: #d4ebff;}#sk-container-id-2 div.sk-serial::before {content: \"\";position: absolute;border-left: 1px solid gray;box-sizing: border-box;top: 0;bottom: 0;left: 50%;z-index: 0;}#sk-container-id-2 div.sk-serial {display: flex;flex-direction: column;align-items: center;background-color: white;padding-right: 0.2em;padding-left: 0.2em;position: relative;}#sk-container-id-2 div.sk-item {position: relative;z-index: 1;}#sk-container-id-2 div.sk-parallel {display: flex;align-items: stretch;justify-content: center;background-color: white;position: relative;}#sk-container-id-2 div.sk-item::before, #sk-container-id-2 div.sk-parallel-item::before {content: \"\";position: absolute;border-left: 1px solid gray;box-sizing: border-box;top: 0;bottom: 0;left: 50%;z-index: -1;}#sk-container-id-2 div.sk-parallel-item {display: flex;flex-direction: column;z-index: 1;position: relative;background-color: white;}#sk-container-id-2 div.sk-parallel-item:first-child::after {align-self: flex-end;width: 50%;}#sk-container-id-2 div.sk-parallel-item:last-child::after {align-self: flex-start;width: 50%;}#sk-container-id-2 div.sk-parallel-item:only-child::after {width: 0;}#sk-container-id-2 div.sk-dashed-wrapped {border: 1px dashed gray;margin: 0 0.4em 0.5em 0.4em;box-sizing: border-box;padding-bottom: 0.4em;background-color: white;}#sk-container-id-2 div.sk-label label {font-family: monospace;font-weight: bold;display: inline-block;line-height: 1.2em;}#sk-container-id-2 div.sk-label-container {text-align: center;}#sk-container-id-2 div.sk-container {/* jupyter's `normalize.less` sets `[hidden] { display: none; }` but bootstrap.min.css set `[hidden] { display: none !important; }` so we also need the `!important` here to be able to override the default hidden behavior on the sphinx rendered scikit-learn.org. See: https://github.com/scikit-learn/scikit-learn/issues/21755 */display: inline-block !important;position: relative;}#sk-container-id-2 div.sk-text-repr-fallback {display: none;}</style><div id=\"sk-container-id-2\" class=\"sk-top-container\"><div class=\"sk-text-repr-fallback\"><pre>PCA(n_components=0.9)</pre><b>In a Jupyter environment, please rerun this cell to show the HTML representation or trust the notebook. <br />On GitHub, the HTML representation is unable to render, please try loading this page with nbviewer.org.</b></div><div class=\"sk-container\" hidden><div class=\"sk-item\"><div class=\"sk-estimator sk-toggleable\"><input class=\"sk-toggleable__control sk-hidden--visually\" id=\"sk-estimator-id-2\" type=\"checkbox\" checked><label for=\"sk-estimator-id-2\" class=\"sk-toggleable__label sk-toggleable__label-arrow\">PCA</label><div class=\"sk-toggleable__content\"><pre>PCA(n_components=0.9)</pre></div></div></div></div></div>"
      ],
      "text/plain": [
       "PCA(n_components=0.9)"
      ]
     },
     "execution_count": 73,
     "metadata": {},
     "output_type": "execute_result"
    }
   ],
   "source": [
    "# Fit PCA on training data\n",
    "pca = PCA(0.90)\n",
    "pca.fit(train_processed)"
   ]
  },
  {
   "cell_type": "code",
   "execution_count": 74,
   "id": "164fb982",
   "metadata": {},
   "outputs": [],
   "source": [
    "# Transform training and test data\n",
    "X_train_pca = pca.transform(train_processed)\n",
    "X_test_pca = pca.transform(test_processed)"
   ]
  },
  {
   "cell_type": "markdown",
   "id": "c7d29be7",
   "metadata": {},
   "source": [
    "Linear Regression with PCA"
   ]
  },
  {
   "cell_type": "code",
   "execution_count": 75,
   "id": "176469ae",
   "metadata": {},
   "outputs": [
    {
     "name": "stdout",
     "output_type": "stream",
     "text": [
      "R-squared score (PCA transformed): 0.3205262322266471\n"
     ]
    }
   ],
   "source": [
    "# Fit linear regression on transformed data\n",
    "lr_pca = LinearRegression().fit(X_train_pca, y_train)\n",
    "\n",
    "# Predict on test set\n",
    "y_pred_pca = lr_pca.predict(X_test_pca)\n",
    "\n",
    "# Calculate R-squared score\n",
    "r2_pca = r2_score(y_test, y_pred_pca)\n",
    "print(\"R-squared score (PCA transformed):\", r2_pca)"
   ]
  },
  {
   "cell_type": "code",
   "execution_count": 76,
   "id": "f6a6aeca",
   "metadata": {},
   "outputs": [],
   "source": [
    "#plt.scatter(X_train_pca[:,0],X_train_pca[:,1], c = y_train)"
   ]
  },
  {
   "cell_type": "markdown",
   "id": "1fc96941",
   "metadata": {},
   "source": [
    "The R2 score of the linear regression model decreased (-0.1)after applying PCA, indicating that the PCA transformation did not improve the model's ability to predict the target variable."
   ]
  },
  {
   "cell_type": "code",
   "execution_count": null,
   "id": "fa5689f5",
   "metadata": {},
   "outputs": [],
   "source": []
  },
  {
   "cell_type": "markdown",
   "id": "4dc2a5de",
   "metadata": {},
   "source": [
    "#### Recursive Feature Elimination RFE"
   ]
  },
  {
   "cell_type": "markdown",
   "id": "af88ab3f",
   "metadata": {},
   "source": [
    "RFE helps to identify the most important features related to the target and it and can improve the accuracy of the model without sacrificing too much predictive power or information. As in each iteration removes the less ranked features in rfe.ranking_ I'm going to check if this type of reduction leads my regression model to better scores."
   ]
  },
  {
   "cell_type": "code",
   "execution_count": 82,
   "id": "476b4d40",
   "metadata": {},
   "outputs": [
    {
     "name": "stdout",
     "output_type": "stream",
     "text": [
      "Target metrics:\n",
      "count    48655.000000\n",
      "mean         4.015514\n",
      "std          0.347446\n",
      "min          0.000000\n",
      "25%          3.820000\n",
      "50%          4.020000\n",
      "75%          4.220000\n",
      "max          5.000000\n",
      "\n",
      "\n"
     ]
    },
    {
     "data": {
      "text/html": [
       "<div>\n",
       "<style scoped>\n",
       "    .dataframe tbody tr th:only-of-type {\n",
       "        vertical-align: middle;\n",
       "    }\n",
       "\n",
       "    .dataframe tbody tr th {\n",
       "        vertical-align: top;\n",
       "    }\n",
       "\n",
       "    .dataframe thead th {\n",
       "        text-align: right;\n",
       "    }\n",
       "</style>\n",
       "<table border=\"1\" class=\"dataframe\">\n",
       "  <thead>\n",
       "    <tr style=\"text-align: right;\">\n",
       "      <th></th>\n",
       "      <th>R2 Score (Train)</th>\n",
       "      <th>R2 Score (Test)</th>\n",
       "    </tr>\n",
       "    <tr>\n",
       "      <th>n_features_to_select</th>\n",
       "      <th></th>\n",
       "      <th></th>\n",
       "    </tr>\n",
       "  </thead>\n",
       "  <tbody>\n",
       "    <tr>\n",
       "      <th>200</th>\n",
       "      <td>0.439327</td>\n",
       "      <td>0.421597</td>\n",
       "    </tr>\n",
       "    <tr>\n",
       "      <th>300</th>\n",
       "      <td>0.442724</td>\n",
       "      <td>0.420984</td>\n",
       "    </tr>\n",
       "    <tr>\n",
       "      <th>400</th>\n",
       "      <td>0.444348</td>\n",
       "      <td>0.421672</td>\n",
       "    </tr>\n",
       "    <tr>\n",
       "      <th>500</th>\n",
       "      <td>0.445382</td>\n",
       "      <td>0.421402</td>\n",
       "    </tr>\n",
       "    <tr>\n",
       "      <th>600</th>\n",
       "      <td>0.445978</td>\n",
       "      <td>0.421274</td>\n",
       "    </tr>\n",
       "  </tbody>\n",
       "</table>\n",
       "</div>"
      ],
      "text/plain": [
       "                      R2 Score (Train)  R2 Score (Test)\n",
       "n_features_to_select                                   \n",
       "200                           0.439327         0.421597\n",
       "300                           0.442724         0.420984\n",
       "400                           0.444348         0.421672\n",
       "500                           0.445382         0.421402\n",
       "600                           0.445978         0.421274"
      ]
     },
     "metadata": {},
     "output_type": "display_data"
    }
   ],
   "source": [
    "from sklearn.preprocessing import MinMaxScaler\n",
    "from sklearn.feature_selection import RFE\n",
    "\n",
    "# Range of values for n_features_to_select\n",
    "n_features_to_selects = range(200, 601, 100)\n",
    "\n",
    "# Empty list to store the results\n",
    "results = []\n",
    "\n",
    "for n_features_to_select in n_features_to_selects:\n",
    "    # RFE on the training set\n",
    "    lm_rfe = LinearRegression()\n",
    "    rfe = RFE(lm_rfe, n_features_to_select=n_features_to_select, verbose=False)\n",
    "    rfe.fit(train_processed, y_train)\n",
    "\n",
    "    # Top features from the test set\n",
    "    X_train_rfe = rfe.transform(train_processed)\n",
    "    X_test_rfe = rfe.transform(test_processed)\n",
    "\n",
    "    # Train the model on the selected features\n",
    "    lm_rfe.fit(X_train_rfe, y_train)\n",
    "\n",
    "    # predict the ratings for both training and test sets\n",
    "    y_train_pred = lm_rfe.predict(X_train_rfe)\n",
    "    y_test_pred = lm_rfe.predict(X_test_rfe)\n",
    "\n",
    "    # calculate the R2 score for both sets\n",
    "    r2_train = r2_score(y_train, y_train_pred)\n",
    "    r2_test = r2_score(y_test, y_test_pred)\n",
    "\n",
    "    # Append the results to the list\n",
    "    results.append((n_features_to_select, r2_train, r2_test))\n",
    "\n",
    "# New dataFrame to store the results\n",
    "df_results = pd.DataFrame(results, columns=['n_features_to_select', 'R2 Score (Train)', 'R2 Score (Test)'])\n",
    "df_results.set_index('n_features_to_select', inplace=True)\n",
    "\n",
    "# Get summary statistics of the 'rating' column\n",
    "rating_summary = gr_data['rating'].describe()\n",
    "\n",
    "# Format the summary statistics string\n",
    "summary_str = f\"Target metrics:\\n{rating_summary.to_string()}\"\n",
    "summary_str += \"\\n\\n\"\n",
    "\n",
    "# Print the results DataFrame and the summary statistics\n",
    "print(summary_str)\n",
    "display(df_results)"
   ]
  },
  {
   "cell_type": "code",
   "execution_count": 84,
   "id": "1c1ec200",
   "metadata": {},
   "outputs": [],
   "source": [
    "#rfe.ranking_"
   ]
  },
  {
   "cell_type": "markdown",
   "id": "f0b767df",
   "metadata": {},
   "source": [
    "It seems like the RFE (Recursive Feature Elimination) approach was able to achieve a similar R2 score as the linear regression model, while only using 600 features compared to the original LR model's 855 features. This suggests that the RFE approach was able to identify the most important features for predicting the target variable and remove the irrelevant ones.\n",
    "\n",
    "On the other hand, the PCA approach performed much worse with an R2 score of -0.12, even though it operated with 650 features. This may indicate that PCA was not able to capture enough variance in the data and may have discarded important information during dimensionality reduction."
   ]
  },
  {
   "cell_type": "code",
   "execution_count": null,
   "id": "743f989f",
   "metadata": {},
   "outputs": [],
   "source": []
  },
  {
   "cell_type": "markdown",
   "id": "0e89b7f4",
   "metadata": {},
   "source": [
    "## Alternative model: Random Forest Regressor"
   ]
  },
  {
   "cell_type": "markdown",
   "id": "baa7debb",
   "metadata": {},
   "source": [
    "As dimensionality reduction has not improved the scores of my linear regression model, I'm going to use a Random Forest Regressor (RFR) to predict the 'rating' and check if this model it's more sensitive to more complex relationships between the features and the target."
   ]
  },
  {
   "cell_type": "markdown",
   "id": "d1a9df05",
   "metadata": {},
   "source": [
    "Linear regression and random forest are two popular algorithms used in machine learning for regression tasks. Here are some pros and cons of each algorithm:\n",
    "\n",
    "Linear Regression:\n",
    "Pros:\n",
    "\n",
    "Simplicity: Linear regression is a simple and easy-to-understand algorithm, which makes it a good choice for simple problems.\n",
    "Speed: Linear regression is a fast algorithm that can handle large datasets with many features.\n",
    "Interpretability: The coefficients of a linear regression model can be easily interpreted as the effect of each feature on the target variable.\n",
    "Cons:\n",
    "\n",
    "Linearity assumption: Linear regression assumes that the relationship between the features and the target variable is linear, which may not be true in all cases.\n",
    "Sensitivity to outliers: Linear regression is sensitive to outliers, which can have a large effect on the estimated coefficients.\n",
    "Limited flexibility: Linear regression is limited to linear relationships, which may not capture complex relationships in the data.\n",
    "\n",
    "\n",
    "Random Forest:\n",
    "Pros:\n",
    "\n",
    "Non-linearity: Random forest can capture non-linear relationships between the features and the target variable.\n",
    "Robustness: Random forest is robust to outliers and noise in the data, since it averages the predictions of multiple trees.\n",
    "Flexibility: Random forest can handle a wide range of data types, including categorical and continuous variables.\n",
    "Cons:\n",
    "\n",
    "Complexity: Random forest can be a complex algorithm to understand and tune, especially when dealing with large datasets.\n",
    "Black-box model: Random forest can be difficult to interpret, since it involves multiple decision trees.\n",
    "Overfitting: Random forest can overfit the training data if the number of trees or the depth of the trees is too high.\n",
    "Overall, the choice between linear regression and random forest depends on the specific problem and data at hand. Linear regression is a good choice for simple problems with linear relationships, while random forest is more flexible and can handle more complex relationships, but may require more tuning and can be harder to interpret."
   ]
  },
  {
   "cell_type": "code",
   "execution_count": null,
   "id": "f6c015f4",
   "metadata": {},
   "outputs": [],
   "source": []
  },
  {
   "cell_type": "markdown",
   "id": "5fe6525a",
   "metadata": {},
   "source": [
    "##### Random Forest Regressor"
   ]
  },
  {
   "cell_type": "code",
   "execution_count": 85,
   "id": "3fa2788d",
   "metadata": {},
   "outputs": [
    {
     "name": "stdout",
     "output_type": "stream",
     "text": [
      "Target metrics:\n",
      "count    48655.000000\n",
      "mean         4.015514\n",
      "std          0.347446\n",
      "min          0.000000\n",
      "25%          3.820000\n",
      "50%          4.020000\n",
      "75%          4.220000\n",
      "max          5.000000\n",
      "\n",
      "\n"
     ]
    },
    {
     "data": {
      "text/html": [
       "<div>\n",
       "<style scoped>\n",
       "    .dataframe tbody tr th:only-of-type {\n",
       "        vertical-align: middle;\n",
       "    }\n",
       "\n",
       "    .dataframe tbody tr th {\n",
       "        vertical-align: top;\n",
       "    }\n",
       "\n",
       "    .dataframe thead th {\n",
       "        text-align: right;\n",
       "    }\n",
       "</style>\n",
       "<table border=\"1\" class=\"dataframe\">\n",
       "  <thead>\n",
       "    <tr style=\"text-align: right;\">\n",
       "      <th></th>\n",
       "      <th>R2 Score</th>\n",
       "      <th>RMSE</th>\n",
       "      <th>MSE</th>\n",
       "      <th>MAE</th>\n",
       "    </tr>\n",
       "    <tr>\n",
       "      <th>max_depth</th>\n",
       "      <th></th>\n",
       "      <th></th>\n",
       "      <th></th>\n",
       "      <th></th>\n",
       "    </tr>\n",
       "  </thead>\n",
       "  <tbody>\n",
       "    <tr>\n",
       "      <th>5</th>\n",
       "      <td>0.619288</td>\n",
       "      <td>0.216456</td>\n",
       "      <td>0.046853</td>\n",
       "      <td>0.123997</td>\n",
       "    </tr>\n",
       "    <tr>\n",
       "      <th>10</th>\n",
       "      <td>0.635481</td>\n",
       "      <td>0.211803</td>\n",
       "      <td>0.044860</td>\n",
       "      <td>0.117658</td>\n",
       "    </tr>\n",
       "    <tr>\n",
       "      <th>15</th>\n",
       "      <td>0.636279</td>\n",
       "      <td>0.211571</td>\n",
       "      <td>0.044762</td>\n",
       "      <td>0.117795</td>\n",
       "    </tr>\n",
       "    <tr>\n",
       "      <th>20</th>\n",
       "      <td>0.634242</td>\n",
       "      <td>0.212163</td>\n",
       "      <td>0.045013</td>\n",
       "      <td>0.117794</td>\n",
       "    </tr>\n",
       "    <tr>\n",
       "      <th>25</th>\n",
       "      <td>0.634487</td>\n",
       "      <td>0.212092</td>\n",
       "      <td>0.044983</td>\n",
       "      <td>0.117712</td>\n",
       "    </tr>\n",
       "    <tr>\n",
       "      <th>30</th>\n",
       "      <td>0.635357</td>\n",
       "      <td>0.211839</td>\n",
       "      <td>0.044876</td>\n",
       "      <td>0.117912</td>\n",
       "    </tr>\n",
       "    <tr>\n",
       "      <th>35</th>\n",
       "      <td>0.635162</td>\n",
       "      <td>0.211896</td>\n",
       "      <td>0.044900</td>\n",
       "      <td>0.117765</td>\n",
       "    </tr>\n",
       "    <tr>\n",
       "      <th>40</th>\n",
       "      <td>0.635680</td>\n",
       "      <td>0.211745</td>\n",
       "      <td>0.044836</td>\n",
       "      <td>0.117746</td>\n",
       "    </tr>\n",
       "    <tr>\n",
       "      <th>45</th>\n",
       "      <td>0.635956</td>\n",
       "      <td>0.211665</td>\n",
       "      <td>0.044802</td>\n",
       "      <td>0.117772</td>\n",
       "    </tr>\n",
       "    <tr>\n",
       "      <th>50</th>\n",
       "      <td>0.635109</td>\n",
       "      <td>0.211911</td>\n",
       "      <td>0.044906</td>\n",
       "      <td>0.117619</td>\n",
       "    </tr>\n",
       "  </tbody>\n",
       "</table>\n",
       "</div>"
      ],
      "text/plain": [
       "           R2 Score      RMSE       MSE       MAE\n",
       "max_depth                                        \n",
       "5          0.619288  0.216456  0.046853  0.123997\n",
       "10         0.635481  0.211803  0.044860  0.117658\n",
       "15         0.636279  0.211571  0.044762  0.117795\n",
       "20         0.634242  0.212163  0.045013  0.117794\n",
       "25         0.634487  0.212092  0.044983  0.117712\n",
       "30         0.635357  0.211839  0.044876  0.117912\n",
       "35         0.635162  0.211896  0.044900  0.117765\n",
       "40         0.635680  0.211745  0.044836  0.117746\n",
       "45         0.635956  0.211665  0.044802  0.117772\n",
       "50         0.635109  0.211911  0.044906  0.117619"
      ]
     },
     "metadata": {},
     "output_type": "display_data"
    }
   ],
   "source": [
    "from sklearn.ensemble import RandomForestRegressor\n",
    "\n",
    "# Range of values for max_depth\n",
    "max_depths = range(5, 51, 5)\n",
    "\n",
    "# Empty list to store the results\n",
    "results = []\n",
    "\n",
    "for max_depth in max_depths:\n",
    "    # Model\n",
    "    rf = RandomForestRegressor(max_depth=max_depth, min_samples_split=200, min_samples_leaf=200)\n",
    "    # Fit\n",
    "    rf.fit(train_processed, y_train)\n",
    "    # Predictions on the test data\n",
    "    y_pred = rf.predict(test_processed)\n",
    "\n",
    "    # Evaluation metrics\n",
    "    r2 = r2_score(y_test, y_pred)\n",
    "    mse = mean_squared_error(y_test, y_pred)\n",
    "    mae = mean_absolute_error(y_test, y_pred)\n",
    "    rmse = np.sqrt(mse)\n",
    "\n",
    "    # Append the results to the list\n",
    "    results.append((max_depth, r2, rmse, mse, mae))\n",
    "\n",
    "# New DataFrame to store the results\n",
    "df_results = pd.DataFrame(results, columns=['max_depth', 'R2 Score', 'RMSE', 'MSE', 'MAE'])\n",
    "df_results.set_index('max_depth', inplace=True)\n",
    "\n",
    "# Get summary statistics of the 'rating' column\n",
    "rating_summary = gr_data['rating'].describe()\n",
    "\n",
    "# Format the summary statistics string\n",
    "summary_str = f\"Target metrics:\\n{rating_summary.to_string()}\"\n",
    "summary_str += \"\\n\\n\"\n",
    "\n",
    "# Print the results DataFrame and the summary statistics\n",
    "print(summary_str)\n",
    "display(df_results)\n"
   ]
  },
  {
   "cell_type": "markdown",
   "id": "d0baafad",
   "metadata": {},
   "source": [
    "The initial results of using RFR with a range of max_depth (5-50) show a significant improvement in the R2 score. The highest score achieved within this range was with max_depth = 15, which had a score of 0.636 (+0.21 compared to the LR model).\n",
    "\n",
    "Additionally, RFR outperforms LR in terms of RMSE (-0.06), MSE (-0.03), and MAE (-0.06).\n",
    "\n",
    "Next, I will explore the effect of larger max_depth values on the performance of the RFR model."
   ]
  },
  {
   "cell_type": "code",
   "execution_count": 86,
   "id": "84369052",
   "metadata": {},
   "outputs": [
    {
     "data": {
      "text/html": [
       "<div>\n",
       "<style scoped>\n",
       "    .dataframe tbody tr th:only-of-type {\n",
       "        vertical-align: middle;\n",
       "    }\n",
       "\n",
       "    .dataframe tbody tr th {\n",
       "        vertical-align: top;\n",
       "    }\n",
       "\n",
       "    .dataframe thead th {\n",
       "        text-align: right;\n",
       "    }\n",
       "</style>\n",
       "<table border=\"1\" class=\"dataframe\">\n",
       "  <thead>\n",
       "    <tr style=\"text-align: right;\">\n",
       "      <th></th>\n",
       "      <th>R2 Score</th>\n",
       "      <th>RMSE</th>\n",
       "      <th>MSE</th>\n",
       "      <th>MAE</th>\n",
       "    </tr>\n",
       "    <tr>\n",
       "      <th>max_depth</th>\n",
       "      <th></th>\n",
       "      <th></th>\n",
       "      <th></th>\n",
       "      <th></th>\n",
       "    </tr>\n",
       "  </thead>\n",
       "  <tbody>\n",
       "    <tr>\n",
       "      <th>50</th>\n",
       "      <td>0.635116</td>\n",
       "      <td>0.211909</td>\n",
       "      <td>0.044905</td>\n",
       "      <td>0.117616</td>\n",
       "    </tr>\n",
       "    <tr>\n",
       "      <th>150</th>\n",
       "      <td>0.635553</td>\n",
       "      <td>0.211782</td>\n",
       "      <td>0.044852</td>\n",
       "      <td>0.117948</td>\n",
       "    </tr>\n",
       "    <tr>\n",
       "      <th>250</th>\n",
       "      <td>0.635504</td>\n",
       "      <td>0.211796</td>\n",
       "      <td>0.044858</td>\n",
       "      <td>0.117730</td>\n",
       "    </tr>\n",
       "    <tr>\n",
       "      <th>350</th>\n",
       "      <td>0.636942</td>\n",
       "      <td>0.211378</td>\n",
       "      <td>0.044681</td>\n",
       "      <td>0.117684</td>\n",
       "    </tr>\n",
       "    <tr>\n",
       "      <th>450</th>\n",
       "      <td>0.636564</td>\n",
       "      <td>0.211488</td>\n",
       "      <td>0.044727</td>\n",
       "      <td>0.117716</td>\n",
       "    </tr>\n",
       "    <tr>\n",
       "      <th>550</th>\n",
       "      <td>0.635411</td>\n",
       "      <td>0.211823</td>\n",
       "      <td>0.044869</td>\n",
       "      <td>0.117740</td>\n",
       "    </tr>\n",
       "    <tr>\n",
       "      <th>650</th>\n",
       "      <td>0.635741</td>\n",
       "      <td>0.211727</td>\n",
       "      <td>0.044828</td>\n",
       "      <td>0.117536</td>\n",
       "    </tr>\n",
       "    <tr>\n",
       "      <th>750</th>\n",
       "      <td>0.635922</td>\n",
       "      <td>0.211675</td>\n",
       "      <td>0.044806</td>\n",
       "      <td>0.117607</td>\n",
       "    </tr>\n",
       "    <tr>\n",
       "      <th>850</th>\n",
       "      <td>0.636114</td>\n",
       "      <td>0.211619</td>\n",
       "      <td>0.044783</td>\n",
       "      <td>0.117649</td>\n",
       "    </tr>\n",
       "    <tr>\n",
       "      <th>950</th>\n",
       "      <td>0.635224</td>\n",
       "      <td>0.211878</td>\n",
       "      <td>0.044892</td>\n",
       "      <td>0.117734</td>\n",
       "    </tr>\n",
       "  </tbody>\n",
       "</table>\n",
       "</div>"
      ],
      "text/plain": [
       "           R2 Score      RMSE       MSE       MAE\n",
       "max_depth                                        \n",
       "50         0.635116  0.211909  0.044905  0.117616\n",
       "150        0.635553  0.211782  0.044852  0.117948\n",
       "250        0.635504  0.211796  0.044858  0.117730\n",
       "350        0.636942  0.211378  0.044681  0.117684\n",
       "450        0.636564  0.211488  0.044727  0.117716\n",
       "550        0.635411  0.211823  0.044869  0.117740\n",
       "650        0.635741  0.211727  0.044828  0.117536\n",
       "750        0.635922  0.211675  0.044806  0.117607\n",
       "850        0.636114  0.211619  0.044783  0.117649\n",
       "950        0.635224  0.211878  0.044892  0.117734"
      ]
     },
     "metadata": {},
     "output_type": "display_data"
    },
    {
     "data": {
      "text/plain": [
       "'Target metrics: mean 4.015 / std 0.347 / min 0.00 / 25% 3.82 / 50% 4.02 / 75% 4.22 / max 5.00'"
      ]
     },
     "metadata": {},
     "output_type": "display_data"
    }
   ],
   "source": [
    "from sklearn.ensemble import RandomForestRegressor\n",
    "# Range of values for max_depth\n",
    "max_depths = range(50, 1001, 100)\n",
    "\n",
    "# Empty list to store the results\n",
    "results = []\n",
    "\n",
    "for max_depth in max_depths:\n",
    "    # Model\n",
    "    rf = RandomForestRegressor(max_depth=max_depth, min_samples_split=200, min_samples_leaf=200)\n",
    "    # Fit\n",
    "    rf.fit(train_processed, y_train)\n",
    "    # Predictions on the test data\n",
    "    y_pred = rf.predict(test_processed)\n",
    "\n",
    "    # Evaluation metrics\n",
    "    r2 = r2_score(y_test, y_pred)\n",
    "    mse = mean_squared_error(y_test, y_pred)\n",
    "    mae = mean_absolute_error(y_test, y_pred)\n",
    "    rmse = np.sqrt(mse)\n",
    "\n",
    "    # Append the results to the list\n",
    "    results.append((max_depth, r2, rmse, mse, mae))\n",
    "\n",
    "# New dataFrame to store the results\n",
    "df_results = pd.DataFrame(results, columns=['max_depth', 'R2 Score', 'RMSE', 'MSE', 'MAE'])\n",
    "df_results.set_index('max_depth', inplace=True)\n",
    "\n",
    "display(df_results)\n",
    "display(\"Target metrics: mean 4.015 / std 0.347 / min 0.00 / 25% 3.82 / 50% 4.02 / 75% 4.22 / max 5.00\",)"
   ]
  },
  {
   "cell_type": "markdown",
   "id": "e8fe7e67",
   "metadata": {},
   "source": [
    "Larger depths for RFR predictions have not achieved significant differences from previous ones. In this new range (50-950), the greatest R2 score for test predictions is max_depth=350, with a score only +0.0007 larger than the one obtained previously by max_depth=15. The other metrics also do not show any important differences."
   ]
  },
  {
   "cell_type": "code",
   "execution_count": null,
   "id": "06e2bb9d",
   "metadata": {},
   "outputs": [],
   "source": []
  },
  {
   "cell_type": "code",
   "execution_count": null,
   "id": "b3a0f2be",
   "metadata": {},
   "outputs": [],
   "source": []
  },
  {
   "cell_type": "markdown",
   "id": "97d78e81",
   "metadata": {},
   "source": [
    "# Conclusion"
   ]
  },
  {
   "cell_type": "markdown",
   "id": "5f810d35",
   "metadata": {},
   "source": [
    "Amongst the typical features to assess literary books, my personal approach of using the great amount of unique genres and awards (listed in GoodReads dataset) as key predictors has not yield the expected results expected when applied to regression models.\n",
    "\n",
    "Although Random Forest Regressor (RFR) has achieved to explain the 63% of the variability in the target, which is moderately acceptable, it's still difficult to assess the non-linear and more complex relationship between these features and the 'rating'. A relationship that may not have been captured by the previous Linear Regression (LR).\n",
    "\n",
    "In fact, LR model only got an R2 score of 0.42, below the acceptable threshold, regardless of whether or not recursive feature elimination was applied. PCA got even worse results, yet it also provided evidence of the features' inadequate capacity to account for the variance.\n",
    "\n",
    "In summary, the use of so many features as predictors may not have facilitated the creation of a more robust regression model. Nonetheless, the RFR metrics indicate that this model is far from useless and has considerable room for improvement."
   ]
  },
  {
   "cell_type": "code",
   "execution_count": null,
   "id": "f63c39d7",
   "metadata": {},
   "outputs": [],
   "source": []
  }
 ],
 "metadata": {
  "kernelspec": {
   "display_name": "Python 3 (ipykernel)",
   "language": "python",
   "name": "python3"
  },
  "language_info": {
   "codemirror_mode": {
    "name": "ipython",
    "version": 3
   },
   "file_extension": ".py",
   "mimetype": "text/x-python",
   "name": "python",
   "nbconvert_exporter": "python",
   "pygments_lexer": "ipython3",
   "version": "3.9.13"
  }
 },
 "nbformat": 4,
 "nbformat_minor": 5
}
