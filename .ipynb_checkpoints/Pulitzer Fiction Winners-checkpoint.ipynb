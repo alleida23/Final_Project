{
 "cells": [
  {
   "cell_type": "code",
   "execution_count": 208,
   "id": "62145c08",
   "metadata": {},
   "outputs": [],
   "source": [
    "import requests\n",
    "from bs4 import BeautifulSoup\n",
    "import pandas as pd\n",
    "import time\n",
    "import random"
   ]
  },
  {
   "cell_type": "markdown",
   "id": "c571bd26",
   "metadata": {},
   "source": [
    "## Fiction Winners"
   ]
  },
  {
   "cell_type": "code",
   "execution_count": 209,
   "id": "11e7b21d",
   "metadata": {},
   "outputs": [
    {
     "data": {
      "text/plain": [
       "200"
      ]
     },
     "metadata": {},
     "output_type": "display_data"
    }
   ],
   "source": [
    "\n",
    "# Send a GET request to the URL\n",
    "url = 'https://en.wikipedia.org/wiki/Pulitzer_Prize_for_Fiction'\n",
    "response = requests.get(url)\n",
    "display(response.status_code)\n",
    "# Parse the HTML content using BeautifulSoup\n",
    "soup = BeautifulSoup(response.content, 'html.parser')\n"
   ]
  },
  {
   "cell_type": "code",
   "execution_count": 210,
   "id": "81941ebb",
   "metadata": {},
   "outputs": [],
   "source": [
    "# Parse the HTML content using BeautifulSoup\n",
    "#soup = BeautifulSoup(response.content, 'html.parser')\n",
    "#print(soup.prettify())"
   ]
  },
  {
   "cell_type": "markdown",
   "id": "41b7f929",
   "metadata": {},
   "source": [
    "### Table 1918-1978"
   ]
  },
  {
   "cell_type": "code",
   "execution_count": 211,
   "id": "45bd57d5",
   "metadata": {},
   "outputs": [],
   "source": [
    "#soup.select('#mw-content-text > div.mw-parser-output > table:nth-child(24)')"
   ]
  },
  {
   "cell_type": "code",
   "execution_count": 212,
   "id": "dfac7158",
   "metadata": {},
   "outputs": [],
   "source": [
    "winners = soup.select(\"table\")[1]\n",
    "#winners"
   ]
  },
  {
   "cell_type": "markdown",
   "id": "7ab80f96",
   "metadata": {},
   "source": [
    "#### Year and Book Title 1918 to 1979"
   ]
  },
  {
   "cell_type": "markdown",
   "id": "2a55e4c3",
   "metadata": {},
   "source": [
    "#mw-content-text > div.mw-parser-output > table:nth-child(24) > tbody > tr:nth-child(1) > td:nth-child(1) > b > a"
   ]
  },
  {
   "cell_type": "code",
   "execution_count": 213,
   "id": "6f554400",
   "metadata": {
    "scrolled": true
   },
   "outputs": [
    {
     "data": {
      "text/plain": [
       "'His Family'"
      ]
     },
     "execution_count": 213,
     "metadata": {},
     "output_type": "execute_result"
    }
   ],
   "source": [
    "winners.select('tr td b a')[1]['title']"
   ]
  },
  {
   "cell_type": "code",
   "execution_count": 214,
   "id": "aa58866f",
   "metadata": {},
   "outputs": [
    {
     "data": {
      "text/plain": [
       "['1917 in literature',\n",
       " 'His Family',\n",
       " '1918 in literature',\n",
       " 'The Magnificent Ambersons',\n",
       " '1919 in literature',\n",
       " '1920 in literature',\n",
       " 'The Age of Innocence',\n",
       " '1921 in literature',\n",
       " 'Alice Adams (novel)',\n",
       " '1922 in literature']"
      ]
     },
     "execution_count": 214,
     "metadata": {},
     "output_type": "execute_result"
    }
   ],
   "source": [
    "titles = []\n",
    "for name in winners.select('tr td b a'):\n",
    "    book = name.get('title')\n",
    "    titles.append(name['title'])\n",
    "    \n",
    "titles[0:10]"
   ]
  },
  {
   "cell_type": "code",
   "execution_count": 215,
   "id": "ab657abb",
   "metadata": {},
   "outputs": [
    {
     "data": {
      "text/plain": [
       "115"
      ]
     },
     "execution_count": 215,
     "metadata": {},
     "output_type": "execute_result"
    }
   ],
   "source": [
    "len(titles)"
   ]
  },
  {
   "cell_type": "code",
   "execution_count": 216,
   "id": "09d66766",
   "metadata": {},
   "outputs": [
    {
     "data": {
      "text/plain": [
       "['1917 in literature',\n",
       " 'His Family',\n",
       " '1918 in literature',\n",
       " 'The Magnificent Ambersons',\n",
       " '1919 in literature',\n",
       " 'NaN',\n",
       " '1920 in literature',\n",
       " 'The Age of Innocence',\n",
       " '1921 in literature',\n",
       " 'Alice Adams (novel)',\n",
       " '1922 in literature',\n",
       " 'One of Ours',\n",
       " '1923 in literature',\n",
       " 'The Able McLaughlins',\n",
       " '1924 in literature']"
      ]
     },
     "metadata": {},
     "output_type": "display_data"
    },
    {
     "data": {
      "text/plain": [
       "124"
      ]
     },
     "metadata": {},
     "output_type": "display_data"
    }
   ],
   "source": [
    "# Adding NaN to empty winner books\n",
    "\n",
    "# Loop through the titles list\n",
    "i = 0\n",
    "while i < len(titles)-1:\n",
    "    # Check if two consecutive titles both contain the phrase 'in literature'\n",
    "    if 'in literature' in titles[i] and 'in literature' in titles[i+1]:\n",
    "        # If they do, insert a 'NaN' in between them\n",
    "        titles.insert(i+1, 'NaN')\n",
    "        i += 2\n",
    "    else:\n",
    "        # If not, move on to the next title\n",
    "        i += 1\n",
    "\n",
    "display(titles[0:15], len(titles))"
   ]
  },
  {
   "cell_type": "code",
   "execution_count": 217,
   "id": "4021c522",
   "metadata": {},
   "outputs": [
    {
     "name": "stdout",
     "output_type": "stream",
     "text": [
      "True\n"
     ]
    }
   ],
   "source": [
    "# Checking that there's at least one different row in between 'in literature' rows\n",
    "has_different_row = False\n",
    "for i in range(len(titles)-2):\n",
    "    if 'in literature' in titles[i] and 'in literature' in titles[i+2]:\n",
    "        has_different_row = True\n",
    "        break\n",
    "\n",
    "print(has_different_row)"
   ]
  },
  {
   "cell_type": "code",
   "execution_count": 218,
   "id": "96f82736",
   "metadata": {},
   "outputs": [
    {
     "data": {
      "text/html": [
       "<div>\n",
       "<style scoped>\n",
       "    .dataframe tbody tr th:only-of-type {\n",
       "        vertical-align: middle;\n",
       "    }\n",
       "\n",
       "    .dataframe tbody tr th {\n",
       "        vertical-align: top;\n",
       "    }\n",
       "\n",
       "    .dataframe thead th {\n",
       "        text-align: right;\n",
       "    }\n",
       "</style>\n",
       "<table border=\"1\" class=\"dataframe\">\n",
       "  <thead>\n",
       "    <tr style=\"text-align: right;\">\n",
       "      <th></th>\n",
       "      <th>year</th>\n",
       "      <th>book</th>\n",
       "    </tr>\n",
       "  </thead>\n",
       "  <tbody>\n",
       "    <tr>\n",
       "      <th>0</th>\n",
       "      <td>1917 in literature</td>\n",
       "      <td>His Family</td>\n",
       "    </tr>\n",
       "    <tr>\n",
       "      <th>1</th>\n",
       "      <td>1918 in literature</td>\n",
       "      <td>The Magnificent Ambersons</td>\n",
       "    </tr>\n",
       "    <tr>\n",
       "      <th>2</th>\n",
       "      <td>1919 in literature</td>\n",
       "      <td>NaN</td>\n",
       "    </tr>\n",
       "    <tr>\n",
       "      <th>3</th>\n",
       "      <td>1920 in literature</td>\n",
       "      <td>The Age of Innocence</td>\n",
       "    </tr>\n",
       "    <tr>\n",
       "      <th>4</th>\n",
       "      <td>1921 in literature</td>\n",
       "      <td>Alice Adams (novel)</td>\n",
       "    </tr>\n",
       "    <tr>\n",
       "      <th>...</th>\n",
       "      <td>...</td>\n",
       "      <td>...</td>\n",
       "    </tr>\n",
       "    <tr>\n",
       "      <th>57</th>\n",
       "      <td>1974 in literature</td>\n",
       "      <td>The Killer Angels</td>\n",
       "    </tr>\n",
       "    <tr>\n",
       "      <th>58</th>\n",
       "      <td>1975 in literature</td>\n",
       "      <td>Humboldt's Gift</td>\n",
       "    </tr>\n",
       "    <tr>\n",
       "      <th>59</th>\n",
       "      <td>1976 in literature</td>\n",
       "      <td>NaN</td>\n",
       "    </tr>\n",
       "    <tr>\n",
       "      <th>60</th>\n",
       "      <td>1977 in literature</td>\n",
       "      <td>Elbow Room (short story collection)</td>\n",
       "    </tr>\n",
       "    <tr>\n",
       "      <th>61</th>\n",
       "      <td>1978 in literature</td>\n",
       "      <td>The Stories of John Cheever</td>\n",
       "    </tr>\n",
       "  </tbody>\n",
       "</table>\n",
       "<p>62 rows × 2 columns</p>\n",
       "</div>"
      ],
      "text/plain": [
       "                  year                                 book\n",
       "0   1917 in literature                           His Family\n",
       "1   1918 in literature            The Magnificent Ambersons\n",
       "2   1919 in literature                                  NaN\n",
       "3   1920 in literature                 The Age of Innocence\n",
       "4   1921 in literature                  Alice Adams (novel)\n",
       "..                 ...                                  ...\n",
       "57  1974 in literature                    The Killer Angels\n",
       "58  1975 in literature                      Humboldt's Gift\n",
       "59  1976 in literature                                  NaN\n",
       "60  1977 in literature  Elbow Room (short story collection)\n",
       "61  1978 in literature          The Stories of John Cheever\n",
       "\n",
       "[62 rows x 2 columns]"
      ]
     },
     "execution_count": 218,
     "metadata": {},
     "output_type": "execute_result"
    }
   ],
   "source": [
    "# Generating first dataframe\n",
    "\n",
    "years = []\n",
    "books = []\n",
    "\n",
    "# Loop through the titles list and separate the years and book titles\n",
    "for i in range(len(titles)):\n",
    "    # Every other element contains a year\n",
    "    if i % 2 == 0:\n",
    "        years.append(titles[i])\n",
    "    # Every other element contains a book title\n",
    "    else:\n",
    "        books.append(titles[i])\n",
    "\n",
    "# Combine the two lists into a DataFrame\n",
    "pulitzer_fiction = pd.DataFrame({\n",
    "    'year': years,\n",
    "    'book': books\n",
    "})\n",
    "\n",
    "# Print the resulting DataFrame\n",
    "pulitzer_fiction\n"
   ]
  },
  {
   "cell_type": "code",
   "execution_count": 222,
   "id": "f7739b0a",
   "metadata": {},
   "outputs": [],
   "source": [
    "# Clean up values\n",
    "pulitzer_fiction['year'] = pulitzer_fiction['year'].str.replace(' in literature', '')\n",
    "pulitzer_fiction['book'] = pulitzer_fiction['book'].str.replace('\\(.*\\)', '', regex=True).str.strip()\n",
    "\n",
    "#pulitzer_fiction"
   ]
  },
  {
   "cell_type": "code",
   "execution_count": 224,
   "id": "d073912c",
   "metadata": {},
   "outputs": [
    {
     "data": {
      "text/html": [
       "<div>\n",
       "<style scoped>\n",
       "    .dataframe tbody tr th:only-of-type {\n",
       "        vertical-align: middle;\n",
       "    }\n",
       "\n",
       "    .dataframe tbody tr th {\n",
       "        vertical-align: top;\n",
       "    }\n",
       "\n",
       "    .dataframe thead th {\n",
       "        text-align: right;\n",
       "    }\n",
       "</style>\n",
       "<table border=\"1\" class=\"dataframe\">\n",
       "  <thead>\n",
       "    <tr style=\"text-align: right;\">\n",
       "      <th></th>\n",
       "      <th>year</th>\n",
       "      <th>book</th>\n",
       "    </tr>\n",
       "  </thead>\n",
       "  <tbody>\n",
       "    <tr>\n",
       "      <th>0</th>\n",
       "      <td>1919</td>\n",
       "      <td>His Family</td>\n",
       "    </tr>\n",
       "    <tr>\n",
       "      <th>1</th>\n",
       "      <td>1920</td>\n",
       "      <td>The Magnificent Ambersons</td>\n",
       "    </tr>\n",
       "    <tr>\n",
       "      <th>2</th>\n",
       "      <td>1921</td>\n",
       "      <td>NaN</td>\n",
       "    </tr>\n",
       "    <tr>\n",
       "      <th>3</th>\n",
       "      <td>1922</td>\n",
       "      <td>The Age of Innocence</td>\n",
       "    </tr>\n",
       "    <tr>\n",
       "      <th>4</th>\n",
       "      <td>1923</td>\n",
       "      <td>Alice Adams</td>\n",
       "    </tr>\n",
       "    <tr>\n",
       "      <th>...</th>\n",
       "      <td>...</td>\n",
       "      <td>...</td>\n",
       "    </tr>\n",
       "    <tr>\n",
       "      <th>57</th>\n",
       "      <td>1976</td>\n",
       "      <td>The Killer Angels</td>\n",
       "    </tr>\n",
       "    <tr>\n",
       "      <th>58</th>\n",
       "      <td>1977</td>\n",
       "      <td>Humboldt's Gift</td>\n",
       "    </tr>\n",
       "    <tr>\n",
       "      <th>59</th>\n",
       "      <td>1978</td>\n",
       "      <td>NaN</td>\n",
       "    </tr>\n",
       "    <tr>\n",
       "      <th>60</th>\n",
       "      <td>1979</td>\n",
       "      <td>Elbow Room</td>\n",
       "    </tr>\n",
       "    <tr>\n",
       "      <th>61</th>\n",
       "      <td>1980</td>\n",
       "      <td>The Stories of John Cheever</td>\n",
       "    </tr>\n",
       "  </tbody>\n",
       "</table>\n",
       "<p>62 rows × 2 columns</p>\n",
       "</div>"
      ],
      "text/plain": [
       "    year                         book\n",
       "0   1919                   His Family\n",
       "1   1920    The Magnificent Ambersons\n",
       "2   1921                          NaN\n",
       "3   1922         The Age of Innocence\n",
       "4   1923                  Alice Adams\n",
       "..   ...                          ...\n",
       "57  1976            The Killer Angels\n",
       "58  1977              Humboldt's Gift\n",
       "59  1978                          NaN\n",
       "60  1979                   Elbow Room\n",
       "61  1980  The Stories of John Cheever\n",
       "\n",
       "[62 rows x 2 columns]"
      ]
     },
     "execution_count": 224,
     "metadata": {},
     "output_type": "execute_result"
    }
   ],
   "source": [
    "# Correcting awards year\n",
    "\n",
    "# Convert 'year' to numeric and add 1\n",
    "pulitzer_fiction['year'] = pd.to_numeric(pulitzer_fiction['year'])\n",
    "pulitzer_fiction['year'] += 1\n",
    "\n",
    "# display dataframe\n",
    "pulitzer_fiction"
   ]
  },
  {
   "cell_type": "code",
   "execution_count": 225,
   "id": "f8d7da8e",
   "metadata": {},
   "outputs": [],
   "source": [
    "# Saving dataframe\n",
    "pulitzer_fiction.to_csv('pulitzer_fiction.csv')"
   ]
  },
  {
   "cell_type": "code",
   "execution_count": null,
   "id": "a58f9b81",
   "metadata": {},
   "outputs": [],
   "source": []
  },
  {
   "cell_type": "markdown",
   "id": "0dfd5dfa",
   "metadata": {},
   "source": [
    "#### Author, Publisher and Genre"
   ]
  },
  {
   "cell_type": "code",
   "execution_count": 226,
   "id": "bd8aaaf9",
   "metadata": {},
   "outputs": [
    {
     "data": {
      "text/plain": [
       "'1917 in literature'"
      ]
     },
     "metadata": {},
     "output_type": "display_data"
    },
    {
     "data": {
      "text/plain": [
       "'Ernest Poole'"
      ]
     },
     "metadata": {},
     "output_type": "display_data"
    },
    {
     "data": {
      "text/plain": [
       "'His Family'"
      ]
     },
     "metadata": {},
     "output_type": "display_data"
    },
    {
     "data": {
      "text/plain": [
       "'Macmillan Publishers'"
      ]
     },
     "metadata": {},
     "output_type": "display_data"
    },
    {
     "data": {
      "text/plain": [
       "'Novel'"
      ]
     },
     "metadata": {},
     "output_type": "display_data"
    },
    {
     "data": {
      "text/plain": [
       "'Illinois'"
      ]
     },
     "metadata": {},
     "output_type": "display_data"
    }
   ],
   "source": [
    "display(winners.select('tr td a')[0]['title'],\n",
    "        winners.select('tr td a')[1]['title'],\n",
    "        winners.select('tr td a')[2]['title'],\n",
    "        winners.select('tr td a')[3]['title'],\n",
    "        winners.select('tr td a')[4]['title'],\n",
    "        winners.select('tr td a')[5]['title'])"
   ]
  },
  {
   "cell_type": "markdown",
   "id": "a3bddd2f",
   "metadata": {},
   "source": [
    "- Author"
   ]
  },
  {
   "cell_type": "markdown",
   "id": "e65b4146",
   "metadata": {},
   "source": [
    "#mw-content-text > div.mw-parser-output > table:nth-child(24) > tbody > tr:nth-child(1) > td:nth-child(3) > a"
   ]
  },
  {
   "cell_type": "code",
   "execution_count": 187,
   "id": "92eeaa43",
   "metadata": {},
   "outputs": [
    {
     "data": {
      "text/plain": [
       "['/wiki/1917_in_literature',\n",
       " '/wiki/Ernest_Poole',\n",
       " '/wiki/His_Family',\n",
       " '/wiki/Macmillan_Publishers',\n",
       " '/wiki/Novel',\n",
       " '/wiki/Illinois',\n",
       " '/wiki/1918_in_literature',\n",
       " '/wiki/Booth_Tarkington',\n",
       " '/wiki/The_Magnificent_Ambersons',\n",
       " '/wiki/Doubleday_(publisher)',\n",
       " '/wiki/Indiana',\n",
       " '/wiki/1919_in_literature',\n",
       " '#cite_note-5',\n",
       " '/wiki/1920_in_literature',\n",
       " '/wiki/Edith_Wharton',\n",
       " '/wiki/The_Age_of_Innocence',\n",
       " '/wiki/D._Appleton_%26_Company',\n",
       " '/wiki/New_York_(state)',\n",
       " '/wiki/1921_in_literature',\n",
       " '/wiki/Booth_Tarkington',\n",
       " '/wiki/Alice_Adams_(novel)',\n",
       " '/wiki/Doubleday_(publisher)',\n",
       " '/wiki/Indiana',\n",
       " '/wiki/1922_in_literature',\n",
       " '/wiki/Willa_Cather',\n",
       " '/wiki/One_of_Ours',\n",
       " '/wiki/Alfred_A._Knopf',\n",
       " '/wiki/Virginia',\n",
       " '/wiki/1923_in_literature',\n",
       " '/wiki/Margaret_Wilson_(novelist)',\n",
       " '/wiki/The_Able_McLaughlins',\n",
       " '/wiki/Harper_(publisher)',\n",
       " '/wiki/Debut_novel',\n",
       " '/wiki/Iowa',\n",
       " '/wiki/1924_in_literature',\n",
       " '/wiki/Edna_Ferber',\n",
       " '/wiki/So_Big_(novel)',\n",
       " '/wiki/Grosset_%26_Dunlap',\n",
       " '/wiki/Michigan',\n",
       " '/wiki/1925_in_literature',\n",
       " '/wiki/Sinclair_Lewis',\n",
       " '/wiki/Arrowsmith_(novel)',\n",
       " '#cite_note-7',\n",
       " '/wiki/Harcourt_(publisher)',\n",
       " '/wiki/Minnesota',\n",
       " '/wiki/1926_in_literature',\n",
       " '/wiki/Louis_Bromfield',\n",
       " '/wiki/Early_Autumn',\n",
       " '/wiki/Ohio',\n",
       " '/wiki/1927_in_literature',\n",
       " '/wiki/Thornton_Wilder',\n",
       " '/wiki/The_Bridge_of_San_Luis_Rey',\n",
       " '/wiki/Boni_%26_Liveright',\n",
       " '/wiki/Wisconsin',\n",
       " '/wiki/1928_in_literature',\n",
       " '/wiki/Julia_Peterkin',\n",
       " '/wiki/Scarlet_Sister_Mary',\n",
       " '/wiki/Bobbs-Merrill_Company',\n",
       " '/wiki/South_Carolina',\n",
       " '/wiki/1929_in_literature',\n",
       " '/wiki/Oliver_La_Farge',\n",
       " '/wiki/Laughing_Boy_(novel)',\n",
       " '/wiki/Houghton_Mifflin_Harcourt',\n",
       " '/wiki/New_York_(state)',\n",
       " '/wiki/1930_in_literature',\n",
       " '/wiki/Margaret_Ayer_Barnes',\n",
       " '/wiki/Years_of_Grace',\n",
       " '/wiki/Houghton_Mifflin_Harcourt',\n",
       " '/wiki/Illinois',\n",
       " '/wiki/1931_in_literature',\n",
       " '/wiki/Pearl_S._Buck',\n",
       " '/wiki/The_Good_Earth',\n",
       " '/wiki/John_Day_Company',\n",
       " '/wiki/Historical_fiction',\n",
       " '/wiki/West_Virginia',\n",
       " '/wiki/1932_in_literature',\n",
       " '/wiki/T._S._Stribling',\n",
       " '/wiki/The_Store_(novel)',\n",
       " '/wiki/Doubleday_(publisher)',\n",
       " '/wiki/Tennessee',\n",
       " '/wiki/1933_in_literature',\n",
       " '/wiki/Caroline_Pafford_Miller',\n",
       " '/wiki/Lamb_in_His_Bosom',\n",
       " '/wiki/Harper_(publisher)',\n",
       " '/wiki/Georgia_(U.S._state)',\n",
       " '/wiki/1934_in_literature',\n",
       " '/wiki/Josephine_Johnson',\n",
       " '/wiki/Now_in_November',\n",
       " '/wiki/Simon_%26_Schuster',\n",
       " '/wiki/Missouri',\n",
       " '/wiki/1935_in_literature',\n",
       " '/wiki/H._L._Davis',\n",
       " '/wiki/Honey_in_the_Horn',\n",
       " '/wiki/Harper_(publisher)',\n",
       " '/wiki/Oregon',\n",
       " '/wiki/1936_in_literature',\n",
       " '/wiki/Margaret_Mitchell',\n",
       " '/wiki/Gone_with_the_Wind_(novel)',\n",
       " '/wiki/Macmillan_Inc.',\n",
       " '/wiki/Georgia_(U.S._state)',\n",
       " '/wiki/1937_in_literature',\n",
       " '/wiki/John_P._Marquand',\n",
       " '/wiki/The_Late_George_Apley',\n",
       " '/wiki/Little,_Brown_and_Company',\n",
       " '/wiki/Epistolary_novel',\n",
       " '/wiki/Delaware',\n",
       " '/wiki/1938_in_literature',\n",
       " '/wiki/Marjorie_Kinnan_Rawlings',\n",
       " '/wiki/The_Yearling',\n",
       " '/wiki/Charles_Scribner%27s_Sons',\n",
       " '/wiki/Young_adult_novel',\n",
       " '/wiki/Washington,_D.C.',\n",
       " '/wiki/1939_in_literature',\n",
       " '/wiki/John_Steinbeck',\n",
       " '/wiki/The_Grapes_of_Wrath',\n",
       " '/wiki/Viking_Press',\n",
       " '/wiki/California',\n",
       " '/wiki/1940_in_literature',\n",
       " '#cite_note-1941award-9',\n",
       " '/wiki/1941_in_literature',\n",
       " '/wiki/Ellen_Glasgow',\n",
       " '/wiki/In_This_Our_Life_(novel)',\n",
       " '/wiki/Jonathan_Cape',\n",
       " '/wiki/Virginia',\n",
       " '/wiki/1942_in_literature',\n",
       " '/wiki/Upton_Sinclair',\n",
       " '/wiki/Dragon%27s_Teeth_(novel)',\n",
       " '/wiki/Viking_Press',\n",
       " '/wiki/Maryland',\n",
       " '/wiki/1943_in_literature',\n",
       " '/wiki/Martin_Flavin',\n",
       " '/wiki/Journey_in_the_Dark',\n",
       " '/wiki/Harper_(publisher)',\n",
       " '/wiki/California',\n",
       " '/wiki/1944_in_literature',\n",
       " '/wiki/John_Hersey',\n",
       " '/wiki/A_Bell_for_Adano_(novel)',\n",
       " '/wiki/Alfred_A._Knopf',\n",
       " '/wiki/War_novel',\n",
       " '/wiki/New_York_(state)',\n",
       " '/wiki/Tianjin',\n",
       " '/wiki/1945_in_literature',\n",
       " '#cite_note-1941_Award-10',\n",
       " '/wiki/1946_in_literature',\n",
       " '/wiki/Robert_Penn_Warren',\n",
       " '/wiki/All_the_King%27s_Men',\n",
       " '/wiki/Harcourt_(publisher)',\n",
       " '/wiki/Political_fiction',\n",
       " '/wiki/Kentucky',\n",
       " '/wiki/1947_in_literature',\n",
       " '/wiki/James_A._Michener',\n",
       " '/wiki/Tales_of_the_South_Pacific',\n",
       " '/wiki/Macmillan_Publishers',\n",
       " '/wiki/Short_story_collection',\n",
       " '/wiki/Pennsylvania',\n",
       " '/wiki/1948_in_literature',\n",
       " '/wiki/James_Gould_Cozzens',\n",
       " '/wiki/Guard_of_Honor',\n",
       " '/wiki/Harcourt_(publisher)',\n",
       " '/wiki/Illinois',\n",
       " '/wiki/1949_in_literature',\n",
       " '/wiki/A._B._Guthrie_Jr.',\n",
       " '/wiki/The_Way_West',\n",
       " '/wiki/William_Sloane_(author)',\n",
       " '/wiki/Western_fiction',\n",
       " '/wiki/Indiana',\n",
       " '/wiki/1950_in_literature',\n",
       " '/wiki/Conrad_Richter',\n",
       " '/wiki/The_Town_(Richter_novel)',\n",
       " '/wiki/Alfred_A._Knopf',\n",
       " '/wiki/Pennsylvania',\n",
       " '/wiki/1951_in_literature',\n",
       " '/wiki/Herman_Wouk',\n",
       " '/wiki/The_Caine_Mutiny',\n",
       " '/wiki/Doubleday_(publisher)',\n",
       " '/wiki/New_York_(state)',\n",
       " '/wiki/1952_in_literature',\n",
       " '/wiki/Ernest_Hemingway',\n",
       " '/wiki/The_Old_Man_and_the_Sea',\n",
       " '/wiki/Charles_Scribner%27s_Sons',\n",
       " '/wiki/Novella',\n",
       " '/wiki/Illinois',\n",
       " '/wiki/1953_in_literature',\n",
       " '#cite_note-11',\n",
       " '/wiki/1954_in_literature',\n",
       " '/wiki/William_Faulkner',\n",
       " '/wiki/A_Fable',\n",
       " '/wiki/Random_House',\n",
       " '/wiki/Mississippi',\n",
       " '/wiki/1955_in_literature',\n",
       " '/wiki/MacKinlay_Kantor',\n",
       " '/wiki/Andersonville_(novel)',\n",
       " '/wiki/Penguin_Books',\n",
       " '/wiki/Iowa',\n",
       " '/wiki/1956_in_literature',\n",
       " '#cite_note-12',\n",
       " '/wiki/1957_in_literature',\n",
       " '/wiki/James_Agee',\n",
       " '/wiki/A_Death_in_the_Family',\n",
       " '/wiki/Ivan_Sergeyevich_Obolensky',\n",
       " '/wiki/Autobiography',\n",
       " '/wiki/Tennessee',\n",
       " '/wiki/1958_in_literature',\n",
       " '/wiki/Robert_Lewis_Taylor',\n",
       " '/wiki/The_Travels_of_Jaimie_McPheeters',\n",
       " '/wiki/Doubleday_(publisher)',\n",
       " '/wiki/Illinois',\n",
       " '/wiki/1959_in_literature',\n",
       " '/wiki/Allen_Drury',\n",
       " '/wiki/Advise_and_Consent',\n",
       " '/wiki/Doubleday_(publisher)',\n",
       " '/wiki/Texas',\n",
       " '/wiki/1960_in_literature',\n",
       " '/wiki/Harper_Lee',\n",
       " '/wiki/To_Kill_a_Mockingbird',\n",
       " '/wiki/J._B._Lippincott_%26_Co.',\n",
       " '/wiki/Southern_Gothic',\n",
       " '/wiki/Bildungsroman',\n",
       " '/wiki/Alabama',\n",
       " '/wiki/1961_in_literature',\n",
       " '/wiki/Edwin_O%27Connor',\n",
       " '/wiki/The_Edge_of_Sadness',\n",
       " '/wiki/Little,_Brown_and_Company',\n",
       " '/wiki/Rhode_Island',\n",
       " '/wiki/1962_in_literature',\n",
       " '/wiki/William_Faulkner',\n",
       " '/wiki/The_Reivers',\n",
       " '/wiki/Random_House',\n",
       " '/wiki/Mississippi',\n",
       " '/wiki/1963_in_literature',\n",
       " '#cite_note-13',\n",
       " '/wiki/1964_in_literature',\n",
       " '/wiki/Shirley_Ann_Grau',\n",
       " '/wiki/The_Keepers_of_the_House',\n",
       " '/wiki/Alfred_A._Knopf',\n",
       " '/wiki/Louisiana',\n",
       " '/wiki/1965_in_literature',\n",
       " '/wiki/Katherine_Anne_Porter',\n",
       " '/wiki/The_Collected_Stories_of_Katherine_Anne_Porter',\n",
       " '/wiki/Harcourt_(publisher)',\n",
       " '/wiki/Short_story_collection',\n",
       " '/wiki/Texas',\n",
       " '/wiki/1966_in_literature',\n",
       " '/wiki/Bernard_Malamud',\n",
       " '/wiki/The_Fixer_(novel)',\n",
       " '/wiki/Farrar,_Straus_%26_Giroux',\n",
       " '/wiki/New_York_(state)',\n",
       " '/wiki/1967_in_literature',\n",
       " '/wiki/William_Styron',\n",
       " '/wiki/The_Confessions_of_Nat_Turner',\n",
       " '/wiki/Random_House',\n",
       " '/wiki/Virginia',\n",
       " '/wiki/1968_in_literature',\n",
       " '/wiki/N._Scott_Momaday',\n",
       " '/wiki/House_Made_of_Dawn',\n",
       " '/wiki/Harper_(publisher)',\n",
       " '/wiki/Oklahoma',\n",
       " '/wiki/1969_in_literature',\n",
       " '/wiki/Jean_Stafford',\n",
       " '/wiki/The_Collected_Stories_of_Jean_Stafford',\n",
       " '/wiki/Farrar,_Straus_%26_Giroux',\n",
       " '/wiki/California',\n",
       " '/wiki/1970_in_literature',\n",
       " '#cite_note-1971award-15',\n",
       " '/wiki/1971_in_literature',\n",
       " '/wiki/Wallace_Stegner',\n",
       " '/wiki/Angle_of_Repose',\n",
       " '/wiki/Doubleday_(publisher)',\n",
       " '/wiki/Iowa',\n",
       " '/wiki/1972_in_literature',\n",
       " '/wiki/Eudora_Welty',\n",
       " '/wiki/The_Optimist%27s_Daughter',\n",
       " '/wiki/Random_House',\n",
       " '/wiki/Mississippi',\n",
       " '/wiki/1973_in_literature',\n",
       " '#cite_note-1974award-16',\n",
       " '/wiki/1974_in_literature',\n",
       " '/wiki/Michael_Shaara',\n",
       " '/wiki/The_Killer_Angels',\n",
       " '/wiki/David_McKay_Publications',\n",
       " '/wiki/New_Jersey',\n",
       " '/wiki/1975_in_literature',\n",
       " '/wiki/Saul_Bellow',\n",
       " '/wiki/Humboldt%27s_Gift',\n",
       " '/wiki/Viking_Press',\n",
       " '/wiki/Illinois',\n",
       " '/wiki/Quebec',\n",
       " '/wiki/1976_in_literature',\n",
       " '#cite_note-1977award-17',\n",
       " '/wiki/1977_in_literature',\n",
       " '/wiki/James_Alan_McPherson',\n",
       " '/wiki/Elbow_Room_(short_story_collection)',\n",
       " '/wiki/Little,_Brown_and_Company',\n",
       " '/wiki/Georgia_(U.S._state)',\n",
       " '/wiki/1978_in_literature',\n",
       " '/wiki/John_Cheever',\n",
       " '/wiki/The_Stories_of_John_Cheever',\n",
       " '/wiki/Alfred_A._Knopf',\n",
       " '/wiki/Massachusetts']"
      ]
     },
     "execution_count": 187,
     "metadata": {},
     "output_type": "execute_result"
    }
   ],
   "source": [
    "authors = []\n",
    "for name in winners.select('tr td a'):\n",
    "    book = name.get('href')\n",
    "    authors.append(name['href'])\n",
    "    \n",
    "authors"
   ]
  },
  {
   "cell_type": "code",
   "execution_count": 188,
   "id": "28f15509",
   "metadata": {},
   "outputs": [
    {
     "data": {
      "text/plain": [
       "299"
      ]
     },
     "execution_count": 188,
     "metadata": {},
     "output_type": "execute_result"
    }
   ],
   "source": [
    "len(authors)"
   ]
  },
  {
   "cell_type": "code",
   "execution_count": 189,
   "id": "45fa36bd",
   "metadata": {},
   "outputs": [],
   "source": [
    "authors = []\n",
    "for name in winners.select('tr td a'):\n",
    "    book = name.get('href')\n",
    "    # extract only the last part of the link (after the last '/')\n",
    "    author = book.split('/')[-1]\n",
    "    # replace underscores with spaces\n",
    "    author = author.replace('_', ' ')\n",
    "    authors.append(author)"
   ]
  },
  {
   "cell_type": "code",
   "execution_count": 190,
   "id": "8a2d0836",
   "metadata": {},
   "outputs": [
    {
     "data": {
      "text/plain": [
       "['1917 in literature',\n",
       " 'Ernest Poole',\n",
       " 'His Family',\n",
       " 'Macmillan Publishers',\n",
       " 'Novel',\n",
       " 'Illinois',\n",
       " '1918 in literature',\n",
       " 'Booth Tarkington',\n",
       " 'The Magnificent Ambersons',\n",
       " 'Doubleday (publisher)',\n",
       " 'Indiana',\n",
       " '1919 in literature',\n",
       " '#cite note-5',\n",
       " '1920 in literature',\n",
       " 'Edith Wharton',\n",
       " 'The Age of Innocence',\n",
       " 'D. Appleton %26 Company',\n",
       " 'New York (state)',\n",
       " '1921 in literature',\n",
       " 'Booth Tarkington',\n",
       " 'Alice Adams (novel)',\n",
       " 'Doubleday (publisher)',\n",
       " 'Indiana',\n",
       " '1922 in literature',\n",
       " 'Willa Cather',\n",
       " 'One of Ours',\n",
       " 'Alfred A. Knopf',\n",
       " 'Virginia',\n",
       " '1923 in literature',\n",
       " 'Margaret Wilson (novelist)',\n",
       " 'The Able McLaughlins',\n",
       " 'Harper (publisher)',\n",
       " 'Debut novel',\n",
       " 'Iowa',\n",
       " '1924 in literature',\n",
       " 'Edna Ferber',\n",
       " 'So Big (novel)',\n",
       " 'Grosset %26 Dunlap',\n",
       " 'Michigan',\n",
       " '1925 in literature',\n",
       " 'Sinclair Lewis',\n",
       " 'Arrowsmith (novel)',\n",
       " '#cite note-7',\n",
       " 'Harcourt (publisher)',\n",
       " 'Minnesota',\n",
       " '1926 in literature',\n",
       " 'Louis Bromfield',\n",
       " 'Early Autumn',\n",
       " 'Ohio',\n",
       " '1927 in literature',\n",
       " 'Thornton Wilder',\n",
       " 'The Bridge of San Luis Rey',\n",
       " 'Boni %26 Liveright',\n",
       " 'Wisconsin',\n",
       " '1928 in literature',\n",
       " 'Julia Peterkin',\n",
       " 'Scarlet Sister Mary',\n",
       " 'Bobbs-Merrill Company',\n",
       " 'South Carolina',\n",
       " '1929 in literature',\n",
       " 'Oliver La Farge',\n",
       " 'Laughing Boy (novel)',\n",
       " 'Houghton Mifflin Harcourt',\n",
       " 'New York (state)',\n",
       " '1930 in literature',\n",
       " 'Margaret Ayer Barnes',\n",
       " 'Years of Grace',\n",
       " 'Houghton Mifflin Harcourt',\n",
       " 'Illinois',\n",
       " '1931 in literature',\n",
       " 'Pearl S. Buck',\n",
       " 'The Good Earth',\n",
       " 'John Day Company',\n",
       " 'Historical fiction',\n",
       " 'West Virginia',\n",
       " '1932 in literature',\n",
       " 'T. S. Stribling',\n",
       " 'The Store (novel)',\n",
       " 'Doubleday (publisher)',\n",
       " 'Tennessee',\n",
       " '1933 in literature',\n",
       " 'Caroline Pafford Miller',\n",
       " 'Lamb in His Bosom',\n",
       " 'Harper (publisher)',\n",
       " 'Georgia (U.S. state)',\n",
       " '1934 in literature',\n",
       " 'Josephine Johnson',\n",
       " 'Now in November',\n",
       " 'Simon %26 Schuster',\n",
       " 'Missouri',\n",
       " '1935 in literature',\n",
       " 'H. L. Davis',\n",
       " 'Honey in the Horn',\n",
       " 'Harper (publisher)',\n",
       " 'Oregon',\n",
       " '1936 in literature',\n",
       " 'Margaret Mitchell',\n",
       " 'Gone with the Wind (novel)',\n",
       " 'Macmillan Inc.',\n",
       " 'Georgia (U.S. state)',\n",
       " '1937 in literature',\n",
       " 'John P. Marquand',\n",
       " 'The Late George Apley',\n",
       " 'Little, Brown and Company',\n",
       " 'Epistolary novel',\n",
       " 'Delaware',\n",
       " '1938 in literature',\n",
       " 'Marjorie Kinnan Rawlings',\n",
       " 'The Yearling',\n",
       " 'Charles Scribner%27s Sons',\n",
       " 'Young adult novel',\n",
       " 'Washington, D.C.',\n",
       " '1939 in literature',\n",
       " 'John Steinbeck',\n",
       " 'The Grapes of Wrath',\n",
       " 'Viking Press',\n",
       " 'California',\n",
       " '1940 in literature',\n",
       " '#cite note-1941award-9',\n",
       " '1941 in literature',\n",
       " 'Ellen Glasgow',\n",
       " 'In This Our Life (novel)',\n",
       " 'Jonathan Cape',\n",
       " 'Virginia',\n",
       " '1942 in literature',\n",
       " 'Upton Sinclair',\n",
       " 'Dragon%27s Teeth (novel)',\n",
       " 'Viking Press',\n",
       " 'Maryland',\n",
       " '1943 in literature',\n",
       " 'Martin Flavin',\n",
       " 'Journey in the Dark',\n",
       " 'Harper (publisher)',\n",
       " 'California',\n",
       " '1944 in literature',\n",
       " 'John Hersey',\n",
       " 'A Bell for Adano (novel)',\n",
       " 'Alfred A. Knopf',\n",
       " 'War novel',\n",
       " 'New York (state)',\n",
       " 'Tianjin',\n",
       " '1945 in literature',\n",
       " '#cite note-1941 Award-10',\n",
       " '1946 in literature',\n",
       " 'Robert Penn Warren',\n",
       " 'All the King%27s Men',\n",
       " 'Harcourt (publisher)',\n",
       " 'Political fiction',\n",
       " 'Kentucky',\n",
       " '1947 in literature',\n",
       " 'James A. Michener',\n",
       " 'Tales of the South Pacific',\n",
       " 'Macmillan Publishers',\n",
       " 'Short story collection',\n",
       " 'Pennsylvania',\n",
       " '1948 in literature',\n",
       " 'James Gould Cozzens',\n",
       " 'Guard of Honor',\n",
       " 'Harcourt (publisher)',\n",
       " 'Illinois',\n",
       " '1949 in literature',\n",
       " 'A. B. Guthrie Jr.',\n",
       " 'The Way West',\n",
       " 'William Sloane (author)',\n",
       " 'Western fiction',\n",
       " 'Indiana',\n",
       " '1950 in literature',\n",
       " 'Conrad Richter',\n",
       " 'The Town (Richter novel)',\n",
       " 'Alfred A. Knopf',\n",
       " 'Pennsylvania',\n",
       " '1951 in literature',\n",
       " 'Herman Wouk',\n",
       " 'The Caine Mutiny',\n",
       " 'Doubleday (publisher)',\n",
       " 'New York (state)',\n",
       " '1952 in literature',\n",
       " 'Ernest Hemingway',\n",
       " 'The Old Man and the Sea',\n",
       " 'Charles Scribner%27s Sons',\n",
       " 'Novella',\n",
       " 'Illinois',\n",
       " '1953 in literature',\n",
       " '#cite note-11',\n",
       " '1954 in literature',\n",
       " 'William Faulkner',\n",
       " 'A Fable',\n",
       " 'Random House',\n",
       " 'Mississippi',\n",
       " '1955 in literature',\n",
       " 'MacKinlay Kantor',\n",
       " 'Andersonville (novel)',\n",
       " 'Penguin Books',\n",
       " 'Iowa',\n",
       " '1956 in literature',\n",
       " '#cite note-12',\n",
       " '1957 in literature',\n",
       " 'James Agee',\n",
       " 'A Death in the Family',\n",
       " 'Ivan Sergeyevich Obolensky',\n",
       " 'Autobiography',\n",
       " 'Tennessee',\n",
       " '1958 in literature',\n",
       " 'Robert Lewis Taylor',\n",
       " 'The Travels of Jaimie McPheeters',\n",
       " 'Doubleday (publisher)',\n",
       " 'Illinois',\n",
       " '1959 in literature',\n",
       " 'Allen Drury',\n",
       " 'Advise and Consent',\n",
       " 'Doubleday (publisher)',\n",
       " 'Texas',\n",
       " '1960 in literature',\n",
       " 'Harper Lee',\n",
       " 'To Kill a Mockingbird',\n",
       " 'J. B. Lippincott %26 Co.',\n",
       " 'Southern Gothic',\n",
       " 'Bildungsroman',\n",
       " 'Alabama',\n",
       " '1961 in literature',\n",
       " 'Edwin O%27Connor',\n",
       " 'The Edge of Sadness',\n",
       " 'Little, Brown and Company',\n",
       " 'Rhode Island',\n",
       " '1962 in literature',\n",
       " 'William Faulkner',\n",
       " 'The Reivers',\n",
       " 'Random House',\n",
       " 'Mississippi',\n",
       " '1963 in literature',\n",
       " '#cite note-13',\n",
       " '1964 in literature',\n",
       " 'Shirley Ann Grau',\n",
       " 'The Keepers of the House',\n",
       " 'Alfred A. Knopf',\n",
       " 'Louisiana',\n",
       " '1965 in literature',\n",
       " 'Katherine Anne Porter',\n",
       " 'The Collected Stories of Katherine Anne Porter',\n",
       " 'Harcourt (publisher)',\n",
       " 'Short story collection',\n",
       " 'Texas',\n",
       " '1966 in literature',\n",
       " 'Bernard Malamud',\n",
       " 'The Fixer (novel)',\n",
       " 'Farrar, Straus %26 Giroux',\n",
       " 'New York (state)',\n",
       " '1967 in literature',\n",
       " 'William Styron',\n",
       " 'The Confessions of Nat Turner',\n",
       " 'Random House',\n",
       " 'Virginia',\n",
       " '1968 in literature',\n",
       " 'N. Scott Momaday',\n",
       " 'House Made of Dawn',\n",
       " 'Harper (publisher)',\n",
       " 'Oklahoma',\n",
       " '1969 in literature',\n",
       " 'Jean Stafford',\n",
       " 'The Collected Stories of Jean Stafford',\n",
       " 'Farrar, Straus %26 Giroux',\n",
       " 'California',\n",
       " '1970 in literature',\n",
       " '#cite note-1971award-15',\n",
       " '1971 in literature',\n",
       " 'Wallace Stegner',\n",
       " 'Angle of Repose',\n",
       " 'Doubleday (publisher)',\n",
       " 'Iowa',\n",
       " '1972 in literature',\n",
       " 'Eudora Welty',\n",
       " 'The Optimist%27s Daughter',\n",
       " 'Random House',\n",
       " 'Mississippi',\n",
       " '1973 in literature',\n",
       " '#cite note-1974award-16',\n",
       " '1974 in literature',\n",
       " 'Michael Shaara',\n",
       " 'The Killer Angels',\n",
       " 'David McKay Publications',\n",
       " 'New Jersey',\n",
       " '1975 in literature',\n",
       " 'Saul Bellow',\n",
       " 'Humboldt%27s Gift',\n",
       " 'Viking Press',\n",
       " 'Illinois',\n",
       " 'Quebec',\n",
       " '1976 in literature',\n",
       " '#cite note-1977award-17',\n",
       " '1977 in literature',\n",
       " 'James Alan McPherson',\n",
       " 'Elbow Room (short story collection)',\n",
       " 'Little, Brown and Company',\n",
       " 'Georgia (U.S. state)',\n",
       " '1978 in literature',\n",
       " 'John Cheever',\n",
       " 'The Stories of John Cheever',\n",
       " 'Alfred A. Knopf',\n",
       " 'Massachusetts']"
      ]
     },
     "execution_count": 190,
     "metadata": {},
     "output_type": "execute_result"
    }
   ],
   "source": [
    "authors"
   ]
  },
  {
   "cell_type": "code",
   "execution_count": 191,
   "id": "7ff782e9",
   "metadata": {},
   "outputs": [],
   "source": [
    "# initialize empty lists for each category\n",
    "year = []\n",
    "winner = []\n",
    "book = []\n",
    "publisher = []\n",
    "genre = []\n",
    "origin = []\n",
    "\n",
    "# loop through the authors list in steps of 6\n",
    "for i in range(0, len(authors), 6):\n",
    "    # check if there are enough elements left in the list\n",
    "    if i+5 < len(authors):\n",
    "        # append the corresponding values to each category list\n",
    "        year.append(authors[i].split('/')[-1])\n",
    "        winner.append(authors[i+1])\n",
    "        book.append(authors[i+2])\n",
    "        publisher.append(authors[i+3])\n",
    "        genre.append(authors[i+4])\n",
    "        origin.append(authors[i+5])"
   ]
  },
  {
   "cell_type": "code",
   "execution_count": 192,
   "id": "4a3d28e1",
   "metadata": {},
   "outputs": [
    {
     "data": {
      "text/plain": [
       "['1917 in literature',\n",
       " '1918 in literature',\n",
       " '#cite note-5',\n",
       " '1921 in literature',\n",
       " 'Willa Cather',\n",
       " 'The Able McLaughlins',\n",
       " 'So Big (novel)',\n",
       " '#cite note-7',\n",
       " 'Ohio',\n",
       " '1928 in literature',\n",
       " 'Oliver La Farge',\n",
       " 'Years of Grace',\n",
       " 'John Day Company',\n",
       " 'Doubleday (publisher)',\n",
       " 'Georgia (U.S. state)',\n",
       " '1935 in literature',\n",
       " 'Margaret Mitchell',\n",
       " 'The Late George Apley',\n",
       " 'The Yearling',\n",
       " 'The Grapes of Wrath',\n",
       " 'Ellen Glasgow',\n",
       " 'Dragon%27s Teeth (novel)',\n",
       " 'Harper (publisher)',\n",
       " 'War novel',\n",
       " 'Robert Penn Warren',\n",
       " 'James A. Michener',\n",
       " 'James Gould Cozzens',\n",
       " 'The Way West',\n",
       " 'The Town (Richter novel)',\n",
       " 'Doubleday (publisher)',\n",
       " 'Novella',\n",
       " 'A Fable',\n",
       " 'Penguin Books',\n",
       " 'A Death in the Family',\n",
       " 'The Travels of Jaimie McPheeters',\n",
       " 'Doubleday (publisher)',\n",
       " 'Southern Gothic',\n",
       " 'Little, Brown and Company',\n",
       " 'Mississippi',\n",
       " 'Alfred A. Knopf',\n",
       " 'Short story collection',\n",
       " 'New York (state)',\n",
       " '1968 in literature',\n",
       " 'Jean Stafford',\n",
       " '1971 in literature',\n",
       " 'Eudora Welty',\n",
       " '1974 in literature',\n",
       " 'Saul Bellow',\n",
       " '#cite note-1977award-17']"
      ]
     },
     "execution_count": 192,
     "metadata": {},
     "output_type": "execute_result"
    }
   ],
   "source": [
    "year"
   ]
  },
  {
   "cell_type": "code",
   "execution_count": 193,
   "id": "8a614f3a",
   "metadata": {},
   "outputs": [],
   "source": [
    "# Genre"
   ]
  },
  {
   "cell_type": "code",
   "execution_count": 194,
   "id": "3b46d9d6",
   "metadata": {},
   "outputs": [],
   "source": [
    "# Year\n",
    "\n"
   ]
  },
  {
   "cell_type": "code",
   "execution_count": null,
   "id": "50f8d70b",
   "metadata": {},
   "outputs": [],
   "source": []
  },
  {
   "cell_type": "code",
   "execution_count": null,
   "id": "ac8ec173",
   "metadata": {},
   "outputs": [],
   "source": []
  },
  {
   "cell_type": "code",
   "execution_count": 195,
   "id": "ed430828",
   "metadata": {},
   "outputs": [
    {
     "data": {
      "text/plain": [
       "'<!DOCTYPE html>\\n<html lang=\"en\">\\n <head>\\n  <meta content=\"Public\" http-equiv=\"cache-control\"/>\\n  <meta content=\"Sun, 01 Jan 2040 00:00:00 UTC\" http-equiv=\"expires\"/>\\n </head>\\n <body onload=\"localStorage.clear();sessionStorage.clear()\">\\n </body>\\n</html>\\n'"
      ]
     },
     "execution_count": 195,
     "metadata": {},
     "output_type": "execute_result"
    }
   ],
   "source": [
    "import requests\n",
    "from bs4 import BeautifulSoup\n",
    "\n",
    "url = 'https://www.phlibraryfriends.org/page/pulitzer-prize-for-fiction'\n",
    "response = requests.get(url)\n",
    "\n",
    "soup = BeautifulSoup(response.content, 'html.parser')\n",
    "soup.prettify()"
   ]
  },
  {
   "cell_type": "code",
   "execution_count": 196,
   "id": "a099a094",
   "metadata": {},
   "outputs": [
    {
     "data": {
      "text/plain": [
       "[]"
      ]
     },
     "execution_count": 196,
     "metadata": {},
     "output_type": "execute_result"
    }
   ],
   "source": [
    "soup.select('custom-page > table > tbody > tr:nth-child(2) > td:nth-child(1)')"
   ]
  },
  {
   "cell_type": "code",
   "execution_count": 197,
   "id": "df706e3a",
   "metadata": {},
   "outputs": [],
   "source": [
    "#custom-page > table > tbody > tr:nth-child(2) > td:nth-child(1)"
   ]
  },
  {
   "cell_type": "code",
   "execution_count": null,
   "id": "a1c05dab",
   "metadata": {},
   "outputs": [],
   "source": []
  }
 ],
 "metadata": {
  "kernelspec": {
   "display_name": "Python 3 (ipykernel)",
   "language": "python",
   "name": "python3"
  },
  "language_info": {
   "codemirror_mode": {
    "name": "ipython",
    "version": 3
   },
   "file_extension": ".py",
   "mimetype": "text/x-python",
   "name": "python",
   "nbconvert_exporter": "python",
   "pygments_lexer": "ipython3",
   "version": "3.9.13"
  }
 },
 "nbformat": 4,
 "nbformat_minor": 5
}
