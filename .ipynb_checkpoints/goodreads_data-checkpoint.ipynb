{
 "cells": [
  {
   "cell_type": "code",
   "execution_count": 1,
   "id": "0dbd9a5c",
   "metadata": {},
   "outputs": [],
   "source": [
    "import pandas as pd\n",
    "import numpy as np\n"
   ]
  },
  {
   "cell_type": "code",
   "execution_count": 2,
   "id": "149928a6",
   "metadata": {
    "scrolled": true
   },
   "outputs": [
    {
     "data": {
      "text/html": [
       "<div>\n",
       "<style scoped>\n",
       "    .dataframe tbody tr th:only-of-type {\n",
       "        vertical-align: middle;\n",
       "    }\n",
       "\n",
       "    .dataframe tbody tr th {\n",
       "        vertical-align: top;\n",
       "    }\n",
       "\n",
       "    .dataframe thead th {\n",
       "        text-align: right;\n",
       "    }\n",
       "</style>\n",
       "<table border=\"1\" class=\"dataframe\">\n",
       "  <thead>\n",
       "    <tr style=\"text-align: right;\">\n",
       "      <th></th>\n",
       "      <th>title</th>\n",
       "      <th>series</th>\n",
       "      <th>author</th>\n",
       "      <th>rating</th>\n",
       "      <th>description</th>\n",
       "      <th>language</th>\n",
       "      <th>isbn</th>\n",
       "      <th>genres</th>\n",
       "      <th>characters</th>\n",
       "      <th>bookFormat</th>\n",
       "      <th>edition</th>\n",
       "      <th>pages</th>\n",
       "      <th>publisher</th>\n",
       "      <th>publishDate</th>\n",
       "      <th>firstPublishDate</th>\n",
       "      <th>awards</th>\n",
       "      <th>numRatings</th>\n",
       "      <th>ratingsByStars</th>\n",
       "      <th>likedPercent</th>\n",
       "      <th>setting</th>\n",
       "      <th>bbeScore</th>\n",
       "      <th>bbeVotes</th>\n",
       "      <th>price</th>\n",
       "    </tr>\n",
       "  </thead>\n",
       "  <tbody>\n",
       "    <tr>\n",
       "      <th>0</th>\n",
       "      <td>The Hunger Games</td>\n",
       "      <td>The Hunger Games #1</td>\n",
       "      <td>Suzanne Collins</td>\n",
       "      <td>4.33</td>\n",
       "      <td>WINNING MEANS FAME AND FORTUNE.LOSING MEANS CE...</td>\n",
       "      <td>English</td>\n",
       "      <td>9.78044E+12</td>\n",
       "      <td>['Young Adult', 'Fiction', 'Dystopia', 'Fantas...</td>\n",
       "      <td>['Katniss Everdeen', 'Peeta Mellark', 'Cato (H...</td>\n",
       "      <td>Hardcover</td>\n",
       "      <td>First Edition</td>\n",
       "      <td>374</td>\n",
       "      <td>Scholastic Press</td>\n",
       "      <td>09/14/08</td>\n",
       "      <td>NaN</td>\n",
       "      <td>['Locus Award Nominee for Best Young Adult Boo...</td>\n",
       "      <td>6376780</td>\n",
       "      <td>['3444695', '1921313', '745221', '171994', '93...</td>\n",
       "      <td>96.0</td>\n",
       "      <td>['District 12, Panem', 'Capitol, Panem', 'Pane...</td>\n",
       "      <td>2993816</td>\n",
       "      <td>30516</td>\n",
       "      <td>5.09</td>\n",
       "    </tr>\n",
       "    <tr>\n",
       "      <th>1</th>\n",
       "      <td>Harry Potter and the Order of the Phoenix</td>\n",
       "      <td>Harry Potter #5</td>\n",
       "      <td>J.K. Rowling, Mary GrandPré (Illustrator)</td>\n",
       "      <td>4.50</td>\n",
       "      <td>There is a door at the end of a silent corrido...</td>\n",
       "      <td>English</td>\n",
       "      <td>9.78044E+12</td>\n",
       "      <td>['Fantasy', 'Young Adult', 'Fiction', 'Magic',...</td>\n",
       "      <td>['Sirius Black', 'Draco Malfoy', 'Ron Weasley'...</td>\n",
       "      <td>Paperback</td>\n",
       "      <td>US Edition</td>\n",
       "      <td>870</td>\n",
       "      <td>Scholastic Inc.</td>\n",
       "      <td>09/28/04</td>\n",
       "      <td>06/21/03</td>\n",
       "      <td>['Bram Stoker Award for Works for Young Reader...</td>\n",
       "      <td>2507623</td>\n",
       "      <td>['1593642', '637516', '222366', '39573', '14526']</td>\n",
       "      <td>98.0</td>\n",
       "      <td>['Hogwarts School of Witchcraft and Wizardry (...</td>\n",
       "      <td>2632233</td>\n",
       "      <td>26923</td>\n",
       "      <td>7.38</td>\n",
       "    </tr>\n",
       "    <tr>\n",
       "      <th>2</th>\n",
       "      <td>To Kill a Mockingbird</td>\n",
       "      <td>To Kill a Mockingbird</td>\n",
       "      <td>Harper Lee</td>\n",
       "      <td>4.28</td>\n",
       "      <td>The unforgettable novel of a childhood in a sl...</td>\n",
       "      <td>English</td>\n",
       "      <td>1E+13</td>\n",
       "      <td>['Classics', 'Fiction', 'Historical Fiction', ...</td>\n",
       "      <td>['Scout Finch', 'Atticus Finch', 'Jem Finch', ...</td>\n",
       "      <td>Paperback</td>\n",
       "      <td>NaN</td>\n",
       "      <td>324</td>\n",
       "      <td>Harper Perennial Modern Classics</td>\n",
       "      <td>05/23/06</td>\n",
       "      <td>07-11-1960</td>\n",
       "      <td>['Pulitzer Prize for Fiction (1961)', 'Audie A...</td>\n",
       "      <td>4501075</td>\n",
       "      <td>['2363896', '1333153', '573280', '149952', '80...</td>\n",
       "      <td>95.0</td>\n",
       "      <td>['Maycomb, Alabama (United States)']</td>\n",
       "      <td>2269402</td>\n",
       "      <td>23328</td>\n",
       "      <td>NaN</td>\n",
       "    </tr>\n",
       "  </tbody>\n",
       "</table>\n",
       "</div>"
      ],
      "text/plain": [
       "                                       title                 series  \\\n",
       "0                           The Hunger Games    The Hunger Games #1   \n",
       "1  Harry Potter and the Order of the Phoenix        Harry Potter #5   \n",
       "2                      To Kill a Mockingbird  To Kill a Mockingbird   \n",
       "\n",
       "                                      author  rating  \\\n",
       "0                            Suzanne Collins    4.33   \n",
       "1  J.K. Rowling, Mary GrandPré (Illustrator)    4.50   \n",
       "2                                 Harper Lee    4.28   \n",
       "\n",
       "                                         description language         isbn  \\\n",
       "0  WINNING MEANS FAME AND FORTUNE.LOSING MEANS CE...  English  9.78044E+12   \n",
       "1  There is a door at the end of a silent corrido...  English  9.78044E+12   \n",
       "2  The unforgettable novel of a childhood in a sl...  English        1E+13   \n",
       "\n",
       "                                              genres  \\\n",
       "0  ['Young Adult', 'Fiction', 'Dystopia', 'Fantas...   \n",
       "1  ['Fantasy', 'Young Adult', 'Fiction', 'Magic',...   \n",
       "2  ['Classics', 'Fiction', 'Historical Fiction', ...   \n",
       "\n",
       "                                          characters bookFormat  \\\n",
       "0  ['Katniss Everdeen', 'Peeta Mellark', 'Cato (H...  Hardcover   \n",
       "1  ['Sirius Black', 'Draco Malfoy', 'Ron Weasley'...  Paperback   \n",
       "2  ['Scout Finch', 'Atticus Finch', 'Jem Finch', ...  Paperback   \n",
       "\n",
       "         edition pages                         publisher publishDate  \\\n",
       "0  First Edition   374                  Scholastic Press    09/14/08   \n",
       "1     US Edition   870                   Scholastic Inc.    09/28/04   \n",
       "2            NaN   324  Harper Perennial Modern Classics    05/23/06   \n",
       "\n",
       "  firstPublishDate                                             awards  \\\n",
       "0              NaN  ['Locus Award Nominee for Best Young Adult Boo...   \n",
       "1         06/21/03  ['Bram Stoker Award for Works for Young Reader...   \n",
       "2       07-11-1960  ['Pulitzer Prize for Fiction (1961)', 'Audie A...   \n",
       "\n",
       "   numRatings                                     ratingsByStars  \\\n",
       "0     6376780  ['3444695', '1921313', '745221', '171994', '93...   \n",
       "1     2507623  ['1593642', '637516', '222366', '39573', '14526']   \n",
       "2     4501075  ['2363896', '1333153', '573280', '149952', '80...   \n",
       "\n",
       "   likedPercent                                            setting  bbeScore  \\\n",
       "0          96.0  ['District 12, Panem', 'Capitol, Panem', 'Pane...   2993816   \n",
       "1          98.0  ['Hogwarts School of Witchcraft and Wizardry (...   2632233   \n",
       "2          95.0               ['Maycomb, Alabama (United States)']   2269402   \n",
       "\n",
       "   bbeVotes price  \n",
       "0     30516  5.09  \n",
       "1     26923  7.38  \n",
       "2     23328   NaN  "
      ]
     },
     "metadata": {},
     "output_type": "display_data"
    },
    {
     "data": {
      "text/plain": [
       "(52478, 23)"
      ]
     },
     "metadata": {},
     "output_type": "display_data"
    }
   ],
   "source": [
    "gr_data = pd.read_csv('./1. Original_df/GoodReads.Best_Books_Ever 2.csv')\n",
    "\n",
    "pd.set_option('display.max_columns', 30)\n",
    "display(gr_data.head(3), gr_data.shape)"
   ]
  },
  {
   "cell_type": "markdown",
   "id": "f54e33de",
   "metadata": {},
   "source": [
    "# Data Cleaning"
   ]
  },
  {
   "cell_type": "markdown",
   "id": "aba695c0",
   "metadata": {},
   "source": [
    "## Column Names\n"
   ]
  },
  {
   "cell_type": "code",
   "execution_count": 3,
   "id": "e9b35318",
   "metadata": {},
   "outputs": [
    {
     "data": {
      "text/plain": [
       "Index(['title', 'series', 'author', 'rating', 'description', 'language',\n",
       "       'isbn', 'genres', 'characters', 'bookformat', 'edition', 'pages',\n",
       "       'publisher', 'publishdate', 'firstpublishdate', 'awards', 'numratings',\n",
       "       'ratingsbystars', 'likedpercent', 'setting', 'bbescore', 'bbevotes',\n",
       "       'price'],\n",
       "      dtype='object')"
      ]
     },
     "execution_count": 3,
     "metadata": {},
     "output_type": "execute_result"
    }
   ],
   "source": [
    "# Names in lower case\n",
    "cols = []\n",
    "for c in gr_data.columns:\n",
    "    cols.append(c.lower())\n",
    "\n",
    "gr_data.columns = cols\n",
    "gr_data.columns"
   ]
  },
  {
   "cell_type": "code",
   "execution_count": 4,
   "id": "1c8bfc29",
   "metadata": {},
   "outputs": [
    {
     "data": {
      "text/plain": [
       "Index(['title', 'series', 'author', 'rating', 'description', 'language',\n",
       "       'isbn', 'genres', 'characters', 'book_format', 'edition', 'pages',\n",
       "       'publisher', 'publish_date', 'first_publish_date', 'awards',\n",
       "       'num_ratings', 'rating_by_stars', 'liked_perc', 'setting', 'bbe_score',\n",
       "       'bbe_votes', 'price'],\n",
       "      dtype='object')"
      ]
     },
     "execution_count": 4,
     "metadata": {},
     "output_type": "execute_result"
    }
   ],
   "source": [
    "# Renaming columns\n",
    "gr_data = gr_data.rename(columns={'bookformat':'book_format',\n",
    "                                 'publishdate':'publish_date',\n",
    "                                 'firstpublishdate':'first_publish_date',\n",
    "                                 'numratings':'num_ratings',\n",
    "                                 'ratingsbystars':'rating_by_stars',\n",
    "                                 'likedpercent': 'liked_perc',\n",
    "                                 'bbescore':'bbe_score',\n",
    "                                 'bbevotes':'bbe_votes'})\n",
    "\n",
    "gr_data.columns"
   ]
  },
  {
   "cell_type": "code",
   "execution_count": 5,
   "id": "848a5921",
   "metadata": {},
   "outputs": [
    {
     "data": {
      "text/html": [
       "<div>\n",
       "<style scoped>\n",
       "    .dataframe tbody tr th:only-of-type {\n",
       "        vertical-align: middle;\n",
       "    }\n",
       "\n",
       "    .dataframe tbody tr th {\n",
       "        vertical-align: top;\n",
       "    }\n",
       "\n",
       "    .dataframe thead th {\n",
       "        text-align: right;\n",
       "    }\n",
       "</style>\n",
       "<table border=\"1\" class=\"dataframe\">\n",
       "  <thead>\n",
       "    <tr style=\"text-align: right;\">\n",
       "      <th></th>\n",
       "      <th>title</th>\n",
       "      <th>series</th>\n",
       "      <th>author</th>\n",
       "      <th>rating</th>\n",
       "      <th>description</th>\n",
       "      <th>language</th>\n",
       "      <th>isbn</th>\n",
       "      <th>genres</th>\n",
       "      <th>characters</th>\n",
       "      <th>book_format</th>\n",
       "      <th>edition</th>\n",
       "      <th>pages</th>\n",
       "      <th>publisher</th>\n",
       "      <th>publish_date</th>\n",
       "      <th>first_publish_date</th>\n",
       "      <th>awards</th>\n",
       "      <th>num_ratings</th>\n",
       "      <th>rating_by_stars</th>\n",
       "      <th>liked_perc</th>\n",
       "      <th>setting</th>\n",
       "      <th>bbe_score</th>\n",
       "      <th>bbe_votes</th>\n",
       "      <th>price</th>\n",
       "    </tr>\n",
       "  </thead>\n",
       "  <tbody>\n",
       "    <tr>\n",
       "      <th>0</th>\n",
       "      <td>The Hunger Games</td>\n",
       "      <td>The Hunger Games #1</td>\n",
       "      <td>Suzanne Collins</td>\n",
       "      <td>4.33</td>\n",
       "      <td>WINNING MEANS FAME AND FORTUNE.LOSING MEANS CE...</td>\n",
       "      <td>English</td>\n",
       "      <td>9.78044E+12</td>\n",
       "      <td>['Young Adult', 'Fiction', 'Dystopia', 'Fantas...</td>\n",
       "      <td>['Katniss Everdeen', 'Peeta Mellark', 'Cato (H...</td>\n",
       "      <td>Hardcover</td>\n",
       "      <td>First Edition</td>\n",
       "      <td>374</td>\n",
       "      <td>Scholastic Press</td>\n",
       "      <td>09/14/08</td>\n",
       "      <td>NaN</td>\n",
       "      <td>['Locus Award Nominee for Best Young Adult Boo...</td>\n",
       "      <td>6376780</td>\n",
       "      <td>['3444695', '1921313', '745221', '171994', '93...</td>\n",
       "      <td>96.0</td>\n",
       "      <td>['District 12, Panem', 'Capitol, Panem', 'Pane...</td>\n",
       "      <td>2993816</td>\n",
       "      <td>30516</td>\n",
       "      <td>5.09</td>\n",
       "    </tr>\n",
       "  </tbody>\n",
       "</table>\n",
       "</div>"
      ],
      "text/plain": [
       "              title               series           author  rating  \\\n",
       "0  The Hunger Games  The Hunger Games #1  Suzanne Collins    4.33   \n",
       "\n",
       "                                         description language         isbn  \\\n",
       "0  WINNING MEANS FAME AND FORTUNE.LOSING MEANS CE...  English  9.78044E+12   \n",
       "\n",
       "                                              genres  \\\n",
       "0  ['Young Adult', 'Fiction', 'Dystopia', 'Fantas...   \n",
       "\n",
       "                                          characters book_format  \\\n",
       "0  ['Katniss Everdeen', 'Peeta Mellark', 'Cato (H...   Hardcover   \n",
       "\n",
       "         edition pages         publisher publish_date first_publish_date  \\\n",
       "0  First Edition   374  Scholastic Press     09/14/08                NaN   \n",
       "\n",
       "                                              awards  num_ratings  \\\n",
       "0  ['Locus Award Nominee for Best Young Adult Boo...      6376780   \n",
       "\n",
       "                                     rating_by_stars  liked_perc  \\\n",
       "0  ['3444695', '1921313', '745221', '171994', '93...        96.0   \n",
       "\n",
       "                                             setting  bbe_score  bbe_votes  \\\n",
       "0  ['District 12, Panem', 'Capitol, Panem', 'Pane...    2993816      30516   \n",
       "\n",
       "  price  \n",
       "0  5.09  "
      ]
     },
     "execution_count": 5,
     "metadata": {},
     "output_type": "execute_result"
    }
   ],
   "source": [
    "pd.set_option('display.max_columns', 30)\n",
    "gr_data.head(1)"
   ]
  },
  {
   "cell_type": "markdown",
   "id": "e5c50d7c",
   "metadata": {},
   "source": [
    "## Column types"
   ]
  },
  {
   "cell_type": "code",
   "execution_count": 6,
   "id": "1aa27d96",
   "metadata": {
    "scrolled": true
   },
   "outputs": [
    {
     "data": {
      "text/plain": [
       "title                  object\n",
       "series                 object\n",
       "author                 object\n",
       "rating                float64\n",
       "description            object\n",
       "language               object\n",
       "isbn                   object\n",
       "genres                 object\n",
       "characters             object\n",
       "book_format            object\n",
       "edition                object\n",
       "pages                  object\n",
       "publisher              object\n",
       "publish_date           object\n",
       "first_publish_date     object\n",
       "awards                 object\n",
       "num_ratings             int64\n",
       "rating_by_stars        object\n",
       "liked_perc            float64\n",
       "setting                object\n",
       "bbe_score               int64\n",
       "bbe_votes               int64\n",
       "price                  object\n",
       "dtype: object"
      ]
     },
     "execution_count": 6,
     "metadata": {},
     "output_type": "execute_result"
    }
   ],
   "source": [
    "gr_data.dtypes "
   ]
  },
  {
   "cell_type": "code",
   "execution_count": 7,
   "id": "e00d7b52",
   "metadata": {},
   "outputs": [],
   "source": [
    "# Converting object columns to numerical\n",
    "gr_data['pages'] = pd.to_numeric(gr_data['pages'], errors = 'coerce')\n",
    "gr_data['price'] = pd.to_numeric(gr_data['price'], errors = 'coerce')"
   ]
  },
  {
   "cell_type": "code",
   "execution_count": 8,
   "id": "fbee2610",
   "metadata": {},
   "outputs": [
    {
     "data": {
      "text/plain": [
       "title                  object\n",
       "series                 object\n",
       "author                 object\n",
       "rating                float64\n",
       "description            object\n",
       "language               object\n",
       "isbn                   object\n",
       "genres                 object\n",
       "characters             object\n",
       "book_format            object\n",
       "edition                object\n",
       "pages                 float64\n",
       "publisher              object\n",
       "publish_date           object\n",
       "first_publish_date     object\n",
       "awards                 object\n",
       "num_ratings             int64\n",
       "rating_by_stars        object\n",
       "liked_perc            float64\n",
       "setting                object\n",
       "bbe_score               int64\n",
       "bbe_votes               int64\n",
       "price                 float64\n",
       "dtype: object"
      ]
     },
     "execution_count": 8,
     "metadata": {},
     "output_type": "execute_result"
    }
   ],
   "source": [
    "gr_data.dtypes"
   ]
  },
  {
   "cell_type": "code",
   "execution_count": 9,
   "id": "c865db1e",
   "metadata": {},
   "outputs": [],
   "source": [
    "gr_data.to_csv('gr_data_cols_standard.csv')"
   ]
  },
  {
   "cell_type": "code",
   "execution_count": null,
   "id": "7b9de2ca",
   "metadata": {},
   "outputs": [],
   "source": []
  },
  {
   "cell_type": "markdown",
   "id": "37fd9e6a",
   "metadata": {},
   "source": [
    "## Numerical-Categorical data"
   ]
  },
  {
   "cell_type": "code",
   "execution_count": 10,
   "id": "8f5975c2",
   "metadata": {},
   "outputs": [
    {
     "data": {
      "text/plain": [
       "Index(['title', 'series', 'author', 'rating', 'description', 'language',\n",
       "       'isbn', 'genres', 'characters', 'book_format', 'edition', 'pages',\n",
       "       'publisher', 'publish_date', 'first_publish_date', 'awards',\n",
       "       'num_ratings', 'rating_by_stars', 'liked_perc', 'setting', 'bbe_score',\n",
       "       'bbe_votes', 'price'],\n",
       "      dtype='object')"
      ]
     },
     "execution_count": 10,
     "metadata": {},
     "output_type": "execute_result"
    }
   ],
   "source": [
    "gr_data = pd.read_csv('gr_data_cols_standard.csv')\n",
    "gr_data = gr_data.drop(['Unnamed: 0'],axis=1)\n",
    "gr_data.columns"
   ]
  },
  {
   "cell_type": "code",
   "execution_count": 11,
   "id": "800cd8f8",
   "metadata": {},
   "outputs": [
    {
     "data": {
      "text/html": [
       "<div>\n",
       "<style scoped>\n",
       "    .dataframe tbody tr th:only-of-type {\n",
       "        vertical-align: middle;\n",
       "    }\n",
       "\n",
       "    .dataframe tbody tr th {\n",
       "        vertical-align: top;\n",
       "    }\n",
       "\n",
       "    .dataframe thead th {\n",
       "        text-align: right;\n",
       "    }\n",
       "</style>\n",
       "<table border=\"1\" class=\"dataframe\">\n",
       "  <thead>\n",
       "    <tr style=\"text-align: right;\">\n",
       "      <th></th>\n",
       "      <th>rating</th>\n",
       "      <th>pages</th>\n",
       "      <th>num_ratings</th>\n",
       "      <th>liked_perc</th>\n",
       "      <th>bbe_score</th>\n",
       "      <th>bbe_votes</th>\n",
       "      <th>price</th>\n",
       "    </tr>\n",
       "  </thead>\n",
       "  <tbody>\n",
       "    <tr>\n",
       "      <th>0</th>\n",
       "      <td>4.33</td>\n",
       "      <td>374.0</td>\n",
       "      <td>6376780</td>\n",
       "      <td>96.0</td>\n",
       "      <td>2993816</td>\n",
       "      <td>30516</td>\n",
       "      <td>5.09</td>\n",
       "    </tr>\n",
       "    <tr>\n",
       "      <th>1</th>\n",
       "      <td>4.50</td>\n",
       "      <td>870.0</td>\n",
       "      <td>2507623</td>\n",
       "      <td>98.0</td>\n",
       "      <td>2632233</td>\n",
       "      <td>26923</td>\n",
       "      <td>7.38</td>\n",
       "    </tr>\n",
       "    <tr>\n",
       "      <th>2</th>\n",
       "      <td>4.28</td>\n",
       "      <td>324.0</td>\n",
       "      <td>4501075</td>\n",
       "      <td>95.0</td>\n",
       "      <td>2269402</td>\n",
       "      <td>23328</td>\n",
       "      <td>NaN</td>\n",
       "    </tr>\n",
       "    <tr>\n",
       "      <th>3</th>\n",
       "      <td>4.26</td>\n",
       "      <td>279.0</td>\n",
       "      <td>2998241</td>\n",
       "      <td>94.0</td>\n",
       "      <td>1983116</td>\n",
       "      <td>20452</td>\n",
       "      <td>NaN</td>\n",
       "    </tr>\n",
       "    <tr>\n",
       "      <th>4</th>\n",
       "      <td>3.60</td>\n",
       "      <td>501.0</td>\n",
       "      <td>4964519</td>\n",
       "      <td>78.0</td>\n",
       "      <td>1459448</td>\n",
       "      <td>14874</td>\n",
       "      <td>2.10</td>\n",
       "    </tr>\n",
       "    <tr>\n",
       "      <th>...</th>\n",
       "      <td>...</td>\n",
       "      <td>...</td>\n",
       "      <td>...</td>\n",
       "      <td>...</td>\n",
       "      <td>...</td>\n",
       "      <td>...</td>\n",
       "      <td>...</td>\n",
       "    </tr>\n",
       "    <tr>\n",
       "      <th>52473</th>\n",
       "      <td>4.00</td>\n",
       "      <td>0.0</td>\n",
       "      <td>871</td>\n",
       "      <td>94.0</td>\n",
       "      <td>0</td>\n",
       "      <td>1</td>\n",
       "      <td>NaN</td>\n",
       "    </tr>\n",
       "    <tr>\n",
       "      <th>52474</th>\n",
       "      <td>4.19</td>\n",
       "      <td>190.0</td>\n",
       "      <td>37</td>\n",
       "      <td>95.0</td>\n",
       "      <td>0</td>\n",
       "      <td>1</td>\n",
       "      <td>NaN</td>\n",
       "    </tr>\n",
       "    <tr>\n",
       "      <th>52475</th>\n",
       "      <td>3.70</td>\n",
       "      <td>280.0</td>\n",
       "      <td>6674</td>\n",
       "      <td>84.0</td>\n",
       "      <td>0</td>\n",
       "      <td>1</td>\n",
       "      <td>7.37</td>\n",
       "    </tr>\n",
       "    <tr>\n",
       "      <th>52476</th>\n",
       "      <td>3.85</td>\n",
       "      <td>507.0</td>\n",
       "      <td>238</td>\n",
       "      <td>90.0</td>\n",
       "      <td>0</td>\n",
       "      <td>1</td>\n",
       "      <td>2.86</td>\n",
       "    </tr>\n",
       "    <tr>\n",
       "      <th>52477</th>\n",
       "      <td>4.02</td>\n",
       "      <td>201.0</td>\n",
       "      <td>246</td>\n",
       "      <td>90.0</td>\n",
       "      <td>0</td>\n",
       "      <td>1</td>\n",
       "      <td>5.20</td>\n",
       "    </tr>\n",
       "  </tbody>\n",
       "</table>\n",
       "<p>52478 rows × 7 columns</p>\n",
       "</div>"
      ],
      "text/plain": [
       "       rating  pages  num_ratings  liked_perc  bbe_score  bbe_votes  price\n",
       "0        4.33  374.0      6376780        96.0    2993816      30516   5.09\n",
       "1        4.50  870.0      2507623        98.0    2632233      26923   7.38\n",
       "2        4.28  324.0      4501075        95.0    2269402      23328    NaN\n",
       "3        4.26  279.0      2998241        94.0    1983116      20452    NaN\n",
       "4        3.60  501.0      4964519        78.0    1459448      14874   2.10\n",
       "...       ...    ...          ...         ...        ...        ...    ...\n",
       "52473    4.00    0.0          871        94.0          0          1    NaN\n",
       "52474    4.19  190.0           37        95.0          0          1    NaN\n",
       "52475    3.70  280.0         6674        84.0          0          1   7.37\n",
       "52476    3.85  507.0          238        90.0          0          1   2.86\n",
       "52477    4.02  201.0          246        90.0          0          1   5.20\n",
       "\n",
       "[52478 rows x 7 columns]"
      ]
     },
     "execution_count": 11,
     "metadata": {},
     "output_type": "execute_result"
    }
   ],
   "source": [
    "# Numerical\n",
    "numerical = gr_data.select_dtypes(include='number')\n",
    "numerical"
   ]
  },
  {
   "cell_type": "code",
   "execution_count": 12,
   "id": "9b3c0f41",
   "metadata": {},
   "outputs": [
    {
     "data": {
      "text/plain": [
       "Index(['title', 'series', 'author', 'description', 'language', 'isbn',\n",
       "       'genres', 'characters', 'book_format', 'edition', 'publisher',\n",
       "       'publish_date', 'first_publish_date', 'awards', 'rating_by_stars',\n",
       "       'setting'],\n",
       "      dtype='object')"
      ]
     },
     "metadata": {},
     "output_type": "display_data"
    },
    {
     "data": {
      "text/plain": [
       "(52478, 16)"
      ]
     },
     "metadata": {},
     "output_type": "display_data"
    }
   ],
   "source": [
    "categorical = gr_data.select_dtypes(include='object')\n",
    "display(categorical.columns, categorical.shape)"
   ]
  },
  {
   "cell_type": "code",
   "execution_count": 13,
   "id": "3ee32bd1",
   "metadata": {},
   "outputs": [],
   "source": [
    "## Rating, pages, num_ratings, liked_percent, bbe_score, bbe_votes_price"
   ]
  },
  {
   "cell_type": "markdown",
   "id": "f48c14ec",
   "metadata": {},
   "source": [
    "### Case: Ratings by stars"
   ]
  },
  {
   "cell_type": "markdown",
   "id": "a4797f41",
   "metadata": {},
   "source": [
    "Despite being listed as an object, before converting to numerical, values must be extracted for each row/book and create new columns to store them.\n",
    "\n",
    "In the 'rating_by_stars' column, there are five values for each book representing the number of ratings given to 5 stars through 1 star, in that specific order."
   ]
  },
  {
   "cell_type": "code",
   "execution_count": 14,
   "id": "555086c1",
   "metadata": {},
   "outputs": [
    {
     "data": {
      "text/plain": [
       "\"['3444695', '1921313', '745221', '171994', '93557']\""
      ]
     },
     "execution_count": 14,
     "metadata": {},
     "output_type": "execute_result"
    }
   ],
   "source": [
    "# Number of ratings by stars\n",
    "gr_data['rating_by_stars'][0]"
   ]
  },
  {
   "cell_type": "code",
   "execution_count": 15,
   "id": "e82fc21c",
   "metadata": {},
   "outputs": [
    {
     "data": {
      "text/plain": [
       "str"
      ]
     },
     "execution_count": 15,
     "metadata": {},
     "output_type": "execute_result"
    }
   ],
   "source": [
    "# Check type of class\n",
    "type(gr_data['rating_by_stars'][0])"
   ]
  },
  {
   "cell_type": "code",
   "execution_count": 16,
   "id": "effc548c",
   "metadata": {},
   "outputs": [
    {
     "data": {
      "text/plain": [
       "list"
      ]
     },
     "execution_count": 16,
     "metadata": {},
     "output_type": "execute_result"
    }
   ],
   "source": [
    "# Convert to list\n",
    "import ast\n",
    "\n",
    "# Use ast.literal_eval() to convert the strings in the 'rating_by_stars' column to lists\n",
    "gr_data['rating_by_stars'] = gr_data['rating_by_stars'].apply(lambda x: ast.literal_eval(x) if isinstance(x, str) else x)\n",
    "#gr_data['rating_by_stars'] = gr_data['rating_by_stars'].apply(ast.literal_eval)\n",
    "type(gr_data['rating_by_stars'][0])"
   ]
  },
  {
   "cell_type": "code",
   "execution_count": 17,
   "id": "f23093ac",
   "metadata": {},
   "outputs": [],
   "source": [
    "# Creating columns (5 to 1 stars) to add the count of ratings for each \n",
    "gr_data[['5_stars_num_ratings', '4_stars_num_ratings', '3_stars_num_ratings', '2_stars_num_ratings', '1_star_num_ratings']] = gr_data['rating_by_stars'].apply(lambda x: pd.Series({\n",
    "    '5_stars_num_ratings': x[0] if len(x) > 0 else None,\n",
    "    '4_stars_num_ratings': x[1] if len(x) > 1 else None,\n",
    "    '3_stars_num_ratings': x[2] if len(x) > 2 else None,\n",
    "    '2_stars_num_ratings': x[3] if len(x) > 3 else None,\n",
    "    '1_star_num_ratings': x[4] if len(x) > 4 else None\n",
    "}))"
   ]
  },
  {
   "cell_type": "code",
   "execution_count": 18,
   "id": "5619977a",
   "metadata": {},
   "outputs": [],
   "source": [
    "# Droping original 'rating-by-stars' column\n",
    "gr_data = gr_data.drop(['rating_by_stars'], axis = 1)"
   ]
  },
  {
   "cell_type": "code",
   "execution_count": 19,
   "id": "e4839ace",
   "metadata": {},
   "outputs": [
    {
     "data": {
      "text/html": [
       "<div>\n",
       "<style scoped>\n",
       "    .dataframe tbody tr th:only-of-type {\n",
       "        vertical-align: middle;\n",
       "    }\n",
       "\n",
       "    .dataframe tbody tr th {\n",
       "        vertical-align: top;\n",
       "    }\n",
       "\n",
       "    .dataframe thead th {\n",
       "        text-align: right;\n",
       "    }\n",
       "</style>\n",
       "<table border=\"1\" class=\"dataframe\">\n",
       "  <thead>\n",
       "    <tr style=\"text-align: right;\">\n",
       "      <th></th>\n",
       "      <th>5_stars_num_ratings</th>\n",
       "      <th>4_stars_num_ratings</th>\n",
       "      <th>3_stars_num_ratings</th>\n",
       "      <th>2_stars_num_ratings</th>\n",
       "      <th>1_star_num_ratings</th>\n",
       "    </tr>\n",
       "  </thead>\n",
       "  <tbody>\n",
       "    <tr>\n",
       "      <th>0</th>\n",
       "      <td>3444695</td>\n",
       "      <td>1921313</td>\n",
       "      <td>745221</td>\n",
       "      <td>171994</td>\n",
       "      <td>93557</td>\n",
       "    </tr>\n",
       "    <tr>\n",
       "      <th>1</th>\n",
       "      <td>1593642</td>\n",
       "      <td>637516</td>\n",
       "      <td>222366</td>\n",
       "      <td>39573</td>\n",
       "      <td>14526</td>\n",
       "    </tr>\n",
       "    <tr>\n",
       "      <th>2</th>\n",
       "      <td>2363896</td>\n",
       "      <td>1333153</td>\n",
       "      <td>573280</td>\n",
       "      <td>149952</td>\n",
       "      <td>80794</td>\n",
       "    </tr>\n",
       "    <tr>\n",
       "      <th>3</th>\n",
       "      <td>1617567</td>\n",
       "      <td>816659</td>\n",
       "      <td>373311</td>\n",
       "      <td>113934</td>\n",
       "      <td>76770</td>\n",
       "    </tr>\n",
       "    <tr>\n",
       "      <th>4</th>\n",
       "      <td>1751460</td>\n",
       "      <td>1113682</td>\n",
       "      <td>1008686</td>\n",
       "      <td>542017</td>\n",
       "      <td>548674</td>\n",
       "    </tr>\n",
       "  </tbody>\n",
       "</table>\n",
       "</div>"
      ],
      "text/plain": [
       "  5_stars_num_ratings 4_stars_num_ratings 3_stars_num_ratings  \\\n",
       "0             3444695             1921313              745221   \n",
       "1             1593642              637516              222366   \n",
       "2             2363896             1333153              573280   \n",
       "3             1617567              816659              373311   \n",
       "4             1751460             1113682             1008686   \n",
       "\n",
       "  2_stars_num_ratings 1_star_num_ratings  \n",
       "0              171994              93557  \n",
       "1               39573              14526  \n",
       "2              149952              80794  \n",
       "3              113934              76770  \n",
       "4              542017             548674  "
      ]
     },
     "execution_count": 19,
     "metadata": {},
     "output_type": "execute_result"
    }
   ],
   "source": [
    "# New columns\n",
    "gr_data[['5_stars_num_ratings', '4_stars_num_ratings', '3_stars_num_ratings', '2_stars_num_ratings', '1_star_num_ratings']].head(5)"
   ]
  },
  {
   "cell_type": "code",
   "execution_count": 20,
   "id": "5ffc3429",
   "metadata": {},
   "outputs": [
    {
     "data": {
      "text/plain": [
       "5_stars_num_ratings    1423\n",
       "4_stars_num_ratings    1423\n",
       "3_stars_num_ratings    1423\n",
       "2_stars_num_ratings    1423\n",
       "1_star_num_ratings     1423\n",
       "dtype: int64"
      ]
     },
     "execution_count": 20,
     "metadata": {},
     "output_type": "execute_result"
    }
   ],
   "source": [
    "# NaN\n",
    "gr_data[['5_stars_num_ratings',\n",
    "         '4_stars_num_ratings',\n",
    "         '3_stars_num_ratings',\n",
    "         '2_stars_num_ratings',\n",
    "         '1_star_num_ratings']].isna().sum()"
   ]
  },
  {
   "cell_type": "code",
   "execution_count": 21,
   "id": "1a950da8",
   "metadata": {},
   "outputs": [
    {
     "data": {
      "text/html": [
       "<div>\n",
       "<style scoped>\n",
       "    .dataframe tbody tr th:only-of-type {\n",
       "        vertical-align: middle;\n",
       "    }\n",
       "\n",
       "    .dataframe tbody tr th {\n",
       "        vertical-align: top;\n",
       "    }\n",
       "\n",
       "    .dataframe thead th {\n",
       "        text-align: right;\n",
       "    }\n",
       "</style>\n",
       "<table border=\"1\" class=\"dataframe\">\n",
       "  <thead>\n",
       "    <tr style=\"text-align: right;\">\n",
       "      <th></th>\n",
       "      <th>5_stars_num_ratings</th>\n",
       "      <th>4_stars_num_ratings</th>\n",
       "      <th>3_stars_num_ratings</th>\n",
       "      <th>2_stars_num_ratings</th>\n",
       "      <th>1_star_num_ratings</th>\n",
       "    </tr>\n",
       "  </thead>\n",
       "  <tbody>\n",
       "    <tr>\n",
       "      <th>4968</th>\n",
       "      <td>None</td>\n",
       "      <td>None</td>\n",
       "      <td>None</td>\n",
       "      <td>None</td>\n",
       "      <td>None</td>\n",
       "    </tr>\n",
       "    <tr>\n",
       "      <th>5003</th>\n",
       "      <td>None</td>\n",
       "      <td>None</td>\n",
       "      <td>None</td>\n",
       "      <td>None</td>\n",
       "      <td>None</td>\n",
       "    </tr>\n",
       "    <tr>\n",
       "      <th>5716</th>\n",
       "      <td>None</td>\n",
       "      <td>None</td>\n",
       "      <td>None</td>\n",
       "      <td>None</td>\n",
       "      <td>None</td>\n",
       "    </tr>\n",
       "  </tbody>\n",
       "</table>\n",
       "</div>"
      ],
      "text/plain": [
       "     5_stars_num_ratings 4_stars_num_ratings 3_stars_num_ratings  \\\n",
       "4968                None                None                None   \n",
       "5003                None                None                None   \n",
       "5716                None                None                None   \n",
       "\n",
       "     2_stars_num_ratings 1_star_num_ratings  \n",
       "4968                None               None  \n",
       "5003                None               None  \n",
       "5716                None               None  "
      ]
     },
     "execution_count": 21,
     "metadata": {},
     "output_type": "execute_result"
    }
   ],
   "source": [
    "rows_with_nan = gr_data[gr_data[['5_stars_num_ratings',\n",
    "                                 '4_stars_num_ratings',\n",
    "                                 '3_stars_num_ratings',\n",
    "                                 '2_stars_num_ratings',\n",
    "                                 '1_star_num_ratings']].isna().any(axis=1)]\n",
    "\n",
    "\n",
    "rows_with_nan[['5_stars_num_ratings',\n",
    "               '4_stars_num_ratings',\n",
    "               '3_stars_num_ratings',\n",
    "               '2_stars_num_ratings',\n",
    "               '1_star_num_ratings']].head(3)"
   ]
  },
  {
   "cell_type": "code",
   "execution_count": 22,
   "id": "4b671121",
   "metadata": {},
   "outputs": [],
   "source": [
    "# Replace None per 0\n",
    "\n",
    "gr_data[['5_stars_num_ratings',\n",
    "         '4_stars_num_ratings',\n",
    "         '3_stars_num_ratings',\n",
    "         '2_stars_num_ratings',\n",
    "         '1_star_num_ratings']] = gr_data[['5_stars_num_ratings',\n",
    "                                           '4_stars_num_ratings',\n",
    "                                           '3_stars_num_ratings',\n",
    "                                           '2_stars_num_ratings',\n",
    "                                           '1_star_num_ratings']].fillna(0)\n"
   ]
  },
  {
   "cell_type": "code",
   "execution_count": 23,
   "id": "694b2c73",
   "metadata": {},
   "outputs": [
    {
     "data": {
      "text/plain": [
       "5_stars_num_ratings    0\n",
       "4_stars_num_ratings    0\n",
       "3_stars_num_ratings    0\n",
       "2_stars_num_ratings    0\n",
       "1_star_num_ratings     0\n",
       "dtype: int64"
      ]
     },
     "execution_count": 23,
     "metadata": {},
     "output_type": "execute_result"
    }
   ],
   "source": [
    "# New count of NaN\n",
    "gr_data[['5_stars_num_ratings',\n",
    "         '4_stars_num_ratings',\n",
    "         '3_stars_num_ratings',\n",
    "         '2_stars_num_ratings',\n",
    "         '1_star_num_ratings']].isna().sum()"
   ]
  },
  {
   "cell_type": "code",
   "execution_count": 24,
   "id": "c4bc5d8f",
   "metadata": {},
   "outputs": [
    {
     "data": {
      "text/plain": [
       "5_stars_num_ratings    object\n",
       "4_stars_num_ratings    object\n",
       "3_stars_num_ratings    object\n",
       "2_stars_num_ratings    object\n",
       "1_star_num_ratings     object\n",
       "dtype: object"
      ]
     },
     "execution_count": 24,
     "metadata": {},
     "output_type": "execute_result"
    }
   ],
   "source": [
    "# Type\n",
    "gr_data[['5_stars_num_ratings',\n",
    "         '4_stars_num_ratings',\n",
    "         '3_stars_num_ratings',\n",
    "         '2_stars_num_ratings',\n",
    "         '1_star_num_ratings']].dtypes"
   ]
  },
  {
   "cell_type": "code",
   "execution_count": 25,
   "id": "bf512578",
   "metadata": {},
   "outputs": [],
   "source": [
    "# Convert to integer\n",
    "gr_data[['5_stars_num_ratings',\n",
    "         '4_stars_num_ratings',\n",
    "         '3_stars_num_ratings',\n",
    "         '2_stars_num_ratings',\n",
    "         '1_star_num_ratings']] = gr_data[['5_stars_num_ratings',\n",
    "                                           '4_stars_num_ratings',\n",
    "                                           '3_stars_num_ratings',\n",
    "                                           '2_stars_num_ratings',\n",
    "                                           '1_star_num_ratings']].astype(int)\n"
   ]
  },
  {
   "cell_type": "code",
   "execution_count": 26,
   "id": "1964908a",
   "metadata": {},
   "outputs": [
    {
     "data": {
      "text/plain": [
       "5_stars_num_ratings    int64\n",
       "4_stars_num_ratings    int64\n",
       "3_stars_num_ratings    int64\n",
       "2_stars_num_ratings    int64\n",
       "1_star_num_ratings     int64\n",
       "dtype: object"
      ]
     },
     "execution_count": 26,
     "metadata": {},
     "output_type": "execute_result"
    }
   ],
   "source": [
    "# New type\n",
    "gr_data[['5_stars_num_ratings',\n",
    "         '4_stars_num_ratings',\n",
    "         '3_stars_num_ratings',\n",
    "         '2_stars_num_ratings',\n",
    "         '1_star_num_ratings']].dtypes"
   ]
  },
  {
   "cell_type": "code",
   "execution_count": 27,
   "id": "94eb5a48",
   "metadata": {},
   "outputs": [
    {
     "data": {
      "text/html": [
       "<div>\n",
       "<style scoped>\n",
       "    .dataframe tbody tr th:only-of-type {\n",
       "        vertical-align: middle;\n",
       "    }\n",
       "\n",
       "    .dataframe tbody tr th {\n",
       "        vertical-align: top;\n",
       "    }\n",
       "\n",
       "    .dataframe thead th {\n",
       "        text-align: right;\n",
       "    }\n",
       "</style>\n",
       "<table border=\"1\" class=\"dataframe\">\n",
       "  <thead>\n",
       "    <tr style=\"text-align: right;\">\n",
       "      <th></th>\n",
       "      <th>rating</th>\n",
       "      <th>pages</th>\n",
       "      <th>num_ratings</th>\n",
       "      <th>liked_perc</th>\n",
       "      <th>bbe_score</th>\n",
       "      <th>bbe_votes</th>\n",
       "      <th>price</th>\n",
       "      <th>5_stars_num_ratings</th>\n",
       "      <th>4_stars_num_ratings</th>\n",
       "      <th>3_stars_num_ratings</th>\n",
       "      <th>2_stars_num_ratings</th>\n",
       "      <th>1_star_num_ratings</th>\n",
       "    </tr>\n",
       "  </thead>\n",
       "  <tbody>\n",
       "    <tr>\n",
       "      <th>0</th>\n",
       "      <td>4.33</td>\n",
       "      <td>374.0</td>\n",
       "      <td>6376780</td>\n",
       "      <td>96.0</td>\n",
       "      <td>2993816</td>\n",
       "      <td>30516</td>\n",
       "      <td>5.09</td>\n",
       "      <td>3444695</td>\n",
       "      <td>1921313</td>\n",
       "      <td>745221</td>\n",
       "      <td>171994</td>\n",
       "      <td>93557</td>\n",
       "    </tr>\n",
       "    <tr>\n",
       "      <th>1</th>\n",
       "      <td>4.50</td>\n",
       "      <td>870.0</td>\n",
       "      <td>2507623</td>\n",
       "      <td>98.0</td>\n",
       "      <td>2632233</td>\n",
       "      <td>26923</td>\n",
       "      <td>7.38</td>\n",
       "      <td>1593642</td>\n",
       "      <td>637516</td>\n",
       "      <td>222366</td>\n",
       "      <td>39573</td>\n",
       "      <td>14526</td>\n",
       "    </tr>\n",
       "    <tr>\n",
       "      <th>2</th>\n",
       "      <td>4.28</td>\n",
       "      <td>324.0</td>\n",
       "      <td>4501075</td>\n",
       "      <td>95.0</td>\n",
       "      <td>2269402</td>\n",
       "      <td>23328</td>\n",
       "      <td>NaN</td>\n",
       "      <td>2363896</td>\n",
       "      <td>1333153</td>\n",
       "      <td>573280</td>\n",
       "      <td>149952</td>\n",
       "      <td>80794</td>\n",
       "    </tr>\n",
       "    <tr>\n",
       "      <th>3</th>\n",
       "      <td>4.26</td>\n",
       "      <td>279.0</td>\n",
       "      <td>2998241</td>\n",
       "      <td>94.0</td>\n",
       "      <td>1983116</td>\n",
       "      <td>20452</td>\n",
       "      <td>NaN</td>\n",
       "      <td>1617567</td>\n",
       "      <td>816659</td>\n",
       "      <td>373311</td>\n",
       "      <td>113934</td>\n",
       "      <td>76770</td>\n",
       "    </tr>\n",
       "    <tr>\n",
       "      <th>4</th>\n",
       "      <td>3.60</td>\n",
       "      <td>501.0</td>\n",
       "      <td>4964519</td>\n",
       "      <td>78.0</td>\n",
       "      <td>1459448</td>\n",
       "      <td>14874</td>\n",
       "      <td>2.10</td>\n",
       "      <td>1751460</td>\n",
       "      <td>1113682</td>\n",
       "      <td>1008686</td>\n",
       "      <td>542017</td>\n",
       "      <td>548674</td>\n",
       "    </tr>\n",
       "    <tr>\n",
       "      <th>...</th>\n",
       "      <td>...</td>\n",
       "      <td>...</td>\n",
       "      <td>...</td>\n",
       "      <td>...</td>\n",
       "      <td>...</td>\n",
       "      <td>...</td>\n",
       "      <td>...</td>\n",
       "      <td>...</td>\n",
       "      <td>...</td>\n",
       "      <td>...</td>\n",
       "      <td>...</td>\n",
       "      <td>...</td>\n",
       "    </tr>\n",
       "    <tr>\n",
       "      <th>52473</th>\n",
       "      <td>4.00</td>\n",
       "      <td>0.0</td>\n",
       "      <td>871</td>\n",
       "      <td>94.0</td>\n",
       "      <td>0</td>\n",
       "      <td>1</td>\n",
       "      <td>NaN</td>\n",
       "      <td>311</td>\n",
       "      <td>310</td>\n",
       "      <td>197</td>\n",
       "      <td>42</td>\n",
       "      <td>11</td>\n",
       "    </tr>\n",
       "    <tr>\n",
       "      <th>52474</th>\n",
       "      <td>4.19</td>\n",
       "      <td>190.0</td>\n",
       "      <td>37</td>\n",
       "      <td>95.0</td>\n",
       "      <td>0</td>\n",
       "      <td>1</td>\n",
       "      <td>NaN</td>\n",
       "      <td>16</td>\n",
       "      <td>14</td>\n",
       "      <td>5</td>\n",
       "      <td>2</td>\n",
       "      <td>0</td>\n",
       "    </tr>\n",
       "    <tr>\n",
       "      <th>52475</th>\n",
       "      <td>3.70</td>\n",
       "      <td>280.0</td>\n",
       "      <td>6674</td>\n",
       "      <td>84.0</td>\n",
       "      <td>0</td>\n",
       "      <td>1</td>\n",
       "      <td>7.37</td>\n",
       "      <td>2109</td>\n",
       "      <td>1868</td>\n",
       "      <td>1660</td>\n",
       "      <td>647</td>\n",
       "      <td>390</td>\n",
       "    </tr>\n",
       "    <tr>\n",
       "      <th>52476</th>\n",
       "      <td>3.85</td>\n",
       "      <td>507.0</td>\n",
       "      <td>238</td>\n",
       "      <td>90.0</td>\n",
       "      <td>0</td>\n",
       "      <td>1</td>\n",
       "      <td>2.86</td>\n",
       "      <td>77</td>\n",
       "      <td>78</td>\n",
       "      <td>59</td>\n",
       "      <td>19</td>\n",
       "      <td>5</td>\n",
       "    </tr>\n",
       "    <tr>\n",
       "      <th>52477</th>\n",
       "      <td>4.02</td>\n",
       "      <td>201.0</td>\n",
       "      <td>246</td>\n",
       "      <td>90.0</td>\n",
       "      <td>0</td>\n",
       "      <td>1</td>\n",
       "      <td>5.20</td>\n",
       "      <td>106</td>\n",
       "      <td>73</td>\n",
       "      <td>42</td>\n",
       "      <td>17</td>\n",
       "      <td>8</td>\n",
       "    </tr>\n",
       "  </tbody>\n",
       "</table>\n",
       "<p>52478 rows × 12 columns</p>\n",
       "</div>"
      ],
      "text/plain": [
       "       rating  pages  num_ratings  liked_perc  bbe_score  bbe_votes  price  \\\n",
       "0        4.33  374.0      6376780        96.0    2993816      30516   5.09   \n",
       "1        4.50  870.0      2507623        98.0    2632233      26923   7.38   \n",
       "2        4.28  324.0      4501075        95.0    2269402      23328    NaN   \n",
       "3        4.26  279.0      2998241        94.0    1983116      20452    NaN   \n",
       "4        3.60  501.0      4964519        78.0    1459448      14874   2.10   \n",
       "...       ...    ...          ...         ...        ...        ...    ...   \n",
       "52473    4.00    0.0          871        94.0          0          1    NaN   \n",
       "52474    4.19  190.0           37        95.0          0          1    NaN   \n",
       "52475    3.70  280.0         6674        84.0          0          1   7.37   \n",
       "52476    3.85  507.0          238        90.0          0          1   2.86   \n",
       "52477    4.02  201.0          246        90.0          0          1   5.20   \n",
       "\n",
       "       5_stars_num_ratings  4_stars_num_ratings  3_stars_num_ratings  \\\n",
       "0                  3444695              1921313               745221   \n",
       "1                  1593642               637516               222366   \n",
       "2                  2363896              1333153               573280   \n",
       "3                  1617567               816659               373311   \n",
       "4                  1751460              1113682              1008686   \n",
       "...                    ...                  ...                  ...   \n",
       "52473                  311                  310                  197   \n",
       "52474                   16                   14                    5   \n",
       "52475                 2109                 1868                 1660   \n",
       "52476                   77                   78                   59   \n",
       "52477                  106                   73                   42   \n",
       "\n",
       "       2_stars_num_ratings  1_star_num_ratings  \n",
       "0                   171994               93557  \n",
       "1                    39573               14526  \n",
       "2                   149952               80794  \n",
       "3                   113934               76770  \n",
       "4                   542017              548674  \n",
       "...                    ...                 ...  \n",
       "52473                   42                  11  \n",
       "52474                    2                   0  \n",
       "52475                  647                 390  \n",
       "52476                   19                   5  \n",
       "52477                   17                   8  \n",
       "\n",
       "[52478 rows x 12 columns]"
      ]
     },
     "metadata": {},
     "output_type": "display_data"
    },
    {
     "data": {
      "text/plain": [
       "(52478, 12)"
      ]
     },
     "metadata": {},
     "output_type": "display_data"
    }
   ],
   "source": [
    "# New numerical subset\n",
    "numerical = gr_data.select_dtypes(include='number')\n",
    "display(numerical, numerical.shape)"
   ]
  },
  {
   "cell_type": "code",
   "execution_count": 28,
   "id": "5ee997ce",
   "metadata": {},
   "outputs": [],
   "source": [
    "## Rating, pages, num_ratings, liked_percent, bbe_score, bbe_votes_price"
   ]
  },
  {
   "cell_type": "code",
   "execution_count": 29,
   "id": "682d5fa3",
   "metadata": {},
   "outputs": [],
   "source": [
    "gr_data.to_csv('gr_data_main.csv')"
   ]
  },
  {
   "cell_type": "markdown",
   "id": "1e62cdd7",
   "metadata": {},
   "source": [
    "## Cleaning Categorical Data"
   ]
  },
  {
   "cell_type": "code",
   "execution_count": 30,
   "id": "98e739b8",
   "metadata": {},
   "outputs": [
    {
     "data": {
      "text/plain": [
       "(52478, 27)"
      ]
     },
     "execution_count": 30,
     "metadata": {},
     "output_type": "execute_result"
    }
   ],
   "source": [
    "gr_data = pd.read_csv('gr_data_main.csv')\n",
    "gr_data = gr_data.drop(['Unnamed: 0'], axis=1)\n",
    "gr_data.shape"
   ]
  },
  {
   "cell_type": "code",
   "execution_count": 31,
   "id": "22701e9e",
   "metadata": {},
   "outputs": [
    {
     "data": {
      "text/plain": [
       "Index(['title', 'series', 'author', 'description', 'language', 'isbn',\n",
       "       'genres', 'characters', 'book_format', 'edition', 'publisher',\n",
       "       'publish_date', 'first_publish_date', 'awards', 'setting'],\n",
       "      dtype='object')"
      ]
     },
     "metadata": {},
     "output_type": "display_data"
    },
    {
     "data": {
      "text/plain": [
       "(52478, 15)"
      ]
     },
     "metadata": {},
     "output_type": "display_data"
    }
   ],
   "source": [
    "categorical = gr_data.select_dtypes(include='object')\n",
    "display(categorical.columns, categorical.shape)"
   ]
  },
  {
   "cell_type": "markdown",
   "id": "03853dc3",
   "metadata": {},
   "source": [
    "### Title"
   ]
  },
  {
   "cell_type": "code",
   "execution_count": 32,
   "id": "86953dca",
   "metadata": {},
   "outputs": [
    {
     "data": {
      "text/plain": [
       "0"
      ]
     },
     "execution_count": 32,
     "metadata": {},
     "output_type": "execute_result"
    }
   ],
   "source": [
    "gr_data['title'].isna().sum()"
   ]
  },
  {
   "cell_type": "markdown",
   "id": "e96c46e6",
   "metadata": {},
   "source": [
    "### Series"
   ]
  },
  {
   "cell_type": "code",
   "execution_count": 33,
   "id": "c71b2924",
   "metadata": {},
   "outputs": [
    {
     "data": {
      "text/plain": [
       "29008"
      ]
     },
     "execution_count": 33,
     "metadata": {},
     "output_type": "execute_result"
    }
   ],
   "source": [
    "gr_data['series'].isna().sum()"
   ]
  },
  {
   "cell_type": "code",
   "execution_count": 34,
   "id": "944279fe",
   "metadata": {},
   "outputs": [],
   "source": [
    "# NaN"
   ]
  },
  {
   "cell_type": "markdown",
   "id": "061e3331",
   "metadata": {},
   "source": [
    "### Author"
   ]
  },
  {
   "cell_type": "code",
   "execution_count": 35,
   "id": "7c20b066",
   "metadata": {},
   "outputs": [
    {
     "data": {
      "text/plain": [
       "0                                      Suzanne Collins\n",
       "1            J.K. Rowling, Mary GrandPré (Illustrator)\n",
       "2                                           Harper Lee\n",
       "3            Jane Austen, Anna Quindlen (Introduction)\n",
       "4                                      Stephenie Meyer\n",
       "5                      Markus Zusak (Goodreads Author)\n",
       "6    George Orwell, Russell Baker (Preface), C.M. W...\n",
       "7             C.S. Lewis, Pauline Baynes (Illustrator)\n",
       "8                                       J.R.R. Tolkien\n",
       "9                                    Margaret Mitchell\n",
       "Name: author, dtype: object"
      ]
     },
     "execution_count": 35,
     "metadata": {},
     "output_type": "execute_result"
    }
   ],
   "source": [
    "gr_data['author'].head(10)"
   ]
  },
  {
   "cell_type": "code",
   "execution_count": 36,
   "id": "2152bd27",
   "metadata": {},
   "outputs": [],
   "source": [
    "import re\n",
    "\n",
    "# Extract author name and collaborators\n",
    "gr_data['author'] = gr_data['author'].astype(str)\n",
    "\n",
    "# Add to new 'other collabs' columns all names after the first ',' or '(' (before it's the writer)\n",
    "gr_data['other_collabs'] = gr_data['author'].apply(lambda x: ', '.join(re.split(',|\\(|:', x)[1:]).strip())\n",
    "gr_data['author'] = gr_data['author'].apply(lambda x: re.split(',|\\(|:', x)[0].strip())\n"
   ]
  },
  {
   "cell_type": "code",
   "execution_count": 37,
   "id": "a8128ecb",
   "metadata": {},
   "outputs": [
    {
     "data": {
      "text/html": [
       "<div>\n",
       "<style scoped>\n",
       "    .dataframe tbody tr th:only-of-type {\n",
       "        vertical-align: middle;\n",
       "    }\n",
       "\n",
       "    .dataframe tbody tr th {\n",
       "        vertical-align: top;\n",
       "    }\n",
       "\n",
       "    .dataframe thead th {\n",
       "        text-align: right;\n",
       "    }\n",
       "</style>\n",
       "<table border=\"1\" class=\"dataframe\">\n",
       "  <thead>\n",
       "    <tr style=\"text-align: right;\">\n",
       "      <th></th>\n",
       "      <th>author</th>\n",
       "      <th>other_collabs</th>\n",
       "    </tr>\n",
       "  </thead>\n",
       "  <tbody>\n",
       "    <tr>\n",
       "      <th>0</th>\n",
       "      <td>Suzanne Collins</td>\n",
       "      <td></td>\n",
       "    </tr>\n",
       "    <tr>\n",
       "      <th>1</th>\n",
       "      <td>J.K. Rowling</td>\n",
       "      <td>Mary GrandPré , Illustrator)</td>\n",
       "    </tr>\n",
       "    <tr>\n",
       "      <th>2</th>\n",
       "      <td>Harper Lee</td>\n",
       "      <td></td>\n",
       "    </tr>\n",
       "    <tr>\n",
       "      <th>3</th>\n",
       "      <td>Jane Austen</td>\n",
       "      <td>Anna Quindlen , Introduction)</td>\n",
       "    </tr>\n",
       "    <tr>\n",
       "      <th>4</th>\n",
       "      <td>Stephenie Meyer</td>\n",
       "      <td></td>\n",
       "    </tr>\n",
       "    <tr>\n",
       "      <th>5</th>\n",
       "      <td>Markus Zusak</td>\n",
       "      <td>Goodreads Author)</td>\n",
       "    </tr>\n",
       "    <tr>\n",
       "      <th>6</th>\n",
       "      <td>George Orwell</td>\n",
       "      <td>Russell Baker , Preface),  C.M. Woodhouse , In...</td>\n",
       "    </tr>\n",
       "    <tr>\n",
       "      <th>7</th>\n",
       "      <td>C.S. Lewis</td>\n",
       "      <td>Pauline Baynes , Illustrator)</td>\n",
       "    </tr>\n",
       "    <tr>\n",
       "      <th>8</th>\n",
       "      <td>J.R.R. Tolkien</td>\n",
       "      <td></td>\n",
       "    </tr>\n",
       "    <tr>\n",
       "      <th>9</th>\n",
       "      <td>Margaret Mitchell</td>\n",
       "      <td></td>\n",
       "    </tr>\n",
       "    <tr>\n",
       "      <th>10</th>\n",
       "      <td>John Green</td>\n",
       "      <td>Goodreads Author)</td>\n",
       "    </tr>\n",
       "    <tr>\n",
       "      <th>11</th>\n",
       "      <td>Douglas Adams</td>\n",
       "      <td></td>\n",
       "    </tr>\n",
       "    <tr>\n",
       "      <th>12</th>\n",
       "      <td>Shel Silverstein</td>\n",
       "      <td></td>\n",
       "    </tr>\n",
       "    <tr>\n",
       "      <th>13</th>\n",
       "      <td>Emily Brontë</td>\n",
       "      <td>Richard J. Dunn , Editor),  David Timson , Nar...</td>\n",
       "    </tr>\n",
       "    <tr>\n",
       "      <th>14</th>\n",
       "      <td>Dan Brown</td>\n",
       "      <td>Goodreads Author)</td>\n",
       "    </tr>\n",
       "    <tr>\n",
       "      <th>15</th>\n",
       "      <td>Arthur Golden</td>\n",
       "      <td></td>\n",
       "    </tr>\n",
       "    <tr>\n",
       "      <th>16</th>\n",
       "      <td>Oscar Wilde</td>\n",
       "      <td>Jeffrey Eugenides , Introduction)</td>\n",
       "    </tr>\n",
       "    <tr>\n",
       "      <th>17</th>\n",
       "      <td>Lewis Carroll</td>\n",
       "      <td>John Tenniel , Illustrator),  Martin Gardner ,...</td>\n",
       "    </tr>\n",
       "    <tr>\n",
       "      <th>18</th>\n",
       "      <td>Charlotte Brontë</td>\n",
       "      <td>Michael Mason , Editor),  Barnett Freedman , I...</td>\n",
       "    </tr>\n",
       "    <tr>\n",
       "      <th>19</th>\n",
       "      <td>Victor Hugo</td>\n",
       "      <td>Lee Fahnestock , Translator),  Norman MacAfee ...</td>\n",
       "    </tr>\n",
       "  </tbody>\n",
       "</table>\n",
       "</div>"
      ],
      "text/plain": [
       "               author                                      other_collabs\n",
       "0     Suzanne Collins                                                   \n",
       "1        J.K. Rowling                       Mary GrandPré , Illustrator)\n",
       "2          Harper Lee                                                   \n",
       "3         Jane Austen                      Anna Quindlen , Introduction)\n",
       "4     Stephenie Meyer                                                   \n",
       "5        Markus Zusak                                  Goodreads Author)\n",
       "6       George Orwell  Russell Baker , Preface),  C.M. Woodhouse , In...\n",
       "7          C.S. Lewis                      Pauline Baynes , Illustrator)\n",
       "8      J.R.R. Tolkien                                                   \n",
       "9   Margaret Mitchell                                                   \n",
       "10         John Green                                  Goodreads Author)\n",
       "11      Douglas Adams                                                   \n",
       "12   Shel Silverstein                                                   \n",
       "13       Emily Brontë  Richard J. Dunn , Editor),  David Timson , Nar...\n",
       "14          Dan Brown                                  Goodreads Author)\n",
       "15      Arthur Golden                                                   \n",
       "16        Oscar Wilde                  Jeffrey Eugenides , Introduction)\n",
       "17      Lewis Carroll  John Tenniel , Illustrator),  Martin Gardner ,...\n",
       "18   Charlotte Brontë  Michael Mason , Editor),  Barnett Freedman , I...\n",
       "19        Victor Hugo  Lee Fahnestock , Translator),  Norman MacAfee ..."
      ]
     },
     "execution_count": 37,
     "metadata": {},
     "output_type": "execute_result"
    }
   ],
   "source": [
    "# Check result\n",
    "gr_data[['author','other_collabs']].head(20)"
   ]
  },
  {
   "cell_type": "code",
   "execution_count": 38,
   "id": "b2c0483f",
   "metadata": {},
   "outputs": [
    {
     "data": {
      "text/plain": [
       "James Patterson    97\n",
       "Nora Roberts       94\n",
       "Stephen King       94\n",
       "Agatha Christie    84\n",
       "Erin Hunter        81\n",
       "                   ..\n",
       "Adele Westbrook     1\n",
       "Clara Ng            1\n",
       "Maria Krüger        1\n",
       "Scott Thomas        1\n",
       "Misty Moncur        1\n",
       "Name: author, Length: 23196, dtype: int64"
      ]
     },
     "execution_count": 38,
     "metadata": {},
     "output_type": "execute_result"
    }
   ],
   "source": [
    "gr_data['author'].value_counts()"
   ]
  },
  {
   "cell_type": "code",
   "execution_count": 39,
   "id": "6839d21d",
   "metadata": {},
   "outputs": [
    {
     "data": {
      "text/plain": [
       "23196"
      ]
     },
     "execution_count": 39,
     "metadata": {},
     "output_type": "execute_result"
    }
   ],
   "source": [
    "# Unique authors\n",
    "gr_data['author'].nunique()"
   ]
  },
  {
   "cell_type": "code",
   "execution_count": 40,
   "id": "7d2e2a0e",
   "metadata": {},
   "outputs": [],
   "source": [
    "# Deleting column with illustrators, editors, etc.\n",
    "gr_data = gr_data.drop(['other_collabs'],axis=1)"
   ]
  },
  {
   "cell_type": "markdown",
   "id": "419055ae",
   "metadata": {},
   "source": [
    "### Description"
   ]
  },
  {
   "cell_type": "code",
   "execution_count": 41,
   "id": "1203cc96",
   "metadata": {},
   "outputs": [
    {
     "data": {
      "text/plain": [
       "0    WINNING MEANS FAME AND FORTUNE.LOSING MEANS CE...\n",
       "1    There is a door at the end of a silent corrido...\n",
       "2    The unforgettable novel of a childhood in a sl...\n",
       "3    Alternate cover edition of ISBN 9780679783268S...\n",
       "4    About three things I was absolutely positive.\\...\n",
       "5    Librarian's note: An alternate cover edition c...\n",
       "6    Librarian's note: There is an Alternate Cover ...\n",
       "7    Journeys to the end of the world, fantastic cr...\n",
       "8    This four-volume, boxed set contains J.R.R. To...\n",
       "9    Scarlett O'Hara, the beautiful, spoiled daught...\n",
       "Name: description, dtype: object"
      ]
     },
     "execution_count": 41,
     "metadata": {},
     "output_type": "execute_result"
    }
   ],
   "source": [
    "gr_data['description'].head(10)"
   ]
  },
  {
   "cell_type": "code",
   "execution_count": 42,
   "id": "6388bf64",
   "metadata": {},
   "outputs": [
    {
     "data": {
      "text/plain": [
       "'ISBN 9780307277671 moved to this edition.While in Paris, Harvard symbologist Robert Langdon is awakened by a phone call in the dead of the night. The elderly curator of the Louvre has been murdered inside the museum, his body covered in baffling symbols. As Langdon and gifted French cryptologist Sophie Neveu sort through the bizarre riddles, they are stunned to discover a trail of clues hidden in the works of Leonardo da Vinci—clues visible for all to see and yet ingeniously disguised by the painter.Even more startling, the late curator was involved in the Priory of Sion—a secret society whose members included Sir Isaac Newton, Victor Hugo, and Da Vinci—and he guarded a breathtaking historical secret. Unless Langdon and Neveu can decipher the labyrinthine puzzle—while avoiding the faceless adversary who shadows their every move—the explosive, ancient truth will be lost forever.'"
      ]
     },
     "execution_count": 42,
     "metadata": {},
     "output_type": "execute_result"
    }
   ],
   "source": [
    "gr_data['description'][14]"
   ]
  },
  {
   "cell_type": "code",
   "execution_count": 43,
   "id": "56f6aa85",
   "metadata": {},
   "outputs": [
    {
     "data": {
      "text/html": [
       "<div>\n",
       "<style scoped>\n",
       "    .dataframe tbody tr th:only-of-type {\n",
       "        vertical-align: middle;\n",
       "    }\n",
       "\n",
       "    .dataframe tbody tr th {\n",
       "        vertical-align: top;\n",
       "    }\n",
       "\n",
       "    .dataframe thead th {\n",
       "        text-align: right;\n",
       "    }\n",
       "</style>\n",
       "<table border=\"1\" class=\"dataframe\">\n",
       "  <thead>\n",
       "    <tr style=\"text-align: right;\">\n",
       "      <th></th>\n",
       "      <th>title</th>\n",
       "      <th>series</th>\n",
       "      <th>author</th>\n",
       "      <th>rating</th>\n",
       "      <th>description</th>\n",
       "      <th>language</th>\n",
       "      <th>isbn</th>\n",
       "      <th>genres</th>\n",
       "      <th>characters</th>\n",
       "      <th>book_format</th>\n",
       "      <th>edition</th>\n",
       "      <th>pages</th>\n",
       "      <th>publisher</th>\n",
       "      <th>publish_date</th>\n",
       "      <th>first_publish_date</th>\n",
       "      <th>awards</th>\n",
       "      <th>num_ratings</th>\n",
       "      <th>liked_perc</th>\n",
       "      <th>setting</th>\n",
       "      <th>bbe_score</th>\n",
       "      <th>bbe_votes</th>\n",
       "      <th>price</th>\n",
       "      <th>5_stars_num_ratings</th>\n",
       "      <th>4_stars_num_ratings</th>\n",
       "      <th>3_stars_num_ratings</th>\n",
       "      <th>2_stars_num_ratings</th>\n",
       "      <th>1_star_num_ratings</th>\n",
       "    </tr>\n",
       "  </thead>\n",
       "  <tbody>\n",
       "    <tr>\n",
       "      <th>291</th>\n",
       "      <td>Leaves of Grass</td>\n",
       "      <td>NaN</td>\n",
       "      <td>Walt Whitman</td>\n",
       "      <td>4.12</td>\n",
       "      <td>NaN</td>\n",
       "      <td>English</td>\n",
       "      <td>1E+13</td>\n",
       "      <td>['Poetry', 'Classics', 'Fiction', 'Literature'...</td>\n",
       "      <td>[]</td>\n",
       "      <td>Paperback</td>\n",
       "      <td>NaN</td>\n",
       "      <td>624.0</td>\n",
       "      <td>Simon Schuster</td>\n",
       "      <td>08-01-2006</td>\n",
       "      <td>10/28/92</td>\n",
       "      <td>[]</td>\n",
       "      <td>89814</td>\n",
       "      <td>93.0</td>\n",
       "      <td>['New York City, New York (United States)', 'W...</td>\n",
       "      <td>43537</td>\n",
       "      <td>591</td>\n",
       "      <td>NaN</td>\n",
       "      <td>40667</td>\n",
       "      <td>27858</td>\n",
       "      <td>14878</td>\n",
       "      <td>4260</td>\n",
       "      <td>2151</td>\n",
       "    </tr>\n",
       "    <tr>\n",
       "      <th>680</th>\n",
       "      <td>Howl and Other Poems</td>\n",
       "      <td>NaN</td>\n",
       "      <td>Allen Ginsberg</td>\n",
       "      <td>4.13</td>\n",
       "      <td>NaN</td>\n",
       "      <td>English</td>\n",
       "      <td>9.78087E+12</td>\n",
       "      <td>['Poetry', 'Classics', 'Fiction', 'American', ...</td>\n",
       "      <td>[]</td>\n",
       "      <td>Hardcover</td>\n",
       "      <td>NaN</td>\n",
       "      <td>56.0</td>\n",
       "      <td>City Lights</td>\n",
       "      <td>01-01-2001</td>\n",
       "      <td>10/28/56</td>\n",
       "      <td>[]</td>\n",
       "      <td>93609</td>\n",
       "      <td>93.0</td>\n",
       "      <td>['United States of America']</td>\n",
       "      <td>11078</td>\n",
       "      <td>157</td>\n",
       "      <td>10.53</td>\n",
       "      <td>42231</td>\n",
       "      <td>29693</td>\n",
       "      <td>15146</td>\n",
       "      <td>4295</td>\n",
       "      <td>2244</td>\n",
       "    </tr>\n",
       "    <tr>\n",
       "      <th>683</th>\n",
       "      <td>The Book of Mormon: Another Testament of Jesus...</td>\n",
       "      <td>NaN</td>\n",
       "      <td>Joseph Smith Jr.</td>\n",
       "      <td>4.34</td>\n",
       "      <td>NaN</td>\n",
       "      <td>English</td>\n",
       "      <td>9.78097E+12</td>\n",
       "      <td>['Religion', 'Nonfiction', 'Lds', 'Church', 'S...</td>\n",
       "      <td>[]</td>\n",
       "      <td>Paperback</td>\n",
       "      <td>2013 Edition</td>\n",
       "      <td>531.0</td>\n",
       "      <td>The Church of Jesus Christ of Latter-day Saints</td>\n",
       "      <td>10/28/13</td>\n",
       "      <td>03-01-1930</td>\n",
       "      <td>[]</td>\n",
       "      <td>75222</td>\n",
       "      <td>85.0</td>\n",
       "      <td>[]</td>\n",
       "      <td>11029</td>\n",
       "      <td>121</td>\n",
       "      <td>2.90</td>\n",
       "      <td>58923</td>\n",
       "      <td>2290</td>\n",
       "      <td>2811</td>\n",
       "      <td>2934</td>\n",
       "      <td>8264</td>\n",
       "    </tr>\n",
       "  </tbody>\n",
       "</table>\n",
       "</div>"
      ],
      "text/plain": [
       "                                                 title series  \\\n",
       "291                                    Leaves of Grass    NaN   \n",
       "680                               Howl and Other Poems    NaN   \n",
       "683  The Book of Mormon: Another Testament of Jesus...    NaN   \n",
       "\n",
       "               author  rating description language         isbn  \\\n",
       "291      Walt Whitman    4.12         NaN  English        1E+13   \n",
       "680    Allen Ginsberg    4.13         NaN  English  9.78087E+12   \n",
       "683  Joseph Smith Jr.    4.34         NaN  English  9.78097E+12   \n",
       "\n",
       "                                                genres characters book_format  \\\n",
       "291  ['Poetry', 'Classics', 'Fiction', 'Literature'...         []   Paperback   \n",
       "680  ['Poetry', 'Classics', 'Fiction', 'American', ...         []   Hardcover   \n",
       "683  ['Religion', 'Nonfiction', 'Lds', 'Church', 'S...         []   Paperback   \n",
       "\n",
       "          edition  pages                                        publisher  \\\n",
       "291           NaN  624.0                                   Simon Schuster   \n",
       "680           NaN   56.0                                      City Lights   \n",
       "683  2013 Edition  531.0  The Church of Jesus Christ of Latter-day Saints   \n",
       "\n",
       "    publish_date first_publish_date awards  num_ratings  liked_perc  \\\n",
       "291   08-01-2006           10/28/92     []        89814        93.0   \n",
       "680   01-01-2001           10/28/56     []        93609        93.0   \n",
       "683     10/28/13         03-01-1930     []        75222        85.0   \n",
       "\n",
       "                                               setting  bbe_score  bbe_votes  \\\n",
       "291  ['New York City, New York (United States)', 'W...      43537        591   \n",
       "680                       ['United States of America']      11078        157   \n",
       "683                                                 []      11029        121   \n",
       "\n",
       "     price  5_stars_num_ratings  4_stars_num_ratings  3_stars_num_ratings  \\\n",
       "291    NaN                40667                27858                14878   \n",
       "680  10.53                42231                29693                15146   \n",
       "683   2.90                58923                 2290                 2811   \n",
       "\n",
       "     2_stars_num_ratings  1_star_num_ratings  \n",
       "291                 4260                2151  \n",
       "680                 4295                2244  \n",
       "683                 2934                8264  "
      ]
     },
     "metadata": {},
     "output_type": "display_data"
    },
    {
     "data": {
      "text/plain": [
       "(1338, 27)"
      ]
     },
     "metadata": {},
     "output_type": "display_data"
    }
   ],
   "source": [
    "# Checking NaN values (no description)\n",
    "nan_descr = gr_data[gr_data['description'].isna()]\n",
    "display(nan_descr.head(3), nan_descr.shape)"
   ]
  },
  {
   "cell_type": "code",
   "execution_count": 44,
   "id": "e65b3422",
   "metadata": {},
   "outputs": [],
   "source": [
    "# Replacing value of NaN\n",
    "gr_data['description'] = gr_data['description'].fillna('No description provided for this book')"
   ]
  },
  {
   "cell_type": "code",
   "execution_count": 45,
   "id": "75ab8914",
   "metadata": {},
   "outputs": [
    {
     "data": {
      "text/html": [
       "<div>\n",
       "<style scoped>\n",
       "    .dataframe tbody tr th:only-of-type {\n",
       "        vertical-align: middle;\n",
       "    }\n",
       "\n",
       "    .dataframe tbody tr th {\n",
       "        vertical-align: top;\n",
       "    }\n",
       "\n",
       "    .dataframe thead th {\n",
       "        text-align: right;\n",
       "    }\n",
       "</style>\n",
       "<table border=\"1\" class=\"dataframe\">\n",
       "  <thead>\n",
       "    <tr style=\"text-align: right;\">\n",
       "      <th></th>\n",
       "      <th>title</th>\n",
       "      <th>series</th>\n",
       "      <th>author</th>\n",
       "      <th>rating</th>\n",
       "      <th>description</th>\n",
       "      <th>language</th>\n",
       "      <th>isbn</th>\n",
       "      <th>genres</th>\n",
       "      <th>characters</th>\n",
       "      <th>book_format</th>\n",
       "      <th>edition</th>\n",
       "      <th>pages</th>\n",
       "      <th>publisher</th>\n",
       "      <th>publish_date</th>\n",
       "      <th>first_publish_date</th>\n",
       "      <th>awards</th>\n",
       "      <th>num_ratings</th>\n",
       "      <th>liked_perc</th>\n",
       "      <th>setting</th>\n",
       "      <th>bbe_score</th>\n",
       "      <th>bbe_votes</th>\n",
       "      <th>price</th>\n",
       "      <th>5_stars_num_ratings</th>\n",
       "      <th>4_stars_num_ratings</th>\n",
       "      <th>3_stars_num_ratings</th>\n",
       "      <th>2_stars_num_ratings</th>\n",
       "      <th>1_star_num_ratings</th>\n",
       "    </tr>\n",
       "  </thead>\n",
       "  <tbody>\n",
       "  </tbody>\n",
       "</table>\n",
       "</div>"
      ],
      "text/plain": [
       "Empty DataFrame\n",
       "Columns: [title, series, author, rating, description, language, isbn, genres, characters, book_format, edition, pages, publisher, publish_date, first_publish_date, awards, num_ratings, liked_perc, setting, bbe_score, bbe_votes, price, 5_stars_num_ratings, 4_stars_num_ratings, 3_stars_num_ratings, 2_stars_num_ratings, 1_star_num_ratings]\n",
       "Index: []"
      ]
     },
     "metadata": {},
     "output_type": "display_data"
    },
    {
     "data": {
      "text/plain": [
       "(0, 27)"
      ]
     },
     "metadata": {},
     "output_type": "display_data"
    }
   ],
   "source": [
    "# No NaN\n",
    "nan_descr = gr_data[gr_data['description'].isna()]\n",
    "display(nan_descr.head(3), nan_descr.shape)"
   ]
  },
  {
   "cell_type": "markdown",
   "id": "70f39327",
   "metadata": {},
   "source": [
    "### Language"
   ]
  },
  {
   "cell_type": "code",
   "execution_count": 46,
   "id": "d8126f71",
   "metadata": {},
   "outputs": [
    {
     "data": {
      "text/plain": [
       "81"
      ]
     },
     "execution_count": 46,
     "metadata": {},
     "output_type": "execute_result"
    }
   ],
   "source": [
    "gr_data['language'].nunique()"
   ]
  },
  {
   "cell_type": "code",
   "execution_count": 47,
   "id": "38d0ca59",
   "metadata": {},
   "outputs": [
    {
     "data": {
      "text/plain": [
       "English                                  42661\n",
       "Arabic                                    1038\n",
       "Spanish                                    687\n",
       "French                                     579\n",
       "German                                     528\n",
       "                                         ...  \n",
       "Aromanian; Arumanian; Macedo-Romanian        1\n",
       "Basque                                       1\n",
       "Faroese                                      1\n",
       "Iranian (Other)                              1\n",
       "Norwegian Nynorsk; Nynorsk, Norwegian        1\n",
       "Name: language, Length: 81, dtype: int64"
      ]
     },
     "execution_count": 47,
     "metadata": {},
     "output_type": "execute_result"
    }
   ],
   "source": [
    "gr_data['language'].value_counts()"
   ]
  },
  {
   "cell_type": "code",
   "execution_count": 48,
   "id": "1120d35b",
   "metadata": {},
   "outputs": [
    {
     "data": {
      "text/plain": [
       "3806"
      ]
     },
     "execution_count": 48,
     "metadata": {},
     "output_type": "execute_result"
    }
   ],
   "source": [
    "# Checking null values\n",
    "gr_data['language'].isna().sum()"
   ]
  },
  {
   "cell_type": "code",
   "execution_count": 49,
   "id": "738ce2c9",
   "metadata": {},
   "outputs": [
    {
     "data": {
      "text/plain": [
       "503      NaN\n",
       "570      NaN\n",
       "645      NaN\n",
       "703      NaN\n",
       "751      NaN\n",
       "        ... \n",
       "52411    NaN\n",
       "52416    NaN\n",
       "52429    NaN\n",
       "52454    NaN\n",
       "52464    NaN\n",
       "Name: language, Length: 3806, dtype: object"
      ]
     },
     "execution_count": 49,
     "metadata": {},
     "output_type": "execute_result"
    }
   ],
   "source": [
    "nan_lang = gr_data[gr_data['language'].isna()]\n",
    "nan_lang['language']"
   ]
  },
  {
   "cell_type": "code",
   "execution_count": 50,
   "id": "ee789229",
   "metadata": {},
   "outputs": [],
   "source": [
    "# 'langid' --> identifying language from 'description' or 'title' column\n",
    "\n",
    "import langid\n",
    "\n",
    "# Language dictionary\n",
    "language_dict = {\n",
    "    \n",
    "    'ar': 'Arabic',\n",
    "    'en': 'English',\n",
    "    'fr': 'French',\n",
    "    'de': 'German',\n",
    "    'es': 'Spanish',\n",
    "    'it': 'Italian',\n",
    "    'pt': 'Portuguese',\n",
    "    'nl': 'Dutch',\n",
    "    'sv': 'Swedish',\n",
    "    'pl': 'Polish',\n",
    "    'sl': 'Slovenian',\n",
    "    'bs': 'Bosnian',\n",
    "    'hr': 'Croatian',\n",
    "    'sr': 'Serbian',\n",
    "    'sq': 'Albanian',\n",
    "    'mk': 'Macedonian',\n",
    "    'ro': 'Romanian',\n",
    "    'da': 'Danish',\n",
    "    'no': 'Norwegian',\n",
    "    'fi': 'Finnish',\n",
    "    'hu': 'Hungarian',\n",
    "    'et': 'Estonian',\n",
    "    'lv': 'Latvian',\n",
    "    'lt': 'Lithuanian',\n",
    "    'cs': 'Czech',\n",
    "    'sk': 'Slovak',\n",
    "    'sl': 'Slovenian',\n",
    "    'ru': 'Russian'\n",
    "}\n",
    "\n",
    "# List of unique language values from the dataframe\n",
    "language_values = gr_data['language'].dropna().unique().tolist()\n",
    "\n",
    "# Iterate through rows where 'language' is nan\n",
    "for index, row in gr_data[gr_data['language'].isna()].iterrows():\n",
    "    description = row['description']\n",
    "    if isinstance(description, str):\n",
    "        detected_language = langid.classify(description)[0]\n",
    "        gr_data.at[index, 'language'] = language_dict.get(detected_language, detected_language)\n",
    "    else:\n",
    "        title = row['title']\n",
    "        if isinstance(title, str):\n",
    "            detected_language = langid.classify(title)[0]\n",
    "            gr_data.at[index, 'language'] = language_dict.get(detected_language, detected_language)\n",
    "\n"
   ]
  },
  {
   "cell_type": "code",
   "execution_count": 51,
   "id": "5e21c193",
   "metadata": {},
   "outputs": [
    {
     "data": {
      "text/plain": [
       "0"
      ]
     },
     "execution_count": 51,
     "metadata": {},
     "output_type": "execute_result"
    }
   ],
   "source": [
    "# Checking if conversion worked well\n",
    "gr_data['language'].isna().sum()"
   ]
  },
  {
   "cell_type": "code",
   "execution_count": 52,
   "id": "b02f5980",
   "metadata": {},
   "outputs": [
    {
     "data": {
      "text/plain": [
       "95"
      ]
     },
     "execution_count": 52,
     "metadata": {},
     "output_type": "execute_result"
    }
   ],
   "source": [
    "gr_data['language'].nunique()"
   ]
  },
  {
   "cell_type": "markdown",
   "id": "d5c8f133",
   "metadata": {},
   "source": [
    "### ISBN"
   ]
  },
  {
   "cell_type": "code",
   "execution_count": 53,
   "id": "14cd7d29",
   "metadata": {},
   "outputs": [
    {
     "data": {
      "text/plain": [
       "0        9.78044E+12\n",
       "1        9.78044E+12\n",
       "2              1E+13\n",
       "3              1E+13\n",
       "4        9.78032E+12\n",
       "            ...     \n",
       "52473    2.94001E+12\n",
       "52474          1E+13\n",
       "52475    9.78146E+12\n",
       "52476    9.78145E+12\n",
       "52477     9.7816E+12\n",
       "Name: isbn, Length: 52478, dtype: object"
      ]
     },
     "execution_count": 53,
     "metadata": {},
     "output_type": "execute_result"
    }
   ],
   "source": [
    "gr_data['isbn']"
   ]
  },
  {
   "cell_type": "markdown",
   "id": "138b0315",
   "metadata": {},
   "source": [
    "### Genres (last part)"
   ]
  },
  {
   "cell_type": "markdown",
   "id": "fcbd8ba4",
   "metadata": {},
   "source": [
    "### Characters"
   ]
  },
  {
   "cell_type": "code",
   "execution_count": 54,
   "id": "f3c1cf73",
   "metadata": {},
   "outputs": [
    {
     "data": {
      "text/plain": [
       "0        ['Katniss Everdeen', 'Peeta Mellark', 'Cato (H...\n",
       "1        ['Sirius Black', 'Draco Malfoy', 'Ron Weasley'...\n",
       "2        ['Scout Finch', 'Atticus Finch', 'Jem Finch', ...\n",
       "3        ['Mr. Bennet', 'Mrs. Bennet', 'Jane Bennet', '...\n",
       "4        ['Edward Cullen', 'Jacob Black', 'Laurent', 'R...\n",
       "                               ...                        \n",
       "52473                                                   []\n",
       "52474                                                   []\n",
       "52475                                                   []\n",
       "52476                                                   []\n",
       "52477                                                   []\n",
       "Name: characters, Length: 52478, dtype: object"
      ]
     },
     "execution_count": 54,
     "metadata": {},
     "output_type": "execute_result"
    }
   ],
   "source": [
    "gr_data['characters']"
   ]
  },
  {
   "cell_type": "code",
   "execution_count": 55,
   "id": "58e3de11",
   "metadata": {},
   "outputs": [],
   "source": [
    "# Remove column\n",
    "gr_data = gr_data.drop(['characters'], axis=1)"
   ]
  },
  {
   "cell_type": "markdown",
   "id": "bec12462",
   "metadata": {},
   "source": [
    "### Book Format"
   ]
  },
  {
   "cell_type": "code",
   "execution_count": 56,
   "id": "3c72aaf8",
   "metadata": {},
   "outputs": [
    {
     "data": {
      "text/plain": [
       "137"
      ]
     },
     "execution_count": 56,
     "metadata": {},
     "output_type": "execute_result"
    }
   ],
   "source": [
    "# Unique values\n",
    "len(gr_data['book_format'].value_counts(dropna=False))"
   ]
  },
  {
   "cell_type": "code",
   "execution_count": 57,
   "id": "336c6558",
   "metadata": {},
   "outputs": [
    {
     "data": {
      "text/plain": [
       "1473"
      ]
     },
     "execution_count": 57,
     "metadata": {},
     "output_type": "execute_result"
    }
   ],
   "source": [
    "# NaN values\n",
    "gr_data['book_format'].isna().sum()"
   ]
  },
  {
   "cell_type": "code",
   "execution_count": 58,
   "id": "4eb5d5cc",
   "metadata": {},
   "outputs": [
    {
     "data": {
      "text/html": [
       "<div>\n",
       "<style scoped>\n",
       "    .dataframe tbody tr th:only-of-type {\n",
       "        vertical-align: middle;\n",
       "    }\n",
       "\n",
       "    .dataframe tbody tr th {\n",
       "        vertical-align: top;\n",
       "    }\n",
       "\n",
       "    .dataframe thead th {\n",
       "        text-align: right;\n",
       "    }\n",
       "</style>\n",
       "<table border=\"1\" class=\"dataframe\">\n",
       "  <thead>\n",
       "    <tr style=\"text-align: right;\">\n",
       "      <th></th>\n",
       "      <th>title</th>\n",
       "      <th>series</th>\n",
       "      <th>author</th>\n",
       "      <th>rating</th>\n",
       "      <th>description</th>\n",
       "      <th>language</th>\n",
       "      <th>isbn</th>\n",
       "      <th>genres</th>\n",
       "      <th>book_format</th>\n",
       "      <th>edition</th>\n",
       "      <th>pages</th>\n",
       "      <th>publisher</th>\n",
       "      <th>publish_date</th>\n",
       "      <th>first_publish_date</th>\n",
       "      <th>awards</th>\n",
       "      <th>num_ratings</th>\n",
       "      <th>liked_perc</th>\n",
       "      <th>setting</th>\n",
       "      <th>bbe_score</th>\n",
       "      <th>bbe_votes</th>\n",
       "      <th>price</th>\n",
       "      <th>5_stars_num_ratings</th>\n",
       "      <th>4_stars_num_ratings</th>\n",
       "      <th>3_stars_num_ratings</th>\n",
       "      <th>2_stars_num_ratings</th>\n",
       "      <th>1_star_num_ratings</th>\n",
       "    </tr>\n",
       "  </thead>\n",
       "  <tbody>\n",
       "    <tr>\n",
       "      <th>115</th>\n",
       "      <td>Flowers for Algernon</td>\n",
       "      <td>NaN</td>\n",
       "      <td>Daniel Keyes</td>\n",
       "      <td>4.14</td>\n",
       "      <td>The story of a mentally disabled man whose exp...</td>\n",
       "      <td>English</td>\n",
       "      <td>1E+13</td>\n",
       "      <td>['Fiction', 'Classics', 'Science Fiction', 'Yo...</td>\n",
       "      <td>NaN</td>\n",
       "      <td>NaN</td>\n",
       "      <td>216.0</td>\n",
       "      <td>NaN</td>\n",
       "      <td>NaN</td>\n",
       "      <td>04/28/59</td>\n",
       "      <td>['Hugo Award Nominee for Best Novel (1967)', '...</td>\n",
       "      <td>478318</td>\n",
       "      <td>95.0</td>\n",
       "      <td>['New York City, New York (United States)']</td>\n",
       "      <td>142450</td>\n",
       "      <td>1657</td>\n",
       "      <td>NaN</td>\n",
       "      <td>202947</td>\n",
       "      <td>168968</td>\n",
       "      <td>82223</td>\n",
       "      <td>18584</td>\n",
       "      <td>5596</td>\n",
       "    </tr>\n",
       "    <tr>\n",
       "      <th>782</th>\n",
       "      <td>گم شده ای در مه</td>\n",
       "      <td>NaN</td>\n",
       "      <td>سید مرتضی مصطفوی</td>\n",
       "      <td>4.03</td>\n",
       "      <td>Philosophical story about human loneliness in ...</td>\n",
       "      <td>Persian</td>\n",
       "      <td>9.78601E+12</td>\n",
       "      <td>['Fiction', 'Philosophy', 'Spirituality']</td>\n",
       "      <td>NaN</td>\n",
       "      <td>NaN</td>\n",
       "      <td>82.0</td>\n",
       "      <td>نشر داستان</td>\n",
       "      <td>01-02-2016</td>\n",
       "      <td>NaN</td>\n",
       "      <td>[]</td>\n",
       "      <td>888</td>\n",
       "      <td>77.0</td>\n",
       "      <td>[]</td>\n",
       "      <td>9249</td>\n",
       "      <td>94</td>\n",
       "      <td>NaN</td>\n",
       "      <td>634</td>\n",
       "      <td>36</td>\n",
       "      <td>18</td>\n",
       "      <td>10</td>\n",
       "      <td>190</td>\n",
       "    </tr>\n",
       "    <tr>\n",
       "      <th>2211</th>\n",
       "      <td>The Trial and Death of Socrates (Euthyphro, Ap...</td>\n",
       "      <td>Great Books in Philosophy</td>\n",
       "      <td>Plato</td>\n",
       "      <td>4.09</td>\n",
       "      <td>No description provided for this book</td>\n",
       "      <td>English</td>\n",
       "      <td>9.78087E+12</td>\n",
       "      <td>['Philosophy', 'Classics', 'Nonfiction', 'Hist...</td>\n",
       "      <td>NaN</td>\n",
       "      <td>3rd</td>\n",
       "      <td>58.0</td>\n",
       "      <td>Hackett Publishing Company</td>\n",
       "      <td>June 1st 2001</td>\n",
       "      <td>10/28/00</td>\n",
       "      <td>[]</td>\n",
       "      <td>33367</td>\n",
       "      <td>94.0</td>\n",
       "      <td>['Greece']</td>\n",
       "      <td>1747</td>\n",
       "      <td>24</td>\n",
       "      <td>4.08</td>\n",
       "      <td>13504</td>\n",
       "      <td>11631</td>\n",
       "      <td>6334</td>\n",
       "      <td>1421</td>\n",
       "      <td>477</td>\n",
       "    </tr>\n",
       "  </tbody>\n",
       "</table>\n",
       "</div>"
      ],
      "text/plain": [
       "                                                  title  \\\n",
       "115                                Flowers for Algernon   \n",
       "782                                     گم شده ای در مه   \n",
       "2211  The Trial and Death of Socrates (Euthyphro, Ap...   \n",
       "\n",
       "                         series            author  rating  \\\n",
       "115                         NaN      Daniel Keyes    4.14   \n",
       "782                         NaN  سید مرتضی مصطفوی    4.03   \n",
       "2211  Great Books in Philosophy             Plato    4.09   \n",
       "\n",
       "                                            description language         isbn  \\\n",
       "115   The story of a mentally disabled man whose exp...  English        1E+13   \n",
       "782   Philosophical story about human loneliness in ...  Persian  9.78601E+12   \n",
       "2211              No description provided for this book  English  9.78087E+12   \n",
       "\n",
       "                                                 genres book_format edition  \\\n",
       "115   ['Fiction', 'Classics', 'Science Fiction', 'Yo...         NaN     NaN   \n",
       "782           ['Fiction', 'Philosophy', 'Spirituality']         NaN     NaN   \n",
       "2211  ['Philosophy', 'Classics', 'Nonfiction', 'Hist...         NaN     3rd   \n",
       "\n",
       "      pages                   publisher   publish_date first_publish_date  \\\n",
       "115   216.0                         NaN            NaN           04/28/59   \n",
       "782    82.0                  نشر داستان     01-02-2016                NaN   \n",
       "2211   58.0  Hackett Publishing Company  June 1st 2001           10/28/00   \n",
       "\n",
       "                                                 awards  num_ratings  \\\n",
       "115   ['Hugo Award Nominee for Best Novel (1967)', '...       478318   \n",
       "782                                                  []          888   \n",
       "2211                                                 []        33367   \n",
       "\n",
       "      liked_perc                                      setting  bbe_score  \\\n",
       "115         95.0  ['New York City, New York (United States)']     142450   \n",
       "782         77.0                                           []       9249   \n",
       "2211        94.0                                   ['Greece']       1747   \n",
       "\n",
       "      bbe_votes  price  5_stars_num_ratings  4_stars_num_ratings  \\\n",
       "115        1657    NaN               202947               168968   \n",
       "782          94    NaN                  634                   36   \n",
       "2211         24   4.08                13504                11631   \n",
       "\n",
       "      3_stars_num_ratings  2_stars_num_ratings  1_star_num_ratings  \n",
       "115                 82223                18584                5596  \n",
       "782                    18                   10                 190  \n",
       "2211                 6334                 1421                 477  "
      ]
     },
     "metadata": {},
     "output_type": "display_data"
    },
    {
     "data": {
      "text/plain": [
       "1473"
      ]
     },
     "metadata": {},
     "output_type": "display_data"
    }
   ],
   "source": [
    "# Rows with NaN 'boook_format'\n",
    "display(gr_data[gr_data['book_format'].isnull()].head(3),len(gr_data[gr_data['book_format'].isnull()]))"
   ]
  },
  {
   "cell_type": "code",
   "execution_count": 59,
   "id": "b2981dd9",
   "metadata": {},
   "outputs": [],
   "source": [
    "def find_format(df):\n",
    "    \n",
    "    \"\"\"\n",
    "    \"This function checks if a book with a missing format value is part of any series\n",
    "    with other books. If there is a match, it attempts to retrieve the format from the\n",
    "    other book and copy it to the original book. If there is no match or the other book\n",
    "    has no format value, the function adds 'Unknown' as the book format.\"\n",
    "    \"\"\"\n",
    "    \n",
    "    # Count the number of null values in the 'book_format' column\n",
    "    null_format = df['book_format'].isnull().sum()    \n",
    "    # If there are null values in the 'book_format' column\n",
    "    if null_format > 0:  \n",
    "        # Iterate over each row in the dataframe\n",
    "        for i, row in df.iterrows():   \n",
    "            # If the 'book_format' column for this row is null\n",
    "            if pd.isnull(row['book_format']): \n",
    "                # Check if the book is part of a series\n",
    "                if not pd.isnull(row['series']): \n",
    "                    # Look for other books in the same series\n",
    "                    matching_series = df[df['series'] == row['series']]\n",
    "                    # If there are other books in the series with a defined format\n",
    "                    if len(matching_series) > 0 and not matching_series['book_format'].isnull().all():   \n",
    "                        # Find the format of the other book in the series\n",
    "                        matching_format = matching_series['book_format'].dropna().iloc[0]\n",
    "                        # Assign the matching format to the current row\n",
    "                        df.at[i, 'book_format'] = matching_format\n",
    "                    # If there are no other books in the series with a defined format\n",
    "                    else:\n",
    "                        # Assign 'Unknown' to the current row\n",
    "                        df.at[i, 'book_format'] = 'Unknown'\n",
    "                # If the book is not part of a series\n",
    "                else:\n",
    "                    # Assign 'Unknown' to the current row\n",
    "                    df.at[i, 'book_format'] = 'Unknown'\n",
    "    \n",
    "    # Return the updated dataframe\n",
    "    return df\n"
   ]
  },
  {
   "cell_type": "code",
   "execution_count": 60,
   "id": "35a3680e",
   "metadata": {},
   "outputs": [],
   "source": [
    "# Apply function\n",
    "gr_data = find_format(gr_data)"
   ]
  },
  {
   "cell_type": "code",
   "execution_count": 61,
   "id": "8ac6dd95",
   "metadata": {},
   "outputs": [
    {
     "name": "stdout",
     "output_type": "stream",
     "text": [
      "Out of the original 1473 NaN values, 1445 books have been assigned an 'Unknown' format,\n",
      "while 28 books have been assigned the same format as other books in their series.\n"
     ]
    }
   ],
   "source": [
    "# There are 1445 books with 'Unknown format'\n",
    "unknown = len(gr_data[gr_data['book_format'] == 'Unknown'])\n",
    "\n",
    "print(\"Out of the original 1473 NaN values, \" + str(unknown) + \" books have been assigned an 'Unknown' format,\\nwhile \" \n",
    "      + str(1473 - unknown) + \" books have been assigned the same format as other books in their series.\")\n"
   ]
  },
  {
   "cell_type": "markdown",
   "id": "d0275b99",
   "metadata": {},
   "source": [
    "#### Reducing number of book formats"
   ]
  },
  {
   "cell_type": "code",
   "execution_count": 62,
   "id": "da449f9d",
   "metadata": {},
   "outputs": [
    {
     "data": {
      "text/plain": [
       "137"
      ]
     },
     "execution_count": 62,
     "metadata": {},
     "output_type": "execute_result"
    }
   ],
   "source": [
    "# Unique values\n",
    "len(gr_data['book_format'].value_counts(dropna=False))"
   ]
  },
  {
   "cell_type": "code",
   "execution_count": 63,
   "id": "d0c4d040",
   "metadata": {},
   "outputs": [
    {
     "data": {
      "text/plain": [
       "Paperback                26786\n",
       "Hardcover                12272\n",
       "Kindle Edition            5841\n",
       "Mass Market Paperback     2569\n",
       "ebook                     2548\n",
       "                         ...  \n",
       "capa mole                    1\n",
       "Box-Set                      1\n",
       "Paperback, eBook             1\n",
       "paper book                   1\n",
       "pamphlet                     1\n",
       "Name: book_format, Length: 137, dtype: int64"
      ]
     },
     "execution_count": 63,
     "metadata": {},
     "output_type": "execute_result"
    }
   ],
   "source": [
    "gr_data['book_format'].value_counts(dropna=False)"
   ]
  },
  {
   "cell_type": "code",
   "execution_count": 64,
   "id": "a3e410e8",
   "metadata": {},
   "outputs": [],
   "source": [
    "formats = {\n",
    "    \n",
    "    'Paperback' : ['Mass Market Paperback', 'Trade Paperback', 'paperback', 'Mass Market',\n",
    "                    'Perfect Paperback', 'paper', 'capa comun', 'pasta blanda', 'mass_market',\n",
    "                    'softcover', 'Trade paperback', 'Softcover', 'Pocket', 'Paper Back',\n",
    "                    'Novelty Book', 'Novel', 'Mass Market Paperback', 'Paper Back',\n",
    "                    'Bolsillo con sobrecubierta', 'Trade Paper', 'Fiction', 'paper book',\n",
    "                    'Broché','Capa Mole', 'Capa mole', 'Paperback ', 'Capa comum',\n",
    "                    'Paperback (عربي-English)','Mass Market Paperback', 'Soft cover',\n",
    "                    'Capa mole - 15,5 x 23 x 2cm','capa mole','Pasta blanda',\n",
    "                    'Mass Market Paperback ', 'Paper back', 'Rústica'],\n",
    "    \n",
    "    'Hardcover' : ['Library Binding', 'hardcover', 'Hardback', 'Taschenbuch',\n",
    "                    'Slipcased Hardcover', 'Capa dura', 'Pasta dura', 'Hard Cover',\n",
    "                    'hardback', 'Turtleback', 'Tankobon Hardcover', 'Big Book',\n",
    "                    'Hardcover Slipcased','hardbound','Hardcover Chapbook','Hardcover',\n",
    "                    'Paper Dust Jacket','Hardcover Slipcased ', 'Paperback mit Klappen',\n",
    "                    'Hardcover im Schuber','Klappenbroschur'],\n",
    "    \n",
    "    'Ebook' : ['Paperback and Kindle','Paperback, eBook','Webnovel','ebook and paperback',\n",
    "               'Interactive ebook', 'Paperback/Ebook','Kindle',\n",
    "               'Hard cover, Soft cover, e-book','Paperback, Kindle, Ebook, Audio',\n",
    "               'Digital',\"author's website\",'Online Fiction - Complete','kindle_edition',\n",
    "               'web','PDF','Paperback/Kindle','Softcover, free ebook','online fiction',\n",
    "               'Online Fiction','Webtoon','eBook Kindle','Wattpad','Online','Ebook_Online',\n",
    "               'Nook','ebook','Kindle Edition', 'Poche'],\n",
    "    \n",
    "    'Audio' : ['Audio Play','audiobook','Audio Cd','audio cassette','Audio Book','CD-ROM',\n",
    "               'MP3 CD','Audible Audio','Audio Cassette','Audiobook','Audio CD'],\n",
    "    \n",
    "    'Boxset' : ['Hardcover Boxed Set','Box-Set', 'Book Set', 'Box Set','Boxed Set'],\n",
    "    \n",
    "    'Graphic Novel and Comic' : ['Comics', 'Digital Comic','webtoon','Graphic Novels',\n",
    "                                   'Comic'],\n",
    "    \n",
    "    'Boardbook' : ['Board book', 'Board', 'Board Book'],\n",
    "    \n",
    "    'Special Edition' : ['Leather Bound','cloth','Broschiert','Bonded Leather','Gebunden',\n",
    "                         'revised edition','Gebundene Ausgabe'],\n",
    "    \n",
    "    'Other formats': ['Spiral-bound', 'Unbound', 'Podiobook', 'Kovakantinen', '文庫',\n",
    "                      'School & Library Binding', 'Brochura', 'Bìa mềm', 'گالینگور-وزیری',\n",
    "                      'Bantam New Fiction', 'Casebound', 'Other Format', 'Pamphlet', '単行本',\n",
    "                      'Science Fiction Book Club Omnibus', 'Diary', 'Innbundet',\n",
    "                      'Newsletter Serial', 'Album', 'text', 'islamy',\n",
    "                      'Hardcover, Paper Dust Jacket', 'コミック', '軟精裝', 'Newsprint',\n",
    "                      'pamphlet'],\n",
    "    \n",
    "    'Unknown' : ['Unknown Binding']\n",
    "\n",
    "}"
   ]
  },
  {
   "cell_type": "code",
   "execution_count": 65,
   "id": "f5de94cf",
   "metadata": {},
   "outputs": [
    {
     "name": "stdout",
     "output_type": "stream",
     "text": [
      "Paperback                  29506\n",
      "Hardcover                  12361\n",
      "Ebook                       8566\n",
      "Unknown                     1545\n",
      "Audio                        348\n",
      "Boardbook                     38\n",
      "Other formats                 37\n",
      "Special Edition               32\n",
      "Graphic Novel and Comic       29\n",
      "Boxset                        16\n",
      "Name: standardized_format, dtype: int64\n"
     ]
    }
   ],
   "source": [
    "# Create a new column to store the standardized format names\n",
    "gr_data['standardized_format'] = gr_data['book_format']\n",
    "\n",
    "# Loop through each row in the 'standardized_format' column of the 'gr_data' dataframe\n",
    "for index, row in gr_data.iterrows():\n",
    "    # Check if the current value in the 'standardized_format' column is not 'Unknown' and is not one of the pre-defined keys in the 'formats' dictionary\n",
    "    if row['standardized_format'] not in formats.keys() and row['standardized_format'] != 'Unknown':\n",
    "        # Loop through each key in the 'formats' dictionary\n",
    "        for key in formats.keys():\n",
    "            # If the current value in the 'standardized_format' column is one of the values for the current key in the 'formats' dictionary\n",
    "            if row['standardized_format'] in formats[key]:\n",
    "                # Replace the value in the 'standardized_format' column with the current key\n",
    "                gr_data.at[index, 'standardized_format'] = key\n",
    "                # Break the loop to move on to the next row\n",
    "                break\n",
    "\n",
    "# Count the number of books in each standardized format\n",
    "format_counts = gr_data['standardized_format'].value_counts()\n",
    "\n",
    "# Print the format counts\n",
    "print(format_counts)"
   ]
  },
  {
   "cell_type": "code",
   "execution_count": 66,
   "id": "b8a7efeb",
   "metadata": {},
   "outputs": [],
   "source": [
    "# Drop original 'book format' column and replace it for the new standardized_format\n",
    "gr_data.drop(columns=['book_format'], inplace=True)\n",
    "\n",
    "# Rename the standardized column to the original name\n",
    "gr_data.rename(columns={'standardized_format': 'book_format'}, inplace=True)\n"
   ]
  },
  {
   "cell_type": "code",
   "execution_count": 67,
   "id": "76145a16",
   "metadata": {},
   "outputs": [
    {
     "data": {
      "text/plain": [
       "10"
      ]
     },
     "execution_count": 67,
     "metadata": {},
     "output_type": "execute_result"
    }
   ],
   "source": [
    "# Unique value formats: from 137 to 10\n",
    "len(gr_data['book_format'].value_counts(dropna=False))"
   ]
  },
  {
   "cell_type": "code",
   "execution_count": 68,
   "id": "64f01473",
   "metadata": {},
   "outputs": [
    {
     "data": {
      "text/plain": [
       "Index(['title', 'series', 'author', 'rating', 'description', 'language',\n",
       "       'isbn', 'genres', 'edition', 'pages', 'publisher', 'publish_date',\n",
       "       'first_publish_date', 'awards', 'num_ratings', 'liked_perc', 'setting',\n",
       "       'bbe_score', 'bbe_votes', 'price', '5_stars_num_ratings',\n",
       "       '4_stars_num_ratings', '3_stars_num_ratings', '2_stars_num_ratings',\n",
       "       '1_star_num_ratings', 'book_format'],\n",
       "      dtype='object')"
      ]
     },
     "execution_count": 68,
     "metadata": {},
     "output_type": "execute_result"
    }
   ],
   "source": [
    "gr_data.columns"
   ]
  },
  {
   "cell_type": "markdown",
   "id": "0f100852",
   "metadata": {},
   "source": [
    "### Edition"
   ]
  },
  {
   "cell_type": "code",
   "execution_count": 69,
   "id": "b1390b74",
   "metadata": {},
   "outputs": [
    {
     "data": {
      "text/html": [
       "<div>\n",
       "<style scoped>\n",
       "    .dataframe tbody tr th:only-of-type {\n",
       "        vertical-align: middle;\n",
       "    }\n",
       "\n",
       "    .dataframe tbody tr th {\n",
       "        vertical-align: top;\n",
       "    }\n",
       "\n",
       "    .dataframe thead th {\n",
       "        text-align: right;\n",
       "    }\n",
       "</style>\n",
       "<table border=\"1\" class=\"dataframe\">\n",
       "  <thead>\n",
       "    <tr style=\"text-align: right;\">\n",
       "      <th></th>\n",
       "      <th>title</th>\n",
       "      <th>series</th>\n",
       "      <th>author</th>\n",
       "      <th>rating</th>\n",
       "      <th>description</th>\n",
       "      <th>language</th>\n",
       "      <th>isbn</th>\n",
       "      <th>genres</th>\n",
       "      <th>edition</th>\n",
       "      <th>pages</th>\n",
       "      <th>publisher</th>\n",
       "      <th>publish_date</th>\n",
       "      <th>first_publish_date</th>\n",
       "      <th>awards</th>\n",
       "      <th>num_ratings</th>\n",
       "      <th>liked_perc</th>\n",
       "      <th>setting</th>\n",
       "      <th>bbe_score</th>\n",
       "      <th>bbe_votes</th>\n",
       "      <th>price</th>\n",
       "      <th>5_stars_num_ratings</th>\n",
       "      <th>4_stars_num_ratings</th>\n",
       "      <th>3_stars_num_ratings</th>\n",
       "      <th>2_stars_num_ratings</th>\n",
       "      <th>1_star_num_ratings</th>\n",
       "      <th>book_format</th>\n",
       "    </tr>\n",
       "  </thead>\n",
       "  <tbody>\n",
       "    <tr>\n",
       "      <th>52475</th>\n",
       "      <td>Marked</td>\n",
       "      <td>Soul Guardians #1</td>\n",
       "      <td>Kim Richardson</td>\n",
       "      <td>3.70</td>\n",
       "      <td>--READERS FAVORITE AWARDS WINNER 2011--Sixteen...</td>\n",
       "      <td>English</td>\n",
       "      <td>9.78146E+12</td>\n",
       "      <td>['Fantasy', 'Young Adult', 'Paranormal', 'Ange...</td>\n",
       "      <td>NaN</td>\n",
       "      <td>280.0</td>\n",
       "      <td>CreateSpace</td>\n",
       "      <td>March 18th 2011</td>\n",
       "      <td>March 15th 2011</td>\n",
       "      <td>[\"Readers' Favorite Book Award (2011)\"]</td>\n",
       "      <td>6674</td>\n",
       "      <td>84.0</td>\n",
       "      <td>[]</td>\n",
       "      <td>0</td>\n",
       "      <td>1</td>\n",
       "      <td>7.37</td>\n",
       "      <td>2109</td>\n",
       "      <td>1868</td>\n",
       "      <td>1660</td>\n",
       "      <td>647</td>\n",
       "      <td>390</td>\n",
       "      <td>Paperback</td>\n",
       "    </tr>\n",
       "    <tr>\n",
       "      <th>52476</th>\n",
       "      <td>Wayward Son</td>\n",
       "      <td>NaN</td>\n",
       "      <td>Tom Pollack</td>\n",
       "      <td>3.85</td>\n",
       "      <td>A POWERFUL TREMOR UNEARTHS AN ANCIENT SECRETBu...</td>\n",
       "      <td>English</td>\n",
       "      <td>9.78145E+12</td>\n",
       "      <td>['Fiction', 'Mystery', 'Historical Fiction', '...</td>\n",
       "      <td>1st edition</td>\n",
       "      <td>507.0</td>\n",
       "      <td>Cascada Productions</td>\n",
       "      <td>September 1st 2011</td>\n",
       "      <td>April 5th 2011</td>\n",
       "      <td>[]</td>\n",
       "      <td>238</td>\n",
       "      <td>90.0</td>\n",
       "      <td>[]</td>\n",
       "      <td>0</td>\n",
       "      <td>1</td>\n",
       "      <td>2.86</td>\n",
       "      <td>77</td>\n",
       "      <td>78</td>\n",
       "      <td>59</td>\n",
       "      <td>19</td>\n",
       "      <td>5</td>\n",
       "      <td>Paperback</td>\n",
       "    </tr>\n",
       "    <tr>\n",
       "      <th>52477</th>\n",
       "      <td>Daughter of Helaman</td>\n",
       "      <td>Stripling Warrior #1</td>\n",
       "      <td>Misty Moncur</td>\n",
       "      <td>4.02</td>\n",
       "      <td>Fighting in Helaman's army is Keturah's deepes...</td>\n",
       "      <td>English</td>\n",
       "      <td>9.7816E+12</td>\n",
       "      <td>['Lds Fiction', 'Historical Fiction', 'Young A...</td>\n",
       "      <td>NaN</td>\n",
       "      <td>201.0</td>\n",
       "      <td>Bonneville</td>\n",
       "      <td>May 8th 2011</td>\n",
       "      <td>NaN</td>\n",
       "      <td>[]</td>\n",
       "      <td>246</td>\n",
       "      <td>90.0</td>\n",
       "      <td>[]</td>\n",
       "      <td>0</td>\n",
       "      <td>1</td>\n",
       "      <td>5.20</td>\n",
       "      <td>106</td>\n",
       "      <td>73</td>\n",
       "      <td>42</td>\n",
       "      <td>17</td>\n",
       "      <td>8</td>\n",
       "      <td>Paperback</td>\n",
       "    </tr>\n",
       "  </tbody>\n",
       "</table>\n",
       "</div>"
      ],
      "text/plain": [
       "                     title                series          author  rating  \\\n",
       "52475               Marked     Soul Guardians #1  Kim Richardson    3.70   \n",
       "52476          Wayward Son                   NaN     Tom Pollack    3.85   \n",
       "52477  Daughter of Helaman  Stripling Warrior #1    Misty Moncur    4.02   \n",
       "\n",
       "                                             description language  \\\n",
       "52475  --READERS FAVORITE AWARDS WINNER 2011--Sixteen...  English   \n",
       "52476  A POWERFUL TREMOR UNEARTHS AN ANCIENT SECRETBu...  English   \n",
       "52477  Fighting in Helaman's army is Keturah's deepes...  English   \n",
       "\n",
       "              isbn                                             genres  \\\n",
       "52475  9.78146E+12  ['Fantasy', 'Young Adult', 'Paranormal', 'Ange...   \n",
       "52476  9.78145E+12  ['Fiction', 'Mystery', 'Historical Fiction', '...   \n",
       "52477   9.7816E+12  ['Lds Fiction', 'Historical Fiction', 'Young A...   \n",
       "\n",
       "           edition  pages            publisher        publish_date  \\\n",
       "52475          NaN  280.0          CreateSpace     March 18th 2011   \n",
       "52476  1st edition  507.0  Cascada Productions  September 1st 2011   \n",
       "52477          NaN  201.0           Bonneville        May 8th 2011   \n",
       "\n",
       "      first_publish_date                                   awards  \\\n",
       "52475    March 15th 2011  [\"Readers' Favorite Book Award (2011)\"]   \n",
       "52476     April 5th 2011                                       []   \n",
       "52477                NaN                                       []   \n",
       "\n",
       "       num_ratings  liked_perc setting  bbe_score  bbe_votes  price  \\\n",
       "52475         6674        84.0      []          0          1   7.37   \n",
       "52476          238        90.0      []          0          1   2.86   \n",
       "52477          246        90.0      []          0          1   5.20   \n",
       "\n",
       "       5_stars_num_ratings  4_stars_num_ratings  3_stars_num_ratings  \\\n",
       "52475                 2109                 1868                 1660   \n",
       "52476                   77                   78                   59   \n",
       "52477                  106                   73                   42   \n",
       "\n",
       "       2_stars_num_ratings  1_star_num_ratings book_format  \n",
       "52475                  647                 390   Paperback  \n",
       "52476                   19                   5   Paperback  \n",
       "52477                   17                   8   Paperback  "
      ]
     },
     "execution_count": 69,
     "metadata": {},
     "output_type": "execute_result"
    }
   ],
   "source": [
    "gr_data.tail(3)"
   ]
  },
  {
   "cell_type": "code",
   "execution_count": 70,
   "id": "176452be",
   "metadata": {},
   "outputs": [
    {
     "data": {
      "text/plain": [
       "1781"
      ]
     },
     "execution_count": 70,
     "metadata": {},
     "output_type": "execute_result"
    }
   ],
   "source": [
    "# Unique values\n",
    "gr_data['edition'].nunique()"
   ]
  },
  {
   "cell_type": "code",
   "execution_count": 71,
   "id": "34e1e500",
   "metadata": {},
   "outputs": [
    {
     "data": {
      "text/plain": [
       "47523"
      ]
     },
     "execution_count": 71,
     "metadata": {},
     "output_type": "execute_result"
    }
   ],
   "source": [
    "# NaN Value\n",
    "gr_data['edition'].isnull().sum()"
   ]
  },
  {
   "cell_type": "code",
   "execution_count": 72,
   "id": "13f5b322",
   "metadata": {},
   "outputs": [
    {
     "name": "stdout",
     "output_type": "stream",
     "text": [
      "Out of 52478 rows, there are 47523 rows with NaN values for 'edition', which represents 90.56% of the total.\n"
     ]
    }
   ],
   "source": [
    "null = gr_data['edition'].isnull().sum()\n",
    "\n",
    "print(\"Out of 52478 rows, there are \" + str(null) + \" rows with NaN values for 'edition', which represents \" \n",
    "      + str(round(null/len(gr_data)*100, 2)) + \"% of the total.\")\n"
   ]
  },
  {
   "cell_type": "markdown",
   "id": "8b0000b3",
   "metadata": {},
   "source": [
    "Since the 'edition' column contains a significant number of NaN values (90% of rows), I have decided to remove it from the dataset."
   ]
  },
  {
   "cell_type": "code",
   "execution_count": 73,
   "id": "827836bc",
   "metadata": {},
   "outputs": [],
   "source": [
    "# Remove column\n",
    "gr_data = gr_data.drop(['edition'], axis = 1)"
   ]
  },
  {
   "cell_type": "markdown",
   "id": "2e4256a3",
   "metadata": {},
   "source": [
    "### Publisher"
   ]
  },
  {
   "cell_type": "code",
   "execution_count": 74,
   "id": "aabc6678",
   "metadata": {},
   "outputs": [
    {
     "data": {
      "text/plain": [
       "Vintage               572\n",
       "HarperCollins         563\n",
       "Penguin Books         430\n",
       "Ballantine Books      399\n",
       "Bantam                369\n",
       "                     ... \n",
       "Bang Ediciones          1\n",
       "Book Sales              1\n",
       "Dakota Press            1\n",
       "Tannbourne Limited      1\n",
       "Bonneville              1\n",
       "Name: publisher, Length: 11109, dtype: int64"
      ]
     },
     "execution_count": 74,
     "metadata": {},
     "output_type": "execute_result"
    }
   ],
   "source": [
    "# Unique Publishers\n",
    "gr_data['publisher'].value_counts()"
   ]
  },
  {
   "cell_type": "code",
   "execution_count": 75,
   "id": "b1977e3e",
   "metadata": {},
   "outputs": [
    {
     "data": {
      "text/plain": [
       "3696"
      ]
     },
     "execution_count": 75,
     "metadata": {},
     "output_type": "execute_result"
    }
   ],
   "source": [
    "# NaN\n",
    "gr_data['publisher'].isna().sum()"
   ]
  },
  {
   "cell_type": "code",
   "execution_count": 76,
   "id": "076a677d",
   "metadata": {},
   "outputs": [],
   "source": [
    "# Replace NaN for 'Unknown'\n",
    "gr_data['publisher'] = gr_data['publisher'].fillna('Unknown')"
   ]
  },
  {
   "cell_type": "code",
   "execution_count": 77,
   "id": "c478bcb3",
   "metadata": {},
   "outputs": [
    {
     "name": "stdout",
     "output_type": "stream",
     "text": [
      "Number of publishers with value \"Unknown\": 3696\n"
     ]
    }
   ],
   "source": [
    "unknown_publishers_count = (gr_data['publisher'] == 'Unknown').sum()\n",
    "print('Number of publishers with value \"Unknown\":', unknown_publishers_count)"
   ]
  },
  {
   "cell_type": "code",
   "execution_count": 78,
   "id": "ede6395c",
   "metadata": {},
   "outputs": [
    {
     "data": {
      "text/plain": [
       "Unknown               3696\n",
       "Vintage                572\n",
       "HarperCollins          563\n",
       "Penguin Books          430\n",
       "Ballantine Books       399\n",
       "                      ... \n",
       "Bang Ediciones           1\n",
       "Book Sales               1\n",
       "Dakota Press             1\n",
       "Tannbourne Limited       1\n",
       "Bonneville               1\n",
       "Name: publisher, Length: 11110, dtype: int64"
      ]
     },
     "execution_count": 78,
     "metadata": {},
     "output_type": "execute_result"
    }
   ],
   "source": [
    "# Unique Publishers\n",
    "gr_data['publisher'].value_counts()"
   ]
  },
  {
   "cell_type": "code",
   "execution_count": 79,
   "id": "3adafa05",
   "metadata": {},
   "outputs": [],
   "source": [
    "# Stablish new bins for publishers"
   ]
  },
  {
   "cell_type": "code",
   "execution_count": 80,
   "id": "2e08c1dc",
   "metadata": {},
   "outputs": [
    {
     "data": {
      "image/png": "[encoded data removed]",
      "text/plain": [
       "<Figure size 1200x600 with 2 Axes>"
      ]
     },
     "metadata": {},
     "output_type": "display_data"
    }
   ],
   "source": [
    "import matplotlib.pyplot as plt\n",
    "\n",
    "# Filter out publishers with counts of 49 and 'Unknown' (just to visualize it better)\n",
    "publisher_data = gr_data['publisher'].value_counts()\n",
    "publisher_counts = publisher_data[(publisher_data.index != 'Unknown') & (publisher_data.values > 50)]\n",
    "\n",
    "# Create figure with two subplots side-by-side\n",
    "fig, axs = plt.subplots(ncols=2, figsize=(12,6))\n",
    "\n",
    "# Create histogram on the left subplot\n",
    "axs[0].hist(publisher_counts, bins=50)\n",
    "axs[0].set_xlabel('Publisher Count')\n",
    "axs[0].set_ylabel('Frequency')\n",
    "axs[0].set_title(f'Distribution of Publisher Counts\\n(excluding \"Unknown\" and publishers with counts less than 50)')\n",
    "\n",
    "# Create box plot on the right subplot\n",
    "axs[1].boxplot(publisher_counts)\n",
    "axs[1].set_xlabel('Publisher Count')\n",
    "axs[1].set_title(f'Distribution of Publisher Counts\\n(excluding \"Unknown\" and publishers with counts less than 50)')\n",
    "\n",
    "# Display the figure\n",
    "plt.show()\n"
   ]
  },
  {
   "cell_type": "code",
   "execution_count": 81,
   "id": "0d995065",
   "metadata": {},
   "outputs": [
    {
     "data": {
      "text/plain": [
       "'Filtered data: '"
      ]
     },
     "metadata": {},
     "output_type": "display_data"
    },
    {
     "data": {
      "text/plain": [
       "count    157.000000\n",
       "mean     125.452229\n",
       "std       90.592738\n",
       "min       51.000000\n",
       "25%       66.000000\n",
       "50%       93.000000\n",
       "75%      149.000000\n",
       "max      572.000000\n",
       "Name: publisher, dtype: float64"
      ]
     },
     "metadata": {},
     "output_type": "display_data"
    },
    {
     "data": {
      "text/plain": [
       "'Actual data: '"
      ]
     },
     "metadata": {},
     "output_type": "display_data"
    },
    {
     "data": {
      "text/plain": [
       "count    11110.000000\n",
       "mean         4.723492\n",
       "std         39.691878\n",
       "min          1.000000\n",
       "25%          1.000000\n",
       "50%          1.000000\n",
       "75%          2.000000\n",
       "max       3696.000000\n",
       "Name: publisher, dtype: float64"
      ]
     },
     "metadata": {},
     "output_type": "display_data"
    }
   ],
   "source": [
    "# Information of filtered published data\n",
    "display(\"Filtered data: \", publisher_counts.describe(),\"Actual data: \", publisher_data.describe())"
   ]
  },
  {
   "cell_type": "code",
   "execution_count": 82,
   "id": "5eb09565",
   "metadata": {},
   "outputs": [],
   "source": [
    "# Calculate percentiles\n",
    "pct_25 = np.percentile(publisher_counts, 25)\n",
    "pct_50 = np.percentile(publisher_counts, 50)\n",
    "pct_75 = np.percentile(publisher_counts, 75)"
   ]
  },
  {
   "cell_type": "code",
   "execution_count": 83,
   "id": "6f9ee867",
   "metadata": {},
   "outputs": [
    {
     "name": "stdout",
     "output_type": "stream",
     "text": [
      "Unique publishers for 25th percentile: 117\n",
      "Unique publishers for 50th percentile: 78\n",
      "Unique publishers for 75th percentile: 40\n"
     ]
    }
   ],
   "source": [
    "# Count the number of unique publishers for each percentile criterion\n",
    "unique_publishers_25 = len(gr_data['publisher'].value_counts()[gr_data['publisher'].value_counts() > pct_25])\n",
    "unique_publishers_50 = len(gr_data['publisher'].value_counts()[gr_data['publisher'].value_counts() > pct_50])\n",
    "unique_publishers_75 = len(gr_data['publisher'].value_counts()[gr_data['publisher'].value_counts() > pct_75])\n",
    "\n",
    "print(f\"Unique publishers for 25th percentile: {unique_publishers_25}\")\n",
    "print(f\"Unique publishers for 50th percentile: {unique_publishers_50}\")\n",
    "print(f\"Unique publishers for 75th percentile: {unique_publishers_75}\")\n"
   ]
  },
  {
   "cell_type": "markdown",
   "id": "2bea594a",
   "metadata": {},
   "source": [
    "As in the original dataset 75% of publishers holds 2 or less counts of books, I've decided to bin all them in a new group."
   ]
  },
  {
   "cell_type": "code",
   "execution_count": 84,
   "id": "b552fcaf",
   "metadata": {},
   "outputs": [],
   "source": [
    "# Group publishers with count less than pct_75 into \"Other Publishers\"\n",
    "#gr_data.loc[gr_data['publisher'] < pct_75, 'publisher'] = 'Other Publishers'\n",
    "gr_data.loc[gr_data['publisher'].isin(publisher_counts.index[publisher_counts.values < pct_75]) | (publisher_counts == 1), 'publisher'] = 'Other Publishers'\n"
   ]
  },
  {
   "cell_type": "code",
   "execution_count": 85,
   "id": "d4a43a75",
   "metadata": {},
   "outputs": [
    {
     "data": {
      "text/plain": [
       "Other Publishers                             9870\n",
       "Unknown                                      3696\n",
       "Vintage                                       572\n",
       "HarperCollins                                 563\n",
       "Penguin Books                                 430\n",
       "                                             ... \n",
       "Council Oak Books                               1\n",
       "Chicken House / Scholastic                      1\n",
       "Applause Theatre & Cinema Book Publishers       1\n",
       "Ahsyad Publications                             1\n",
       "Bonneville                                      1\n",
       "Name: publisher, Length: 10994, dtype: int64"
      ]
     },
     "execution_count": 85,
     "metadata": {},
     "output_type": "execute_result"
    }
   ],
   "source": [
    "# New unique Publishers\n",
    "gr_data['publisher'].value_counts()"
   ]
  },
  {
   "cell_type": "code",
   "execution_count": 86,
   "id": "b55af083",
   "metadata": {},
   "outputs": [
    {
     "data": {
      "text/plain": [
       "10994"
      ]
     },
     "execution_count": 86,
     "metadata": {},
     "output_type": "execute_result"
    }
   ],
   "source": [
    "gr_data['publisher'].nunique()"
   ]
  },
  {
   "cell_type": "markdown",
   "id": "715c8c45",
   "metadata": {},
   "source": [
    "### Publish Date and First Publish Date"
   ]
  },
  {
   "cell_type": "code",
   "execution_count": 87,
   "id": "8b931b67",
   "metadata": {},
   "outputs": [
    {
     "data": {
      "text/html": [
       "<div>\n",
       "<style scoped>\n",
       "    .dataframe tbody tr th:only-of-type {\n",
       "        vertical-align: middle;\n",
       "    }\n",
       "\n",
       "    .dataframe tbody tr th {\n",
       "        vertical-align: top;\n",
       "    }\n",
       "\n",
       "    .dataframe thead th {\n",
       "        text-align: right;\n",
       "    }\n",
       "</style>\n",
       "<table border=\"1\" class=\"dataframe\">\n",
       "  <thead>\n",
       "    <tr style=\"text-align: right;\">\n",
       "      <th></th>\n",
       "      <th>publish_date</th>\n",
       "      <th>first_publish_date</th>\n",
       "    </tr>\n",
       "  </thead>\n",
       "  <tbody>\n",
       "    <tr>\n",
       "      <th>0</th>\n",
       "      <td>09/14/08</td>\n",
       "      <td>NaN</td>\n",
       "    </tr>\n",
       "    <tr>\n",
       "      <th>1</th>\n",
       "      <td>09/28/04</td>\n",
       "      <td>06/21/03</td>\n",
       "    </tr>\n",
       "    <tr>\n",
       "      <th>2</th>\n",
       "      <td>05/23/06</td>\n",
       "      <td>07-11-1960</td>\n",
       "    </tr>\n",
       "    <tr>\n",
       "      <th>3</th>\n",
       "      <td>10-10-2000</td>\n",
       "      <td>01/28/13</td>\n",
       "    </tr>\n",
       "    <tr>\n",
       "      <th>4</th>\n",
       "      <td>09-06-2006</td>\n",
       "      <td>10-05-2005</td>\n",
       "    </tr>\n",
       "    <tr>\n",
       "      <th>...</th>\n",
       "      <td>...</td>\n",
       "      <td>...</td>\n",
       "    </tr>\n",
       "    <tr>\n",
       "      <th>52473</th>\n",
       "      <td>May 28th 2011</td>\n",
       "      <td>NaN</td>\n",
       "    </tr>\n",
       "    <tr>\n",
       "      <th>52474</th>\n",
       "      <td>August 5th 2011</td>\n",
       "      <td>August 3rd 2011</td>\n",
       "    </tr>\n",
       "    <tr>\n",
       "      <th>52475</th>\n",
       "      <td>March 18th 2011</td>\n",
       "      <td>March 15th 2011</td>\n",
       "    </tr>\n",
       "    <tr>\n",
       "      <th>52476</th>\n",
       "      <td>September 1st 2011</td>\n",
       "      <td>April 5th 2011</td>\n",
       "    </tr>\n",
       "    <tr>\n",
       "      <th>52477</th>\n",
       "      <td>May 8th 2011</td>\n",
       "      <td>NaN</td>\n",
       "    </tr>\n",
       "  </tbody>\n",
       "</table>\n",
       "<p>52478 rows × 2 columns</p>\n",
       "</div>"
      ],
      "text/plain": [
       "             publish_date first_publish_date\n",
       "0                09/14/08                NaN\n",
       "1                09/28/04           06/21/03\n",
       "2                05/23/06         07-11-1960\n",
       "3              10-10-2000           01/28/13\n",
       "4              09-06-2006         10-05-2005\n",
       "...                   ...                ...\n",
       "52473       May 28th 2011                NaN\n",
       "52474     August 5th 2011    August 3rd 2011\n",
       "52475     March 18th 2011    March 15th 2011\n",
       "52476  September 1st 2011     April 5th 2011\n",
       "52477        May 8th 2011                NaN\n",
       "\n",
       "[52478 rows x 2 columns]"
      ]
     },
     "execution_count": 87,
     "metadata": {},
     "output_type": "execute_result"
    }
   ],
   "source": [
    "gr_data[['publish_date','first_publish_date']]"
   ]
  },
  {
   "cell_type": "code",
   "execution_count": 88,
   "id": "dd6e3035",
   "metadata": {},
   "outputs": [
    {
     "data": {
      "text/plain": [
       "880"
      ]
     },
     "execution_count": 88,
     "metadata": {},
     "output_type": "execute_result"
    }
   ],
   "source": [
    "gr_data['publish_date'].isna().sum()"
   ]
  },
  {
   "cell_type": "code",
   "execution_count": 89,
   "id": "a1c9a990",
   "metadata": {},
   "outputs": [],
   "source": [
    "dates = gr_data.copy()"
   ]
  },
  {
   "cell_type": "code",
   "execution_count": 90,
   "id": "020a928c",
   "metadata": {},
   "outputs": [],
   "source": [
    "# Extracting year from rows\n",
    "\n",
    "def extract_year(date_str):\n",
    "    if pd.isna(date_str):\n",
    "        return np.nan\n",
    "    else:\n",
    "        # Clean up the date string\n",
    "        date_str = date_str.replace('-', '/')\n",
    "        date_str = date_str.replace('.', '')\n",
    "        date_str = date_str.replace('th', '')\n",
    "        \n",
    "        for fmt in (\"%m/%d/%y\", \"%m/%d/%Y\", \"%m-%d-%y\", \"%m-%d-%Y\", \"%B %d %Y\", \"%B %dth %Y\",\n",
    "                    \"%B %dst %Y\", \"%B %dnd %Y\", \"%B %drd %Y\", \"%b %d %Y\", \"%b %dth %Y\",\n",
    "                    \"%b %dst %Y\", \"%b %dnd %Y\", \"%b %drd %Y\", \"%d-%m-%y\", \"%d-%m-%Y\",\n",
    "                    \"%d/%m/%y\", \"%d/%m/%Y\", \"%m.%d.%Y\", \"%m.%d.%y\", \"%Y/%m/%d\", \"%Y-%m-%d\",\n",
    "                    \"%Y/%m/%d %H:%M:%S\", \"%Y/%m/%d %H:%M\", \"%Y/%m/%d %I:%M:%S %p\",\n",
    "                    \"%Y/%m/%d %I:%M %p\", \"%Y.%m.%d\", \"%Y-%m-%d %H:%M:%S\",\n",
    "                    \"%Y-%m-%d %H:%M:%S.%f\", \"%Y-%m-%d %H:%M\", \"%Y-%m-%d %I:%M:%S %p\",\n",
    "                    \"%Y-%m-%d %I:%M %p\", \"%Y.%m.%d %H:%M:%S\", \"%Y.%m.%d %H:%M\",\n",
    "                    \"%Y.%m.%d %I:%M:%S %p\", \"%Y.%m.%d %I:%M %p\"):\n",
    "            try:\n",
    "                dt = pd.to_datetime(date_str, format=fmt)\n",
    "                return dt.year\n",
    "            except ValueError:\n",
    "                pass\n",
    "        return np.nan\n"
   ]
  },
  {
   "cell_type": "code",
   "execution_count": 91,
   "id": "eb374740",
   "metadata": {},
   "outputs": [],
   "source": [
    "# Apply the function to the columns 'publish_date' and 'first_publish_date'\n",
    "dates['publish_year'] = dates['publish_date'].apply(extract_year)\n",
    "dates['first_publish_year'] = dates['first_publish_date'].apply(extract_year)"
   ]
  },
  {
   "cell_type": "code",
   "execution_count": 92,
   "id": "53153002",
   "metadata": {},
   "outputs": [],
   "source": [
    "# If one of the columns has NaN, copy the value from the other column\n",
    "dates['publish_year'].fillna(dates['first_publish_year'], inplace=True)\n",
    "dates['first_publish_year'].fillna(dates['publish_year'], inplace=True)"
   ]
  },
  {
   "cell_type": "code",
   "execution_count": 93,
   "id": "7bfd8b9d",
   "metadata": {},
   "outputs": [],
   "source": [
    "# Drop the original columns\n",
    "dates.drop(['publish_date', 'first_publish_date'], axis=1, inplace=True)"
   ]
  },
  {
   "cell_type": "code",
   "execution_count": 94,
   "id": "0528083e",
   "metadata": {},
   "outputs": [
    {
     "data": {
      "text/html": [
       "<div>\n",
       "<style scoped>\n",
       "    .dataframe tbody tr th:only-of-type {\n",
       "        vertical-align: middle;\n",
       "    }\n",
       "\n",
       "    .dataframe tbody tr th {\n",
       "        vertical-align: top;\n",
       "    }\n",
       "\n",
       "    .dataframe thead th {\n",
       "        text-align: right;\n",
       "    }\n",
       "</style>\n",
       "<table border=\"1\" class=\"dataframe\">\n",
       "  <thead>\n",
       "    <tr style=\"text-align: right;\">\n",
       "      <th></th>\n",
       "      <th>publish_year</th>\n",
       "      <th>first_publish_year</th>\n",
       "    </tr>\n",
       "  </thead>\n",
       "  <tbody>\n",
       "    <tr>\n",
       "      <th>0</th>\n",
       "      <td>2008.0</td>\n",
       "      <td>2008.0</td>\n",
       "    </tr>\n",
       "    <tr>\n",
       "      <th>1</th>\n",
       "      <td>2004.0</td>\n",
       "      <td>2003.0</td>\n",
       "    </tr>\n",
       "    <tr>\n",
       "      <th>2</th>\n",
       "      <td>2006.0</td>\n",
       "      <td>1960.0</td>\n",
       "    </tr>\n",
       "    <tr>\n",
       "      <th>3</th>\n",
       "      <td>2000.0</td>\n",
       "      <td>2013.0</td>\n",
       "    </tr>\n",
       "    <tr>\n",
       "      <th>4</th>\n",
       "      <td>2006.0</td>\n",
       "      <td>2005.0</td>\n",
       "    </tr>\n",
       "    <tr>\n",
       "      <th>...</th>\n",
       "      <td>...</td>\n",
       "      <td>...</td>\n",
       "    </tr>\n",
       "    <tr>\n",
       "      <th>52473</th>\n",
       "      <td>2011.0</td>\n",
       "      <td>2011.0</td>\n",
       "    </tr>\n",
       "    <tr>\n",
       "      <th>52474</th>\n",
       "      <td>2011.0</td>\n",
       "      <td>2011.0</td>\n",
       "    </tr>\n",
       "    <tr>\n",
       "      <th>52475</th>\n",
       "      <td>2011.0</td>\n",
       "      <td>2011.0</td>\n",
       "    </tr>\n",
       "    <tr>\n",
       "      <th>52476</th>\n",
       "      <td>2011.0</td>\n",
       "      <td>2011.0</td>\n",
       "    </tr>\n",
       "    <tr>\n",
       "      <th>52477</th>\n",
       "      <td>2011.0</td>\n",
       "      <td>2011.0</td>\n",
       "    </tr>\n",
       "  </tbody>\n",
       "</table>\n",
       "<p>52478 rows × 2 columns</p>\n",
       "</div>"
      ],
      "text/plain": [
       "       publish_year  first_publish_year\n",
       "0            2008.0              2008.0\n",
       "1            2004.0              2003.0\n",
       "2            2006.0              1960.0\n",
       "3            2000.0              2013.0\n",
       "4            2006.0              2005.0\n",
       "...             ...                 ...\n",
       "52473        2011.0              2011.0\n",
       "52474        2011.0              2011.0\n",
       "52475        2011.0              2011.0\n",
       "52476        2011.0              2011.0\n",
       "52477        2011.0              2011.0\n",
       "\n",
       "[52478 rows x 2 columns]"
      ]
     },
     "execution_count": 94,
     "metadata": {},
     "output_type": "execute_result"
    }
   ],
   "source": [
    "# Checking results\n",
    "dates[['publish_year','first_publish_year']]"
   ]
  },
  {
   "cell_type": "code",
   "execution_count": 95,
   "id": "f810a8aa",
   "metadata": {},
   "outputs": [],
   "source": [
    "# If one of the columns has NaN, copy the value from the other column\n",
    "mask = dates['publish_year'].isnull() | dates['first_publish_year'].isnull()\n",
    "dates.loc[mask, 'publish_year'] = dates['publish_year'].fillna(dates['first_publish_year'])\n",
    "dates.loc[mask, 'first_publish_year'] = dates['first_publish_year'].fillna(dates['publish_year'])\n",
    "\n",
    "# Replace the remaining NaN values with 0\n",
    "dates.fillna(0, inplace=True)\n",
    "\n",
    "# Convert the year columns to integers\n",
    "dates['publish_year'] = dates['publish_year'].astype(int)\n",
    "dates['first_publish_year'] = dates['first_publish_year'].astype(int)"
   ]
  },
  {
   "cell_type": "code",
   "execution_count": 96,
   "id": "6655f34b",
   "metadata": {},
   "outputs": [
    {
     "data": {
      "text/html": [
       "<div>\n",
       "<style scoped>\n",
       "    .dataframe tbody tr th:only-of-type {\n",
       "        vertical-align: middle;\n",
       "    }\n",
       "\n",
       "    .dataframe tbody tr th {\n",
       "        vertical-align: top;\n",
       "    }\n",
       "\n",
       "    .dataframe thead th {\n",
       "        text-align: right;\n",
       "    }\n",
       "</style>\n",
       "<table border=\"1\" class=\"dataframe\">\n",
       "  <thead>\n",
       "    <tr style=\"text-align: right;\">\n",
       "      <th></th>\n",
       "      <th>publish_year</th>\n",
       "      <th>first_publish_year</th>\n",
       "    </tr>\n",
       "  </thead>\n",
       "  <tbody>\n",
       "    <tr>\n",
       "      <th>0</th>\n",
       "      <td>2008</td>\n",
       "      <td>2008</td>\n",
       "    </tr>\n",
       "    <tr>\n",
       "      <th>1</th>\n",
       "      <td>2004</td>\n",
       "      <td>2003</td>\n",
       "    </tr>\n",
       "    <tr>\n",
       "      <th>2</th>\n",
       "      <td>2006</td>\n",
       "      <td>1960</td>\n",
       "    </tr>\n",
       "    <tr>\n",
       "      <th>3</th>\n",
       "      <td>2000</td>\n",
       "      <td>2013</td>\n",
       "    </tr>\n",
       "    <tr>\n",
       "      <th>4</th>\n",
       "      <td>2006</td>\n",
       "      <td>2005</td>\n",
       "    </tr>\n",
       "    <tr>\n",
       "      <th>...</th>\n",
       "      <td>...</td>\n",
       "      <td>...</td>\n",
       "    </tr>\n",
       "    <tr>\n",
       "      <th>52473</th>\n",
       "      <td>2011</td>\n",
       "      <td>2011</td>\n",
       "    </tr>\n",
       "    <tr>\n",
       "      <th>52474</th>\n",
       "      <td>2011</td>\n",
       "      <td>2011</td>\n",
       "    </tr>\n",
       "    <tr>\n",
       "      <th>52475</th>\n",
       "      <td>2011</td>\n",
       "      <td>2011</td>\n",
       "    </tr>\n",
       "    <tr>\n",
       "      <th>52476</th>\n",
       "      <td>2011</td>\n",
       "      <td>2011</td>\n",
       "    </tr>\n",
       "    <tr>\n",
       "      <th>52477</th>\n",
       "      <td>2011</td>\n",
       "      <td>2011</td>\n",
       "    </tr>\n",
       "  </tbody>\n",
       "</table>\n",
       "<p>52478 rows × 2 columns</p>\n",
       "</div>"
      ],
      "text/plain": [
       "       publish_year  first_publish_year\n",
       "0              2008                2008\n",
       "1              2004                2003\n",
       "2              2006                1960\n",
       "3              2000                2013\n",
       "4              2006                2005\n",
       "...             ...                 ...\n",
       "52473          2011                2011\n",
       "52474          2011                2011\n",
       "52475          2011                2011\n",
       "52476          2011                2011\n",
       "52477          2011                2011\n",
       "\n",
       "[52478 rows x 2 columns]"
      ]
     },
     "execution_count": 96,
     "metadata": {},
     "output_type": "execute_result"
    }
   ],
   "source": [
    "# Checking results\n",
    "dates[['publish_year','first_publish_year']]"
   ]
  },
  {
   "cell_type": "code",
   "execution_count": 97,
   "id": "ccdbcdab",
   "metadata": {},
   "outputs": [
    {
     "data": {
      "text/plain": [
       "publish_year          0\n",
       "first_publish_year    0\n",
       "dtype: int64"
      ]
     },
     "execution_count": 97,
     "metadata": {},
     "output_type": "execute_result"
    }
   ],
   "source": [
    "# NaN values\n",
    "dates[['publish_year', 'first_publish_year']].isna().sum()"
   ]
  },
  {
   "cell_type": "code",
   "execution_count": 98,
   "id": "dce1ccf7",
   "metadata": {},
   "outputs": [],
   "source": [
    "# Add new columns with years to main dataframe\n",
    "gr_data = pd.concat([gr_data, dates[['publish_year', 'first_publish_year']]], axis=1)"
   ]
  },
  {
   "cell_type": "code",
   "execution_count": 99,
   "id": "e104fd7d",
   "metadata": {},
   "outputs": [],
   "source": [
    "# Drop original columns\n",
    "gr_data = gr_data.drop(['publish_date', 'first_publish_date'], axis=1)"
   ]
  },
  {
   "cell_type": "code",
   "execution_count": 100,
   "id": "fa5a8a5a",
   "metadata": {},
   "outputs": [
    {
     "data": {
      "text/plain": [
       "(52478, 25)"
      ]
     },
     "execution_count": 100,
     "metadata": {},
     "output_type": "execute_result"
    }
   ],
   "source": [
    "gr_data.shape"
   ]
  },
  {
   "cell_type": "markdown",
   "id": "7c752b72",
   "metadata": {},
   "source": [
    "### Awards (last part)"
   ]
  },
  {
   "cell_type": "markdown",
   "id": "6c6b202d",
   "metadata": {},
   "source": [
    "### Setting"
   ]
  },
  {
   "cell_type": "code",
   "execution_count": 101,
   "id": "2c5934a6",
   "metadata": {},
   "outputs": [
    {
     "data": {
      "text/plain": [
       "0        ['District 12, Panem', 'Capitol, Panem', 'Pane...\n",
       "1        ['Hogwarts School of Witchcraft and Wizardry (...\n",
       "2                     ['Maycomb, Alabama (United States)']\n",
       "3        ['United Kingdom', 'Derbyshire, England (Unite...\n",
       "4        ['Forks, Washington (United States)', 'Phoenix...\n",
       "                               ...                        \n",
       "52473                                                   []\n",
       "52474                                                   []\n",
       "52475                                                   []\n",
       "52476                                                   []\n",
       "52477                                                   []\n",
       "Name: setting, Length: 52478, dtype: object"
      ]
     },
     "execution_count": 101,
     "metadata": {},
     "output_type": "execute_result"
    }
   ],
   "source": [
    "gr_data['setting']"
   ]
  },
  {
   "cell_type": "code",
   "execution_count": 102,
   "id": "8c5956cc",
   "metadata": {},
   "outputs": [
    {
     "name": "stdout",
     "output_type": "stream",
     "text": [
      "Number of rows with empty 'setting':  40900\n"
     ]
    }
   ],
   "source": [
    "# Rows with empt \"[ ]\"\n",
    "empty_setting_rows = gr_data[gr_data['setting'] == \"[]\"]\n",
    "\n",
    "num_empty_setting_rows = len(empty_setting_rows)\n",
    "\n",
    "print(\"Number of rows with empty 'setting': \", num_empty_setting_rows)\n"
   ]
  },
  {
   "cell_type": "code",
   "execution_count": 103,
   "id": "24fd34a6",
   "metadata": {},
   "outputs": [],
   "source": [
    "# Remove column\n",
    "gr_data = gr_data.drop(['setting'],axis=1)"
   ]
  },
  {
   "cell_type": "code",
   "execution_count": 104,
   "id": "6366d4ba",
   "metadata": {},
   "outputs": [],
   "source": [
    "# [ ,'genres', 'awards']"
   ]
  },
  {
   "cell_type": "code",
   "execution_count": 105,
   "id": "f44e1373",
   "metadata": {},
   "outputs": [
    {
     "data": {
      "text/plain": [
       "(52478, 24)"
      ]
     },
     "execution_count": 105,
     "metadata": {},
     "output_type": "execute_result"
    }
   ],
   "source": [
    "gr_data.shape"
   ]
  },
  {
   "cell_type": "code",
   "execution_count": 106,
   "id": "b78002fc",
   "metadata": {},
   "outputs": [],
   "source": [
    "# Saving data with clean categorical"
   ]
  },
  {
   "cell_type": "code",
   "execution_count": 107,
   "id": "344eb80d",
   "metadata": {},
   "outputs": [],
   "source": [
    "gr_data.to_csv('gr_data_clean_cat.csv')"
   ]
  },
  {
   "cell_type": "code",
   "execution_count": null,
   "id": "c75184fe",
   "metadata": {},
   "outputs": [],
   "source": []
  },
  {
   "cell_type": "markdown",
   "id": "1367cf49",
   "metadata": {},
   "source": [
    "## Cleaning Numerical Data"
   ]
  },
  {
   "cell_type": "code",
   "execution_count": 108,
   "id": "79bddb8a",
   "metadata": {},
   "outputs": [],
   "source": [
    "gr_data = pd.read_csv('gr_data_clean_cat.csv')\n",
    "gr_data = gr_data.drop(['Unnamed: 0'],axis=1)"
   ]
  },
  {
   "cell_type": "code",
   "execution_count": 109,
   "id": "3a7dc941",
   "metadata": {},
   "outputs": [
    {
     "data": {
      "text/html": [
       "<div>\n",
       "<style scoped>\n",
       "    .dataframe tbody tr th:only-of-type {\n",
       "        vertical-align: middle;\n",
       "    }\n",
       "\n",
       "    .dataframe tbody tr th {\n",
       "        vertical-align: top;\n",
       "    }\n",
       "\n",
       "    .dataframe thead th {\n",
       "        text-align: right;\n",
       "    }\n",
       "</style>\n",
       "<table border=\"1\" class=\"dataframe\">\n",
       "  <thead>\n",
       "    <tr style=\"text-align: right;\">\n",
       "      <th></th>\n",
       "      <th>rating</th>\n",
       "      <th>pages</th>\n",
       "      <th>num_ratings</th>\n",
       "      <th>liked_perc</th>\n",
       "      <th>bbe_score</th>\n",
       "      <th>bbe_votes</th>\n",
       "      <th>price</th>\n",
       "      <th>5_stars_num_ratings</th>\n",
       "      <th>4_stars_num_ratings</th>\n",
       "      <th>3_stars_num_ratings</th>\n",
       "      <th>2_stars_num_ratings</th>\n",
       "      <th>1_star_num_ratings</th>\n",
       "      <th>publish_year</th>\n",
       "      <th>first_publish_year</th>\n",
       "    </tr>\n",
       "  </thead>\n",
       "  <tbody>\n",
       "    <tr>\n",
       "      <th>0</th>\n",
       "      <td>4.33</td>\n",
       "      <td>374.0</td>\n",
       "      <td>6376780</td>\n",
       "      <td>96.0</td>\n",
       "      <td>2993816</td>\n",
       "      <td>30516</td>\n",
       "      <td>5.09</td>\n",
       "      <td>3444695</td>\n",
       "      <td>1921313</td>\n",
       "      <td>745221</td>\n",
       "      <td>171994</td>\n",
       "      <td>93557</td>\n",
       "      <td>2008</td>\n",
       "      <td>2008</td>\n",
       "    </tr>\n",
       "    <tr>\n",
       "      <th>1</th>\n",
       "      <td>4.50</td>\n",
       "      <td>870.0</td>\n",
       "      <td>2507623</td>\n",
       "      <td>98.0</td>\n",
       "      <td>2632233</td>\n",
       "      <td>26923</td>\n",
       "      <td>7.38</td>\n",
       "      <td>1593642</td>\n",
       "      <td>637516</td>\n",
       "      <td>222366</td>\n",
       "      <td>39573</td>\n",
       "      <td>14526</td>\n",
       "      <td>2004</td>\n",
       "      <td>2003</td>\n",
       "    </tr>\n",
       "    <tr>\n",
       "      <th>2</th>\n",
       "      <td>4.28</td>\n",
       "      <td>324.0</td>\n",
       "      <td>4501075</td>\n",
       "      <td>95.0</td>\n",
       "      <td>2269402</td>\n",
       "      <td>23328</td>\n",
       "      <td>NaN</td>\n",
       "      <td>2363896</td>\n",
       "      <td>1333153</td>\n",
       "      <td>573280</td>\n",
       "      <td>149952</td>\n",
       "      <td>80794</td>\n",
       "      <td>2006</td>\n",
       "      <td>1960</td>\n",
       "    </tr>\n",
       "    <tr>\n",
       "      <th>3</th>\n",
       "      <td>4.26</td>\n",
       "      <td>279.0</td>\n",
       "      <td>2998241</td>\n",
       "      <td>94.0</td>\n",
       "      <td>1983116</td>\n",
       "      <td>20452</td>\n",
       "      <td>NaN</td>\n",
       "      <td>1617567</td>\n",
       "      <td>816659</td>\n",
       "      <td>373311</td>\n",
       "      <td>113934</td>\n",
       "      <td>76770</td>\n",
       "      <td>2000</td>\n",
       "      <td>2013</td>\n",
       "    </tr>\n",
       "    <tr>\n",
       "      <th>4</th>\n",
       "      <td>3.60</td>\n",
       "      <td>501.0</td>\n",
       "      <td>4964519</td>\n",
       "      <td>78.0</td>\n",
       "      <td>1459448</td>\n",
       "      <td>14874</td>\n",
       "      <td>2.10</td>\n",
       "      <td>1751460</td>\n",
       "      <td>1113682</td>\n",
       "      <td>1008686</td>\n",
       "      <td>542017</td>\n",
       "      <td>548674</td>\n",
       "      <td>2006</td>\n",
       "      <td>2005</td>\n",
       "    </tr>\n",
       "    <tr>\n",
       "      <th>...</th>\n",
       "      <td>...</td>\n",
       "      <td>...</td>\n",
       "      <td>...</td>\n",
       "      <td>...</td>\n",
       "      <td>...</td>\n",
       "      <td>...</td>\n",
       "      <td>...</td>\n",
       "      <td>...</td>\n",
       "      <td>...</td>\n",
       "      <td>...</td>\n",
       "      <td>...</td>\n",
       "      <td>...</td>\n",
       "      <td>...</td>\n",
       "      <td>...</td>\n",
       "    </tr>\n",
       "    <tr>\n",
       "      <th>52473</th>\n",
       "      <td>4.00</td>\n",
       "      <td>0.0</td>\n",
       "      <td>871</td>\n",
       "      <td>94.0</td>\n",
       "      <td>0</td>\n",
       "      <td>1</td>\n",
       "      <td>NaN</td>\n",
       "      <td>311</td>\n",
       "      <td>310</td>\n",
       "      <td>197</td>\n",
       "      <td>42</td>\n",
       "      <td>11</td>\n",
       "      <td>2011</td>\n",
       "      <td>2011</td>\n",
       "    </tr>\n",
       "    <tr>\n",
       "      <th>52474</th>\n",
       "      <td>4.19</td>\n",
       "      <td>190.0</td>\n",
       "      <td>37</td>\n",
       "      <td>95.0</td>\n",
       "      <td>0</td>\n",
       "      <td>1</td>\n",
       "      <td>NaN</td>\n",
       "      <td>16</td>\n",
       "      <td>14</td>\n",
       "      <td>5</td>\n",
       "      <td>2</td>\n",
       "      <td>0</td>\n",
       "      <td>2011</td>\n",
       "      <td>2011</td>\n",
       "    </tr>\n",
       "    <tr>\n",
       "      <th>52475</th>\n",
       "      <td>3.70</td>\n",
       "      <td>280.0</td>\n",
       "      <td>6674</td>\n",
       "      <td>84.0</td>\n",
       "      <td>0</td>\n",
       "      <td>1</td>\n",
       "      <td>7.37</td>\n",
       "      <td>2109</td>\n",
       "      <td>1868</td>\n",
       "      <td>1660</td>\n",
       "      <td>647</td>\n",
       "      <td>390</td>\n",
       "      <td>2011</td>\n",
       "      <td>2011</td>\n",
       "    </tr>\n",
       "    <tr>\n",
       "      <th>52476</th>\n",
       "      <td>3.85</td>\n",
       "      <td>507.0</td>\n",
       "      <td>238</td>\n",
       "      <td>90.0</td>\n",
       "      <td>0</td>\n",
       "      <td>1</td>\n",
       "      <td>2.86</td>\n",
       "      <td>77</td>\n",
       "      <td>78</td>\n",
       "      <td>59</td>\n",
       "      <td>19</td>\n",
       "      <td>5</td>\n",
       "      <td>2011</td>\n",
       "      <td>2011</td>\n",
       "    </tr>\n",
       "    <tr>\n",
       "      <th>52477</th>\n",
       "      <td>4.02</td>\n",
       "      <td>201.0</td>\n",
       "      <td>246</td>\n",
       "      <td>90.0</td>\n",
       "      <td>0</td>\n",
       "      <td>1</td>\n",
       "      <td>5.20</td>\n",
       "      <td>106</td>\n",
       "      <td>73</td>\n",
       "      <td>42</td>\n",
       "      <td>17</td>\n",
       "      <td>8</td>\n",
       "      <td>2011</td>\n",
       "      <td>2011</td>\n",
       "    </tr>\n",
       "  </tbody>\n",
       "</table>\n",
       "<p>52478 rows × 14 columns</p>\n",
       "</div>"
      ],
      "text/plain": [
       "       rating  pages  num_ratings  liked_perc  bbe_score  bbe_votes  price  \\\n",
       "0        4.33  374.0      6376780        96.0    2993816      30516   5.09   \n",
       "1        4.50  870.0      2507623        98.0    2632233      26923   7.38   \n",
       "2        4.28  324.0      4501075        95.0    2269402      23328    NaN   \n",
       "3        4.26  279.0      2998241        94.0    1983116      20452    NaN   \n",
       "4        3.60  501.0      4964519        78.0    1459448      14874   2.10   \n",
       "...       ...    ...          ...         ...        ...        ...    ...   \n",
       "52473    4.00    0.0          871        94.0          0          1    NaN   \n",
       "52474    4.19  190.0           37        95.0          0          1    NaN   \n",
       "52475    3.70  280.0         6674        84.0          0          1   7.37   \n",
       "52476    3.85  507.0          238        90.0          0          1   2.86   \n",
       "52477    4.02  201.0          246        90.0          0          1   5.20   \n",
       "\n",
       "       5_stars_num_ratings  4_stars_num_ratings  3_stars_num_ratings  \\\n",
       "0                  3444695              1921313               745221   \n",
       "1                  1593642               637516               222366   \n",
       "2                  2363896              1333153               573280   \n",
       "3                  1617567               816659               373311   \n",
       "4                  1751460              1113682              1008686   \n",
       "...                    ...                  ...                  ...   \n",
       "52473                  311                  310                  197   \n",
       "52474                   16                   14                    5   \n",
       "52475                 2109                 1868                 1660   \n",
       "52476                   77                   78                   59   \n",
       "52477                  106                   73                   42   \n",
       "\n",
       "       2_stars_num_ratings  1_star_num_ratings  publish_year  \\\n",
       "0                   171994               93557          2008   \n",
       "1                    39573               14526          2004   \n",
       "2                   149952               80794          2006   \n",
       "3                   113934               76770          2000   \n",
       "4                   542017              548674          2006   \n",
       "...                    ...                 ...           ...   \n",
       "52473                   42                  11          2011   \n",
       "52474                    2                   0          2011   \n",
       "52475                  647                 390          2011   \n",
       "52476                   19                   5          2011   \n",
       "52477                   17                   8          2011   \n",
       "\n",
       "       first_publish_year  \n",
       "0                    2008  \n",
       "1                    2003  \n",
       "2                    1960  \n",
       "3                    2013  \n",
       "4                    2005  \n",
       "...                   ...  \n",
       "52473                2011  \n",
       "52474                2011  \n",
       "52475                2011  \n",
       "52476                2011  \n",
       "52477                2011  \n",
       "\n",
       "[52478 rows x 14 columns]"
      ]
     },
     "metadata": {},
     "output_type": "display_data"
    },
    {
     "data": {
      "text/plain": [
       "(52478, 14)"
      ]
     },
     "metadata": {},
     "output_type": "display_data"
    }
   ],
   "source": [
    "numerical = gr_data.select_dtypes(include='number')\n",
    "display(numerical, numerical.shape)"
   ]
  },
  {
   "cell_type": "code",
   "execution_count": 110,
   "id": "1d626f9a",
   "metadata": {},
   "outputs": [
    {
     "data": {
      "text/plain": [
       "Index(['rating', 'pages', 'num_ratings', 'liked_perc', 'bbe_score',\n",
       "       'bbe_votes', 'price', '5_stars_num_ratings', '4_stars_num_ratings',\n",
       "       '3_stars_num_ratings', '2_stars_num_ratings', '1_star_num_ratings',\n",
       "       'publish_year', 'first_publish_year'],\n",
       "      dtype='object')"
      ]
     },
     "execution_count": 110,
     "metadata": {},
     "output_type": "execute_result"
    }
   ],
   "source": [
    "numerical.columns"
   ]
  },
  {
   "cell_type": "markdown",
   "id": "f24c4342",
   "metadata": {},
   "source": [
    "### Rating"
   ]
  },
  {
   "cell_type": "code",
   "execution_count": 111,
   "id": "899c953e",
   "metadata": {},
   "outputs": [
    {
     "data": {
      "text/plain": [
       "0        4.33\n",
       "1        4.50\n",
       "2        4.28\n",
       "3        4.26\n",
       "4        3.60\n",
       "         ... \n",
       "52473    4.00\n",
       "52474    4.19\n",
       "52475    3.70\n",
       "52476    3.85\n",
       "52477    4.02\n",
       "Name: rating, Length: 52478, dtype: float64"
      ]
     },
     "execution_count": 111,
     "metadata": {},
     "output_type": "execute_result"
    }
   ],
   "source": [
    "# Values\n",
    "gr_data['rating']"
   ]
  },
  {
   "cell_type": "code",
   "execution_count": 112,
   "id": "6caefac7",
   "metadata": {},
   "outputs": [
    {
     "data": {
      "text/plain": [
       "0"
      ]
     },
     "execution_count": 112,
     "metadata": {},
     "output_type": "execute_result"
    }
   ],
   "source": [
    "# NaN\n",
    "gr_data['rating'].isna().sum()"
   ]
  },
  {
   "cell_type": "code",
   "execution_count": 113,
   "id": "3ed03a89",
   "metadata": {},
   "outputs": [
    {
     "data": {
      "text/plain": [
       "count    52478.000000\n",
       "mean         4.021878\n",
       "std          0.367146\n",
       "min          0.000000\n",
       "25%          3.820000\n",
       "50%          4.030000\n",
       "75%          4.230000\n",
       "max          5.000000\n",
       "Name: rating, dtype: float64"
      ]
     },
     "execution_count": 113,
     "metadata": {},
     "output_type": "execute_result"
    }
   ],
   "source": [
    "# Minimum rating 0 and maximum 5\n",
    "gr_data['rating'].describe()"
   ]
  },
  {
   "cell_type": "markdown",
   "id": "1966af0e",
   "metadata": {},
   "source": [
    "### Pages"
   ]
  },
  {
   "cell_type": "code",
   "execution_count": 114,
   "id": "f94089b7",
   "metadata": {},
   "outputs": [
    {
     "data": {
      "text/plain": [
       "2370"
      ]
     },
     "execution_count": 114,
     "metadata": {},
     "output_type": "execute_result"
    }
   ],
   "source": [
    "# NaN values \n",
    "gr_data['pages'].isna().sum()"
   ]
  },
  {
   "cell_type": "code",
   "execution_count": 115,
   "id": "2f826913",
   "metadata": {
    "scrolled": true
   },
   "outputs": [
    {
     "data": {
      "text/html": [
       "<div>\n",
       "<style scoped>\n",
       "    .dataframe tbody tr th:only-of-type {\n",
       "        vertical-align: middle;\n",
       "    }\n",
       "\n",
       "    .dataframe tbody tr th {\n",
       "        vertical-align: top;\n",
       "    }\n",
       "\n",
       "    .dataframe thead th {\n",
       "        text-align: right;\n",
       "    }\n",
       "</style>\n",
       "<table border=\"1\" class=\"dataframe\">\n",
       "  <thead>\n",
       "    <tr style=\"text-align: right;\">\n",
       "      <th></th>\n",
       "      <th>title</th>\n",
       "      <th>author</th>\n",
       "      <th>pages</th>\n",
       "      <th>book_format</th>\n",
       "    </tr>\n",
       "  </thead>\n",
       "  <tbody>\n",
       "    <tr>\n",
       "      <th>669</th>\n",
       "      <td>Brainwalker</td>\n",
       "      <td>Robyn Mundell</td>\n",
       "      <td>NaN</td>\n",
       "      <td>Ebook</td>\n",
       "    </tr>\n",
       "    <tr>\n",
       "      <th>1062</th>\n",
       "      <td>Pleasant Day</td>\n",
       "      <td>Vera Jane Cook</td>\n",
       "      <td>NaN</td>\n",
       "      <td>Ebook</td>\n",
       "    </tr>\n",
       "    <tr>\n",
       "      <th>1428</th>\n",
       "      <td>Red Storm Rising</td>\n",
       "      <td>Tom Clancy</td>\n",
       "      <td>NaN</td>\n",
       "      <td>Audio</td>\n",
       "    </tr>\n",
       "    <tr>\n",
       "      <th>1483</th>\n",
       "      <td>Beg For Mercy</td>\n",
       "      <td>Lucian Bane</td>\n",
       "      <td>NaN</td>\n",
       "      <td>Ebook</td>\n",
       "    </tr>\n",
       "    <tr>\n",
       "      <th>1543</th>\n",
       "      <td>A Bird Without Wings</td>\n",
       "      <td>Roberta Pearce</td>\n",
       "      <td>NaN</td>\n",
       "      <td>Ebook</td>\n",
       "    </tr>\n",
       "    <tr>\n",
       "      <th>1821</th>\n",
       "      <td>A Summer of Good-Byes (Blue Triangle Press Boo...</td>\n",
       "      <td>Fred Misurella</td>\n",
       "      <td>NaN</td>\n",
       "      <td>Ebook</td>\n",
       "    </tr>\n",
       "    <tr>\n",
       "      <th>1843</th>\n",
       "      <td>Frankie the Ferret</td>\n",
       "      <td>Kimberley Paterson</td>\n",
       "      <td>NaN</td>\n",
       "      <td>Paperback</td>\n",
       "    </tr>\n",
       "    <tr>\n",
       "      <th>2333</th>\n",
       "      <td>Crashing Down to Earth</td>\n",
       "      <td>Terry Reid</td>\n",
       "      <td>NaN</td>\n",
       "      <td>Ebook</td>\n",
       "    </tr>\n",
       "    <tr>\n",
       "      <th>2357</th>\n",
       "      <td>The House at Pooh Corner and Now We Are Six</td>\n",
       "      <td>A.A. Milne</td>\n",
       "      <td>NaN</td>\n",
       "      <td>Audio</td>\n",
       "    </tr>\n",
       "    <tr>\n",
       "      <th>2368</th>\n",
       "      <td>Diya aur baati hum</td>\n",
       "      <td>Snehlata Agarwala</td>\n",
       "      <td>NaN</td>\n",
       "      <td>Ebook</td>\n",
       "    </tr>\n",
       "  </tbody>\n",
       "</table>\n",
       "</div>"
      ],
      "text/plain": [
       "                                                  title              author  \\\n",
       "669                                         Brainwalker       Robyn Mundell   \n",
       "1062                                       Pleasant Day      Vera Jane Cook   \n",
       "1428                                   Red Storm Rising          Tom Clancy   \n",
       "1483                                      Beg For Mercy         Lucian Bane   \n",
       "1543                               A Bird Without Wings      Roberta Pearce   \n",
       "1821  A Summer of Good-Byes (Blue Triangle Press Boo...      Fred Misurella   \n",
       "1843                                 Frankie the Ferret  Kimberley Paterson   \n",
       "2333                             Crashing Down to Earth          Terry Reid   \n",
       "2357        The House at Pooh Corner and Now We Are Six          A.A. Milne   \n",
       "2368                                 Diya aur baati hum   Snehlata Agarwala   \n",
       "\n",
       "      pages book_format  \n",
       "669     NaN       Ebook  \n",
       "1062    NaN       Ebook  \n",
       "1428    NaN       Audio  \n",
       "1483    NaN       Ebook  \n",
       "1543    NaN       Ebook  \n",
       "1821    NaN       Ebook  \n",
       "1843    NaN   Paperback  \n",
       "2333    NaN       Ebook  \n",
       "2357    NaN       Audio  \n",
       "2368    NaN       Ebook  "
      ]
     },
     "metadata": {},
     "output_type": "display_data"
    },
    {
     "data": {
      "text/plain": [
       "2370"
      ]
     },
     "metadata": {},
     "output_type": "display_data"
    }
   ],
   "source": [
    "# Book info about NaN values\n",
    "nan_pages = gr_data[gr_data['pages'].isna()]\n",
    "display(nan_pages[['title', 'author', 'pages', 'book_format']].head(10))\n",
    "display(len(nan_pages))"
   ]
  },
  {
   "cell_type": "code",
   "execution_count": 116,
   "id": "5c7bfaff",
   "metadata": {},
   "outputs": [
    {
     "data": {
      "text/html": [
       "<div>\n",
       "<style scoped>\n",
       "    .dataframe tbody tr th:only-of-type {\n",
       "        vertical-align: middle;\n",
       "    }\n",
       "\n",
       "    .dataframe tbody tr th {\n",
       "        vertical-align: top;\n",
       "    }\n",
       "\n",
       "    .dataframe thead th {\n",
       "        text-align: right;\n",
       "    }\n",
       "</style>\n",
       "<table border=\"1\" class=\"dataframe\">\n",
       "  <thead>\n",
       "    <tr style=\"text-align: right;\">\n",
       "      <th></th>\n",
       "      <th>book_format</th>\n",
       "      <th>NaN pages count</th>\n",
       "    </tr>\n",
       "  </thead>\n",
       "  <tbody>\n",
       "    <tr>\n",
       "      <th>2</th>\n",
       "      <td>Ebook</td>\n",
       "      <td>907</td>\n",
       "    </tr>\n",
       "    <tr>\n",
       "      <th>8</th>\n",
       "      <td>Unknown</td>\n",
       "      <td>604</td>\n",
       "    </tr>\n",
       "    <tr>\n",
       "      <th>6</th>\n",
       "      <td>Paperback</td>\n",
       "      <td>499</td>\n",
       "    </tr>\n",
       "    <tr>\n",
       "      <th>4</th>\n",
       "      <td>Hardcover</td>\n",
       "      <td>216</td>\n",
       "    </tr>\n",
       "    <tr>\n",
       "      <th>0</th>\n",
       "      <td>Audio</td>\n",
       "      <td>132</td>\n",
       "    </tr>\n",
       "    <tr>\n",
       "      <th>1</th>\n",
       "      <td>Boxset</td>\n",
       "      <td>8</td>\n",
       "    </tr>\n",
       "    <tr>\n",
       "      <th>3</th>\n",
       "      <td>Graphic Novel and Comic</td>\n",
       "      <td>2</td>\n",
       "    </tr>\n",
       "    <tr>\n",
       "      <th>5</th>\n",
       "      <td>Other formats</td>\n",
       "      <td>1</td>\n",
       "    </tr>\n",
       "    <tr>\n",
       "      <th>7</th>\n",
       "      <td>Special Edition</td>\n",
       "      <td>1</td>\n",
       "    </tr>\n",
       "  </tbody>\n",
       "</table>\n",
       "</div>"
      ],
      "text/plain": [
       "               book_format  NaN pages count\n",
       "2                    Ebook              907\n",
       "8                  Unknown              604\n",
       "6                Paperback              499\n",
       "4                Hardcover              216\n",
       "0                    Audio              132\n",
       "1                   Boxset                8\n",
       "3  Graphic Novel and Comic                2\n",
       "5            Other formats                1\n",
       "7          Special Edition                1"
      ]
     },
     "execution_count": 116,
     "metadata": {},
     "output_type": "execute_result"
    }
   ],
   "source": [
    "# NaN by format\n",
    "counts = nan_pages.groupby('book_format').size().reset_index(name='NaN pages count')\n",
    "counts = counts.sort_values(by='NaN pages count', ascending = False)\n",
    "counts[:10]"
   ]
  },
  {
   "cell_type": "code",
   "execution_count": 117,
   "id": "8ebfb422",
   "metadata": {},
   "outputs": [],
   "source": [
    "# NaN."
   ]
  },
  {
   "cell_type": "code",
   "execution_count": null,
   "id": "af24e2b5",
   "metadata": {},
   "outputs": [],
   "source": []
  },
  {
   "cell_type": "markdown",
   "id": "b1f92825",
   "metadata": {},
   "source": [
    "### Number of Ratings"
   ]
  },
  {
   "cell_type": "code",
   "execution_count": 118,
   "id": "aaf23d9f",
   "metadata": {},
   "outputs": [
    {
     "data": {
      "text/plain": [
       "0"
      ]
     },
     "execution_count": 118,
     "metadata": {},
     "output_type": "execute_result"
    }
   ],
   "source": [
    "# NaN\n",
    "gr_data['num_ratings'].isna().sum()"
   ]
  },
  {
   "cell_type": "code",
   "execution_count": 119,
   "id": "67cd059f",
   "metadata": {},
   "outputs": [
    {
     "data": {
      "text/plain": [
       "0        6376780\n",
       "1        2507623\n",
       "2        4501075\n",
       "3        2998241\n",
       "4        4964519\n",
       "          ...   \n",
       "52473        871\n",
       "52474         37\n",
       "52475       6674\n",
       "52476        238\n",
       "52477        246\n",
       "Name: num_ratings, Length: 52478, dtype: int64"
      ]
     },
     "execution_count": 119,
     "metadata": {},
     "output_type": "execute_result"
    }
   ],
   "source": [
    "gr_data['num_ratings']"
   ]
  },
  {
   "cell_type": "code",
   "execution_count": 120,
   "id": "736da444",
   "metadata": {},
   "outputs": [
    {
     "data": {
      "text/plain": [
       "count    5.247800e+04\n",
       "mean     1.787865e+04\n",
       "std      1.039448e+05\n",
       "min      0.000000e+00\n",
       "25%      3.410000e+02\n",
       "50%      2.307000e+03\n",
       "75%      9.380500e+03\n",
       "max      7.048471e+06\n",
       "Name: num_ratings, dtype: float64"
      ]
     },
     "execution_count": 120,
     "metadata": {},
     "output_type": "execute_result"
    }
   ],
   "source": [
    "gr_data['num_ratings'].describe()"
   ]
  },
  {
   "cell_type": "code",
   "execution_count": 121,
   "id": "62f6ab1a",
   "metadata": {},
   "outputs": [
    {
     "data": {
      "image/png": "[encoded data removed]",
      "text/plain": [
       "<Figure size 640x480 with 1 Axes>"
      ]
     },
     "metadata": {},
     "output_type": "display_data"
    }
   ],
   "source": [
    "import matplotlib.pyplot as plt\n",
    "\n",
    "plt.plot(gr_data['num_ratings'])\n",
    "plt.xlabel('Books')\n",
    "plt.ylabel('Number of ratings')\n",
    "plt.title('Number of ratings per book')\n",
    "plt.show()"
   ]
  },
  {
   "cell_type": "code",
   "execution_count": 122,
   "id": "181fdb61",
   "metadata": {},
   "outputs": [
    {
     "name": "stdout",
     "output_type": "stream",
     "text": [
      "25th percentile:  341.0\n",
      "Median:  2307.0\n",
      "75th percentile:  9380.5\n",
      "90th percentile:  30307.1\n"
     ]
    }
   ],
   "source": [
    "#import numpy as np\n",
    "\n",
    "# Calculate percentiles\n",
    "p25 = np.percentile(gr_data['num_ratings'], 25)\n",
    "p50 = np.percentile(gr_data['num_ratings'], 50)\n",
    "p75 = np.percentile(gr_data['num_ratings'], 75)\n",
    "p90 = np.percentile(gr_data['num_ratings'], 90)\n",
    "\n",
    "# Print percentiles\n",
    "print(\"25th percentile: \", p25)\n",
    "print(\"Median: \", p50)\n",
    "print(\"75th percentile: \", p75)\n",
    "print(\"90th percentile: \", round(p90,2))\n"
   ]
  },
  {
   "cell_type": "code",
   "execution_count": 123,
   "id": "57d75137",
   "metadata": {},
   "outputs": [
    {
     "name": "stdout",
     "output_type": "stream",
     "text": [
      "Number of books with 0 ratings: 71\n"
     ]
    }
   ],
   "source": [
    "# Count the number of occurrences of each unique value in the 'num_ratings' column\n",
    "num_rating_counts = gr_data['num_ratings'].value_counts()\n",
    "\n",
    "# Print the count of books with 0 ratings\n",
    "print(\"Number of books with 0 ratings:\", num_rating_counts[0])\n"
   ]
  },
  {
   "cell_type": "code",
   "execution_count": 124,
   "id": "dabfab05",
   "metadata": {},
   "outputs": [
    {
     "data": {
      "image/png": "[encoded data removed]",
      "text/plain": [
       "<Figure size 640x480 with 1 Axes>"
      ]
     },
     "metadata": {},
     "output_type": "display_data"
    }
   ],
   "source": [
    "import matplotlib.pyplot as plt\n",
    "\n",
    "# Set up the figure and axis\n",
    "fig, ax = plt.subplots()\n",
    "\n",
    "# Create a histogram with a logarithmic scale on the y-axis\n",
    "ax.hist(gr_data['num_ratings'], bins=100, log=True)\n",
    "\n",
    "# Set the axis labels and title\n",
    "ax.set_xlabel('Number of ratings')\n",
    "ax.set_ylabel('Count (log scale)')\n",
    "ax.set_title('Distribution of number of ratings')\n",
    "\n",
    "# Show the plot\n",
    "plt.show()\n"
   ]
  },
  {
   "cell_type": "code",
   "execution_count": 125,
   "id": "aab5a8a4",
   "metadata": {},
   "outputs": [
    {
     "data": {
      "text/plain": [
       "0        6.804602\n",
       "1        6.399262\n",
       "2        6.653316\n",
       "3        6.476867\n",
       "4        6.695877\n",
       "           ...   \n",
       "52473    2.940516\n",
       "52474    1.579784\n",
       "52475    3.824451\n",
       "52476    2.378398\n",
       "52477    2.392697\n",
       "Name: log_num_ratings, Length: 52478, dtype: float64"
      ]
     },
     "execution_count": 125,
     "metadata": {},
     "output_type": "execute_result"
    }
   ],
   "source": [
    "#import numpy as np\n",
    "#import pandas as pd\n",
    "\n",
    "# Add a small constant value (e.g., 1) to the num_ratings data\n",
    "# (71 books with 0 ratings --> +1)\n",
    "reg_num_ratings = gr_data['num_ratings'] + 1\n",
    "\n",
    "# Take the base-10 logarithm of the regularized num_ratings data\n",
    "log_reg_num_ratings = np.log10(reg_num_ratings)\n",
    "\n",
    "# Add a new column to the gr_data DataFrame with the log-transformed data\n",
    "gr_data['log_num_ratings'] = log_reg_num_ratings\n",
    "\n",
    "# Print the first few rows of the modified DataFrame to verify the new column was added\n",
    "gr_data['log_num_ratings']\n"
   ]
  },
  {
   "cell_type": "code",
   "execution_count": 126,
   "id": "b6dfe726",
   "metadata": {},
   "outputs": [
    {
     "data": {
      "image/png": "[encoded data removed]",
      "text/plain": [
       "<Figure size 640x480 with 1 Axes>"
      ]
     },
     "metadata": {},
     "output_type": "display_data"
    }
   ],
   "source": [
    "import matplotlib.pyplot as plt\n",
    "\n",
    "# Create a histogram of the log-transformed 'num_ratings' data\n",
    "plt.hist(gr_data['log_num_ratings'], bins=50)\n",
    "\n",
    "# Add labels to the plot\n",
    "plt.xlabel('Log10(Number of Ratings)')\n",
    "plt.ylabel('Frequency')\n",
    "plt.title('Distribution of Number of Ratings (Log10 Scale)')\n",
    "\n",
    "# Show the plot\n",
    "plt.show()"
   ]
  },
  {
   "cell_type": "code",
   "execution_count": 127,
   "id": "096e96a4",
   "metadata": {},
   "outputs": [],
   "source": [
    "# Drop original 'num_ratings'\n",
    "gr_data = gr_data.drop(['num_ratings'], axis = 1)"
   ]
  },
  {
   "cell_type": "markdown",
   "id": "05c812ca",
   "metadata": {},
   "source": [
    "### Liked percent"
   ]
  },
  {
   "cell_type": "code",
   "execution_count": 128,
   "id": "ee71f6dc",
   "metadata": {},
   "outputs": [
    {
     "data": {
      "text/plain": [
       "622"
      ]
     },
     "execution_count": 128,
     "metadata": {},
     "output_type": "execute_result"
    }
   ],
   "source": [
    "# NaN values\n",
    "gr_data['liked_perc'].isna().sum()"
   ]
  },
  {
   "cell_type": "code",
   "execution_count": 129,
   "id": "5ee89e2b",
   "metadata": {},
   "outputs": [
    {
     "name": "stdout",
     "output_type": "stream",
     "text": [
      "Count of 0.0 in liked_perc: 5\n"
     ]
    }
   ],
   "source": [
    "# Count the number of 0 and 0.0 in the 'liked_perc' column\n",
    "#count_zero = gr_data['liked_perc'].value_counts(normalize=False)[0]\n",
    "count_zero_point_zero = gr_data['liked_perc'].value_counts(normalize=False)[0.0]\n",
    "\n",
    "#print(f\"Count of 0 in liked_perc: {count_zero}\")\n",
    "print(f\"Count of 0.0 in liked_perc: {count_zero_point_zero}\")\n"
   ]
  },
  {
   "cell_type": "code",
   "execution_count": 130,
   "id": "95e3e2f8",
   "metadata": {},
   "outputs": [],
   "source": [
    "# Replace NaN per 0.0\n",
    "gr_data['liked_perc'].fillna(0.0, inplace=True)"
   ]
  },
  {
   "cell_type": "code",
   "execution_count": 131,
   "id": "4effab16",
   "metadata": {},
   "outputs": [
    {
     "data": {
      "text/plain": [
       "count    52478.000000\n",
       "mean        91.138363\n",
       "std         11.623069\n",
       "min          0.000000\n",
       "25%         90.000000\n",
       "50%         93.000000\n",
       "75%         96.000000\n",
       "max        100.000000\n",
       "Name: liked_perc, dtype: float64"
      ]
     },
     "execution_count": 131,
     "metadata": {},
     "output_type": "execute_result"
    }
   ],
   "source": [
    "# Info\n",
    "gr_data['liked_perc'].describe()"
   ]
  },
  {
   "cell_type": "code",
   "execution_count": 132,
   "id": "c9f1f8a2",
   "metadata": {},
   "outputs": [
    {
     "data": {
      "text/plain": [
       "66"
      ]
     },
     "execution_count": 132,
     "metadata": {},
     "output_type": "execute_result"
    }
   ],
   "source": [
    "# Unique values\n",
    "gr_data['liked_perc'].nunique()"
   ]
  },
  {
   "cell_type": "code",
   "execution_count": 133,
   "id": "04ecffeb",
   "metadata": {},
   "outputs": [
    {
     "data": {
      "image/png": "[encoded data removed]",
      "text/plain": [
       "<Figure size 640x480 with 1 Axes>"
      ]
     },
     "metadata": {},
     "output_type": "display_data"
    }
   ],
   "source": [
    "#import matplotlib.pyplot as plt\n",
    "\n",
    "# Plot a histogram of the 'liked_perc' column\n",
    "plt.hist(gr_data['liked_perc'], bins=20)\n",
    "\n",
    "# Add labels and a title\n",
    "plt.xlabel('Liked Percentage')\n",
    "plt.ylabel('Count')\n",
    "plt.title('Distribution of Liked Percentage')\n",
    "\n",
    "# Add vertical lines for the quartiles\n",
    "plt.axvline(x=90, linestyle='--', color='red')\n",
    "plt.axvline(x=93, linestyle='--', color='red')\n",
    "plt.axvline(x=96, linestyle='--', color='red')\n",
    "\n",
    "# Show the plot\n",
    "plt.show()\n"
   ]
  },
  {
   "cell_type": "code",
   "execution_count": 134,
   "id": "96124fef",
   "metadata": {},
   "outputs": [
    {
     "data": {
      "image/png": "[encoded data removed]",
      "text/plain": [
       "<Figure size 640x480 with 1 Axes>"
      ]
     },
     "metadata": {},
     "output_type": "display_data"
    }
   ],
   "source": [
    "#import pandas as pd\n",
    "#import matplotlib.pyplot as plt\n",
    "\n",
    "# Bin the 'liked_perc' column into 10 groups using quantiles\n",
    "bins = pd.qcut(gr_data['liked_perc'], q=10)\n",
    "\n",
    "# Convert the Interval format to numeric values\n",
    "bins = bins.apply(lambda x: x.mid).values\n",
    "\n",
    "# Plot a histogram of the binned data\n",
    "plt.hist(bins, bins=10)\n",
    "\n",
    "# Add labels and a title\n",
    "plt.xlabel('Liked Percentage')\n",
    "plt.ylabel('Count')\n",
    "plt.title('Distribution of Liked Percentage (Binned)')\n",
    "\n",
    "# Show the plot\n",
    "plt.show()\n",
    "\n"
   ]
  },
  {
   "cell_type": "code",
   "execution_count": 135,
   "id": "1c408c16",
   "metadata": {},
   "outputs": [
    {
     "data": {
      "image/png": "[encoded data removed]",
      "text/plain": [
       "<Figure size 640x480 with 1 Axes>"
      ]
     },
     "metadata": {},
     "output_type": "display_data"
    }
   ],
   "source": [
    "# Bin the 'liked_perc' column into 20 groups using quantiles\n",
    "bins = pd.qcut(gr_data['liked_perc'], q=20, duplicates='drop')\n",
    "\n",
    "# Convert the Interval format to numeric values\n",
    "bins = pd.to_numeric(bins.apply(lambda x: x.mid))\n",
    "\n",
    "# Plot a histogram of the binned data\n",
    "plt.hist(bins, bins=20)\n",
    "\n",
    "# Add labels and a title\n",
    "plt.xlabel('Binned Liked Percentage')\n",
    "plt.ylabel('Count')\n",
    "plt.title('Distribution of Binned Liked Percentage')\n",
    "plt.show()\n"
   ]
  },
  {
   "cell_type": "code",
   "execution_count": 136,
   "id": "6d147a4e",
   "metadata": {},
   "outputs": [],
   "source": [
    "# ['rating', 'pages', 'num_ratings', 'liked_perc', 'bbe_score','bbe_votes', 'price',[]"
   ]
  },
  {
   "cell_type": "code",
   "execution_count": null,
   "id": "c53e9c30",
   "metadata": {},
   "outputs": [],
   "source": []
  },
  {
   "cell_type": "code",
   "execution_count": null,
   "id": "f944f239",
   "metadata": {},
   "outputs": [],
   "source": []
  },
  {
   "cell_type": "markdown",
   "id": "69f2372c",
   "metadata": {},
   "source": [
    "### bbe_score"
   ]
  },
  {
   "cell_type": "code",
   "execution_count": 137,
   "id": "577a1c46",
   "metadata": {},
   "outputs": [
    {
     "data": {
      "text/plain": [
       "0"
      ]
     },
     "execution_count": 137,
     "metadata": {},
     "output_type": "execute_result"
    }
   ],
   "source": [
    "gr_data['bbe_score'].isna().sum()"
   ]
  },
  {
   "cell_type": "code",
   "execution_count": 138,
   "id": "d2475e22",
   "metadata": {},
   "outputs": [
    {
     "data": {
      "text/plain": [
       "count    5.247800e+04\n",
       "mean     1.984023e+03\n",
       "std      3.515314e+04\n",
       "min      0.000000e+00\n",
       "25%      8.400000e+01\n",
       "50%      9.700000e+01\n",
       "75%      1.870000e+02\n",
       "max      2.993816e+06\n",
       "Name: bbe_score, dtype: float64"
      ]
     },
     "execution_count": 138,
     "metadata": {},
     "output_type": "execute_result"
    }
   ],
   "source": [
    "gr_data['bbe_score'].describe()"
   ]
  },
  {
   "cell_type": "code",
   "execution_count": 139,
   "id": "b48e9ff5",
   "metadata": {},
   "outputs": [
    {
     "name": "stdout",
     "output_type": "stream",
     "text": [
      "Max: 2993816\n",
      "Min: 0\n",
      "Mean: 1984.02\n",
      "Median: 97.0\n",
      "Standard Deviation: 35153.14\n",
      "25th percentile: 84.0 (13078 books)\n",
      "50th percentile (median): 97.0 (24991 books)\n",
      "75th percentile: 187.0 (39296 books)\n"
     ]
    }
   ],
   "source": [
    "# Information\n",
    "print(\"Max: {}\\nMin: {}\\nMean: {}\\nMedian: {}\\nStandard Deviation: {}\".format(\n",
    "    gr_data['bbe_score'].max(),\n",
    "    gr_data['bbe_score'].min(),\n",
    "    round(gr_data['bbe_score'].mean(), 2),\n",
    "    gr_data['bbe_score'].median(),\n",
    "    round(gr_data['bbe_score'].std(), 2)\n",
    "))\n",
    "\n",
    "p25_count = gr_data['bbe_score'][gr_data['bbe_score'] < gr_data['bbe_score'].quantile(0.25)].count()\n",
    "p50_count = gr_data['bbe_score'][gr_data['bbe_score'] < gr_data['bbe_score'].quantile(0.5)].count()\n",
    "p75_count = gr_data['bbe_score'][gr_data['bbe_score'] < gr_data['bbe_score'].quantile(0.75)].count()\n",
    "\n",
    "print(\"25th percentile: {} ({} books)\".format(gr_data['bbe_score'].quantile(0.25), p25_count))\n",
    "print(\"50th percentile (median): {} ({} books)\".format(gr_data['bbe_score'].quantile(0.5), p50_count))\n",
    "print(\"75th percentile: {} ({} books)\".format(gr_data['bbe_score'].quantile(0.75), p75_count))"
   ]
  },
  {
   "cell_type": "code",
   "execution_count": 140,
   "id": "885ff32a",
   "metadata": {},
   "outputs": [
    {
     "data": {
      "image/png": "[encoded data removed]",
      "text/plain": [
       "<Figure size 640x480 with 1 Axes>"
      ]
     },
     "metadata": {},
     "output_type": "display_data"
    }
   ],
   "source": [
    "#import matplotlib.pyplot as plt\n",
    "import matplotlib.ticker as ticker\n",
    "\n",
    "# Create a box plot of the 'bbe_score' column\n",
    "plt.boxplot(gr_data['bbe_score'])\n",
    "\n",
    "# Set the y-axis label\n",
    "plt.ylabel('Score')\n",
    "\n",
    "# Set the title of the plot\n",
    "plt.title('Distribution of Scores in Goodreads Data')\n",
    "\n",
    "# Set y-axis formatter for full numbers\n",
    "plt.gca().yaxis.set_major_formatter(ticker.FuncFormatter(lambda x, p: format(int(x), ',')))\n",
    "\n",
    "# Show the plot\n",
    "plt.show()\n"
   ]
  },
  {
   "cell_type": "code",
   "execution_count": 141,
   "id": "044c5d16",
   "metadata": {},
   "outputs": [
    {
     "data": {
      "image/png": "[encoded data removed]",
      "text/plain": [
       "<Figure size 640x480 with 1 Axes>"
      ]
     },
     "metadata": {},
     "output_type": "display_data"
    }
   ],
   "source": [
    "\n",
    "log_bbe_score = np.log10(gr_data['bbe_score'][gr_data['bbe_score'] > 0])\n",
    "\n",
    "# create a histogram of the log-transformed bbe_score variable\n",
    "plt.hist(log_bbe_score, bins=20)\n",
    "\n",
    "# add axis labels and a title to the plot\n",
    "plt.xlabel('log10(bbe_score)')\n",
    "plt.ylabel('Frequency')\n",
    "plt.title('Histogram of bbe_score (log scale)')\n",
    "\n",
    "# display the plot\n",
    "plt.show()\n"
   ]
  },
  {
   "cell_type": "code",
   "execution_count": 142,
   "id": "83e9dc6b",
   "metadata": {},
   "outputs": [],
   "source": [
    "# Log Transformation\n",
    "\n",
    "# Calculate the logarithm of non-zero scores and store the results in a new Series\n",
    "nonzero_scores_log = np.log10(gr_data.loc[gr_data['bbe_score'] > 0, 'bbe_score'])\n",
    "\n",
    "# Replace the original bbe_score column with the new logarithmic values\n",
    "gr_data.loc[gr_data['bbe_score'] > 0, 'bbe_score'] = nonzero_scores_log\n"
   ]
  },
  {
   "cell_type": "code",
   "execution_count": null,
   "id": "a147b3b6",
   "metadata": {},
   "outputs": [],
   "source": [
    "#biggest_score = gr_data[gr_data['bbe_score'] > 800000]\n",
    "#len(biggest_score)"
   ]
  },
  {
   "cell_type": "code",
   "execution_count": null,
   "id": "4a3400a8",
   "metadata": {},
   "outputs": [],
   "source": [
    "#gr_data['bbe_score'].value_counts()"
   ]
  },
  {
   "cell_type": "code",
   "execution_count": null,
   "id": "36bfe8f5",
   "metadata": {},
   "outputs": [],
   "source": [
    "# Bin edges and labels\n",
    "#bin_edges = [0, 50, 100, 200, 300, 400, 500, 1000, 1500, 2000, 10000, 50000, 100000, 500000, 1000000, float('inf')]\n",
    "#bin_labels = ['<50', '50-100', '100-200', '200-300', '300-400', '400-500', '500-1000', '1000-1500', '1500-2000', '2000-10000', '10000-50000', '50000-100000', '100000-500000', '500000-1000000', '>1000000']\n",
    "\n",
    "# Create a new column with the binned values\n",
    "#gr_data['bbe_scores'] = pd.cut(gr_data['bbe_score'], bins=bin_edges, labels=bin_labels)\n",
    "\n",
    "# Drop the original column\n",
    "#gr_data.drop('bbe_score', axis=1, inplace=True)\n",
    "\n",
    "# Rename the new column\n",
    "#gr_data.rename(columns={'bbe_scores': 'bbe_score'}, inplace=True)\n"
   ]
  },
  {
   "cell_type": "code",
   "execution_count": null,
   "id": "be3c51e8",
   "metadata": {},
   "outputs": [],
   "source": [
    "#gr_data['bbe_score'].value_counts()"
   ]
  },
  {
   "cell_type": "code",
   "execution_count": null,
   "id": "2074361a",
   "metadata": {},
   "outputs": [],
   "source": [
    "#import matplotlib.pyplot as plt\n",
    "\n",
    "#counts = gr_data['bbe_score'].value_counts()\n",
    "#counts.plot(kind='bar')\n",
    "#plt.xlabel('Score')\n",
    "#plt.ylabel('Count')\n",
    "#plt.show()\n"
   ]
  },
  {
   "cell_type": "code",
   "execution_count": null,
   "id": "bf2750aa",
   "metadata": {},
   "outputs": [],
   "source": [
    "#gr_data['bbe_score']"
   ]
  },
  {
   "cell_type": "code",
   "execution_count": null,
   "id": "2018a2d4",
   "metadata": {},
   "outputs": [],
   "source": []
  },
  {
   "cell_type": "code",
   "execution_count": null,
   "id": "b990fdf8",
   "metadata": {},
   "outputs": [],
   "source": []
  },
  {
   "cell_type": "markdown",
   "id": "e10dbdb7",
   "metadata": {},
   "source": [
    "### bbe_vote"
   ]
  },
  {
   "cell_type": "code",
   "execution_count": 143,
   "id": "1d23d767",
   "metadata": {},
   "outputs": [
    {
     "data": {
      "text/plain": [
       "0"
      ]
     },
     "execution_count": 143,
     "metadata": {},
     "output_type": "execute_result"
    }
   ],
   "source": [
    "gr_data['bbe_votes'].isna().sum()"
   ]
  },
  {
   "cell_type": "code",
   "execution_count": 144,
   "id": "f2ad1771",
   "metadata": {},
   "outputs": [
    {
     "data": {
      "text/plain": [
       "count    52478.000000\n",
       "mean        22.529003\n",
       "std        369.158541\n",
       "min         -4.000000\n",
       "25%          1.000000\n",
       "50%          1.000000\n",
       "75%          2.000000\n",
       "max      30516.000000\n",
       "Name: bbe_votes, dtype: float64"
      ]
     },
     "execution_count": 144,
     "metadata": {},
     "output_type": "execute_result"
    }
   ],
   "source": [
    "gr_data['bbe_votes'].describe()"
   ]
  },
  {
   "cell_type": "code",
   "execution_count": 145,
   "id": "843a6543",
   "metadata": {},
   "outputs": [
    {
     "data": {
      "text/plain": [
       "30516"
      ]
     },
     "metadata": {},
     "output_type": "display_data"
    },
    {
     "data": {
      "text/plain": [
       "-4"
      ]
     },
     "metadata": {},
     "output_type": "display_data"
    }
   ],
   "source": [
    "display(gr_data['bbe_votes'].max(), gr_data['bbe_votes'].min())"
   ]
  },
  {
   "cell_type": "code",
   "execution_count": 146,
   "id": "c0992219",
   "metadata": {},
   "outputs": [
    {
     "name": "stdout",
     "output_type": "stream",
     "text": [
      "Negative counts converted to positive:  52\n"
     ]
    }
   ],
   "source": [
    "# Convert negative counts to absolute value\n",
    "count = 0\n",
    "\n",
    "for i, value in enumerate(gr_data['bbe_votes']):\n",
    "    if value < 0:\n",
    "        gr_data.at[i, 'bbe_votes'] = abs(value)\n",
    "        count += 1\n",
    "\n",
    "print(\"Negative counts converted to positive: \",count)"
   ]
  },
  {
   "cell_type": "code",
   "execution_count": 147,
   "id": "77a2372e",
   "metadata": {},
   "outputs": [
    {
     "data": {
      "text/plain": [
       "count    52478.000000\n",
       "mean        22.531975\n",
       "std        369.158359\n",
       "min          0.000000\n",
       "25%          1.000000\n",
       "50%          1.000000\n",
       "75%          2.000000\n",
       "max      30516.000000\n",
       "Name: bbe_votes, dtype: float64"
      ]
     },
     "execution_count": 147,
     "metadata": {},
     "output_type": "execute_result"
    }
   ],
   "source": [
    "gr_data['bbe_votes'].describe()"
   ]
  },
  {
   "cell_type": "code",
   "execution_count": 148,
   "id": "3e7420a2",
   "metadata": {},
   "outputs": [
    {
     "data": {
      "text/plain": [
       "1        34120\n",
       "2         6683\n",
       "3         2799\n",
       "4         1627\n",
       "5          998\n",
       "         ...  \n",
       "760          1\n",
       "306          1\n",
       "302          1\n",
       "323          1\n",
       "30516        1\n",
       "Name: bbe_votes, Length: 645, dtype: int64"
      ]
     },
     "execution_count": 148,
     "metadata": {},
     "output_type": "execute_result"
    }
   ],
   "source": [
    "gr_data['bbe_votes'].value_counts()"
   ]
  },
  {
   "cell_type": "code",
   "execution_count": 149,
   "id": "687f2b81",
   "metadata": {},
   "outputs": [
    {
     "data": {
      "image/png": "[encoded data removed]",
      "text/plain": [
       "<Figure size 1000x500 with 2 Axes>"
      ]
     },
     "metadata": {},
     "output_type": "display_data"
    }
   ],
   "source": [
    "#import matplotlib.pyplot as plt\n",
    "\n",
    "# Create a figure with two subplots, side by side\n",
    "fig, (ax1, ax2) = plt.subplots(1, 2, figsize=(10, 5))\n",
    "\n",
    "# Create a histogram of the 'bbe_votes' column with 50 bins\n",
    "ax1.hist(gr_data['bbe_votes'], bins=50)\n",
    "\n",
    "# Set the x-axis label\n",
    "ax1.set_xlabel('Number of Votes')\n",
    "\n",
    "# Set the y-axis label\n",
    "ax1.set_ylabel('Frequency')\n",
    "\n",
    "# Set the title of the subplot\n",
    "#ax1.set_title('Distribution of Number of Votes in Goodreads Data')\n",
    "\n",
    "# Create a box plot of the 'bbe_votes' column\n",
    "ax2.boxplot(gr_data['bbe_votes'])\n",
    "\n",
    "# Set the y-axis label\n",
    "ax2.set_ylabel('Number of Votes')\n",
    "\n",
    "# Set the title of the subplot\n",
    "#ax2.set_title('Distribution of Number of Votes in Goodreads Data')\n",
    "\n",
    "# Set the overall title of the figure\n",
    "fig.suptitle('Distribution of Number of Votes in Goodreads Data', fontsize=14)\n",
    "\n",
    "# Show the plot\n",
    "plt.show()\n"
   ]
  },
  {
   "cell_type": "code",
   "execution_count": 150,
   "id": "edc66ac7",
   "metadata": {},
   "outputs": [
    {
     "data": {
      "image/png": "[encoded data removed]",
      "text/plain": [
       "<Figure size 640x480 with 1 Axes>"
      ]
     },
     "metadata": {},
     "output_type": "display_data"
    }
   ],
   "source": [
    "# Calculate the logarithm of non-zero values in the \"bbe_votes\" column and store the results in a new Series\n",
    "log_bbe_votes = np.log10(gr_data['bbe_votes'][gr_data['bbe_votes'] > 0])\n",
    "\n",
    "# Create a histogram of the log-transformed \"bbe_votes\" variable\n",
    "plt.hist(log_bbe_votes, bins=20)\n",
    "\n",
    "# Add axis labels and a title to the plot\n",
    "plt.xlabel('log10(bbe_votes)')\n",
    "plt.ylabel('Frequency')\n",
    "plt.title('Histogram of bbe_votes (log scale)')\n",
    "\n",
    "# Display the plot\n",
    "plt.show()\n"
   ]
  },
  {
   "cell_type": "code",
   "execution_count": 151,
   "id": "ffd9bec9",
   "metadata": {},
   "outputs": [],
   "source": [
    "# Log Transform\n",
    "# Calculate the logarithm of non-zero values in the bbe_votes column and store the results in a new Series\n",
    "nonzero_votes_log = np.log10(gr_data.loc[gr_data['bbe_votes'] > 0, 'bbe_votes'])\n",
    "\n",
    "# Replace the original bbe_votes column with the new logarithmic values\n",
    "gr_data.loc[gr_data['bbe_votes'] > 0, 'bbe_votes'] = nonzero_votes_log\n"
   ]
  },
  {
   "cell_type": "code",
   "execution_count": null,
   "id": "72a1ddee",
   "metadata": {},
   "outputs": [],
   "source": []
  },
  {
   "cell_type": "markdown",
   "id": "e66a1d4a",
   "metadata": {},
   "source": [
    "### price"
   ]
  },
  {
   "cell_type": "code",
   "execution_count": 152,
   "id": "41436273",
   "metadata": {},
   "outputs": [
    {
     "data": {
      "text/plain": [
       "14377"
      ]
     },
     "execution_count": 152,
     "metadata": {},
     "output_type": "execute_result"
    }
   ],
   "source": [
    "gr_data['price'].isna().sum()"
   ]
  },
  {
   "cell_type": "code",
   "execution_count": 153,
   "id": "1b723ec9",
   "metadata": {},
   "outputs": [
    {
     "data": {
      "text/html": [
       "<div>\n",
       "<style scoped>\n",
       "    .dataframe tbody tr th:only-of-type {\n",
       "        vertical-align: middle;\n",
       "    }\n",
       "\n",
       "    .dataframe tbody tr th {\n",
       "        vertical-align: top;\n",
       "    }\n",
       "\n",
       "    .dataframe thead th {\n",
       "        text-align: right;\n",
       "    }\n",
       "</style>\n",
       "<table border=\"1\" class=\"dataframe\">\n",
       "  <thead>\n",
       "    <tr style=\"text-align: right;\">\n",
       "      <th></th>\n",
       "      <th>title</th>\n",
       "      <th>author</th>\n",
       "      <th>price</th>\n",
       "    </tr>\n",
       "  </thead>\n",
       "  <tbody>\n",
       "    <tr>\n",
       "      <th>2</th>\n",
       "      <td>To Kill a Mockingbird</td>\n",
       "      <td>Harper Lee</td>\n",
       "      <td>NaN</td>\n",
       "    </tr>\n",
       "    <tr>\n",
       "      <th>3</th>\n",
       "      <td>Pride and Prejudice</td>\n",
       "      <td>Jane Austen</td>\n",
       "      <td>NaN</td>\n",
       "    </tr>\n",
       "    <tr>\n",
       "      <th>7</th>\n",
       "      <td>The Chronicles of Narnia</td>\n",
       "      <td>C.S. Lewis</td>\n",
       "      <td>NaN</td>\n",
       "    </tr>\n",
       "    <tr>\n",
       "      <th>10</th>\n",
       "      <td>The Fault in Our Stars</td>\n",
       "      <td>John Green</td>\n",
       "      <td>NaN</td>\n",
       "    </tr>\n",
       "    <tr>\n",
       "      <th>11</th>\n",
       "      <td>The Hitchhiker's Guide to the Galaxy</td>\n",
       "      <td>Douglas Adams</td>\n",
       "      <td>NaN</td>\n",
       "    </tr>\n",
       "    <tr>\n",
       "      <th>...</th>\n",
       "      <td>...</td>\n",
       "      <td>...</td>\n",
       "      <td>...</td>\n",
       "    </tr>\n",
       "    <tr>\n",
       "      <th>52467</th>\n",
       "      <td>Undetected</td>\n",
       "      <td>Anna Hackett</td>\n",
       "      <td>NaN</td>\n",
       "    </tr>\n",
       "    <tr>\n",
       "      <th>52468</th>\n",
       "      <td>Nameless Fate</td>\n",
       "      <td>Stephanie West</td>\n",
       "      <td>NaN</td>\n",
       "    </tr>\n",
       "    <tr>\n",
       "      <th>52471</th>\n",
       "      <td>Elemental</td>\n",
       "      <td>Kim Richardson</td>\n",
       "      <td>NaN</td>\n",
       "    </tr>\n",
       "    <tr>\n",
       "      <th>52473</th>\n",
       "      <td>Fractured</td>\n",
       "      <td>Cheri Schmidt</td>\n",
       "      <td>NaN</td>\n",
       "    </tr>\n",
       "    <tr>\n",
       "      <th>52474</th>\n",
       "      <td>Anasazi</td>\n",
       "      <td>Emma Michaels</td>\n",
       "      <td>NaN</td>\n",
       "    </tr>\n",
       "  </tbody>\n",
       "</table>\n",
       "<p>14377 rows × 3 columns</p>\n",
       "</div>"
      ],
      "text/plain": [
       "                                      title          author  price\n",
       "2                     To Kill a Mockingbird      Harper Lee    NaN\n",
       "3                       Pride and Prejudice     Jane Austen    NaN\n",
       "7                  The Chronicles of Narnia      C.S. Lewis    NaN\n",
       "10                   The Fault in Our Stars      John Green    NaN\n",
       "11     The Hitchhiker's Guide to the Galaxy   Douglas Adams    NaN\n",
       "...                                     ...             ...    ...\n",
       "52467                            Undetected    Anna Hackett    NaN\n",
       "52468                         Nameless Fate  Stephanie West    NaN\n",
       "52471                             Elemental  Kim Richardson    NaN\n",
       "52473                             Fractured   Cheri Schmidt    NaN\n",
       "52474                               Anasazi   Emma Michaels    NaN\n",
       "\n",
       "[14377 rows x 3 columns]"
      ]
     },
     "execution_count": 153,
     "metadata": {},
     "output_type": "execute_result"
    }
   ],
   "source": [
    "nan_prices = gr_data[gr_data['price'].isna()][['title', 'author', 'price']]\n",
    "nan_prices\n"
   ]
  },
  {
   "cell_type": "code",
   "execution_count": 170,
   "id": "8e07d097",
   "metadata": {},
   "outputs": [
    {
     "name": "stdout",
     "output_type": "stream",
     "text": [
      "There is a  27.0 % of NaN values for price\n"
     ]
    }
   ],
   "source": [
    "print(\"There is a \",round(len(nan_prices)/len(gr_data),2)*100,\"% of NaN values for price\")"
   ]
  },
  {
   "cell_type": "code",
   "execution_count": 171,
   "id": "68acf1aa",
   "metadata": {},
   "outputs": [],
   "source": [
    "# Remove column\n",
    "gr_data = gr_data.drop(['price'],axis=1)"
   ]
  },
  {
   "cell_type": "code",
   "execution_count": null,
   "id": "bad1c7ff",
   "metadata": {},
   "outputs": [],
   "source": []
  },
  {
   "cell_type": "code",
   "execution_count": 172,
   "id": "c80dcdd9",
   "metadata": {},
   "outputs": [
    {
     "data": {
      "text/plain": [
       "Index(['title', 'series', 'author', 'rating', 'description', 'language',\n",
       "       'isbn', 'genres', 'pages', 'publisher', 'awards', 'liked_perc',\n",
       "       'bbe_score', 'bbe_votes', '5_stars_num_ratings', '4_stars_num_ratings',\n",
       "       '3_stars_num_ratings', '2_stars_num_ratings', '1_star_num_ratings',\n",
       "       'book_format', 'publish_year', 'first_publish_year', 'log_num_ratings'],\n",
       "      dtype='object')"
      ]
     },
     "execution_count": 172,
     "metadata": {},
     "output_type": "execute_result"
    }
   ],
   "source": [
    "gr_data.columns"
   ]
  },
  {
   "cell_type": "code",
   "execution_count": 173,
   "id": "d45a781a",
   "metadata": {},
   "outputs": [
    {
     "data": {
      "text/plain": [
       "(52478, 23)"
      ]
     },
     "execution_count": 173,
     "metadata": {},
     "output_type": "execute_result"
    }
   ],
   "source": [
    "gr_data.shape"
   ]
  },
  {
   "cell_type": "code",
   "execution_count": 175,
   "id": "baf9d888",
   "metadata": {},
   "outputs": [
    {
     "data": {
      "text/plain": [
       "(52478, 23)"
      ]
     },
     "execution_count": 175,
     "metadata": {},
     "output_type": "execute_result"
    }
   ],
   "source": [
    "# Order columns\n",
    "gr_data[['title', 'series', 'author', 'description', 'language', 'pages','isbn','book_format',\n",
    "         'publish_year','first_publish_year','publisher', 'liked_perc','bbe_score',\n",
    "         'bbe_votes','log_num_ratings','5_stars_num_ratings', '4_stars_num_ratings',\n",
    "         '3_stars_num_ratings', '2_stars_num_ratings','1_star_num_ratings', 'rating',\n",
    "         'genres', 'awards']]\n",
    "\n",
    "gr_data.shape"
   ]
  },
  {
   "cell_type": "code",
   "execution_count": 176,
   "id": "bd16d1fb",
   "metadata": {},
   "outputs": [
    {
     "data": {
      "text/html": [
       "<div>\n",
       "<style scoped>\n",
       "    .dataframe tbody tr th:only-of-type {\n",
       "        vertical-align: middle;\n",
       "    }\n",
       "\n",
       "    .dataframe tbody tr th {\n",
       "        vertical-align: top;\n",
       "    }\n",
       "\n",
       "    .dataframe thead th {\n",
       "        text-align: right;\n",
       "    }\n",
       "</style>\n",
       "<table border=\"1\" class=\"dataframe\">\n",
       "  <thead>\n",
       "    <tr style=\"text-align: right;\">\n",
       "      <th></th>\n",
       "      <th>title</th>\n",
       "      <th>series</th>\n",
       "      <th>author</th>\n",
       "      <th>rating</th>\n",
       "      <th>description</th>\n",
       "      <th>language</th>\n",
       "      <th>isbn</th>\n",
       "      <th>genres</th>\n",
       "      <th>pages</th>\n",
       "      <th>publisher</th>\n",
       "      <th>awards</th>\n",
       "      <th>liked_perc</th>\n",
       "      <th>bbe_score</th>\n",
       "      <th>bbe_votes</th>\n",
       "      <th>5_stars_num_ratings</th>\n",
       "      <th>4_stars_num_ratings</th>\n",
       "      <th>3_stars_num_ratings</th>\n",
       "      <th>2_stars_num_ratings</th>\n",
       "      <th>1_star_num_ratings</th>\n",
       "      <th>book_format</th>\n",
       "      <th>publish_year</th>\n",
       "      <th>first_publish_year</th>\n",
       "      <th>log_num_ratings</th>\n",
       "    </tr>\n",
       "  </thead>\n",
       "  <tbody>\n",
       "    <tr>\n",
       "      <th>0</th>\n",
       "      <td>The Hunger Games</td>\n",
       "      <td>The Hunger Games #1</td>\n",
       "      <td>Suzanne Collins</td>\n",
       "      <td>4.33</td>\n",
       "      <td>WINNING MEANS FAME AND FORTUNE.LOSING MEANS CE...</td>\n",
       "      <td>English</td>\n",
       "      <td>9.78044E+12</td>\n",
       "      <td>['Young Adult', 'Fiction', 'Dystopia', 'Fantas...</td>\n",
       "      <td>374.0</td>\n",
       "      <td>Scholastic Press</td>\n",
       "      <td>['Locus Award Nominee for Best Young Adult Boo...</td>\n",
       "      <td>96.0</td>\n",
       "      <td>6.476225</td>\n",
       "      <td>4.484528</td>\n",
       "      <td>3444695</td>\n",
       "      <td>1921313</td>\n",
       "      <td>745221</td>\n",
       "      <td>171994</td>\n",
       "      <td>93557</td>\n",
       "      <td>Hardcover</td>\n",
       "      <td>2008</td>\n",
       "      <td>2008</td>\n",
       "      <td>6.804602</td>\n",
       "    </tr>\n",
       "    <tr>\n",
       "      <th>1</th>\n",
       "      <td>Harry Potter and the Order of the Phoenix</td>\n",
       "      <td>Harry Potter #5</td>\n",
       "      <td>J.K. Rowling</td>\n",
       "      <td>4.50</td>\n",
       "      <td>There is a door at the end of a silent corrido...</td>\n",
       "      <td>English</td>\n",
       "      <td>9.78044E+12</td>\n",
       "      <td>['Fantasy', 'Young Adult', 'Fiction', 'Magic',...</td>\n",
       "      <td>870.0</td>\n",
       "      <td>Other Publishers</td>\n",
       "      <td>['Bram Stoker Award for Works for Young Reader...</td>\n",
       "      <td>98.0</td>\n",
       "      <td>6.420324</td>\n",
       "      <td>4.430123</td>\n",
       "      <td>1593642</td>\n",
       "      <td>637516</td>\n",
       "      <td>222366</td>\n",
       "      <td>39573</td>\n",
       "      <td>14526</td>\n",
       "      <td>Paperback</td>\n",
       "      <td>2004</td>\n",
       "      <td>2003</td>\n",
       "      <td>6.399262</td>\n",
       "    </tr>\n",
       "    <tr>\n",
       "      <th>2</th>\n",
       "      <td>To Kill a Mockingbird</td>\n",
       "      <td>To Kill a Mockingbird</td>\n",
       "      <td>Harper Lee</td>\n",
       "      <td>4.28</td>\n",
       "      <td>The unforgettable novel of a childhood in a sl...</td>\n",
       "      <td>English</td>\n",
       "      <td>1E+13</td>\n",
       "      <td>['Classics', 'Fiction', 'Historical Fiction', ...</td>\n",
       "      <td>324.0</td>\n",
       "      <td>Harper Perennial Modern Classics</td>\n",
       "      <td>['Pulitzer Prize for Fiction (1961)', 'Audie A...</td>\n",
       "      <td>95.0</td>\n",
       "      <td>6.355911</td>\n",
       "      <td>4.367878</td>\n",
       "      <td>2363896</td>\n",
       "      <td>1333153</td>\n",
       "      <td>573280</td>\n",
       "      <td>149952</td>\n",
       "      <td>80794</td>\n",
       "      <td>Paperback</td>\n",
       "      <td>2006</td>\n",
       "      <td>1960</td>\n",
       "      <td>6.653316</td>\n",
       "    </tr>\n",
       "    <tr>\n",
       "      <th>3</th>\n",
       "      <td>Pride and Prejudice</td>\n",
       "      <td>NaN</td>\n",
       "      <td>Jane Austen</td>\n",
       "      <td>4.26</td>\n",
       "      <td>Alternate cover edition of ISBN 9780679783268S...</td>\n",
       "      <td>English</td>\n",
       "      <td>1E+13</td>\n",
       "      <td>['Classics', 'Fiction', 'Romance', 'Historical...</td>\n",
       "      <td>279.0</td>\n",
       "      <td>Other Publishers</td>\n",
       "      <td>[]</td>\n",
       "      <td>94.0</td>\n",
       "      <td>6.297348</td>\n",
       "      <td>4.310736</td>\n",
       "      <td>1617567</td>\n",
       "      <td>816659</td>\n",
       "      <td>373311</td>\n",
       "      <td>113934</td>\n",
       "      <td>76770</td>\n",
       "      <td>Paperback</td>\n",
       "      <td>2000</td>\n",
       "      <td>2013</td>\n",
       "      <td>6.476867</td>\n",
       "    </tr>\n",
       "    <tr>\n",
       "      <th>4</th>\n",
       "      <td>Twilight</td>\n",
       "      <td>The Twilight Saga #1</td>\n",
       "      <td>Stephenie Meyer</td>\n",
       "      <td>3.60</td>\n",
       "      <td>About three things I was absolutely positive.\\...</td>\n",
       "      <td>English</td>\n",
       "      <td>9.78032E+12</td>\n",
       "      <td>['Young Adult', 'Fantasy', 'Romance', 'Vampire...</td>\n",
       "      <td>501.0</td>\n",
       "      <td>Little, Brown and Company</td>\n",
       "      <td>['Georgia Peach Book Award (2007)', 'Buxtehude...</td>\n",
       "      <td>78.0</td>\n",
       "      <td>6.164189</td>\n",
       "      <td>4.172428</td>\n",
       "      <td>1751460</td>\n",
       "      <td>1113682</td>\n",
       "      <td>1008686</td>\n",
       "      <td>542017</td>\n",
       "      <td>548674</td>\n",
       "      <td>Paperback</td>\n",
       "      <td>2006</td>\n",
       "      <td>2005</td>\n",
       "      <td>6.695877</td>\n",
       "    </tr>\n",
       "    <tr>\n",
       "      <th>...</th>\n",
       "      <td>...</td>\n",
       "      <td>...</td>\n",
       "      <td>...</td>\n",
       "      <td>...</td>\n",
       "      <td>...</td>\n",
       "      <td>...</td>\n",
       "      <td>...</td>\n",
       "      <td>...</td>\n",
       "      <td>...</td>\n",
       "      <td>...</td>\n",
       "      <td>...</td>\n",
       "      <td>...</td>\n",
       "      <td>...</td>\n",
       "      <td>...</td>\n",
       "      <td>...</td>\n",
       "      <td>...</td>\n",
       "      <td>...</td>\n",
       "      <td>...</td>\n",
       "      <td>...</td>\n",
       "      <td>...</td>\n",
       "      <td>...</td>\n",
       "      <td>...</td>\n",
       "      <td>...</td>\n",
       "    </tr>\n",
       "    <tr>\n",
       "      <th>52473</th>\n",
       "      <td>Fractured</td>\n",
       "      <td>Fateful #2</td>\n",
       "      <td>Cheri Schmidt</td>\n",
       "      <td>4.00</td>\n",
       "      <td>The Fateful Trilogy continues with Fractured. ...</td>\n",
       "      <td>English</td>\n",
       "      <td>2.94001E+12</td>\n",
       "      <td>['Vampires', 'Paranormal', 'Young Adult', 'Rom...</td>\n",
       "      <td>0.0</td>\n",
       "      <td>Cheri Schmidt</td>\n",
       "      <td>[]</td>\n",
       "      <td>94.0</td>\n",
       "      <td>0.000000</td>\n",
       "      <td>0.000000</td>\n",
       "      <td>311</td>\n",
       "      <td>310</td>\n",
       "      <td>197</td>\n",
       "      <td>42</td>\n",
       "      <td>11</td>\n",
       "      <td>Ebook</td>\n",
       "      <td>2011</td>\n",
       "      <td>2011</td>\n",
       "      <td>2.940516</td>\n",
       "    </tr>\n",
       "    <tr>\n",
       "      <th>52474</th>\n",
       "      <td>Anasazi</td>\n",
       "      <td>Sense of Truth #2</td>\n",
       "      <td>Emma Michaels</td>\n",
       "      <td>4.19</td>\n",
       "      <td>'Anasazi', sequel to 'The Thirteenth Chime' by...</td>\n",
       "      <td>English</td>\n",
       "      <td>1E+13</td>\n",
       "      <td>['Mystery', 'Young Adult']</td>\n",
       "      <td>190.0</td>\n",
       "      <td>Bokheim Publishing</td>\n",
       "      <td>[]</td>\n",
       "      <td>95.0</td>\n",
       "      <td>0.000000</td>\n",
       "      <td>0.000000</td>\n",
       "      <td>16</td>\n",
       "      <td>14</td>\n",
       "      <td>5</td>\n",
       "      <td>2</td>\n",
       "      <td>0</td>\n",
       "      <td>Paperback</td>\n",
       "      <td>2011</td>\n",
       "      <td>2011</td>\n",
       "      <td>1.579784</td>\n",
       "    </tr>\n",
       "    <tr>\n",
       "      <th>52475</th>\n",
       "      <td>Marked</td>\n",
       "      <td>Soul Guardians #1</td>\n",
       "      <td>Kim Richardson</td>\n",
       "      <td>3.70</td>\n",
       "      <td>--READERS FAVORITE AWARDS WINNER 2011--Sixteen...</td>\n",
       "      <td>English</td>\n",
       "      <td>9.78146E+12</td>\n",
       "      <td>['Fantasy', 'Young Adult', 'Paranormal', 'Ange...</td>\n",
       "      <td>280.0</td>\n",
       "      <td>CreateSpace</td>\n",
       "      <td>[\"Readers' Favorite Book Award (2011)\"]</td>\n",
       "      <td>84.0</td>\n",
       "      <td>0.000000</td>\n",
       "      <td>0.000000</td>\n",
       "      <td>2109</td>\n",
       "      <td>1868</td>\n",
       "      <td>1660</td>\n",
       "      <td>647</td>\n",
       "      <td>390</td>\n",
       "      <td>Paperback</td>\n",
       "      <td>2011</td>\n",
       "      <td>2011</td>\n",
       "      <td>3.824451</td>\n",
       "    </tr>\n",
       "    <tr>\n",
       "      <th>52476</th>\n",
       "      <td>Wayward Son</td>\n",
       "      <td>NaN</td>\n",
       "      <td>Tom Pollack</td>\n",
       "      <td>3.85</td>\n",
       "      <td>A POWERFUL TREMOR UNEARTHS AN ANCIENT SECRETBu...</td>\n",
       "      <td>English</td>\n",
       "      <td>9.78145E+12</td>\n",
       "      <td>['Fiction', 'Mystery', 'Historical Fiction', '...</td>\n",
       "      <td>507.0</td>\n",
       "      <td>Cascada Productions</td>\n",
       "      <td>[]</td>\n",
       "      <td>90.0</td>\n",
       "      <td>0.000000</td>\n",
       "      <td>0.000000</td>\n",
       "      <td>77</td>\n",
       "      <td>78</td>\n",
       "      <td>59</td>\n",
       "      <td>19</td>\n",
       "      <td>5</td>\n",
       "      <td>Paperback</td>\n",
       "      <td>2011</td>\n",
       "      <td>2011</td>\n",
       "      <td>2.378398</td>\n",
       "    </tr>\n",
       "    <tr>\n",
       "      <th>52477</th>\n",
       "      <td>Daughter of Helaman</td>\n",
       "      <td>Stripling Warrior #1</td>\n",
       "      <td>Misty Moncur</td>\n",
       "      <td>4.02</td>\n",
       "      <td>Fighting in Helaman's army is Keturah's deepes...</td>\n",
       "      <td>English</td>\n",
       "      <td>9.7816E+12</td>\n",
       "      <td>['Lds Fiction', 'Historical Fiction', 'Young A...</td>\n",
       "      <td>201.0</td>\n",
       "      <td>Bonneville</td>\n",
       "      <td>[]</td>\n",
       "      <td>90.0</td>\n",
       "      <td>0.000000</td>\n",
       "      <td>0.000000</td>\n",
       "      <td>106</td>\n",
       "      <td>73</td>\n",
       "      <td>42</td>\n",
       "      <td>17</td>\n",
       "      <td>8</td>\n",
       "      <td>Paperback</td>\n",
       "      <td>2011</td>\n",
       "      <td>2011</td>\n",
       "      <td>2.392697</td>\n",
       "    </tr>\n",
       "  </tbody>\n",
       "</table>\n",
       "<p>52478 rows × 23 columns</p>\n",
       "</div>"
      ],
      "text/plain": [
       "                                           title                 series  \\\n",
       "0                               The Hunger Games    The Hunger Games #1   \n",
       "1      Harry Potter and the Order of the Phoenix        Harry Potter #5   \n",
       "2                          To Kill a Mockingbird  To Kill a Mockingbird   \n",
       "3                            Pride and Prejudice                    NaN   \n",
       "4                                       Twilight   The Twilight Saga #1   \n",
       "...                                          ...                    ...   \n",
       "52473                                  Fractured             Fateful #2   \n",
       "52474                                    Anasazi      Sense of Truth #2   \n",
       "52475                                     Marked      Soul Guardians #1   \n",
       "52476                                Wayward Son                    NaN   \n",
       "52477                        Daughter of Helaman   Stripling Warrior #1   \n",
       "\n",
       "                author  rating  \\\n",
       "0      Suzanne Collins    4.33   \n",
       "1         J.K. Rowling    4.50   \n",
       "2           Harper Lee    4.28   \n",
       "3          Jane Austen    4.26   \n",
       "4      Stephenie Meyer    3.60   \n",
       "...                ...     ...   \n",
       "52473    Cheri Schmidt    4.00   \n",
       "52474    Emma Michaels    4.19   \n",
       "52475   Kim Richardson    3.70   \n",
       "52476      Tom Pollack    3.85   \n",
       "52477     Misty Moncur    4.02   \n",
       "\n",
       "                                             description language  \\\n",
       "0      WINNING MEANS FAME AND FORTUNE.LOSING MEANS CE...  English   \n",
       "1      There is a door at the end of a silent corrido...  English   \n",
       "2      The unforgettable novel of a childhood in a sl...  English   \n",
       "3      Alternate cover edition of ISBN 9780679783268S...  English   \n",
       "4      About three things I was absolutely positive.\\...  English   \n",
       "...                                                  ...      ...   \n",
       "52473  The Fateful Trilogy continues with Fractured. ...  English   \n",
       "52474  'Anasazi', sequel to 'The Thirteenth Chime' by...  English   \n",
       "52475  --READERS FAVORITE AWARDS WINNER 2011--Sixteen...  English   \n",
       "52476  A POWERFUL TREMOR UNEARTHS AN ANCIENT SECRETBu...  English   \n",
       "52477  Fighting in Helaman's army is Keturah's deepes...  English   \n",
       "\n",
       "              isbn                                             genres  pages  \\\n",
       "0      9.78044E+12  ['Young Adult', 'Fiction', 'Dystopia', 'Fantas...  374.0   \n",
       "1      9.78044E+12  ['Fantasy', 'Young Adult', 'Fiction', 'Magic',...  870.0   \n",
       "2            1E+13  ['Classics', 'Fiction', 'Historical Fiction', ...  324.0   \n",
       "3            1E+13  ['Classics', 'Fiction', 'Romance', 'Historical...  279.0   \n",
       "4      9.78032E+12  ['Young Adult', 'Fantasy', 'Romance', 'Vampire...  501.0   \n",
       "...            ...                                                ...    ...   \n",
       "52473  2.94001E+12  ['Vampires', 'Paranormal', 'Young Adult', 'Rom...    0.0   \n",
       "52474        1E+13                         ['Mystery', 'Young Adult']  190.0   \n",
       "52475  9.78146E+12  ['Fantasy', 'Young Adult', 'Paranormal', 'Ange...  280.0   \n",
       "52476  9.78145E+12  ['Fiction', 'Mystery', 'Historical Fiction', '...  507.0   \n",
       "52477   9.7816E+12  ['Lds Fiction', 'Historical Fiction', 'Young A...  201.0   \n",
       "\n",
       "                              publisher  \\\n",
       "0                      Scholastic Press   \n",
       "1                      Other Publishers   \n",
       "2      Harper Perennial Modern Classics   \n",
       "3                      Other Publishers   \n",
       "4             Little, Brown and Company   \n",
       "...                                 ...   \n",
       "52473                     Cheri Schmidt   \n",
       "52474                Bokheim Publishing   \n",
       "52475                       CreateSpace   \n",
       "52476               Cascada Productions   \n",
       "52477                        Bonneville   \n",
       "\n",
       "                                                  awards  liked_perc  \\\n",
       "0      ['Locus Award Nominee for Best Young Adult Boo...        96.0   \n",
       "1      ['Bram Stoker Award for Works for Young Reader...        98.0   \n",
       "2      ['Pulitzer Prize for Fiction (1961)', 'Audie A...        95.0   \n",
       "3                                                     []        94.0   \n",
       "4      ['Georgia Peach Book Award (2007)', 'Buxtehude...        78.0   \n",
       "...                                                  ...         ...   \n",
       "52473                                                 []        94.0   \n",
       "52474                                                 []        95.0   \n",
       "52475            [\"Readers' Favorite Book Award (2011)\"]        84.0   \n",
       "52476                                                 []        90.0   \n",
       "52477                                                 []        90.0   \n",
       "\n",
       "       bbe_score  bbe_votes  5_stars_num_ratings  4_stars_num_ratings  \\\n",
       "0       6.476225   4.484528              3444695              1921313   \n",
       "1       6.420324   4.430123              1593642               637516   \n",
       "2       6.355911   4.367878              2363896              1333153   \n",
       "3       6.297348   4.310736              1617567               816659   \n",
       "4       6.164189   4.172428              1751460              1113682   \n",
       "...          ...        ...                  ...                  ...   \n",
       "52473   0.000000   0.000000                  311                  310   \n",
       "52474   0.000000   0.000000                   16                   14   \n",
       "52475   0.000000   0.000000                 2109                 1868   \n",
       "52476   0.000000   0.000000                   77                   78   \n",
       "52477   0.000000   0.000000                  106                   73   \n",
       "\n",
       "       3_stars_num_ratings  2_stars_num_ratings  1_star_num_ratings  \\\n",
       "0                   745221               171994               93557   \n",
       "1                   222366                39573               14526   \n",
       "2                   573280               149952               80794   \n",
       "3                   373311               113934               76770   \n",
       "4                  1008686               542017              548674   \n",
       "...                    ...                  ...                 ...   \n",
       "52473                  197                   42                  11   \n",
       "52474                    5                    2                   0   \n",
       "52475                 1660                  647                 390   \n",
       "52476                   59                   19                   5   \n",
       "52477                   42                   17                   8   \n",
       "\n",
       "      book_format  publish_year  first_publish_year  log_num_ratings  \n",
       "0       Hardcover          2008                2008         6.804602  \n",
       "1       Paperback          2004                2003         6.399262  \n",
       "2       Paperback          2006                1960         6.653316  \n",
       "3       Paperback          2000                2013         6.476867  \n",
       "4       Paperback          2006                2005         6.695877  \n",
       "...           ...           ...                 ...              ...  \n",
       "52473       Ebook          2011                2011         2.940516  \n",
       "52474   Paperback          2011                2011         1.579784  \n",
       "52475   Paperback          2011                2011         3.824451  \n",
       "52476   Paperback          2011                2011         2.378398  \n",
       "52477   Paperback          2011                2011         2.392697  \n",
       "\n",
       "[52478 rows x 23 columns]"
      ]
     },
     "execution_count": 176,
     "metadata": {},
     "output_type": "execute_result"
    }
   ],
   "source": [
    "gr_data"
   ]
  },
  {
   "cell_type": "code",
   "execution_count": 177,
   "id": "e34649bd",
   "metadata": {},
   "outputs": [],
   "source": [
    "# Saving clean dataframe before dealing with genres and awards\n",
    "gr_data.to_csv('gr_data_clean_cat_num.csv')"
   ]
  },
  {
   "cell_type": "code",
   "execution_count": null,
   "id": "550e831d",
   "metadata": {},
   "outputs": [],
   "source": []
  },
  {
   "cell_type": "markdown",
   "id": "d6052c0d",
   "metadata": {},
   "source": [
    "## Extracting values and cleaning Genres and Awards"
   ]
  },
  {
   "cell_type": "markdown",
   "id": "1565bcd2",
   "metadata": {},
   "source": [
    "My goal is to utilize the abundance of distinct genres and awards names by transforming it into numerical values, which can be used then to create a linear regression model for forecasting the rating of individual books, along with a book recommendation system.\n",
    "\n",
    "\n",
    "As the data arrangement is not suitable for it (multiple values are contained in lists within strings for each row), in the following steps, I will explain how I obtained the new 0 and 1 dataframes for 'genres' and 'awards'."
   ]
  },
  {
   "cell_type": "code",
   "execution_count": 185,
   "id": "cb7d9589",
   "metadata": {},
   "outputs": [
    {
     "data": {
      "text/plain": [
       "(52478, 23)"
      ]
     },
     "execution_count": 185,
     "metadata": {},
     "output_type": "execute_result"
    }
   ],
   "source": [
    "gr_data = pd.read_csv('gr_data_clean_cat_num.csv')\n",
    "gr_data = gr_data.drop(['Unnamed: 0'],axis=1)\n",
    "gr_data.shape"
   ]
  },
  {
   "cell_type": "code",
   "execution_count": 186,
   "id": "b1f1a919",
   "metadata": {},
   "outputs": [
    {
     "data": {
      "text/html": [
       "<div>\n",
       "<style scoped>\n",
       "    .dataframe tbody tr th:only-of-type {\n",
       "        vertical-align: middle;\n",
       "    }\n",
       "\n",
       "    .dataframe tbody tr th {\n",
       "        vertical-align: top;\n",
       "    }\n",
       "\n",
       "    .dataframe thead th {\n",
       "        text-align: right;\n",
       "    }\n",
       "</style>\n",
       "<table border=\"1\" class=\"dataframe\">\n",
       "  <thead>\n",
       "    <tr style=\"text-align: right;\">\n",
       "      <th></th>\n",
       "      <th>title</th>\n",
       "      <th>series</th>\n",
       "      <th>author</th>\n",
       "      <th>rating</th>\n",
       "      <th>description</th>\n",
       "      <th>language</th>\n",
       "      <th>isbn</th>\n",
       "      <th>genres</th>\n",
       "      <th>pages</th>\n",
       "      <th>publisher</th>\n",
       "      <th>awards</th>\n",
       "      <th>liked_perc</th>\n",
       "      <th>bbe_score</th>\n",
       "      <th>bbe_votes</th>\n",
       "      <th>5_stars_num_ratings</th>\n",
       "      <th>4_stars_num_ratings</th>\n",
       "      <th>3_stars_num_ratings</th>\n",
       "      <th>2_stars_num_ratings</th>\n",
       "      <th>1_star_num_ratings</th>\n",
       "      <th>book_format</th>\n",
       "      <th>publish_year</th>\n",
       "      <th>first_publish_year</th>\n",
       "      <th>log_num_ratings</th>\n",
       "    </tr>\n",
       "  </thead>\n",
       "  <tbody>\n",
       "    <tr>\n",
       "      <th>0</th>\n",
       "      <td>The Hunger Games</td>\n",
       "      <td>The Hunger Games #1</td>\n",
       "      <td>Suzanne Collins</td>\n",
       "      <td>4.33</td>\n",
       "      <td>WINNING MEANS FAME AND FORTUNE.LOSING MEANS CE...</td>\n",
       "      <td>English</td>\n",
       "      <td>9.78044E+12</td>\n",
       "      <td>['Young Adult', 'Fiction', 'Dystopia', 'Fantas...</td>\n",
       "      <td>374.0</td>\n",
       "      <td>Scholastic Press</td>\n",
       "      <td>['Locus Award Nominee for Best Young Adult Boo...</td>\n",
       "      <td>96.0</td>\n",
       "      <td>6.476225</td>\n",
       "      <td>4.484528</td>\n",
       "      <td>3444695</td>\n",
       "      <td>1921313</td>\n",
       "      <td>745221</td>\n",
       "      <td>171994</td>\n",
       "      <td>93557</td>\n",
       "      <td>Hardcover</td>\n",
       "      <td>2008</td>\n",
       "      <td>2008</td>\n",
       "      <td>6.804602</td>\n",
       "    </tr>\n",
       "    <tr>\n",
       "      <th>1</th>\n",
       "      <td>Harry Potter and the Order of the Phoenix</td>\n",
       "      <td>Harry Potter #5</td>\n",
       "      <td>J.K. Rowling</td>\n",
       "      <td>4.50</td>\n",
       "      <td>There is a door at the end of a silent corrido...</td>\n",
       "      <td>English</td>\n",
       "      <td>9.78044E+12</td>\n",
       "      <td>['Fantasy', 'Young Adult', 'Fiction', 'Magic',...</td>\n",
       "      <td>870.0</td>\n",
       "      <td>Other Publishers</td>\n",
       "      <td>['Bram Stoker Award for Works for Young Reader...</td>\n",
       "      <td>98.0</td>\n",
       "      <td>6.420324</td>\n",
       "      <td>4.430123</td>\n",
       "      <td>1593642</td>\n",
       "      <td>637516</td>\n",
       "      <td>222366</td>\n",
       "      <td>39573</td>\n",
       "      <td>14526</td>\n",
       "      <td>Paperback</td>\n",
       "      <td>2004</td>\n",
       "      <td>2003</td>\n",
       "      <td>6.399262</td>\n",
       "    </tr>\n",
       "    <tr>\n",
       "      <th>2</th>\n",
       "      <td>To Kill a Mockingbird</td>\n",
       "      <td>To Kill a Mockingbird</td>\n",
       "      <td>Harper Lee</td>\n",
       "      <td>4.28</td>\n",
       "      <td>The unforgettable novel of a childhood in a sl...</td>\n",
       "      <td>English</td>\n",
       "      <td>1E+13</td>\n",
       "      <td>['Classics', 'Fiction', 'Historical Fiction', ...</td>\n",
       "      <td>324.0</td>\n",
       "      <td>Harper Perennial Modern Classics</td>\n",
       "      <td>['Pulitzer Prize for Fiction (1961)', 'Audie A...</td>\n",
       "      <td>95.0</td>\n",
       "      <td>6.355911</td>\n",
       "      <td>4.367878</td>\n",
       "      <td>2363896</td>\n",
       "      <td>1333153</td>\n",
       "      <td>573280</td>\n",
       "      <td>149952</td>\n",
       "      <td>80794</td>\n",
       "      <td>Paperback</td>\n",
       "      <td>2006</td>\n",
       "      <td>1960</td>\n",
       "      <td>6.653316</td>\n",
       "    </tr>\n",
       "    <tr>\n",
       "      <th>3</th>\n",
       "      <td>Pride and Prejudice</td>\n",
       "      <td>NaN</td>\n",
       "      <td>Jane Austen</td>\n",
       "      <td>4.26</td>\n",
       "      <td>Alternate cover edition of ISBN 9780679783268S...</td>\n",
       "      <td>English</td>\n",
       "      <td>1E+13</td>\n",
       "      <td>['Classics', 'Fiction', 'Romance', 'Historical...</td>\n",
       "      <td>279.0</td>\n",
       "      <td>Other Publishers</td>\n",
       "      <td>[]</td>\n",
       "      <td>94.0</td>\n",
       "      <td>6.297348</td>\n",
       "      <td>4.310736</td>\n",
       "      <td>1617567</td>\n",
       "      <td>816659</td>\n",
       "      <td>373311</td>\n",
       "      <td>113934</td>\n",
       "      <td>76770</td>\n",
       "      <td>Paperback</td>\n",
       "      <td>2000</td>\n",
       "      <td>2013</td>\n",
       "      <td>6.476867</td>\n",
       "    </tr>\n",
       "    <tr>\n",
       "      <th>4</th>\n",
       "      <td>Twilight</td>\n",
       "      <td>The Twilight Saga #1</td>\n",
       "      <td>Stephenie Meyer</td>\n",
       "      <td>3.60</td>\n",
       "      <td>About three things I was absolutely positive.\\...</td>\n",
       "      <td>English</td>\n",
       "      <td>9.78032E+12</td>\n",
       "      <td>['Young Adult', 'Fantasy', 'Romance', 'Vampire...</td>\n",
       "      <td>501.0</td>\n",
       "      <td>Little, Brown and Company</td>\n",
       "      <td>['Georgia Peach Book Award (2007)', 'Buxtehude...</td>\n",
       "      <td>78.0</td>\n",
       "      <td>6.164189</td>\n",
       "      <td>4.172428</td>\n",
       "      <td>1751460</td>\n",
       "      <td>1113682</td>\n",
       "      <td>1008686</td>\n",
       "      <td>542017</td>\n",
       "      <td>548674</td>\n",
       "      <td>Paperback</td>\n",
       "      <td>2006</td>\n",
       "      <td>2005</td>\n",
       "      <td>6.695877</td>\n",
       "    </tr>\n",
       "    <tr>\n",
       "      <th>...</th>\n",
       "      <td>...</td>\n",
       "      <td>...</td>\n",
       "      <td>...</td>\n",
       "      <td>...</td>\n",
       "      <td>...</td>\n",
       "      <td>...</td>\n",
       "      <td>...</td>\n",
       "      <td>...</td>\n",
       "      <td>...</td>\n",
       "      <td>...</td>\n",
       "      <td>...</td>\n",
       "      <td>...</td>\n",
       "      <td>...</td>\n",
       "      <td>...</td>\n",
       "      <td>...</td>\n",
       "      <td>...</td>\n",
       "      <td>...</td>\n",
       "      <td>...</td>\n",
       "      <td>...</td>\n",
       "      <td>...</td>\n",
       "      <td>...</td>\n",
       "      <td>...</td>\n",
       "      <td>...</td>\n",
       "    </tr>\n",
       "    <tr>\n",
       "      <th>52473</th>\n",
       "      <td>Fractured</td>\n",
       "      <td>Fateful #2</td>\n",
       "      <td>Cheri Schmidt</td>\n",
       "      <td>4.00</td>\n",
       "      <td>The Fateful Trilogy continues with Fractured. ...</td>\n",
       "      <td>English</td>\n",
       "      <td>2.94001E+12</td>\n",
       "      <td>['Vampires', 'Paranormal', 'Young Adult', 'Rom...</td>\n",
       "      <td>0.0</td>\n",
       "      <td>Cheri Schmidt</td>\n",
       "      <td>[]</td>\n",
       "      <td>94.0</td>\n",
       "      <td>0.000000</td>\n",
       "      <td>0.000000</td>\n",
       "      <td>311</td>\n",
       "      <td>310</td>\n",
       "      <td>197</td>\n",
       "      <td>42</td>\n",
       "      <td>11</td>\n",
       "      <td>Ebook</td>\n",
       "      <td>2011</td>\n",
       "      <td>2011</td>\n",
       "      <td>2.940516</td>\n",
       "    </tr>\n",
       "    <tr>\n",
       "      <th>52474</th>\n",
       "      <td>Anasazi</td>\n",
       "      <td>Sense of Truth #2</td>\n",
       "      <td>Emma Michaels</td>\n",
       "      <td>4.19</td>\n",
       "      <td>'Anasazi', sequel to 'The Thirteenth Chime' by...</td>\n",
       "      <td>English</td>\n",
       "      <td>1E+13</td>\n",
       "      <td>['Mystery', 'Young Adult']</td>\n",
       "      <td>190.0</td>\n",
       "      <td>Bokheim Publishing</td>\n",
       "      <td>[]</td>\n",
       "      <td>95.0</td>\n",
       "      <td>0.000000</td>\n",
       "      <td>0.000000</td>\n",
       "      <td>16</td>\n",
       "      <td>14</td>\n",
       "      <td>5</td>\n",
       "      <td>2</td>\n",
       "      <td>0</td>\n",
       "      <td>Paperback</td>\n",
       "      <td>2011</td>\n",
       "      <td>2011</td>\n",
       "      <td>1.579784</td>\n",
       "    </tr>\n",
       "    <tr>\n",
       "      <th>52475</th>\n",
       "      <td>Marked</td>\n",
       "      <td>Soul Guardians #1</td>\n",
       "      <td>Kim Richardson</td>\n",
       "      <td>3.70</td>\n",
       "      <td>--READERS FAVORITE AWARDS WINNER 2011--Sixteen...</td>\n",
       "      <td>English</td>\n",
       "      <td>9.78146E+12</td>\n",
       "      <td>['Fantasy', 'Young Adult', 'Paranormal', 'Ange...</td>\n",
       "      <td>280.0</td>\n",
       "      <td>CreateSpace</td>\n",
       "      <td>[\"Readers' Favorite Book Award (2011)\"]</td>\n",
       "      <td>84.0</td>\n",
       "      <td>0.000000</td>\n",
       "      <td>0.000000</td>\n",
       "      <td>2109</td>\n",
       "      <td>1868</td>\n",
       "      <td>1660</td>\n",
       "      <td>647</td>\n",
       "      <td>390</td>\n",
       "      <td>Paperback</td>\n",
       "      <td>2011</td>\n",
       "      <td>2011</td>\n",
       "      <td>3.824451</td>\n",
       "    </tr>\n",
       "    <tr>\n",
       "      <th>52476</th>\n",
       "      <td>Wayward Son</td>\n",
       "      <td>NaN</td>\n",
       "      <td>Tom Pollack</td>\n",
       "      <td>3.85</td>\n",
       "      <td>A POWERFUL TREMOR UNEARTHS AN ANCIENT SECRETBu...</td>\n",
       "      <td>English</td>\n",
       "      <td>9.78145E+12</td>\n",
       "      <td>['Fiction', 'Mystery', 'Historical Fiction', '...</td>\n",
       "      <td>507.0</td>\n",
       "      <td>Cascada Productions</td>\n",
       "      <td>[]</td>\n",
       "      <td>90.0</td>\n",
       "      <td>0.000000</td>\n",
       "      <td>0.000000</td>\n",
       "      <td>77</td>\n",
       "      <td>78</td>\n",
       "      <td>59</td>\n",
       "      <td>19</td>\n",
       "      <td>5</td>\n",
       "      <td>Paperback</td>\n",
       "      <td>2011</td>\n",
       "      <td>2011</td>\n",
       "      <td>2.378398</td>\n",
       "    </tr>\n",
       "    <tr>\n",
       "      <th>52477</th>\n",
       "      <td>Daughter of Helaman</td>\n",
       "      <td>Stripling Warrior #1</td>\n",
       "      <td>Misty Moncur</td>\n",
       "      <td>4.02</td>\n",
       "      <td>Fighting in Helaman's army is Keturah's deepes...</td>\n",
       "      <td>English</td>\n",
       "      <td>9.7816E+12</td>\n",
       "      <td>['Lds Fiction', 'Historical Fiction', 'Young A...</td>\n",
       "      <td>201.0</td>\n",
       "      <td>Bonneville</td>\n",
       "      <td>[]</td>\n",
       "      <td>90.0</td>\n",
       "      <td>0.000000</td>\n",
       "      <td>0.000000</td>\n",
       "      <td>106</td>\n",
       "      <td>73</td>\n",
       "      <td>42</td>\n",
       "      <td>17</td>\n",
       "      <td>8</td>\n",
       "      <td>Paperback</td>\n",
       "      <td>2011</td>\n",
       "      <td>2011</td>\n",
       "      <td>2.392697</td>\n",
       "    </tr>\n",
       "  </tbody>\n",
       "</table>\n",
       "<p>52478 rows × 23 columns</p>\n",
       "</div>"
      ],
      "text/plain": [
       "                                           title                 series  \\\n",
       "0                               The Hunger Games    The Hunger Games #1   \n",
       "1      Harry Potter and the Order of the Phoenix        Harry Potter #5   \n",
       "2                          To Kill a Mockingbird  To Kill a Mockingbird   \n",
       "3                            Pride and Prejudice                    NaN   \n",
       "4                                       Twilight   The Twilight Saga #1   \n",
       "...                                          ...                    ...   \n",
       "52473                                  Fractured             Fateful #2   \n",
       "52474                                    Anasazi      Sense of Truth #2   \n",
       "52475                                     Marked      Soul Guardians #1   \n",
       "52476                                Wayward Son                    NaN   \n",
       "52477                        Daughter of Helaman   Stripling Warrior #1   \n",
       "\n",
       "                author  rating  \\\n",
       "0      Suzanne Collins    4.33   \n",
       "1         J.K. Rowling    4.50   \n",
       "2           Harper Lee    4.28   \n",
       "3          Jane Austen    4.26   \n",
       "4      Stephenie Meyer    3.60   \n",
       "...                ...     ...   \n",
       "52473    Cheri Schmidt    4.00   \n",
       "52474    Emma Michaels    4.19   \n",
       "52475   Kim Richardson    3.70   \n",
       "52476      Tom Pollack    3.85   \n",
       "52477     Misty Moncur    4.02   \n",
       "\n",
       "                                             description language  \\\n",
       "0      WINNING MEANS FAME AND FORTUNE.LOSING MEANS CE...  English   \n",
       "1      There is a door at the end of a silent corrido...  English   \n",
       "2      The unforgettable novel of a childhood in a sl...  English   \n",
       "3      Alternate cover edition of ISBN 9780679783268S...  English   \n",
       "4      About three things I was absolutely positive.\\...  English   \n",
       "...                                                  ...      ...   \n",
       "52473  The Fateful Trilogy continues with Fractured. ...  English   \n",
       "52474  'Anasazi', sequel to 'The Thirteenth Chime' by...  English   \n",
       "52475  --READERS FAVORITE AWARDS WINNER 2011--Sixteen...  English   \n",
       "52476  A POWERFUL TREMOR UNEARTHS AN ANCIENT SECRETBu...  English   \n",
       "52477  Fighting in Helaman's army is Keturah's deepes...  English   \n",
       "\n",
       "              isbn                                             genres  pages  \\\n",
       "0      9.78044E+12  ['Young Adult', 'Fiction', 'Dystopia', 'Fantas...  374.0   \n",
       "1      9.78044E+12  ['Fantasy', 'Young Adult', 'Fiction', 'Magic',...  870.0   \n",
       "2            1E+13  ['Classics', 'Fiction', 'Historical Fiction', ...  324.0   \n",
       "3            1E+13  ['Classics', 'Fiction', 'Romance', 'Historical...  279.0   \n",
       "4      9.78032E+12  ['Young Adult', 'Fantasy', 'Romance', 'Vampire...  501.0   \n",
       "...            ...                                                ...    ...   \n",
       "52473  2.94001E+12  ['Vampires', 'Paranormal', 'Young Adult', 'Rom...    0.0   \n",
       "52474        1E+13                         ['Mystery', 'Young Adult']  190.0   \n",
       "52475  9.78146E+12  ['Fantasy', 'Young Adult', 'Paranormal', 'Ange...  280.0   \n",
       "52476  9.78145E+12  ['Fiction', 'Mystery', 'Historical Fiction', '...  507.0   \n",
       "52477   9.7816E+12  ['Lds Fiction', 'Historical Fiction', 'Young A...  201.0   \n",
       "\n",
       "                              publisher  \\\n",
       "0                      Scholastic Press   \n",
       "1                      Other Publishers   \n",
       "2      Harper Perennial Modern Classics   \n",
       "3                      Other Publishers   \n",
       "4             Little, Brown and Company   \n",
       "...                                 ...   \n",
       "52473                     Cheri Schmidt   \n",
       "52474                Bokheim Publishing   \n",
       "52475                       CreateSpace   \n",
       "52476               Cascada Productions   \n",
       "52477                        Bonneville   \n",
       "\n",
       "                                                  awards  liked_perc  \\\n",
       "0      ['Locus Award Nominee for Best Young Adult Boo...        96.0   \n",
       "1      ['Bram Stoker Award for Works for Young Reader...        98.0   \n",
       "2      ['Pulitzer Prize for Fiction (1961)', 'Audie A...        95.0   \n",
       "3                                                     []        94.0   \n",
       "4      ['Georgia Peach Book Award (2007)', 'Buxtehude...        78.0   \n",
       "...                                                  ...         ...   \n",
       "52473                                                 []        94.0   \n",
       "52474                                                 []        95.0   \n",
       "52475            [\"Readers' Favorite Book Award (2011)\"]        84.0   \n",
       "52476                                                 []        90.0   \n",
       "52477                                                 []        90.0   \n",
       "\n",
       "       bbe_score  bbe_votes  5_stars_num_ratings  4_stars_num_ratings  \\\n",
       "0       6.476225   4.484528              3444695              1921313   \n",
       "1       6.420324   4.430123              1593642               637516   \n",
       "2       6.355911   4.367878              2363896              1333153   \n",
       "3       6.297348   4.310736              1617567               816659   \n",
       "4       6.164189   4.172428              1751460              1113682   \n",
       "...          ...        ...                  ...                  ...   \n",
       "52473   0.000000   0.000000                  311                  310   \n",
       "52474   0.000000   0.000000                   16                   14   \n",
       "52475   0.000000   0.000000                 2109                 1868   \n",
       "52476   0.000000   0.000000                   77                   78   \n",
       "52477   0.000000   0.000000                  106                   73   \n",
       "\n",
       "       3_stars_num_ratings  2_stars_num_ratings  1_star_num_ratings  \\\n",
       "0                   745221               171994               93557   \n",
       "1                   222366                39573               14526   \n",
       "2                   573280               149952               80794   \n",
       "3                   373311               113934               76770   \n",
       "4                  1008686               542017              548674   \n",
       "...                    ...                  ...                 ...   \n",
       "52473                  197                   42                  11   \n",
       "52474                    5                    2                   0   \n",
       "52475                 1660                  647                 390   \n",
       "52476                   59                   19                   5   \n",
       "52477                   42                   17                   8   \n",
       "\n",
       "      book_format  publish_year  first_publish_year  log_num_ratings  \n",
       "0       Hardcover          2008                2008         6.804602  \n",
       "1       Paperback          2004                2003         6.399262  \n",
       "2       Paperback          2006                1960         6.653316  \n",
       "3       Paperback          2000                2013         6.476867  \n",
       "4       Paperback          2006                2005         6.695877  \n",
       "...           ...           ...                 ...              ...  \n",
       "52473       Ebook          2011                2011         2.940516  \n",
       "52474   Paperback          2011                2011         1.579784  \n",
       "52475   Paperback          2011                2011         3.824451  \n",
       "52476   Paperback          2011                2011         2.378398  \n",
       "52477   Paperback          2011                2011         2.392697  \n",
       "\n",
       "[52478 rows x 23 columns]"
      ]
     },
     "execution_count": 186,
     "metadata": {},
     "output_type": "execute_result"
    }
   ],
   "source": [
    "gr_data"
   ]
  },
  {
   "cell_type": "markdown",
   "id": "eb5a8acf",
   "metadata": {},
   "source": [
    "### Genres"
   ]
  },
  {
   "cell_type": "markdown",
   "id": "a24dbf30",
   "metadata": {},
   "source": [
    "There were 980 unique genres included in the lists genres for each book (52.478). My goal here was to reduce the amount of genres (final count: 609), transpose those unique genres as new columns and stablish a binary system where:\n",
    "\n",
    "        - 0 = genre not included in the genres list of that specific book\n",
    "        - 1 = genre included in the genres list of that specific book\n",
    "\n",
    "\n",
    "In the transposition, I had to deal with NaN values as well as books with empty lists of genres in the original dataframe ('[]' are included in a new column 'unknown'). Last, I also deleted unique genres that somehow where included but were not listed in any book.\n",
    "\n",
    "\n",
    "As all of this processes were very time consuming, I worked on different kernels that can be found in the *'0. Drafts'* folder: \n",
    "\n",
    "\n",
    "- goodreads_genres_REDUCTION\n",
    "\n",
    "To reduce the list of unique genres I created a dictionary where I grouped very similar unique genres or that I thought that expressed the same information (still can be improved). Then I looped through the original dataframe and replaced those genres for the key. I also check the frequency of those genres and got a genres_list of unique values.\n",
    "\n",
    "\n",
    "- goodreads_genres_NEWDF\n",
    "\n",
    "Then I created an empty dataframe where columns were named after the items in genres_list. After that, I generated new rows for each book (indexes from the original dataframe were included for next merge) and assign binary values if the genre was present or not in its list of genres.\n",
    "\n",
    "\n",
    "\n",
    "\n",
    "The output of these processes is the following imported genres_df dataframe:"
   ]
  },
  {
   "cell_type": "code",
   "execution_count": null,
   "id": "bb45ff32",
   "metadata": {},
   "outputs": [],
   "source": [
    "#gr_data = pd.read_csv('./1. Original_df/GoodReads.Best_Books_Ever 2.csv')"
   ]
  },
  {
   "cell_type": "code",
   "execution_count": 187,
   "id": "81f74ee9",
   "metadata": {},
   "outputs": [],
   "source": [
    "# Import new genres dataframe\n",
    "genres_df = pd.read_csv('./0. Drafts/genres_clean_dataset.csv')\n",
    "genres_df = genres_df.drop(['Unnamed: 0'],axis=1)"
   ]
  },
  {
   "cell_type": "code",
   "execution_count": 188,
   "id": "6caf0c6d",
   "metadata": {},
   "outputs": [
    {
     "data": {
      "text/html": [
       "<div>\n",
       "<style scoped>\n",
       "    .dataframe tbody tr th:only-of-type {\n",
       "        vertical-align: middle;\n",
       "    }\n",
       "\n",
       "    .dataframe tbody tr th {\n",
       "        vertical-align: top;\n",
       "    }\n",
       "\n",
       "    .dataframe thead th {\n",
       "        text-align: right;\n",
       "    }\n",
       "</style>\n",
       "<table border=\"1\" class=\"dataframe\">\n",
       "  <thead>\n",
       "    <tr style=\"text-align: right;\">\n",
       "      <th></th>\n",
       "      <th>index_gr_data</th>\n",
       "      <th>fantasy</th>\n",
       "      <th>science fiction</th>\n",
       "      <th>dystopia</th>\n",
       "      <th>young adult</th>\n",
       "      <th>fiction</th>\n",
       "      <th>action</th>\n",
       "      <th>adventure</th>\n",
       "      <th>romance</th>\n",
       "      <th>magic</th>\n",
       "      <th>children</th>\n",
       "      <th>audiobook</th>\n",
       "      <th>school</th>\n",
       "      <th>classics</th>\n",
       "      <th>historical fiction</th>\n",
       "      <th>...</th>\n",
       "      <th>graphic novel and comics.1</th>\n",
       "      <th>guides and travel.1</th>\n",
       "      <th>social justice and activism.1</th>\n",
       "      <th>business and finance.1</th>\n",
       "      <th>mythology and fairy tales.1</th>\n",
       "      <th>programming and computer science.1</th>\n",
       "      <th>diary and journal.1</th>\n",
       "      <th>unknown</th>\n",
       "      <th>cars and motorcycles.1</th>\n",
       "      <th>bande dessinée</th>\n",
       "      <th>sewing and crafts.1</th>\n",
       "      <th>tv and series.1</th>\n",
       "      <th>maps and cartography.1</th>\n",
       "      <th>漫画</th>\n",
       "      <th>veganism and vegetarianism.1</th>\n",
       "    </tr>\n",
       "  </thead>\n",
       "  <tbody>\n",
       "    <tr>\n",
       "      <th>0</th>\n",
       "      <td>0</td>\n",
       "      <td>1</td>\n",
       "      <td>1</td>\n",
       "      <td>1</td>\n",
       "      <td>1</td>\n",
       "      <td>1</td>\n",
       "      <td>1</td>\n",
       "      <td>1</td>\n",
       "      <td>1</td>\n",
       "      <td>0</td>\n",
       "      <td>0</td>\n",
       "      <td>0</td>\n",
       "      <td>0</td>\n",
       "      <td>0</td>\n",
       "      <td>0</td>\n",
       "      <td>...</td>\n",
       "      <td>0</td>\n",
       "      <td>0</td>\n",
       "      <td>0</td>\n",
       "      <td>0</td>\n",
       "      <td>0</td>\n",
       "      <td>0</td>\n",
       "      <td>0</td>\n",
       "      <td>0</td>\n",
       "      <td>0</td>\n",
       "      <td>0</td>\n",
       "      <td>0</td>\n",
       "      <td>0</td>\n",
       "      <td>0</td>\n",
       "      <td>0</td>\n",
       "      <td>0</td>\n",
       "    </tr>\n",
       "    <tr>\n",
       "      <th>1</th>\n",
       "      <td>1</td>\n",
       "      <td>1</td>\n",
       "      <td>1</td>\n",
       "      <td>0</td>\n",
       "      <td>1</td>\n",
       "      <td>1</td>\n",
       "      <td>0</td>\n",
       "      <td>1</td>\n",
       "      <td>0</td>\n",
       "      <td>1</td>\n",
       "      <td>1</td>\n",
       "      <td>1</td>\n",
       "      <td>1</td>\n",
       "      <td>1</td>\n",
       "      <td>0</td>\n",
       "      <td>...</td>\n",
       "      <td>0</td>\n",
       "      <td>0</td>\n",
       "      <td>0</td>\n",
       "      <td>0</td>\n",
       "      <td>0</td>\n",
       "      <td>0</td>\n",
       "      <td>0</td>\n",
       "      <td>0</td>\n",
       "      <td>0</td>\n",
       "      <td>0</td>\n",
       "      <td>0</td>\n",
       "      <td>0</td>\n",
       "      <td>0</td>\n",
       "      <td>0</td>\n",
       "      <td>0</td>\n",
       "    </tr>\n",
       "    <tr>\n",
       "      <th>2</th>\n",
       "      <td>2</td>\n",
       "      <td>0</td>\n",
       "      <td>0</td>\n",
       "      <td>0</td>\n",
       "      <td>1</td>\n",
       "      <td>1</td>\n",
       "      <td>0</td>\n",
       "      <td>0</td>\n",
       "      <td>0</td>\n",
       "      <td>0</td>\n",
       "      <td>0</td>\n",
       "      <td>0</td>\n",
       "      <td>1</td>\n",
       "      <td>1</td>\n",
       "      <td>1</td>\n",
       "      <td>...</td>\n",
       "      <td>0</td>\n",
       "      <td>0</td>\n",
       "      <td>0</td>\n",
       "      <td>0</td>\n",
       "      <td>0</td>\n",
       "      <td>0</td>\n",
       "      <td>0</td>\n",
       "      <td>0</td>\n",
       "      <td>0</td>\n",
       "      <td>0</td>\n",
       "      <td>0</td>\n",
       "      <td>0</td>\n",
       "      <td>0</td>\n",
       "      <td>0</td>\n",
       "      <td>0</td>\n",
       "    </tr>\n",
       "  </tbody>\n",
       "</table>\n",
       "<p>3 rows × 610 columns</p>\n",
       "</div>"
      ],
      "text/plain": [
       "   index_gr_data  fantasy  science fiction  dystopia  young adult  fiction  \\\n",
       "0              0        1                1         1            1        1   \n",
       "1              1        1                1         0            1        1   \n",
       "2              2        0                0         0            1        1   \n",
       "\n",
       "   action  adventure  romance  magic  children  audiobook  school  classics  \\\n",
       "0       1          1        1      0         0          0       0         0   \n",
       "1       0          1        0      1         1          1       1         1   \n",
       "2       0          0        0      0         0          0       1         1   \n",
       "\n",
       "   historical fiction  ...  graphic novel and comics.1  guides and travel.1  \\\n",
       "0                   0  ...                           0                    0   \n",
       "1                   0  ...                           0                    0   \n",
       "2                   1  ...                           0                    0   \n",
       "\n",
       "   social justice and activism.1  business and finance.1  \\\n",
       "0                              0                       0   \n",
       "1                              0                       0   \n",
       "2                              0                       0   \n",
       "\n",
       "   mythology and fairy tales.1  programming and computer science.1  \\\n",
       "0                            0                                   0   \n",
       "1                            0                                   0   \n",
       "2                            0                                   0   \n",
       "\n",
       "   diary and journal.1  unknown  cars and motorcycles.1  bande dessinée  \\\n",
       "0                    0        0                       0               0   \n",
       "1                    0        0                       0               0   \n",
       "2                    0        0                       0               0   \n",
       "\n",
       "   sewing and crafts.1  tv and series.1  maps and cartography.1  漫画  \\\n",
       "0                    0                0                       0   0   \n",
       "1                    0                0                       0   0   \n",
       "2                    0                0                       0   0   \n",
       "\n",
       "   veganism and vegetarianism.1  \n",
       "0                             0  \n",
       "1                             0  \n",
       "2                             0  \n",
       "\n",
       "[3 rows x 610 columns]"
      ]
     },
     "metadata": {},
     "output_type": "display_data"
    },
    {
     "data": {
      "text/plain": [
       "(52478, 610)"
      ]
     },
     "metadata": {},
     "output_type": "display_data"
    }
   ],
   "source": [
    "display(genres_df.head(3), genres_df.shape)"
   ]
  },
  {
   "cell_type": "code",
   "execution_count": 189,
   "id": "42a03138",
   "metadata": {},
   "outputs": [
    {
     "data": {
      "text/plain": [
       "\"['Young Adult', 'Fiction', 'Dystopia', 'Fantasy', 'Science Fiction', 'Romance', 'Adventure', 'Teen', 'Post Apocalyptic', 'Action']\""
      ]
     },
     "execution_count": 189,
     "metadata": {},
     "output_type": "execute_result"
    }
   ],
   "source": [
    "# Checking correspondance\n",
    "gr_data['genres'][0]"
   ]
  },
  {
   "cell_type": "code",
   "execution_count": 190,
   "id": "cde48ac7",
   "metadata": {},
   "outputs": [
    {
     "data": {
      "text/plain": [
       "\"['Fantasy', 'Young Adult', 'Fiction', 'Magic', 'Childrens', 'Adventure', 'Audiobook', 'Middle Grade', 'Classics', 'Science Fiction Fantasy']\""
      ]
     },
     "execution_count": 190,
     "metadata": {},
     "output_type": "execute_result"
    }
   ],
   "source": [
    "gr_data['genres'][1]"
   ]
  },
  {
   "cell_type": "code",
   "execution_count": 191,
   "id": "d4e273ff",
   "metadata": {},
   "outputs": [
    {
     "name": "stdout",
     "output_type": "stream",
     "text": [
      "Unique genres:  609\n"
     ]
    }
   ],
   "source": [
    "# Unique genres (= length of columns - index_gr_data)\n",
    "unique_genres = len(genres_df.columns)-1\n",
    "print(\"Unique genres: \", unique_genres)"
   ]
  },
  {
   "cell_type": "code",
   "execution_count": 192,
   "id": "64e6fa37",
   "metadata": {},
   "outputs": [
    {
     "data": {
      "text/plain": [
       "0"
      ]
     },
     "execution_count": 192,
     "metadata": {},
     "output_type": "execute_result"
    }
   ],
   "source": [
    "# No NaN present\n",
    "genres_df.isna().sum().sum()"
   ]
  },
  {
   "cell_type": "markdown",
   "id": "ccfdaf00",
   "metadata": {},
   "source": [
    "##### Correlation Matrix"
   ]
  },
  {
   "cell_type": "markdown",
   "id": "667200a5",
   "metadata": {},
   "source": [
    "Before merging into the original dataframe, I will check for multicollinearity to determine if there are any other variables (columns) that can be removed."
   ]
  },
  {
   "cell_type": "code",
   "execution_count": 193,
   "id": "23e6f55e",
   "metadata": {},
   "outputs": [],
   "source": [
    "# Drop column with the identifier row\n",
    "X = genres_df.drop(['index_gr_data'],axis=1)"
   ]
  },
  {
   "cell_type": "markdown",
   "id": "ab2f7111",
   "metadata": {},
   "source": [
    "To display the correlation matrix for my dataframe which contains 609 columns, I will create a new table that only includes pairs of variables where the correlation coefficient is greater than 0.6 or less than -0.6."
   ]
  },
  {
   "cell_type": "code",
   "execution_count": 194,
   "id": "31c9d9c5",
   "metadata": {},
   "outputs": [
    {
     "data": {
      "text/html": [
       "<div>\n",
       "<style scoped>\n",
       "    .dataframe tbody tr th:only-of-type {\n",
       "        vertical-align: middle;\n",
       "    }\n",
       "\n",
       "    .dataframe tbody tr th {\n",
       "        vertical-align: top;\n",
       "    }\n",
       "\n",
       "    .dataframe thead th {\n",
       "        text-align: right;\n",
       "    }\n",
       "</style>\n",
       "<table border=\"1\" class=\"dataframe\">\n",
       "  <thead>\n",
       "    <tr style=\"text-align: right;\">\n",
       "      <th></th>\n",
       "      <th>row name</th>\n",
       "      <th>col name</th>\n",
       "      <th>corr number</th>\n",
       "    </tr>\n",
       "  </thead>\n",
       "  <tbody>\n",
       "    <tr>\n",
       "      <th>46</th>\n",
       "      <td>climbing</td>\n",
       "      <td>mountaineering</td>\n",
       "      <td>0.856316</td>\n",
       "    </tr>\n",
       "    <tr>\n",
       "      <th>17</th>\n",
       "      <td>plays</td>\n",
       "      <td>theatre</td>\n",
       "      <td>0.817993</td>\n",
       "    </tr>\n",
       "    <tr>\n",
       "      <th>24</th>\n",
       "      <td>regency</td>\n",
       "      <td>regency romance</td>\n",
       "      <td>0.808399</td>\n",
       "    </tr>\n",
       "    <tr>\n",
       "      <th>37</th>\n",
       "      <td>amish</td>\n",
       "      <td>amish fiction</td>\n",
       "      <td>0.785103</td>\n",
       "    </tr>\n",
       "    <tr>\n",
       "      <th>21</th>\n",
       "      <td>christmas</td>\n",
       "      <td>holiday</td>\n",
       "      <td>0.730082</td>\n",
       "    </tr>\n",
       "    <tr>\n",
       "      <th>42</th>\n",
       "      <td>lesbian fiction</td>\n",
       "      <td>lesbian romance</td>\n",
       "      <td>0.729616</td>\n",
       "    </tr>\n",
       "    <tr>\n",
       "      <th>30</th>\n",
       "      <td>american revolution</td>\n",
       "      <td>american revolutionary war</td>\n",
       "      <td>0.721487</td>\n",
       "    </tr>\n",
       "    <tr>\n",
       "      <th>39</th>\n",
       "      <td>love inspired</td>\n",
       "      <td>love inspired historical</td>\n",
       "      <td>0.707073</td>\n",
       "    </tr>\n",
       "    <tr>\n",
       "      <th>3</th>\n",
       "      <td>historical</td>\n",
       "      <td>historical fiction</td>\n",
       "      <td>0.698049</td>\n",
       "    </tr>\n",
       "    <tr>\n",
       "      <th>32</th>\n",
       "      <td>money</td>\n",
       "      <td>personal finance</td>\n",
       "      <td>0.679218</td>\n",
       "    </tr>\n",
       "    <tr>\n",
       "      <th>8</th>\n",
       "      <td>christian fiction</td>\n",
       "      <td>christianity</td>\n",
       "      <td>0.674856</td>\n",
       "    </tr>\n",
       "    <tr>\n",
       "      <th>6</th>\n",
       "      <td>paranormal</td>\n",
       "      <td>paranormal romance</td>\n",
       "      <td>0.656790</td>\n",
       "    </tr>\n",
       "    <tr>\n",
       "      <th>23</th>\n",
       "      <td>prehistoric</td>\n",
       "      <td>prehistory</td>\n",
       "      <td>0.655378</td>\n",
       "    </tr>\n",
       "    <tr>\n",
       "      <th>43</th>\n",
       "      <td>cthulhu mythos</td>\n",
       "      <td>lovecraftian</td>\n",
       "      <td>0.654843</td>\n",
       "    </tr>\n",
       "    <tr>\n",
       "      <th>41</th>\n",
       "      <td>brain</td>\n",
       "      <td>neuroscience</td>\n",
       "      <td>0.648871</td>\n",
       "    </tr>\n",
       "    <tr>\n",
       "      <th>51</th>\n",
       "      <td>business and finance.1</td>\n",
       "      <td>money</td>\n",
       "      <td>0.647366</td>\n",
       "    </tr>\n",
       "    <tr>\n",
       "      <th>29</th>\n",
       "      <td>american civil war</td>\n",
       "      <td>civil war</td>\n",
       "      <td>0.646624</td>\n",
       "    </tr>\n",
       "    <tr>\n",
       "      <th>28</th>\n",
       "      <td>personal development</td>\n",
       "      <td>self help</td>\n",
       "      <td>0.642891</td>\n",
       "    </tr>\n",
       "    <tr>\n",
       "      <th>19</th>\n",
       "      <td>counting</td>\n",
       "      <td>number</td>\n",
       "      <td>0.639539</td>\n",
       "    </tr>\n",
       "    <tr>\n",
       "      <th>15</th>\n",
       "      <td>mystery thriller</td>\n",
       "      <td>thriller</td>\n",
       "      <td>0.633191</td>\n",
       "    </tr>\n",
       "    <tr>\n",
       "      <th>0</th>\n",
       "      <td>fantasy</td>\n",
       "      <td>science fiction</td>\n",
       "      <td>0.631002</td>\n",
       "    </tr>\n",
       "    <tr>\n",
       "      <th>14</th>\n",
       "      <td>crime</td>\n",
       "      <td>mystery thriller</td>\n",
       "      <td>0.624613</td>\n",
       "    </tr>\n",
       "    <tr>\n",
       "      <th>50</th>\n",
       "      <td>shounen ai</td>\n",
       "      <td>yaoi</td>\n",
       "      <td>0.620032</td>\n",
       "    </tr>\n",
       "    <tr>\n",
       "      <th>13</th>\n",
       "      <td>suspense</td>\n",
       "      <td>thriller</td>\n",
       "      <td>0.611209</td>\n",
       "    </tr>\n",
       "    <tr>\n",
       "      <th>26</th>\n",
       "      <td>medical</td>\n",
       "      <td>medicine</td>\n",
       "      <td>0.609798</td>\n",
       "    </tr>\n",
       "    <tr>\n",
       "      <th>5</th>\n",
       "      <td>paranormal</td>\n",
       "      <td>urban fantasy</td>\n",
       "      <td>0.606845</td>\n",
       "    </tr>\n",
       "  </tbody>\n",
       "</table>\n",
       "</div>"
      ],
      "text/plain": [
       "                  row name                    col name  corr number\n",
       "46                climbing              mountaineering     0.856316\n",
       "17                   plays                     theatre     0.817993\n",
       "24                 regency             regency romance     0.808399\n",
       "37                   amish               amish fiction     0.785103\n",
       "21               christmas                     holiday     0.730082\n",
       "42         lesbian fiction             lesbian romance     0.729616\n",
       "30     american revolution  american revolutionary war     0.721487\n",
       "39           love inspired    love inspired historical     0.707073\n",
       "3               historical          historical fiction     0.698049\n",
       "32                   money            personal finance     0.679218\n",
       "8        christian fiction                christianity     0.674856\n",
       "6               paranormal          paranormal romance     0.656790\n",
       "23             prehistoric                  prehistory     0.655378\n",
       "43          cthulhu mythos                lovecraftian     0.654843\n",
       "41                   brain                neuroscience     0.648871\n",
       "51  business and finance.1                       money     0.647366\n",
       "29      american civil war                   civil war     0.646624\n",
       "28    personal development                   self help     0.642891\n",
       "19                counting                      number     0.639539\n",
       "15        mystery thriller                    thriller     0.633191\n",
       "0                  fantasy             science fiction     0.631002\n",
       "14                   crime            mystery thriller     0.624613\n",
       "50              shounen ai                        yaoi     0.620032\n",
       "13                suspense                    thriller     0.611209\n",
       "26                 medical                    medicine     0.609798\n",
       "5               paranormal               urban fantasy     0.606845"
      ]
     },
     "metadata": {},
     "output_type": "display_data"
    },
    {
     "data": {
      "text/plain": [
       "26"
      ]
     },
     "metadata": {},
     "output_type": "display_data"
    }
   ],
   "source": [
    "# Calculate the correlation matrix\n",
    "corr_matrix = X.corr()\n",
    "\n",
    "# Get the indices of non-NaN values in the correlation matrix\n",
    "indices = [(row, col) for row in corr_matrix.index for col in corr_matrix.columns if not pd.isna(corr_matrix.loc[row, col])]\n",
    "\n",
    "# Create a DataFrame with the row name, column name, and correlation number for each\n",
    "# non-NaN value in the correlation matrix that meets the condition and where row name\n",
    "# and col name are different\n",
    "df = pd.DataFrame([(idx[0], idx[1], corr_matrix.loc[idx]) for idx in indices if (corr_matrix.loc[idx] > 0.6 or corr_matrix.loc[idx] < -0.6) and idx[0] != idx[1]], columns=['row name', 'col name', 'corr number'])\n",
    "\n",
    "# Drop duplicate rows where row name is greater than col name\n",
    "df = df[df['row name'] < df['col name']]\n",
    "\n",
    "# Sort the DataFrame by the correlation number in descending order\n",
    "df = df.sort_values(by='corr number', ascending=False)\n",
    "\n",
    "# Print the sorted DataFrame\n",
    "display(df, len(df))\n"
   ]
  },
  {
   "cell_type": "markdown",
   "id": "46f6754f",
   "metadata": {},
   "source": [
    "There are 8 pairs of variables that have a correlation greater than 0.7, indicating potential multicollinearity. To determine which variable to remove, I will consider the frequency of each one."
   ]
  },
  {
   "cell_type": "code",
   "execution_count": 195,
   "id": "a81954ae",
   "metadata": {},
   "outputs": [],
   "source": [
    "#import numpy as np\n",
    "\n",
    "# Columns for row and column counts\n",
    "df['row count'] = 0\n",
    "df['col count'] = 0\n",
    "\n",
    "# Loop over rows in 'df' dataframe\n",
    "for idx, row in df.iterrows():\n",
    "    # Get the row name and column name from the current row\n",
    "    row_name = row['row name']\n",
    "    col_name = row['col name']\n",
    "    \n",
    "    # Get the corresponding column from the 'X' dataframe\n",
    "    row_col = X[row_name]\n",
    "    col_col = X[col_name]\n",
    "    \n",
    "    # Count the sum of values (0,1) in the row and column\n",
    "    row_count = row_col.sum()\n",
    "    col_count = col_col.sum()\n",
    "    \n",
    "    # Add the counts to the 'df' dataframe\n",
    "    df.at[idx, 'row count'] = row_count\n",
    "    df.at[idx, 'col count'] = col_count\n",
    "\n",
    "# Sort 'row name' and 'col name' columns alphabetically to drop duplicates later\n",
    "df[['row name', 'col name']] = np.sort(df[['row name', 'col name']], axis=1)\n",
    "\n",
    "# Drop duplicates, keeping the row with the highest correlation number\n",
    "#df = df.sort_values(by='corr number', ascending=False)\n",
    "df = df.drop_duplicates(subset=['row name', 'col name'], keep='first')\n",
    "\n",
    "# Sort by 'corr number' and reset index\n",
    "df = df.sort_values(by='corr number', ascending=False).reset_index(drop=True)\n"
   ]
  },
  {
   "cell_type": "markdown",
   "id": "d5dd7b3e",
   "metadata": {},
   "source": [
    "        - '.at' is a method used to access and modify a single value in a Pandas DataFrame at a specific row and column. "
   ]
  },
  {
   "cell_type": "code",
   "execution_count": 196,
   "id": "e9256455",
   "metadata": {},
   "outputs": [
    {
     "data": {
      "text/html": [
       "<div>\n",
       "<style scoped>\n",
       "    .dataframe tbody tr th:only-of-type {\n",
       "        vertical-align: middle;\n",
       "    }\n",
       "\n",
       "    .dataframe tbody tr th {\n",
       "        vertical-align: top;\n",
       "    }\n",
       "\n",
       "    .dataframe thead th {\n",
       "        text-align: right;\n",
       "    }\n",
       "</style>\n",
       "<table border=\"1\" class=\"dataframe\">\n",
       "  <thead>\n",
       "    <tr style=\"text-align: right;\">\n",
       "      <th></th>\n",
       "      <th>row name</th>\n",
       "      <th>col name</th>\n",
       "      <th>corr number</th>\n",
       "      <th>row count</th>\n",
       "      <th>col count</th>\n",
       "    </tr>\n",
       "  </thead>\n",
       "  <tbody>\n",
       "    <tr>\n",
       "      <th>0</th>\n",
       "      <td>climbing</td>\n",
       "      <td>mountaineering</td>\n",
       "      <td>0.856316</td>\n",
       "      <td>11</td>\n",
       "      <td>15</td>\n",
       "    </tr>\n",
       "    <tr>\n",
       "      <th>1</th>\n",
       "      <td>plays</td>\n",
       "      <td>theatre</td>\n",
       "      <td>0.817993</td>\n",
       "      <td>443</td>\n",
       "      <td>353</td>\n",
       "    </tr>\n",
       "    <tr>\n",
       "      <th>2</th>\n",
       "      <td>regency</td>\n",
       "      <td>regency romance</td>\n",
       "      <td>0.808399</td>\n",
       "      <td>406</td>\n",
       "      <td>274</td>\n",
       "    </tr>\n",
       "    <tr>\n",
       "      <th>3</th>\n",
       "      <td>amish</td>\n",
       "      <td>amish fiction</td>\n",
       "      <td>0.785103</td>\n",
       "      <td>73</td>\n",
       "      <td>47</td>\n",
       "    </tr>\n",
       "    <tr>\n",
       "      <th>4</th>\n",
       "      <td>christmas</td>\n",
       "      <td>holiday</td>\n",
       "      <td>0.730082</td>\n",
       "      <td>262</td>\n",
       "      <td>176</td>\n",
       "    </tr>\n",
       "    <tr>\n",
       "      <th>5</th>\n",
       "      <td>lesbian fiction</td>\n",
       "      <td>lesbian romance</td>\n",
       "      <td>0.729616</td>\n",
       "      <td>72</td>\n",
       "      <td>76</td>\n",
       "    </tr>\n",
       "    <tr>\n",
       "      <th>6</th>\n",
       "      <td>american revolution</td>\n",
       "      <td>american revolutionary war</td>\n",
       "      <td>0.721487</td>\n",
       "      <td>54</td>\n",
       "      <td>32</td>\n",
       "    </tr>\n",
       "    <tr>\n",
       "      <th>7</th>\n",
       "      <td>love inspired</td>\n",
       "      <td>love inspired historical</td>\n",
       "      <td>0.707073</td>\n",
       "      <td>10</td>\n",
       "      <td>5</td>\n",
       "    </tr>\n",
       "    <tr>\n",
       "      <th>8</th>\n",
       "      <td>historical</td>\n",
       "      <td>historical fiction</td>\n",
       "      <td>0.698049</td>\n",
       "      <td>6383</td>\n",
       "      <td>7665</td>\n",
       "    </tr>\n",
       "    <tr>\n",
       "      <th>9</th>\n",
       "      <td>money</td>\n",
       "      <td>personal finance</td>\n",
       "      <td>0.679218</td>\n",
       "      <td>91</td>\n",
       "      <td>44</td>\n",
       "    </tr>\n",
       "    <tr>\n",
       "      <th>10</th>\n",
       "      <td>christian fiction</td>\n",
       "      <td>christianity</td>\n",
       "      <td>0.674856</td>\n",
       "      <td>1154</td>\n",
       "      <td>2139</td>\n",
       "    </tr>\n",
       "    <tr>\n",
       "      <th>11</th>\n",
       "      <td>paranormal</td>\n",
       "      <td>paranormal romance</td>\n",
       "      <td>0.656790</td>\n",
       "      <td>6030</td>\n",
       "      <td>2912</td>\n",
       "    </tr>\n",
       "    <tr>\n",
       "      <th>12</th>\n",
       "      <td>prehistoric</td>\n",
       "      <td>prehistory</td>\n",
       "      <td>0.655378</td>\n",
       "      <td>35</td>\n",
       "      <td>24</td>\n",
       "    </tr>\n",
       "    <tr>\n",
       "      <th>13</th>\n",
       "      <td>cthulhu mythos</td>\n",
       "      <td>lovecraftian</td>\n",
       "      <td>0.654843</td>\n",
       "      <td>24</td>\n",
       "      <td>47</td>\n",
       "    </tr>\n",
       "    <tr>\n",
       "      <th>14</th>\n",
       "      <td>brain</td>\n",
       "      <td>neuroscience</td>\n",
       "      <td>0.648871</td>\n",
       "      <td>56</td>\n",
       "      <td>82</td>\n",
       "    </tr>\n",
       "    <tr>\n",
       "      <th>15</th>\n",
       "      <td>business and finance.1</td>\n",
       "      <td>money</td>\n",
       "      <td>0.647366</td>\n",
       "      <td>189</td>\n",
       "      <td>91</td>\n",
       "    </tr>\n",
       "    <tr>\n",
       "      <th>16</th>\n",
       "      <td>american civil war</td>\n",
       "      <td>civil war</td>\n",
       "      <td>0.646624</td>\n",
       "      <td>56</td>\n",
       "      <td>129</td>\n",
       "    </tr>\n",
       "    <tr>\n",
       "      <th>17</th>\n",
       "      <td>personal development</td>\n",
       "      <td>self help</td>\n",
       "      <td>0.642891</td>\n",
       "      <td>588</td>\n",
       "      <td>1316</td>\n",
       "    </tr>\n",
       "    <tr>\n",
       "      <th>18</th>\n",
       "      <td>counting</td>\n",
       "      <td>number</td>\n",
       "      <td>0.639539</td>\n",
       "      <td>8</td>\n",
       "      <td>11</td>\n",
       "    </tr>\n",
       "    <tr>\n",
       "      <th>19</th>\n",
       "      <td>mystery thriller</td>\n",
       "      <td>thriller</td>\n",
       "      <td>0.633191</td>\n",
       "      <td>3094</td>\n",
       "      <td>4587</td>\n",
       "    </tr>\n",
       "    <tr>\n",
       "      <th>20</th>\n",
       "      <td>fantasy</td>\n",
       "      <td>science fiction</td>\n",
       "      <td>0.631002</td>\n",
       "      <td>15046</td>\n",
       "      <td>9933</td>\n",
       "    </tr>\n",
       "    <tr>\n",
       "      <th>21</th>\n",
       "      <td>crime</td>\n",
       "      <td>mystery thriller</td>\n",
       "      <td>0.624613</td>\n",
       "      <td>3675</td>\n",
       "      <td>3094</td>\n",
       "    </tr>\n",
       "    <tr>\n",
       "      <th>22</th>\n",
       "      <td>shounen ai</td>\n",
       "      <td>yaoi</td>\n",
       "      <td>0.620032</td>\n",
       "      <td>15</td>\n",
       "      <td>39</td>\n",
       "    </tr>\n",
       "    <tr>\n",
       "      <th>23</th>\n",
       "      <td>suspense</td>\n",
       "      <td>thriller</td>\n",
       "      <td>0.611209</td>\n",
       "      <td>3474</td>\n",
       "      <td>4587</td>\n",
       "    </tr>\n",
       "    <tr>\n",
       "      <th>24</th>\n",
       "      <td>medical</td>\n",
       "      <td>medicine</td>\n",
       "      <td>0.609798</td>\n",
       "      <td>253</td>\n",
       "      <td>176</td>\n",
       "    </tr>\n",
       "    <tr>\n",
       "      <th>25</th>\n",
       "      <td>paranormal</td>\n",
       "      <td>urban fantasy</td>\n",
       "      <td>0.606845</td>\n",
       "      <td>6030</td>\n",
       "      <td>3458</td>\n",
       "    </tr>\n",
       "  </tbody>\n",
       "</table>\n",
       "</div>"
      ],
      "text/plain": [
       "                  row name                    col name  corr number  \\\n",
       "0                 climbing              mountaineering     0.856316   \n",
       "1                    plays                     theatre     0.817993   \n",
       "2                  regency             regency romance     0.808399   \n",
       "3                    amish               amish fiction     0.785103   \n",
       "4                christmas                     holiday     0.730082   \n",
       "5          lesbian fiction             lesbian romance     0.729616   \n",
       "6      american revolution  american revolutionary war     0.721487   \n",
       "7            love inspired    love inspired historical     0.707073   \n",
       "8               historical          historical fiction     0.698049   \n",
       "9                    money            personal finance     0.679218   \n",
       "10       christian fiction                christianity     0.674856   \n",
       "11              paranormal          paranormal romance     0.656790   \n",
       "12             prehistoric                  prehistory     0.655378   \n",
       "13          cthulhu mythos                lovecraftian     0.654843   \n",
       "14                   brain                neuroscience     0.648871   \n",
       "15  business and finance.1                       money     0.647366   \n",
       "16      american civil war                   civil war     0.646624   \n",
       "17    personal development                   self help     0.642891   \n",
       "18                counting                      number     0.639539   \n",
       "19        mystery thriller                    thriller     0.633191   \n",
       "20                 fantasy             science fiction     0.631002   \n",
       "21                   crime            mystery thriller     0.624613   \n",
       "22              shounen ai                        yaoi     0.620032   \n",
       "23                suspense                    thriller     0.611209   \n",
       "24                 medical                    medicine     0.609798   \n",
       "25              paranormal               urban fantasy     0.606845   \n",
       "\n",
       "    row count  col count  \n",
       "0          11         15  \n",
       "1         443        353  \n",
       "2         406        274  \n",
       "3          73         47  \n",
       "4         262        176  \n",
       "5          72         76  \n",
       "6          54         32  \n",
       "7          10          5  \n",
       "8        6383       7665  \n",
       "9          91         44  \n",
       "10       1154       2139  \n",
       "11       6030       2912  \n",
       "12         35         24  \n",
       "13         24         47  \n",
       "14         56         82  \n",
       "15        189         91  \n",
       "16         56        129  \n",
       "17        588       1316  \n",
       "18          8         11  \n",
       "19       3094       4587  \n",
       "20      15046       9933  \n",
       "21       3675       3094  \n",
       "22         15         39  \n",
       "23       3474       4587  \n",
       "24        253        176  \n",
       "25       6030       3458  "
      ]
     },
     "metadata": {},
     "output_type": "display_data"
    },
    {
     "data": {
      "text/plain": [
       "26"
      ]
     },
     "metadata": {},
     "output_type": "display_data"
    }
   ],
   "source": [
    "display(df, len(df))"
   ]
  },
  {
   "cell_type": "markdown",
   "id": "c4a672d2",
   "metadata": {},
   "source": [
    "Using the information from the previous table, I have decided to drop the following variables:\n",
    "\n",
    "- Climbing\n",
    "- Theater\n",
    "- Regency romance\n",
    "- Amish fiction\n",
    "- Holiday\n",
    "- Lesbian fiction\n",
    "- American revolutionary war."
   ]
  },
  {
   "cell_type": "code",
   "execution_count": 197,
   "id": "5f32bcd4",
   "metadata": {},
   "outputs": [
    {
     "data": {
      "text/plain": [
       "(52478, 603)"
      ]
     },
     "execution_count": 197,
     "metadata": {},
     "output_type": "execute_result"
    }
   ],
   "source": [
    "cols_to_drop = ['climbing','theatre','regency romance', 'amish fiction','holiday',\n",
    "               'lesbian fiction','american revolutionary war']\n",
    "\n",
    "# Drop columns\n",
    "genres_df = genres_df.drop(cols_to_drop, axis=1)\n",
    "genres_df.shape"
   ]
  },
  {
   "cell_type": "markdown",
   "id": "3867cb6b",
   "metadata": {},
   "source": [
    "##### Merging dataframes on rows"
   ]
  },
  {
   "cell_type": "code",
   "execution_count": 198,
   "id": "f3e692cb",
   "metadata": {},
   "outputs": [
    {
     "data": {
      "text/plain": [
       "True"
      ]
     },
     "execution_count": 198,
     "metadata": {},
     "output_type": "execute_result"
    }
   ],
   "source": [
    "# Checking both dataframes have the same length\n",
    "len(gr_data) == len(genres_df)"
   ]
  },
  {
   "cell_type": "code",
   "execution_count": 199,
   "id": "cdb540bc",
   "metadata": {},
   "outputs": [
    {
     "data": {
      "text/plain": [
       "0            0\n",
       "1            1\n",
       "2            2\n",
       "3            3\n",
       "4            4\n",
       "         ...  \n",
       "52473    52402\n",
       "52474    52407\n",
       "52475    52436\n",
       "52476    52447\n",
       "52477    52457\n",
       "Name: index_gr_data, Length: 52478, dtype: int64"
      ]
     },
     "execution_count": 199,
     "metadata": {},
     "output_type": "execute_result"
    }
   ],
   "source": [
    "genres_df['index_gr_data']"
   ]
  },
  {
   "cell_type": "code",
   "execution_count": 200,
   "id": "9f6c3f9b",
   "metadata": {},
   "outputs": [],
   "source": [
    "# Merge 'gr_data' with 'genres_df' using 'index_gr_data' as key\n",
    "gr_merged = pd.merge(gr_data, genres_df, left_index=True, right_on='index_gr_data')"
   ]
  },
  {
   "cell_type": "code",
   "execution_count": 201,
   "id": "ac45fc79",
   "metadata": {},
   "outputs": [
    {
     "data": {
      "text/html": [
       "<div>\n",
       "<style scoped>\n",
       "    .dataframe tbody tr th:only-of-type {\n",
       "        vertical-align: middle;\n",
       "    }\n",
       "\n",
       "    .dataframe tbody tr th {\n",
       "        vertical-align: top;\n",
       "    }\n",
       "\n",
       "    .dataframe thead th {\n",
       "        text-align: right;\n",
       "    }\n",
       "</style>\n",
       "<table border=\"1\" class=\"dataframe\">\n",
       "  <thead>\n",
       "    <tr style=\"text-align: right;\">\n",
       "      <th></th>\n",
       "      <th>title</th>\n",
       "      <th>series</th>\n",
       "      <th>author</th>\n",
       "      <th>rating</th>\n",
       "      <th>description</th>\n",
       "      <th>language</th>\n",
       "      <th>isbn</th>\n",
       "      <th>genres</th>\n",
       "      <th>pages</th>\n",
       "      <th>publisher</th>\n",
       "      <th>awards</th>\n",
       "      <th>liked_perc</th>\n",
       "      <th>bbe_score</th>\n",
       "      <th>bbe_votes</th>\n",
       "      <th>5_stars_num_ratings</th>\n",
       "      <th>...</th>\n",
       "      <th>graphic novel and comics.1</th>\n",
       "      <th>guides and travel.1</th>\n",
       "      <th>social justice and activism.1</th>\n",
       "      <th>business and finance.1</th>\n",
       "      <th>mythology and fairy tales.1</th>\n",
       "      <th>programming and computer science.1</th>\n",
       "      <th>diary and journal.1</th>\n",
       "      <th>unknown</th>\n",
       "      <th>cars and motorcycles.1</th>\n",
       "      <th>bande dessinée</th>\n",
       "      <th>sewing and crafts.1</th>\n",
       "      <th>tv and series.1</th>\n",
       "      <th>maps and cartography.1</th>\n",
       "      <th>漫画</th>\n",
       "      <th>veganism and vegetarianism.1</th>\n",
       "    </tr>\n",
       "  </thead>\n",
       "  <tbody>\n",
       "    <tr>\n",
       "      <th>0</th>\n",
       "      <td>The Hunger Games</td>\n",
       "      <td>The Hunger Games #1</td>\n",
       "      <td>Suzanne Collins</td>\n",
       "      <td>4.33</td>\n",
       "      <td>WINNING MEANS FAME AND FORTUNE.LOSING MEANS CE...</td>\n",
       "      <td>English</td>\n",
       "      <td>9.78044E+12</td>\n",
       "      <td>['Young Adult', 'Fiction', 'Dystopia', 'Fantas...</td>\n",
       "      <td>374.0</td>\n",
       "      <td>Scholastic Press</td>\n",
       "      <td>['Locus Award Nominee for Best Young Adult Boo...</td>\n",
       "      <td>96.0</td>\n",
       "      <td>6.476225</td>\n",
       "      <td>4.484528</td>\n",
       "      <td>3444695</td>\n",
       "      <td>...</td>\n",
       "      <td>0</td>\n",
       "      <td>0</td>\n",
       "      <td>0</td>\n",
       "      <td>0</td>\n",
       "      <td>0</td>\n",
       "      <td>0</td>\n",
       "      <td>0</td>\n",
       "      <td>0</td>\n",
       "      <td>0</td>\n",
       "      <td>0</td>\n",
       "      <td>0</td>\n",
       "      <td>0</td>\n",
       "      <td>0</td>\n",
       "      <td>0</td>\n",
       "      <td>0</td>\n",
       "    </tr>\n",
       "    <tr>\n",
       "      <th>1</th>\n",
       "      <td>Harry Potter and the Order of the Phoenix</td>\n",
       "      <td>Harry Potter #5</td>\n",
       "      <td>J.K. Rowling</td>\n",
       "      <td>4.50</td>\n",
       "      <td>There is a door at the end of a silent corrido...</td>\n",
       "      <td>English</td>\n",
       "      <td>9.78044E+12</td>\n",
       "      <td>['Fantasy', 'Young Adult', 'Fiction', 'Magic',...</td>\n",
       "      <td>870.0</td>\n",
       "      <td>Other Publishers</td>\n",
       "      <td>['Bram Stoker Award for Works for Young Reader...</td>\n",
       "      <td>98.0</td>\n",
       "      <td>6.420324</td>\n",
       "      <td>4.430123</td>\n",
       "      <td>1593642</td>\n",
       "      <td>...</td>\n",
       "      <td>0</td>\n",
       "      <td>0</td>\n",
       "      <td>0</td>\n",
       "      <td>0</td>\n",
       "      <td>0</td>\n",
       "      <td>0</td>\n",
       "      <td>0</td>\n",
       "      <td>0</td>\n",
       "      <td>0</td>\n",
       "      <td>0</td>\n",
       "      <td>0</td>\n",
       "      <td>0</td>\n",
       "      <td>0</td>\n",
       "      <td>0</td>\n",
       "      <td>0</td>\n",
       "    </tr>\n",
       "    <tr>\n",
       "      <th>2</th>\n",
       "      <td>To Kill a Mockingbird</td>\n",
       "      <td>To Kill a Mockingbird</td>\n",
       "      <td>Harper Lee</td>\n",
       "      <td>4.28</td>\n",
       "      <td>The unforgettable novel of a childhood in a sl...</td>\n",
       "      <td>English</td>\n",
       "      <td>1E+13</td>\n",
       "      <td>['Classics', 'Fiction', 'Historical Fiction', ...</td>\n",
       "      <td>324.0</td>\n",
       "      <td>Harper Perennial Modern Classics</td>\n",
       "      <td>['Pulitzer Prize for Fiction (1961)', 'Audie A...</td>\n",
       "      <td>95.0</td>\n",
       "      <td>6.355911</td>\n",
       "      <td>4.367878</td>\n",
       "      <td>2363896</td>\n",
       "      <td>...</td>\n",
       "      <td>0</td>\n",
       "      <td>0</td>\n",
       "      <td>0</td>\n",
       "      <td>0</td>\n",
       "      <td>0</td>\n",
       "      <td>0</td>\n",
       "      <td>0</td>\n",
       "      <td>0</td>\n",
       "      <td>0</td>\n",
       "      <td>0</td>\n",
       "      <td>0</td>\n",
       "      <td>0</td>\n",
       "      <td>0</td>\n",
       "      <td>0</td>\n",
       "      <td>0</td>\n",
       "    </tr>\n",
       "  </tbody>\n",
       "</table>\n",
       "<p>3 rows × 626 columns</p>\n",
       "</div>"
      ],
      "text/plain": [
       "                                       title                 series  \\\n",
       "0                           The Hunger Games    The Hunger Games #1   \n",
       "1  Harry Potter and the Order of the Phoenix        Harry Potter #5   \n",
       "2                      To Kill a Mockingbird  To Kill a Mockingbird   \n",
       "\n",
       "            author  rating                                        description  \\\n",
       "0  Suzanne Collins    4.33  WINNING MEANS FAME AND FORTUNE.LOSING MEANS CE...   \n",
       "1     J.K. Rowling    4.50  There is a door at the end of a silent corrido...   \n",
       "2       Harper Lee    4.28  The unforgettable novel of a childhood in a sl...   \n",
       "\n",
       "  language         isbn                                             genres  \\\n",
       "0  English  9.78044E+12  ['Young Adult', 'Fiction', 'Dystopia', 'Fantas...   \n",
       "1  English  9.78044E+12  ['Fantasy', 'Young Adult', 'Fiction', 'Magic',...   \n",
       "2  English        1E+13  ['Classics', 'Fiction', 'Historical Fiction', ...   \n",
       "\n",
       "   pages                         publisher  \\\n",
       "0  374.0                  Scholastic Press   \n",
       "1  870.0                  Other Publishers   \n",
       "2  324.0  Harper Perennial Modern Classics   \n",
       "\n",
       "                                              awards  liked_perc  bbe_score  \\\n",
       "0  ['Locus Award Nominee for Best Young Adult Boo...        96.0   6.476225   \n",
       "1  ['Bram Stoker Award for Works for Young Reader...        98.0   6.420324   \n",
       "2  ['Pulitzer Prize for Fiction (1961)', 'Audie A...        95.0   6.355911   \n",
       "\n",
       "   bbe_votes  5_stars_num_ratings  ...  graphic novel and comics.1  \\\n",
       "0   4.484528              3444695  ...                           0   \n",
       "1   4.430123              1593642  ...                           0   \n",
       "2   4.367878              2363896  ...                           0   \n",
       "\n",
       "   guides and travel.1  social justice and activism.1  business and finance.1  \\\n",
       "0                    0                              0                       0   \n",
       "1                    0                              0                       0   \n",
       "2                    0                              0                       0   \n",
       "\n",
       "  mythology and fairy tales.1  programming and computer science.1  \\\n",
       "0                           0                                   0   \n",
       "1                           0                                   0   \n",
       "2                           0                                   0   \n",
       "\n",
       "   diary and journal.1  unknown  cars and motorcycles.1  bande dessinée  \\\n",
       "0                    0        0                       0               0   \n",
       "1                    0        0                       0               0   \n",
       "2                    0        0                       0               0   \n",
       "\n",
       "   sewing and crafts.1  tv and series.1  maps and cartography.1  漫画  \\\n",
       "0                    0                0                       0   0   \n",
       "1                    0                0                       0   0   \n",
       "2                    0                0                       0   0   \n",
       "\n",
       "   veganism and vegetarianism.1  \n",
       "0                             0  \n",
       "1                             0  \n",
       "2                             0  \n",
       "\n",
       "[3 rows x 626 columns]"
      ]
     },
     "execution_count": 201,
     "metadata": {},
     "output_type": "execute_result"
    }
   ],
   "source": [
    "gr_merged.head(3)"
   ]
  },
  {
   "cell_type": "code",
   "execution_count": 202,
   "id": "92ad729b",
   "metadata": {},
   "outputs": [],
   "source": [
    "# Drop original 'genres' column and ' index_gr_data' \n",
    "gr_merged = gr_merged.drop(['genres','index_gr_data'], axis=1)"
   ]
  },
  {
   "cell_type": "code",
   "execution_count": 203,
   "id": "64f17c77",
   "metadata": {},
   "outputs": [
    {
     "data": {
      "text/plain": [
       "(52478, 624)"
      ]
     },
     "execution_count": 203,
     "metadata": {},
     "output_type": "execute_result"
    }
   ],
   "source": [
    "gr_merged.shape"
   ]
  },
  {
   "cell_type": "code",
   "execution_count": 204,
   "id": "ed501041",
   "metadata": {},
   "outputs": [],
   "source": [
    "# Saving dataset\n",
    "gr_merged.to_csv('gr_merged_genres.csv')"
   ]
  },
  {
   "cell_type": "code",
   "execution_count": null,
   "id": "b67f53f2",
   "metadata": {},
   "outputs": [],
   "source": []
  },
  {
   "cell_type": "markdown",
   "id": "1d597f54",
   "metadata": {},
   "source": [
    "## Awards"
   ]
  },
  {
   "cell_type": "code",
   "execution_count": null,
   "id": "a05f78b4",
   "metadata": {},
   "outputs": [],
   "source": [
    "#gr_data = pd.read_csv('gr_modified_years.csv')"
   ]
  },
  {
   "cell_type": "code",
   "execution_count": null,
   "id": "5d663fee",
   "metadata": {},
   "outputs": [],
   "source": [
    "gr_data['awards'].head(10)"
   ]
  },
  {
   "cell_type": "markdown",
   "id": "a8e96825",
   "metadata": {},
   "source": [
    "Similar to what I did for 'genres', I also reduced unique literary awards from 5831 to 236, extracting each value/award and binning it to the correspondant new group if the count of books awarded with that prize was < 15.\n",
    "\n",
    "Then I also transposed these unique awards as new columns of a new dataframe and stablish a binary system where:\n",
    "\n",
    "        - 0 = award not included in the awards list of that specific book\n",
    "        - 1 = award included in the awards list of that specific book\n",
    "\n",
    "\n",
    "In this case I also worked on a different kernel that can be found in the *'0. Drafts'* folder: \n",
    "\n",
    "\n",
    "- goodreads_awards_NEWDF\n",
    "\n",
    "First I deleted all '(yyyy)' from awards that included a year in the award name. Then I extracted all unique awards into a set and I counted the number of books that won these literary prizes and binned them into new groups:\n",
    "\n",
    "\n",
    "The resulting groups were:\n",
    "\n",
    "    - Number of awards with count = 1: 3518 -------> 'Unique Award (1)'\n",
    "    - Number of awards with count = 2 or 3: 1151 --> 'Uncommon Award (2,3)'\n",
    "    - Number of awards with count = 4-8: 686 ------> 'Singular Award (4-8)'\n",
    "    - Number of awards with count = 9-15: 241 -----> 'Frequently Awarded Literary Prizes (9-15)'\n",
    "\n",
    "\n",
    "\n",
    "I looped through the original lists of awards for each book and changed the names of awards falling into the new bins. Finally, I prepared the new awards dataframe with columns named after the remaining unique or binned awards and filled it with 0s and 1s accordingly.\n",
    "\n",
    "\n",
    "\n",
    "The resulting dataframe is the imported award_df:"
   ]
  },
  {
   "cell_type": "code",
   "execution_count": null,
   "id": "2ecb4031",
   "metadata": {},
   "outputs": [],
   "source": [
    "import pandas as pd\n",
    "\n",
    "award_df = pd.read_csv('./0. Drafts/award_df.csv')\n",
    "award_df = award_df.drop(['Unnamed: 0'],axis=1)"
   ]
  },
  {
   "cell_type": "code",
   "execution_count": null,
   "id": "369de765",
   "metadata": {},
   "outputs": [],
   "source": [
    "display(award_df.head(), award_df.shape)"
   ]
  },
  {
   "cell_type": "code",
   "execution_count": null,
   "id": "c6d211aa",
   "metadata": {},
   "outputs": [],
   "source": []
  }
 ],
 "metadata": {
  "kernelspec": {
   "display_name": "Python 3 (ipykernel)",
   "language": "python",
   "name": "python3"
  },
  "language_info": {
   "codemirror_mode": {
    "name": "ipython",
    "version": 3
   },
   "file_extension": ".py",
   "mimetype": "text/x-python",
   "name": "python",
   "nbconvert_exporter": "python",
   "pygments_lexer": "ipython3",
   "version": "3.9.13"
  }
 },
 "nbformat": 4,
 "nbformat_minor": 5
}
