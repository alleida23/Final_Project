{
 "cells": [
  {
   "cell_type": "code",
   "execution_count": 1,
   "id": "c741419b",
   "metadata": {},
   "outputs": [],
   "source": [
    "import pandas as pd"
   ]
  },
  {
   "cell_type": "code",
   "execution_count": 2,
   "id": "5bccfe8c",
   "metadata": {
    "scrolled": true
   },
   "outputs": [
    {
     "data": {
      "text/html": [
       "<div>\n",
       "<style scoped>\n",
       "    .dataframe tbody tr th:only-of-type {\n",
       "        vertical-align: middle;\n",
       "    }\n",
       "\n",
       "    .dataframe tbody tr th {\n",
       "        vertical-align: top;\n",
       "    }\n",
       "\n",
       "    .dataframe thead th {\n",
       "        text-align: right;\n",
       "    }\n",
       "</style>\n",
       "<table border=\"1\" class=\"dataframe\">\n",
       "  <thead>\n",
       "    <tr style=\"text-align: right;\">\n",
       "      <th></th>\n",
       "      <th>title</th>\n",
       "      <th>series</th>\n",
       "      <th>author</th>\n",
       "      <th>rating</th>\n",
       "      <th>description</th>\n",
       "      <th>language</th>\n",
       "      <th>isbn</th>\n",
       "      <th>genres</th>\n",
       "      <th>characters</th>\n",
       "      <th>bookFormat</th>\n",
       "      <th>...</th>\n",
       "      <th>publishDate</th>\n",
       "      <th>firstPublishDate</th>\n",
       "      <th>awards</th>\n",
       "      <th>numRatings</th>\n",
       "      <th>ratingsByStars</th>\n",
       "      <th>likedPercent</th>\n",
       "      <th>setting</th>\n",
       "      <th>bbeScore</th>\n",
       "      <th>bbeVotes</th>\n",
       "      <th>price</th>\n",
       "    </tr>\n",
       "  </thead>\n",
       "  <tbody>\n",
       "    <tr>\n",
       "      <th>0</th>\n",
       "      <td>The Hunger Games</td>\n",
       "      <td>The Hunger Games #1</td>\n",
       "      <td>Suzanne Collins</td>\n",
       "      <td>4.33</td>\n",
       "      <td>WINNING MEANS FAME AND FORTUNE.LOSING MEANS CE...</td>\n",
       "      <td>English</td>\n",
       "      <td>9.78044E+12</td>\n",
       "      <td>['Fantasy', 'Science Fiction', 'Dystopia', 'Yo...</td>\n",
       "      <td>['Katniss Everdeen', 'Peeta Mellark', 'Cato (H...</td>\n",
       "      <td>Hardcover</td>\n",
       "      <td>...</td>\n",
       "      <td>09/14/08</td>\n",
       "      <td>NaN</td>\n",
       "      <td>['Locus Award Nominee for Best Young Adult Boo...</td>\n",
       "      <td>6376780</td>\n",
       "      <td>['3444695', '1921313', '745221', '171994', '93...</td>\n",
       "      <td>96.0</td>\n",
       "      <td>['District 12, Panem', 'Capitol, Panem', 'Pane...</td>\n",
       "      <td>2993816</td>\n",
       "      <td>30516</td>\n",
       "      <td>5.09</td>\n",
       "    </tr>\n",
       "    <tr>\n",
       "      <th>1</th>\n",
       "      <td>Harry Potter and the Order of the Phoenix</td>\n",
       "      <td>Harry Potter #5</td>\n",
       "      <td>J.K. Rowling, Mary GrandPré (Illustrator)</td>\n",
       "      <td>4.50</td>\n",
       "      <td>There is a door at the end of a silent corrido...</td>\n",
       "      <td>English</td>\n",
       "      <td>9.78044E+12</td>\n",
       "      <td>['Fantasy', 'Science Fiction', 'Magic', 'Young...</td>\n",
       "      <td>['Sirius Black', 'Draco Malfoy', 'Ron Weasley'...</td>\n",
       "      <td>Paperback</td>\n",
       "      <td>...</td>\n",
       "      <td>09/28/04</td>\n",
       "      <td>06/21/03</td>\n",
       "      <td>['Bram Stoker Award for Works for Young Reader...</td>\n",
       "      <td>2507623</td>\n",
       "      <td>['1593642', '637516', '222366', '39573', '14526']</td>\n",
       "      <td>98.0</td>\n",
       "      <td>['Hogwarts School of Witchcraft and Wizardry (...</td>\n",
       "      <td>2632233</td>\n",
       "      <td>26923</td>\n",
       "      <td>7.38</td>\n",
       "    </tr>\n",
       "  </tbody>\n",
       "</table>\n",
       "<p>2 rows × 23 columns</p>\n",
       "</div>"
      ],
      "text/plain": [
       "                                       title               series  \\\n",
       "0                           The Hunger Games  The Hunger Games #1   \n",
       "1  Harry Potter and the Order of the Phoenix      Harry Potter #5   \n",
       "\n",
       "                                      author  rating  \\\n",
       "0                            Suzanne Collins    4.33   \n",
       "1  J.K. Rowling, Mary GrandPré (Illustrator)    4.50   \n",
       "\n",
       "                                         description language         isbn  \\\n",
       "0  WINNING MEANS FAME AND FORTUNE.LOSING MEANS CE...  English  9.78044E+12   \n",
       "1  There is a door at the end of a silent corrido...  English  9.78044E+12   \n",
       "\n",
       "                                              genres  \\\n",
       "0  ['Fantasy', 'Science Fiction', 'Dystopia', 'Yo...   \n",
       "1  ['Fantasy', 'Science Fiction', 'Magic', 'Young...   \n",
       "\n",
       "                                          characters bookFormat  ...  \\\n",
       "0  ['Katniss Everdeen', 'Peeta Mellark', 'Cato (H...  Hardcover  ...   \n",
       "1  ['Sirius Black', 'Draco Malfoy', 'Ron Weasley'...  Paperback  ...   \n",
       "\n",
       "  publishDate firstPublishDate  \\\n",
       "0    09/14/08              NaN   \n",
       "1    09/28/04         06/21/03   \n",
       "\n",
       "                                              awards numRatings  \\\n",
       "0  ['Locus Award Nominee for Best Young Adult Boo...    6376780   \n",
       "1  ['Bram Stoker Award for Works for Young Reader...    2507623   \n",
       "\n",
       "                                      ratingsByStars likedPercent  \\\n",
       "0  ['3444695', '1921313', '745221', '171994', '93...         96.0   \n",
       "1  ['1593642', '637516', '222366', '39573', '14526']         98.0   \n",
       "\n",
       "                                             setting bbeScore  bbeVotes price  \n",
       "0  ['District 12, Panem', 'Capitol, Panem', 'Pane...  2993816     30516  5.09  \n",
       "1  ['Hogwarts School of Witchcraft and Wizardry (...  2632233     26923  7.38  \n",
       "\n",
       "[2 rows x 23 columns]"
      ]
     },
     "metadata": {},
     "output_type": "display_data"
    },
    {
     "data": {
      "text/plain": [
       "(52478, 23)"
      ]
     },
     "metadata": {},
     "output_type": "display_data"
    }
   ],
   "source": [
    "gr_data = pd.read_csv('gr_data_genre_modified.csv')\n",
    "gr_data = gr_data.drop(['Unnamed: 0'],axis=1)\n",
    "display(gr_data.head(2),gr_data.shape)"
   ]
  },
  {
   "cell_type": "markdown",
   "id": "1c79b79f",
   "metadata": {},
   "source": [
    "#### List of unique genres"
   ]
  },
  {
   "cell_type": "code",
   "execution_count": 3,
   "id": "ef0e1a5b",
   "metadata": {},
   "outputs": [
    {
     "name": "stdout",
     "output_type": "stream",
     "text": [
      "Length of uniques genres after cleaning: from 980 to 617\n",
      "\n"
     ]
    }
   ],
   "source": [
    "# Define an empty list to store the genres\n",
    "genres_list = []\n",
    "\n",
    "# Loop through all rows of genres\n",
    "for i in range(len(gr_data)):\n",
    "    # Get the genres for the current row\n",
    "    genres_row = gr_data['genres'][i]\n",
    "\n",
    "    # Remove the square brackets and single quotes\n",
    "    genres_row = genres_row.replace('[','').replace(']','').replace(\"'\",'')\n",
    "\n",
    "    # Split the row into individual genres\n",
    "    genres = genres_row.split(',')\n",
    "\n",
    "    # Loop through each genre in the row\n",
    "    for genre in genres:\n",
    "        # Clean up the genre by removing any extra whitespace and converting to title case\n",
    "        genre = genre.strip().title()\n",
    "        # Check if the genre is not empty and not already in the genres_list\n",
    "        if genre and genre not in genres_list:\n",
    "            # If it contains non-ASCII characters, skip it\n",
    "            if any(ord(c) > 127 for c in genre):\n",
    "                continue\n",
    "            # If it's not in the genres_list, add it\n",
    "            else:\n",
    "                genres_list.append(genre)\n",
    "\n",
    "# Print the final genres list and its length\n",
    "print(\"Length of uniques genres after cleaning: from 980 to\",len(genres_list))\n",
    "print(\"\")\n",
    "#print(genres_list)"
   ]
  },
  {
   "cell_type": "markdown",
   "id": "c1b7f347",
   "metadata": {},
   "source": [
    "### New genre dataframe"
   ]
  },
  {
   "cell_type": "code",
   "execution_count": 4,
   "id": "248f7ac4",
   "metadata": {},
   "outputs": [
    {
     "data": {
      "text/html": [
       "<div>\n",
       "<style scoped>\n",
       "    .dataframe tbody tr th:only-of-type {\n",
       "        vertical-align: middle;\n",
       "    }\n",
       "\n",
       "    .dataframe tbody tr th {\n",
       "        vertical-align: top;\n",
       "    }\n",
       "\n",
       "    .dataframe thead th {\n",
       "        text-align: right;\n",
       "    }\n",
       "</style>\n",
       "<table border=\"1\" class=\"dataframe\">\n",
       "  <thead>\n",
       "    <tr style=\"text-align: right;\">\n",
       "      <th></th>\n",
       "      <th>Fantasy</th>\n",
       "      <th>Science Fiction</th>\n",
       "      <th>Dystopia</th>\n",
       "      <th>Young Adult</th>\n",
       "      <th>Fiction</th>\n",
       "      <th>Action</th>\n",
       "      <th>Adventure</th>\n",
       "      <th>Romance</th>\n",
       "      <th>Magic</th>\n",
       "      <th>Children</th>\n",
       "      <th>...</th>\n",
       "      <th>Low Fantasy</th>\n",
       "      <th>Christian Contemporary Fiction</th>\n",
       "      <th>Battle Of Britain</th>\n",
       "      <th>Aircraft</th>\n",
       "      <th>Go</th>\n",
       "      <th>Civil War History</th>\n",
       "      <th>Racing</th>\n",
       "      <th>Led Zeppelin</th>\n",
       "      <th>10Th Century</th>\n",
       "      <th>Spanish History</th>\n",
       "    </tr>\n",
       "  </thead>\n",
       "  <tbody>\n",
       "  </tbody>\n",
       "</table>\n",
       "<p>0 rows × 617 columns</p>\n",
       "</div>"
      ],
      "text/plain": [
       "Empty DataFrame\n",
       "Columns: [Fantasy, Science Fiction, Dystopia, Young Adult, Fiction, Action, Adventure, Romance, Magic, Children, Audiobook, School, Classics, Historical Fiction, Novels, Literature, Historical, Historical Romance, Adult, Urban Fantasy, Paranormal, Paranormal Romance, Vampires, Holocaust, World War Ii, War, Politics, Christian Fiction, Christianity, Epic Fantasy, Civil War, Love, Drama, Coming Of Age, Contemporary, Comedy, Humor, Poetry, Picture Books, Short Stories, Gothic, 19Th Century, Mystery, Thriller, Suspense, Crime, Mystery Thriller, Asian Countries, Asia, Lgbt, Horror, European Literature, European Countries, Plays, Esoterica, Philosophy, Self Help, Inspirational, Mental Health, North American Countries, Angels, Chick Lit, Animals, Chapter Books, Magical Realism, Time Travel, Iberoamerican Literature, Fairy Tales, Greek Mythology, Mythology, Dragons, Epic, Monsters, Gastronomy, Food And Nutrition, 20Th Century, Feminism, Unfinished, Music And Musicians, Medieval, Apocalyptic, Detective, Victorian, Mental Illness, Psychology, Family, African American Literature, New York, Religion, Ireland, Nonfiction, History, Memoires And Biographies, Eastern Religions And Faith, Africa, Steampunk, Economics, Contemporary Romance, Womens, Lgtbi And Queer, ...]\n",
       "Index: []\n",
       "\n",
       "[0 rows x 617 columns]"
      ]
     },
     "execution_count": 4,
     "metadata": {},
     "output_type": "execute_result"
    }
   ],
   "source": [
    "# New dataframe with columns named with unique genres of genres_list\n",
    "genres_data = pd.DataFrame(columns=genres_list)\n",
    "genres_data"
   ]
  },
  {
   "cell_type": "markdown",
   "id": "4bc6c28e",
   "metadata": {},
   "source": [
    "From the 'goodreads_genre_REDUCTION' dataset, there were some genres with 0 counts that I couldn't remove in the original dataset. Now, I will proceed to drop those columns."
   ]
  },
  {
   "cell_type": "code",
   "execution_count": 5,
   "id": "12ed7195",
   "metadata": {},
   "outputs": [],
   "source": [
    "# Set of genres to delete from the lists\n",
    "to_delete = ['World War Ii', '19Th Century', 'Lgbt', '20Th Century', 'Bdsm', '18Th Century',\n",
    "             'Beauty And The Beast', '14Th Century', '15Th Century', '16Th Century', \n",
    "             'Sword And Sorcery', 'Dungeons And Dragons', '17Th Century', '21St Century',\n",
    "             '13Th Century', '12Th Century', 'Sao Tome And Principe', 'Food And Drink',\n",
    "             'History And Politics', 'Sword And Planet', 'Art And Photography', '2Nd Grade',\n",
    "             '40K', '1St Grade', 'Nsfw', 'Mills And Boon', 'Gender And Sexuality', \n",
    "             '11Th Century', '10Th Century']"
   ]
  },
  {
   "cell_type": "code",
   "execution_count": 6,
   "id": "884aa62b",
   "metadata": {},
   "outputs": [],
   "source": [
    "# Drop the columns from genres_data\n",
    "genres_data = genres_data.drop(to_delete, axis=1)"
   ]
  },
  {
   "cell_type": "code",
   "execution_count": null,
   "id": "9451cdc1",
   "metadata": {},
   "outputs": [],
   "source": [
    "# Looking for rows where genre value is an empty list\n",
    "#empty_genre_rows = gr_data[gr_data['genres'] == '[]']\n",
    "#display(empty_genre_rows.head(3), len(empty_genre_rows))"
   ]
  },
  {
   "cell_type": "code",
   "execution_count": null,
   "id": "44ef18b7",
   "metadata": {},
   "outputs": [],
   "source": [
    "# Filling those empty lists with 'Unknown'\n",
    "#gr_data['genres'].loc[empty_genre_rows.index] = '[Unknown]' * len(empty_genre_rows)"
   ]
  },
  {
   "cell_type": "code",
   "execution_count": null,
   "id": "c219f7e0",
   "metadata": {},
   "outputs": [],
   "source": [
    "# Checking modification worked\n",
    "#empty_genre_check = gr_data[gr_data['genres'] == '[]']\n",
    "#display(empty_genre_check.head(3), len(empty_genre_check))"
   ]
  },
  {
   "cell_type": "code",
   "execution_count": null,
   "id": "e03fff50",
   "metadata": {},
   "outputs": [],
   "source": [
    "#gr_data['genres'][2040]"
   ]
  },
  {
   "cell_type": "code",
   "execution_count": null,
   "id": "9d116edc",
   "metadata": {},
   "outputs": [],
   "source": [
    "# Adding a column for books with 'Unknow' genre\n",
    "#genres_data['Unknown'] = ''"
   ]
  },
  {
   "cell_type": "code",
   "execution_count": 7,
   "id": "d83d45e3",
   "metadata": {},
   "outputs": [
    {
     "data": {
      "text/plain": [
       "Index(['Fantasy', 'Science Fiction', 'Dystopia', 'Young Adult', 'Fiction',\n",
       "       'Action', 'Adventure', 'Romance', 'Magic', 'Children',\n",
       "       ...\n",
       "       'Herbs', 'Low Fantasy', 'Christian Contemporary Fiction',\n",
       "       'Battle Of Britain', 'Aircraft', 'Go', 'Civil War History', 'Racing',\n",
       "       'Led Zeppelin', 'Spanish History'],\n",
       "      dtype='object', length=588)"
      ]
     },
     "execution_count": 7,
     "metadata": {},
     "output_type": "execute_result"
    }
   ],
   "source": [
    "genres_data.columns"
   ]
  },
  {
   "cell_type": "code",
   "execution_count": 8,
   "id": "9243499c",
   "metadata": {},
   "outputs": [
    {
     "data": {
      "text/plain": [
       "(0, 588)"
      ]
     },
     "execution_count": 8,
     "metadata": {},
     "output_type": "execute_result"
    }
   ],
   "source": [
    "genres_data.shape"
   ]
  },
  {
   "cell_type": "code",
   "execution_count": null,
   "id": "a9ced7f2",
   "metadata": {},
   "outputs": [],
   "source": []
  },
  {
   "cell_type": "markdown",
   "id": "d1fa98d5",
   "metadata": {},
   "source": [
    "### Filling genre dataframe"
   ]
  },
  {
   "cell_type": "markdown",
   "id": "db07deac",
   "metadata": {},
   "source": [
    "ast is a built-in Python module that provides a way to work with abstract syntax trees (ASTs) in Python code. In this specific case, ast.literal_eval() is used to safely evaluate a string containing a Python literal structure, such as a list or dictionary, and return the corresponding Python object. This is used to convert a string representation of a list of genres into an actual list that can be iterated over in the subsequent code."
   ]
  },
  {
   "cell_type": "code",
   "execution_count": 9,
   "id": "8093b643",
   "metadata": {},
   "outputs": [
    {
     "name": "stdout",
     "output_type": "stream",
     "text": [
      "Processed row 52478\r"
     ]
    }
   ],
   "source": [
    "import ast\n",
    "\n",
    "# Iterate over each value in gr_data['genres']\n",
    "for i in range(len(gr_data['genres'])):\n",
    "    \n",
    "    # Retrieve the string value of the genres for the current row\n",
    "    genre_list_str = gr_data['genres'][i]\n",
    "    \n",
    "    # Use ast.literal_eval() to convert the string value to a list of genres\n",
    "    genre_list = ast.literal_eval(genre_list_str)\n",
    "\n",
    "    # Check if the list of genres is empty\n",
    "    if len(genre_list) == 0:\n",
    "        \n",
    "        # If the list is empty, set the value of 'Unknown' column to 1\n",
    "        genres_data['Unknown'] = 1\n",
    "        \n",
    "    else:\n",
    "        \n",
    "        # If the list is not empty, iterate over each genre in the list\n",
    "        for genre in genre_list:\n",
    "            \n",
    "            # Check if the genre is already a column in genres_data\n",
    "            if genre in genres_data.columns:\n",
    "                \n",
    "                # If the genre is already a column, add 1 to the corresponding row for the current book\n",
    "                genres_data.loc[i, genre] = 1\n",
    "                \n",
    "            else:\n",
    "                \n",
    "                # If the genre is not already a column, create a new column for the genre with all values set to 0\n",
    "                genres_data[genre] = 0\n",
    "                \n",
    "                # Then, add 1 to the corresponding row for the current book\n",
    "                genres_data.loc[i, genre] = 1\n",
    "    \n",
    "    # Print the current row number being processed\n",
    "    print(f\"Processed row {i+1}\", end=\"\\r\")\n"
   ]
  },
  {
   "cell_type": "code",
   "execution_count": 10,
   "id": "69a3f1fb",
   "metadata": {},
   "outputs": [
    {
     "data": {
      "text/plain": [
       "(47855, 638)"
      ]
     },
     "execution_count": 10,
     "metadata": {},
     "output_type": "execute_result"
    }
   ],
   "source": [
    "genres_data.shape"
   ]
  },
  {
   "cell_type": "code",
   "execution_count": 11,
   "id": "dc312553",
   "metadata": {},
   "outputs": [
    {
     "data": {
      "text/html": [
       "<div>\n",
       "<style scoped>\n",
       "    .dataframe tbody tr th:only-of-type {\n",
       "        vertical-align: middle;\n",
       "    }\n",
       "\n",
       "    .dataframe tbody tr th {\n",
       "        vertical-align: top;\n",
       "    }\n",
       "\n",
       "    .dataframe thead th {\n",
       "        text-align: right;\n",
       "    }\n",
       "</style>\n",
       "<table border=\"1\" class=\"dataframe\">\n",
       "  <thead>\n",
       "    <tr style=\"text-align: right;\">\n",
       "      <th></th>\n",
       "      <th>Fantasy</th>\n",
       "      <th>Science Fiction</th>\n",
       "      <th>Dystopia</th>\n",
       "      <th>Young Adult</th>\n",
       "      <th>Fiction</th>\n",
       "      <th>Action</th>\n",
       "      <th>Adventure</th>\n",
       "      <th>Romance</th>\n",
       "      <th>Magic</th>\n",
       "      <th>Children</th>\n",
       "      <th>...</th>\n",
       "      <th>1st Grade</th>\n",
       "      <th>TV and Series</th>\n",
       "      <th>NSFW</th>\n",
       "      <th>Mills and Boon</th>\n",
       "      <th>Maps and Cartography</th>\n",
       "      <th>Gender and Sexuality</th>\n",
       "      <th>11th Century</th>\n",
       "      <th>漫画</th>\n",
       "      <th>Veganism and Vegetarianism</th>\n",
       "      <th>10th Century</th>\n",
       "    </tr>\n",
       "  </thead>\n",
       "  <tbody>\n",
       "    <tr>\n",
       "      <th>0</th>\n",
       "      <td>1</td>\n",
       "      <td>1</td>\n",
       "      <td>1</td>\n",
       "      <td>1</td>\n",
       "      <td>1</td>\n",
       "      <td>1</td>\n",
       "      <td>1</td>\n",
       "      <td>1</td>\n",
       "      <td>NaN</td>\n",
       "      <td>NaN</td>\n",
       "      <td>...</td>\n",
       "      <td>0.0</td>\n",
       "      <td>0.0</td>\n",
       "      <td>0.0</td>\n",
       "      <td>0.0</td>\n",
       "      <td>0.0</td>\n",
       "      <td>0.0</td>\n",
       "      <td>0.0</td>\n",
       "      <td>0.0</td>\n",
       "      <td>0.0</td>\n",
       "      <td>0.0</td>\n",
       "    </tr>\n",
       "    <tr>\n",
       "      <th>1</th>\n",
       "      <td>1</td>\n",
       "      <td>1</td>\n",
       "      <td>NaN</td>\n",
       "      <td>1</td>\n",
       "      <td>1</td>\n",
       "      <td>NaN</td>\n",
       "      <td>1</td>\n",
       "      <td>NaN</td>\n",
       "      <td>1</td>\n",
       "      <td>1</td>\n",
       "      <td>...</td>\n",
       "      <td>0.0</td>\n",
       "      <td>0.0</td>\n",
       "      <td>0.0</td>\n",
       "      <td>0.0</td>\n",
       "      <td>0.0</td>\n",
       "      <td>0.0</td>\n",
       "      <td>0.0</td>\n",
       "      <td>0.0</td>\n",
       "      <td>0.0</td>\n",
       "      <td>0.0</td>\n",
       "    </tr>\n",
       "    <tr>\n",
       "      <th>2</th>\n",
       "      <td>NaN</td>\n",
       "      <td>NaN</td>\n",
       "      <td>NaN</td>\n",
       "      <td>1</td>\n",
       "      <td>1</td>\n",
       "      <td>NaN</td>\n",
       "      <td>NaN</td>\n",
       "      <td>NaN</td>\n",
       "      <td>NaN</td>\n",
       "      <td>NaN</td>\n",
       "      <td>...</td>\n",
       "      <td>0.0</td>\n",
       "      <td>0.0</td>\n",
       "      <td>0.0</td>\n",
       "      <td>0.0</td>\n",
       "      <td>0.0</td>\n",
       "      <td>0.0</td>\n",
       "      <td>0.0</td>\n",
       "      <td>0.0</td>\n",
       "      <td>0.0</td>\n",
       "      <td>0.0</td>\n",
       "    </tr>\n",
       "    <tr>\n",
       "      <th>3</th>\n",
       "      <td>NaN</td>\n",
       "      <td>NaN</td>\n",
       "      <td>NaN</td>\n",
       "      <td>NaN</td>\n",
       "      <td>1</td>\n",
       "      <td>NaN</td>\n",
       "      <td>NaN</td>\n",
       "      <td>1</td>\n",
       "      <td>NaN</td>\n",
       "      <td>NaN</td>\n",
       "      <td>...</td>\n",
       "      <td>0.0</td>\n",
       "      <td>0.0</td>\n",
       "      <td>0.0</td>\n",
       "      <td>0.0</td>\n",
       "      <td>0.0</td>\n",
       "      <td>0.0</td>\n",
       "      <td>0.0</td>\n",
       "      <td>0.0</td>\n",
       "      <td>0.0</td>\n",
       "      <td>0.0</td>\n",
       "    </tr>\n",
       "    <tr>\n",
       "      <th>4</th>\n",
       "      <td>1</td>\n",
       "      <td>1</td>\n",
       "      <td>NaN</td>\n",
       "      <td>1</td>\n",
       "      <td>1</td>\n",
       "      <td>NaN</td>\n",
       "      <td>NaN</td>\n",
       "      <td>1</td>\n",
       "      <td>NaN</td>\n",
       "      <td>NaN</td>\n",
       "      <td>...</td>\n",
       "      <td>0.0</td>\n",
       "      <td>0.0</td>\n",
       "      <td>0.0</td>\n",
       "      <td>0.0</td>\n",
       "      <td>0.0</td>\n",
       "      <td>0.0</td>\n",
       "      <td>0.0</td>\n",
       "      <td>0.0</td>\n",
       "      <td>0.0</td>\n",
       "      <td>0.0</td>\n",
       "    </tr>\n",
       "  </tbody>\n",
       "</table>\n",
       "<p>5 rows × 638 columns</p>\n",
       "</div>"
      ],
      "text/plain": [
       "  Fantasy Science Fiction Dystopia Young Adult Fiction Action Adventure  \\\n",
       "0       1               1        1           1       1      1         1   \n",
       "1       1               1      NaN           1       1    NaN         1   \n",
       "2     NaN             NaN      NaN           1       1    NaN       NaN   \n",
       "3     NaN             NaN      NaN         NaN       1    NaN       NaN   \n",
       "4       1               1      NaN           1       1    NaN       NaN   \n",
       "\n",
       "  Romance Magic Children  ... 1st Grade TV and Series NSFW Mills and Boon  \\\n",
       "0       1   NaN      NaN  ...       0.0           0.0  0.0            0.0   \n",
       "1     NaN     1        1  ...       0.0           0.0  0.0            0.0   \n",
       "2     NaN   NaN      NaN  ...       0.0           0.0  0.0            0.0   \n",
       "3       1   NaN      NaN  ...       0.0           0.0  0.0            0.0   \n",
       "4       1   NaN      NaN  ...       0.0           0.0  0.0            0.0   \n",
       "\n",
       "  Maps and Cartography Gender and Sexuality 11th Century   漫画  \\\n",
       "0                  0.0                  0.0          0.0  0.0   \n",
       "1                  0.0                  0.0          0.0  0.0   \n",
       "2                  0.0                  0.0          0.0  0.0   \n",
       "3                  0.0                  0.0          0.0  0.0   \n",
       "4                  0.0                  0.0          0.0  0.0   \n",
       "\n",
       "  Veganism and Vegetarianism 10th Century  \n",
       "0                        0.0          0.0  \n",
       "1                        0.0          0.0  \n",
       "2                        0.0          0.0  \n",
       "3                        0.0          0.0  \n",
       "4                        0.0          0.0  \n",
       "\n",
       "[5 rows x 638 columns]"
      ]
     },
     "execution_count": 11,
     "metadata": {},
     "output_type": "execute_result"
    }
   ],
   "source": [
    "genres_data.head()"
   ]
  },
  {
   "cell_type": "code",
   "execution_count": 12,
   "id": "ee56c720",
   "metadata": {},
   "outputs": [],
   "source": [
    "# Saving new dataframe of unique genres to csv\n",
    "genres_data.to_csv('genres_df_transposed.csv')"
   ]
  },
  {
   "cell_type": "markdown",
   "id": "a81cc54e",
   "metadata": {},
   "source": [
    "### Loading new genre dataframe"
   ]
  },
  {
   "cell_type": "code",
   "execution_count": null,
   "id": "ca4598eb",
   "metadata": {},
   "outputs": [],
   "source": [
    "genres_df2 = pd.read_csv('genres_df_transposed.csv')"
   ]
  },
  {
   "cell_type": "code",
   "execution_count": null,
   "id": "99aaefd8",
   "metadata": {},
   "outputs": [],
   "source": [
    "display(genres_df2.head(), genres_df2.shape)"
   ]
  },
  {
   "cell_type": "code",
   "execution_count": null,
   "id": "be367cc0",
   "metadata": {},
   "outputs": [],
   "source": [
    "gr_data['genres'][0]"
   ]
  },
  {
   "cell_type": "code",
   "execution_count": null,
   "id": "8881950f",
   "metadata": {},
   "outputs": [],
   "source": [
    "gr_data['genres'][1]"
   ]
  },
  {
   "cell_type": "code",
   "execution_count": null,
   "id": "2809a3f5",
   "metadata": {},
   "outputs": [],
   "source": [
    "genres_df2"
   ]
  },
  {
   "cell_type": "code",
   "execution_count": null,
   "id": "65317537",
   "metadata": {},
   "outputs": [],
   "source": [
    "genres_df2['Unknown']"
   ]
  },
  {
   "cell_type": "code",
   "execution_count": null,
   "id": "b51dc983",
   "metadata": {},
   "outputs": [],
   "source": [
    "print(\"There's a difference of\", len(gr_data)-len(genres_df), \"rows between dataframes.\")"
   ]
  },
  {
   "cell_type": "code",
   "execution_count": null,
   "id": "d69d3b9b",
   "metadata": {},
   "outputs": [],
   "source": []
  },
  {
   "cell_type": "code",
   "execution_count": null,
   "id": "26de30da",
   "metadata": {},
   "outputs": [],
   "source": []
  },
  {
   "cell_type": "code",
   "execution_count": null,
   "id": "7623249d",
   "metadata": {},
   "outputs": [],
   "source": []
  },
  {
   "cell_type": "code",
   "execution_count": null,
   "id": "773cbdb8",
   "metadata": {},
   "outputs": [],
   "source": []
  },
  {
   "cell_type": "code",
   "execution_count": null,
   "id": "4e075fa6",
   "metadata": {},
   "outputs": [],
   "source": []
  },
  {
   "cell_type": "code",
   "execution_count": null,
   "id": "1c8bc9e8",
   "metadata": {},
   "outputs": [],
   "source": [
    "genres_data.shape"
   ]
  },
  {
   "cell_type": "code",
   "execution_count": null,
   "id": "d5b5e42c",
   "metadata": {},
   "outputs": [],
   "source": [
    "# Saving new dataframe of unique genres to csv\n",
    "genres_data.to_csv('genres_df.csv')"
   ]
  },
  {
   "cell_type": "code",
   "execution_count": null,
   "id": "447028d8",
   "metadata": {},
   "outputs": [],
   "source": []
  },
  {
   "cell_type": "markdown",
   "id": "6138d55c",
   "metadata": {},
   "source": [
    "#### Importing new dataframe"
   ]
  },
  {
   "cell_type": "code",
   "execution_count": null,
   "id": "9a7365bd",
   "metadata": {},
   "outputs": [],
   "source": [
    "genres_df = pd.read_csv('genres_df.csv')"
   ]
  },
  {
   "cell_type": "code",
   "execution_count": null,
   "id": "47c46f87",
   "metadata": {},
   "outputs": [],
   "source": [
    "display(genres_df.tail(), genres_df.shape)"
   ]
  },
  {
   "cell_type": "code",
   "execution_count": null,
   "id": "48b78f97",
   "metadata": {},
   "outputs": [],
   "source": [
    "display(gr_data.tail(), gr_data.shape)"
   ]
  },
  {
   "cell_type": "code",
   "execution_count": null,
   "id": "159731f1",
   "metadata": {},
   "outputs": [],
   "source": [
    "print(\"There's a difference of\", len(gr_data)-len(genres_df), \"rows between dataframes.\")"
   ]
  },
  {
   "cell_type": "code",
   "execution_count": null,
   "id": "08c086c0",
   "metadata": {},
   "outputs": [],
   "source": [
    "# Checking rows not included: description is [] empty\n",
    "\n",
    "# Get a list of index values from gr_data that are not present in genres_df\n",
    "diff_rows_index = gr_data[~gr_data.index.isin(genres_df['index_gr_data'])]\n",
    "\n",
    "# Rows from gr_data that are not present in genres_df\n",
    "diff_rows_index\n"
   ]
  },
  {
   "cell_type": "code",
   "execution_count": null,
   "id": "3887a792",
   "metadata": {},
   "outputs": [],
   "source": []
  },
  {
   "cell_type": "code",
   "execution_count": null,
   "id": "e4535e18",
   "metadata": {},
   "outputs": [],
   "source": []
  },
  {
   "cell_type": "code",
   "execution_count": null,
   "id": "2f5f07b7",
   "metadata": {},
   "outputs": [],
   "source": []
  },
  {
   "cell_type": "code",
   "execution_count": null,
   "id": "77bc1ee5",
   "metadata": {},
   "outputs": [],
   "source": [
    "genres_df = genres_df.rename(columns={'Unnamed: 0': 'index_gr_data'})"
   ]
  },
  {
   "cell_type": "code",
   "execution_count": null,
   "id": "1fca6ddc",
   "metadata": {},
   "outputs": [],
   "source": [
    "genres_df.head()"
   ]
  },
  {
   "cell_type": "code",
   "execution_count": null,
   "id": "cec7c588",
   "metadata": {},
   "outputs": [],
   "source": [
    "# Dealing with the presence of NaN values\n",
    "genres_df = genres_df.fillna(0)"
   ]
  },
  {
   "cell_type": "code",
   "execution_count": null,
   "id": "f90846e2",
   "metadata": {},
   "outputs": [],
   "source": [
    "genres_df.dtypes"
   ]
  },
  {
   "cell_type": "code",
   "execution_count": null,
   "id": "0ff9b6fa",
   "metadata": {},
   "outputs": [],
   "source": []
  },
  {
   "cell_type": "code",
   "execution_count": null,
   "id": "8650d3fc",
   "metadata": {},
   "outputs": [],
   "source": [
    "# Check if there is any column with just '0' values in it.\n",
    "if not (genres_df != 0).all().all():\n",
    "    zero_columns = genres_df.columns[genres_df.eq(0).all()]\n",
    "    print(\"The following columns only hold 0:\", zero_columns)\n",
    "else:\n",
    "    print(\"All columns in genres_df have at least one non-zero value.\")"
   ]
  },
  {
   "cell_type": "code",
   "execution_count": null,
   "id": "c4253074",
   "metadata": {},
   "outputs": [],
   "source": [
    "# Dropping these columns\n",
    "genres_df = genres_df.drop(zero_columns, axis=1)"
   ]
  },
  {
   "cell_type": "code",
   "execution_count": null,
   "id": "2a7b1cdb",
   "metadata": {},
   "outputs": [],
   "source": [
    "genres_df.shape"
   ]
  },
  {
   "cell_type": "code",
   "execution_count": null,
   "id": "b9866746",
   "metadata": {},
   "outputs": [],
   "source": [
    "genres_df.dtypes"
   ]
  },
  {
   "cell_type": "code",
   "execution_count": null,
   "id": "e6e1d379",
   "metadata": {},
   "outputs": [],
   "source": [
    "genres_df = genres_df.astype(int)\n",
    "genres_df.dtypes"
   ]
  },
  {
   "cell_type": "code",
   "execution_count": null,
   "id": "13448f68",
   "metadata": {},
   "outputs": [],
   "source": [
    "genres_df.head()"
   ]
  },
  {
   "cell_type": "code",
   "execution_count": null,
   "id": "8224a5ac",
   "metadata": {},
   "outputs": [],
   "source": [
    "gr_data['genres'][0]"
   ]
  },
  {
   "cell_type": "code",
   "execution_count": null,
   "id": "cb018eb7",
   "metadata": {},
   "outputs": [],
   "source": []
  },
  {
   "cell_type": "code",
   "execution_count": null,
   "id": "66f3687e",
   "metadata": {},
   "outputs": [],
   "source": []
  },
  {
   "cell_type": "code",
   "execution_count": null,
   "id": "fafa245f",
   "metadata": {},
   "outputs": [],
   "source": [
    "import ast\n",
    "\n",
    "# Iterate over each value in gr_data['genres']\n",
    "for i in range(len(gr_data['genres'])):\n",
    "    genre_list_str = gr_data['genres'][i]\n",
    "    genre_list = ast.literal_eval(genre_list_str)\n",
    "\n",
    "    # Add 1 to corresponding columns in new_columns dataframe\n",
    "    for genre in genre_list:\n",
    "        if genre in genres_data.columns:\n",
    "            genres_data.loc[i, genre] = 1\n",
    "        else:\n",
    "            genres_data[genre] = 0\n",
    "            genres_data.loc[i, genre] = 1\n",
    "    \n",
    "    # Print the current row number and replace the previous line\n",
    "    print(f\"Processed row {i+1}\", end=\"\\r\")\n"
   ]
  }
 ],
 "metadata": {
  "kernelspec": {
   "display_name": "Python 3 (ipykernel)",
   "language": "python",
   "name": "python3"
  },
  "language_info": {
   "codemirror_mode": {
    "name": "ipython",
    "version": 3
   },
   "file_extension": ".py",
   "mimetype": "text/x-python",
   "name": "python",
   "nbconvert_exporter": "python",
   "pygments_lexer": "ipython3",
   "version": "3.9.13"
  }
 },
 "nbformat": 4,
 "nbformat_minor": 5
}
