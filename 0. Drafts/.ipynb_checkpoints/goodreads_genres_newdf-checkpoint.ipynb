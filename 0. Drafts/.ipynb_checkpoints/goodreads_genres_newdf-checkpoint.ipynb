{
 "cells": [
  {
   "cell_type": "code",
   "execution_count": 1,
   "id": "c741419b",
   "metadata": {},
   "outputs": [],
   "source": [
    "import pandas as pd"
   ]
  },
  {
   "cell_type": "code",
   "execution_count": 2,
   "id": "5bccfe8c",
   "metadata": {
    "scrolled": true
   },
   "outputs": [
    {
     "data": {
      "text/html": [
       "<div>\n",
       "<style scoped>\n",
       "    .dataframe tbody tr th:only-of-type {\n",
       "        vertical-align: middle;\n",
       "    }\n",
       "\n",
       "    .dataframe tbody tr th {\n",
       "        vertical-align: top;\n",
       "    }\n",
       "\n",
       "    .dataframe thead th {\n",
       "        text-align: right;\n",
       "    }\n",
       "</style>\n",
       "<table border=\"1\" class=\"dataframe\">\n",
       "  <thead>\n",
       "    <tr style=\"text-align: right;\">\n",
       "      <th></th>\n",
       "      <th>title</th>\n",
       "      <th>series</th>\n",
       "      <th>author</th>\n",
       "      <th>rating</th>\n",
       "      <th>description</th>\n",
       "      <th>language</th>\n",
       "      <th>isbn</th>\n",
       "      <th>genres</th>\n",
       "      <th>characters</th>\n",
       "      <th>book_format</th>\n",
       "      <th>...</th>\n",
       "      <th>first_publish_date</th>\n",
       "      <th>awards</th>\n",
       "      <th>num_ratings</th>\n",
       "      <th>rating_by_stars</th>\n",
       "      <th>liked_perc</th>\n",
       "      <th>setting</th>\n",
       "      <th>bbe_score</th>\n",
       "      <th>bbe_votes</th>\n",
       "      <th>price</th>\n",
       "      <th>other_collabs</th>\n",
       "    </tr>\n",
       "  </thead>\n",
       "  <tbody>\n",
       "    <tr>\n",
       "      <th>0</th>\n",
       "      <td>The Hunger Games</td>\n",
       "      <td>The Hunger Games #1</td>\n",
       "      <td>Suzanne Collins</td>\n",
       "      <td>4.33</td>\n",
       "      <td>WINNING MEANS FAME AND FORTUNE.LOSING MEANS CE...</td>\n",
       "      <td>English</td>\n",
       "      <td>9.78044E+12</td>\n",
       "      <td>['Adventure', 'Dystopia', 'Romance', 'Young Ad...</td>\n",
       "      <td>['Katniss Everdeen', 'Peeta Mellark', 'Cato (H...</td>\n",
       "      <td>Hardcover</td>\n",
       "      <td>...</td>\n",
       "      <td>NaN</td>\n",
       "      <td>['Locus Award Nominee for Best Young Adult Boo...</td>\n",
       "      <td>6376780</td>\n",
       "      <td>['3444695', '1921313', '745221', '171994', '93...</td>\n",
       "      <td>96.0</td>\n",
       "      <td>['District 12, Panem', 'Capitol, Panem', 'Pane...</td>\n",
       "      <td>2993816</td>\n",
       "      <td>30516</td>\n",
       "      <td>5.09</td>\n",
       "      <td>NaN</td>\n",
       "    </tr>\n",
       "    <tr>\n",
       "      <th>1</th>\n",
       "      <td>Harry Potter and the Order of the Phoenix</td>\n",
       "      <td>Harry Potter #5</td>\n",
       "      <td>J.K. Rowling</td>\n",
       "      <td>4.50</td>\n",
       "      <td>There is a door at the end of a silent corrido...</td>\n",
       "      <td>English</td>\n",
       "      <td>9.78044E+12</td>\n",
       "      <td>['Adventure', 'Classics', 'Audiobook', 'Childr...</td>\n",
       "      <td>['Sirius Black', 'Draco Malfoy', 'Ron Weasley'...</td>\n",
       "      <td>Paperback</td>\n",
       "      <td>...</td>\n",
       "      <td>06/21/03</td>\n",
       "      <td>['Bram Stoker Award for Works for Young Reader...</td>\n",
       "      <td>2507623</td>\n",
       "      <td>['1593642', '637516', '222366', '39573', '14526']</td>\n",
       "      <td>98.0</td>\n",
       "      <td>['Hogwarts School of Witchcraft and Wizardry (...</td>\n",
       "      <td>2632233</td>\n",
       "      <td>26923</td>\n",
       "      <td>7.38</td>\n",
       "      <td>Mary GrandPré , Illustrator)</td>\n",
       "    </tr>\n",
       "    <tr>\n",
       "      <th>2</th>\n",
       "      <td>To Kill a Mockingbird</td>\n",
       "      <td>To Kill a Mockingbird</td>\n",
       "      <td>Harper Lee</td>\n",
       "      <td>4.28</td>\n",
       "      <td>The unforgettable novel of a childhood in a sl...</td>\n",
       "      <td>English</td>\n",
       "      <td>1E+13</td>\n",
       "      <td>['Classics', 'Novels', 'Historical', 'School',...</td>\n",
       "      <td>['Scout Finch', 'Atticus Finch', 'Jem Finch', ...</td>\n",
       "      <td>Paperback</td>\n",
       "      <td>...</td>\n",
       "      <td>07-11-1960</td>\n",
       "      <td>['Pulitzer Prize for Fiction (1961)', 'Audie A...</td>\n",
       "      <td>4501075</td>\n",
       "      <td>['2363896', '1333153', '573280', '149952', '80...</td>\n",
       "      <td>95.0</td>\n",
       "      <td>['Maycomb, Alabama (United States)']</td>\n",
       "      <td>2269402</td>\n",
       "      <td>23328</td>\n",
       "      <td>NaN</td>\n",
       "      <td>NaN</td>\n",
       "    </tr>\n",
       "  </tbody>\n",
       "</table>\n",
       "<p>3 rows × 24 columns</p>\n",
       "</div>"
      ],
      "text/plain": [
       "                                       title                 series  \\\n",
       "0                           The Hunger Games    The Hunger Games #1   \n",
       "1  Harry Potter and the Order of the Phoenix        Harry Potter #5   \n",
       "2                      To Kill a Mockingbird  To Kill a Mockingbird   \n",
       "\n",
       "            author  rating                                        description  \\\n",
       "0  Suzanne Collins    4.33  WINNING MEANS FAME AND FORTUNE.LOSING MEANS CE...   \n",
       "1     J.K. Rowling    4.50  There is a door at the end of a silent corrido...   \n",
       "2       Harper Lee    4.28  The unforgettable novel of a childhood in a sl...   \n",
       "\n",
       "  language         isbn                                             genres  \\\n",
       "0  English  9.78044E+12  ['Adventure', 'Dystopia', 'Romance', 'Young Ad...   \n",
       "1  English  9.78044E+12  ['Adventure', 'Classics', 'Audiobook', 'Childr...   \n",
       "2  English        1E+13  ['Classics', 'Novels', 'Historical', 'School',...   \n",
       "\n",
       "                                          characters book_format  ...  \\\n",
       "0  ['Katniss Everdeen', 'Peeta Mellark', 'Cato (H...   Hardcover  ...   \n",
       "1  ['Sirius Black', 'Draco Malfoy', 'Ron Weasley'...   Paperback  ...   \n",
       "2  ['Scout Finch', 'Atticus Finch', 'Jem Finch', ...   Paperback  ...   \n",
       "\n",
       "  first_publish_date                                             awards  \\\n",
       "0                NaN  ['Locus Award Nominee for Best Young Adult Boo...   \n",
       "1           06/21/03  ['Bram Stoker Award for Works for Young Reader...   \n",
       "2         07-11-1960  ['Pulitzer Prize for Fiction (1961)', 'Audie A...   \n",
       "\n",
       "  num_ratings                                    rating_by_stars liked_perc  \\\n",
       "0     6376780  ['3444695', '1921313', '745221', '171994', '93...       96.0   \n",
       "1     2507623  ['1593642', '637516', '222366', '39573', '14526']       98.0   \n",
       "2     4501075  ['2363896', '1333153', '573280', '149952', '80...       95.0   \n",
       "\n",
       "                                             setting  bbe_score bbe_votes  \\\n",
       "0  ['District 12, Panem', 'Capitol, Panem', 'Pane...    2993816     30516   \n",
       "1  ['Hogwarts School of Witchcraft and Wizardry (...    2632233     26923   \n",
       "2               ['Maycomb, Alabama (United States)']    2269402     23328   \n",
       "\n",
       "   price                 other_collabs  \n",
       "0   5.09                           NaN  \n",
       "1   7.38  Mary GrandPré , Illustrator)  \n",
       "2    NaN                           NaN  \n",
       "\n",
       "[3 rows x 24 columns]"
      ]
     },
     "metadata": {},
     "output_type": "display_data"
    },
    {
     "data": {
      "text/plain": [
       "(52478, 24)"
      ]
     },
     "metadata": {},
     "output_type": "display_data"
    }
   ],
   "source": [
    "gr_data = pd.read_csv('gr_data_modified.csv')\n",
    "gr_data.reset_index(drop=False)\n",
    "gr_data=gr_data.drop(['Unnamed: 0'],axis=1)\n",
    "display(gr_data.head(3),gr_data.shape)"
   ]
  },
  {
   "cell_type": "markdown",
   "id": "652d9cea",
   "metadata": {},
   "source": [
    "#### List of unique genres"
   ]
  },
  {
   "cell_type": "code",
   "execution_count": 5,
   "id": "ef0e1a5b",
   "metadata": {},
   "outputs": [
    {
     "name": "stdout",
     "output_type": "stream",
     "text": [
      "Length of uniques genres after cleaning: from 980 to 639\n",
      "\n"
     ]
    }
   ],
   "source": [
    "# Define an empty list to store the genres\n",
    "genres_list = []\n",
    "\n",
    "# Loop through all rows of genres\n",
    "for i in range(len(gr_data)):\n",
    "    # Get the genres for the current row\n",
    "    genres_row = gr_data['genres'][i]\n",
    "\n",
    "    # Remove the square brackets and single quotes\n",
    "    genres_row = genres_row.replace('[','').replace(']','').replace(\"'\",'')\n",
    "\n",
    "    # Split the row into individual genres\n",
    "    genres = genres_row.split(',')\n",
    "\n",
    "    # Loop through each genre in the row\n",
    "    for genre in genres:\n",
    "        # Clean up the genre by removing any extra whitespace and converting to title case\n",
    "        genre = genre.strip().title()\n",
    "        # Check if the genre is not empty and not already in the genres_list\n",
    "        if genre and genre not in genres_list:\n",
    "            # If it contains non-ASCII characters, skip it\n",
    "            if any(ord(c) > 127 for c in genre):\n",
    "                continue\n",
    "            # If it's not in the genres_list, add it\n",
    "            else:\n",
    "                genres_list.append(genre)\n",
    "\n",
    "# Print the final genres list and its length\n",
    "print(\"Length of uniques genres after cleaning: from 980 to\",len(genres_list))\n",
    "print(\"\")\n",
    "#print(genres_list)"
   ]
  },
  {
   "cell_type": "markdown",
   "id": "c1b7f347",
   "metadata": {},
   "source": [
    "### New genre dataframe"
   ]
  },
  {
   "cell_type": "code",
   "execution_count": 6,
   "id": "248f7ac4",
   "metadata": {},
   "outputs": [
    {
     "data": {
      "text/html": [
       "<div>\n",
       "<style scoped>\n",
       "    .dataframe tbody tr th:only-of-type {\n",
       "        vertical-align: middle;\n",
       "    }\n",
       "\n",
       "    .dataframe tbody tr th {\n",
       "        vertical-align: top;\n",
       "    }\n",
       "\n",
       "    .dataframe thead th {\n",
       "        text-align: right;\n",
       "    }\n",
       "</style>\n",
       "<table border=\"1\" class=\"dataframe\">\n",
       "  <thead>\n",
       "    <tr style=\"text-align: right;\">\n",
       "      <th></th>\n",
       "      <th>Adventure</th>\n",
       "      <th>Dystopia</th>\n",
       "      <th>Romance</th>\n",
       "      <th>Young Adult</th>\n",
       "      <th>Action</th>\n",
       "      <th>Fantasy</th>\n",
       "      <th>Fiction</th>\n",
       "      <th>Science Fiction</th>\n",
       "      <th>Classics</th>\n",
       "      <th>Audiobook</th>\n",
       "      <th>...</th>\n",
       "      <th>Battle Of Britain</th>\n",
       "      <th>Aircraft</th>\n",
       "      <th>Go</th>\n",
       "      <th>Goth</th>\n",
       "      <th>Civil War History</th>\n",
       "      <th>Racing</th>\n",
       "      <th>Led Zeppelin</th>\n",
       "      <th>Naturopathy</th>\n",
       "      <th>10Th Century</th>\n",
       "      <th>Spanish History</th>\n",
       "    </tr>\n",
       "  </thead>\n",
       "  <tbody>\n",
       "  </tbody>\n",
       "</table>\n",
       "<p>0 rows × 639 columns</p>\n",
       "</div>"
      ],
      "text/plain": [
       "Empty DataFrame\n",
       "Columns: [Adventure, Dystopia, Romance, Young Adult, Action, Fantasy, Fiction, Science Fiction, Classics, Audiobook, Children, School, Magic, Novels, Historical, Literature, Historical Fiction, Historical Romance, Adult, Urban Fantasy, Vampires, Paranormal, Paranormal Romance, Holocaust, World War Ii, War, Politics, Religion, Epic Fantasy, Civil War, Contemporary, Coming Of Age, Love, Drama, Humor, Comedy, Poetry, Short Stories, Picture Books, Gothic, 19Th Century, Suspense, Mystery, Mystery Thriller, Thriller, Crime, Asian Countries, Asia, Horror, Lgbt, Center, North And East European Literature, European Countries, Plays, Philosophy, Inspirational, Self Help, Esoterica, Mental Health, North American Countries, Angels, Chick Lit, Chapter Books, Animals, Time Travel, Magical Realism, Ibero-American Literature, Fairy Tales, Mythology, Greek Mythology, Dragons, Epic, Monsters, Gastronomy, Food And Nutrition, 20Th Century, Feminism, Unfinished, Music, Medieval, Apocalyptic, Detective, Victorian, Mental Illness, Psychology, Family, African American, New York, Memoires And Biographies, History, Ireland, Nonfiction, Africa, Steampunk, Economics, Contemporary Romance, Womens, Lgtbi And Queer, Young Adult Fantasy, Travel, ...]\n",
       "Index: []\n",
       "\n",
       "[0 rows x 639 columns]"
      ]
     },
     "execution_count": 6,
     "metadata": {},
     "output_type": "execute_result"
    }
   ],
   "source": [
    "# New dataframe with columns from genres_list\n",
    "genres_data = pd.DataFrame(columns=genres_list)\n",
    "genres_data"
   ]
  },
  {
   "cell_type": "code",
   "execution_count": 7,
   "id": "bd1de608",
   "metadata": {},
   "outputs": [],
   "source": [
    "# Adding a column for books with no genre described = []\n",
    "genres_data['Unknown'] = ''"
   ]
  },
  {
   "cell_type": "code",
   "execution_count": 8,
   "id": "46cdf976",
   "metadata": {},
   "outputs": [
    {
     "data": {
      "text/plain": [
       "(0, 640)"
      ]
     },
     "execution_count": 8,
     "metadata": {},
     "output_type": "execute_result"
    }
   ],
   "source": [
    "genres_data.shape"
   ]
  },
  {
   "cell_type": "markdown",
   "id": "d1fa98d5",
   "metadata": {},
   "source": [
    "### Filling genre dataframe"
   ]
  },
  {
   "cell_type": "markdown",
   "id": "db07deac",
   "metadata": {},
   "source": [
    "ast is a built-in Python module that provides a way to work with abstract syntax trees (ASTs) in Python code. In this specific case, ast.literal_eval() is used to safely evaluate a string containing a Python literal structure, such as a list or dictionary, and return the corresponding Python object. This is used to convert a string representation of a list of genres into an actual list that can be iterated over in the subsequent code."
   ]
  },
  {
   "cell_type": "code",
   "execution_count": 9,
   "id": "c585b3da",
   "metadata": {},
   "outputs": [
    {
     "name": "stdout",
     "output_type": "stream",
     "text": [
      "Processed row 52478\r"
     ]
    }
   ],
   "source": [
    "import ast\n",
    "\n",
    "# Iterate over each value in gr_data['genres']\n",
    "for i in range(len(gr_data['genres'])):\n",
    "    \n",
    "    # Retrieve the string value of the genres for the current row\n",
    "    genre_list_str = gr_data['genres'][i]\n",
    "    \n",
    "    # Use ast.literal_eval() to convert the string value to a list of genres\n",
    "    genre_list = ast.literal_eval(genre_list_str)\n",
    "\n",
    "    # Check if the list of genres is empty\n",
    "    if len(genre_list) == 0:\n",
    "        \n",
    "        # If the list is empty, set the value of 'Unknown' column to 1\n",
    "        genres_data['Unknown'] = 1\n",
    "        \n",
    "    else:\n",
    "        \n",
    "        # If the list is not empty, iterate over each genre in the list\n",
    "        for genre in genre_list:\n",
    "            \n",
    "            # Check if the genre is already a column in genres_data\n",
    "            if genre in genres_data.columns:\n",
    "                \n",
    "                # If the genre is already a column, add 1 to the corresponding row for the current book\n",
    "                genres_data.loc[i, genre] = 1\n",
    "                \n",
    "            else:\n",
    "                \n",
    "                # If the genre is not already a column, create a new column for the genre with all values set to 0\n",
    "                genres_data[genre] = 0\n",
    "                \n",
    "                # Then, add 1 to the corresponding row for the current book\n",
    "                genres_data.loc[i, genre] = 1\n",
    "    \n",
    "    # Print the current row number being processed\n",
    "    print(f\"Processed row {i+1}\", end=\"\\r\")\n"
   ]
  },
  {
   "cell_type": "code",
   "execution_count": null,
   "id": "aa116808",
   "metadata": {},
   "outputs": [],
   "source": [
    "genres_data.shape"
   ]
  },
  {
   "cell_type": "code",
   "execution_count": null,
   "id": "bdb45324",
   "metadata": {},
   "outputs": [],
   "source": []
  },
  {
   "cell_type": "code",
   "execution_count": null,
   "id": "de226018",
   "metadata": {},
   "outputs": [],
   "source": []
  },
  {
   "cell_type": "code",
   "execution_count": null,
   "id": "7259e799",
   "metadata": {},
   "outputs": [],
   "source": []
  },
  {
   "cell_type": "code",
   "execution_count": null,
   "id": "fafa245f",
   "metadata": {},
   "outputs": [],
   "source": [
    "import ast\n",
    "\n",
    "# Iterate over each value in gr_data['genres']\n",
    "for i in range(len(gr_data['genres'])):\n",
    "    genre_list_str = gr_data['genres'][i]\n",
    "    genre_list = ast.literal_eval(genre_list_str)\n",
    "\n",
    "    # Add 1 to corresponding columns in new_columns dataframe\n",
    "    for genre in genre_list:\n",
    "        if genre in genres_data.columns:\n",
    "            genres_data.loc[i, genre] = 1\n",
    "        else:\n",
    "            genres_data[genre] = 0\n",
    "            genres_data.loc[i, genre] = 1\n",
    "    \n",
    "    # Print the current row number and replace the previous line\n",
    "    print(f\"Processed row {i+1}\", end=\"\\r\")\n"
   ]
  },
  {
   "cell_type": "code",
   "execution_count": null,
   "id": "e351d54c",
   "metadata": {},
   "outputs": [],
   "source": [
    "genres_data.shape"
   ]
  },
  {
   "cell_type": "code",
   "execution_count": null,
   "id": "d5b5e42c",
   "metadata": {},
   "outputs": [],
   "source": [
    "# Saving new dataframe of unique genres to csv\n",
    "genres_data.to_csv('genres_df.csv')"
   ]
  },
  {
   "cell_type": "code",
   "execution_count": null,
   "id": "7b5219c0",
   "metadata": {},
   "outputs": [],
   "source": []
  },
  {
   "cell_type": "markdown",
   "id": "0bc488ad",
   "metadata": {},
   "source": [
    "#### Importing new dataframe"
   ]
  },
  {
   "cell_type": "code",
   "execution_count": null,
   "id": "0f66db32",
   "metadata": {},
   "outputs": [],
   "source": [
    "genres_df = pd.read_csv('genres_df.csv')"
   ]
  },
  {
   "cell_type": "code",
   "execution_count": null,
   "id": "47c46f87",
   "metadata": {},
   "outputs": [],
   "source": [
    "display(genres_df.tail(), genres_df.shape)"
   ]
  },
  {
   "cell_type": "code",
   "execution_count": null,
   "id": "a1b0de51",
   "metadata": {},
   "outputs": [],
   "source": [
    "display(gr_data.tail(), gr_data.shape)"
   ]
  },
  {
   "cell_type": "code",
   "execution_count": null,
   "id": "c11b40d2",
   "metadata": {},
   "outputs": [],
   "source": [
    "print(\"There's a difference of\", len(gr_data)-len(genres_df), \"rows between dataframes.\")"
   ]
  },
  {
   "cell_type": "code",
   "execution_count": null,
   "id": "4c1bdd8b",
   "metadata": {},
   "outputs": [],
   "source": [
    "# Checking rows not included: description is [] empty\n",
    "\n",
    "# Get a list of index values from gr_data that are not present in genres_df\n",
    "diff_rows_index = gr_data[~gr_data.index.isin(genres_df['index_gr_data'])]\n",
    "\n",
    "# Rows from gr_data that are not present in genres_df\n",
    "diff_rows_index\n"
   ]
  },
  {
   "cell_type": "code",
   "execution_count": null,
   "id": "96e7b145",
   "metadata": {},
   "outputs": [],
   "source": []
  },
  {
   "cell_type": "code",
   "execution_count": null,
   "id": "195610e7",
   "metadata": {},
   "outputs": [],
   "source": []
  },
  {
   "cell_type": "code",
   "execution_count": null,
   "id": "2496afee",
   "metadata": {},
   "outputs": [],
   "source": []
  },
  {
   "cell_type": "code",
   "execution_count": null,
   "id": "0e7b91d7",
   "metadata": {},
   "outputs": [],
   "source": [
    "genres_df = genres_df.rename(columns={'Unnamed: 0': 'index_gr_data'})"
   ]
  },
  {
   "cell_type": "code",
   "execution_count": null,
   "id": "10ad2e60",
   "metadata": {},
   "outputs": [],
   "source": [
    "genres_df.head()"
   ]
  },
  {
   "cell_type": "code",
   "execution_count": null,
   "id": "0f8023c6",
   "metadata": {},
   "outputs": [],
   "source": [
    "# Dealing with the presence of NaN values\n",
    "genres_df = genres_df.fillna(0)"
   ]
  },
  {
   "cell_type": "code",
   "execution_count": null,
   "id": "cf0a5853",
   "metadata": {},
   "outputs": [],
   "source": [
    "genres_df.dtypes"
   ]
  },
  {
   "cell_type": "code",
   "execution_count": null,
   "id": "2cce5156",
   "metadata": {},
   "outputs": [],
   "source": []
  },
  {
   "cell_type": "code",
   "execution_count": null,
   "id": "8db91466",
   "metadata": {},
   "outputs": [],
   "source": [
    "# Check if there is any column with just '0' values in it.\n",
    "if not (genres_df != 0).all().all():\n",
    "    zero_columns = genres_df.columns[genres_df.eq(0).all()]\n",
    "    print(\"The following columns only hold 0:\", zero_columns)\n",
    "else:\n",
    "    print(\"All columns in genres_df have at least one non-zero value.\")"
   ]
  },
  {
   "cell_type": "code",
   "execution_count": null,
   "id": "1556c35a",
   "metadata": {},
   "outputs": [],
   "source": [
    "# Dropping these columns\n",
    "genres_df = genres_df.drop(zero_columns, axis=1)"
   ]
  },
  {
   "cell_type": "code",
   "execution_count": null,
   "id": "1b691549",
   "metadata": {},
   "outputs": [],
   "source": [
    "genres_df.shape"
   ]
  },
  {
   "cell_type": "code",
   "execution_count": null,
   "id": "7236e443",
   "metadata": {},
   "outputs": [],
   "source": [
    "genres_df.dtypes"
   ]
  },
  {
   "cell_type": "code",
   "execution_count": null,
   "id": "4cdd1581",
   "metadata": {},
   "outputs": [],
   "source": [
    "genres_df = genres_df.astype(int)\n",
    "genres_df.dtypes"
   ]
  },
  {
   "cell_type": "code",
   "execution_count": null,
   "id": "1fa541c5",
   "metadata": {},
   "outputs": [],
   "source": [
    "genres_df.head()"
   ]
  },
  {
   "cell_type": "code",
   "execution_count": null,
   "id": "8224a5ac",
   "metadata": {},
   "outputs": [],
   "source": [
    "gr_data['genres'][0]"
   ]
  },
  {
   "cell_type": "code",
   "execution_count": null,
   "id": "6b59b1a4",
   "metadata": {},
   "outputs": [],
   "source": []
  }
 ],
 "metadata": {
  "kernelspec": {
   "display_name": "Python 3 (ipykernel)",
   "language": "python",
   "name": "python3"
  },
  "language_info": {
   "codemirror_mode": {
    "name": "ipython",
    "version": 3
   },
   "file_extension": ".py",
   "mimetype": "text/x-python",
   "name": "python",
   "nbconvert_exporter": "python",
   "pygments_lexer": "ipython3",
   "version": "3.9.13"
  }
 },
 "nbformat": 4,
 "nbformat_minor": 5
}
