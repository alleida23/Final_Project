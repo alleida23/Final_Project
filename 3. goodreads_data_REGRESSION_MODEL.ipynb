{
 "cells": [
  {
   "cell_type": "markdown",
   "id": "24740cc2",
   "metadata": {},
   "source": [
    "## Predicting Book Ratings on GoodReads using Linear Regression Models"
   ]
  },
  {
   "cell_type": "code",
   "execution_count": null,
   "id": "52e5bb07",
   "metadata": {},
   "outputs": [],
   "source": []
  },
  {
   "cell_type": "code",
   "execution_count": 1,
   "id": "58d3aca4",
   "metadata": {},
   "outputs": [],
   "source": [
    "import pandas as pd\n",
    "import numpy as np\n",
    "\n",
    "from sklearn.model_selection import train_test_split\n",
    "from sklearn.linear_model import LinearRegression\n",
    "from sklearn.preprocessing import StandardScaler\n",
    "from sklearn.compose import ColumnTransformer\n",
    "from sklearn.preprocessing import OneHotEncoder\n",
    "\n",
    "import scipy.stats as stats"
   ]
  },
  {
   "cell_type": "markdown",
   "id": "122f9aa9",
   "metadata": {},
   "source": [
    "### Dataframe"
   ]
  },
  {
   "cell_type": "code",
   "execution_count": 2,
   "id": "01df9567",
   "metadata": {},
   "outputs": [],
   "source": [
    "gr_data = pd.read_csv('./2. Clean_df/gr_data_CLEAN.csv')\n",
    "gr_data = gr_data.drop(['Unnamed: 0'],axis=1)"
   ]
  },
  {
   "cell_type": "code",
   "execution_count": 3,
   "id": "e836f677",
   "metadata": {},
   "outputs": [
    {
     "data": {
      "text/html": [
       "<div>\n",
       "<style scoped>\n",
       "    .dataframe tbody tr th:only-of-type {\n",
       "        vertical-align: middle;\n",
       "    }\n",
       "\n",
       "    .dataframe tbody tr th {\n",
       "        vertical-align: top;\n",
       "    }\n",
       "\n",
       "    .dataframe thead th {\n",
       "        text-align: right;\n",
       "    }\n",
       "</style>\n",
       "<table border=\"1\" class=\"dataframe\">\n",
       "  <thead>\n",
       "    <tr style=\"text-align: right;\">\n",
       "      <th></th>\n",
       "      <th>title</th>\n",
       "      <th>series</th>\n",
       "      <th>author</th>\n",
       "      <th>description</th>\n",
       "      <th>language</th>\n",
       "      <th>pages</th>\n",
       "      <th>isbn</th>\n",
       "      <th>book_format</th>\n",
       "      <th>publish_year</th>\n",
       "      <th>first_publish_year</th>\n",
       "      <th>...</th>\n",
       "      <th>West Australian Young Readers' Book Award (WAYRBA) for Older Readers</th>\n",
       "      <th>West Australian Young Readers' Book Award (WAYRBA) for Younger Readers</th>\n",
       "      <th>William Allen White Children's Book Award</th>\n",
       "      <th>William C. Morris YA Debut Award Nominee</th>\n",
       "      <th>Women's Prize for Fiction Nominee</th>\n",
       "      <th>Women's Prize for Fiction Nominee for Longlist</th>\n",
       "      <th>World Fantasy Award Nominee for Best Novel</th>\n",
       "      <th>World Fantasy Award for Best Novel</th>\n",
       "      <th>Zilveren Griffel</th>\n",
       "      <th>الجائزة العالمية للرواية العربية (أي باف) / International Prize for Arabic Fiction (IPAF) Nominee</th>\n",
       "    </tr>\n",
       "  </thead>\n",
       "  <tbody>\n",
       "    <tr>\n",
       "      <th>0</th>\n",
       "      <td>The Hunger Games</td>\n",
       "      <td>The Hunger Games</td>\n",
       "      <td>Suzanne Collins</td>\n",
       "      <td>WINNING MEANS FAME AND FORTUNE.LOSING MEANS CE...</td>\n",
       "      <td>English</td>\n",
       "      <td>200-300</td>\n",
       "      <td>9.78044E+12</td>\n",
       "      <td>Hardcover</td>\n",
       "      <td>2008</td>\n",
       "      <td>2008</td>\n",
       "      <td>...</td>\n",
       "      <td>1</td>\n",
       "      <td>0</td>\n",
       "      <td>0</td>\n",
       "      <td>0</td>\n",
       "      <td>0</td>\n",
       "      <td>0</td>\n",
       "      <td>0</td>\n",
       "      <td>0</td>\n",
       "      <td>0</td>\n",
       "      <td>0</td>\n",
       "    </tr>\n",
       "    <tr>\n",
       "      <th>1</th>\n",
       "      <td>Harry Potter and the Order of the Phoenix</td>\n",
       "      <td>Harry Potter</td>\n",
       "      <td>J.K. Rowling</td>\n",
       "      <td>There is a door at the end of a silent corrido...</td>\n",
       "      <td>English</td>\n",
       "      <td>700-800</td>\n",
       "      <td>9.78044E+12</td>\n",
       "      <td>Paperback</td>\n",
       "      <td>2004</td>\n",
       "      <td>2003</td>\n",
       "      <td>...</td>\n",
       "      <td>0</td>\n",
       "      <td>0</td>\n",
       "      <td>0</td>\n",
       "      <td>0</td>\n",
       "      <td>0</td>\n",
       "      <td>0</td>\n",
       "      <td>0</td>\n",
       "      <td>0</td>\n",
       "      <td>0</td>\n",
       "      <td>0</td>\n",
       "    </tr>\n",
       "    <tr>\n",
       "      <th>2</th>\n",
       "      <td>To Kill a Mockingbird</td>\n",
       "      <td>To Kill a Mockingbird</td>\n",
       "      <td>Harper Lee</td>\n",
       "      <td>The unforgettable novel of a childhood in a sl...</td>\n",
       "      <td>English</td>\n",
       "      <td>200-300</td>\n",
       "      <td>1E+13</td>\n",
       "      <td>Paperback</td>\n",
       "      <td>2006</td>\n",
       "      <td>1960</td>\n",
       "      <td>...</td>\n",
       "      <td>0</td>\n",
       "      <td>0</td>\n",
       "      <td>0</td>\n",
       "      <td>0</td>\n",
       "      <td>0</td>\n",
       "      <td>0</td>\n",
       "      <td>0</td>\n",
       "      <td>0</td>\n",
       "      <td>0</td>\n",
       "      <td>0</td>\n",
       "    </tr>\n",
       "    <tr>\n",
       "      <th>3</th>\n",
       "      <td>Pride and Prejudice</td>\n",
       "      <td>Single Book</td>\n",
       "      <td>Jane Austen</td>\n",
       "      <td>Alternate cover edition of ISBN 9780679783268S...</td>\n",
       "      <td>English</td>\n",
       "      <td>100-200</td>\n",
       "      <td>1E+13</td>\n",
       "      <td>Paperback</td>\n",
       "      <td>2000</td>\n",
       "      <td>2013</td>\n",
       "      <td>...</td>\n",
       "      <td>0</td>\n",
       "      <td>0</td>\n",
       "      <td>0</td>\n",
       "      <td>0</td>\n",
       "      <td>0</td>\n",
       "      <td>0</td>\n",
       "      <td>0</td>\n",
       "      <td>0</td>\n",
       "      <td>0</td>\n",
       "      <td>0</td>\n",
       "    </tr>\n",
       "    <tr>\n",
       "      <th>4</th>\n",
       "      <td>Twilight</td>\n",
       "      <td>The Twilight Saga</td>\n",
       "      <td>Stephenie Meyer</td>\n",
       "      <td>About three things I was absolutely positive.\\...</td>\n",
       "      <td>English</td>\n",
       "      <td>400-500</td>\n",
       "      <td>9.78032E+12</td>\n",
       "      <td>Paperback</td>\n",
       "      <td>2006</td>\n",
       "      <td>2005</td>\n",
       "      <td>...</td>\n",
       "      <td>1</td>\n",
       "      <td>0</td>\n",
       "      <td>0</td>\n",
       "      <td>0</td>\n",
       "      <td>0</td>\n",
       "      <td>0</td>\n",
       "      <td>0</td>\n",
       "      <td>0</td>\n",
       "      <td>0</td>\n",
       "      <td>0</td>\n",
       "    </tr>\n",
       "  </tbody>\n",
       "</table>\n",
       "<p>5 rows × 862 columns</p>\n",
       "</div>"
      ],
      "text/plain": [
       "                                       title                 series  \\\n",
       "0                           The Hunger Games       The Hunger Games   \n",
       "1  Harry Potter and the Order of the Phoenix           Harry Potter   \n",
       "2                      To Kill a Mockingbird  To Kill a Mockingbird   \n",
       "3                        Pride and Prejudice            Single Book   \n",
       "4                                   Twilight      The Twilight Saga   \n",
       "\n",
       "            author                                        description  \\\n",
       "0  Suzanne Collins  WINNING MEANS FAME AND FORTUNE.LOSING MEANS CE...   \n",
       "1     J.K. Rowling  There is a door at the end of a silent corrido...   \n",
       "2       Harper Lee  The unforgettable novel of a childhood in a sl...   \n",
       "3      Jane Austen  Alternate cover edition of ISBN 9780679783268S...   \n",
       "4  Stephenie Meyer  About three things I was absolutely positive.\\...   \n",
       "\n",
       "  language    pages         isbn book_format  publish_year  \\\n",
       "0  English  200-300  9.78044E+12   Hardcover          2008   \n",
       "1  English  700-800  9.78044E+12   Paperback          2004   \n",
       "2  English  200-300        1E+13   Paperback          2006   \n",
       "3  English  100-200        1E+13   Paperback          2000   \n",
       "4  English  400-500  9.78032E+12   Paperback          2006   \n",
       "\n",
       "   first_publish_year  ...  \\\n",
       "0                2008  ...   \n",
       "1                2003  ...   \n",
       "2                1960  ...   \n",
       "3                2013  ...   \n",
       "4                2005  ...   \n",
       "\n",
       "  West Australian Young Readers' Book Award (WAYRBA) for Older Readers   \\\n",
       "0                                                  1                      \n",
       "1                                                  0                      \n",
       "2                                                  0                      \n",
       "3                                                  0                      \n",
       "4                                                  1                      \n",
       "\n",
       "   West Australian Young Readers' Book Award (WAYRBA) for Younger Readers   \\\n",
       "0                                                  0                         \n",
       "1                                                  0                         \n",
       "2                                                  0                         \n",
       "3                                                  0                         \n",
       "4                                                  0                         \n",
       "\n",
       "   William Allen White Children's Book Award   \\\n",
       "0                                           0   \n",
       "1                                           0   \n",
       "2                                           0   \n",
       "3                                           0   \n",
       "4                                           0   \n",
       "\n",
       "   William C. Morris YA Debut Award Nominee   \\\n",
       "0                                          0   \n",
       "1                                          0   \n",
       "2                                          0   \n",
       "3                                          0   \n",
       "4                                          0   \n",
       "\n",
       "   Women's Prize for Fiction Nominee   \\\n",
       "0                                   0   \n",
       "1                                   0   \n",
       "2                                   0   \n",
       "3                                   0   \n",
       "4                                   0   \n",
       "\n",
       "   Women's Prize for Fiction Nominee for Longlist   \\\n",
       "0                                                0   \n",
       "1                                                0   \n",
       "2                                                0   \n",
       "3                                                0   \n",
       "4                                                0   \n",
       "\n",
       "   World Fantasy Award Nominee for Best Novel   \\\n",
       "0                                            0   \n",
       "1                                            0   \n",
       "2                                            0   \n",
       "3                                            0   \n",
       "4                                            0   \n",
       "\n",
       "   World Fantasy Award for Best Novel   Zilveren Griffel   \\\n",
       "0                                    0                  0   \n",
       "1                                    0                  0   \n",
       "2                                    0                  0   \n",
       "3                                    0                  0   \n",
       "4                                    0                  0   \n",
       "\n",
       "   الجائزة العالمية للرواية العربية (أي باف) / International Prize for Arabic Fiction (IPAF) Nominee   \n",
       "0                                                  0                                                   \n",
       "1                                                  0                                                   \n",
       "2                                                  0                                                   \n",
       "3                                                  0                                                   \n",
       "4                                                  0                                                   \n",
       "\n",
       "[5 rows x 862 columns]"
      ]
     },
     "metadata": {},
     "output_type": "display_data"
    },
    {
     "data": {
      "text/plain": [
       "(48655, 862)"
      ]
     },
     "metadata": {},
     "output_type": "display_data"
    }
   ],
   "source": [
    "display(gr_data.head(), gr_data.shape)"
   ]
  },
  {
   "cell_type": "markdown",
   "id": "c781a6eb",
   "metadata": {},
   "source": [
    "#### Drop unnecesary columns"
   ]
  },
  {
   "cell_type": "code",
   "execution_count": 4,
   "id": "1df632d2",
   "metadata": {},
   "outputs": [],
   "source": [
    "gr_data= gr_data.drop(['title','isbn','description'],axis=1)"
   ]
  },
  {
   "cell_type": "code",
   "execution_count": 5,
   "id": "758dffe1",
   "metadata": {},
   "outputs": [
    {
     "data": {
      "text/plain": [
       "(48655, 859)"
      ]
     },
     "execution_count": 5,
     "metadata": {},
     "output_type": "execute_result"
    }
   ],
   "source": [
    "gr_data.shape"
   ]
  },
  {
   "cell_type": "markdown",
   "id": "33db57dc",
   "metadata": {},
   "source": [
    "#### NaN"
   ]
  },
  {
   "cell_type": "code",
   "execution_count": 6,
   "id": "5e2bbd60",
   "metadata": {},
   "outputs": [
    {
     "data": {
      "text/plain": [
       "0"
      ]
     },
     "execution_count": 6,
     "metadata": {},
     "output_type": "execute_result"
    }
   ],
   "source": [
    "gr_data.isna().sum().sum()"
   ]
  },
  {
   "cell_type": "markdown",
   "id": "11829a3a",
   "metadata": {},
   "source": [
    "#### Types"
   ]
  },
  {
   "cell_type": "code",
   "execution_count": 7,
   "id": "fce4c1e0",
   "metadata": {},
   "outputs": [
    {
     "data": {
      "text/plain": [
       "series                  object\n",
       "author                  object\n",
       "language                object\n",
       "pages                   object\n",
       "book_format             object\n",
       "publish_year             int64\n",
       "first_publish_year       int64\n",
       "publisher               object\n",
       "liked_perc             float64\n",
       "bbe_score              float64\n",
       "bbe_votes              float64\n",
       "log_num_ratings        float64\n",
       "5_stars_num_ratings      int64\n",
       "4_stars_num_ratings      int64\n",
       "3_stars_num_ratings      int64\n",
       "2_stars_num_ratings      int64\n",
       "1_star_num_ratings       int64\n",
       "rating                 float64\n",
       "dtype: object"
      ]
     },
     "execution_count": 7,
     "metadata": {},
     "output_type": "execute_result"
    }
   ],
   "source": [
    "gr_data.iloc[:, :18].dtypes"
   ]
  },
  {
   "cell_type": "markdown",
   "id": "2280b3bc",
   "metadata": {},
   "source": [
    "#### Correlation-Association amongst features"
   ]
  },
  {
   "cell_type": "code",
   "execution_count": 8,
   "id": "9e24e5e8",
   "metadata": {},
   "outputs": [],
   "source": [
    "# Split numerical-categorical variables\n",
    "numerical = gr_data.select_dtypes(include=np.number)\n",
    "categorical = gr_data.select_dtypes(include=['object'])"
   ]
  },
  {
   "cell_type": "code",
   "execution_count": 9,
   "id": "d6b5fb1c",
   "metadata": {},
   "outputs": [
    {
     "data": {
      "text/plain": [
       "(48655, 6)"
      ]
     },
     "execution_count": 9,
     "metadata": {},
     "output_type": "execute_result"
    }
   ],
   "source": [
    "categorical.shape"
   ]
  },
  {
   "cell_type": "code",
   "execution_count": 10,
   "id": "b3af4fe3",
   "metadata": {},
   "outputs": [
    {
     "data": {
      "text/plain": [
       "(48655, 853)"
      ]
     },
     "execution_count": 10,
     "metadata": {},
     "output_type": "execute_result"
    }
   ],
   "source": [
    "numerical.shape"
   ]
  },
  {
   "cell_type": "markdown",
   "id": "5e7aeb94",
   "metadata": {},
   "source": [
    "#### Numerical"
   ]
  },
  {
   "cell_type": "markdown",
   "id": "72afd8da",
   "metadata": {},
   "source": [
    "Correlation Matrix: (only shown correlations > 0.6 or < -0,6 )"
   ]
  },
  {
   "cell_type": "code",
   "execution_count": 11,
   "id": "063879d3",
   "metadata": {
    "scrolled": true
   },
   "outputs": [
    {
     "data": {
      "text/html": [
       "<div>\n",
       "<style scoped>\n",
       "    .dataframe tbody tr th:only-of-type {\n",
       "        vertical-align: middle;\n",
       "    }\n",
       "\n",
       "    .dataframe tbody tr th {\n",
       "        vertical-align: top;\n",
       "    }\n",
       "\n",
       "    .dataframe thead th {\n",
       "        text-align: right;\n",
       "    }\n",
       "</style>\n",
       "<table border=\"1\" class=\"dataframe\">\n",
       "  <thead>\n",
       "    <tr style=\"text-align: right;\">\n",
       "      <th></th>\n",
       "      <th>row name</th>\n",
       "      <th>col name</th>\n",
       "      <th>corr number</th>\n",
       "    </tr>\n",
       "  </thead>\n",
       "  <tbody>\n",
       "    <tr>\n",
       "      <th>11</th>\n",
       "      <td>3_stars_num_ratings</td>\n",
       "      <td>4_stars_num_ratings</td>\n",
       "      <td>0.957836</td>\n",
       "    </tr>\n",
       "    <tr>\n",
       "      <th>16</th>\n",
       "      <td>2_stars_num_ratings</td>\n",
       "      <td>3_stars_num_ratings</td>\n",
       "      <td>0.956072</td>\n",
       "    </tr>\n",
       "    <tr>\n",
       "      <th>0</th>\n",
       "      <td>bbe_score</td>\n",
       "      <td>bbe_votes</td>\n",
       "      <td>0.939596</td>\n",
       "    </tr>\n",
       "    <tr>\n",
       "      <th>21</th>\n",
       "      <td>1_star_num_ratings</td>\n",
       "      <td>2_stars_num_ratings</td>\n",
       "      <td>0.933824</td>\n",
       "    </tr>\n",
       "    <tr>\n",
       "      <th>6</th>\n",
       "      <td>4_stars_num_ratings</td>\n",
       "      <td>5_stars_num_ratings</td>\n",
       "      <td>0.931859</td>\n",
       "    </tr>\n",
       "    <tr>\n",
       "      <th>15</th>\n",
       "      <td>2_stars_num_ratings</td>\n",
       "      <td>4_stars_num_ratings</td>\n",
       "      <td>0.856281</td>\n",
       "    </tr>\n",
       "    <tr>\n",
       "      <th>10</th>\n",
       "      <td>3_stars_num_ratings</td>\n",
       "      <td>5_stars_num_ratings</td>\n",
       "      <td>0.831870</td>\n",
       "    </tr>\n",
       "    <tr>\n",
       "      <th>20</th>\n",
       "      <td>1_star_num_ratings</td>\n",
       "      <td>3_stars_num_ratings</td>\n",
       "      <td>0.820076</td>\n",
       "    </tr>\n",
       "    <tr>\n",
       "      <th>14</th>\n",
       "      <td>2_stars_num_ratings</td>\n",
       "      <td>5_stars_num_ratings</td>\n",
       "      <td>0.726403</td>\n",
       "    </tr>\n",
       "    <tr>\n",
       "      <th>19</th>\n",
       "      <td>1_star_num_ratings</td>\n",
       "      <td>4_stars_num_ratings</td>\n",
       "      <td>0.711987</td>\n",
       "    </tr>\n",
       "    <tr>\n",
       "      <th>65</th>\n",
       "      <td>Hugo Award for Best Novel</td>\n",
       "      <td>hugo awards</td>\n",
       "      <td>0.708158</td>\n",
       "    </tr>\n",
       "    <tr>\n",
       "      <th>63</th>\n",
       "      <td>booze</td>\n",
       "      <td>drinking</td>\n",
       "      <td>0.707100</td>\n",
       "    </tr>\n",
       "    <tr>\n",
       "      <th>54</th>\n",
       "      <td>love inspired</td>\n",
       "      <td>love inspired historical</td>\n",
       "      <td>0.707070</td>\n",
       "    </tr>\n",
       "    <tr>\n",
       "      <th>25</th>\n",
       "      <td>historical</td>\n",
       "      <td>historical fiction</td>\n",
       "      <td>0.699301</td>\n",
       "    </tr>\n",
       "    <tr>\n",
       "      <th>50</th>\n",
       "      <td>money</td>\n",
       "      <td>personal finance</td>\n",
       "      <td>0.677922</td>\n",
       "    </tr>\n",
       "    <tr>\n",
       "      <th>30</th>\n",
       "      <td>christian fiction</td>\n",
       "      <td>christianity</td>\n",
       "      <td>0.676971</td>\n",
       "    </tr>\n",
       "    <tr>\n",
       "      <th>57</th>\n",
       "      <td>cthulhu mythos</td>\n",
       "      <td>lovecraftian</td>\n",
       "      <td>0.675476</td>\n",
       "    </tr>\n",
       "    <tr>\n",
       "      <th>28</th>\n",
       "      <td>paranormal</td>\n",
       "      <td>paranormal romance</td>\n",
       "      <td>0.656138</td>\n",
       "    </tr>\n",
       "    <tr>\n",
       "      <th>56</th>\n",
       "      <td>brain</td>\n",
       "      <td>neuroscience</td>\n",
       "      <td>0.648837</td>\n",
       "    </tr>\n",
       "    <tr>\n",
       "      <th>64</th>\n",
       "      <td>business and finance.1</td>\n",
       "      <td>money</td>\n",
       "      <td>0.647308</td>\n",
       "    </tr>\n",
       "    <tr>\n",
       "      <th>47</th>\n",
       "      <td>american civil war</td>\n",
       "      <td>civil war</td>\n",
       "      <td>0.647194</td>\n",
       "    </tr>\n",
       "    <tr>\n",
       "      <th>46</th>\n",
       "      <td>personal development</td>\n",
       "      <td>self help</td>\n",
       "      <td>0.646251</td>\n",
       "    </tr>\n",
       "    <tr>\n",
       "      <th>62</th>\n",
       "      <td>shounen ai</td>\n",
       "      <td>yaoi</td>\n",
       "      <td>0.645358</td>\n",
       "    </tr>\n",
       "    <tr>\n",
       "      <th>43</th>\n",
       "      <td>prehistoric</td>\n",
       "      <td>prehistory</td>\n",
       "      <td>0.643481</td>\n",
       "    </tr>\n",
       "    <tr>\n",
       "      <th>18</th>\n",
       "      <td>1_star_num_ratings</td>\n",
       "      <td>5_stars_num_ratings</td>\n",
       "      <td>0.639672</td>\n",
       "    </tr>\n",
       "    <tr>\n",
       "      <th>42</th>\n",
       "      <td>counting</td>\n",
       "      <td>number</td>\n",
       "      <td>0.639534</td>\n",
       "    </tr>\n",
       "    <tr>\n",
       "      <th>37</th>\n",
       "      <td>mystery thriller</td>\n",
       "      <td>thriller</td>\n",
       "      <td>0.638663</td>\n",
       "    </tr>\n",
       "    <tr>\n",
       "      <th>22</th>\n",
       "      <td>fantasy</td>\n",
       "      <td>science fiction</td>\n",
       "      <td>0.634241</td>\n",
       "    </tr>\n",
       "    <tr>\n",
       "      <th>36</th>\n",
       "      <td>crime</td>\n",
       "      <td>mystery thriller</td>\n",
       "      <td>0.629742</td>\n",
       "    </tr>\n",
       "    <tr>\n",
       "      <th>35</th>\n",
       "      <td>suspense</td>\n",
       "      <td>thriller</td>\n",
       "      <td>0.618759</td>\n",
       "    </tr>\n",
       "    <tr>\n",
       "      <th>44</th>\n",
       "      <td>medical</td>\n",
       "      <td>medicine</td>\n",
       "      <td>0.615121</td>\n",
       "    </tr>\n",
       "    <tr>\n",
       "      <th>27</th>\n",
       "      <td>paranormal</td>\n",
       "      <td>urban fantasy</td>\n",
       "      <td>0.612334</td>\n",
       "    </tr>\n",
       "    <tr>\n",
       "      <th>41</th>\n",
       "      <td>history</td>\n",
       "      <td>nonfiction</td>\n",
       "      <td>0.603818</td>\n",
       "    </tr>\n",
       "  </tbody>\n",
       "</table>\n",
       "</div>"
      ],
      "text/plain": [
       "                      row name                  col name  corr number\n",
       "11         3_stars_num_ratings       4_stars_num_ratings     0.957836\n",
       "16         2_stars_num_ratings       3_stars_num_ratings     0.956072\n",
       "0                    bbe_score                 bbe_votes     0.939596\n",
       "21          1_star_num_ratings       2_stars_num_ratings     0.933824\n",
       "6          4_stars_num_ratings       5_stars_num_ratings     0.931859\n",
       "15         2_stars_num_ratings       4_stars_num_ratings     0.856281\n",
       "10         3_stars_num_ratings       5_stars_num_ratings     0.831870\n",
       "20          1_star_num_ratings       3_stars_num_ratings     0.820076\n",
       "14         2_stars_num_ratings       5_stars_num_ratings     0.726403\n",
       "19          1_star_num_ratings       4_stars_num_ratings     0.711987\n",
       "65  Hugo Award for Best Novel                hugo awards     0.708158\n",
       "63                       booze                  drinking     0.707100\n",
       "54               love inspired  love inspired historical     0.707070\n",
       "25                  historical        historical fiction     0.699301\n",
       "50                       money          personal finance     0.677922\n",
       "30           christian fiction              christianity     0.676971\n",
       "57              cthulhu mythos              lovecraftian     0.675476\n",
       "28                  paranormal        paranormal romance     0.656138\n",
       "56                       brain              neuroscience     0.648837\n",
       "64      business and finance.1                     money     0.647308\n",
       "47          american civil war                 civil war     0.647194\n",
       "46        personal development                 self help     0.646251\n",
       "62                  shounen ai                      yaoi     0.645358\n",
       "43                 prehistoric                prehistory     0.643481\n",
       "18          1_star_num_ratings       5_stars_num_ratings     0.639672\n",
       "42                    counting                    number     0.639534\n",
       "37            mystery thriller                  thriller     0.638663\n",
       "22                     fantasy           science fiction     0.634241\n",
       "36                       crime          mystery thriller     0.629742\n",
       "35                    suspense                  thriller     0.618759\n",
       "44                     medical                  medicine     0.615121\n",
       "27                  paranormal             urban fantasy     0.612334\n",
       "41                     history                nonfiction     0.603818"
      ]
     },
     "metadata": {},
     "output_type": "display_data"
    },
    {
     "data": {
      "text/plain": [
       "33"
      ]
     },
     "metadata": {},
     "output_type": "display_data"
    }
   ],
   "source": [
    "# Correlation matrix for numerical values (854 columns)\n",
    "corr_matrix = numerical.corr()\n",
    "\n",
    "# Get the indices of non-NaN values in the correlation matrix\n",
    "indices = [(row, col) for row in corr_matrix.index for col in corr_matrix.columns if not pd.isna(corr_matrix.loc[row, col])]\n",
    "\n",
    "# Create a DataFrame with the row name, column name, and correlation number for each\n",
    "# non-NaN value in the correlation matrix that meets the condition and where row name\n",
    "# and col name are different\n",
    "df = pd.DataFrame([(idx[0], idx[1], corr_matrix.loc[idx]) for idx in indices if (corr_matrix.loc[idx] > 0.6 or corr_matrix.loc[idx] < -0.6) and idx[0] != idx[1]], columns=['row name', 'col name', 'corr number'])\n",
    "\n",
    "# Drop duplicate rows where row name is greater than col name\n",
    "df = df[df['row name'] < df['col name']]\n",
    "\n",
    "# Sort the DataFrame by the correlation number in descending order\n",
    "df = df.sort_values(by='corr number', ascending=False)\n",
    "\n",
    "# Print the sorted DataFrame\n",
    "display(df, len(df))\n"
   ]
  },
  {
   "cell_type": "code",
   "execution_count": 12,
   "id": "aa848682",
   "metadata": {},
   "outputs": [
    {
     "data": {
      "text/plain": [
       "0    48593\n",
       "1       62\n",
       "Name: Hugo Award for Best Novel , dtype: int64"
      ]
     },
     "metadata": {},
     "output_type": "display_data"
    },
    {
     "data": {
      "text/plain": [
       "0    48620\n",
       "1       35\n",
       "Name: hugo awards, dtype: int64"
      ]
     },
     "metadata": {},
     "output_type": "display_data"
    }
   ],
   "source": [
    "display(numerical['Hugo Award for Best Novel '].value_counts(),numerical['hugo awards'].value_counts())"
   ]
  },
  {
   "cell_type": "code",
   "execution_count": 13,
   "id": "927103e5",
   "metadata": {},
   "outputs": [
    {
     "data": {
      "text/plain": [
       "0    48645\n",
       "1       10\n",
       "Name: love inspired, dtype: int64"
      ]
     },
     "metadata": {},
     "output_type": "display_data"
    },
    {
     "data": {
      "text/plain": [
       "0    48650\n",
       "1        5\n",
       "Name: love inspired historical, dtype: int64"
      ]
     },
     "metadata": {},
     "output_type": "display_data"
    }
   ],
   "source": [
    "display(numerical['love inspired'].value_counts(),numerical['love inspired historical'].value_counts())"
   ]
  },
  {
   "cell_type": "code",
   "execution_count": 14,
   "id": "0d1bc32f",
   "metadata": {},
   "outputs": [],
   "source": [
    "# High correlated columns\n",
    "high_correlated = ['2_stars_num_ratings','3_stars_num_ratings','4_stars_num_ratings',\n",
    "                   'bbe_votes','hugo awards','booze','love inspired historical']"
   ]
  },
  {
   "cell_type": "code",
   "execution_count": 15,
   "id": "b669b25a",
   "metadata": {},
   "outputs": [
    {
     "data": {
      "text/plain": [
       "(48655, 853)"
      ]
     },
     "execution_count": 15,
     "metadata": {},
     "output_type": "execute_result"
    }
   ],
   "source": [
    "numerical.shape"
   ]
  },
  {
   "cell_type": "code",
   "execution_count": 16,
   "id": "2bbe0bfa",
   "metadata": {},
   "outputs": [
    {
     "data": {
      "text/plain": [
       "(48655, 846)"
      ]
     },
     "execution_count": 16,
     "metadata": {},
     "output_type": "execute_result"
    }
   ],
   "source": [
    "# Drop high correlated variables\n",
    "numerical = numerical.drop(high_correlated, axis=1)\n",
    "numerical.shape"
   ]
  },
  {
   "cell_type": "code",
   "execution_count": null,
   "id": "e3be9d54",
   "metadata": {
    "scrolled": true
   },
   "outputs": [],
   "source": [
    "# Correlation matrix for numerical values (849 columns)\n",
    "#corr_matrix = numerical.corr()\n",
    "\n",
    "# Get the indices of non-NaN values in the correlation matrix\n",
    "#indices = [(row, col) for row in corr_matrix.index for col in corr_matrix.columns if not pd.isna(corr_matrix.loc[row, col])]\n",
    "\n",
    "# Create a DataFrame with the row name, column name, and correlation number for each\n",
    "# non-NaN value in the correlation matrix that meets the condition and where row name\n",
    "# and col name are different\n",
    "#df = pd.DataFrame([(idx[0], idx[1], corr_matrix.loc[idx]) for idx in indices if (corr_matrix.loc[idx] > 0.6 or corr_matrix.loc[idx] < -0.6) and idx[0] != idx[1]], columns=['row name', 'col name', 'corr number'])\n",
    "\n",
    "# Drop duplicate rows where row name is greater than col name\n",
    "#df = df[df['row name'] < df['col name']]\n",
    "\n",
    "# Sort the DataFrame by the correlation number in descending order\n",
    "#df = df.sort_values(by='corr number', ascending=False)\n",
    "\n",
    "# Print the sorted DataFrame\n",
    "#display(df, len(df))\n"
   ]
  },
  {
   "cell_type": "code",
   "execution_count": null,
   "id": "d71d4559",
   "metadata": {},
   "outputs": [],
   "source": []
  },
  {
   "cell_type": "markdown",
   "id": "b5ce6890",
   "metadata": {},
   "source": [
    "correlation matrix can differ depending on whether the data is scaled or not. This is because correlation measures the linear relationship between two variables, and the scale of the variables can affect the strength of their relationship.\n",
    "\n",
    "For example, if one variable has a much larger scale than another variable, it may dominate the correlation analysis and obscure any relationships between the other variables. Scaling the variables to have the same range of values can help to mitigate this problem and provide a more accurate representation of the correlations between the variables."
   ]
  },
  {
   "cell_type": "markdown",
   "id": "b402a764",
   "metadata": {},
   "source": [
    "generally recommended to scale the numerical features before applying PCA to ensure that they are on a similar scale and have equal weight in the analysis. This is because PCA is sensitive to the scale of the variables, and features with larger scales can dominate the analysis. "
   ]
  },
  {
   "cell_type": "code",
   "execution_count": null,
   "id": "f417654c",
   "metadata": {},
   "outputs": [],
   "source": []
  },
  {
   "cell_type": "markdown",
   "id": "81ebd3c4",
   "metadata": {},
   "source": [
    "#### Categorical"
   ]
  },
  {
   "cell_type": "code",
   "execution_count": 17,
   "id": "bcdd1d7b",
   "metadata": {},
   "outputs": [
    {
     "data": {
      "text/plain": [
       "(48655, 6)"
      ]
     },
     "execution_count": 17,
     "metadata": {},
     "output_type": "execute_result"
    }
   ],
   "source": [
    "categorical.shape"
   ]
  },
  {
   "cell_type": "code",
   "execution_count": 18,
   "id": "07567f13",
   "metadata": {},
   "outputs": [
    {
     "data": {
      "text/plain": [
       "Index(['series', 'author', 'language', 'pages', 'book_format', 'publisher'], dtype='object')"
      ]
     },
     "execution_count": 18,
     "metadata": {},
     "output_type": "execute_result"
    }
   ],
   "source": [
    "categorical.columns"
   ]
  },
  {
   "cell_type": "code",
   "execution_count": 19,
   "id": "fa4635b4",
   "metadata": {},
   "outputs": [
    {
     "name": "stdout",
     "output_type": "stream",
     "text": [
      "Unique values for series: 4405\n",
      "Unique values for author: 21720\n",
      "Unique values for language: 92\n",
      "Unique values for pages: 12\n",
      "Unique values for book_format: 10\n",
      "Unique values for publisher: 4\n"
     ]
    }
   ],
   "source": [
    "for col in categorical.columns:\n",
    "    print(f\"Unique values for {col}: {categorical[col].nunique()}\")"
   ]
  },
  {
   "cell_type": "code",
   "execution_count": 20,
   "id": "e93911a4",
   "metadata": {},
   "outputs": [
    {
     "data": {
      "text/plain": [
       "0        Suzanne Collins\n",
       "1           J.K. Rowling\n",
       "2             Harper Lee\n",
       "3            Jane Austen\n",
       "4        Stephenie Meyer\n",
       "              ...       \n",
       "48650      Sherry Gammon\n",
       "48651      Emma Michaels\n",
       "48652     Kim Richardson\n",
       "48653        Tom Pollack\n",
       "48654       Misty Moncur\n",
       "Name: author, Length: 48655, dtype: object"
      ]
     },
     "execution_count": 20,
     "metadata": {},
     "output_type": "execute_result"
    }
   ],
   "source": [
    "categorical['author']"
   ]
  },
  {
   "cell_type": "code",
   "execution_count": 23,
   "id": "afde646f",
   "metadata": {},
   "outputs": [
    {
     "data": {
      "text/plain": [
       "0             The Hunger Games\n",
       "1                 Harry Potter\n",
       "2        To Kill a Mockingbird\n",
       "3                  Single Book\n",
       "4            The Twilight Saga\n",
       "                 ...          \n",
       "48650                Port Fare\n",
       "48651           Sense of Truth\n",
       "48652           Soul Guardians\n",
       "48653              Single Book\n",
       "48654              Single Book\n",
       "Name: series, Length: 48655, dtype: object"
      ]
     },
     "execution_count": 23,
     "metadata": {},
     "output_type": "execute_result"
    }
   ],
   "source": [
    "categorical['series']"
   ]
  },
  {
   "cell_type": "code",
   "execution_count": null,
   "id": "eb1e9752",
   "metadata": {},
   "outputs": [],
   "source": []
  },
  {
   "cell_type": "code",
   "execution_count": null,
   "id": "26948f25",
   "metadata": {},
   "outputs": [],
   "source": []
  },
  {
   "cell_type": "code",
   "execution_count": null,
   "id": "899c7ba5",
   "metadata": {},
   "outputs": [],
   "source": []
  }
 ],
 "metadata": {
  "kernelspec": {
   "display_name": "Python 3 (ipykernel)",
   "language": "python",
   "name": "python3"
  },
  "language_info": {
   "codemirror_mode": {
    "name": "ipython",
    "version": 3
   },
   "file_extension": ".py",
   "mimetype": "text/x-python",
   "name": "python",
   "nbconvert_exporter": "python",
   "pygments_lexer": "ipython3",
   "version": "3.9.13"
  }
 },
 "nbformat": 4,
 "nbformat_minor": 5
}
