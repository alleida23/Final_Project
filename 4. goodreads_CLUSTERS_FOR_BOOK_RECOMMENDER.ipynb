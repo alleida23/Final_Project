{
 "cells": [
  {
   "cell_type": "markdown",
   "id": "25faad22",
   "metadata": {},
   "source": [
    "# CLUSTERING BOOKS"
   ]
  },
  {
   "cell_type": "markdown",
   "id": "afaa60a1",
   "metadata": {},
   "source": [
    "In this section, I'm going to analyze the optimal amount of clusters for my data using Elbow and Silhouette methods, as well as KMeans.\n",
    "\n",
    "Then I will add a new column to the main dataset with the corresponding cluster for each row. Once the book recommender function is built (in the following kernel), it will be easier to suggest a book from the same cluster as the one searched by the user."
   ]
  },
  {
   "cell_type": "code",
   "execution_count": 2,
   "id": "e068cc08",
   "metadata": {},
   "outputs": [],
   "source": [
    "import pandas as pd\n",
    "import numpy as np\n",
    "\n",
    "import matplotlib.pyplot as plt\n",
    "from matplotlib.lines import Line2D\n",
    "\n",
    "from sklearn.preprocessing import StandardScaler\n",
    "from sklearn.metrics.pairwise import cosine_similarity\n",
    "from sklearn import cluster, datasets\n",
    "from sklearn.cluster import KMeans\n",
    "\n",
    "from IPython.display import Markdown, display \n",
    "\n",
    "import pickle"
   ]
  },
  {
   "cell_type": "code",
   "execution_count": 4,
   "id": "33dd9b02",
   "metadata": {},
   "outputs": [],
   "source": [
    "gr_data = pd.read_csv('./2. Clean_df/gr_data_CLEAN.csv')\n",
    "gr_data = gr_data.drop(['Unnamed: 0'],axis=1)"
   ]
  },
  {
   "cell_type": "code",
   "execution_count": 5,
   "id": "f0e5e8be",
   "metadata": {},
   "outputs": [
    {
     "data": {
      "text/plain": [
       "(48655, 862)"
      ]
     },
     "execution_count": 5,
     "metadata": {},
     "output_type": "execute_result"
    }
   ],
   "source": [
    "gr_data.shape"
   ]
  },
  {
   "cell_type": "code",
   "execution_count": 6,
   "id": "3d2462e3",
   "metadata": {},
   "outputs": [
    {
     "data": {
      "text/plain": [
       "Index(['title', 'series', 'author', 'description', 'language', 'pages', 'isbn',\n",
       "       'book_format', 'publisher'],\n",
       "      dtype='object')"
      ]
     },
     "execution_count": 6,
     "metadata": {},
     "output_type": "execute_result"
    }
   ],
   "source": [
    "# Check categorical columns\n",
    "categorical = gr_data.select_dtypes(include=['object'])\n",
    "categorical.columns"
   ]
  },
  {
   "cell_type": "markdown",
   "id": "45f0f358",
   "metadata": {},
   "source": [
    "#### Recovering numerical values of 'pages' from original dataframe"
   ]
  },
  {
   "cell_type": "markdown",
   "id": "58c6d050",
   "metadata": {},
   "source": [
    "As book recommender will work on numerical features, I want to recover 'pages'."
   ]
  },
  {
   "cell_type": "code",
   "execution_count": 7,
   "id": "f13c8c6d",
   "metadata": {},
   "outputs": [
    {
     "data": {
      "text/plain": [
       "0        374\n",
       "1        870\n",
       "2        324\n",
       "3        279\n",
       "4        501\n",
       "        ... \n",
       "52473      0\n",
       "52474    190\n",
       "52475    280\n",
       "52476    507\n",
       "52477    201\n",
       "Name: pages, Length: 52478, dtype: object"
      ]
     },
     "execution_count": 7,
     "metadata": {},
     "output_type": "execute_result"
    }
   ],
   "source": [
    "original_df = pd.read_csv('./1. Original_df/GoodReads.Best_Books_Ever 2.csv')\n",
    "original_df['pages']"
   ]
  },
  {
   "cell_type": "code",
   "execution_count": 8,
   "id": "abe1c041",
   "metadata": {},
   "outputs": [],
   "source": [
    "# Adding column with numerical pages where 'title' matches (gr_data is shorter and no NaN)\n",
    "gr_data['pages2'] = ''\n",
    "\n",
    "for index, row in original_df.iterrows():\n",
    "    title = row['title']\n",
    "    pages = row['pages']\n",
    "    gr_data.loc[gr_data['title'] == title, 'pages2'] = pages\n",
    "#gr_data = pd.merge(gr_data, original_df[['title', 'pages']], on='title', how='left')\n",
    "#merged_df.drop('title', axis=1, inplace=True)\n",
    "#gr_data.rename(columns={'pages': 'pages2'}, inplace=True)"
   ]
  },
  {
   "cell_type": "code",
   "execution_count": 9,
   "id": "841af149",
   "metadata": {},
   "outputs": [
    {
     "data": {
      "text/plain": [
       "48655"
      ]
     },
     "execution_count": 9,
     "metadata": {},
     "output_type": "execute_result"
    }
   ],
   "source": [
    "# Same length\n",
    "len(gr_data['pages2'])"
   ]
  },
  {
   "cell_type": "code",
   "execution_count": 10,
   "id": "8a0c9dca",
   "metadata": {},
   "outputs": [
    {
     "data": {
      "text/plain": [
       "114"
      ]
     },
     "execution_count": 10,
     "metadata": {},
     "output_type": "execute_result"
    }
   ],
   "source": [
    "# NaN\n",
    "gr_data['pages2'].isna().sum()"
   ]
  },
  {
   "cell_type": "code",
   "execution_count": 11,
   "id": "3407c5f6",
   "metadata": {},
   "outputs": [],
   "source": [
    "# Delete rows with NaN\n",
    "gr_data.dropna(subset=['pages2'], inplace=True)"
   ]
  },
  {
   "cell_type": "code",
   "execution_count": 12,
   "id": "49859097",
   "metadata": {},
   "outputs": [
    {
     "data": {
      "text/plain": [
       "dtype('O')"
      ]
     },
     "execution_count": 12,
     "metadata": {},
     "output_type": "execute_result"
    }
   ],
   "source": [
    "# Type\n",
    "gr_data['pages2'].dtype"
   ]
  },
  {
   "cell_type": "code",
   "execution_count": 13,
   "id": "5456212c",
   "metadata": {},
   "outputs": [],
   "source": [
    "# Deleting row with str\n",
    "gr_data = gr_data.drop(gr_data[gr_data['pages2'] == '1 page'].index)\n",
    "\n",
    "# Converting to numerical\n",
    "gr_data['pages2'] = gr_data['pages2'].astype(np.number)"
   ]
  },
  {
   "cell_type": "code",
   "execution_count": 14,
   "id": "8b3b4af3",
   "metadata": {},
   "outputs": [
    {
     "data": {
      "text/plain": [
       "dtype('float64')"
      ]
     },
     "execution_count": 14,
     "metadata": {},
     "output_type": "execute_result"
    }
   ],
   "source": [
    "gr_data['pages2'].dtype"
   ]
  },
  {
   "cell_type": "code",
   "execution_count": 187,
   "id": "2ea43b26",
   "metadata": {},
   "outputs": [],
   "source": [
    "gr_data.to_csv('./2. Clean_df/gr_data_FOR_CLUSTERING.csv')"
   ]
  },
  {
   "cell_type": "code",
   "execution_count": null,
   "id": "8b0aea5b",
   "metadata": {},
   "outputs": [],
   "source": []
  },
  {
   "cell_type": "markdown",
   "id": "78b0893e",
   "metadata": {},
   "source": [
    "### Clustering features with K-Means"
   ]
  },
  {
   "cell_type": "markdown",
   "id": "d1150cd0",
   "metadata": {},
   "source": [
    "#### Features (numerical data)"
   ]
  },
  {
   "cell_type": "code",
   "execution_count": 3,
   "id": "4b444540",
   "metadata": {},
   "outputs": [],
   "source": [
    "gr_data = pd.read_csv('./2. Clean_df/gr_data_FOR_CLUSTERING.csv')\n",
    "gr_data = gr_data.drop(['Unnamed: 0'],axis=1)"
   ]
  },
  {
   "cell_type": "code",
   "execution_count": 4,
   "id": "1b29b12d",
   "metadata": {},
   "outputs": [
    {
     "data": {
      "text/plain": [
       "(48540, 854)"
      ]
     },
     "execution_count": 4,
     "metadata": {},
     "output_type": "execute_result"
    }
   ],
   "source": [
    "features = gr_data.select_dtypes(include=np.number)\n",
    "features.shape"
   ]
  },
  {
   "cell_type": "code",
   "execution_count": 5,
   "id": "23be70f0",
   "metadata": {},
   "outputs": [],
   "source": [
    "X = features"
   ]
  },
  {
   "cell_type": "markdown",
   "id": "5b21146c",
   "metadata": {},
   "source": [
    "#### Scaling data (without training)"
   ]
  },
  {
   "cell_type": "code",
   "execution_count": 6,
   "id": "32ab8c66",
   "metadata": {},
   "outputs": [
    {
     "data": {
      "text/html": [
       "<div>\n",
       "<style scoped>\n",
       "    .dataframe tbody tr th:only-of-type {\n",
       "        vertical-align: middle;\n",
       "    }\n",
       "\n",
       "    .dataframe tbody tr th {\n",
       "        vertical-align: top;\n",
       "    }\n",
       "\n",
       "    .dataframe thead th {\n",
       "        text-align: right;\n",
       "    }\n",
       "</style>\n",
       "<table border=\"1\" class=\"dataframe\">\n",
       "  <thead>\n",
       "    <tr style=\"text-align: right;\">\n",
       "      <th></th>\n",
       "      <th>publish_year</th>\n",
       "      <th>first_publish_year</th>\n",
       "      <th>liked_perc</th>\n",
       "      <th>bbe_score</th>\n",
       "      <th>bbe_votes</th>\n",
       "      <th>log_num_ratings</th>\n",
       "      <th>5_stars_num_ratings</th>\n",
       "      <th>4_stars_num_ratings</th>\n",
       "      <th>3_stars_num_ratings</th>\n",
       "      <th>2_stars_num_ratings</th>\n",
       "      <th>...</th>\n",
       "      <th>West Australian Young Readers' Book Award (WAYRBA) for Younger Readers</th>\n",
       "      <th>William Allen White Children's Book Award</th>\n",
       "      <th>William C. Morris YA Debut Award Nominee</th>\n",
       "      <th>Women's Prize for Fiction Nominee</th>\n",
       "      <th>Women's Prize for Fiction Nominee for Longlist</th>\n",
       "      <th>World Fantasy Award Nominee for Best Novel</th>\n",
       "      <th>World Fantasy Award for Best Novel</th>\n",
       "      <th>Zilveren Griffel</th>\n",
       "      <th>الجائزة العالمية للرواية العربية (أي باف) / International Prize for Arabic Fiction (IPAF) Nominee</th>\n",
       "      <th>pages2</th>\n",
       "    </tr>\n",
       "  </thead>\n",
       "  <tbody>\n",
       "    <tr>\n",
       "      <th>0</th>\n",
       "      <td>0.207263</td>\n",
       "      <td>0.177221</td>\n",
       "      <td>0.438259</td>\n",
       "      <td>7.941488</td>\n",
       "      <td>8.357558</td>\n",
       "      <td>3.282082</td>\n",
       "      <td>65.257891</td>\n",
       "      <td>58.372793</td>\n",
       "      <td>42.150463</td>\n",
       "      <td>29.525275</td>\n",
       "      <td>...</td>\n",
       "      <td>-0.018159</td>\n",
       "      <td>-0.030462</td>\n",
       "      <td>-0.021294</td>\n",
       "      <td>-0.019788</td>\n",
       "      <td>-0.02315</td>\n",
       "      <td>-0.044283</td>\n",
       "      <td>-0.026083</td>\n",
       "      <td>-0.025684</td>\n",
       "      <td>-0.017582</td>\n",
       "      <td>0.185473</td>\n",
       "    </tr>\n",
       "    <tr>\n",
       "      <th>1</th>\n",
       "      <td>-0.164730</td>\n",
       "      <td>-0.084770</td>\n",
       "      <td>0.627352</td>\n",
       "      <td>7.838949</td>\n",
       "      <td>8.249685</td>\n",
       "      <td>2.905250</td>\n",
       "      <td>30.111531</td>\n",
       "      <td>19.239087</td>\n",
       "      <td>12.436311</td>\n",
       "      <td>6.665401</td>\n",
       "      <td>...</td>\n",
       "      <td>-0.018159</td>\n",
       "      <td>-0.030462</td>\n",
       "      <td>-0.021294</td>\n",
       "      <td>-0.019788</td>\n",
       "      <td>-0.02315</td>\n",
       "      <td>-0.044283</td>\n",
       "      <td>-0.026083</td>\n",
       "      <td>-0.025684</td>\n",
       "      <td>-0.017582</td>\n",
       "      <td>2.215428</td>\n",
       "    </tr>\n",
       "    <tr>\n",
       "      <th>2</th>\n",
       "      <td>0.021267</td>\n",
       "      <td>-2.337885</td>\n",
       "      <td>0.343712</td>\n",
       "      <td>7.720796</td>\n",
       "      <td>8.126263</td>\n",
       "      <td>3.141437</td>\n",
       "      <td>44.736517</td>\n",
       "      <td>40.444039</td>\n",
       "      <td>32.378957</td>\n",
       "      <td>25.720158</td>\n",
       "      <td>...</td>\n",
       "      <td>-0.018159</td>\n",
       "      <td>-0.030462</td>\n",
       "      <td>-0.021294</td>\n",
       "      <td>-0.019788</td>\n",
       "      <td>-0.02315</td>\n",
       "      <td>-0.044283</td>\n",
       "      <td>-0.026083</td>\n",
       "      <td>-0.025684</td>\n",
       "      <td>-0.017582</td>\n",
       "      <td>-0.019160</td>\n",
       "    </tr>\n",
       "    <tr>\n",
       "      <th>3</th>\n",
       "      <td>-0.536723</td>\n",
       "      <td>0.439211</td>\n",
       "      <td>0.249166</td>\n",
       "      <td>7.613373</td>\n",
       "      <td>8.012962</td>\n",
       "      <td>2.977397</td>\n",
       "      <td>30.565800</td>\n",
       "      <td>24.699864</td>\n",
       "      <td>21.014602</td>\n",
       "      <td>19.502361</td>\n",
       "      <td>...</td>\n",
       "      <td>-0.018159</td>\n",
       "      <td>-0.030462</td>\n",
       "      <td>-0.021294</td>\n",
       "      <td>-0.019788</td>\n",
       "      <td>-0.02315</td>\n",
       "      <td>-0.044283</td>\n",
       "      <td>-0.026083</td>\n",
       "      <td>-0.025684</td>\n",
       "      <td>-0.017582</td>\n",
       "      <td>-0.203329</td>\n",
       "    </tr>\n",
       "    <tr>\n",
       "      <th>4</th>\n",
       "      <td>0.021267</td>\n",
       "      <td>0.020027</td>\n",
       "      <td>-1.263581</td>\n",
       "      <td>7.369117</td>\n",
       "      <td>7.738725</td>\n",
       "      <td>3.181004</td>\n",
       "      <td>33.108057</td>\n",
       "      <td>33.753952</td>\n",
       "      <td>57.123332</td>\n",
       "      <td>93.402448</td>\n",
       "      <td>...</td>\n",
       "      <td>-0.018159</td>\n",
       "      <td>-0.030462</td>\n",
       "      <td>-0.021294</td>\n",
       "      <td>-0.019788</td>\n",
       "      <td>-0.02315</td>\n",
       "      <td>-0.044283</td>\n",
       "      <td>-0.026083</td>\n",
       "      <td>-0.025684</td>\n",
       "      <td>-0.017582</td>\n",
       "      <td>-0.428425</td>\n",
       "    </tr>\n",
       "  </tbody>\n",
       "</table>\n",
       "<p>5 rows × 854 columns</p>\n",
       "</div>"
      ],
      "text/plain": [
       "   publish_year  first_publish_year  liked_perc  bbe_score  bbe_votes  \\\n",
       "0      0.207263            0.177221    0.438259   7.941488   8.357558   \n",
       "1     -0.164730           -0.084770    0.627352   7.838949   8.249685   \n",
       "2      0.021267           -2.337885    0.343712   7.720796   8.126263   \n",
       "3     -0.536723            0.439211    0.249166   7.613373   8.012962   \n",
       "4      0.021267            0.020027   -1.263581   7.369117   7.738725   \n",
       "\n",
       "   log_num_ratings  5_stars_num_ratings  4_stars_num_ratings  \\\n",
       "0         3.282082            65.257891            58.372793   \n",
       "1         2.905250            30.111531            19.239087   \n",
       "2         3.141437            44.736517            40.444039   \n",
       "3         2.977397            30.565800            24.699864   \n",
       "4         3.181004            33.108057            33.753952   \n",
       "\n",
       "   3_stars_num_ratings  2_stars_num_ratings  ...  \\\n",
       "0            42.150463            29.525275  ...   \n",
       "1            12.436311             6.665401  ...   \n",
       "2            32.378957            25.720158  ...   \n",
       "3            21.014602            19.502361  ...   \n",
       "4            57.123332            93.402448  ...   \n",
       "\n",
       "   West Australian Young Readers' Book Award (WAYRBA) for Younger Readers   \\\n",
       "0                                          -0.018159                         \n",
       "1                                          -0.018159                         \n",
       "2                                          -0.018159                         \n",
       "3                                          -0.018159                         \n",
       "4                                          -0.018159                         \n",
       "\n",
       "   William Allen White Children's Book Award   \\\n",
       "0                                   -0.030462   \n",
       "1                                   -0.030462   \n",
       "2                                   -0.030462   \n",
       "3                                   -0.030462   \n",
       "4                                   -0.030462   \n",
       "\n",
       "   William C. Morris YA Debut Award Nominee   \\\n",
       "0                                  -0.021294   \n",
       "1                                  -0.021294   \n",
       "2                                  -0.021294   \n",
       "3                                  -0.021294   \n",
       "4                                  -0.021294   \n",
       "\n",
       "   Women's Prize for Fiction Nominee   \\\n",
       "0                           -0.019788   \n",
       "1                           -0.019788   \n",
       "2                           -0.019788   \n",
       "3                           -0.019788   \n",
       "4                           -0.019788   \n",
       "\n",
       "   Women's Prize for Fiction Nominee for Longlist   \\\n",
       "0                                         -0.02315   \n",
       "1                                         -0.02315   \n",
       "2                                         -0.02315   \n",
       "3                                         -0.02315   \n",
       "4                                         -0.02315   \n",
       "\n",
       "   World Fantasy Award Nominee for Best Novel   \\\n",
       "0                                    -0.044283   \n",
       "1                                    -0.044283   \n",
       "2                                    -0.044283   \n",
       "3                                    -0.044283   \n",
       "4                                    -0.044283   \n",
       "\n",
       "   World Fantasy Award for Best Novel   Zilveren Griffel   \\\n",
       "0                            -0.026083          -0.025684   \n",
       "1                            -0.026083          -0.025684   \n",
       "2                            -0.026083          -0.025684   \n",
       "3                            -0.026083          -0.025684   \n",
       "4                            -0.026083          -0.025684   \n",
       "\n",
       "   الجائزة العالمية للرواية العربية (أي باف) / International Prize for Arabic Fiction (IPAF) Nominee   \\\n",
       "0                                          -0.017582                                                    \n",
       "1                                          -0.017582                                                    \n",
       "2                                          -0.017582                                                    \n",
       "3                                          -0.017582                                                    \n",
       "4                                          -0.017582                                                    \n",
       "\n",
       "     pages2  \n",
       "0  0.185473  \n",
       "1  2.215428  \n",
       "2 -0.019160  \n",
       "3 -0.203329  \n",
       "4 -0.428425  \n",
       "\n",
       "[5 rows x 854 columns]"
      ]
     },
     "execution_count": 6,
     "metadata": {},
     "output_type": "execute_result"
    }
   ],
   "source": [
    "#from sklearn.preprocessing import StandardScaler\n",
    "X_prep = StandardScaler().fit_transform(X)\n",
    "\n",
    "pd.DataFrame(X_prep,columns=X.columns).head()"
   ]
  },
  {
   "cell_type": "markdown",
   "id": "652ccd4f",
   "metadata": {},
   "source": [
    "#### Choosing k (defining best number of clusters) // Elbow and Silhouette"
   ]
  },
  {
   "cell_type": "markdown",
   "id": "4eccdf4b",
   "metadata": {},
   "source": [
    "- Elbow method"
   ]
  },
  {
   "cell_type": "code",
   "execution_count": 28,
   "id": "e60c1ac9",
   "metadata": {},
   "outputs": [
    {
     "data": {
      "text/plain": [
       "Text(0.5, 1.0, 'Elbow Method showing the optimal k')"
      ]
     },
     "execution_count": 28,
     "metadata": {},
     "output_type": "execute_result"
    },
    {
     "data": {
      "image/png": "[encoded data removed]",
      "text/plain": [
       "<Figure size 1600x800 with 1 Axes>"
      ]
     },
     "metadata": {},
     "output_type": "display_data"
    }
   ],
   "source": [
    "# Setting large range of clusters\n",
    "K = range(2, 50)\n",
    "inertia = []\n",
    "\n",
    "for k in K:\n",
    "    kmeans = KMeans(n_init = 'auto',\n",
    "                    n_clusters=k,\n",
    "                    random_state=1234)\n",
    "    kmeans.fit(X_prep)\n",
    "    inertia.append(kmeans.inertia_)\n",
    "\n",
    "%matplotlib inline\n",
    "\n",
    "plt.figure(figsize=(16,8))\n",
    "plt.plot(K, inertia, 'bx-')\n",
    "plt.xlabel('k')\n",
    "plt.ylabel('inertia')\n",
    "plt.xticks(np.arange(min(K), max(K)+1, 1.0))\n",
    "plt.title('Elbow Method showing the optimal k')"
   ]
  },
  {
   "cell_type": "markdown",
   "id": "0d4c005c",
   "metadata": {},
   "source": [
    "Elbow line trend is quite irregular, but seems that 5, 10 or 20 k."
   ]
  },
  {
   "cell_type": "markdown",
   "id": "353fd554",
   "metadata": {},
   "source": [
    "- Silohuette method"
   ]
  },
  {
   "cell_type": "code",
   "execution_count": 99,
   "id": "09acd0fc",
   "metadata": {},
   "outputs": [
    {
     "data": {
      "text/plain": [
       "Text(0.5, 1.0, 'Silhouette score showing the optimal k')"
      ]
     },
     "execution_count": 99,
     "metadata": {},
     "output_type": "execute_result"
    },
    {
     "data": {
      "image/png": "[encoded data removed]",
      "text/plain": [
       "<Figure size 1600x800 with 1 Axes>"
      ]
     },
     "metadata": {},
     "output_type": "display_data"
    }
   ],
   "source": [
    "from sklearn.metrics import silhouette_score\n",
    "\n",
    "K = range(2, 50)\n",
    "silhouette = []\n",
    "\n",
    "for k in K:\n",
    "    kmeans = KMeans(n_init='auto', n_clusters=k, random_state=1234)\n",
    "    kmeans.fit(X_prep)\n",
    "    #silhouette.append(silhouette_score(X_prep, kmeans.predict(X_prep)))\n",
    "    silhouette.append(silhouette_score(X_prep, kmeans.predict(X_prep), n_jobs=1))\n",
    "\n",
    "\n",
    "\n",
    "plt.figure(figsize=(16,8))\n",
    "plt.plot(K, silhouette, 'bx-')\n",
    "plt.xlabel('k')\n",
    "plt.ylabel('silhouette score')\n",
    "plt.xticks(np.arange(min(K), max(K)+1, 1.0))\n",
    "plt.title('Silhouette score showing the optimal k')"
   ]
  },
  {
   "cell_type": "markdown",
   "id": "2a1daaa0",
   "metadata": {},
   "source": [
    "Silhouette suggests K = 5, but distribution of data:"
   ]
  },
  {
   "cell_type": "code",
   "execution_count": 7,
   "id": "87b39861",
   "metadata": {},
   "outputs": [
    {
     "data": {
      "text/plain": [
       "0    47901\n",
       "1      154\n",
       "2        2\n",
       "3       70\n",
       "4      413\n",
       "dtype: int64"
      ]
     },
     "execution_count": 7,
     "metadata": {},
     "output_type": "execute_result"
    }
   ],
   "source": [
    "kmeans = KMeans(n_init= 'auto', n_clusters=5, random_state=1234)\n",
    "kmeans.fit(X_prep)\n",
    "clusters = kmeans.predict(X_prep)\n",
    "pd.Series(clusters).value_counts().sort_index()\n"
   ]
  },
  {
   "cell_type": "markdown",
   "id": "d0f29360",
   "metadata": {},
   "source": [
    "But 98,68% of data would be concentrated in 1 cluster."
   ]
  },
  {
   "cell_type": "code",
   "execution_count": 8,
   "id": "25ed7ca8",
   "metadata": {},
   "outputs": [
    {
     "data": {
      "text/plain": [
       "(48540, 854)"
      ]
     },
     "execution_count": 8,
     "metadata": {},
     "output_type": "execute_result"
    }
   ],
   "source": [
    "X_prep.shape"
   ]
  },
  {
   "cell_type": "code",
   "execution_count": 9,
   "id": "262d88b1",
   "metadata": {},
   "outputs": [
    {
     "data": {
      "text/plain": [
       "0.9868355995055624"
      ]
     },
     "execution_count": 9,
     "metadata": {},
     "output_type": "execute_result"
    }
   ],
   "source": [
    "47901/48540"
   ]
  },
  {
   "cell_type": "markdown",
   "id": "8ec19c5d",
   "metadata": {},
   "source": [
    "#### Clusters for my book recommender"
   ]
  },
  {
   "cell_type": "code",
   "execution_count": 18,
   "id": "9d3858c0",
   "metadata": {},
   "outputs": [
    {
     "data": {
      "text/html": [
       "<div>\n",
       "<style scoped>\n",
       "    .dataframe tbody tr th:only-of-type {\n",
       "        vertical-align: middle;\n",
       "    }\n",
       "\n",
       "    .dataframe tbody tr th {\n",
       "        vertical-align: top;\n",
       "    }\n",
       "\n",
       "    .dataframe thead th {\n",
       "        text-align: right;\n",
       "    }\n",
       "</style>\n",
       "<table border=\"1\" class=\"dataframe\">\n",
       "  <thead>\n",
       "    <tr style=\"text-align: right;\">\n",
       "      <th></th>\n",
       "      <th>Number of clusters</th>\n",
       "      <th>0</th>\n",
       "      <th>1</th>\n",
       "      <th>2</th>\n",
       "      <th>3</th>\n",
       "      <th>4</th>\n",
       "      <th>5</th>\n",
       "      <th>6</th>\n",
       "      <th>7</th>\n",
       "      <th>8</th>\n",
       "      <th>...</th>\n",
       "      <th>10</th>\n",
       "      <th>11</th>\n",
       "      <th>12</th>\n",
       "      <th>13</th>\n",
       "      <th>14</th>\n",
       "      <th>15</th>\n",
       "      <th>16</th>\n",
       "      <th>17</th>\n",
       "      <th>18</th>\n",
       "      <th>19</th>\n",
       "    </tr>\n",
       "  </thead>\n",
       "  <tbody>\n",
       "    <tr>\n",
       "      <th>2</th>\n",
       "      <td>clusters: 2</td>\n",
       "      <td>48386.0</td>\n",
       "      <td>154.0</td>\n",
       "      <td>No cluster</td>\n",
       "      <td>No cluster</td>\n",
       "      <td>No cluster</td>\n",
       "      <td>No cluster</td>\n",
       "      <td>No cluster</td>\n",
       "      <td>No cluster</td>\n",
       "      <td>No cluster</td>\n",
       "      <td>...</td>\n",
       "      <td>No cluster</td>\n",
       "      <td>No cluster</td>\n",
       "      <td>No cluster</td>\n",
       "      <td>No cluster</td>\n",
       "      <td>No cluster</td>\n",
       "      <td>No cluster</td>\n",
       "      <td>No cluster</td>\n",
       "      <td>No cluster</td>\n",
       "      <td>No cluster</td>\n",
       "      <td>No cluster</td>\n",
       "    </tr>\n",
       "    <tr>\n",
       "      <th>3</th>\n",
       "      <td>clusters: 3</td>\n",
       "      <td>48384.0</td>\n",
       "      <td>154.0</td>\n",
       "      <td>2.0</td>\n",
       "      <td>No cluster</td>\n",
       "      <td>No cluster</td>\n",
       "      <td>No cluster</td>\n",
       "      <td>No cluster</td>\n",
       "      <td>No cluster</td>\n",
       "      <td>No cluster</td>\n",
       "      <td>...</td>\n",
       "      <td>No cluster</td>\n",
       "      <td>No cluster</td>\n",
       "      <td>No cluster</td>\n",
       "      <td>No cluster</td>\n",
       "      <td>No cluster</td>\n",
       "      <td>No cluster</td>\n",
       "      <td>No cluster</td>\n",
       "      <td>No cluster</td>\n",
       "      <td>No cluster</td>\n",
       "      <td>No cluster</td>\n",
       "    </tr>\n",
       "    <tr>\n",
       "      <th>4</th>\n",
       "      <td>clusters: 4</td>\n",
       "      <td>48314.0</td>\n",
       "      <td>154.0</td>\n",
       "      <td>2.0</td>\n",
       "      <td>70.0</td>\n",
       "      <td>No cluster</td>\n",
       "      <td>No cluster</td>\n",
       "      <td>No cluster</td>\n",
       "      <td>No cluster</td>\n",
       "      <td>No cluster</td>\n",
       "      <td>...</td>\n",
       "      <td>No cluster</td>\n",
       "      <td>No cluster</td>\n",
       "      <td>No cluster</td>\n",
       "      <td>No cluster</td>\n",
       "      <td>No cluster</td>\n",
       "      <td>No cluster</td>\n",
       "      <td>No cluster</td>\n",
       "      <td>No cluster</td>\n",
       "      <td>No cluster</td>\n",
       "      <td>No cluster</td>\n",
       "    </tr>\n",
       "    <tr>\n",
       "      <th>5</th>\n",
       "      <td>clusters: 5</td>\n",
       "      <td>47901.0</td>\n",
       "      <td>154.0</td>\n",
       "      <td>2.0</td>\n",
       "      <td>70.0</td>\n",
       "      <td>413.0</td>\n",
       "      <td>No cluster</td>\n",
       "      <td>No cluster</td>\n",
       "      <td>No cluster</td>\n",
       "      <td>No cluster</td>\n",
       "      <td>...</td>\n",
       "      <td>No cluster</td>\n",
       "      <td>No cluster</td>\n",
       "      <td>No cluster</td>\n",
       "      <td>No cluster</td>\n",
       "      <td>No cluster</td>\n",
       "      <td>No cluster</td>\n",
       "      <td>No cluster</td>\n",
       "      <td>No cluster</td>\n",
       "      <td>No cluster</td>\n",
       "      <td>No cluster</td>\n",
       "    </tr>\n",
       "    <tr>\n",
       "      <th>6</th>\n",
       "      <td>clusters: 6</td>\n",
       "      <td>47788.0</td>\n",
       "      <td>154.0</td>\n",
       "      <td>2.0</td>\n",
       "      <td>70.0</td>\n",
       "      <td>413.0</td>\n",
       "      <td>113.0</td>\n",
       "      <td>No cluster</td>\n",
       "      <td>No cluster</td>\n",
       "      <td>No cluster</td>\n",
       "      <td>...</td>\n",
       "      <td>No cluster</td>\n",
       "      <td>No cluster</td>\n",
       "      <td>No cluster</td>\n",
       "      <td>No cluster</td>\n",
       "      <td>No cluster</td>\n",
       "      <td>No cluster</td>\n",
       "      <td>No cluster</td>\n",
       "      <td>No cluster</td>\n",
       "      <td>No cluster</td>\n",
       "      <td>No cluster</td>\n",
       "    </tr>\n",
       "    <tr>\n",
       "      <th>7</th>\n",
       "      <td>clusters: 7</td>\n",
       "      <td>47753.0</td>\n",
       "      <td>154.0</td>\n",
       "      <td>2.0</td>\n",
       "      <td>70.0</td>\n",
       "      <td>413.0</td>\n",
       "      <td>113.0</td>\n",
       "      <td>35.0</td>\n",
       "      <td>No cluster</td>\n",
       "      <td>No cluster</td>\n",
       "      <td>...</td>\n",
       "      <td>No cluster</td>\n",
       "      <td>No cluster</td>\n",
       "      <td>No cluster</td>\n",
       "      <td>No cluster</td>\n",
       "      <td>No cluster</td>\n",
       "      <td>No cluster</td>\n",
       "      <td>No cluster</td>\n",
       "      <td>No cluster</td>\n",
       "      <td>No cluster</td>\n",
       "      <td>No cluster</td>\n",
       "    </tr>\n",
       "    <tr>\n",
       "      <th>8</th>\n",
       "      <td>clusters: 8</td>\n",
       "      <td>408.0</td>\n",
       "      <td>154.0</td>\n",
       "      <td>162.0</td>\n",
       "      <td>71.0</td>\n",
       "      <td>39.0</td>\n",
       "      <td>12515.0</td>\n",
       "      <td>277.0</td>\n",
       "      <td>34914.0</td>\n",
       "      <td>No cluster</td>\n",
       "      <td>...</td>\n",
       "      <td>No cluster</td>\n",
       "      <td>No cluster</td>\n",
       "      <td>No cluster</td>\n",
       "      <td>No cluster</td>\n",
       "      <td>No cluster</td>\n",
       "      <td>No cluster</td>\n",
       "      <td>No cluster</td>\n",
       "      <td>No cluster</td>\n",
       "      <td>No cluster</td>\n",
       "      <td>No cluster</td>\n",
       "    </tr>\n",
       "    <tr>\n",
       "      <th>9</th>\n",
       "      <td>clusters: 9</td>\n",
       "      <td>408.0</td>\n",
       "      <td>154.0</td>\n",
       "      <td>162.0</td>\n",
       "      <td>71.0</td>\n",
       "      <td>39.0</td>\n",
       "      <td>12361.0</td>\n",
       "      <td>277.0</td>\n",
       "      <td>34984.0</td>\n",
       "      <td>84.0</td>\n",
       "      <td>...</td>\n",
       "      <td>No cluster</td>\n",
       "      <td>No cluster</td>\n",
       "      <td>No cluster</td>\n",
       "      <td>No cluster</td>\n",
       "      <td>No cluster</td>\n",
       "      <td>No cluster</td>\n",
       "      <td>No cluster</td>\n",
       "      <td>No cluster</td>\n",
       "      <td>No cluster</td>\n",
       "      <td>No cluster</td>\n",
       "    </tr>\n",
       "    <tr>\n",
       "      <th>10</th>\n",
       "      <td>clusters: 10</td>\n",
       "      <td>408.0</td>\n",
       "      <td>154.0</td>\n",
       "      <td>162.0</td>\n",
       "      <td>71.0</td>\n",
       "      <td>39.0</td>\n",
       "      <td>12364.0</td>\n",
       "      <td>277.0</td>\n",
       "      <td>34958.0</td>\n",
       "      <td>84.0</td>\n",
       "      <td>...</td>\n",
       "      <td>No cluster</td>\n",
       "      <td>No cluster</td>\n",
       "      <td>No cluster</td>\n",
       "      <td>No cluster</td>\n",
       "      <td>No cluster</td>\n",
       "      <td>No cluster</td>\n",
       "      <td>No cluster</td>\n",
       "      <td>No cluster</td>\n",
       "      <td>No cluster</td>\n",
       "      <td>No cluster</td>\n",
       "    </tr>\n",
       "    <tr>\n",
       "      <th>11</th>\n",
       "      <td>clusters: 11</td>\n",
       "      <td>497.0</td>\n",
       "      <td>154.0</td>\n",
       "      <td>162.0</td>\n",
       "      <td>71.0</td>\n",
       "      <td>39.0</td>\n",
       "      <td>11797.0</td>\n",
       "      <td>275.0</td>\n",
       "      <td>31420.0</td>\n",
       "      <td>84.0</td>\n",
       "      <td>...</td>\n",
       "      <td>4018.0</td>\n",
       "      <td>No cluster</td>\n",
       "      <td>No cluster</td>\n",
       "      <td>No cluster</td>\n",
       "      <td>No cluster</td>\n",
       "      <td>No cluster</td>\n",
       "      <td>No cluster</td>\n",
       "      <td>No cluster</td>\n",
       "      <td>No cluster</td>\n",
       "      <td>No cluster</td>\n",
       "    </tr>\n",
       "    <tr>\n",
       "      <th>12</th>\n",
       "      <td>clusters: 12</td>\n",
       "      <td>497.0</td>\n",
       "      <td>154.0</td>\n",
       "      <td>162.0</td>\n",
       "      <td>71.0</td>\n",
       "      <td>39.0</td>\n",
       "      <td>11793.0</td>\n",
       "      <td>275.0</td>\n",
       "      <td>31422.0</td>\n",
       "      <td>84.0</td>\n",
       "      <td>...</td>\n",
       "      <td>4018.0</td>\n",
       "      <td>2.0</td>\n",
       "      <td>No cluster</td>\n",
       "      <td>No cluster</td>\n",
       "      <td>No cluster</td>\n",
       "      <td>No cluster</td>\n",
       "      <td>No cluster</td>\n",
       "      <td>No cluster</td>\n",
       "      <td>No cluster</td>\n",
       "      <td>No cluster</td>\n",
       "    </tr>\n",
       "    <tr>\n",
       "      <th>13</th>\n",
       "      <td>clusters: 13</td>\n",
       "      <td>497.0</td>\n",
       "      <td>152.0</td>\n",
       "      <td>162.0</td>\n",
       "      <td>71.0</td>\n",
       "      <td>39.0</td>\n",
       "      <td>11780.0</td>\n",
       "      <td>275.0</td>\n",
       "      <td>31346.0</td>\n",
       "      <td>84.0</td>\n",
       "      <td>...</td>\n",
       "      <td>4016.0</td>\n",
       "      <td>2.0</td>\n",
       "      <td>93.0</td>\n",
       "      <td>No cluster</td>\n",
       "      <td>No cluster</td>\n",
       "      <td>No cluster</td>\n",
       "      <td>No cluster</td>\n",
       "      <td>No cluster</td>\n",
       "      <td>No cluster</td>\n",
       "      <td>No cluster</td>\n",
       "    </tr>\n",
       "    <tr>\n",
       "      <th>14</th>\n",
       "      <td>clusters: 14</td>\n",
       "      <td>497.0</td>\n",
       "      <td>152.0</td>\n",
       "      <td>162.0</td>\n",
       "      <td>71.0</td>\n",
       "      <td>39.0</td>\n",
       "      <td>11781.0</td>\n",
       "      <td>275.0</td>\n",
       "      <td>31334.0</td>\n",
       "      <td>84.0</td>\n",
       "      <td>...</td>\n",
       "      <td>4014.0</td>\n",
       "      <td>2.0</td>\n",
       "      <td>93.0</td>\n",
       "      <td>13.0</td>\n",
       "      <td>No cluster</td>\n",
       "      <td>No cluster</td>\n",
       "      <td>No cluster</td>\n",
       "      <td>No cluster</td>\n",
       "      <td>No cluster</td>\n",
       "      <td>No cluster</td>\n",
       "    </tr>\n",
       "    <tr>\n",
       "      <th>15</th>\n",
       "      <td>clusters: 15</td>\n",
       "      <td>445.0</td>\n",
       "      <td>152.0</td>\n",
       "      <td>162.0</td>\n",
       "      <td>71.0</td>\n",
       "      <td>39.0</td>\n",
       "      <td>10877.0</td>\n",
       "      <td>274.0</td>\n",
       "      <td>28614.0</td>\n",
       "      <td>84.0</td>\n",
       "      <td>...</td>\n",
       "      <td>3975.0</td>\n",
       "      <td>2.0</td>\n",
       "      <td>93.0</td>\n",
       "      <td>13.0</td>\n",
       "      <td>3716.0</td>\n",
       "      <td>No cluster</td>\n",
       "      <td>No cluster</td>\n",
       "      <td>No cluster</td>\n",
       "      <td>No cluster</td>\n",
       "      <td>No cluster</td>\n",
       "    </tr>\n",
       "    <tr>\n",
       "      <th>16</th>\n",
       "      <td>clusters: 16</td>\n",
       "      <td>445.0</td>\n",
       "      <td>152.0</td>\n",
       "      <td>162.0</td>\n",
       "      <td>71.0</td>\n",
       "      <td>39.0</td>\n",
       "      <td>10877.0</td>\n",
       "      <td>274.0</td>\n",
       "      <td>28613.0</td>\n",
       "      <td>84.0</td>\n",
       "      <td>...</td>\n",
       "      <td>3975.0</td>\n",
       "      <td>2.0</td>\n",
       "      <td>93.0</td>\n",
       "      <td>13.0</td>\n",
       "      <td>3716.0</td>\n",
       "      <td>1.0</td>\n",
       "      <td>No cluster</td>\n",
       "      <td>No cluster</td>\n",
       "      <td>No cluster</td>\n",
       "      <td>No cluster</td>\n",
       "    </tr>\n",
       "    <tr>\n",
       "      <th>17</th>\n",
       "      <td>clusters: 17</td>\n",
       "      <td>445.0</td>\n",
       "      <td>152.0</td>\n",
       "      <td>162.0</td>\n",
       "      <td>71.0</td>\n",
       "      <td>39.0</td>\n",
       "      <td>10872.0</td>\n",
       "      <td>274.0</td>\n",
       "      <td>28602.0</td>\n",
       "      <td>84.0</td>\n",
       "      <td>...</td>\n",
       "      <td>3973.0</td>\n",
       "      <td>2.0</td>\n",
       "      <td>93.0</td>\n",
       "      <td>13.0</td>\n",
       "      <td>3718.0</td>\n",
       "      <td>1.0</td>\n",
       "      <td>16.0</td>\n",
       "      <td>No cluster</td>\n",
       "      <td>No cluster</td>\n",
       "      <td>No cluster</td>\n",
       "    </tr>\n",
       "    <tr>\n",
       "      <th>18</th>\n",
       "      <td>clusters: 18</td>\n",
       "      <td>445.0</td>\n",
       "      <td>152.0</td>\n",
       "      <td>162.0</td>\n",
       "      <td>71.0</td>\n",
       "      <td>39.0</td>\n",
       "      <td>10855.0</td>\n",
       "      <td>274.0</td>\n",
       "      <td>28544.0</td>\n",
       "      <td>84.0</td>\n",
       "      <td>...</td>\n",
       "      <td>3983.0</td>\n",
       "      <td>2.0</td>\n",
       "      <td>93.0</td>\n",
       "      <td>13.0</td>\n",
       "      <td>3721.0</td>\n",
       "      <td>1.0</td>\n",
       "      <td>16.0</td>\n",
       "      <td>62.0</td>\n",
       "      <td>No cluster</td>\n",
       "      <td>No cluster</td>\n",
       "    </tr>\n",
       "    <tr>\n",
       "      <th>19</th>\n",
       "      <td>clusters: 19</td>\n",
       "      <td>417.0</td>\n",
       "      <td>152.0</td>\n",
       "      <td>162.0</td>\n",
       "      <td>71.0</td>\n",
       "      <td>39.0</td>\n",
       "      <td>10748.0</td>\n",
       "      <td>274.0</td>\n",
       "      <td>28628.0</td>\n",
       "      <td>84.0</td>\n",
       "      <td>...</td>\n",
       "      <td>3851.0</td>\n",
       "      <td>2.0</td>\n",
       "      <td>93.0</td>\n",
       "      <td>13.0</td>\n",
       "      <td>3710.0</td>\n",
       "      <td>1.0</td>\n",
       "      <td>16.0</td>\n",
       "      <td>62.0</td>\n",
       "      <td>194.0</td>\n",
       "      <td>No cluster</td>\n",
       "    </tr>\n",
       "    <tr>\n",
       "      <th>20</th>\n",
       "      <td>clusters: 20</td>\n",
       "      <td>417</td>\n",
       "      <td>152</td>\n",
       "      <td>162</td>\n",
       "      <td>71</td>\n",
       "      <td>39</td>\n",
       "      <td>10756</td>\n",
       "      <td>274</td>\n",
       "      <td>28603</td>\n",
       "      <td>84</td>\n",
       "      <td>...</td>\n",
       "      <td>3849</td>\n",
       "      <td>2</td>\n",
       "      <td>93</td>\n",
       "      <td>13</td>\n",
       "      <td>3710</td>\n",
       "      <td>1</td>\n",
       "      <td>16</td>\n",
       "      <td>62</td>\n",
       "      <td>194</td>\n",
       "      <td>19</td>\n",
       "    </tr>\n",
       "  </tbody>\n",
       "</table>\n",
       "<p>19 rows × 21 columns</p>\n",
       "</div>"
      ],
      "text/plain": [
       "   Number of clusters        0      1           2           3           4  \\\n",
       "2         clusters: 2  48386.0  154.0  No cluster  No cluster  No cluster   \n",
       "3         clusters: 3  48384.0  154.0         2.0  No cluster  No cluster   \n",
       "4         clusters: 4  48314.0  154.0         2.0        70.0  No cluster   \n",
       "5         clusters: 5  47901.0  154.0         2.0        70.0       413.0   \n",
       "6         clusters: 6  47788.0  154.0         2.0        70.0       413.0   \n",
       "7         clusters: 7  47753.0  154.0         2.0        70.0       413.0   \n",
       "8         clusters: 8    408.0  154.0       162.0        71.0        39.0   \n",
       "9         clusters: 9    408.0  154.0       162.0        71.0        39.0   \n",
       "10       clusters: 10    408.0  154.0       162.0        71.0        39.0   \n",
       "11       clusters: 11    497.0  154.0       162.0        71.0        39.0   \n",
       "12       clusters: 12    497.0  154.0       162.0        71.0        39.0   \n",
       "13       clusters: 13    497.0  152.0       162.0        71.0        39.0   \n",
       "14       clusters: 14    497.0  152.0       162.0        71.0        39.0   \n",
       "15       clusters: 15    445.0  152.0       162.0        71.0        39.0   \n",
       "16       clusters: 16    445.0  152.0       162.0        71.0        39.0   \n",
       "17       clusters: 17    445.0  152.0       162.0        71.0        39.0   \n",
       "18       clusters: 18    445.0  152.0       162.0        71.0        39.0   \n",
       "19       clusters: 19    417.0  152.0       162.0        71.0        39.0   \n",
       "20       clusters: 20      417    152         162          71          39   \n",
       "\n",
       "             5           6           7           8  ...          10  \\\n",
       "2   No cluster  No cluster  No cluster  No cluster  ...  No cluster   \n",
       "3   No cluster  No cluster  No cluster  No cluster  ...  No cluster   \n",
       "4   No cluster  No cluster  No cluster  No cluster  ...  No cluster   \n",
       "5   No cluster  No cluster  No cluster  No cluster  ...  No cluster   \n",
       "6        113.0  No cluster  No cluster  No cluster  ...  No cluster   \n",
       "7        113.0        35.0  No cluster  No cluster  ...  No cluster   \n",
       "8      12515.0       277.0     34914.0  No cluster  ...  No cluster   \n",
       "9      12361.0       277.0     34984.0        84.0  ...  No cluster   \n",
       "10     12364.0       277.0     34958.0        84.0  ...  No cluster   \n",
       "11     11797.0       275.0     31420.0        84.0  ...      4018.0   \n",
       "12     11793.0       275.0     31422.0        84.0  ...      4018.0   \n",
       "13     11780.0       275.0     31346.0        84.0  ...      4016.0   \n",
       "14     11781.0       275.0     31334.0        84.0  ...      4014.0   \n",
       "15     10877.0       274.0     28614.0        84.0  ...      3975.0   \n",
       "16     10877.0       274.0     28613.0        84.0  ...      3975.0   \n",
       "17     10872.0       274.0     28602.0        84.0  ...      3973.0   \n",
       "18     10855.0       274.0     28544.0        84.0  ...      3983.0   \n",
       "19     10748.0       274.0     28628.0        84.0  ...      3851.0   \n",
       "20       10756         274       28603          84  ...        3849   \n",
       "\n",
       "            11          12          13          14          15          16  \\\n",
       "2   No cluster  No cluster  No cluster  No cluster  No cluster  No cluster   \n",
       "3   No cluster  No cluster  No cluster  No cluster  No cluster  No cluster   \n",
       "4   No cluster  No cluster  No cluster  No cluster  No cluster  No cluster   \n",
       "5   No cluster  No cluster  No cluster  No cluster  No cluster  No cluster   \n",
       "6   No cluster  No cluster  No cluster  No cluster  No cluster  No cluster   \n",
       "7   No cluster  No cluster  No cluster  No cluster  No cluster  No cluster   \n",
       "8   No cluster  No cluster  No cluster  No cluster  No cluster  No cluster   \n",
       "9   No cluster  No cluster  No cluster  No cluster  No cluster  No cluster   \n",
       "10  No cluster  No cluster  No cluster  No cluster  No cluster  No cluster   \n",
       "11  No cluster  No cluster  No cluster  No cluster  No cluster  No cluster   \n",
       "12         2.0  No cluster  No cluster  No cluster  No cluster  No cluster   \n",
       "13         2.0        93.0  No cluster  No cluster  No cluster  No cluster   \n",
       "14         2.0        93.0        13.0  No cluster  No cluster  No cluster   \n",
       "15         2.0        93.0        13.0      3716.0  No cluster  No cluster   \n",
       "16         2.0        93.0        13.0      3716.0         1.0  No cluster   \n",
       "17         2.0        93.0        13.0      3718.0         1.0        16.0   \n",
       "18         2.0        93.0        13.0      3721.0         1.0        16.0   \n",
       "19         2.0        93.0        13.0      3710.0         1.0        16.0   \n",
       "20           2          93          13        3710           1          16   \n",
       "\n",
       "            17          18          19  \n",
       "2   No cluster  No cluster  No cluster  \n",
       "3   No cluster  No cluster  No cluster  \n",
       "4   No cluster  No cluster  No cluster  \n",
       "5   No cluster  No cluster  No cluster  \n",
       "6   No cluster  No cluster  No cluster  \n",
       "7   No cluster  No cluster  No cluster  \n",
       "8   No cluster  No cluster  No cluster  \n",
       "9   No cluster  No cluster  No cluster  \n",
       "10  No cluster  No cluster  No cluster  \n",
       "11  No cluster  No cluster  No cluster  \n",
       "12  No cluster  No cluster  No cluster  \n",
       "13  No cluster  No cluster  No cluster  \n",
       "14  No cluster  No cluster  No cluster  \n",
       "15  No cluster  No cluster  No cluster  \n",
       "16  No cluster  No cluster  No cluster  \n",
       "17  No cluster  No cluster  No cluster  \n",
       "18        62.0  No cluster  No cluster  \n",
       "19        62.0       194.0  No cluster  \n",
       "20          62         194          19  \n",
       "\n",
       "[19 rows x 21 columns]"
      ]
     },
     "execution_count": 18,
     "metadata": {},
     "output_type": "execute_result"
    }
   ],
   "source": [
    "# Dictionary to store cluster counts\n",
    "cluster_counts = {}\n",
    "\n",
    "# Loop over different numbers of clusters\n",
    "for num_cluster in range(2, 21):\n",
    "    # Fit KMeans model\n",
    "    kmeans = KMeans(n_init='auto', n_clusters=num_cluster, random_state=1234)\n",
    "    kmeans.fit(X_prep)\n",
    "    # Predict the clusters\n",
    "    clusters = kmeans.predict(X_prep)\n",
    "    # Count the number of points in each cluster\n",
    "    cluster_counts[num_cluster] = pd.Series(clusters).value_counts().sort_index()\n",
    "\n",
    "# Concatenate the cluster counts into a single dataframe\n",
    "clusters_df = pd.concat(cluster_counts, axis=1, sort=False)\n",
    "\n",
    "# Fill NaN with \"No cluster\"\n",
    "clusters_df.fillna(\"No cluster\", inplace=True)\n",
    "\n",
    "# Transpose dataframe and add a first column with the names of the amount of clusters for each row\n",
    "clusters_df = pd.concat([pd.Series([f\"clusters: {i}\" for i in range(0, 21)], name=\"Number of clusters\"), clusters_df.transpose()], axis=1)\n",
    "\n",
    "# Drop rows 0 and 1 (clusters 0 and 1)\n",
    "clusters_df.drop([0, 1], inplace=True)\n",
    "\n",
    "clusters_df\n"
   ]
  },
  {
   "cell_type": "markdown",
   "id": "3ce47d13",
   "metadata": {},
   "source": [
    "I have chosen n_clusters = 11 because it allows for 3 larger and distinct groups, which can capture the diversity present in the original data, rather than having just 1 or 2 larger clusters with 98% of data"
   ]
  },
  {
   "cell_type": "code",
   "execution_count": null,
   "id": "9542943a",
   "metadata": {},
   "outputs": [],
   "source": []
  },
  {
   "cell_type": "markdown",
   "id": "8608ae52",
   "metadata": {},
   "source": [
    "#### Number of clusters: 11"
   ]
  },
  {
   "cell_type": "code",
   "execution_count": 30,
   "id": "98587275",
   "metadata": {
    "scrolled": false
   },
   "outputs": [
    {
     "data": {
      "text/html": [
       "<style>#sk-container-id-2 {color: black;background-color: white;}#sk-container-id-2 pre{padding: 0;}#sk-container-id-2 div.sk-toggleable {background-color: white;}#sk-container-id-2 label.sk-toggleable__label {cursor: pointer;display: block;width: 100%;margin-bottom: 0;padding: 0.3em;box-sizing: border-box;text-align: center;}#sk-container-id-2 label.sk-toggleable__label-arrow:before {content: \"▸\";float: left;margin-right: 0.25em;color: #696969;}#sk-container-id-2 label.sk-toggleable__label-arrow:hover:before {color: black;}#sk-container-id-2 div.sk-estimator:hover label.sk-toggleable__label-arrow:before {color: black;}#sk-container-id-2 div.sk-toggleable__content {max-height: 0;max-width: 0;overflow: hidden;text-align: left;background-color: #f0f8ff;}#sk-container-id-2 div.sk-toggleable__content pre {margin: 0.2em;color: black;border-radius: 0.25em;background-color: #f0f8ff;}#sk-container-id-2 input.sk-toggleable__control:checked~div.sk-toggleable__content {max-height: 200px;max-width: 100%;overflow: auto;}#sk-container-id-2 input.sk-toggleable__control:checked~label.sk-toggleable__label-arrow:before {content: \"▾\";}#sk-container-id-2 div.sk-estimator input.sk-toggleable__control:checked~label.sk-toggleable__label {background-color: #d4ebff;}#sk-container-id-2 div.sk-label input.sk-toggleable__control:checked~label.sk-toggleable__label {background-color: #d4ebff;}#sk-container-id-2 input.sk-hidden--visually {border: 0;clip: rect(1px 1px 1px 1px);clip: rect(1px, 1px, 1px, 1px);height: 1px;margin: -1px;overflow: hidden;padding: 0;position: absolute;width: 1px;}#sk-container-id-2 div.sk-estimator {font-family: monospace;background-color: #f0f8ff;border: 1px dotted black;border-radius: 0.25em;box-sizing: border-box;margin-bottom: 0.5em;}#sk-container-id-2 div.sk-estimator:hover {background-color: #d4ebff;}#sk-container-id-2 div.sk-parallel-item::after {content: \"\";width: 100%;border-bottom: 1px solid gray;flex-grow: 1;}#sk-container-id-2 div.sk-label:hover label.sk-toggleable__label {background-color: #d4ebff;}#sk-container-id-2 div.sk-serial::before {content: \"\";position: absolute;border-left: 1px solid gray;box-sizing: border-box;top: 0;bottom: 0;left: 50%;z-index: 0;}#sk-container-id-2 div.sk-serial {display: flex;flex-direction: column;align-items: center;background-color: white;padding-right: 0.2em;padding-left: 0.2em;position: relative;}#sk-container-id-2 div.sk-item {position: relative;z-index: 1;}#sk-container-id-2 div.sk-parallel {display: flex;align-items: stretch;justify-content: center;background-color: white;position: relative;}#sk-container-id-2 div.sk-item::before, #sk-container-id-2 div.sk-parallel-item::before {content: \"\";position: absolute;border-left: 1px solid gray;box-sizing: border-box;top: 0;bottom: 0;left: 50%;z-index: -1;}#sk-container-id-2 div.sk-parallel-item {display: flex;flex-direction: column;z-index: 1;position: relative;background-color: white;}#sk-container-id-2 div.sk-parallel-item:first-child::after {align-self: flex-end;width: 50%;}#sk-container-id-2 div.sk-parallel-item:last-child::after {align-self: flex-start;width: 50%;}#sk-container-id-2 div.sk-parallel-item:only-child::after {width: 0;}#sk-container-id-2 div.sk-dashed-wrapped {border: 1px dashed gray;margin: 0 0.4em 0.5em 0.4em;box-sizing: border-box;padding-bottom: 0.4em;background-color: white;}#sk-container-id-2 div.sk-label label {font-family: monospace;font-weight: bold;display: inline-block;line-height: 1.2em;}#sk-container-id-2 div.sk-label-container {text-align: center;}#sk-container-id-2 div.sk-container {/* jupyter's `normalize.less` sets `[hidden] { display: none; }` but bootstrap.min.css set `[hidden] { display: none !important; }` so we also need the `!important` here to be able to override the default hidden behavior on the sphinx rendered scikit-learn.org. See: https://github.com/scikit-learn/scikit-learn/issues/21755 */display: inline-block !important;position: relative;}#sk-container-id-2 div.sk-text-repr-fallback {display: none;}</style><div id=\"sk-container-id-2\" class=\"sk-top-container\"><div class=\"sk-text-repr-fallback\"><pre>KMeans(n_clusters=11, n_init=&#x27;auto&#x27;, random_state=1234)</pre><b>In a Jupyter environment, please rerun this cell to show the HTML representation or trust the notebook. <br />On GitHub, the HTML representation is unable to render, please try loading this page with nbviewer.org.</b></div><div class=\"sk-container\" hidden><div class=\"sk-item\"><div class=\"sk-estimator sk-toggleable\"><input class=\"sk-toggleable__control sk-hidden--visually\" id=\"sk-estimator-id-2\" type=\"checkbox\" checked><label for=\"sk-estimator-id-2\" class=\"sk-toggleable__label sk-toggleable__label-arrow\">KMeans</label><div class=\"sk-toggleable__content\"><pre>KMeans(n_clusters=11, n_init=&#x27;auto&#x27;, random_state=1234)</pre></div></div></div></div></div>"
      ],
      "text/plain": [
       "KMeans(n_clusters=11, n_init='auto', random_state=1234)"
      ]
     },
     "execution_count": 30,
     "metadata": {},
     "output_type": "execute_result"
    }
   ],
   "source": [
    "kmeans = KMeans(n_init= 'auto', n_clusters=11, random_state=1234)\n",
    "kmeans.fit(X_prep)"
   ]
  },
  {
   "cell_type": "code",
   "execution_count": 31,
   "id": "b8421beb",
   "metadata": {},
   "outputs": [],
   "source": [
    "# Predicting / assigning the clusters:\n",
    "clusters = kmeans.predict(X_prep)"
   ]
  },
  {
   "cell_type": "code",
   "execution_count": 32,
   "id": "8224d4b4",
   "metadata": {},
   "outputs": [
    {
     "name": "stdout",
     "output_type": "stream",
     "text": [
      "Shape of X_prep: (48540, 854)\n",
      "Shape of cluster centers: (11, 854)\n"
     ]
    }
   ],
   "source": [
    "print(\"Shape of X_prep:\", X_prep.shape)\n",
    "print(\"Shape of cluster centers:\", kmeans.cluster_centers_.shape)"
   ]
  },
  {
   "cell_type": "code",
   "execution_count": 33,
   "id": "9f3c6563",
   "metadata": {},
   "outputs": [
    {
     "data": {
      "text/plain": [
       "0       497\n",
       "1       154\n",
       "2       162\n",
       "3        71\n",
       "4        39\n",
       "5     11797\n",
       "6       275\n",
       "7     31420\n",
       "8        84\n",
       "9        23\n",
       "10     4018\n",
       "dtype: int64"
      ]
     },
     "execution_count": 33,
     "metadata": {},
     "output_type": "execute_result"
    }
   ],
   "source": [
    "# Size of the clusters / Number of songs in each cluster\n",
    "pd.Series(clusters).value_counts().sort_index()"
   ]
  },
  {
   "cell_type": "code",
   "execution_count": 34,
   "id": "cc948ee6",
   "metadata": {},
   "outputs": [],
   "source": [
    "#y.values\n",
    "#pd.Series(y).value_counts().sort_index()"
   ]
  },
  {
   "cell_type": "code",
   "execution_count": 35,
   "id": "3f55e0b3",
   "metadata": {},
   "outputs": [
    {
     "data": {
      "image/png": "[encoded data removed]",
      "text/plain": [
       "<Figure size 500x500 with 1 Axes>"
      ]
     },
     "metadata": {},
     "output_type": "display_data"
    }
   ],
   "source": [
    "# Plotting (num clusters = 11)\n",
    "plt.figure(figsize=(5, 5))\n",
    "plt.scatter(X_prep[:, 0], X_prep[:, 1], c=clusters,alpha=0.5)\n",
    "\n",
    "plt.show()"
   ]
  },
  {
   "cell_type": "markdown",
   "id": "8389e46e",
   "metadata": {},
   "source": [
    "#### Adding corresponding cluster to gr_data"
   ]
  },
  {
   "cell_type": "code",
   "execution_count": 36,
   "id": "bb5dd3e0",
   "metadata": {},
   "outputs": [],
   "source": [
    "gr_data[\"cluster\"] = pd.Series(clusters, index=gr_data.index)"
   ]
  },
  {
   "cell_type": "code",
   "execution_count": 37,
   "id": "96998959",
   "metadata": {},
   "outputs": [
    {
     "data": {
      "text/html": [
       "<div>\n",
       "<style scoped>\n",
       "    .dataframe tbody tr th:only-of-type {\n",
       "        vertical-align: middle;\n",
       "    }\n",
       "\n",
       "    .dataframe tbody tr th {\n",
       "        vertical-align: top;\n",
       "    }\n",
       "\n",
       "    .dataframe thead th {\n",
       "        text-align: right;\n",
       "    }\n",
       "</style>\n",
       "<table border=\"1\" class=\"dataframe\">\n",
       "  <thead>\n",
       "    <tr style=\"text-align: right;\">\n",
       "      <th></th>\n",
       "      <th>title</th>\n",
       "      <th>cluster</th>\n",
       "    </tr>\n",
       "  </thead>\n",
       "  <tbody>\n",
       "    <tr>\n",
       "      <th>0</th>\n",
       "      <td>The Hunger Games</td>\n",
       "      <td>0</td>\n",
       "    </tr>\n",
       "    <tr>\n",
       "      <th>1</th>\n",
       "      <td>Harry Potter and the Order of the Phoenix</td>\n",
       "      <td>0</td>\n",
       "    </tr>\n",
       "    <tr>\n",
       "      <th>2</th>\n",
       "      <td>To Kill a Mockingbird</td>\n",
       "      <td>0</td>\n",
       "    </tr>\n",
       "    <tr>\n",
       "      <th>3</th>\n",
       "      <td>Pride and Prejudice</td>\n",
       "      <td>0</td>\n",
       "    </tr>\n",
       "    <tr>\n",
       "      <th>4</th>\n",
       "      <td>Twilight</td>\n",
       "      <td>0</td>\n",
       "    </tr>\n",
       "    <tr>\n",
       "      <th>5</th>\n",
       "      <td>The Book Thief</td>\n",
       "      <td>0</td>\n",
       "    </tr>\n",
       "    <tr>\n",
       "      <th>6</th>\n",
       "      <td>Animal Farm</td>\n",
       "      <td>0</td>\n",
       "    </tr>\n",
       "    <tr>\n",
       "      <th>7</th>\n",
       "      <td>The Chronicles of Narnia</td>\n",
       "      <td>5</td>\n",
       "    </tr>\n",
       "    <tr>\n",
       "      <th>8</th>\n",
       "      <td>J.R.R. Tolkien 4-Book Boxed Set: The Hobbit an...</td>\n",
       "      <td>5</td>\n",
       "    </tr>\n",
       "    <tr>\n",
       "      <th>9</th>\n",
       "      <td>Gone with the Wind</td>\n",
       "      <td>0</td>\n",
       "    </tr>\n",
       "    <tr>\n",
       "      <th>10</th>\n",
       "      <td>The Fault in Our Stars</td>\n",
       "      <td>0</td>\n",
       "    </tr>\n",
       "    <tr>\n",
       "      <th>11</th>\n",
       "      <td>The Hitchhiker's Guide to the Galaxy</td>\n",
       "      <td>0</td>\n",
       "    </tr>\n",
       "    <tr>\n",
       "      <th>12</th>\n",
       "      <td>The Giving Tree</td>\n",
       "      <td>0</td>\n",
       "    </tr>\n",
       "    <tr>\n",
       "      <th>13</th>\n",
       "      <td>Wuthering Heights</td>\n",
       "      <td>0</td>\n",
       "    </tr>\n",
       "    <tr>\n",
       "      <th>14</th>\n",
       "      <td>The Da Vinci Code</td>\n",
       "      <td>0</td>\n",
       "    </tr>\n",
       "    <tr>\n",
       "      <th>15</th>\n",
       "      <td>Memoirs of a Geisha</td>\n",
       "      <td>0</td>\n",
       "    </tr>\n",
       "    <tr>\n",
       "      <th>16</th>\n",
       "      <td>The Picture of Dorian Gray</td>\n",
       "      <td>0</td>\n",
       "    </tr>\n",
       "    <tr>\n",
       "      <th>17</th>\n",
       "      <td>Alice's Adventures in Wonderland &amp; Through the...</td>\n",
       "      <td>5</td>\n",
       "    </tr>\n",
       "    <tr>\n",
       "      <th>18</th>\n",
       "      <td>Jane Eyre</td>\n",
       "      <td>0</td>\n",
       "    </tr>\n",
       "    <tr>\n",
       "      <th>19</th>\n",
       "      <td>Les Misérables</td>\n",
       "      <td>0</td>\n",
       "    </tr>\n",
       "    <tr>\n",
       "      <th>20</th>\n",
       "      <td>Fahrenheit 451</td>\n",
       "      <td>0</td>\n",
       "    </tr>\n",
       "    <tr>\n",
       "      <th>21</th>\n",
       "      <td>Divergent</td>\n",
       "      <td>0</td>\n",
       "    </tr>\n",
       "    <tr>\n",
       "      <th>22</th>\n",
       "      <td>Lord of the Flies</td>\n",
       "      <td>0</td>\n",
       "    </tr>\n",
       "    <tr>\n",
       "      <th>23</th>\n",
       "      <td>Romeo and Juliet</td>\n",
       "      <td>0</td>\n",
       "    </tr>\n",
       "    <tr>\n",
       "      <th>24</th>\n",
       "      <td>The Alchemist</td>\n",
       "      <td>0</td>\n",
       "    </tr>\n",
       "    <tr>\n",
       "      <th>25</th>\n",
       "      <td>Crime and Punishment</td>\n",
       "      <td>0</td>\n",
       "    </tr>\n",
       "    <tr>\n",
       "      <th>26</th>\n",
       "      <td>The Perks of Being a Wallflower</td>\n",
       "      <td>0</td>\n",
       "    </tr>\n",
       "    <tr>\n",
       "      <th>27</th>\n",
       "      <td>The Great Gatsby</td>\n",
       "      <td>0</td>\n",
       "    </tr>\n",
       "    <tr>\n",
       "      <th>28</th>\n",
       "      <td>City of Bones</td>\n",
       "      <td>0</td>\n",
       "    </tr>\n",
       "    <tr>\n",
       "      <th>29</th>\n",
       "      <td>Ender's Game</td>\n",
       "      <td>0</td>\n",
       "    </tr>\n",
       "  </tbody>\n",
       "</table>\n",
       "</div>"
      ],
      "text/plain": [
       "                                                title  cluster\n",
       "0                                    The Hunger Games        0\n",
       "1           Harry Potter and the Order of the Phoenix        0\n",
       "2                               To Kill a Mockingbird        0\n",
       "3                                 Pride and Prejudice        0\n",
       "4                                            Twilight        0\n",
       "5                                      The Book Thief        0\n",
       "6                                         Animal Farm        0\n",
       "7                            The Chronicles of Narnia        5\n",
       "8   J.R.R. Tolkien 4-Book Boxed Set: The Hobbit an...        5\n",
       "9                                  Gone with the Wind        0\n",
       "10                             The Fault in Our Stars        0\n",
       "11               The Hitchhiker's Guide to the Galaxy        0\n",
       "12                                    The Giving Tree        0\n",
       "13                                  Wuthering Heights        0\n",
       "14                                  The Da Vinci Code        0\n",
       "15                                Memoirs of a Geisha        0\n",
       "16                         The Picture of Dorian Gray        0\n",
       "17  Alice's Adventures in Wonderland & Through the...        5\n",
       "18                                          Jane Eyre        0\n",
       "19                                     Les Misérables        0\n",
       "20                                     Fahrenheit 451        0\n",
       "21                                          Divergent        0\n",
       "22                                  Lord of the Flies        0\n",
       "23                                   Romeo and Juliet        0\n",
       "24                                      The Alchemist        0\n",
       "25                               Crime and Punishment        0\n",
       "26                    The Perks of Being a Wallflower        0\n",
       "27                                   The Great Gatsby        0\n",
       "28                                      City of Bones        0\n",
       "29                                       Ender's Game        0"
      ]
     },
     "execution_count": 37,
     "metadata": {},
     "output_type": "execute_result"
    }
   ],
   "source": [
    "gr_data[['title','cluster']].head(30)"
   ]
  },
  {
   "cell_type": "code",
   "execution_count": 40,
   "id": "6214a585",
   "metadata": {},
   "outputs": [
    {
     "data": {
      "text/plain": [
       "0       497\n",
       "1       154\n",
       "2       162\n",
       "3        71\n",
       "4        39\n",
       "5     11797\n",
       "6       275\n",
       "7     31420\n",
       "8        84\n",
       "9        23\n",
       "10     4018\n",
       "Name: cluster, dtype: int64"
      ]
     },
     "execution_count": 40,
     "metadata": {},
     "output_type": "execute_result"
    }
   ],
   "source": [
    "# Checking results\n",
    "gr_data['cluster'].value_counts().sort_index()"
   ]
  },
  {
   "cell_type": "markdown",
   "id": "78d3b395",
   "metadata": {},
   "source": [
    "#### Saving as CSV"
   ]
  },
  {
   "cell_type": "markdown",
   "id": "00fe0918",
   "metadata": {},
   "source": [
    "For perfomance improvement of the function of the recommender, I'm going to add an extra column with 'title' name's of books normalized before saving the dataframe."
   ]
  },
  {
   "cell_type": "code",
   "execution_count": 44,
   "id": "9a86d4b4",
   "metadata": {},
   "outputs": [],
   "source": [
    "# Create a new column in gr_data with normalized titles\n",
    "import unidecode\n",
    "\n",
    "gr_data['normalized_title'] = gr_data['title'].apply(lambda x: unidecode.unidecode(x).lower())"
   ]
  },
  {
   "cell_type": "code",
   "execution_count": 45,
   "id": "5628cacd",
   "metadata": {},
   "outputs": [
    {
     "data": {
      "text/html": [
       "<div>\n",
       "<style scoped>\n",
       "    .dataframe tbody tr th:only-of-type {\n",
       "        vertical-align: middle;\n",
       "    }\n",
       "\n",
       "    .dataframe tbody tr th {\n",
       "        vertical-align: top;\n",
       "    }\n",
       "\n",
       "    .dataframe thead th {\n",
       "        text-align: right;\n",
       "    }\n",
       "</style>\n",
       "<table border=\"1\" class=\"dataframe\">\n",
       "  <thead>\n",
       "    <tr style=\"text-align: right;\">\n",
       "      <th></th>\n",
       "      <th>title</th>\n",
       "      <th>normalized_title</th>\n",
       "      <th>cluster</th>\n",
       "    </tr>\n",
       "  </thead>\n",
       "  <tbody>\n",
       "    <tr>\n",
       "      <th>0</th>\n",
       "      <td>The Hunger Games</td>\n",
       "      <td>the hunger games</td>\n",
       "      <td>0</td>\n",
       "    </tr>\n",
       "    <tr>\n",
       "      <th>1</th>\n",
       "      <td>Harry Potter and the Order of the Phoenix</td>\n",
       "      <td>harry potter and the order of the phoenix</td>\n",
       "      <td>0</td>\n",
       "    </tr>\n",
       "    <tr>\n",
       "      <th>2</th>\n",
       "      <td>To Kill a Mockingbird</td>\n",
       "      <td>to kill a mockingbird</td>\n",
       "      <td>0</td>\n",
       "    </tr>\n",
       "    <tr>\n",
       "      <th>3</th>\n",
       "      <td>Pride and Prejudice</td>\n",
       "      <td>pride and prejudice</td>\n",
       "      <td>0</td>\n",
       "    </tr>\n",
       "    <tr>\n",
       "      <th>4</th>\n",
       "      <td>Twilight</td>\n",
       "      <td>twilight</td>\n",
       "      <td>0</td>\n",
       "    </tr>\n",
       "  </tbody>\n",
       "</table>\n",
       "</div>"
      ],
      "text/plain": [
       "                                       title  \\\n",
       "0                           The Hunger Games   \n",
       "1  Harry Potter and the Order of the Phoenix   \n",
       "2                      To Kill a Mockingbird   \n",
       "3                        Pride and Prejudice   \n",
       "4                                   Twilight   \n",
       "\n",
       "                            normalized_title  cluster  \n",
       "0                           the hunger games        0  \n",
       "1  harry potter and the order of the phoenix        0  \n",
       "2                      to kill a mockingbird        0  \n",
       "3                        pride and prejudice        0  \n",
       "4                                   twilight        0  "
      ]
     },
     "execution_count": 45,
     "metadata": {},
     "output_type": "execute_result"
    }
   ],
   "source": [
    "gr_data[['title','normalized_title','cluster']].head()"
   ]
  },
  {
   "cell_type": "code",
   "execution_count": null,
   "id": "69e52586",
   "metadata": {},
   "outputs": [],
   "source": []
  },
  {
   "cell_type": "code",
   "execution_count": 47,
   "id": "5bbb7318",
   "metadata": {},
   "outputs": [],
   "source": [
    "gr_data.to_csv('./2. Clean_df/gr_data_FOR_CLUSTERING.csv')"
   ]
  },
  {
   "cell_type": "code",
   "execution_count": null,
   "id": "dd887d9a",
   "metadata": {},
   "outputs": [],
   "source": []
  }
 ],
 "metadata": {
  "kernelspec": {
   "display_name": "Python 3 (ipykernel)",
   "language": "python",
   "name": "python3"
  },
  "language_info": {
   "codemirror_mode": {
    "name": "ipython",
    "version": 3
   },
   "file_extension": ".py",
   "mimetype": "text/x-python",
   "name": "python",
   "nbconvert_exporter": "python",
   "pygments_lexer": "ipython3",
   "version": "3.9.13"
  }
 },
 "nbformat": 4,
 "nbformat_minor": 5
}
