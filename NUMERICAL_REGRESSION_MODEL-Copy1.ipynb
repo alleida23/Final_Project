{
 "cells": [
  {
   "cell_type": "markdown",
   "id": "24740cc2",
   "metadata": {},
   "source": [
    "## Predicting Book Ratings on GoodReads using Linear Regression Models"
   ]
  },
  {
   "cell_type": "markdown",
   "id": "5b3e829f",
   "metadata": {},
   "source": [
    "In this section, I will develop a linear regression model to predict the \"rating\" value for GoodReads books.\n",
    "\n",
    "For this particular model, I will take advantage of the fact that each book in the original dataframe has an extensive list of genres and some of them have also received multiple awards. Before reducing their quantity, there were 980 unique genres and 5831 unique awards.\n",
    "\n",
    "Once these features have been extracted and converted to numerical variables in previous kernels, I expect them to help me build a more robust model to predict the \"rating\".\n",
    "\n",
    "The next steps in the process will be to import the cleaned dataframe, reduce, adapt and try to select the appropriate features for modeling, build the model, check the metrics, and make improvements if possible."
   ]
  },
  {
   "cell_type": "code",
   "execution_count": 114,
   "id": "58d3aca4",
   "metadata": {},
   "outputs": [],
   "source": [
    "import pandas as pd\n",
    "import numpy as np\n",
    "import matplotlib.pyplot as plt\n",
    "#%matplotlib inline"
   ]
  },
  {
   "cell_type": "markdown",
   "id": "122f9aa9",
   "metadata": {},
   "source": [
    "### Import Dataframe"
   ]
  },
  {
   "cell_type": "markdown",
   "id": "bdbd042c",
   "metadata": {},
   "source": [
    "Importing clean dataframe\n",
    "- Cleaning and wrangling done in \"1. goodreads_data_CLEANING_AND_WRANGLING.ipynb\""
   ]
  },
  {
   "cell_type": "code",
   "execution_count": 115,
   "id": "01df9567",
   "metadata": {},
   "outputs": [],
   "source": [
    "gr_data = pd.read_csv('./2. Clean_df/gr_data_CLEAN.csv')\n",
    "gr_data = gr_data.drop(['Unnamed: 0'],axis=1)"
   ]
  },
  {
   "cell_type": "code",
   "execution_count": 116,
   "id": "e836f677",
   "metadata": {},
   "outputs": [
    {
     "data": {
      "text/html": [
       "<div>\n",
       "<style scoped>\n",
       "    .dataframe tbody tr th:only-of-type {\n",
       "        vertical-align: middle;\n",
       "    }\n",
       "\n",
       "    .dataframe tbody tr th {\n",
       "        vertical-align: top;\n",
       "    }\n",
       "\n",
       "    .dataframe thead th {\n",
       "        text-align: right;\n",
       "    }\n",
       "</style>\n",
       "<table border=\"1\" class=\"dataframe\">\n",
       "  <thead>\n",
       "    <tr style=\"text-align: right;\">\n",
       "      <th></th>\n",
       "      <th>title</th>\n",
       "      <th>series</th>\n",
       "      <th>author</th>\n",
       "      <th>description</th>\n",
       "      <th>language</th>\n",
       "      <th>pages</th>\n",
       "      <th>isbn</th>\n",
       "      <th>book_format</th>\n",
       "      <th>publish_year</th>\n",
       "      <th>first_publish_year</th>\n",
       "      <th>...</th>\n",
       "      <th>West Australian Young Readers' Book Award (WAYRBA) for Older Readers</th>\n",
       "      <th>West Australian Young Readers' Book Award (WAYRBA) for Younger Readers</th>\n",
       "      <th>William Allen White Children's Book Award</th>\n",
       "      <th>William C. Morris YA Debut Award Nominee</th>\n",
       "      <th>Women's Prize for Fiction Nominee</th>\n",
       "      <th>Women's Prize for Fiction Nominee for Longlist</th>\n",
       "      <th>World Fantasy Award Nominee for Best Novel</th>\n",
       "      <th>World Fantasy Award for Best Novel</th>\n",
       "      <th>Zilveren Griffel</th>\n",
       "      <th>الجائزة العالمية للرواية العربية (أي باف) / International Prize for Arabic Fiction (IPAF) Nominee</th>\n",
       "    </tr>\n",
       "  </thead>\n",
       "  <tbody>\n",
       "    <tr>\n",
       "      <th>0</th>\n",
       "      <td>The Hunger Games</td>\n",
       "      <td>The Hunger Games</td>\n",
       "      <td>Suzanne Collins</td>\n",
       "      <td>WINNING MEANS FAME AND FORTUNE.LOSING MEANS CE...</td>\n",
       "      <td>English</td>\n",
       "      <td>200-300</td>\n",
       "      <td>9.78044E+12</td>\n",
       "      <td>Hardcover</td>\n",
       "      <td>2008</td>\n",
       "      <td>2008</td>\n",
       "      <td>...</td>\n",
       "      <td>1</td>\n",
       "      <td>0</td>\n",
       "      <td>0</td>\n",
       "      <td>0</td>\n",
       "      <td>0</td>\n",
       "      <td>0</td>\n",
       "      <td>0</td>\n",
       "      <td>0</td>\n",
       "      <td>0</td>\n",
       "      <td>0</td>\n",
       "    </tr>\n",
       "    <tr>\n",
       "      <th>1</th>\n",
       "      <td>Harry Potter and the Order of the Phoenix</td>\n",
       "      <td>Harry Potter</td>\n",
       "      <td>J.K. Rowling</td>\n",
       "      <td>There is a door at the end of a silent corrido...</td>\n",
       "      <td>English</td>\n",
       "      <td>700-800</td>\n",
       "      <td>9.78044E+12</td>\n",
       "      <td>Paperback</td>\n",
       "      <td>2004</td>\n",
       "      <td>2003</td>\n",
       "      <td>...</td>\n",
       "      <td>0</td>\n",
       "      <td>0</td>\n",
       "      <td>0</td>\n",
       "      <td>0</td>\n",
       "      <td>0</td>\n",
       "      <td>0</td>\n",
       "      <td>0</td>\n",
       "      <td>0</td>\n",
       "      <td>0</td>\n",
       "      <td>0</td>\n",
       "    </tr>\n",
       "    <tr>\n",
       "      <th>2</th>\n",
       "      <td>To Kill a Mockingbird</td>\n",
       "      <td>To Kill a Mockingbird</td>\n",
       "      <td>Harper Lee</td>\n",
       "      <td>The unforgettable novel of a childhood in a sl...</td>\n",
       "      <td>English</td>\n",
       "      <td>200-300</td>\n",
       "      <td>1E+13</td>\n",
       "      <td>Paperback</td>\n",
       "      <td>2006</td>\n",
       "      <td>1960</td>\n",
       "      <td>...</td>\n",
       "      <td>0</td>\n",
       "      <td>0</td>\n",
       "      <td>0</td>\n",
       "      <td>0</td>\n",
       "      <td>0</td>\n",
       "      <td>0</td>\n",
       "      <td>0</td>\n",
       "      <td>0</td>\n",
       "      <td>0</td>\n",
       "      <td>0</td>\n",
       "    </tr>\n",
       "    <tr>\n",
       "      <th>3</th>\n",
       "      <td>Pride and Prejudice</td>\n",
       "      <td>Single Book</td>\n",
       "      <td>Jane Austen</td>\n",
       "      <td>Alternate cover edition of ISBN 9780679783268S...</td>\n",
       "      <td>English</td>\n",
       "      <td>100-200</td>\n",
       "      <td>1E+13</td>\n",
       "      <td>Paperback</td>\n",
       "      <td>2000</td>\n",
       "      <td>2013</td>\n",
       "      <td>...</td>\n",
       "      <td>0</td>\n",
       "      <td>0</td>\n",
       "      <td>0</td>\n",
       "      <td>0</td>\n",
       "      <td>0</td>\n",
       "      <td>0</td>\n",
       "      <td>0</td>\n",
       "      <td>0</td>\n",
       "      <td>0</td>\n",
       "      <td>0</td>\n",
       "    </tr>\n",
       "    <tr>\n",
       "      <th>4</th>\n",
       "      <td>Twilight</td>\n",
       "      <td>The Twilight Saga</td>\n",
       "      <td>Stephenie Meyer</td>\n",
       "      <td>About three things I was absolutely positive.\\...</td>\n",
       "      <td>English</td>\n",
       "      <td>400-500</td>\n",
       "      <td>9.78032E+12</td>\n",
       "      <td>Paperback</td>\n",
       "      <td>2006</td>\n",
       "      <td>2005</td>\n",
       "      <td>...</td>\n",
       "      <td>1</td>\n",
       "      <td>0</td>\n",
       "      <td>0</td>\n",
       "      <td>0</td>\n",
       "      <td>0</td>\n",
       "      <td>0</td>\n",
       "      <td>0</td>\n",
       "      <td>0</td>\n",
       "      <td>0</td>\n",
       "      <td>0</td>\n",
       "    </tr>\n",
       "  </tbody>\n",
       "</table>\n",
       "<p>5 rows × 862 columns</p>\n",
       "</div>"
      ],
      "text/plain": [
       "                                       title                 series  \\\n",
       "0                           The Hunger Games       The Hunger Games   \n",
       "1  Harry Potter and the Order of the Phoenix           Harry Potter   \n",
       "2                      To Kill a Mockingbird  To Kill a Mockingbird   \n",
       "3                        Pride and Prejudice            Single Book   \n",
       "4                                   Twilight      The Twilight Saga   \n",
       "\n",
       "            author                                        description  \\\n",
       "0  Suzanne Collins  WINNING MEANS FAME AND FORTUNE.LOSING MEANS CE...   \n",
       "1     J.K. Rowling  There is a door at the end of a silent corrido...   \n",
       "2       Harper Lee  The unforgettable novel of a childhood in a sl...   \n",
       "3      Jane Austen  Alternate cover edition of ISBN 9780679783268S...   \n",
       "4  Stephenie Meyer  About three things I was absolutely positive.\\...   \n",
       "\n",
       "  language    pages         isbn book_format  publish_year  \\\n",
       "0  English  200-300  9.78044E+12   Hardcover          2008   \n",
       "1  English  700-800  9.78044E+12   Paperback          2004   \n",
       "2  English  200-300        1E+13   Paperback          2006   \n",
       "3  English  100-200        1E+13   Paperback          2000   \n",
       "4  English  400-500  9.78032E+12   Paperback          2006   \n",
       "\n",
       "   first_publish_year  ...  \\\n",
       "0                2008  ...   \n",
       "1                2003  ...   \n",
       "2                1960  ...   \n",
       "3                2013  ...   \n",
       "4                2005  ...   \n",
       "\n",
       "  West Australian Young Readers' Book Award (WAYRBA) for Older Readers   \\\n",
       "0                                                  1                      \n",
       "1                                                  0                      \n",
       "2                                                  0                      \n",
       "3                                                  0                      \n",
       "4                                                  1                      \n",
       "\n",
       "   West Australian Young Readers' Book Award (WAYRBA) for Younger Readers   \\\n",
       "0                                                  0                         \n",
       "1                                                  0                         \n",
       "2                                                  0                         \n",
       "3                                                  0                         \n",
       "4                                                  0                         \n",
       "\n",
       "   William Allen White Children's Book Award   \\\n",
       "0                                           0   \n",
       "1                                           0   \n",
       "2                                           0   \n",
       "3                                           0   \n",
       "4                                           0   \n",
       "\n",
       "   William C. Morris YA Debut Award Nominee   \\\n",
       "0                                          0   \n",
       "1                                          0   \n",
       "2                                          0   \n",
       "3                                          0   \n",
       "4                                          0   \n",
       "\n",
       "   Women's Prize for Fiction Nominee   \\\n",
       "0                                   0   \n",
       "1                                   0   \n",
       "2                                   0   \n",
       "3                                   0   \n",
       "4                                   0   \n",
       "\n",
       "   Women's Prize for Fiction Nominee for Longlist   \\\n",
       "0                                                0   \n",
       "1                                                0   \n",
       "2                                                0   \n",
       "3                                                0   \n",
       "4                                                0   \n",
       "\n",
       "   World Fantasy Award Nominee for Best Novel   \\\n",
       "0                                            0   \n",
       "1                                            0   \n",
       "2                                            0   \n",
       "3                                            0   \n",
       "4                                            0   \n",
       "\n",
       "   World Fantasy Award for Best Novel   Zilveren Griffel   \\\n",
       "0                                    0                  0   \n",
       "1                                    0                  0   \n",
       "2                                    0                  0   \n",
       "3                                    0                  0   \n",
       "4                                    0                  0   \n",
       "\n",
       "   الجائزة العالمية للرواية العربية (أي باف) / International Prize for Arabic Fiction (IPAF) Nominee   \n",
       "0                                                  0                                                   \n",
       "1                                                  0                                                   \n",
       "2                                                  0                                                   \n",
       "3                                                  0                                                   \n",
       "4                                                  0                                                   \n",
       "\n",
       "[5 rows x 862 columns]"
      ]
     },
     "metadata": {},
     "output_type": "display_data"
    },
    {
     "data": {
      "text/plain": [
       "(48655, 862)"
      ]
     },
     "metadata": {},
     "output_type": "display_data"
    }
   ],
   "source": [
    "display(gr_data.head(), gr_data.shape)"
   ]
  },
  {
   "cell_type": "markdown",
   "id": "47a66ef6",
   "metadata": {},
   "source": [
    "### Preprocessing data and features for modeling"
   ]
  },
  {
   "cell_type": "markdown",
   "id": "c781a6eb",
   "metadata": {},
   "source": [
    "#### Drop unnecesary columns"
   ]
  },
  {
   "cell_type": "code",
   "execution_count": 117,
   "id": "1df632d2",
   "metadata": {},
   "outputs": [],
   "source": [
    "gr_data= gr_data.drop(['isbn','description'],axis=1)"
   ]
  },
  {
   "cell_type": "code",
   "execution_count": 118,
   "id": "758dffe1",
   "metadata": {},
   "outputs": [
    {
     "data": {
      "text/plain": [
       "(48655, 860)"
      ]
     },
     "execution_count": 118,
     "metadata": {},
     "output_type": "execute_result"
    }
   ],
   "source": [
    "gr_data.shape"
   ]
  },
  {
   "cell_type": "markdown",
   "id": "33db57dc",
   "metadata": {},
   "source": [
    "#### NaN"
   ]
  },
  {
   "cell_type": "code",
   "execution_count": 119,
   "id": "5e2bbd60",
   "metadata": {},
   "outputs": [
    {
     "data": {
      "text/plain": [
       "0"
      ]
     },
     "execution_count": 119,
     "metadata": {},
     "output_type": "execute_result"
    }
   ],
   "source": [
    "gr_data.isna().sum().sum()"
   ]
  },
  {
   "cell_type": "markdown",
   "id": "11829a3a",
   "metadata": {},
   "source": [
    "#### Types"
   ]
  },
  {
   "cell_type": "code",
   "execution_count": 120,
   "id": "fce4c1e0",
   "metadata": {},
   "outputs": [
    {
     "data": {
      "text/plain": [
       "title                   object\n",
       "series                  object\n",
       "author                  object\n",
       "language                object\n",
       "pages                   object\n",
       "book_format             object\n",
       "publish_year             int64\n",
       "first_publish_year       int64\n",
       "publisher               object\n",
       "liked_perc             float64\n",
       "bbe_score              float64\n",
       "bbe_votes              float64\n",
       "log_num_ratings        float64\n",
       "5_stars_num_ratings      int64\n",
       "4_stars_num_ratings      int64\n",
       "3_stars_num_ratings      int64\n",
       "2_stars_num_ratings      int64\n",
       "1_star_num_ratings       int64\n",
       "dtype: object"
      ]
     },
     "execution_count": 120,
     "metadata": {},
     "output_type": "execute_result"
    }
   ],
   "source": [
    "gr_data.iloc[:, :18].dtypes"
   ]
  },
  {
   "cell_type": "code",
   "execution_count": 121,
   "id": "29f46d04",
   "metadata": {},
   "outputs": [
    {
     "name": "stdout",
     "output_type": "stream",
     "text": [
      "Numerical columns: 853\n",
      "Categorical columns: 7\n"
     ]
    }
   ],
   "source": [
    "numerical_columns = gr_data.select_dtypes(include=np.number).columns.tolist()\n",
    "print(f\"Numerical columns: {len(numerical_columns)}\")\n",
    "\n",
    "categorical_columns = gr_data.select_dtypes(include='object').columns.tolist()\n",
    "print(f\"Categorical columns: {len(categorical_columns)}\")"
   ]
  },
  {
   "cell_type": "markdown",
   "id": "5e23cd17",
   "metadata": {},
   "source": [
    "# Reduce columns genre"
   ]
  },
  {
   "cell_type": "code",
   "execution_count": 178,
   "id": "cc9aaf4e",
   "metadata": {},
   "outputs": [],
   "source": [
    "# Importing dataframes\n",
    "award_df = pd.read_csv('./0. Drafts/award_df.csv')\n",
    "award_df = award_df.drop(['Unnamed: 0'],axis=1)\n",
    "award_df = award_df.drop(['index_gr_data'],axis=1)\n",
    "\n",
    "genres_df = pd.read_csv('./0. Drafts/genres_clean_dataset.csv')\n",
    "genres_df = genres_df.drop(['Unnamed: 0'],axis=1)\n",
    "genres_df = genres_df.drop(['index_gr_data'],axis=1)"
   ]
  },
  {
   "cell_type": "code",
   "execution_count": 179,
   "id": "d465446a",
   "metadata": {},
   "outputs": [
    {
     "data": {
      "text/plain": [
       "609"
      ]
     },
     "execution_count": 179,
     "metadata": {},
     "output_type": "execute_result"
    }
   ],
   "source": [
    "binary_columns = [column for column in genres_df.columns]\n",
    "len(binary_columns)"
   ]
  },
  {
   "cell_type": "code",
   "execution_count": 180,
   "id": "4a60950c",
   "metadata": {},
   "outputs": [
    {
     "data": {
      "text/plain": [
       "['fantasy',\n",
       " 'science fiction',\n",
       " 'dystopia',\n",
       " 'young adult',\n",
       " 'fiction',\n",
       " 'action',\n",
       " 'adventure',\n",
       " 'romance',\n",
       " 'magic',\n",
       " 'children',\n",
       " 'audiobook',\n",
       " 'school',\n",
       " 'classics',\n",
       " 'historical fiction',\n",
       " 'novels',\n",
       " 'literature',\n",
       " 'historical',\n",
       " 'historical romance',\n",
       " 'adult',\n",
       " 'urban fantasy',\n",
       " 'paranormal',\n",
       " 'paranormal romance',\n",
       " 'vampires',\n",
       " 'holocaust',\n",
       " 'war',\n",
       " 'politics',\n",
       " 'christian fiction',\n",
       " 'christianity',\n",
       " 'epic fantasy',\n",
       " 'civil war',\n",
       " 'love',\n",
       " 'drama',\n",
       " 'coming of age',\n",
       " 'contemporary',\n",
       " 'comedy',\n",
       " 'humor',\n",
       " 'poetry',\n",
       " 'picture books',\n",
       " 'short stories',\n",
       " 'gothic',\n",
       " 'mystery',\n",
       " 'thriller',\n",
       " 'suspense',\n",
       " 'crime',\n",
       " 'mystery thriller',\n",
       " 'asian countries',\n",
       " 'asia',\n",
       " 'horror',\n",
       " 'european literature',\n",
       " 'european countries',\n",
       " 'plays',\n",
       " 'esoterica',\n",
       " 'philosophy',\n",
       " 'self help',\n",
       " 'inspirational',\n",
       " 'mental health',\n",
       " 'north american countries',\n",
       " 'angels',\n",
       " 'chick lit',\n",
       " 'animals',\n",
       " 'chapter books',\n",
       " 'magical realism',\n",
       " 'time travel',\n",
       " 'iberoamerican literature',\n",
       " 'fairy tales',\n",
       " 'greek mythology',\n",
       " 'mythology',\n",
       " 'dragons',\n",
       " 'epic',\n",
       " 'monsters',\n",
       " 'gastronomy',\n",
       " 'food and nutrition',\n",
       " 'feminism',\n",
       " 'unfinished',\n",
       " 'music and musicians',\n",
       " 'medieval',\n",
       " 'apocalyptic',\n",
       " 'detective',\n",
       " 'victorian',\n",
       " 'mental illness',\n",
       " 'psychology',\n",
       " 'family',\n",
       " 'african american literature',\n",
       " 'new york',\n",
       " 'religion',\n",
       " 'ireland',\n",
       " 'nonfiction',\n",
       " 'history',\n",
       " 'memoires and biographies',\n",
       " 'eastern religions and faith',\n",
       " 'africa',\n",
       " 'steampunk',\n",
       " 'economics',\n",
       " 'contemporary romance',\n",
       " 'womens',\n",
       " 'lgtbi and queer',\n",
       " 'young adult fantasy',\n",
       " 'travel',\n",
       " 'young adult contemporary',\n",
       " 'storytime',\n",
       " 'mathematics',\n",
       " 'counting',\n",
       " 'true crime',\n",
       " 'cats',\n",
       " 'westerns',\n",
       " 'superheroes',\n",
       " 'graphic novel and comics',\n",
       " 'world war i',\n",
       " 'theatre',\n",
       " 'australia',\n",
       " 'christmas',\n",
       " 'holiday',\n",
       " 'science',\n",
       " 'arthurian',\n",
       " 'banned books',\n",
       " 'pirates',\n",
       " 'erotica',\n",
       " 'prehistoric',\n",
       " 'witches',\n",
       " 'retellings',\n",
       " 'asian literature',\n",
       " 'tudor period',\n",
       " 'media tie in',\n",
       " 'dinosaurs',\n",
       " 'religion studies',\n",
       " 'werewolves',\n",
       " 'portugal',\n",
       " 'southern',\n",
       " 'southern gothic',\n",
       " 'journalism',\n",
       " 'race',\n",
       " 'speculative fiction',\n",
       " 'survival',\n",
       " 'college',\n",
       " 'tragedy',\n",
       " 'african countries',\n",
       " 'ancient history',\n",
       " 'abuse',\n",
       " 'guides and travel',\n",
       " 'the united states of america',\n",
       " 'reference',\n",
       " 'space',\n",
       " 'military fiction',\n",
       " 'anthologies',\n",
       " 'childrens classics',\n",
       " 'essays',\n",
       " 'cyberpunk',\n",
       " 'fae',\n",
       " 'african literature',\n",
       " 'legal thriller',\n",
       " 'physics',\n",
       " 'death',\n",
       " 'music',\n",
       " 'islam',\n",
       " 'ghosts',\n",
       " 'regency',\n",
       " 'germany',\n",
       " 'collections',\n",
       " 'judaism',\n",
       " 'true story',\n",
       " 'aliens',\n",
       " 'law',\n",
       " 'biology',\n",
       " 'evolution',\n",
       " 'anthropology',\n",
       " 'political science',\n",
       " 'futuristic',\n",
       " 'french revolution',\n",
       " 'alternate history',\n",
       " 'american history',\n",
       " 'christian romance',\n",
       " 'robots',\n",
       " 'ancient',\n",
       " 'dark',\n",
       " 'fairies',\n",
       " 'folklore',\n",
       " 'zombies',\n",
       " 'education',\n",
       " 'demons',\n",
       " 'mountaineering',\n",
       " 'sports',\n",
       " 'medical',\n",
       " 'medicine',\n",
       " 'theory',\n",
       " 'academic',\n",
       " 'unicorns',\n",
       " 'business',\n",
       " 'leadership',\n",
       " 'new age',\n",
       " 'personal development',\n",
       " 'horse racing',\n",
       " 'american civil war',\n",
       " 'espionage',\n",
       " 'social justice and activism',\n",
       " 'astronomy',\n",
       " 'american revolution',\n",
       " 'presidents',\n",
       " 'gender',\n",
       " 'greece',\n",
       " 'nobel prize',\n",
       " 'noir',\n",
       " 'native americans',\n",
       " 'writing',\n",
       " 'love story',\n",
       " 'sociology',\n",
       " 'business and finance',\n",
       " 'social science',\n",
       " 'health',\n",
       " 'disability',\n",
       " 'halloween',\n",
       " 'communication',\n",
       " 'relationships',\n",
       " 'aviation',\n",
       " 'romanticism',\n",
       " 'israel',\n",
       " 'european history',\n",
       " 'productivity',\n",
       " 'management',\n",
       " 'fighters',\n",
       " 'psychological thriller',\n",
       " 'mythology and fairy tales',\n",
       " 'outdoors',\n",
       " 'murder mystery',\n",
       " 'shapeshifters',\n",
       " 'marriage',\n",
       " 'architecture',\n",
       " 'animal fiction',\n",
       " 'm m romance',\n",
       " 'south american countries',\n",
       " 'fashion',\n",
       " 'programming and computer science',\n",
       " 'cults',\n",
       " 'weird fiction',\n",
       " 'lovecraftian',\n",
       " 'cultural',\n",
       " 'dark fantasy',\n",
       " 'north american literature',\n",
       " 'historical mystery',\n",
       " 'batman',\n",
       " 'americana',\n",
       " 'genetics',\n",
       " 'romantic suspense',\n",
       " 'emotion',\n",
       " 'womens fiction',\n",
       " 'new weird',\n",
       " 'hugo awards',\n",
       " 'diary and journal',\n",
       " 'buisness',\n",
       " 'sports romance',\n",
       " 'polygamy',\n",
       " 'entrepreneurship',\n",
       " 'money',\n",
       " 'personal finance',\n",
       " 'baseball',\n",
       " 'young adult paranormal',\n",
       " 'crafts',\n",
       " 'spy thriller',\n",
       " 'elves',\n",
       " 'plants',\n",
       " 'police',\n",
       " 'archaeology',\n",
       " 'gardening',\n",
       " 'historical fantasy',\n",
       " 'conspiracy theories',\n",
       " 'world history',\n",
       " 'medieval history',\n",
       " 'military history',\n",
       " 'ecology',\n",
       " 'sustainability',\n",
       " 'technology',\n",
       " 'gaming',\n",
       " 'utopia',\n",
       " 'linguistics',\n",
       " 'rabbits',\n",
       " 'manga',\n",
       " 'comic fantasy',\n",
       " 'ghost stories',\n",
       " 'amazon',\n",
       " 'poverty',\n",
       " 'parenting',\n",
       " 'hard boiled',\n",
       " 'aspergers',\n",
       " 'social',\n",
       " 'nordic noir',\n",
       " 'gender studies',\n",
       " 'wildlife',\n",
       " 'anime',\n",
       " 'shojo',\n",
       " 'counter culture',\n",
       " 'illness',\n",
       " 'time travel romance',\n",
       " 'young adult historical fiction',\n",
       " 'cartoon',\n",
       " 'artificial intelligence',\n",
       " 'american revolutionary war',\n",
       " 'heroic fantasy',\n",
       " 'forgotten realms',\n",
       " 'dragonlance',\n",
       " 'regency romance',\n",
       " 'amish',\n",
       " 'modern',\n",
       " 'geography',\n",
       " 'doctors',\n",
       " 'chess',\n",
       " 'martial arts',\n",
       " 'engineering',\n",
       " 'pop culture',\n",
       " 'pulp',\n",
       " 'wizards',\n",
       " 'adoption',\n",
       " 'hockey',\n",
       " 'teaching',\n",
       " 'boarding school',\n",
       " 'star wars',\n",
       " 'fitness',\n",
       " 'fantasy romance',\n",
       " 'natural history',\n",
       " 'fan fiction',\n",
       " 'mermaids',\n",
       " 'society',\n",
       " 'mormonism',\n",
       " 'neuroscience',\n",
       " 'poetry plays',\n",
       " 'discipleship',\n",
       " 'mixed martial arts',\n",
       " 'short story collection',\n",
       " 'walking',\n",
       " 'science fiction romance',\n",
       " 'young adult science fiction',\n",
       " 'rock n roll',\n",
       " 'mysticism',\n",
       " 'psychoanalysis',\n",
       " 'hard science fiction',\n",
       " 'health care',\n",
       " 'urban',\n",
       " 'academia',\n",
       " 'dying earth',\n",
       " 'fostering',\n",
       " 'anarchism',\n",
       " 'satanism',\n",
       " 'human development',\n",
       " 'design',\n",
       " 'conservation',\n",
       " 'sexuality',\n",
       " 'film',\n",
       " 'medieval romance',\n",
       " 'western romance',\n",
       " 'drawing',\n",
       " 'how to',\n",
       " 'research',\n",
       " 'cars and motorcycles',\n",
       " 'shonen',\n",
       " 'maritime',\n",
       " 'anthropomorphic',\n",
       " 'military science fiction',\n",
       " 'favorites',\n",
       " 'cities',\n",
       " 'urban planning',\n",
       " 'vegan',\n",
       " 'cozy mystery',\n",
       " 'deception',\n",
       " 'princesses',\n",
       " 'technical',\n",
       " 'virtual reality',\n",
       " 'prayer',\n",
       " 'photography',\n",
       " 'harlequin',\n",
       " 'reverse harem',\n",
       " 'cycling',\n",
       " 'russian history',\n",
       " 'own',\n",
       " 'superman',\n",
       " 'wicca',\n",
       " 'josei',\n",
       " 'the world',\n",
       " 'native american history',\n",
       " 'love inspired',\n",
       " 'love inspired historical',\n",
       " 'literary criticism',\n",
       " 'journal',\n",
       " 'brain',\n",
       " 'lesbian fiction',\n",
       " 'military romance',\n",
       " 'sewing and crafts',\n",
       " 'cinderella',\n",
       " 'prostitution',\n",
       " 'divorce',\n",
       " 'birds',\n",
       " 'epic poetry',\n",
       " 'marathi',\n",
       " 'swashbuckling',\n",
       " 'transport',\n",
       " 'government',\n",
       " 'new adult romance',\n",
       " 'football',\n",
       " 'counselling',\n",
       " 'cthulhu mythos',\n",
       " 'mine',\n",
       " 'dictionaries',\n",
       " 'prehistory',\n",
       " 'spanish civil war',\n",
       " 'wilderness',\n",
       " 'number',\n",
       " 'international',\n",
       " 'surreal',\n",
       " 'us presidents',\n",
       " 'naval history',\n",
       " 'light novel',\n",
       " 'terrorism',\n",
       " 'seinen',\n",
       " 'classical studies',\n",
       " 'futurism',\n",
       " 'singularity',\n",
       " 'quantum mechanics',\n",
       " 'fat studies',\n",
       " 'gothic romance',\n",
       " 'tasmania',\n",
       " 'humanities',\n",
       " 'recreation',\n",
       " 'basketball',\n",
       " 'female authors',\n",
       " 'marvel',\n",
       " 'psychiatry',\n",
       " 'sci fi fantasy',\n",
       " 'x men',\n",
       " 'microhistory',\n",
       " 'elizabethan period',\n",
       " 'teachers',\n",
       " 'climbing',\n",
       " 'gay fiction',\n",
       " 'soccer',\n",
       " 'paranormal mystery',\n",
       " 'class',\n",
       " 'judaica',\n",
       " 'zen',\n",
       " 'oral history',\n",
       " 'punk',\n",
       " 'lesbian romance',\n",
       " 'holland',\n",
       " 'splatterpunk',\n",
       " 'interracial romance',\n",
       " 'urban studies',\n",
       " 'jazz',\n",
       " 'paganism',\n",
       " 'victor frankenstein',\n",
       " 'slice of life',\n",
       " 'near future',\n",
       " 'chemistry',\n",
       " 'm m fantasy',\n",
       " 'nursery rhymes',\n",
       " 'trains',\n",
       " 'puzzles',\n",
       " 'hip hop',\n",
       " 'alternate universe',\n",
       " 'climate change',\n",
       " 'palaeontology',\n",
       " 'social media',\n",
       " 'tea',\n",
       " 'western historical romance',\n",
       " 'american classics',\n",
       " 'firefighters',\n",
       " 'alexandria',\n",
       " 'geology',\n",
       " 'romanovs',\n",
       " 'drinking',\n",
       " 'polyamory',\n",
       " 'bizarro fiction',\n",
       " 'climate change fiction',\n",
       " 'disease',\n",
       " 'post colonial',\n",
       " 'asexual',\n",
       " 'wine',\n",
       " 'baha i',\n",
       " 'manhwa',\n",
       " 'nerd',\n",
       " 'soviet history',\n",
       " 'russian revolution',\n",
       " 'international relations',\n",
       " 'soldiers',\n",
       " 'musicals',\n",
       " 'labor',\n",
       " 'doctor who',\n",
       " 'feminist theory',\n",
       " 'fire services',\n",
       " 'egyptology',\n",
       " 'webcomic',\n",
       " 'tv and series',\n",
       " 'paranormal urban fantasy',\n",
       " 'slash fiction',\n",
       " 'yaoi',\n",
       " 'roman britain',\n",
       " 'buffy the vampire slayer',\n",
       " 'amish fiction',\n",
       " 'komik',\n",
       " 'lenin',\n",
       " 'international development',\n",
       " 'angola',\n",
       " 'pilots',\n",
       " 'star trek',\n",
       " 'alchemy',\n",
       " 'edwardian',\n",
       " 'role playing games',\n",
       " 'personal growth',\n",
       " 'mary shelley',\n",
       " 'weird west',\n",
       " 'witchcraft',\n",
       " 'libya',\n",
       " 'planetary romance',\n",
       " 'shounen ai',\n",
       " 'alcohol',\n",
       " 'mali',\n",
       " 'rus',\n",
       " 'spider man',\n",
       " 'moroccan',\n",
       " 'erotic horror',\n",
       " 'vegetarian',\n",
       " 'cryptozoology',\n",
       " 'trivia',\n",
       " 'victorian romance',\n",
       " 'harem',\n",
       " 'ethnography',\n",
       " 'cultural studies',\n",
       " 'frugal',\n",
       " 'alternative medicine',\n",
       " 'reportage',\n",
       " 'booze',\n",
       " 'museums',\n",
       " 'agriculture',\n",
       " 'horticulture',\n",
       " 'battle of gettysburg',\n",
       " 'lie',\n",
       " 'mistery',\n",
       " 'stories',\n",
       " 'sewing',\n",
       " 'canon',\n",
       " 'm m contemporary',\n",
       " 'students',\n",
       " 'stuart',\n",
       " 'm m sports romance',\n",
       " 'star trek the next generation',\n",
       " 'academics',\n",
       " 'green',\n",
       " 'bicycles',\n",
       " 'helicopters',\n",
       " 'amateur sleuth',\n",
       " 'm m historical romance',\n",
       " 'nazi party',\n",
       " 'futuristic romance',\n",
       " 'maps and cartography',\n",
       " 'hqn',\n",
       " 'graphic novels comics manga',\n",
       " 'mail order brides',\n",
       " 'yuri',\n",
       " 'nursing',\n",
       " 'traditional chinese medicine',\n",
       " 'georgian romance',\n",
       " 'viking romance',\n",
       " 'stand up',\n",
       " 'ornithology',\n",
       " 'beer',\n",
       " 'soviet union',\n",
       " 'civil war eastern theater',\n",
       " 'latin american history',\n",
       " 'm m paranormal',\n",
       " 'manga romance',\n",
       " 'creation science',\n",
       " 'naval historical fiction',\n",
       " 'star trek deep space nine',\n",
       " 'silhouette',\n",
       " 'gothic horror',\n",
       " 'gamebooks',\n",
       " 'choose your own adventure',\n",
       " 'japanese history',\n",
       " 'world of darkness',\n",
       " 'railways',\n",
       " 'veganism and vegetarianism',\n",
       " 'mira',\n",
       " 'wonder woman',\n",
       " 'herbs',\n",
       " 'low fantasy',\n",
       " 'christian contemporary fiction',\n",
       " 'battle of britain',\n",
       " 'aircraft',\n",
       " 'go',\n",
       " 'civil war history',\n",
       " 'racing',\n",
       " 'led zeppelin',\n",
       " 'spanish history',\n",
       " 'asian countries.1',\n",
       " 'gastronomy, food and nutrition',\n",
       " 'music and musicians.1',\n",
       " 'memoires and biographies.1',\n",
       " 'eastern religions and faith.1',\n",
       " 'lgtbi and queer.1',\n",
       " 'graphic novel and comics.1',\n",
       " 'guides and travel.1',\n",
       " 'social justice and activism.1',\n",
       " 'business and finance.1',\n",
       " 'mythology and fairy tales.1',\n",
       " 'programming and computer science.1',\n",
       " 'diary and journal.1',\n",
       " 'unknown',\n",
       " 'cars and motorcycles.1',\n",
       " 'bande dessinée',\n",
       " 'sewing and crafts.1',\n",
       " 'tv and series.1',\n",
       " 'maps and cartography.1',\n",
       " '漫画',\n",
       " 'veganism and vegetarianism.1']"
      ]
     },
     "execution_count": 180,
     "metadata": {},
     "output_type": "execute_result"
    }
   ],
   "source": [
    "binary_columns"
   ]
  },
  {
   "cell_type": "code",
   "execution_count": 188,
   "id": "03919e07",
   "metadata": {},
   "outputs": [],
   "source": [
    "to_group = ['young adult', 'fantasy','science fiction', 'fiction','romance',\n",
    "            'historical fiction','poetry', 'comedy', 'suspense', 'thriller',\n",
    "            'horror', 'philosophy','asia','europe','america','africa','christian',\n",
    "           'war','drama','epic','crime','christ','wolves','children','music','medic',\n",
    "           'health','mystery']"
   ]
  },
  {
   "cell_type": "code",
   "execution_count": 193,
   "id": "bc6a962e",
   "metadata": {},
   "outputs": [
    {
     "name": "stdout",
     "output_type": "stream",
     "text": [
      "{'young adult': ['young adult', 'young adult fantasy', 'young adult contemporary', 'young adult paranormal', 'young adult historical fiction', 'young adult science fiction'], 'fantasy': ['fantasy', 'urban fantasy', 'epic fantasy', 'young adult fantasy', 'dark fantasy', 'historical fantasy', 'comic fantasy', 'heroic fantasy', 'fantasy romance', 'sci fi fantasy', 'm m fantasy', 'paranormal urban fantasy', 'low fantasy'], 'science fiction': ['science fiction', 'science fiction romance', 'young adult science fiction', 'hard science fiction', 'military science fiction'], 'fiction': ['fiction', 'historical fiction', 'christian fiction', 'nonfiction', 'speculative fiction', 'military fiction', 'animal fiction', 'weird fiction', 'womens fiction', 'young adult historical fiction', 'fan fiction', 'lesbian fiction', 'gay fiction', 'bizarro fiction', 'climate change fiction', 'slash fiction', 'amish fiction', 'naval historical fiction', 'christian contemporary fiction'], 'romance': ['romance', 'historical romance', 'paranormal romance', 'contemporary romance', 'christian romance', 'm m romance', 'sports romance', 'time travel romance', 'regency romance', 'fantasy romance', 'science fiction romance', 'medieval romance', 'western romance', 'military romance', 'new adult romance', 'gothic romance', 'lesbian romance', 'interracial romance', 'western historical romance', 'planetary romance', 'victorian romance', 'm m sports romance', 'm m historical romance', 'futuristic romance', 'georgian romance', 'viking romance', 'manga romance'], 'historical fiction': ['historical fiction', 'young adult historical fiction', 'naval historical fiction'], 'poetry': ['poetry', 'poetry plays', 'epic poetry'], 'comedy': ['comedy'], 'suspense': ['suspense', 'romantic suspense'], 'thriller': ['thriller', 'mystery thriller', 'legal thriller', 'psychological thriller', 'spy thriller'], 'horror': ['horror', 'erotic horror', 'gothic horror'], 'philosophy': ['philosophy'], 'asia': ['asian countries', 'asia', 'asian literature', 'asian countries.1'], 'europe': ['european literature', 'european countries', 'european history'], 'america': ['north american countries', 'iberoamerican literature', 'african american literature', 'the united states of america', 'american history', 'american civil war', 'american revolution', 'native americans', 'south american countries', 'north american literature', 'americana', 'american revolutionary war', 'native american history', 'american classics', 'latin american history'], 'africa': ['african american literature', 'africa', 'african countries', 'african literature'], 'christian': ['christian fiction', 'christianity', 'christian romance', 'christian contemporary fiction'], 'war': ['war', 'civil war', 'world war i', 'american civil war', 'hugo awards', 'american revolutionary war', 'star wars', 'spanish civil war', 'edwardian', 'civil war eastern theater', 'civil war history'], 'drama': ['drama'], 'epic': ['epic fantasy', 'epic', 'epic poetry'], 'crime': ['crime', 'true crime'], 'christ': ['christian fiction', 'christianity', 'christmas', 'christian romance', 'christian contemporary fiction'], 'wolves': ['werewolves'], 'children': ['children', 'childrens classics'], 'music': ['music and musicians', 'music', 'musicals', 'music and musicians.1'], 'medic': ['medical', 'medicine', 'alternative medicine', 'traditional chinese medicine'], 'health': ['mental health', 'health', 'health care'], 'mystery': ['mystery', 'mystery thriller', 'murder mystery', 'historical mystery', 'cozy mystery', 'paranormal mystery']}\n"
     ]
    }
   ],
   "source": [
    "genre_dict = {}\n",
    "\n",
    "for genre in to_group:\n",
    "    if genre == 'science fiction':\n",
    "        genre_dict[genre] = [name for name in binary_columns if 'science fiction' in name.lower()]\n",
    "    elif genre == 'fiction':\n",
    "        genre_dict[genre] = [name for name in binary_columns if 'fiction' in name.lower() and 'science fiction' not in name.lower()]\n",
    "    else:\n",
    "        genre_dict[genre] = [name for name in binary_columns if genre in name.lower()]\n",
    "\n",
    "print(genre_dict)\n"
   ]
  },
  {
   "cell_type": "code",
   "execution_count": 192,
   "id": "91a89764",
   "metadata": {},
   "outputs": [
    {
     "data": {
      "text/plain": [
       "(48655, 860)"
      ]
     },
     "execution_count": 192,
     "metadata": {},
     "output_type": "execute_result"
    }
   ],
   "source": [
    "gr_data.shape"
   ]
  },
  {
   "cell_type": "markdown",
   "id": "5e7aeb94",
   "metadata": {},
   "source": [
    "#### Numerical Data"
   ]
  },
  {
   "cell_type": "code",
   "execution_count": 122,
   "id": "9e24e5e8",
   "metadata": {},
   "outputs": [
    {
     "data": {
      "text/plain": [
       "(48655, 853)"
      ]
     },
     "execution_count": 122,
     "metadata": {},
     "output_type": "execute_result"
    }
   ],
   "source": [
    "numerical = gr_data.select_dtypes(include=np.number)\n",
    "numerical.shape\n",
    "#categorical = gr_data.select_dtypes(include=['object'])"
   ]
  },
  {
   "cell_type": "code",
   "execution_count": 123,
   "id": "d71d4559",
   "metadata": {},
   "outputs": [],
   "source": [
    "# For easier analysis, I'm going to undo the log transformation in this subset\n",
    "log_transformed_votes = numerical['bbe_votes']\n",
    "original_votes = 10**(log_transformed_votes)\n",
    "numerical['bbe_votes'] = original_votes\n",
    "\n",
    "log_transformed_scores = numerical['bbe_score']\n",
    "original_scores = 10**(log_transformed_scores)\n",
    "numerical['bbe_score'] = original_scores"
   ]
  },
  {
   "cell_type": "code",
   "execution_count": null,
   "id": "63d2f3e5",
   "metadata": {},
   "outputs": [],
   "source": []
  },
  {
   "cell_type": "code",
   "execution_count": null,
   "id": "529f5480",
   "metadata": {},
   "outputs": [],
   "source": []
  },
  {
   "cell_type": "code",
   "execution_count": null,
   "id": "b9a11b31",
   "metadata": {},
   "outputs": [],
   "source": []
  },
  {
   "cell_type": "markdown",
   "id": "2280b3bc",
   "metadata": {},
   "source": [
    "##### Correlation-Association amongst features"
   ]
  },
  {
   "cell_type": "markdown",
   "id": "72afd8da",
   "metadata": {},
   "source": [
    "Correlation Matrix:"
   ]
  },
  {
   "cell_type": "code",
   "execution_count": 124,
   "id": "b12272a0",
   "metadata": {},
   "outputs": [],
   "source": [
    "# Correlation matrix for numerical values (854 columns)\n",
    "corr_matrix = numerical.corr()"
   ]
  },
  {
   "cell_type": "code",
   "execution_count": 125,
   "id": "e853d12e",
   "metadata": {},
   "outputs": [],
   "source": [
    "#As there are so many columns, displaying data where correlations > 0.6 or < -0,6 :"
   ]
  },
  {
   "cell_type": "code",
   "execution_count": 126,
   "id": "063879d3",
   "metadata": {
    "scrolled": true
   },
   "outputs": [
    {
     "data": {
      "text/html": [
       "<div>\n",
       "<style scoped>\n",
       "    .dataframe tbody tr th:only-of-type {\n",
       "        vertical-align: middle;\n",
       "    }\n",
       "\n",
       "    .dataframe tbody tr th {\n",
       "        vertical-align: top;\n",
       "    }\n",
       "\n",
       "    .dataframe thead th {\n",
       "        text-align: right;\n",
       "    }\n",
       "</style>\n",
       "<table border=\"1\" class=\"dataframe\">\n",
       "  <thead>\n",
       "    <tr style=\"text-align: right;\">\n",
       "      <th></th>\n",
       "      <th>row name</th>\n",
       "      <th>col name</th>\n",
       "      <th>corr number</th>\n",
       "    </tr>\n",
       "  </thead>\n",
       "  <tbody>\n",
       "    <tr>\n",
       "      <th>0</th>\n",
       "      <td>bbe_score</td>\n",
       "      <td>bbe_votes</td>\n",
       "      <td>0.999308</td>\n",
       "    </tr>\n",
       "    <tr>\n",
       "      <th>24</th>\n",
       "      <td>3_stars_num_ratings</td>\n",
       "      <td>4_stars_num_ratings</td>\n",
       "      <td>0.957836</td>\n",
       "    </tr>\n",
       "    <tr>\n",
       "      <th>30</th>\n",
       "      <td>2_stars_num_ratings</td>\n",
       "      <td>3_stars_num_ratings</td>\n",
       "      <td>0.956072</td>\n",
       "    </tr>\n",
       "    <tr>\n",
       "      <th>35</th>\n",
       "      <td>1_star_num_ratings</td>\n",
       "      <td>2_stars_num_ratings</td>\n",
       "      <td>0.933824</td>\n",
       "    </tr>\n",
       "    <tr>\n",
       "      <th>17</th>\n",
       "      <td>4_stars_num_ratings</td>\n",
       "      <td>5_stars_num_ratings</td>\n",
       "      <td>0.931859</td>\n",
       "    </tr>\n",
       "    <tr>\n",
       "      <th>29</th>\n",
       "      <td>2_stars_num_ratings</td>\n",
       "      <td>4_stars_num_ratings</td>\n",
       "      <td>0.856281</td>\n",
       "    </tr>\n",
       "    <tr>\n",
       "      <th>23</th>\n",
       "      <td>3_stars_num_ratings</td>\n",
       "      <td>5_stars_num_ratings</td>\n",
       "      <td>0.831870</td>\n",
       "    </tr>\n",
       "    <tr>\n",
       "      <th>34</th>\n",
       "      <td>1_star_num_ratings</td>\n",
       "      <td>3_stars_num_ratings</td>\n",
       "      <td>0.820076</td>\n",
       "    </tr>\n",
       "    <tr>\n",
       "      <th>28</th>\n",
       "      <td>2_stars_num_ratings</td>\n",
       "      <td>5_stars_num_ratings</td>\n",
       "      <td>0.726403</td>\n",
       "    </tr>\n",
       "    <tr>\n",
       "      <th>33</th>\n",
       "      <td>1_star_num_ratings</td>\n",
       "      <td>4_stars_num_ratings</td>\n",
       "      <td>0.711987</td>\n",
       "    </tr>\n",
       "    <tr>\n",
       "      <th>79</th>\n",
       "      <td>Hugo Award for Best Novel</td>\n",
       "      <td>hugo awards</td>\n",
       "      <td>0.708158</td>\n",
       "    </tr>\n",
       "    <tr>\n",
       "      <th>77</th>\n",
       "      <td>booze</td>\n",
       "      <td>drinking</td>\n",
       "      <td>0.707100</td>\n",
       "    </tr>\n",
       "    <tr>\n",
       "      <th>68</th>\n",
       "      <td>love inspired</td>\n",
       "      <td>love inspired historical</td>\n",
       "      <td>0.707070</td>\n",
       "    </tr>\n",
       "    <tr>\n",
       "      <th>10</th>\n",
       "      <td>5_stars_num_ratings</td>\n",
       "      <td>bbe_votes</td>\n",
       "      <td>0.706270</td>\n",
       "    </tr>\n",
       "    <tr>\n",
       "      <th>16</th>\n",
       "      <td>4_stars_num_ratings</td>\n",
       "      <td>bbe_votes</td>\n",
       "      <td>0.704976</td>\n",
       "    </tr>\n",
       "    <tr>\n",
       "      <th>39</th>\n",
       "      <td>historical</td>\n",
       "      <td>historical fiction</td>\n",
       "      <td>0.699301</td>\n",
       "    </tr>\n",
       "    <tr>\n",
       "      <th>9</th>\n",
       "      <td>5_stars_num_ratings</td>\n",
       "      <td>bbe_score</td>\n",
       "      <td>0.698749</td>\n",
       "    </tr>\n",
       "    <tr>\n",
       "      <th>15</th>\n",
       "      <td>4_stars_num_ratings</td>\n",
       "      <td>bbe_score</td>\n",
       "      <td>0.693691</td>\n",
       "    </tr>\n",
       "    <tr>\n",
       "      <th>64</th>\n",
       "      <td>money</td>\n",
       "      <td>personal finance</td>\n",
       "      <td>0.677922</td>\n",
       "    </tr>\n",
       "    <tr>\n",
       "      <th>44</th>\n",
       "      <td>christian fiction</td>\n",
       "      <td>christianity</td>\n",
       "      <td>0.676971</td>\n",
       "    </tr>\n",
       "    <tr>\n",
       "      <th>71</th>\n",
       "      <td>cthulhu mythos</td>\n",
       "      <td>lovecraftian</td>\n",
       "      <td>0.675476</td>\n",
       "    </tr>\n",
       "    <tr>\n",
       "      <th>22</th>\n",
       "      <td>3_stars_num_ratings</td>\n",
       "      <td>bbe_votes</td>\n",
       "      <td>0.663200</td>\n",
       "    </tr>\n",
       "    <tr>\n",
       "      <th>42</th>\n",
       "      <td>paranormal</td>\n",
       "      <td>paranormal romance</td>\n",
       "      <td>0.656138</td>\n",
       "    </tr>\n",
       "    <tr>\n",
       "      <th>21</th>\n",
       "      <td>3_stars_num_ratings</td>\n",
       "      <td>bbe_score</td>\n",
       "      <td>0.650830</td>\n",
       "    </tr>\n",
       "    <tr>\n",
       "      <th>70</th>\n",
       "      <td>brain</td>\n",
       "      <td>neuroscience</td>\n",
       "      <td>0.648837</td>\n",
       "    </tr>\n",
       "    <tr>\n",
       "      <th>78</th>\n",
       "      <td>business and finance.1</td>\n",
       "      <td>money</td>\n",
       "      <td>0.647308</td>\n",
       "    </tr>\n",
       "    <tr>\n",
       "      <th>61</th>\n",
       "      <td>american civil war</td>\n",
       "      <td>civil war</td>\n",
       "      <td>0.647194</td>\n",
       "    </tr>\n",
       "    <tr>\n",
       "      <th>60</th>\n",
       "      <td>personal development</td>\n",
       "      <td>self help</td>\n",
       "      <td>0.646251</td>\n",
       "    </tr>\n",
       "    <tr>\n",
       "      <th>76</th>\n",
       "      <td>shounen ai</td>\n",
       "      <td>yaoi</td>\n",
       "      <td>0.645358</td>\n",
       "    </tr>\n",
       "    <tr>\n",
       "      <th>57</th>\n",
       "      <td>prehistoric</td>\n",
       "      <td>prehistory</td>\n",
       "      <td>0.643481</td>\n",
       "    </tr>\n",
       "    <tr>\n",
       "      <th>32</th>\n",
       "      <td>1_star_num_ratings</td>\n",
       "      <td>5_stars_num_ratings</td>\n",
       "      <td>0.639672</td>\n",
       "    </tr>\n",
       "    <tr>\n",
       "      <th>56</th>\n",
       "      <td>counting</td>\n",
       "      <td>number</td>\n",
       "      <td>0.639534</td>\n",
       "    </tr>\n",
       "    <tr>\n",
       "      <th>51</th>\n",
       "      <td>mystery thriller</td>\n",
       "      <td>thriller</td>\n",
       "      <td>0.638663</td>\n",
       "    </tr>\n",
       "    <tr>\n",
       "      <th>36</th>\n",
       "      <td>fantasy</td>\n",
       "      <td>science fiction</td>\n",
       "      <td>0.634241</td>\n",
       "    </tr>\n",
       "    <tr>\n",
       "      <th>50</th>\n",
       "      <td>crime</td>\n",
       "      <td>mystery thriller</td>\n",
       "      <td>0.629742</td>\n",
       "    </tr>\n",
       "    <tr>\n",
       "      <th>49</th>\n",
       "      <td>suspense</td>\n",
       "      <td>thriller</td>\n",
       "      <td>0.618759</td>\n",
       "    </tr>\n",
       "    <tr>\n",
       "      <th>58</th>\n",
       "      <td>medical</td>\n",
       "      <td>medicine</td>\n",
       "      <td>0.615121</td>\n",
       "    </tr>\n",
       "    <tr>\n",
       "      <th>41</th>\n",
       "      <td>paranormal</td>\n",
       "      <td>urban fantasy</td>\n",
       "      <td>0.612334</td>\n",
       "    </tr>\n",
       "    <tr>\n",
       "      <th>27</th>\n",
       "      <td>2_stars_num_ratings</td>\n",
       "      <td>bbe_votes</td>\n",
       "      <td>0.607837</td>\n",
       "    </tr>\n",
       "    <tr>\n",
       "      <th>55</th>\n",
       "      <td>history</td>\n",
       "      <td>nonfiction</td>\n",
       "      <td>0.603818</td>\n",
       "    </tr>\n",
       "  </tbody>\n",
       "</table>\n",
       "</div>"
      ],
      "text/plain": [
       "                      row name                  col name  corr number\n",
       "0                    bbe_score                 bbe_votes     0.999308\n",
       "24         3_stars_num_ratings       4_stars_num_ratings     0.957836\n",
       "30         2_stars_num_ratings       3_stars_num_ratings     0.956072\n",
       "35          1_star_num_ratings       2_stars_num_ratings     0.933824\n",
       "17         4_stars_num_ratings       5_stars_num_ratings     0.931859\n",
       "29         2_stars_num_ratings       4_stars_num_ratings     0.856281\n",
       "23         3_stars_num_ratings       5_stars_num_ratings     0.831870\n",
       "34          1_star_num_ratings       3_stars_num_ratings     0.820076\n",
       "28         2_stars_num_ratings       5_stars_num_ratings     0.726403\n",
       "33          1_star_num_ratings       4_stars_num_ratings     0.711987\n",
       "79  Hugo Award for Best Novel                hugo awards     0.708158\n",
       "77                       booze                  drinking     0.707100\n",
       "68               love inspired  love inspired historical     0.707070\n",
       "10         5_stars_num_ratings                 bbe_votes     0.706270\n",
       "16         4_stars_num_ratings                 bbe_votes     0.704976\n",
       "39                  historical        historical fiction     0.699301\n",
       "9          5_stars_num_ratings                 bbe_score     0.698749\n",
       "15         4_stars_num_ratings                 bbe_score     0.693691\n",
       "64                       money          personal finance     0.677922\n",
       "44           christian fiction              christianity     0.676971\n",
       "71              cthulhu mythos              lovecraftian     0.675476\n",
       "22         3_stars_num_ratings                 bbe_votes     0.663200\n",
       "42                  paranormal        paranormal romance     0.656138\n",
       "21         3_stars_num_ratings                 bbe_score     0.650830\n",
       "70                       brain              neuroscience     0.648837\n",
       "78      business and finance.1                     money     0.647308\n",
       "61          american civil war                 civil war     0.647194\n",
       "60        personal development                 self help     0.646251\n",
       "76                  shounen ai                      yaoi     0.645358\n",
       "57                 prehistoric                prehistory     0.643481\n",
       "32          1_star_num_ratings       5_stars_num_ratings     0.639672\n",
       "56                    counting                    number     0.639534\n",
       "51            mystery thriller                  thriller     0.638663\n",
       "36                     fantasy           science fiction     0.634241\n",
       "50                       crime          mystery thriller     0.629742\n",
       "49                    suspense                  thriller     0.618759\n",
       "58                     medical                  medicine     0.615121\n",
       "41                  paranormal             urban fantasy     0.612334\n",
       "27         2_stars_num_ratings                 bbe_votes     0.607837\n",
       "55                     history                nonfiction     0.603818"
      ]
     },
     "metadata": {},
     "output_type": "display_data"
    },
    {
     "data": {
      "text/plain": [
       "40"
      ]
     },
     "metadata": {},
     "output_type": "display_data"
    }
   ],
   "source": [
    "# Indices of non-NaN values in the correlation matrix\n",
    "indices = [(row, col) for row in corr_matrix.index for col in corr_matrix.columns if not pd.isna(corr_matrix.loc[row, col])]\n",
    "\n",
    "# New df with the row and column's names, and correlation number\n",
    "df = pd.DataFrame([(idx[0], idx[1], corr_matrix.loc[idx]) for idx in indices if (corr_matrix.loc[idx] > 0.6 or corr_matrix.loc[idx] < -0.6) and idx[0] != idx[1]], columns=['row name', 'col name', 'corr number'])\n",
    "\n",
    "# Drop duplicate rows where row name is greater than col name (diagonal)\n",
    "df = df[df['row name'] < df['col name']]\n",
    "\n",
    "# Sort df by the correlation number in descending order\n",
    "df = df.sort_values(by='corr number', ascending=False)\n",
    "\n",
    "# Sorted df\n",
    "display(df, len(df))\n"
   ]
  },
  {
   "cell_type": "markdown",
   "id": "be4ae65b",
   "metadata": {},
   "source": [
    " - Check counts from paired highly-correlated variables to choose which one to eliminate"
   ]
  },
  {
   "cell_type": "code",
   "execution_count": 127,
   "id": "aa848682",
   "metadata": {},
   "outputs": [
    {
     "data": {
      "text/plain": [
       "0    48593\n",
       "1       62\n",
       "Name: Hugo Award for Best Novel , dtype: int64"
      ]
     },
     "metadata": {},
     "output_type": "display_data"
    },
    {
     "data": {
      "text/plain": [
       "0    48620\n",
       "1       35\n",
       "Name: hugo awards, dtype: int64"
      ]
     },
     "metadata": {},
     "output_type": "display_data"
    }
   ],
   "source": [
    "display(numerical['Hugo Award for Best Novel '].value_counts(),numerical['hugo awards'].value_counts())"
   ]
  },
  {
   "cell_type": "code",
   "execution_count": 128,
   "id": "927103e5",
   "metadata": {},
   "outputs": [
    {
     "data": {
      "text/plain": [
       "0    48645\n",
       "1       10\n",
       "Name: love inspired, dtype: int64"
      ]
     },
     "metadata": {},
     "output_type": "display_data"
    },
    {
     "data": {
      "text/plain": [
       "0    48650\n",
       "1        5\n",
       "Name: love inspired historical, dtype: int64"
      ]
     },
     "metadata": {},
     "output_type": "display_data"
    }
   ],
   "source": [
    "display(numerical['love inspired'].value_counts(),numerical['love inspired historical'].value_counts())"
   ]
  },
  {
   "cell_type": "code",
   "execution_count": 129,
   "id": "67a4a25b",
   "metadata": {},
   "outputs": [],
   "source": [
    "# High correlated variables to drop\n",
    "high_correlated = ['2_stars_num_ratings','3_stars_num_ratings','4_stars_num_ratings',\n",
    "                   'bbe_votes']"
   ]
  },
  {
   "cell_type": "code",
   "execution_count": 130,
   "id": "0d1bc32f",
   "metadata": {},
   "outputs": [],
   "source": [
    "# High correlated variables to drop\n",
    "high_correlated = ['2_stars_num_ratings','3_stars_num_ratings','4_stars_num_ratings',\n",
    "                   'bbe_votes','hugo awards','booze','love inspired historical']"
   ]
  },
  {
   "cell_type": "code",
   "execution_count": 131,
   "id": "b669b25a",
   "metadata": {},
   "outputs": [
    {
     "data": {
      "text/plain": [
       "(48655, 853)"
      ]
     },
     "execution_count": 131,
     "metadata": {},
     "output_type": "execute_result"
    }
   ],
   "source": [
    "numerical.shape"
   ]
  },
  {
   "cell_type": "code",
   "execution_count": 132,
   "id": "2bbe0bfa",
   "metadata": {},
   "outputs": [
    {
     "data": {
      "text/plain": [
       "(48655, 846)"
      ]
     },
     "execution_count": 132,
     "metadata": {},
     "output_type": "execute_result"
    }
   ],
   "source": [
    "# Drop high correlated variables\n",
    "numerical = numerical.drop(high_correlated, axis=1)\n",
    "\n",
    "# New shape\n",
    "numerical.shape"
   ]
  },
  {
   "cell_type": "markdown",
   "id": "b5ce6890",
   "metadata": {},
   "source": [
    "correlation matrix can differ depending on whether the data is scaled or not. This is because correlation measures the linear relationship between two variables, and the scale of the variables can affect the strength of their relationship.\n",
    "\n",
    "For example, if one variable has a much larger scale than another variable, it may dominate the correlation analysis and obscure any relationships between the other variables. Scaling the variables to have the same range of values can help to mitigate this problem and provide a more accurate representation of the correlations between the variables."
   ]
  },
  {
   "cell_type": "markdown",
   "id": "b402a764",
   "metadata": {},
   "source": [
    "generally recommended to scale the numerical features before applying PCA to ensure that they are on a similar scale and have equal weight in the analysis. This is because PCA is sensitive to the scale of the variables, and features with larger scales can dominate the analysis. "
   ]
  },
  {
   "cell_type": "code",
   "execution_count": null,
   "id": "f417654c",
   "metadata": {},
   "outputs": [],
   "source": []
  },
  {
   "cell_type": "markdown",
   "id": "81ebd3c4",
   "metadata": {},
   "source": [
    "#### Categorical Data"
   ]
  },
  {
   "cell_type": "code",
   "execution_count": 133,
   "id": "11cac4ad",
   "metadata": {},
   "outputs": [
    {
     "data": {
      "text/plain": [
       "(48655, 7)"
      ]
     },
     "execution_count": 133,
     "metadata": {},
     "output_type": "execute_result"
    }
   ],
   "source": [
    "categorical = gr_data.select_dtypes(include=['object'])\n",
    "categorical.shape"
   ]
  },
  {
   "cell_type": "code",
   "execution_count": 134,
   "id": "fa4635b4",
   "metadata": {},
   "outputs": [
    {
     "name": "stdout",
     "output_type": "stream",
     "text": [
      "Unique values for title: 46328\n",
      "Unique values for series: 4405\n",
      "Unique values for author: 21720\n",
      "Unique values for language: 92\n",
      "Unique values for pages: 12\n",
      "Unique values for book_format: 10\n",
      "Unique values for publisher: 4\n"
     ]
    }
   ],
   "source": [
    "# Unique values\n",
    "for col in categorical.columns:\n",
    "    print(f\"Unique values for {col}: {categorical[col].nunique()}\")"
   ]
  },
  {
   "cell_type": "markdown",
   "id": "79d6190c",
   "metadata": {},
   "source": [
    "- Reducing unique values"
   ]
  },
  {
   "cell_type": "markdown",
   "id": "a2d338d2",
   "metadata": {},
   "source": [
    "Author"
   ]
  },
  {
   "cell_type": "code",
   "execution_count": 135,
   "id": "e93911a4",
   "metadata": {},
   "outputs": [
    {
     "data": {
      "text/plain": [
       "0        Suzanne Collins\n",
       "1           J.K. Rowling\n",
       "2             Harper Lee\n",
       "3            Jane Austen\n",
       "4        Stephenie Meyer\n",
       "              ...       \n",
       "48650      Sherry Gammon\n",
       "48651      Emma Michaels\n",
       "48652     Kim Richardson\n",
       "48653        Tom Pollack\n",
       "48654       Misty Moncur\n",
       "Name: author, Length: 48655, dtype: object"
      ]
     },
     "execution_count": 135,
     "metadata": {},
     "output_type": "execute_result"
    }
   ],
   "source": [
    "categorical['author']"
   ]
  },
  {
   "cell_type": "markdown",
   "id": "9b6b7af5",
   "metadata": {},
   "source": [
    "Reducing number of authors by grouping them into 'Top 1000', 'Top 1001-10000' and 'General Authors' according to the average 'rating' for authors that have published more than 1 book (there are a lot of authors with just 1 book published and a 5 rating)."
   ]
  },
  {
   "cell_type": "code",
   "execution_count": 136,
   "id": "ee01ef31",
   "metadata": {},
   "outputs": [
    {
     "data": {
      "text/plain": [
       "1000"
      ]
     },
     "metadata": {},
     "output_type": "display_data"
    },
    {
     "data": {
      "text/html": [
       "<div>\n",
       "<style scoped>\n",
       "    .dataframe tbody tr th:only-of-type {\n",
       "        vertical-align: middle;\n",
       "    }\n",
       "\n",
       "    .dataframe tbody tr th {\n",
       "        vertical-align: top;\n",
       "    }\n",
       "\n",
       "    .dataframe thead th {\n",
       "        text-align: right;\n",
       "    }\n",
       "</style>\n",
       "<table border=\"1\" class=\"dataframe\">\n",
       "  <thead>\n",
       "    <tr style=\"text-align: right;\">\n",
       "      <th></th>\n",
       "      <th>author</th>\n",
       "      <th>rating</th>\n",
       "    </tr>\n",
       "  </thead>\n",
       "  <tbody>\n",
       "    <tr>\n",
       "      <th>0</th>\n",
       "      <td>James Goodman</td>\n",
       "      <td>5.00</td>\n",
       "    </tr>\n",
       "    <tr>\n",
       "      <th>1</th>\n",
       "      <td>Doug \"Hollywood\" Davis</td>\n",
       "      <td>5.00</td>\n",
       "    </tr>\n",
       "    <tr>\n",
       "      <th>2</th>\n",
       "      <td>Natasha Lukin</td>\n",
       "      <td>5.00</td>\n",
       "    </tr>\n",
       "    <tr>\n",
       "      <th>3</th>\n",
       "      <td>Rita Pam Tarachi</td>\n",
       "      <td>5.00</td>\n",
       "    </tr>\n",
       "    <tr>\n",
       "      <th>4</th>\n",
       "      <td>Granthana Sinha</td>\n",
       "      <td>5.00</td>\n",
       "    </tr>\n",
       "    <tr>\n",
       "      <th>5</th>\n",
       "      <td>Nadine May</td>\n",
       "      <td>5.00</td>\n",
       "    </tr>\n",
       "    <tr>\n",
       "      <th>6</th>\n",
       "      <td>Bernard Cenney</td>\n",
       "      <td>5.00</td>\n",
       "    </tr>\n",
       "    <tr>\n",
       "      <th>7</th>\n",
       "      <td>Luke A.M. Brown</td>\n",
       "      <td>5.00</td>\n",
       "    </tr>\n",
       "    <tr>\n",
       "      <th>8</th>\n",
       "      <td>Susan Davis</td>\n",
       "      <td>5.00</td>\n",
       "    </tr>\n",
       "    <tr>\n",
       "      <th>9</th>\n",
       "      <td>Rodolfo Martin Vitangcol</td>\n",
       "      <td>5.00</td>\n",
       "    </tr>\n",
       "    <tr>\n",
       "      <th>10</th>\n",
       "      <td>Steve Jones Snr</td>\n",
       "      <td>5.00</td>\n",
       "    </tr>\n",
       "    <tr>\n",
       "      <th>11</th>\n",
       "      <td>Carol Denise Mitchell</td>\n",
       "      <td>5.00</td>\n",
       "    </tr>\n",
       "    <tr>\n",
       "      <th>12</th>\n",
       "      <td>Crystal L. Du Bois</td>\n",
       "      <td>5.00</td>\n",
       "    </tr>\n",
       "    <tr>\n",
       "      <th>13</th>\n",
       "      <td>Cristina G.</td>\n",
       "      <td>5.00</td>\n",
       "    </tr>\n",
       "    <tr>\n",
       "      <th>14</th>\n",
       "      <td>Creative Success Coach</td>\n",
       "      <td>5.00</td>\n",
       "    </tr>\n",
       "    <tr>\n",
       "      <th>15</th>\n",
       "      <td>Cat Ellington</td>\n",
       "      <td>5.00</td>\n",
       "    </tr>\n",
       "    <tr>\n",
       "      <th>16</th>\n",
       "      <td>Melissa Webb</td>\n",
       "      <td>5.00</td>\n",
       "    </tr>\n",
       "    <tr>\n",
       "      <th>17</th>\n",
       "      <td>Silvana G. Sánchez</td>\n",
       "      <td>5.00</td>\n",
       "    </tr>\n",
       "    <tr>\n",
       "      <th>18</th>\n",
       "      <td>Martine Jardin</td>\n",
       "      <td>5.00</td>\n",
       "    </tr>\n",
       "    <tr>\n",
       "      <th>19</th>\n",
       "      <td>Lisa C. Miller</td>\n",
       "      <td>5.00</td>\n",
       "    </tr>\n",
       "    <tr>\n",
       "      <th>20</th>\n",
       "      <td>Jerrye Woods</td>\n",
       "      <td>5.00</td>\n",
       "    </tr>\n",
       "    <tr>\n",
       "      <th>21</th>\n",
       "      <td>Lashone Vs Shaneek</td>\n",
       "      <td>5.00</td>\n",
       "    </tr>\n",
       "    <tr>\n",
       "      <th>22</th>\n",
       "      <td>Garry Bonsall</td>\n",
       "      <td>5.00</td>\n",
       "    </tr>\n",
       "    <tr>\n",
       "      <th>23</th>\n",
       "      <td>Violet Plum</td>\n",
       "      <td>5.00</td>\n",
       "    </tr>\n",
       "    <tr>\n",
       "      <th>24</th>\n",
       "      <td>Alice Batchelor Hambright</td>\n",
       "      <td>5.00</td>\n",
       "    </tr>\n",
       "    <tr>\n",
       "      <th>25</th>\n",
       "      <td>Vidya Gargote</td>\n",
       "      <td>5.00</td>\n",
       "    </tr>\n",
       "    <tr>\n",
       "      <th>26</th>\n",
       "      <td>Ginger Baum</td>\n",
       "      <td>4.97</td>\n",
       "    </tr>\n",
       "    <tr>\n",
       "      <th>27</th>\n",
       "      <td>Sharon Storm</td>\n",
       "      <td>4.96</td>\n",
       "    </tr>\n",
       "    <tr>\n",
       "      <th>28</th>\n",
       "      <td>Anişoara Laura Musteţiu</td>\n",
       "      <td>4.96</td>\n",
       "    </tr>\n",
       "    <tr>\n",
       "      <th>29</th>\n",
       "      <td>Krystyna Fitzgerald-Morris</td>\n",
       "      <td>4.95</td>\n",
       "    </tr>\n",
       "  </tbody>\n",
       "</table>\n",
       "</div>"
      ],
      "text/plain": [
       "                        author  rating\n",
       "0                James Goodman    5.00\n",
       "1       Doug \"Hollywood\" Davis    5.00\n",
       "2                Natasha Lukin    5.00\n",
       "3             Rita Pam Tarachi    5.00\n",
       "4              Granthana Sinha    5.00\n",
       "5                   Nadine May    5.00\n",
       "6               Bernard Cenney    5.00\n",
       "7              Luke A.M. Brown    5.00\n",
       "8                  Susan Davis    5.00\n",
       "9     Rodolfo Martin Vitangcol    5.00\n",
       "10             Steve Jones Snr    5.00\n",
       "11       Carol Denise Mitchell    5.00\n",
       "12          Crystal L. Du Bois    5.00\n",
       "13                 Cristina G.    5.00\n",
       "14      Creative Success Coach    5.00\n",
       "15               Cat Ellington    5.00\n",
       "16                Melissa Webb    5.00\n",
       "17          Silvana G. Sánchez    5.00\n",
       "18              Martine Jardin    5.00\n",
       "19              Lisa C. Miller    5.00\n",
       "20                Jerrye Woods    5.00\n",
       "21          Lashone Vs Shaneek    5.00\n",
       "22               Garry Bonsall    5.00\n",
       "23                 Violet Plum    5.00\n",
       "24   Alice Batchelor Hambright    5.00\n",
       "25               Vidya Gargote    5.00\n",
       "26                 Ginger Baum    4.97\n",
       "27                Sharon Storm    4.96\n",
       "28     Anişoara Laura Musteţiu    4.96\n",
       "29  Krystyna Fitzgerald-Morris    4.95"
      ]
     },
     "execution_count": 136,
     "metadata": {},
     "output_type": "execute_result"
    }
   ],
   "source": [
    "# Reducing number of unique authors: TOP 1000 (average rating for authors with >1 book published)\n",
    "\n",
    "# Count the number of books for each author\n",
    "author_counts = gr_data['author'].value_counts()\n",
    "\n",
    "# Filter the resulting series to only include authors with a count greater than 1\n",
    "filtered_authors = author_counts[author_counts > 1].index\n",
    "\n",
    "# Filter the original dataframe to only include titles with authors in the filtered series\n",
    "filtered_gr_data = gr_data[gr_data['author'].isin(filtered_authors)]\n",
    "\n",
    "# Group by author and calculate the mean rating for each author\n",
    "author_avg_rating = filtered_gr_data.groupby('author')['rating'].mean()\n",
    "\n",
    "# Sort the resulting series in descending order based on the average rating and select the top 100 authors\n",
    "top_1000_most_rated_authors = author_avg_rating.sort_values(ascending=False).head(1000)\n",
    "\n",
    "# Convert the resulting series to a dataframe and reset the index\n",
    "top_1000_most_rated_authors_df = top_1000_most_rated_authors.to_frame().reset_index()\n",
    "\n",
    "display(len(top_1000_most_rated_authors_df))\n",
    "\n",
    "top_1000_most_rated_authors_df.head(30)"
   ]
  },
  {
   "cell_type": "code",
   "execution_count": 137,
   "id": "09d7272e",
   "metadata": {},
   "outputs": [
    {
     "data": {
      "text/plain": [
       "6180"
      ]
     },
     "metadata": {},
     "output_type": "display_data"
    },
    {
     "data": {
      "text/html": [
       "<div>\n",
       "<style scoped>\n",
       "    .dataframe tbody tr th:only-of-type {\n",
       "        vertical-align: middle;\n",
       "    }\n",
       "\n",
       "    .dataframe tbody tr th {\n",
       "        vertical-align: top;\n",
       "    }\n",
       "\n",
       "    .dataframe thead th {\n",
       "        text-align: right;\n",
       "    }\n",
       "</style>\n",
       "<table border=\"1\" class=\"dataframe\">\n",
       "  <thead>\n",
       "    <tr style=\"text-align: right;\">\n",
       "      <th></th>\n",
       "      <th>author</th>\n",
       "      <th>rating</th>\n",
       "    </tr>\n",
       "  </thead>\n",
       "  <tbody>\n",
       "    <tr>\n",
       "      <th>0</th>\n",
       "      <td>Adrienne Rich</td>\n",
       "      <td>4.276667</td>\n",
       "    </tr>\n",
       "    <tr>\n",
       "      <th>1</th>\n",
       "      <td>E.F. Benson</td>\n",
       "      <td>4.276667</td>\n",
       "    </tr>\n",
       "    <tr>\n",
       "      <th>2</th>\n",
       "      <td>Lexie Xu</td>\n",
       "      <td>4.276667</td>\n",
       "    </tr>\n",
       "    <tr>\n",
       "      <th>3</th>\n",
       "      <td>Anna Zaires</td>\n",
       "      <td>4.276667</td>\n",
       "    </tr>\n",
       "    <tr>\n",
       "      <th>4</th>\n",
       "      <td>Mandi Beck</td>\n",
       "      <td>4.276667</td>\n",
       "    </tr>\n",
       "    <tr>\n",
       "      <th>5</th>\n",
       "      <td>Arnold Lobel</td>\n",
       "      <td>4.276667</td>\n",
       "    </tr>\n",
       "    <tr>\n",
       "      <th>6</th>\n",
       "      <td>Lois Walfrid Johnson</td>\n",
       "      <td>4.276667</td>\n",
       "    </tr>\n",
       "    <tr>\n",
       "      <th>7</th>\n",
       "      <td>Amy Clipston</td>\n",
       "      <td>4.276667</td>\n",
       "    </tr>\n",
       "    <tr>\n",
       "      <th>8</th>\n",
       "      <td>J.M. Darhower</td>\n",
       "      <td>4.276000</td>\n",
       "    </tr>\n",
       "    <tr>\n",
       "      <th>9</th>\n",
       "      <td>Mike Mignola</td>\n",
       "      <td>4.276000</td>\n",
       "    </tr>\n",
       "    <tr>\n",
       "      <th>10</th>\n",
       "      <td>Miasha</td>\n",
       "      <td>4.275714</td>\n",
       "    </tr>\n",
       "    <tr>\n",
       "      <th>11</th>\n",
       "      <td>Jon J. Muth</td>\n",
       "      <td>4.275000</td>\n",
       "    </tr>\n",
       "    <tr>\n",
       "      <th>12</th>\n",
       "      <td>V.D. Savarkar</td>\n",
       "      <td>4.275000</td>\n",
       "    </tr>\n",
       "    <tr>\n",
       "      <th>13</th>\n",
       "      <td>E.J. Mellow</td>\n",
       "      <td>4.275000</td>\n",
       "    </tr>\n",
       "    <tr>\n",
       "      <th>14</th>\n",
       "      <td>Juan Díaz Canales</td>\n",
       "      <td>4.275000</td>\n",
       "    </tr>\n",
       "    <tr>\n",
       "      <th>15</th>\n",
       "      <td>Wallace D. Wattles</td>\n",
       "      <td>4.275000</td>\n",
       "    </tr>\n",
       "    <tr>\n",
       "      <th>16</th>\n",
       "      <td>Shinobu Kaitani</td>\n",
       "      <td>4.275000</td>\n",
       "    </tr>\n",
       "    <tr>\n",
       "      <th>17</th>\n",
       "      <td>Bisco Hatori</td>\n",
       "      <td>4.275000</td>\n",
       "    </tr>\n",
       "    <tr>\n",
       "      <th>18</th>\n",
       "      <td>Mahmoud Darwish</td>\n",
       "      <td>4.275000</td>\n",
       "    </tr>\n",
       "    <tr>\n",
       "      <th>19</th>\n",
       "      <td>Elena Garro</td>\n",
       "      <td>4.275000</td>\n",
       "    </tr>\n",
       "    <tr>\n",
       "      <th>20</th>\n",
       "      <td>Matthew Van Fleet</td>\n",
       "      <td>4.275000</td>\n",
       "    </tr>\n",
       "    <tr>\n",
       "      <th>21</th>\n",
       "      <td>Dale Cramer</td>\n",
       "      <td>4.275000</td>\n",
       "    </tr>\n",
       "    <tr>\n",
       "      <th>22</th>\n",
       "      <td>Gilbert Hernández</td>\n",
       "      <td>4.275000</td>\n",
       "    </tr>\n",
       "    <tr>\n",
       "      <th>23</th>\n",
       "      <td>Krishna-Dwaipayana Vyasa</td>\n",
       "      <td>4.275000</td>\n",
       "    </tr>\n",
       "    <tr>\n",
       "      <th>24</th>\n",
       "      <td>Luis Buñuel</td>\n",
       "      <td>4.275000</td>\n",
       "    </tr>\n",
       "    <tr>\n",
       "      <th>25</th>\n",
       "      <td>Kyle Idleman</td>\n",
       "      <td>4.275000</td>\n",
       "    </tr>\n",
       "    <tr>\n",
       "      <th>26</th>\n",
       "      <td>Eric Wilson</td>\n",
       "      <td>4.275000</td>\n",
       "    </tr>\n",
       "    <tr>\n",
       "      <th>27</th>\n",
       "      <td>Michelle Sutton</td>\n",
       "      <td>4.275000</td>\n",
       "    </tr>\n",
       "    <tr>\n",
       "      <th>28</th>\n",
       "      <td>Angelina J. Steffort</td>\n",
       "      <td>4.274000</td>\n",
       "    </tr>\n",
       "    <tr>\n",
       "      <th>29</th>\n",
       "      <td>Jillian Dodd</td>\n",
       "      <td>4.274000</td>\n",
       "    </tr>\n",
       "  </tbody>\n",
       "</table>\n",
       "</div>"
      ],
      "text/plain": [
       "                      author    rating\n",
       "0              Adrienne Rich  4.276667\n",
       "1                E.F. Benson  4.276667\n",
       "2                   Lexie Xu  4.276667\n",
       "3                Anna Zaires  4.276667\n",
       "4                 Mandi Beck  4.276667\n",
       "5               Arnold Lobel  4.276667\n",
       "6       Lois Walfrid Johnson  4.276667\n",
       "7               Amy Clipston  4.276667\n",
       "8              J.M. Darhower  4.276000\n",
       "9               Mike Mignola  4.276000\n",
       "10                    Miasha  4.275714\n",
       "11               Jon J. Muth  4.275000\n",
       "12             V.D. Savarkar  4.275000\n",
       "13               E.J. Mellow  4.275000\n",
       "14         Juan Díaz Canales  4.275000\n",
       "15        Wallace D. Wattles  4.275000\n",
       "16           Shinobu Kaitani  4.275000\n",
       "17              Bisco Hatori  4.275000\n",
       "18           Mahmoud Darwish  4.275000\n",
       "19               Elena Garro  4.275000\n",
       "20         Matthew Van Fleet  4.275000\n",
       "21               Dale Cramer  4.275000\n",
       "22         Gilbert Hernández  4.275000\n",
       "23  Krishna-Dwaipayana Vyasa  4.275000\n",
       "24               Luis Buñuel  4.275000\n",
       "25              Kyle Idleman  4.275000\n",
       "26               Eric Wilson  4.275000\n",
       "27           Michelle Sutton  4.275000\n",
       "28      Angelina J. Steffort  4.274000\n",
       "29              Jillian Dodd  4.274000"
      ]
     },
     "execution_count": 137,
     "metadata": {},
     "output_type": "execute_result"
    }
   ],
   "source": [
    "# Reducing number of unique authors: TOP 1001-10.000\n",
    "\n",
    "# Count the number of books for each author\n",
    "author_counts = gr_data['author'].value_counts()\n",
    "\n",
    "# Filter the resulting series to only include authors with a count greater than 1\n",
    "filtered_authors = author_counts[author_counts > 1].index\n",
    "\n",
    "# Filter the original dataframe to only include titles with authors in the filtered series\n",
    "filtered_gr_data = gr_data[gr_data['author'].isin(filtered_authors)]\n",
    "\n",
    "# Group by author and calculate the mean rating for each author\n",
    "author_avg_rating = filtered_gr_data.groupby('author')['rating'].mean()\n",
    "\n",
    "# Sort the resulting series in descending order based on the average rating and select the top 1001 to 10000 authors\n",
    "top_1001_to_10000_most_rated_authors = author_avg_rating.sort_values(ascending=False).iloc[1000:10000]\n",
    "\n",
    "# Convert the resulting series to a dataframe and reset the index\n",
    "top_1001_to_10000_most_rated_authors_df = top_1001_to_10000_most_rated_authors.to_frame().reset_index()\n",
    "\n",
    "display(len(top_1001_to_10000_most_rated_authors_df))\n",
    "\n",
    "top_1001_to_10000_most_rated_authors_df.head(30)\n"
   ]
  },
  {
   "cell_type": "code",
   "execution_count": 138,
   "id": "33ef7ef7",
   "metadata": {},
   "outputs": [
    {
     "data": {
      "text/plain": [
       "14540"
      ]
     },
     "metadata": {},
     "output_type": "display_data"
    },
    {
     "data": {
      "text/html": [
       "<div>\n",
       "<style scoped>\n",
       "    .dataframe tbody tr th:only-of-type {\n",
       "        vertical-align: middle;\n",
       "    }\n",
       "\n",
       "    .dataframe tbody tr th {\n",
       "        vertical-align: top;\n",
       "    }\n",
       "\n",
       "    .dataframe thead th {\n",
       "        text-align: right;\n",
       "    }\n",
       "</style>\n",
       "<table border=\"1\" class=\"dataframe\">\n",
       "  <thead>\n",
       "    <tr style=\"text-align: right;\">\n",
       "      <th></th>\n",
       "      <th>author</th>\n",
       "      <th>rating</th>\n",
       "    </tr>\n",
       "  </thead>\n",
       "  <tbody>\n",
       "    <tr>\n",
       "      <th>0</th>\n",
       "      <td>50 Cent</td>\n",
       "      <td>4.15</td>\n",
       "    </tr>\n",
       "    <tr>\n",
       "      <th>1</th>\n",
       "      <td>A. Bates</td>\n",
       "      <td>3.54</td>\n",
       "    </tr>\n",
       "    <tr>\n",
       "      <th>2</th>\n",
       "      <td>A. Cort Sinnes</td>\n",
       "      <td>4.50</td>\n",
       "    </tr>\n",
       "    <tr>\n",
       "      <th>3</th>\n",
       "      <td>A. Helwa</td>\n",
       "      <td>4.63</td>\n",
       "    </tr>\n",
       "    <tr>\n",
       "      <th>4</th>\n",
       "      <td>A. Merritt</td>\n",
       "      <td>3.33</td>\n",
       "    </tr>\n",
       "    <tr>\n",
       "      <th>5</th>\n",
       "      <td>A. Roger Ekirch</td>\n",
       "      <td>3.68</td>\n",
       "    </tr>\n",
       "    <tr>\n",
       "      <th>6</th>\n",
       "      <td>A. Scott Berg</td>\n",
       "      <td>4.00</td>\n",
       "    </tr>\n",
       "    <tr>\n",
       "      <th>7</th>\n",
       "      <td>A. Teeuw</td>\n",
       "      <td>4.06</td>\n",
       "    </tr>\n",
       "    <tr>\n",
       "      <th>8</th>\n",
       "      <td>A. Ubaidillah Alias</td>\n",
       "      <td>3.94</td>\n",
       "    </tr>\n",
       "    <tr>\n",
       "      <th>9</th>\n",
       "      <td>A. White</td>\n",
       "      <td>4.93</td>\n",
       "    </tr>\n",
       "    <tr>\n",
       "      <th>10</th>\n",
       "      <td>A.C. Bhaktivedanta Swami Prabhupāda</td>\n",
       "      <td>4.54</td>\n",
       "    </tr>\n",
       "    <tr>\n",
       "      <th>11</th>\n",
       "      <td>A.C. Weisbecker</td>\n",
       "      <td>3.88</td>\n",
       "    </tr>\n",
       "    <tr>\n",
       "      <th>12</th>\n",
       "      <td>A.C.H. Smith</td>\n",
       "      <td>4.20</td>\n",
       "    </tr>\n",
       "    <tr>\n",
       "      <th>13</th>\n",
       "      <td>A.D. Bloom</td>\n",
       "      <td>3.87</td>\n",
       "    </tr>\n",
       "    <tr>\n",
       "      <th>14</th>\n",
       "      <td>A.D. Truax</td>\n",
       "      <td>4.02</td>\n",
       "    </tr>\n",
       "    <tr>\n",
       "      <th>15</th>\n",
       "      <td>A.D.T. McLellan</td>\n",
       "      <td>4.51</td>\n",
       "    </tr>\n",
       "    <tr>\n",
       "      <th>16</th>\n",
       "      <td>A.F. Harrold</td>\n",
       "      <td>4.03</td>\n",
       "    </tr>\n",
       "    <tr>\n",
       "      <th>17</th>\n",
       "      <td>A.F. Knott</td>\n",
       "      <td>4.50</td>\n",
       "    </tr>\n",
       "    <tr>\n",
       "      <th>18</th>\n",
       "      <td>A.G. Cairns-Smith</td>\n",
       "      <td>4.02</td>\n",
       "    </tr>\n",
       "    <tr>\n",
       "      <th>19</th>\n",
       "      <td>A.G. Mogan</td>\n",
       "      <td>4.25</td>\n",
       "    </tr>\n",
       "    <tr>\n",
       "      <th>20</th>\n",
       "      <td>A.G. Roemmers</td>\n",
       "      <td>3.38</td>\n",
       "    </tr>\n",
       "    <tr>\n",
       "      <th>21</th>\n",
       "      <td>A.H. Anquetil-Duperron</td>\n",
       "      <td>5.00</td>\n",
       "    </tr>\n",
       "    <tr>\n",
       "      <th>22</th>\n",
       "      <td>A.J. Betts</td>\n",
       "      <td>3.68</td>\n",
       "    </tr>\n",
       "    <tr>\n",
       "      <th>23</th>\n",
       "      <td>A.J. Finn</td>\n",
       "      <td>3.94</td>\n",
       "    </tr>\n",
       "    <tr>\n",
       "      <th>24</th>\n",
       "      <td>A.J. Forrest</td>\n",
       "      <td>4.00</td>\n",
       "    </tr>\n",
       "    <tr>\n",
       "      <th>25</th>\n",
       "      <td>A.J. Hackwith</td>\n",
       "      <td>3.85</td>\n",
       "    </tr>\n",
       "    <tr>\n",
       "      <th>26</th>\n",
       "      <td>A.J. Jacobs</td>\n",
       "      <td>3.75</td>\n",
       "    </tr>\n",
       "    <tr>\n",
       "      <th>27</th>\n",
       "      <td>A.J. Kazinski</td>\n",
       "      <td>3.53</td>\n",
       "    </tr>\n",
       "    <tr>\n",
       "      <th>28</th>\n",
       "      <td>A.J. Mackinnon</td>\n",
       "      <td>4.26</td>\n",
       "    </tr>\n",
       "    <tr>\n",
       "      <th>29</th>\n",
       "      <td>A.J. Mendez Brooks</td>\n",
       "      <td>4.49</td>\n",
       "    </tr>\n",
       "  </tbody>\n",
       "</table>\n",
       "</div>"
      ],
      "text/plain": [
       "                                 author  rating\n",
       "0                               50 Cent    4.15\n",
       "1                              A. Bates    3.54\n",
       "2                        A. Cort Sinnes    4.50\n",
       "3                              A. Helwa    4.63\n",
       "4                            A. Merritt    3.33\n",
       "5                       A. Roger Ekirch    3.68\n",
       "6                         A. Scott Berg    4.00\n",
       "7                              A. Teeuw    4.06\n",
       "8                   A. Ubaidillah Alias    3.94\n",
       "9                              A. White    4.93\n",
       "10  A.C. Bhaktivedanta Swami Prabhupāda    4.54\n",
       "11                      A.C. Weisbecker    3.88\n",
       "12                         A.C.H. Smith    4.20\n",
       "13                           A.D. Bloom    3.87\n",
       "14                           A.D. Truax    4.02\n",
       "15                      A.D.T. McLellan    4.51\n",
       "16                         A.F. Harrold    4.03\n",
       "17                           A.F. Knott    4.50\n",
       "18                    A.G. Cairns-Smith    4.02\n",
       "19                           A.G. Mogan    4.25\n",
       "20                        A.G. Roemmers    3.38\n",
       "21               A.H. Anquetil-Duperron    5.00\n",
       "22                           A.J. Betts    3.68\n",
       "23                            A.J. Finn    3.94\n",
       "24                         A.J. Forrest    4.00\n",
       "25                        A.J. Hackwith    3.85\n",
       "26                          A.J. Jacobs    3.75\n",
       "27                        A.J. Kazinski    3.53\n",
       "28                       A.J. Mackinnon    4.26\n",
       "29                   A.J. Mendez Brooks    4.49"
      ]
     },
     "execution_count": 138,
     "metadata": {},
     "output_type": "execute_result"
    }
   ],
   "source": [
    "# Other authors\n",
    "\n",
    "# Count the number of books for each author\n",
    "author_counts = gr_data['author'].value_counts()\n",
    "\n",
    "# Filter the resulting series to only include authors with a count equal to 1\n",
    "single_authors = author_counts[author_counts == 1].index\n",
    "\n",
    "# Filter the original dataframe to only include titles with authors not in the top rated authors lists or with only 1 book\n",
    "general_authors_data = gr_data[~gr_data['author'].isin(top_1000_most_rated_authors.index) & ~gr_data['author'].isin(top_1000_most_rated_authors.index) & gr_data['author'].isin(single_authors)]\n",
    "#general_authors_data = gr_data[~gr_data['author'].isin(top_1000_most_rated_authors.index) & ~gr_data['author'].isin(top_1001_to_10000_most_rated_authors.index) & ~gr_data['author'].isin(author_counts[author_counts == 1].index)]\n",
    "\n",
    "# Group by author and calculate the mean rating for each author\n",
    "general_authors_avg_rating = general_authors_data.groupby('author')['rating'].mean()\n",
    "\n",
    "# Convert the resulting series to a dataframe and reset the index\n",
    "general_authors_avg_rating_df = general_authors_avg_rating.to_frame().reset_index()\n",
    "\n",
    "display(len(general_authors_avg_rating_df))\n",
    "\n",
    "general_authors_avg_rating_df.head(30)\n"
   ]
  },
  {
   "cell_type": "code",
   "execution_count": 139,
   "id": "844c136d",
   "metadata": {},
   "outputs": [
    {
     "name": "stdout",
     "output_type": "stream",
     "text": [
      "The number of unique authors in the three new dataframes is equal to the number of unique authors in the original gr_data dataframe.\n"
     ]
    }
   ],
   "source": [
    "# Check result\n",
    "\n",
    "# Count the number of unique authors in the original dataframe\n",
    "num_unique_authors = len(gr_data['author'].unique())\n",
    "\n",
    "# Count the number of unique authors in new authors dataframes\n",
    "num_top_1000_authors = len(top_1000_most_rated_authors_df)\n",
    "num_top_1001_to_10000_authors = len(top_1001_to_10000_most_rated_authors_df)\n",
    "num_general_authors = len(general_authors_avg_rating_df)\n",
    "\n",
    "# Check if the sum of the number of new dataframes is equal to unique authors in the original dataframe\n",
    "if num_top_1000_authors + num_top_1001_to_10000_authors + num_general_authors == num_unique_authors:\n",
    "    print(\"The number of unique authors in the three new dataframes is equal to the number of unique authors in the original gr_data dataframe.\")\n",
    "else:\n",
    "    print(\"The number of unique authors in the three new dataframes is not equal to the number of unique authors in the original gr_data dataframe.\")"
   ]
  },
  {
   "cell_type": "code",
   "execution_count": 140,
   "id": "ec6797c5",
   "metadata": {},
   "outputs": [
    {
     "data": {
      "text/html": [
       "<div>\n",
       "<style scoped>\n",
       "    .dataframe tbody tr th:only-of-type {\n",
       "        vertical-align: middle;\n",
       "    }\n",
       "\n",
       "    .dataframe tbody tr th {\n",
       "        vertical-align: top;\n",
       "    }\n",
       "\n",
       "    .dataframe thead th {\n",
       "        text-align: right;\n",
       "    }\n",
       "</style>\n",
       "<table border=\"1\" class=\"dataframe\">\n",
       "  <thead>\n",
       "    <tr style=\"text-align: right;\">\n",
       "      <th></th>\n",
       "      <th>title</th>\n",
       "      <th>series</th>\n",
       "      <th>author</th>\n",
       "      <th>language</th>\n",
       "      <th>pages</th>\n",
       "      <th>book_format</th>\n",
       "      <th>publisher</th>\n",
       "    </tr>\n",
       "  </thead>\n",
       "  <tbody>\n",
       "    <tr>\n",
       "      <th>0</th>\n",
       "      <td>The Hunger Games</td>\n",
       "      <td>The Hunger Games</td>\n",
       "      <td>top_1001_to_10000_most_rated_authors</td>\n",
       "      <td>English</td>\n",
       "      <td>200-300</td>\n",
       "      <td>Hardcover</td>\n",
       "      <td>Top Publishers</td>\n",
       "    </tr>\n",
       "    <tr>\n",
       "      <th>1</th>\n",
       "      <td>Harry Potter and the Order of the Phoenix</td>\n",
       "      <td>Harry Potter</td>\n",
       "      <td>top_1000_most_rated_authors</td>\n",
       "      <td>English</td>\n",
       "      <td>700-800</td>\n",
       "      <td>Paperback</td>\n",
       "      <td>Top Publishers</td>\n",
       "    </tr>\n",
       "    <tr>\n",
       "      <th>2</th>\n",
       "      <td>To Kill a Mockingbird</td>\n",
       "      <td>To Kill a Mockingbird</td>\n",
       "      <td>top_1001_to_10000_most_rated_authors</td>\n",
       "      <td>English</td>\n",
       "      <td>200-300</td>\n",
       "      <td>Paperback</td>\n",
       "      <td>Top Publishers</td>\n",
       "    </tr>\n",
       "    <tr>\n",
       "      <th>3</th>\n",
       "      <td>Pride and Prejudice</td>\n",
       "      <td>Single Book</td>\n",
       "      <td>top_1001_to_10000_most_rated_authors</td>\n",
       "      <td>English</td>\n",
       "      <td>100-200</td>\n",
       "      <td>Paperback</td>\n",
       "      <td>Top Publishers</td>\n",
       "    </tr>\n",
       "    <tr>\n",
       "      <th>4</th>\n",
       "      <td>Twilight</td>\n",
       "      <td>The Twilight Saga</td>\n",
       "      <td>top_1001_to_10000_most_rated_authors</td>\n",
       "      <td>English</td>\n",
       "      <td>400-500</td>\n",
       "      <td>Paperback</td>\n",
       "      <td>Top Publishers</td>\n",
       "    </tr>\n",
       "  </tbody>\n",
       "</table>\n",
       "</div>"
      ],
      "text/plain": [
       "                                       title                 series  \\\n",
       "0                           The Hunger Games       The Hunger Games   \n",
       "1  Harry Potter and the Order of the Phoenix           Harry Potter   \n",
       "2                      To Kill a Mockingbird  To Kill a Mockingbird   \n",
       "3                        Pride and Prejudice            Single Book   \n",
       "4                                   Twilight      The Twilight Saga   \n",
       "\n",
       "                                 author language    pages book_format  \\\n",
       "0  top_1001_to_10000_most_rated_authors  English  200-300   Hardcover   \n",
       "1           top_1000_most_rated_authors  English  700-800   Paperback   \n",
       "2  top_1001_to_10000_most_rated_authors  English  200-300   Paperback   \n",
       "3  top_1001_to_10000_most_rated_authors  English  100-200   Paperback   \n",
       "4  top_1001_to_10000_most_rated_authors  English  400-500   Paperback   \n",
       "\n",
       "        publisher  \n",
       "0  Top Publishers  \n",
       "1  Top Publishers  \n",
       "2  Top Publishers  \n",
       "3  Top Publishers  \n",
       "4  Top Publishers  "
      ]
     },
     "execution_count": 140,
     "metadata": {},
     "output_type": "execute_result"
    }
   ],
   "source": [
    "# Replace the author values in categorical['author'] with the appropriate category\n",
    "categorical['author'] = np.where(categorical['author'].isin(top_1000_most_rated_authors_df['author']), 'top_1000_most_rated_authors',\n",
    "                    np.where(categorical['author'].isin(top_1001_to_10000_most_rated_authors_df['author']), 'top_1001_to_10000_most_rated_authors',\n",
    "                    np.where(categorical['author'].isin(general_authors_avg_rating_df['author']), 'general_authors',\n",
    "                    categorical['author'])))\n",
    "\n",
    "categorical.head(5)"
   ]
  },
  {
   "cell_type": "code",
   "execution_count": 141,
   "id": "737ab798",
   "metadata": {},
   "outputs": [
    {
     "data": {
      "text/plain": [
       "array(['top_1001_to_10000_most_rated_authors',\n",
       "       'top_1000_most_rated_authors', 'general_authors'], dtype=object)"
      ]
     },
     "execution_count": 141,
     "metadata": {},
     "output_type": "execute_result"
    }
   ],
   "source": [
    "categorical['author'].unique()"
   ]
  },
  {
   "cell_type": "markdown",
   "id": "d045d8ae",
   "metadata": {},
   "source": [
    "Series"
   ]
  },
  {
   "cell_type": "code",
   "execution_count": 142,
   "id": "afde646f",
   "metadata": {},
   "outputs": [
    {
     "data": {
      "text/plain": [
       "4405"
      ]
     },
     "execution_count": 142,
     "metadata": {},
     "output_type": "execute_result"
    }
   ],
   "source": [
    "categorical['series'].nunique()"
   ]
  },
  {
   "cell_type": "markdown",
   "id": "41632580",
   "metadata": {},
   "source": [
    "Same idea as before, this time grouping series into 'Top 500 rated series' and 'Other Series' and keeping 'Single Books' for those books not included in any literary saga. And again, criteria to bin them is according to the average 'rating' for each series."
   ]
  },
  {
   "cell_type": "code",
   "execution_count": 143,
   "id": "eb1e9752",
   "metadata": {},
   "outputs": [],
   "source": [
    "# Filter the original dataframe to only include titles that are not 'Single Book'\n",
    "series_data = gr_data[gr_data['series'] != 'Single Book']\n",
    "\n",
    "# Group by series and calculate the mean rating for each series\n",
    "series_avg_rating = series_data.groupby('series')['rating'].mean()\n",
    "\n",
    "# Sort the resulting series in descending order based on the average rating and select the top 500 series\n",
    "top_500_most_rated_series = series_avg_rating.sort_values(ascending=False).head(500)\n",
    "\n",
    "# Filter the original dataframe to only include titles with series not in the top rated series lists or with empty series\n",
    "other_series_data = series_data[~series_data['series'].isin(top_500_most_rated_series.index) & (series_data['series'] != '')]\n",
    "\n",
    "# Group by series and calculate the mean rating for each series\n",
    "other_series_avg_rating = other_series_data.groupby('series')['rating'].mean()\n",
    "\n",
    "# Convert the resulting series to a dataframe and reset the index\n",
    "top_500_most_rated_series_df = top_500_most_rated_series.to_frame().reset_index()\n",
    "other_series_avg_rating_df = other_series_avg_rating.to_frame().reset_index()\n"
   ]
  },
  {
   "cell_type": "code",
   "execution_count": 144,
   "id": "26948f25",
   "metadata": {},
   "outputs": [],
   "source": [
    "# Replace series values in categorical['series'] with the appropriate category\n",
    "categorical['series'] = np.where(categorical['series'] == 'Single Book', 'Single Book',\n",
    "                    np.where(categorical['series'].isin(top_500_most_rated_series_df['series']), 'Top 500 rated series',\n",
    "                    np.where(categorical['series'].isin(other_series_avg_rating_df['series']), 'Other series',\n",
    "                    categorical['series'])))\n"
   ]
  },
  {
   "cell_type": "code",
   "execution_count": 145,
   "id": "899c7ba5",
   "metadata": {},
   "outputs": [
    {
     "data": {
      "text/plain": [
       "array(['Other series', 'Top 500 rated series', 'Single Book'],\n",
       "      dtype=object)"
      ]
     },
     "execution_count": 145,
     "metadata": {},
     "output_type": "execute_result"
    }
   ],
   "source": [
    "categorical['series'].unique()"
   ]
  },
  {
   "cell_type": "markdown",
   "id": "e3d80d5c",
   "metadata": {},
   "source": [
    "Title"
   ]
  },
  {
   "cell_type": "code",
   "execution_count": 146,
   "id": "80ee0928",
   "metadata": {},
   "outputs": [
    {
     "data": {
      "text/plain": [
       "46328"
      ]
     },
     "execution_count": 146,
     "metadata": {},
     "output_type": "execute_result"
    }
   ],
   "source": [
    "categorical['title'].nunique()"
   ]
  },
  {
   "cell_type": "markdown",
   "id": "e96e8741",
   "metadata": {},
   "source": [
    "- As there are a lot of unique authors, I have decided to drop that column"
   ]
  },
  {
   "cell_type": "code",
   "execution_count": 147,
   "id": "f3fdc064",
   "metadata": {},
   "outputs": [],
   "source": [
    "categorical = categorical.drop(['title'],axis=1)"
   ]
  },
  {
   "cell_type": "markdown",
   "id": "42e836d3",
   "metadata": {},
   "source": [
    "Language"
   ]
  },
  {
   "cell_type": "code",
   "execution_count": 148,
   "id": "7cd51f5a",
   "metadata": {},
   "outputs": [
    {
     "data": {
      "text/plain": [
       "English                                  43415\n",
       "Arabic                                     894\n",
       "Spanish                                    632\n",
       "French                                     562\n",
       "German                                     501\n",
       "                                         ...  \n",
       "Iranian (Other)                              1\n",
       "Aromanian; Arumanian; Macedo-Romanian        1\n",
       "gu                                           1\n",
       "Faroese                                      1\n",
       "Afrikaans                                    1\n",
       "Name: language, Length: 92, dtype: int64"
      ]
     },
     "execution_count": 148,
     "metadata": {},
     "output_type": "execute_result"
    }
   ],
   "source": [
    "categorical['language'].value_counts()"
   ]
  },
  {
   "cell_type": "code",
   "execution_count": 149,
   "id": "48147ed1",
   "metadata": {},
   "outputs": [
    {
     "data": {
      "text/plain": [
       "Index(['English', 'Arabic', 'Spanish', 'French', 'German'], dtype='object')"
      ]
     },
     "execution_count": 149,
     "metadata": {},
     "output_type": "execute_result"
    }
   ],
   "source": [
    "# Count the unique values in the 'language' column\n",
    "language_counts = categorical['language'].value_counts()\n",
    "\n",
    "# Top 5 most common languages\n",
    "top_languages = language_counts.index[:5]\n",
    "top_languages"
   ]
  },
  {
   "cell_type": "markdown",
   "id": "dd989b7d",
   "metadata": {},
   "source": [
    "All languages not included in top_languages are going to be grouped as 'Other languages'"
   ]
  },
  {
   "cell_type": "code",
   "execution_count": 150,
   "id": "308a7353",
   "metadata": {},
   "outputs": [],
   "source": [
    "# Replace all the other languages with 'Other languages'\n",
    "categorical.loc[~categorical['language'].isin(top_languages), 'language'] = 'Other languages'"
   ]
  },
  {
   "cell_type": "code",
   "execution_count": 151,
   "id": "b139ad55",
   "metadata": {},
   "outputs": [
    {
     "data": {
      "text/plain": [
       "array(['English', 'French', 'German', 'Other languages', 'Arabic',\n",
       "       'Spanish'], dtype=object)"
      ]
     },
     "execution_count": 151,
     "metadata": {},
     "output_type": "execute_result"
    }
   ],
   "source": [
    "categorical['language'].unique()"
   ]
  },
  {
   "cell_type": "code",
   "execution_count": 152,
   "id": "4bc3360c",
   "metadata": {},
   "outputs": [
    {
     "data": {
      "text/plain": [
       "6"
      ]
     },
     "execution_count": 152,
     "metadata": {},
     "output_type": "execute_result"
    }
   ],
   "source": [
    "categorical['language'].nunique()"
   ]
  },
  {
   "cell_type": "code",
   "execution_count": 153,
   "id": "8c8bdb21",
   "metadata": {},
   "outputs": [
    {
     "name": "stdout",
     "output_type": "stream",
     "text": [
      "Unique values for series: 3\n",
      "Unique values for author: 3\n",
      "Unique values for language: 6\n",
      "Unique values for pages: 12\n",
      "Unique values for book_format: 10\n",
      "Unique values for publisher: 4\n"
     ]
    }
   ],
   "source": [
    "# Unique values\n",
    "for col in categorical.columns:\n",
    "    print(f\"Unique values for {col}: {categorical[col].nunique()}\")"
   ]
  },
  {
   "cell_type": "markdown",
   "id": "8c34080c",
   "metadata": {},
   "source": [
    "#### Concatenate numerical and categorical processed data"
   ]
  },
  {
   "cell_type": "code",
   "execution_count": 154,
   "id": "a74073ef",
   "metadata": {},
   "outputs": [],
   "source": [
    "gr_data_for_modelling = pd.concat([categorical,numerical],axis=1)"
   ]
  },
  {
   "cell_type": "code",
   "execution_count": 155,
   "id": "94060b7d",
   "metadata": {
    "scrolled": true
   },
   "outputs": [
    {
     "data": {
      "text/html": [
       "<div>\n",
       "<style scoped>\n",
       "    .dataframe tbody tr th:only-of-type {\n",
       "        vertical-align: middle;\n",
       "    }\n",
       "\n",
       "    .dataframe tbody tr th {\n",
       "        vertical-align: top;\n",
       "    }\n",
       "\n",
       "    .dataframe thead th {\n",
       "        text-align: right;\n",
       "    }\n",
       "</style>\n",
       "<table border=\"1\" class=\"dataframe\">\n",
       "  <thead>\n",
       "    <tr style=\"text-align: right;\">\n",
       "      <th></th>\n",
       "      <th>series</th>\n",
       "      <th>author</th>\n",
       "      <th>language</th>\n",
       "      <th>pages</th>\n",
       "      <th>book_format</th>\n",
       "      <th>publisher</th>\n",
       "      <th>publish_year</th>\n",
       "      <th>first_publish_year</th>\n",
       "      <th>liked_perc</th>\n",
       "      <th>bbe_score</th>\n",
       "      <th>...</th>\n",
       "      <th>West Australian Young Readers' Book Award (WAYRBA) for Older Readers</th>\n",
       "      <th>West Australian Young Readers' Book Award (WAYRBA) for Younger Readers</th>\n",
       "      <th>William Allen White Children's Book Award</th>\n",
       "      <th>William C. Morris YA Debut Award Nominee</th>\n",
       "      <th>Women's Prize for Fiction Nominee</th>\n",
       "      <th>Women's Prize for Fiction Nominee for Longlist</th>\n",
       "      <th>World Fantasy Award Nominee for Best Novel</th>\n",
       "      <th>World Fantasy Award for Best Novel</th>\n",
       "      <th>Zilveren Griffel</th>\n",
       "      <th>الجائزة العالمية للرواية العربية (أي باف) / International Prize for Arabic Fiction (IPAF) Nominee</th>\n",
       "    </tr>\n",
       "  </thead>\n",
       "  <tbody>\n",
       "    <tr>\n",
       "      <th>0</th>\n",
       "      <td>Other series</td>\n",
       "      <td>top_1001_to_10000_most_rated_authors</td>\n",
       "      <td>English</td>\n",
       "      <td>200-300</td>\n",
       "      <td>Hardcover</td>\n",
       "      <td>Top Publishers</td>\n",
       "      <td>2008</td>\n",
       "      <td>2008</td>\n",
       "      <td>96.0</td>\n",
       "      <td>2993816.0</td>\n",
       "      <td>...</td>\n",
       "      <td>1</td>\n",
       "      <td>0</td>\n",
       "      <td>0</td>\n",
       "      <td>0</td>\n",
       "      <td>0</td>\n",
       "      <td>0</td>\n",
       "      <td>0</td>\n",
       "      <td>0</td>\n",
       "      <td>0</td>\n",
       "      <td>0</td>\n",
       "    </tr>\n",
       "    <tr>\n",
       "      <th>1</th>\n",
       "      <td>Top 500 rated series</td>\n",
       "      <td>top_1000_most_rated_authors</td>\n",
       "      <td>English</td>\n",
       "      <td>700-800</td>\n",
       "      <td>Paperback</td>\n",
       "      <td>Top Publishers</td>\n",
       "      <td>2004</td>\n",
       "      <td>2003</td>\n",
       "      <td>98.0</td>\n",
       "      <td>2632233.0</td>\n",
       "      <td>...</td>\n",
       "      <td>0</td>\n",
       "      <td>0</td>\n",
       "      <td>0</td>\n",
       "      <td>0</td>\n",
       "      <td>0</td>\n",
       "      <td>0</td>\n",
       "      <td>0</td>\n",
       "      <td>0</td>\n",
       "      <td>0</td>\n",
       "      <td>0</td>\n",
       "    </tr>\n",
       "    <tr>\n",
       "      <th>2</th>\n",
       "      <td>Other series</td>\n",
       "      <td>top_1001_to_10000_most_rated_authors</td>\n",
       "      <td>English</td>\n",
       "      <td>200-300</td>\n",
       "      <td>Paperback</td>\n",
       "      <td>Top Publishers</td>\n",
       "      <td>2006</td>\n",
       "      <td>1960</td>\n",
       "      <td>95.0</td>\n",
       "      <td>2269402.0</td>\n",
       "      <td>...</td>\n",
       "      <td>0</td>\n",
       "      <td>0</td>\n",
       "      <td>0</td>\n",
       "      <td>0</td>\n",
       "      <td>0</td>\n",
       "      <td>0</td>\n",
       "      <td>0</td>\n",
       "      <td>0</td>\n",
       "      <td>0</td>\n",
       "      <td>0</td>\n",
       "    </tr>\n",
       "  </tbody>\n",
       "</table>\n",
       "<p>3 rows × 852 columns</p>\n",
       "</div>"
      ],
      "text/plain": [
       "                 series                                author language  \\\n",
       "0          Other series  top_1001_to_10000_most_rated_authors  English   \n",
       "1  Top 500 rated series           top_1000_most_rated_authors  English   \n",
       "2          Other series  top_1001_to_10000_most_rated_authors  English   \n",
       "\n",
       "     pages book_format       publisher  publish_year  first_publish_year  \\\n",
       "0  200-300   Hardcover  Top Publishers          2008                2008   \n",
       "1  700-800   Paperback  Top Publishers          2004                2003   \n",
       "2  200-300   Paperback  Top Publishers          2006                1960   \n",
       "\n",
       "   liked_perc  bbe_score  ...  \\\n",
       "0        96.0  2993816.0  ...   \n",
       "1        98.0  2632233.0  ...   \n",
       "2        95.0  2269402.0  ...   \n",
       "\n",
       "   West Australian Young Readers' Book Award (WAYRBA) for Older Readers   \\\n",
       "0                                                  1                       \n",
       "1                                                  0                       \n",
       "2                                                  0                       \n",
       "\n",
       "   West Australian Young Readers' Book Award (WAYRBA) for Younger Readers   \\\n",
       "0                                                  0                         \n",
       "1                                                  0                         \n",
       "2                                                  0                         \n",
       "\n",
       "   William Allen White Children's Book Award   \\\n",
       "0                                           0   \n",
       "1                                           0   \n",
       "2                                           0   \n",
       "\n",
       "   William C. Morris YA Debut Award Nominee   \\\n",
       "0                                          0   \n",
       "1                                          0   \n",
       "2                                          0   \n",
       "\n",
       "   Women's Prize for Fiction Nominee   \\\n",
       "0                                   0   \n",
       "1                                   0   \n",
       "2                                   0   \n",
       "\n",
       "   Women's Prize for Fiction Nominee for Longlist   \\\n",
       "0                                                0   \n",
       "1                                                0   \n",
       "2                                                0   \n",
       "\n",
       "   World Fantasy Award Nominee for Best Novel   \\\n",
       "0                                            0   \n",
       "1                                            0   \n",
       "2                                            0   \n",
       "\n",
       "   World Fantasy Award for Best Novel   Zilveren Griffel   \\\n",
       "0                                    0                  0   \n",
       "1                                    0                  0   \n",
       "2                                    0                  0   \n",
       "\n",
       "   الجائزة العالمية للرواية العربية (أي باف) / International Prize for Arabic Fiction (IPAF) Nominee   \n",
       "0                                                  0                                                   \n",
       "1                                                  0                                                   \n",
       "2                                                  0                                                   \n",
       "\n",
       "[3 rows x 852 columns]"
      ]
     },
     "metadata": {},
     "output_type": "display_data"
    },
    {
     "data": {
      "text/plain": [
       "(48655, 852)"
      ]
     },
     "metadata": {},
     "output_type": "display_data"
    }
   ],
   "source": [
    "display(gr_data_for_modelling.head(3),gr_data_for_modelling.shape)"
   ]
  },
  {
   "cell_type": "code",
   "execution_count": 156,
   "id": "37cfe8b4",
   "metadata": {},
   "outputs": [
    {
     "data": {
      "text/plain": [
       "0"
      ]
     },
     "execution_count": 156,
     "metadata": {},
     "output_type": "execute_result"
    }
   ],
   "source": [
    "# NaN values\n",
    "gr_data_for_modelling.isna().sum().sum()"
   ]
  },
  {
   "cell_type": "code",
   "execution_count": 157,
   "id": "48798df3",
   "metadata": {},
   "outputs": [],
   "source": [
    "# Saving data processed for modelling\n",
    "#gr_data_for_modelling.to_csv('./2. Clean_df/_MODELLING.csv')"
   ]
  },
  {
   "cell_type": "code",
   "execution_count": null,
   "id": "e1296c65",
   "metadata": {},
   "outputs": [],
   "source": []
  },
  {
   "cell_type": "markdown",
   "id": "35807237",
   "metadata": {},
   "source": [
    "## Linear Regression Model"
   ]
  },
  {
   "cell_type": "code",
   "execution_count": 158,
   "id": "8fd1db49",
   "metadata": {},
   "outputs": [],
   "source": [
    "from sklearn.model_selection import train_test_split\n",
    "from sklearn.linear_model import LinearRegression\n",
    "from sklearn.preprocessing import StandardScaler\n",
    "from sklearn.compose import ColumnTransformer\n",
    "from sklearn.preprocessing import OneHotEncoder\n",
    "from sklearn.metrics import r2_score, mean_squared_error, mean_absolute_error\n",
    "\n",
    "#import scipy.stats as stats"
   ]
  },
  {
   "cell_type": "code",
   "execution_count": 159,
   "id": "9a33c0f7",
   "metadata": {},
   "outputs": [
    {
     "data": {
      "text/plain": [
       "(48655, 852)"
      ]
     },
     "execution_count": 159,
     "metadata": {},
     "output_type": "execute_result"
    }
   ],
   "source": [
    "#gr_data = pd.read_csv('./2. Clean_df/gr_data_MODELLING.csv')\n",
    "#gr_data = gr_data.drop(['Unnamed: 0'],axis=1)\n",
    "gr_data_for_modelling.shape"
   ]
  },
  {
   "cell_type": "code",
   "execution_count": 160,
   "id": "3833fd4a",
   "metadata": {
    "scrolled": false
   },
   "outputs": [
    {
     "data": {
      "text/html": [
       "<div>\n",
       "<style scoped>\n",
       "    .dataframe tbody tr th:only-of-type {\n",
       "        vertical-align: middle;\n",
       "    }\n",
       "\n",
       "    .dataframe tbody tr th {\n",
       "        vertical-align: top;\n",
       "    }\n",
       "\n",
       "    .dataframe thead th {\n",
       "        text-align: right;\n",
       "    }\n",
       "</style>\n",
       "<table border=\"1\" class=\"dataframe\">\n",
       "  <thead>\n",
       "    <tr style=\"text-align: right;\">\n",
       "      <th></th>\n",
       "      <th>series</th>\n",
       "      <th>author</th>\n",
       "      <th>language</th>\n",
       "      <th>pages</th>\n",
       "      <th>book_format</th>\n",
       "      <th>publisher</th>\n",
       "      <th>publish_year</th>\n",
       "      <th>first_publish_year</th>\n",
       "      <th>liked_perc</th>\n",
       "      <th>bbe_score</th>\n",
       "      <th>...</th>\n",
       "      <th>West Australian Young Readers' Book Award (WAYRBA) for Older Readers</th>\n",
       "      <th>West Australian Young Readers' Book Award (WAYRBA) for Younger Readers</th>\n",
       "      <th>William Allen White Children's Book Award</th>\n",
       "      <th>William C. Morris YA Debut Award Nominee</th>\n",
       "      <th>Women's Prize for Fiction Nominee</th>\n",
       "      <th>Women's Prize for Fiction Nominee for Longlist</th>\n",
       "      <th>World Fantasy Award Nominee for Best Novel</th>\n",
       "      <th>World Fantasy Award for Best Novel</th>\n",
       "      <th>Zilveren Griffel</th>\n",
       "      <th>الجائزة العالمية للرواية العربية (أي باف) / International Prize for Arabic Fiction (IPAF) Nominee</th>\n",
       "    </tr>\n",
       "  </thead>\n",
       "  <tbody>\n",
       "    <tr>\n",
       "      <th>0</th>\n",
       "      <td>Other series</td>\n",
       "      <td>top_1001_to_10000_most_rated_authors</td>\n",
       "      <td>English</td>\n",
       "      <td>200-300</td>\n",
       "      <td>Hardcover</td>\n",
       "      <td>Top Publishers</td>\n",
       "      <td>2008</td>\n",
       "      <td>2008</td>\n",
       "      <td>96.0</td>\n",
       "      <td>2993816.0</td>\n",
       "      <td>...</td>\n",
       "      <td>1</td>\n",
       "      <td>0</td>\n",
       "      <td>0</td>\n",
       "      <td>0</td>\n",
       "      <td>0</td>\n",
       "      <td>0</td>\n",
       "      <td>0</td>\n",
       "      <td>0</td>\n",
       "      <td>0</td>\n",
       "      <td>0</td>\n",
       "    </tr>\n",
       "    <tr>\n",
       "      <th>1</th>\n",
       "      <td>Top 500 rated series</td>\n",
       "      <td>top_1000_most_rated_authors</td>\n",
       "      <td>English</td>\n",
       "      <td>700-800</td>\n",
       "      <td>Paperback</td>\n",
       "      <td>Top Publishers</td>\n",
       "      <td>2004</td>\n",
       "      <td>2003</td>\n",
       "      <td>98.0</td>\n",
       "      <td>2632233.0</td>\n",
       "      <td>...</td>\n",
       "      <td>0</td>\n",
       "      <td>0</td>\n",
       "      <td>0</td>\n",
       "      <td>0</td>\n",
       "      <td>0</td>\n",
       "      <td>0</td>\n",
       "      <td>0</td>\n",
       "      <td>0</td>\n",
       "      <td>0</td>\n",
       "      <td>0</td>\n",
       "    </tr>\n",
       "    <tr>\n",
       "      <th>2</th>\n",
       "      <td>Other series</td>\n",
       "      <td>top_1001_to_10000_most_rated_authors</td>\n",
       "      <td>English</td>\n",
       "      <td>200-300</td>\n",
       "      <td>Paperback</td>\n",
       "      <td>Top Publishers</td>\n",
       "      <td>2006</td>\n",
       "      <td>1960</td>\n",
       "      <td>95.0</td>\n",
       "      <td>2269402.0</td>\n",
       "      <td>...</td>\n",
       "      <td>0</td>\n",
       "      <td>0</td>\n",
       "      <td>0</td>\n",
       "      <td>0</td>\n",
       "      <td>0</td>\n",
       "      <td>0</td>\n",
       "      <td>0</td>\n",
       "      <td>0</td>\n",
       "      <td>0</td>\n",
       "      <td>0</td>\n",
       "    </tr>\n",
       "    <tr>\n",
       "      <th>3</th>\n",
       "      <td>Single Book</td>\n",
       "      <td>top_1001_to_10000_most_rated_authors</td>\n",
       "      <td>English</td>\n",
       "      <td>100-200</td>\n",
       "      <td>Paperback</td>\n",
       "      <td>Top Publishers</td>\n",
       "      <td>2000</td>\n",
       "      <td>2013</td>\n",
       "      <td>94.0</td>\n",
       "      <td>1983116.0</td>\n",
       "      <td>...</td>\n",
       "      <td>0</td>\n",
       "      <td>0</td>\n",
       "      <td>0</td>\n",
       "      <td>0</td>\n",
       "      <td>0</td>\n",
       "      <td>0</td>\n",
       "      <td>0</td>\n",
       "      <td>0</td>\n",
       "      <td>0</td>\n",
       "      <td>0</td>\n",
       "    </tr>\n",
       "    <tr>\n",
       "      <th>4</th>\n",
       "      <td>Other series</td>\n",
       "      <td>top_1001_to_10000_most_rated_authors</td>\n",
       "      <td>English</td>\n",
       "      <td>400-500</td>\n",
       "      <td>Paperback</td>\n",
       "      <td>Top Publishers</td>\n",
       "      <td>2006</td>\n",
       "      <td>2005</td>\n",
       "      <td>78.0</td>\n",
       "      <td>1459448.0</td>\n",
       "      <td>...</td>\n",
       "      <td>1</td>\n",
       "      <td>0</td>\n",
       "      <td>0</td>\n",
       "      <td>0</td>\n",
       "      <td>0</td>\n",
       "      <td>0</td>\n",
       "      <td>0</td>\n",
       "      <td>0</td>\n",
       "      <td>0</td>\n",
       "      <td>0</td>\n",
       "    </tr>\n",
       "  </tbody>\n",
       "</table>\n",
       "<p>5 rows × 852 columns</p>\n",
       "</div>"
      ],
      "text/plain": [
       "                 series                                author language  \\\n",
       "0          Other series  top_1001_to_10000_most_rated_authors  English   \n",
       "1  Top 500 rated series           top_1000_most_rated_authors  English   \n",
       "2          Other series  top_1001_to_10000_most_rated_authors  English   \n",
       "3           Single Book  top_1001_to_10000_most_rated_authors  English   \n",
       "4          Other series  top_1001_to_10000_most_rated_authors  English   \n",
       "\n",
       "     pages book_format       publisher  publish_year  first_publish_year  \\\n",
       "0  200-300   Hardcover  Top Publishers          2008                2008   \n",
       "1  700-800   Paperback  Top Publishers          2004                2003   \n",
       "2  200-300   Paperback  Top Publishers          2006                1960   \n",
       "3  100-200   Paperback  Top Publishers          2000                2013   \n",
       "4  400-500   Paperback  Top Publishers          2006                2005   \n",
       "\n",
       "   liked_perc  bbe_score  ...  \\\n",
       "0        96.0  2993816.0  ...   \n",
       "1        98.0  2632233.0  ...   \n",
       "2        95.0  2269402.0  ...   \n",
       "3        94.0  1983116.0  ...   \n",
       "4        78.0  1459448.0  ...   \n",
       "\n",
       "   West Australian Young Readers' Book Award (WAYRBA) for Older Readers   \\\n",
       "0                                                  1                       \n",
       "1                                                  0                       \n",
       "2                                                  0                       \n",
       "3                                                  0                       \n",
       "4                                                  1                       \n",
       "\n",
       "   West Australian Young Readers' Book Award (WAYRBA) for Younger Readers   \\\n",
       "0                                                  0                         \n",
       "1                                                  0                         \n",
       "2                                                  0                         \n",
       "3                                                  0                         \n",
       "4                                                  0                         \n",
       "\n",
       "   William Allen White Children's Book Award   \\\n",
       "0                                           0   \n",
       "1                                           0   \n",
       "2                                           0   \n",
       "3                                           0   \n",
       "4                                           0   \n",
       "\n",
       "   William C. Morris YA Debut Award Nominee   \\\n",
       "0                                          0   \n",
       "1                                          0   \n",
       "2                                          0   \n",
       "3                                          0   \n",
       "4                                          0   \n",
       "\n",
       "   Women's Prize for Fiction Nominee   \\\n",
       "0                                   0   \n",
       "1                                   0   \n",
       "2                                   0   \n",
       "3                                   0   \n",
       "4                                   0   \n",
       "\n",
       "   Women's Prize for Fiction Nominee for Longlist   \\\n",
       "0                                                0   \n",
       "1                                                0   \n",
       "2                                                0   \n",
       "3                                                0   \n",
       "4                                                0   \n",
       "\n",
       "   World Fantasy Award Nominee for Best Novel   \\\n",
       "0                                            0   \n",
       "1                                            0   \n",
       "2                                            0   \n",
       "3                                            0   \n",
       "4                                            0   \n",
       "\n",
       "   World Fantasy Award for Best Novel   Zilveren Griffel   \\\n",
       "0                                    0                  0   \n",
       "1                                    0                  0   \n",
       "2                                    0                  0   \n",
       "3                                    0                  0   \n",
       "4                                    0                  0   \n",
       "\n",
       "   الجائزة العالمية للرواية العربية (أي باف) / International Prize for Arabic Fiction (IPAF) Nominee   \n",
       "0                                                  0                                                   \n",
       "1                                                  0                                                   \n",
       "2                                                  0                                                   \n",
       "3                                                  0                                                   \n",
       "4                                                  0                                                   \n",
       "\n",
       "[5 rows x 852 columns]"
      ]
     },
     "execution_count": 160,
     "metadata": {},
     "output_type": "execute_result"
    }
   ],
   "source": [
    "gr_data_for_modelling.head()"
   ]
  },
  {
   "cell_type": "markdown",
   "id": "9d5a7025",
   "metadata": {},
   "source": [
    "#### X-y split"
   ]
  },
  {
   "cell_type": "code",
   "execution_count": 161,
   "id": "7fc08abf",
   "metadata": {},
   "outputs": [],
   "source": [
    "# Target = 'rating'\n",
    "y = gr_data_for_modelling['rating']\n",
    "X = gr_data_for_modelling.drop(['rating'],axis=1)"
   ]
  },
  {
   "cell_type": "markdown",
   "id": "8deaa975",
   "metadata": {},
   "source": [
    "#### Train-Test Split"
   ]
  },
  {
   "cell_type": "code",
   "execution_count": 162,
   "id": "a73eaa68",
   "metadata": {},
   "outputs": [],
   "source": [
    "X_train, X_test, y_train, y_test = train_test_split(X, y, test_size=0.2,random_state=1234) #77"
   ]
  },
  {
   "cell_type": "code",
   "execution_count": 163,
   "id": "9653e9f9",
   "metadata": {},
   "outputs": [],
   "source": [
    "#### Split both Train and Test into numerical and categoricals"
   ]
  },
  {
   "cell_type": "code",
   "execution_count": 164,
   "id": "d57c38d7",
   "metadata": {},
   "outputs": [],
   "source": [
    "# X_train\n",
    "X_train_num = X_train.select_dtypes(include=np.number)\n",
    "X_train_cat = X_train.select_dtypes(include=['object'])\n",
    "\n",
    "# X_test\n",
    "X_test_num = X_test.select_dtypes(include=np.number)\n",
    "X_test_cat = X_test.select_dtypes(include=['object'])"
   ]
  },
  {
   "cell_type": "markdown",
   "id": "312654e4",
   "metadata": {},
   "source": [
    "#### Numerical Transformations"
   ]
  },
  {
   "cell_type": "markdown",
   "id": "3518bd00",
   "metadata": {},
   "source": [
    "- Fit only with numericals_train"
   ]
  },
  {
   "cell_type": "code",
   "execution_count": 165,
   "id": "c7074b16",
   "metadata": {},
   "outputs": [],
   "source": [
    "scaler = StandardScaler().fit(X_train_num)"
   ]
  },
  {
   "cell_type": "markdown",
   "id": "bb5390ad",
   "metadata": {},
   "source": [
    "- Transform both numericals_train and numericals_test"
   ]
  },
  {
   "cell_type": "code",
   "execution_count": 166,
   "id": "16d4fa9e",
   "metadata": {},
   "outputs": [],
   "source": [
    "X_train_num_scaled = scaler.transform(X_train_num)\n",
    "X_test_num_scaled = scaler.transform(X_test_num)"
   ]
  },
  {
   "cell_type": "code",
   "execution_count": 167,
   "id": "573dbcfd",
   "metadata": {},
   "outputs": [],
   "source": [
    "# Convert X_train_num_scaled and X_test_num_scaled to dataframes\n",
    "X_train_num_scaled_df = pd.DataFrame(X_train_num_scaled, columns=X_train_num.columns)\n",
    "X_test_num_scaled_df = pd.DataFrame(X_test_num_scaled, columns=X_test_num.columns)"
   ]
  },
  {
   "cell_type": "markdown",
   "id": "c83b6e6e",
   "metadata": {},
   "source": [
    "#### Categorical Encoding"
   ]
  },
  {
   "cell_type": "markdown",
   "id": "5cd229ed",
   "metadata": {},
   "source": [
    "Fit only with categoricals_train"
   ]
  },
  {
   "cell_type": "code",
   "execution_count": 168,
   "id": "26d48f9f",
   "metadata": {},
   "outputs": [],
   "source": [
    "encoder = OneHotEncoder().fit(X_train_cat)"
   ]
  },
  {
   "cell_type": "markdown",
   "id": "dd21e004",
   "metadata": {},
   "source": [
    "Encode both categoricals_train and numericals_test"
   ]
  },
  {
   "cell_type": "code",
   "execution_count": 169,
   "id": "416deff5",
   "metadata": {},
   "outputs": [],
   "source": [
    "X_train_cat_encoded = encoder.transform(X_train_cat)\n",
    "X_test_cat_encoded = encoder.transform(X_test_cat)"
   ]
  },
  {
   "cell_type": "code",
   "execution_count": 170,
   "id": "9c5b0dd3",
   "metadata": {},
   "outputs": [],
   "source": [
    "# Convert X_train_cat_encoded and X_test_cat_encoded to dataframes\n",
    "X_train_cat_encoded_df = pd.DataFrame(X_train_cat_encoded.toarray(), columns=encoder.get_feature_names_out())\n",
    "X_test_cat_encoded_df = pd.DataFrame(X_test_cat_encoded.toarray(), columns=encoder.get_feature_names_out())"
   ]
  },
  {
   "cell_type": "markdown",
   "id": "14dd06c1",
   "metadata": {},
   "source": [
    "#### Combine numericals_train and categoricals_train into train_processed"
   ]
  },
  {
   "cell_type": "code",
   "execution_count": 171,
   "id": "5383a13d",
   "metadata": {},
   "outputs": [],
   "source": [
    "train_processed = pd.concat([X_train_num_scaled_df, X_train_cat_encoded_df], axis=1)"
   ]
  },
  {
   "cell_type": "markdown",
   "id": "b4ba552e",
   "metadata": {},
   "source": [
    "#### Combine numericals_test and categoricals_test into test_processed"
   ]
  },
  {
   "cell_type": "code",
   "execution_count": 172,
   "id": "aec77f88",
   "metadata": {},
   "outputs": [],
   "source": [
    "test_processed = pd.concat([X_test_num_scaled_df, X_test_cat_encoded_df], axis=1)"
   ]
  },
  {
   "cell_type": "markdown",
   "id": "e403524f",
   "metadata": {},
   "source": [
    "#### Define Linear Regression Model"
   ]
  },
  {
   "cell_type": "markdown",
   "id": "c4a65ffe",
   "metadata": {},
   "source": [
    "- Fit model on train_processed"
   ]
  },
  {
   "cell_type": "code",
   "execution_count": 173,
   "id": "52e4cc33",
   "metadata": {},
   "outputs": [],
   "source": [
    "lr = LinearRegression().fit(train_processed, y_train)"
   ]
  },
  {
   "cell_type": "code",
   "execution_count": 174,
   "id": "ff32aa3c",
   "metadata": {},
   "outputs": [
    {
     "name": "stdout",
     "output_type": "stream",
     "text": [
      "First 5 predictions on the training data: [3.75805664 3.65991211 3.7175293  4.19458008 3.95654297]\n",
      "\n",
      "R-squared score on the training data: 0.44\n",
      "Root mean squared error on the training data: 0.26\n",
      "Mean squared error on the training data: 0.07\n",
      "Mean absolute error on the training data: 0.17\n"
     ]
    }
   ],
   "source": [
    "# Predictions on training data\n",
    "y_train_pred = lr.predict(train_processed)\n",
    "\n",
    "print(\"First 5 predictions on the training data:\", y_train_pred[:5])\n",
    "\n",
    "# Evaluation metrics\n",
    "r2 = r2_score(y_train, y_train_pred)\n",
    "rmse = np.sqrt(mean_squared_error(y_train, y_train_pred))\n",
    "mse = mean_squared_error(y_train, y_train_pred)\n",
    "mae = mean_absolute_error(y_train, y_train_pred)\n",
    "\n",
    "print(\"\\nR-squared score on the training data:\", round(r2, 2))\n",
    "print(\"Root mean squared error on the training data:\", round(rmse, 2))\n",
    "print(\"Mean squared error on the training data:\", round(mse, 2))\n",
    "print(\"Mean absolute error on the training data:\", round(mae, 2))"
   ]
  },
  {
   "cell_type": "markdown",
   "id": "b817ed5d",
   "metadata": {},
   "source": [
    "- Predictions on test_processed and scores"
   ]
  },
  {
   "cell_type": "code",
   "execution_count": 175,
   "id": "883085c7",
   "metadata": {},
   "outputs": [
    {
     "name": "stdout",
     "output_type": "stream",
     "text": [
      "Actual data: 30447    3.90\n",
      "9957     3.02\n",
      "1075     4.20\n",
      "11957    4.10\n",
      "32085    4.27\n",
      "17717    3.66\n",
      "Name: rating, dtype: float64\n",
      "\n",
      "Predictions on the TEST data: [4.00512695 3.4609375  4.19604492 4.07104492 4.69970703 3.69116211]\n",
      "\n",
      "R-squared score on the test data: -3.1053025765579204e+21\n",
      "Root mean squared error on the test data: 19153594350.87\n",
      "Mean squared error on the test data: 3.668601765577344e+20\n",
      "Mean absolute error on the test data: 411725683.9\n"
     ]
    }
   ],
   "source": [
    "# Predictions on test data\n",
    "y_test_pred = lr.predict(test_processed)\n",
    "\n",
    "print(\"Actual data:\", y_test[:6])\n",
    "print(\"\\nPredictions on the TEST data:\", y_test_pred[:6])\n",
    "\n",
    "# Evaluation metrics on test data\n",
    "r2_test = r2_score(y_test, y_test_pred)\n",
    "rmse_test = np.sqrt(mean_squared_error(y_test, y_test_pred))\n",
    "mse_test = mean_squared_error(y_test, y_test_pred)\n",
    "mae_test = mean_absolute_error(y_test, y_test_pred)\n",
    "\n",
    "print(\"\\nR-squared score on the test data:\", round(r2_test, 2))\n",
    "print(\"Root mean squared error on the test data:\", round(rmse_test, 2))\n",
    "print(\"Mean squared error on the test data:\", round(mse_test, 2))\n",
    "print(\"Mean absolute error on the test data:\", round(mae_test, 2))"
   ]
  },
  {
   "cell_type": "code",
   "execution_count": 176,
   "id": "e043deeb",
   "metadata": {},
   "outputs": [
    {
     "data": {
      "text/plain": [
       "count    48655.000000\n",
       "mean         4.015514\n",
       "std          0.347446\n",
       "min          0.000000\n",
       "25%          3.820000\n",
       "50%          4.020000\n",
       "75%          4.220000\n",
       "max          5.000000\n",
       "Name: rating, dtype: float64"
      ]
     },
     "execution_count": 176,
     "metadata": {},
     "output_type": "execute_result"
    }
   ],
   "source": [
    "gr_data['rating'].describe()"
   ]
  },
  {
   "cell_type": "code",
   "execution_count": null,
   "id": "e8c583bf",
   "metadata": {},
   "outputs": [],
   "source": []
  },
  {
   "cell_type": "markdown",
   "id": "56042b0b",
   "metadata": {},
   "source": [
    "After trying to use 'genres' and 'awards' (binary values) features both as numerical or categorical, the model is not performing well on the test data:\n",
    "\n",
    "An R-squared score of 0.42 indicates that the model explains 42% of the variance in the target variable.\n",
    "\n",
    "The root mean squared error (RMSE) on the test data is 0.27 ('rating' std = 0.34), which means that on average, the model's predictions are off by 0.27 units from the actual values.\n",
    "\n",
    "The mean squared error (MSE) on the test data is 0.07, which is the average squared difference between the predicted and actual values.\n",
    "\n",
    "The mean absolute error (MAE) on the test data is 0.17, which is the average absolute difference between the predicted and actual values."
   ]
  },
  {
   "cell_type": "code",
   "execution_count": null,
   "id": "bd1e5665",
   "metadata": {},
   "outputs": [],
   "source": []
  },
  {
   "cell_type": "code",
   "execution_count": null,
   "id": "a3439f80",
   "metadata": {},
   "outputs": [],
   "source": []
  },
  {
   "cell_type": "code",
   "execution_count": null,
   "id": "9f931dcb",
   "metadata": {},
   "outputs": [],
   "source": []
  },
  {
   "cell_type": "markdown",
   "id": "e0f4e464",
   "metadata": {},
   "source": [
    "In terms of pros and cons, here are some for PCA:\n",
    "\n",
    "Pros:\n",
    "\n",
    "Can help reduce the number of features in high-dimensional datasets, making it easier to fit a model and reducing the risk of overfitting.\n",
    "Can reveal patterns and relationships in the data that may not be apparent in the original feature space.\n",
    "Can help with data visualization by reducing the dimensionality of the data to 2 or 3 dimensions.\n",
    "Cons:\n",
    "\n",
    "PCA assumes that the principal components represent the most important patterns in the data, which may not always be true.\n",
    "It can be difficult to interpret the meaning of the principal components, especially if there are many of them.\n",
    "Depending on the amount of variance you want to retain, PCA can result in a loss of information."
   ]
  },
  {
   "cell_type": "code",
   "execution_count": null,
   "id": "fc2ee29c",
   "metadata": {},
   "outputs": [],
   "source": []
  },
  {
   "cell_type": "markdown",
   "id": "60f670ac",
   "metadata": {},
   "source": [
    "#### Attempt to improve the model"
   ]
  },
  {
   "cell_type": "markdown",
   "id": "603d6387",
   "metadata": {},
   "source": [
    "In order to check if I can get better results, I am going to reduce the number of features by applying PCA. To choose the specific number of components, I will first explore the explained variance ratio"
   ]
  },
  {
   "cell_type": "markdown",
   "id": "37b380c6",
   "metadata": {},
   "source": [
    "#### PCA"
   ]
  },
  {
   "cell_type": "code",
   "execution_count": null,
   "id": "b639472b",
   "metadata": {
    "scrolled": true
   },
   "outputs": [],
   "source": [
    "from sklearn.decomposition import PCA\n",
    "\n",
    "# Fit PCA on training data\n",
    "pca = PCA() #n_components=100\n",
    "pca.fit(train_processed)\n",
    "\n",
    "#pca.explained_variance_ratio_.round(2)"
   ]
  },
  {
   "cell_type": "code",
   "execution_count": null,
   "id": "649019bc",
   "metadata": {},
   "outputs": [],
   "source": [
    "# Get the explained variance ratios\n",
    "exp_var_pca = pca.explained_variance_ratio_\n",
    "\n",
    "# Calculate the cumulative sum of variance explained\n",
    "cum_sum_eigenvalues = np.cumsum(exp_var_pca)\n",
    "#cum_sum_eigenvalues\n",
    "\n",
    "# Plot the cumulative explained variance vs number of components\n",
    "plt.bar(range(0,len(exp_var_pca)), exp_var_pca, \n",
    "        alpha=0.5, align='center', label='Individual explained variance')\n",
    "plt.step(range(0,len(cum_sum_eigenvalues)), cum_sum_eigenvalues, \n",
    "         where='mid',label='Cumulative explained variance')\n",
    "plt.ylabel('Explained variance ratio')\n",
    "plt.xlabel('Principal component index')\n",
    "plt.legend(loc='best')\n",
    "plt.tight_layout()\n",
    "plt.show()"
   ]
  },
  {
   "cell_type": "markdown",
   "id": "78035b6d",
   "metadata": {},
   "source": [
    "As shown in the graph, we can see that the features selected to predict the target variable seem to have a very weak ability to capture the variance in the original data. This makes it difficult to improve the regression model just by reducing dimensionality."
   ]
  },
  {
   "cell_type": "code",
   "execution_count": null,
   "id": "2ee3ba18",
   "metadata": {},
   "outputs": [],
   "source": [
    "pca.explained_variance_ratio_[:650].sum()"
   ]
  },
  {
   "cell_type": "markdown",
   "id": "ddaa809d",
   "metadata": {},
   "source": [
    "Number of dimensions: 650 (Variance explained 0.90)"
   ]
  },
  {
   "cell_type": "code",
   "execution_count": null,
   "id": "0798142a",
   "metadata": {},
   "outputs": [],
   "source": [
    "# Fit PCA on training data\n",
    "pca = PCA(0.90)\n",
    "pca.fit(train_processed)"
   ]
  },
  {
   "cell_type": "code",
   "execution_count": null,
   "id": "54f9b1dd",
   "metadata": {},
   "outputs": [],
   "source": [
    "# Transform training and test data\n",
    "X_train_pca = pca.transform(train_processed)\n",
    "X_test_pca = pca.transform(test_processed)"
   ]
  },
  {
   "cell_type": "markdown",
   "id": "aaed90a2",
   "metadata": {},
   "source": [
    "##### Linear Regression with PCA"
   ]
  },
  {
   "cell_type": "code",
   "execution_count": null,
   "id": "7cc62ce6",
   "metadata": {},
   "outputs": [],
   "source": [
    "# Fit linear regression on transformed data\n",
    "lr_pca = LinearRegression().fit(X_train_pca, y_train)\n",
    "\n",
    "# Predict on test set\n",
    "y_pred_pca = lr_pca.predict(X_test_pca)\n",
    "\n",
    "# Calculate R-squared score\n",
    "r2_pca = r2_score(y_test, y_pred_pca)\n",
    "print(\"R-squared score (PCA transformed):\", r2_pca)"
   ]
  },
  {
   "cell_type": "code",
   "execution_count": null,
   "id": "a9bebcc0",
   "metadata": {},
   "outputs": [],
   "source": [
    "#plt.scatter(X_train_pca[:,0],X_train_pca[:,1], c = y_train)"
   ]
  },
  {
   "cell_type": "markdown",
   "id": "d1b08ecd",
   "metadata": {},
   "source": [
    "The R2 score of the linear regression model decreased after applying PCA, indicating that the PCA transformation did not improve the model's ability to predict the target variable."
   ]
  },
  {
   "cell_type": "code",
   "execution_count": null,
   "id": "fb3b85b4",
   "metadata": {},
   "outputs": [],
   "source": []
  },
  {
   "cell_type": "code",
   "execution_count": null,
   "id": "84369052",
   "metadata": {},
   "outputs": [],
   "source": []
  },
  {
   "cell_type": "code",
   "execution_count": null,
   "id": "c49057a8",
   "metadata": {},
   "outputs": [],
   "source": []
  },
  {
   "cell_type": "markdown",
   "id": "7fb6b2bc",
   "metadata": {},
   "source": [
    "##### Random Forest Regressor"
   ]
  },
  {
   "cell_type": "code",
   "execution_count": null,
   "id": "539e9894",
   "metadata": {},
   "outputs": [],
   "source": [
    "from sklearn.ensemble import RandomForestRegressor\n",
    "#from sklearn.metrics import mean_squared_error\n",
    "\n",
    "# Random Forest Regressor\n",
    "rf = RandomForestRegressor(max_depth=30, min_samples_split=200, min_samples_leaf=200)\n",
    "\n",
    "# Fit the model on the scaled training data and target values\n",
    "rf.fit(train_processed, y_train)\n",
    "\n",
    "# Predictions on the test data\n",
    "y_pred = rf.predict(test_processed)\n",
    "\n",
    "# MSE\n",
    "mse = mean_squared_error(y_test, y_pred)\n",
    "\n",
    "print(\"Mean Squared Error: \", mse)\n"
   ]
  },
  {
   "cell_type": "code",
   "execution_count": null,
   "id": "f41c178c",
   "metadata": {},
   "outputs": [],
   "source": []
  },
  {
   "cell_type": "code",
   "execution_count": null,
   "id": "dca35e8d",
   "metadata": {},
   "outputs": [],
   "source": []
  },
  {
   "cell_type": "code",
   "execution_count": null,
   "id": "d9a10b90",
   "metadata": {},
   "outputs": [],
   "source": []
  },
  {
   "cell_type": "markdown",
   "id": "8aa9eb98",
   "metadata": {},
   "source": [
    "#### Recursive Feature Elimination RFE"
   ]
  },
  {
   "cell_type": "markdown",
   "id": "ce605863",
   "metadata": {},
   "source": [
    "     - Build a succession of models starting with all features (original df) and then removes the features that contributes least to the solution\n",
    "     \n",
    "     - Linear Regression models"
   ]
  },
  {
   "cell_type": "code",
   "execution_count": null,
   "id": "97cf2616",
   "metadata": {},
   "outputs": [],
   "source": [
    "from sklearn.preprocessing import MinMaxScaler\n",
    "scaler2 = MinMaxScaler()\n",
    "numerical_scaled = scaler2.fit_transform(numerical)"
   ]
  },
  {
   "cell_type": "code",
   "execution_count": null,
   "id": "2ebbe481",
   "metadata": {},
   "outputs": [],
   "source": [
    "X = numerical_scaled\n",
    "y = gr_data['rating']\n",
    "\n",
    "from sklearn.feature_selection import RFE\n",
    "from sklearn import linear_model\n",
    "lm = linear_model.LinearRegression() # empty\n",
    "rfe = RFE(lm, n_features_to_select=100, verbose=False)\n",
    "rfe.fit(X, y)"
   ]
  },
  {
   "cell_type": "code",
   "execution_count": null,
   "id": "1c1ec200",
   "metadata": {},
   "outputs": [],
   "source": [
    "#rfe.ranking_"
   ]
  },
  {
   "cell_type": "code",
   "execution_count": null,
   "id": "8b6b83c8",
   "metadata": {},
   "outputs": [],
   "source": [
    "# Get the selected features\n",
    "selected_features = X.columns[rfe.support_]\n",
    "\n",
    "# Use the selected features to create a new dataset\n",
    "X_selected = X[selected_features]\n",
    "\n",
    "# Train a linear regression model on the selected features\n",
    "lm_selected = linear_model.LinearRegression()\n",
    "lm_selected.fit(X_selected, y)\n",
    "\n",
    "# Make predictions on the same data used for training\n",
    "y_pred = lm_selected.predict(X_selected)\n",
    "\n",
    "# Check the performance of the model\n",
    "from sklearn.metrics import r2_score\n",
    "r2 = r2_score(y, y_pred)\n",
    "print('R2 score:', r2)\n"
   ]
  },
  {
   "cell_type": "code",
   "execution_count": null,
   "id": "e106dbce",
   "metadata": {},
   "outputs": [],
   "source": []
  }
 ],
 "metadata": {
  "kernelspec": {
   "display_name": "Python 3 (ipykernel)",
   "language": "python",
   "name": "python3"
  },
  "language_info": {
   "codemirror_mode": {
    "name": "ipython",
    "version": 3
   },
   "file_extension": ".py",
   "mimetype": "text/x-python",
   "name": "python",
   "nbconvert_exporter": "python",
   "pygments_lexer": "ipython3",
   "version": "3.9.13"
  }
 },
 "nbformat": 4,
 "nbformat_minor": 5
}
