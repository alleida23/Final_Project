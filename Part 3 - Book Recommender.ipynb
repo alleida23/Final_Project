{
 "cells": [
  {
   "cell_type": "markdown",
   "id": "10f6f5ff",
   "metadata": {},
   "source": [
    "# BOOK RECOMMENDER"
   ]
  },
  {
   "cell_type": "markdown",
   "id": "dc53f7f1",
   "metadata": {},
   "source": [
    "After defining the optimal number of clusters in the previous kernel and assigning one cluster to each of the books in the dataset, I am now going to develop a function to build a book recommender.\n",
    "\n",
    "The function takes as input a 'book_searched' and the dataset. If the searched book is in the dataset, it recommends the most similar book - using cosine similarity - from the same cluster."
   ]
  },
  {
   "cell_type": "code",
   "execution_count": 1,
   "id": "f390037f",
   "metadata": {},
   "outputs": [],
   "source": [
    "import pandas as pd\n",
    "import numpy as np\n",
    "import unidecode\n",
    "import random\n",
    "\n",
    "from sklearn.cluster import KMeans\n",
    "from sklearn import cluster, datasets\n",
    "from IPython.display import Markdown, display \n",
    "from sklearn.preprocessing import StandardScaler\n",
    "from sklearn.metrics.pairwise import cosine_similarity"
   ]
  },
  {
   "cell_type": "code",
   "execution_count": 2,
   "id": "5fcb922c",
   "metadata": {},
   "outputs": [],
   "source": [
    "gr_data = pd.read_csv('./2. Clean_df/gr_data_FOR_CLUSTERING.csv')\n",
    "gr_data = gr_data.drop(['Unnamed: 0'],axis=1)\n",
    "#display(gr_data.head(3),gr_data.shape)"
   ]
  },
  {
   "cell_type": "markdown",
   "id": "254aebeb",
   "metadata": {},
   "source": [
    "# FUNCTION"
   ]
  },
  {
   "cell_type": "code",
   "execution_count": 16,
   "id": "05458971",
   "metadata": {},
   "outputs": [],
   "source": [
    "def book_recommender(book_searched, gr_data):\n",
    "    \n",
    "    \"\"\"This function takes in a book title and a dataframe of books,\n",
    "    and recommends a book from the same cluster as the input book.\n",
    "    It first normalizes the input title and finds matching books.\n",
    "    It then identifies the input book's cluster and retrieves all books\n",
    "    in that cluster. The most similar book to the input book is \n",
    "    recommended using cosine similarity. The function displays a random \n",
    "    recommendation message.\"\"\"\n",
    "    \n",
    "    # Used libraries\n",
    "    import random\n",
    "    import unidecode\n",
    "    import numpy as np\n",
    "    from IPython.display import display, Markdown\n",
    "    from sklearn.preprocessing import StandardScaler\n",
    "    from sklearn.metrics.pairwise import cosine_similarity    \n",
    "    \n",
    "    \"\"\"-------------------------- Standardize 'title' input -----------------------------\"\"\"\n",
    "    \n",
    "    # Normalized name of the book\n",
    "    book_search_norm = unidecode.unidecode(book_searched.lower().strip())\n",
    "    # Check if the book is in gr_data:\n",
    "    book_matches = gr_data[gr_data['normalized_title'].str.contains(book_search_norm)]\n",
    "    \n",
    "    \n",
    "    \"\"\"----- Find match in book_matches dataframe and works on proper 'title' name ------\"\"\"\n",
    "\n",
    "    # Set maximum number of options to display\n",
    "    max_options = 20\n",
    "    # If there is at least 1 coincedence or more\n",
    "    if len(book_matches) > 0:\n",
    "        #If there is just 1 match\n",
    "        if len(book_matches) == 1:\n",
    "            book_searched = book_matches.iloc[0]['title']\n",
    "        #If there is more than 1 coincence\n",
    "        else:\n",
    "            print(f\"Found {len(book_matches)} matches:\")\n",
    "            # Display list of options\n",
    "            for i, row in enumerate(book_matches.head(max_options).itertuples(), start=1):\n",
    "                print(f\"{i}: {row.title} by {row.author}\")\n",
    "            while True:\n",
    "                # Ask user to select choice (numerical range)\n",
    "                user_choice = input(f\"\\nPlease select an option (1-{min(len(book_matches), max_options)}): \")\n",
    "                try:\n",
    "                    user_choice = int(user_choice)\n",
    "                    if user_choice < 1 or user_choice > min(len(book_matches), max_options):\n",
    "                        raise ValueError\n",
    "                    break\n",
    "                except ValueError:\n",
    "                    print(\"Invalid input. Please enter a number between 1 and the number of options.\")\n",
    "        \n",
    "            # Set the new book_searched variable to the selected book title\n",
    "            book_searched = book_matches.iloc[user_choice - 1]['title']\n",
    "    else:\n",
    "        # Set book_searched to None if no matches are found\n",
    "        print(\"No matches found.\")\n",
    "        book_searched = None \n",
    "        \n",
    "    \"\"\"----------------Identify cluster and get books of the same custer--------------------\"\"\"\n",
    "    \n",
    "    # Look for the book_searched corresponding 'cluster' value\n",
    "    if book_searched is not None:\n",
    "        book_searched_cluster = gr_data.loc[gr_data['title'].str.contains(book_searched), 'cluster'].values[0]\n",
    "    else:\n",
    "        book_searched_cluster = None\n",
    "        \n",
    "    # Get all books in gr_data that shares book_searched_cluster\n",
    "    matching_cluster = gr_data.loc[gr_data['cluster'] == book_searched_cluster]\n",
    "    \n",
    "    \n",
    "    \"\"\"------------------ Most similar book in cluster - Cosine Similarity -----------------\"\"\"\n",
    "    \n",
    "    # Select only numerical columns\n",
    "    features = matching_cluster.select_dtypes(include=np.number)\n",
    "    # Drop 'cluster' column\n",
    "    features = features.drop(['cluster'],axis=1)  # Remove the 'cluster' column from the list\n",
    "    # Most similar book (nested function)\n",
    "    #recommended_book = find_most_similar_book(book_searched, features)\n",
    "    \n",
    "    # Scale numerical features\n",
    "    scaler = StandardScaler()\n",
    "    features_scaled = scaler.fit_transform(features)\n",
    "    features_scaled\n",
    "\n",
    "    # Find index of recommended book within same_cluster_books\n",
    "    recommended_book_idx = matching_cluster[matching_cluster['title'].str.contains(book_searched)].index[0]\n",
    "\n",
    "    # Compute cosine similarity between books in same cluster\n",
    "    sims = cosine_similarity(features_scaled)\n",
    "\n",
    "    # Get the index of the most similar book\n",
    "    most_similar_book_idx = np.argsort(sims[recommended_book_idx])[::-1][1]\n",
    "\n",
    "    # Get the most similar book from same_cluster_books\n",
    "    recommended_book = matching_cluster.iloc[most_similar_book_idx]\n",
    "    \n",
    "    \"\"\" ----------------------- Random messages to be displayed ----------------------------\"\"\"\n",
    "    \n",
    "    # Recommendation message\n",
    "    message = random.choice([\n",
    "            f\"Based on your selection of '**{book_searched}**', we recommend the *hot* book '**{recommended_book['title']}**' by **{recommended_book['author']}**.\",\n",
    "            f\"Looks like you've got great taste in books! We recommend the *sizzling* read '**{recommended_book['title']}**' by **{recommended_book['author']}** based on your choice of '**{book_searched}**'.\",\n",
    "            f\"You've hit the jackpot with your choice of '**{book_searched}**'! Our recommendation for you is the *hyped* book '**{recommended_book['title']}**' by **{recommended_book['author']}**.\",\n",
    "            f\"Based on your selection of '**{book_searched}**', we think you'll love the *popular* book '**{recommended_book['title']}**' by **{recommended_book['author']}**'.\",\n",
    "            f\"Based on your selection of '**{book_searched}**', we suggest the *trending* novel '**{recommended_book['title']}**' by **{recommended_book['author']}**.'\",\n",
    "            f\"Based on your selection of '**{book_searched}**', you might also like the *bestselling* book '**{recommended_book['title']}**' by **{recommended_book['author']}**.'\",\n",
    "            f\"Looks like you're a big fan of **{book_searched}**! Our recommendation algorithm thinks you'll enjoy the hilarious and heartwarming **{recommended_book['title']}** by **{recommended_book['author']}**. Get ready to laugh and cry!\",\n",
    "            f\"Oh joy, another person searching for **{book_searched}**. Haven't we had enough of that book already? But since you insist, our recommendation algorithm suggests the timeless classic **{recommended_book['title']}** by **{recommended_book['author']}**. Just kidding, it's probably just more of the same.\",\n",
    "            f\"Based on your selection of '**{book_searched}**', we recommend the *hot* book '**{recommended_book['title']}**' by **{recommended_book['author']}**.\"\n",
    "        ])\n",
    "        \n",
    "    display(Markdown(message))\n",
    "     \n",
    "    \"\"\" -------------------------- More info about the book recommended -------------------\"\"\"\n",
    "    \n",
    "    # Display book description\n",
    "    display(Markdown(f\"**Description:** {recommended_book['description']}\"))\n",
    "\n",
    "    # Display Goodreads rating\n",
    "    display(Markdown(f\"**GoodReads users rating:** {recommended_book['rating']}\"))\n",
    "        \n",
    "    # URL link to search for recommended book on Goodreads\n",
    "    url_title = '+'.join(recommended_book['title'].split())\n",
    "    url = f\"https://www.goodreads.com/search?q={url_title}\"\n",
    "    display(Markdown(f\"Search for the recommended book on Goodreads: {url}\"))\n",
    "        \n",
    "    # If book search is NOT IN gr_data\n",
    "    #else:\n",
    "    #    display(Markdown(f\"Sorry, we couldn't find any books matching '**{book_searched.capitalize()}**'. Please try another search term.\"))\n",
    "\n",
    "\n",
    "    "
   ]
  },
  {
   "cell_type": "code",
   "execution_count": null,
   "id": "8106ec9b",
   "metadata": {},
   "outputs": [],
   "source": []
  },
  {
   "cell_type": "markdown",
   "id": "7e53ee81",
   "metadata": {},
   "source": [
    "# Book Recommender"
   ]
  },
  {
   "cell_type": "code",
   "execution_count": 18,
   "id": "f893e26f",
   "metadata": {},
   "outputs": [
    {
     "name": "stdout",
     "output_type": "stream",
     "text": [
      "Enter the name of the book you are interested in: Pedro paramo\n"
     ]
    },
    {
     "data": {
      "text/markdown": [
       "Looks like you've got great taste in books! We recommend the *sizzling* read '**Twice-Told Tales**' by **Nathaniel Hawthorne** based on your choice of '**Pedro Páramo**'."
      ],
      "text/plain": [
       "<IPython.core.display.Markdown object>"
      ]
     },
     "metadata": {},
     "output_type": "display_data"
    },
    {
     "data": {
      "text/markdown": [
       "**Description:** The author of such short-fiction masterpieces as Young Goodman Brown and The Minister's Black Veil, Nathaniel Hawthorne is regarded as one of the most significant American writers of the nineteenth century. This volume collects many of his most famous short works and is a fitting compendium of his literary achievements for newcomers or longtime Hawthorne fans alike."
      ],
      "text/plain": [
       "<IPython.core.display.Markdown object>"
      ]
     },
     "metadata": {},
     "output_type": "display_data"
    },
    {
     "data": {
      "text/markdown": [
       "**GoodReads users rating:** 3.9"
      ],
      "text/plain": [
       "<IPython.core.display.Markdown object>"
      ]
     },
     "metadata": {},
     "output_type": "display_data"
    },
    {
     "data": {
      "text/markdown": [
       "Search for the recommended book on Goodreads: https://www.goodreads.com/search?q=Twice-Told+Tales"
      ],
      "text/plain": [
       "<IPython.core.display.Markdown object>"
      ]
     },
     "metadata": {},
     "output_type": "display_data"
    }
   ],
   "source": [
    "book_searched = input(\"Enter the name of the book you are interested in: \")\n",
    "book = book_recommender(book_searched, gr_data)"
   ]
  },
  {
   "cell_type": "code",
   "execution_count": null,
   "id": "9d19a12e",
   "metadata": {},
   "outputs": [],
   "source": []
  },
  {
   "cell_type": "code",
   "execution_count": null,
   "id": "9a27a76b",
   "metadata": {},
   "outputs": [],
   "source": []
  },
  {
   "cell_type": "code",
   "execution_count": null,
   "id": "77f5ac1b",
   "metadata": {},
   "outputs": [],
   "source": []
  },
  {
   "cell_type": "code",
   "execution_count": null,
   "id": "cab06a05",
   "metadata": {},
   "outputs": [],
   "source": []
  }
 ],
 "metadata": {
  "kernelspec": {
   "display_name": "Python 3 (ipykernel)",
   "language": "python",
   "name": "python3"
  },
  "language_info": {
   "codemirror_mode": {
    "name": "ipython",
    "version": 3
   },
   "file_extension": ".py",
   "mimetype": "text/x-python",
   "name": "python",
   "nbconvert_exporter": "python",
   "pygments_lexer": "ipython3",
   "version": "3.9.13"
  }
 },
 "nbformat": 4,
 "nbformat_minor": 5
}
