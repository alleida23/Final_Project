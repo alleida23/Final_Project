{
 "cells": [
  {
   "cell_type": "code",
   "execution_count": 41,
   "id": "0dbd9a5c",
   "metadata": {},
   "outputs": [],
   "source": [
    "import pandas as pd\n",
    "import numpy as np\n"
   ]
  },
  {
   "cell_type": "code",
   "execution_count": 9,
   "id": "149928a6",
   "metadata": {
    "scrolled": true
   },
   "outputs": [
    {
     "data": {
      "text/html": [
       "<div>\n",
       "<style scoped>\n",
       "    .dataframe tbody tr th:only-of-type {\n",
       "        vertical-align: middle;\n",
       "    }\n",
       "\n",
       "    .dataframe tbody tr th {\n",
       "        vertical-align: top;\n",
       "    }\n",
       "\n",
       "    .dataframe thead th {\n",
       "        text-align: right;\n",
       "    }\n",
       "</style>\n",
       "<table border=\"1\" class=\"dataframe\">\n",
       "  <thead>\n",
       "    <tr style=\"text-align: right;\">\n",
       "      <th></th>\n",
       "      <th>title</th>\n",
       "      <th>series</th>\n",
       "      <th>author</th>\n",
       "      <th>rating</th>\n",
       "      <th>description</th>\n",
       "      <th>language</th>\n",
       "      <th>isbn</th>\n",
       "      <th>genres</th>\n",
       "      <th>characters</th>\n",
       "      <th>bookFormat</th>\n",
       "      <th>...</th>\n",
       "      <th>publishDate</th>\n",
       "      <th>firstPublishDate</th>\n",
       "      <th>awards</th>\n",
       "      <th>numRatings</th>\n",
       "      <th>ratingsByStars</th>\n",
       "      <th>likedPercent</th>\n",
       "      <th>setting</th>\n",
       "      <th>bbeScore</th>\n",
       "      <th>bbeVotes</th>\n",
       "      <th>price</th>\n",
       "    </tr>\n",
       "  </thead>\n",
       "  <tbody>\n",
       "    <tr>\n",
       "      <th>0</th>\n",
       "      <td>The Hunger Games</td>\n",
       "      <td>The Hunger Games #1</td>\n",
       "      <td>Suzanne Collins</td>\n",
       "      <td>4.33</td>\n",
       "      <td>WINNING MEANS FAME AND FORTUNE.LOSING MEANS CE...</td>\n",
       "      <td>English</td>\n",
       "      <td>9.78044E+12</td>\n",
       "      <td>['Young Adult', 'Fiction', 'Dystopia', 'Fantas...</td>\n",
       "      <td>['Katniss Everdeen', 'Peeta Mellark', 'Cato (H...</td>\n",
       "      <td>Hardcover</td>\n",
       "      <td>...</td>\n",
       "      <td>09/14/08</td>\n",
       "      <td>NaN</td>\n",
       "      <td>['Locus Award Nominee for Best Young Adult Boo...</td>\n",
       "      <td>6376780</td>\n",
       "      <td>['3444695', '1921313', '745221', '171994', '93...</td>\n",
       "      <td>96.0</td>\n",
       "      <td>['District 12, Panem', 'Capitol, Panem', 'Pane...</td>\n",
       "      <td>2993816</td>\n",
       "      <td>30516</td>\n",
       "      <td>5.09</td>\n",
       "    </tr>\n",
       "    <tr>\n",
       "      <th>1</th>\n",
       "      <td>Harry Potter and the Order of the Phoenix</td>\n",
       "      <td>Harry Potter #5</td>\n",
       "      <td>J.K. Rowling, Mary GrandPré (Illustrator)</td>\n",
       "      <td>4.50</td>\n",
       "      <td>There is a door at the end of a silent corrido...</td>\n",
       "      <td>English</td>\n",
       "      <td>9.78044E+12</td>\n",
       "      <td>['Fantasy', 'Young Adult', 'Fiction', 'Magic',...</td>\n",
       "      <td>['Sirius Black', 'Draco Malfoy', 'Ron Weasley'...</td>\n",
       "      <td>Paperback</td>\n",
       "      <td>...</td>\n",
       "      <td>09/28/04</td>\n",
       "      <td>06/21/03</td>\n",
       "      <td>['Bram Stoker Award for Works for Young Reader...</td>\n",
       "      <td>2507623</td>\n",
       "      <td>['1593642', '637516', '222366', '39573', '14526']</td>\n",
       "      <td>98.0</td>\n",
       "      <td>['Hogwarts School of Witchcraft and Wizardry (...</td>\n",
       "      <td>2632233</td>\n",
       "      <td>26923</td>\n",
       "      <td>7.38</td>\n",
       "    </tr>\n",
       "    <tr>\n",
       "      <th>2</th>\n",
       "      <td>To Kill a Mockingbird</td>\n",
       "      <td>To Kill a Mockingbird</td>\n",
       "      <td>Harper Lee</td>\n",
       "      <td>4.28</td>\n",
       "      <td>The unforgettable novel of a childhood in a sl...</td>\n",
       "      <td>English</td>\n",
       "      <td>1E+13</td>\n",
       "      <td>['Classics', 'Fiction', 'Historical Fiction', ...</td>\n",
       "      <td>['Scout Finch', 'Atticus Finch', 'Jem Finch', ...</td>\n",
       "      <td>Paperback</td>\n",
       "      <td>...</td>\n",
       "      <td>05/23/06</td>\n",
       "      <td>07-11-1960</td>\n",
       "      <td>['Pulitzer Prize for Fiction (1961)', 'Audie A...</td>\n",
       "      <td>4501075</td>\n",
       "      <td>['2363896', '1333153', '573280', '149952', '80...</td>\n",
       "      <td>95.0</td>\n",
       "      <td>['Maycomb, Alabama (United States)']</td>\n",
       "      <td>2269402</td>\n",
       "      <td>23328</td>\n",
       "      <td>NaN</td>\n",
       "    </tr>\n",
       "  </tbody>\n",
       "</table>\n",
       "<p>3 rows × 23 columns</p>\n",
       "</div>"
      ],
      "text/plain": [
       "                                       title                 series  \\\n",
       "0                           The Hunger Games    The Hunger Games #1   \n",
       "1  Harry Potter and the Order of the Phoenix        Harry Potter #5   \n",
       "2                      To Kill a Mockingbird  To Kill a Mockingbird   \n",
       "\n",
       "                                      author  rating  \\\n",
       "0                            Suzanne Collins    4.33   \n",
       "1  J.K. Rowling, Mary GrandPré (Illustrator)    4.50   \n",
       "2                                 Harper Lee    4.28   \n",
       "\n",
       "                                         description language         isbn  \\\n",
       "0  WINNING MEANS FAME AND FORTUNE.LOSING MEANS CE...  English  9.78044E+12   \n",
       "1  There is a door at the end of a silent corrido...  English  9.78044E+12   \n",
       "2  The unforgettable novel of a childhood in a sl...  English        1E+13   \n",
       "\n",
       "                                              genres  \\\n",
       "0  ['Young Adult', 'Fiction', 'Dystopia', 'Fantas...   \n",
       "1  ['Fantasy', 'Young Adult', 'Fiction', 'Magic',...   \n",
       "2  ['Classics', 'Fiction', 'Historical Fiction', ...   \n",
       "\n",
       "                                          characters bookFormat  ...  \\\n",
       "0  ['Katniss Everdeen', 'Peeta Mellark', 'Cato (H...  Hardcover  ...   \n",
       "1  ['Sirius Black', 'Draco Malfoy', 'Ron Weasley'...  Paperback  ...   \n",
       "2  ['Scout Finch', 'Atticus Finch', 'Jem Finch', ...  Paperback  ...   \n",
       "\n",
       "  publishDate firstPublishDate  \\\n",
       "0    09/14/08              NaN   \n",
       "1    09/28/04         06/21/03   \n",
       "2    05/23/06       07-11-1960   \n",
       "\n",
       "                                              awards numRatings  \\\n",
       "0  ['Locus Award Nominee for Best Young Adult Boo...    6376780   \n",
       "1  ['Bram Stoker Award for Works for Young Reader...    2507623   \n",
       "2  ['Pulitzer Prize for Fiction (1961)', 'Audie A...    4501075   \n",
       "\n",
       "                                      ratingsByStars likedPercent  \\\n",
       "0  ['3444695', '1921313', '745221', '171994', '93...         96.0   \n",
       "1  ['1593642', '637516', '222366', '39573', '14526']         98.0   \n",
       "2  ['2363896', '1333153', '573280', '149952', '80...         95.0   \n",
       "\n",
       "                                             setting bbeScore  bbeVotes price  \n",
       "0  ['District 12, Panem', 'Capitol, Panem', 'Pane...  2993816     30516  5.09  \n",
       "1  ['Hogwarts School of Witchcraft and Wizardry (...  2632233     26923  7.38  \n",
       "2               ['Maycomb, Alabama (United States)']  2269402     23328   NaN  \n",
       "\n",
       "[3 rows x 23 columns]"
      ]
     },
     "metadata": {},
     "output_type": "display_data"
    },
    {
     "data": {
      "text/plain": [
       "(52478, 23)"
      ]
     },
     "metadata": {},
     "output_type": "display_data"
    }
   ],
   "source": [
    "gr_data = pd.read_csv('./1. Original_df/GoodReads.Best_Books_Ever 2.csv')\n",
    "\n",
    "pd.set_option('display.max_columns', 30)\n",
    "display(gr_data.head(3), gr_data.shape)"
   ]
  },
  {
   "cell_type": "markdown",
   "id": "aba695c0",
   "metadata": {},
   "source": [
    "#### Standard Column Names\n"
   ]
  },
  {
   "cell_type": "code",
   "execution_count": 12,
   "id": "e9b35318",
   "metadata": {},
   "outputs": [
    {
     "data": {
      "text/plain": [
       "Index(['title', 'series', 'author', 'rating', 'description', 'language',\n",
       "       'isbn', 'genres', 'characters', 'bookformat', 'edition', 'pages',\n",
       "       'publisher', 'publishdate', 'firstpublishdate', 'awards', 'numratings',\n",
       "       'ratingsbystars', 'likedpercent', 'setting', 'bbescore', 'bbevotes',\n",
       "       'price'],\n",
       "      dtype='object')"
      ]
     },
     "execution_count": 12,
     "metadata": {},
     "output_type": "execute_result"
    }
   ],
   "source": [
    "# Names in lower case\n",
    "cols = []\n",
    "for c in gr_data.columns:\n",
    "    cols.append(c.lower())\n",
    "\n",
    "gr_data.columns = cols\n",
    "gr_data.columns"
   ]
  },
  {
   "cell_type": "code",
   "execution_count": 37,
   "id": "1c8bfc29",
   "metadata": {},
   "outputs": [
    {
     "data": {
      "text/plain": [
       "Index(['title', 'series', 'author', 'rating', 'description', 'language',\n",
       "       'isbn', 'genres', 'characters', 'book_format', 'edition', 'pages',\n",
       "       'publisher', 'publish_date', 'first_publish_date', 'awards',\n",
       "       'num_ratings', 'rating_by_stars', 'liked_perc', 'setting', 'bbe_score',\n",
       "       'bbe_votes', 'price'],\n",
       "      dtype='object')"
      ]
     },
     "execution_count": 37,
     "metadata": {},
     "output_type": "execute_result"
    }
   ],
   "source": [
    "# Renaming columns\n",
    "gr_data = gr_data.rename(columns={'bookformat':'book_format',\n",
    "                                 'publishdate':'publish_date',\n",
    "                                 'firstpublishdate':'first_publish_date',\n",
    "                                 'numratings':'num_ratings',\n",
    "                                 'ratingsbystars':'rating_by_stars',\n",
    "                                 'likedpercent': 'liked_perc',\n",
    "                                 'bbescore':'bbe_score',\n",
    "                                 'bbevotes':'bbe_votes'})\n",
    "\n",
    "gr_data.columns"
   ]
  },
  {
   "cell_type": "code",
   "execution_count": 38,
   "id": "848a5921",
   "metadata": {},
   "outputs": [
    {
     "data": {
      "text/html": [
       "<div>\n",
       "<style scoped>\n",
       "    .dataframe tbody tr th:only-of-type {\n",
       "        vertical-align: middle;\n",
       "    }\n",
       "\n",
       "    .dataframe tbody tr th {\n",
       "        vertical-align: top;\n",
       "    }\n",
       "\n",
       "    .dataframe thead th {\n",
       "        text-align: right;\n",
       "    }\n",
       "</style>\n",
       "<table border=\"1\" class=\"dataframe\">\n",
       "  <thead>\n",
       "    <tr style=\"text-align: right;\">\n",
       "      <th></th>\n",
       "      <th>title</th>\n",
       "      <th>series</th>\n",
       "      <th>author</th>\n",
       "      <th>rating</th>\n",
       "      <th>description</th>\n",
       "      <th>language</th>\n",
       "      <th>isbn</th>\n",
       "      <th>genres</th>\n",
       "      <th>characters</th>\n",
       "      <th>book_format</th>\n",
       "      <th>edition</th>\n",
       "      <th>pages</th>\n",
       "      <th>publisher</th>\n",
       "      <th>publish_date</th>\n",
       "      <th>first_publish_date</th>\n",
       "      <th>awards</th>\n",
       "      <th>num_ratings</th>\n",
       "      <th>rating_by_stars</th>\n",
       "      <th>liked_perc</th>\n",
       "      <th>setting</th>\n",
       "      <th>bbe_score</th>\n",
       "      <th>bbe_votes</th>\n",
       "      <th>price</th>\n",
       "    </tr>\n",
       "  </thead>\n",
       "  <tbody>\n",
       "    <tr>\n",
       "      <th>0</th>\n",
       "      <td>The Hunger Games</td>\n",
       "      <td>The Hunger Games #1</td>\n",
       "      <td>Suzanne Collins</td>\n",
       "      <td>4.33</td>\n",
       "      <td>WINNING MEANS FAME AND FORTUNE.LOSING MEANS CE...</td>\n",
       "      <td>English</td>\n",
       "      <td>9.78044E+12</td>\n",
       "      <td>['Young Adult', 'Fiction', 'Dystopia', 'Fantas...</td>\n",
       "      <td>['Katniss Everdeen', 'Peeta Mellark', 'Cato (H...</td>\n",
       "      <td>Hardcover</td>\n",
       "      <td>First Edition</td>\n",
       "      <td>374</td>\n",
       "      <td>Scholastic Press</td>\n",
       "      <td>09/14/08</td>\n",
       "      <td>NaN</td>\n",
       "      <td>['Locus Award Nominee for Best Young Adult Boo...</td>\n",
       "      <td>6376780</td>\n",
       "      <td>['3444695', '1921313', '745221', '171994', '93...</td>\n",
       "      <td>96.0</td>\n",
       "      <td>['District 12, Panem', 'Capitol, Panem', 'Pane...</td>\n",
       "      <td>2993816</td>\n",
       "      <td>30516</td>\n",
       "      <td>5.09</td>\n",
       "    </tr>\n",
       "  </tbody>\n",
       "</table>\n",
       "</div>"
      ],
      "text/plain": [
       "              title               series           author  rating  \\\n",
       "0  The Hunger Games  The Hunger Games #1  Suzanne Collins    4.33   \n",
       "\n",
       "                                         description language         isbn  \\\n",
       "0  WINNING MEANS FAME AND FORTUNE.LOSING MEANS CE...  English  9.78044E+12   \n",
       "\n",
       "                                              genres  \\\n",
       "0  ['Young Adult', 'Fiction', 'Dystopia', 'Fantas...   \n",
       "\n",
       "                                          characters book_format  \\\n",
       "0  ['Katniss Everdeen', 'Peeta Mellark', 'Cato (H...   Hardcover   \n",
       "\n",
       "         edition pages         publisher publish_date first_publish_date  \\\n",
       "0  First Edition   374  Scholastic Press     09/14/08                NaN   \n",
       "\n",
       "                                              awards  num_ratings  \\\n",
       "0  ['Locus Award Nominee for Best Young Adult Boo...      6376780   \n",
       "\n",
       "                                     rating_by_stars  liked_perc  \\\n",
       "0  ['3444695', '1921313', '745221', '171994', '93...        96.0   \n",
       "\n",
       "                                             setting  bbe_score  bbe_votes  \\\n",
       "0  ['District 12, Panem', 'Capitol, Panem', 'Pane...    2993816      30516   \n",
       "\n",
       "  price  \n",
       "0  5.09  "
      ]
     },
     "execution_count": 38,
     "metadata": {},
     "output_type": "execute_result"
    }
   ],
   "source": [
    "pd.set_option('display.max_columns', 30)\n",
    "gr_data.head(1)"
   ]
  },
  {
   "cell_type": "code",
   "execution_count": 39,
   "id": "1aa27d96",
   "metadata": {
    "scrolled": true
   },
   "outputs": [
    {
     "data": {
      "text/plain": [
       "title                  object\n",
       "series                 object\n",
       "author                 object\n",
       "rating                float64\n",
       "description            object\n",
       "language               object\n",
       "isbn                   object\n",
       "genres                 object\n",
       "characters             object\n",
       "book_format            object\n",
       "edition                object\n",
       "pages                  object\n",
       "publisher              object\n",
       "publish_date           object\n",
       "first_publish_date     object\n",
       "awards                 object\n",
       "num_ratings             int64\n",
       "rating_by_stars        object\n",
       "liked_perc            float64\n",
       "setting                object\n",
       "bbe_score               int64\n",
       "bbe_votes               int64\n",
       "price                  object\n",
       "dtype: object"
      ]
     },
     "execution_count": 39,
     "metadata": {},
     "output_type": "execute_result"
    }
   ],
   "source": [
    "gr_data.dtypes "
   ]
  },
  {
   "cell_type": "code",
   "execution_count": 44,
   "id": "e00d7b52",
   "metadata": {},
   "outputs": [],
   "source": [
    "#publish_date first_publish_date #\n",
    "# Converting object columns to numerical\n",
    "gr_data['pages'] = pd.to_numeric(gr_data['pages'], errors = 'coerce')\n",
    "gr_data['price'] = pd.to_numeric(gr_data['price'], errors = 'coerce')\n",
    "\n",
    "# Converting object columns to datetime\n",
    "#gr_data['publish_date'] = pd.to_datetime(gr_data['publish_date'])\n",
    "#gr_data['first_publish_date'] = pd.to_datetime(gr_data['first_publish_date'])\n"
   ]
  },
  {
   "cell_type": "code",
   "execution_count": 46,
   "id": "555086c1",
   "metadata": {},
   "outputs": [
    {
     "data": {
      "text/plain": [
       "0        ['3444695', '1921313', '745221', '171994', '93...\n",
       "1        ['1593642', '637516', '222366', '39573', '14526']\n",
       "2        ['2363896', '1333153', '573280', '149952', '80...\n",
       "3        ['1617567', '816659', '373311', '113934', '767...\n",
       "4        ['1751460', '1113682', '1008686', '542017', '5...\n",
       "                               ...                        \n",
       "52473                    ['311', '310', '197', '42', '11']\n",
       "52474                          ['16', '14', '5', '2', '0']\n",
       "52475               ['2109', '1868', '1660', '647', '390']\n",
       "52476                        ['77', '78', '59', '19', '5']\n",
       "52477                       ['106', '73', '42', '17', '8']\n",
       "Name: rating_by_stars, Length: 52428, dtype: object"
      ]
     },
     "execution_count": 46,
     "metadata": {},
     "output_type": "execute_result"
    }
   ],
   "source": [
    "# Number of ratings by stars (from 5 to 1 star)\n",
    "gr_data['rating_by_stars']"
   ]
  },
  {
   "cell_type": "code",
   "execution_count": 58,
   "id": "9ced2a6a",
   "metadata": {},
   "outputs": [
    {
     "data": {
      "text/plain": [
       "\"['3444695', '1921313', '745221', '171994', '93557']\""
      ]
     },
     "execution_count": 58,
     "metadata": {},
     "output_type": "execute_result"
    }
   ],
   "source": [
    "#gr_data['rating_by_stars'][0]\n",
    "values = gr_data['rating_by_stars'].explode().tolist()\n",
    "values[0]"
   ]
  },
  {
   "cell_type": "code",
   "execution_count": null,
   "id": "2b2e6c7c",
   "metadata": {},
   "outputs": [],
   "source": [
    "for rat in gr_data['rating_by_stars']:\n",
    "    \n",
    "    num_star = 5\n",
    "    while num_star >= 1:\n",
    "        gr_data[num_star + 'stars'] = gr_data['ratinf']\n",
    "        \n",
    "    "
   ]
  }
 ],
 "metadata": {
  "kernelspec": {
   "display_name": "Python 3 (ipykernel)",
   "language": "python",
   "name": "python3"
  },
  "language_info": {
   "codemirror_mode": {
    "name": "ipython",
    "version": 3
   },
   "file_extension": ".py",
   "mimetype": "text/x-python",
   "name": "python",
   "nbconvert_exporter": "python",
   "pygments_lexer": "ipython3",
   "version": "3.9.13"
  }
 },
 "nbformat": 4,
 "nbformat_minor": 5
}
