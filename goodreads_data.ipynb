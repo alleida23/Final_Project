{
 "cells": [
  {
   "cell_type": "code",
   "execution_count": 1,
   "id": "0dbd9a5c",
   "metadata": {},
   "outputs": [],
   "source": [
    "import pandas as pd\n",
    "import numpy as np\n"
   ]
  },
  {
   "cell_type": "code",
   "execution_count": 2,
   "id": "149928a6",
   "metadata": {
    "scrolled": true
   },
   "outputs": [
    {
     "data": {
      "text/html": [
       "<div>\n",
       "<style scoped>\n",
       "    .dataframe tbody tr th:only-of-type {\n",
       "        vertical-align: middle;\n",
       "    }\n",
       "\n",
       "    .dataframe tbody tr th {\n",
       "        vertical-align: top;\n",
       "    }\n",
       "\n",
       "    .dataframe thead th {\n",
       "        text-align: right;\n",
       "    }\n",
       "</style>\n",
       "<table border=\"1\" class=\"dataframe\">\n",
       "  <thead>\n",
       "    <tr style=\"text-align: right;\">\n",
       "      <th></th>\n",
       "      <th>title</th>\n",
       "      <th>series</th>\n",
       "      <th>author</th>\n",
       "      <th>rating</th>\n",
       "      <th>description</th>\n",
       "      <th>language</th>\n",
       "      <th>isbn</th>\n",
       "      <th>genres</th>\n",
       "      <th>characters</th>\n",
       "      <th>bookFormat</th>\n",
       "      <th>edition</th>\n",
       "      <th>pages</th>\n",
       "      <th>publisher</th>\n",
       "      <th>publishDate</th>\n",
       "      <th>firstPublishDate</th>\n",
       "      <th>awards</th>\n",
       "      <th>numRatings</th>\n",
       "      <th>ratingsByStars</th>\n",
       "      <th>likedPercent</th>\n",
       "      <th>setting</th>\n",
       "      <th>bbeScore</th>\n",
       "      <th>bbeVotes</th>\n",
       "      <th>price</th>\n",
       "    </tr>\n",
       "  </thead>\n",
       "  <tbody>\n",
       "    <tr>\n",
       "      <th>0</th>\n",
       "      <td>The Hunger Games</td>\n",
       "      <td>The Hunger Games #1</td>\n",
       "      <td>Suzanne Collins</td>\n",
       "      <td>4.33</td>\n",
       "      <td>WINNING MEANS FAME AND FORTUNE.LOSING MEANS CE...</td>\n",
       "      <td>English</td>\n",
       "      <td>9.78044E+12</td>\n",
       "      <td>['Young Adult', 'Fiction', 'Dystopia', 'Fantas...</td>\n",
       "      <td>['Katniss Everdeen', 'Peeta Mellark', 'Cato (H...</td>\n",
       "      <td>Hardcover</td>\n",
       "      <td>First Edition</td>\n",
       "      <td>374</td>\n",
       "      <td>Scholastic Press</td>\n",
       "      <td>09/14/08</td>\n",
       "      <td>NaN</td>\n",
       "      <td>['Locus Award Nominee for Best Young Adult Boo...</td>\n",
       "      <td>6376780</td>\n",
       "      <td>['3444695', '1921313', '745221', '171994', '93...</td>\n",
       "      <td>96.0</td>\n",
       "      <td>['District 12, Panem', 'Capitol, Panem', 'Pane...</td>\n",
       "      <td>2993816</td>\n",
       "      <td>30516</td>\n",
       "      <td>5.09</td>\n",
       "    </tr>\n",
       "    <tr>\n",
       "      <th>1</th>\n",
       "      <td>Harry Potter and the Order of the Phoenix</td>\n",
       "      <td>Harry Potter #5</td>\n",
       "      <td>J.K. Rowling, Mary GrandPré (Illustrator)</td>\n",
       "      <td>4.50</td>\n",
       "      <td>There is a door at the end of a silent corrido...</td>\n",
       "      <td>English</td>\n",
       "      <td>9.78044E+12</td>\n",
       "      <td>['Fantasy', 'Young Adult', 'Fiction', 'Magic',...</td>\n",
       "      <td>['Sirius Black', 'Draco Malfoy', 'Ron Weasley'...</td>\n",
       "      <td>Paperback</td>\n",
       "      <td>US Edition</td>\n",
       "      <td>870</td>\n",
       "      <td>Scholastic Inc.</td>\n",
       "      <td>09/28/04</td>\n",
       "      <td>06/21/03</td>\n",
       "      <td>['Bram Stoker Award for Works for Young Reader...</td>\n",
       "      <td>2507623</td>\n",
       "      <td>['1593642', '637516', '222366', '39573', '14526']</td>\n",
       "      <td>98.0</td>\n",
       "      <td>['Hogwarts School of Witchcraft and Wizardry (...</td>\n",
       "      <td>2632233</td>\n",
       "      <td>26923</td>\n",
       "      <td>7.38</td>\n",
       "    </tr>\n",
       "    <tr>\n",
       "      <th>2</th>\n",
       "      <td>To Kill a Mockingbird</td>\n",
       "      <td>To Kill a Mockingbird</td>\n",
       "      <td>Harper Lee</td>\n",
       "      <td>4.28</td>\n",
       "      <td>The unforgettable novel of a childhood in a sl...</td>\n",
       "      <td>English</td>\n",
       "      <td>1E+13</td>\n",
       "      <td>['Classics', 'Fiction', 'Historical Fiction', ...</td>\n",
       "      <td>['Scout Finch', 'Atticus Finch', 'Jem Finch', ...</td>\n",
       "      <td>Paperback</td>\n",
       "      <td>NaN</td>\n",
       "      <td>324</td>\n",
       "      <td>Harper Perennial Modern Classics</td>\n",
       "      <td>05/23/06</td>\n",
       "      <td>07-11-1960</td>\n",
       "      <td>['Pulitzer Prize for Fiction (1961)', 'Audie A...</td>\n",
       "      <td>4501075</td>\n",
       "      <td>['2363896', '1333153', '573280', '149952', '80...</td>\n",
       "      <td>95.0</td>\n",
       "      <td>['Maycomb, Alabama (United States)']</td>\n",
       "      <td>2269402</td>\n",
       "      <td>23328</td>\n",
       "      <td>NaN</td>\n",
       "    </tr>\n",
       "  </tbody>\n",
       "</table>\n",
       "</div>"
      ],
      "text/plain": [
       "                                       title                 series  \\\n",
       "0                           The Hunger Games    The Hunger Games #1   \n",
       "1  Harry Potter and the Order of the Phoenix        Harry Potter #5   \n",
       "2                      To Kill a Mockingbird  To Kill a Mockingbird   \n",
       "\n",
       "                                      author  rating  \\\n",
       "0                            Suzanne Collins    4.33   \n",
       "1  J.K. Rowling, Mary GrandPré (Illustrator)    4.50   \n",
       "2                                 Harper Lee    4.28   \n",
       "\n",
       "                                         description language         isbn  \\\n",
       "0  WINNING MEANS FAME AND FORTUNE.LOSING MEANS CE...  English  9.78044E+12   \n",
       "1  There is a door at the end of a silent corrido...  English  9.78044E+12   \n",
       "2  The unforgettable novel of a childhood in a sl...  English        1E+13   \n",
       "\n",
       "                                              genres  \\\n",
       "0  ['Young Adult', 'Fiction', 'Dystopia', 'Fantas...   \n",
       "1  ['Fantasy', 'Young Adult', 'Fiction', 'Magic',...   \n",
       "2  ['Classics', 'Fiction', 'Historical Fiction', ...   \n",
       "\n",
       "                                          characters bookFormat  \\\n",
       "0  ['Katniss Everdeen', 'Peeta Mellark', 'Cato (H...  Hardcover   \n",
       "1  ['Sirius Black', 'Draco Malfoy', 'Ron Weasley'...  Paperback   \n",
       "2  ['Scout Finch', 'Atticus Finch', 'Jem Finch', ...  Paperback   \n",
       "\n",
       "         edition pages                         publisher publishDate  \\\n",
       "0  First Edition   374                  Scholastic Press    09/14/08   \n",
       "1     US Edition   870                   Scholastic Inc.    09/28/04   \n",
       "2            NaN   324  Harper Perennial Modern Classics    05/23/06   \n",
       "\n",
       "  firstPublishDate                                             awards  \\\n",
       "0              NaN  ['Locus Award Nominee for Best Young Adult Boo...   \n",
       "1         06/21/03  ['Bram Stoker Award for Works for Young Reader...   \n",
       "2       07-11-1960  ['Pulitzer Prize for Fiction (1961)', 'Audie A...   \n",
       "\n",
       "   numRatings                                     ratingsByStars  \\\n",
       "0     6376780  ['3444695', '1921313', '745221', '171994', '93...   \n",
       "1     2507623  ['1593642', '637516', '222366', '39573', '14526']   \n",
       "2     4501075  ['2363896', '1333153', '573280', '149952', '80...   \n",
       "\n",
       "   likedPercent                                            setting  bbeScore  \\\n",
       "0          96.0  ['District 12, Panem', 'Capitol, Panem', 'Pane...   2993816   \n",
       "1          98.0  ['Hogwarts School of Witchcraft and Wizardry (...   2632233   \n",
       "2          95.0               ['Maycomb, Alabama (United States)']   2269402   \n",
       "\n",
       "   bbeVotes price  \n",
       "0     30516  5.09  \n",
       "1     26923  7.38  \n",
       "2     23328   NaN  "
      ]
     },
     "metadata": {},
     "output_type": "display_data"
    },
    {
     "data": {
      "text/plain": [
       "(52478, 23)"
      ]
     },
     "metadata": {},
     "output_type": "display_data"
    }
   ],
   "source": [
    "gr_data = pd.read_csv('./1. Original_df/GoodReads.Best_Books_Ever 2.csv')\n",
    "\n",
    "pd.set_option('display.max_columns', 30)\n",
    "display(gr_data.head(3), gr_data.shape)"
   ]
  },
  {
   "cell_type": "markdown",
   "id": "f54e33de",
   "metadata": {},
   "source": [
    "# Data Cleaning"
   ]
  },
  {
   "cell_type": "markdown",
   "id": "aba695c0",
   "metadata": {},
   "source": [
    "## Column Names\n"
   ]
  },
  {
   "cell_type": "code",
   "execution_count": 3,
   "id": "e9b35318",
   "metadata": {},
   "outputs": [
    {
     "data": {
      "text/plain": [
       "Index(['title', 'series', 'author', 'rating', 'description', 'language',\n",
       "       'isbn', 'genres', 'characters', 'bookformat', 'edition', 'pages',\n",
       "       'publisher', 'publishdate', 'firstpublishdate', 'awards', 'numratings',\n",
       "       'ratingsbystars', 'likedpercent', 'setting', 'bbescore', 'bbevotes',\n",
       "       'price'],\n",
       "      dtype='object')"
      ]
     },
     "execution_count": 3,
     "metadata": {},
     "output_type": "execute_result"
    }
   ],
   "source": [
    "# Names in lower case\n",
    "cols = []\n",
    "for c in gr_data.columns:\n",
    "    cols.append(c.lower())\n",
    "\n",
    "gr_data.columns = cols\n",
    "gr_data.columns"
   ]
  },
  {
   "cell_type": "code",
   "execution_count": 4,
   "id": "1c8bfc29",
   "metadata": {},
   "outputs": [
    {
     "data": {
      "text/plain": [
       "Index(['title', 'series', 'author', 'rating', 'description', 'language',\n",
       "       'isbn', 'genres', 'characters', 'book_format', 'edition', 'pages',\n",
       "       'publisher', 'publish_date', 'first_publish_date', 'awards',\n",
       "       'num_ratings', 'rating_by_stars', 'liked_perc', 'setting', 'bbe_score',\n",
       "       'bbe_votes', 'price'],\n",
       "      dtype='object')"
      ]
     },
     "execution_count": 4,
     "metadata": {},
     "output_type": "execute_result"
    }
   ],
   "source": [
    "# Renaming columns\n",
    "gr_data = gr_data.rename(columns={'bookformat':'book_format',\n",
    "                                 'publishdate':'publish_date',\n",
    "                                 'firstpublishdate':'first_publish_date',\n",
    "                                 'numratings':'num_ratings',\n",
    "                                 'ratingsbystars':'rating_by_stars',\n",
    "                                 'likedpercent': 'liked_perc',\n",
    "                                 'bbescore':'bbe_score',\n",
    "                                 'bbevotes':'bbe_votes'})\n",
    "\n",
    "gr_data.columns"
   ]
  },
  {
   "cell_type": "code",
   "execution_count": 5,
   "id": "848a5921",
   "metadata": {},
   "outputs": [
    {
     "data": {
      "text/html": [
       "<div>\n",
       "<style scoped>\n",
       "    .dataframe tbody tr th:only-of-type {\n",
       "        vertical-align: middle;\n",
       "    }\n",
       "\n",
       "    .dataframe tbody tr th {\n",
       "        vertical-align: top;\n",
       "    }\n",
       "\n",
       "    .dataframe thead th {\n",
       "        text-align: right;\n",
       "    }\n",
       "</style>\n",
       "<table border=\"1\" class=\"dataframe\">\n",
       "  <thead>\n",
       "    <tr style=\"text-align: right;\">\n",
       "      <th></th>\n",
       "      <th>title</th>\n",
       "      <th>series</th>\n",
       "      <th>author</th>\n",
       "      <th>rating</th>\n",
       "      <th>description</th>\n",
       "      <th>language</th>\n",
       "      <th>isbn</th>\n",
       "      <th>genres</th>\n",
       "      <th>characters</th>\n",
       "      <th>book_format</th>\n",
       "      <th>edition</th>\n",
       "      <th>pages</th>\n",
       "      <th>publisher</th>\n",
       "      <th>publish_date</th>\n",
       "      <th>first_publish_date</th>\n",
       "      <th>awards</th>\n",
       "      <th>num_ratings</th>\n",
       "      <th>rating_by_stars</th>\n",
       "      <th>liked_perc</th>\n",
       "      <th>setting</th>\n",
       "      <th>bbe_score</th>\n",
       "      <th>bbe_votes</th>\n",
       "      <th>price</th>\n",
       "    </tr>\n",
       "  </thead>\n",
       "  <tbody>\n",
       "    <tr>\n",
       "      <th>0</th>\n",
       "      <td>The Hunger Games</td>\n",
       "      <td>The Hunger Games #1</td>\n",
       "      <td>Suzanne Collins</td>\n",
       "      <td>4.33</td>\n",
       "      <td>WINNING MEANS FAME AND FORTUNE.LOSING MEANS CE...</td>\n",
       "      <td>English</td>\n",
       "      <td>9.78044E+12</td>\n",
       "      <td>['Young Adult', 'Fiction', 'Dystopia', 'Fantas...</td>\n",
       "      <td>['Katniss Everdeen', 'Peeta Mellark', 'Cato (H...</td>\n",
       "      <td>Hardcover</td>\n",
       "      <td>First Edition</td>\n",
       "      <td>374</td>\n",
       "      <td>Scholastic Press</td>\n",
       "      <td>09/14/08</td>\n",
       "      <td>NaN</td>\n",
       "      <td>['Locus Award Nominee for Best Young Adult Boo...</td>\n",
       "      <td>6376780</td>\n",
       "      <td>['3444695', '1921313', '745221', '171994', '93...</td>\n",
       "      <td>96.0</td>\n",
       "      <td>['District 12, Panem', 'Capitol, Panem', 'Pane...</td>\n",
       "      <td>2993816</td>\n",
       "      <td>30516</td>\n",
       "      <td>5.09</td>\n",
       "    </tr>\n",
       "  </tbody>\n",
       "</table>\n",
       "</div>"
      ],
      "text/plain": [
       "              title               series           author  rating  \\\n",
       "0  The Hunger Games  The Hunger Games #1  Suzanne Collins    4.33   \n",
       "\n",
       "                                         description language         isbn  \\\n",
       "0  WINNING MEANS FAME AND FORTUNE.LOSING MEANS CE...  English  9.78044E+12   \n",
       "\n",
       "                                              genres  \\\n",
       "0  ['Young Adult', 'Fiction', 'Dystopia', 'Fantas...   \n",
       "\n",
       "                                          characters book_format  \\\n",
       "0  ['Katniss Everdeen', 'Peeta Mellark', 'Cato (H...   Hardcover   \n",
       "\n",
       "         edition pages         publisher publish_date first_publish_date  \\\n",
       "0  First Edition   374  Scholastic Press     09/14/08                NaN   \n",
       "\n",
       "                                              awards  num_ratings  \\\n",
       "0  ['Locus Award Nominee for Best Young Adult Boo...      6376780   \n",
       "\n",
       "                                     rating_by_stars  liked_perc  \\\n",
       "0  ['3444695', '1921313', '745221', '171994', '93...        96.0   \n",
       "\n",
       "                                             setting  bbe_score  bbe_votes  \\\n",
       "0  ['District 12, Panem', 'Capitol, Panem', 'Pane...    2993816      30516   \n",
       "\n",
       "  price  \n",
       "0  5.09  "
      ]
     },
     "execution_count": 5,
     "metadata": {},
     "output_type": "execute_result"
    }
   ],
   "source": [
    "pd.set_option('display.max_columns', 30)\n",
    "gr_data.head(1)"
   ]
  },
  {
   "cell_type": "markdown",
   "id": "e5c50d7c",
   "metadata": {},
   "source": [
    "## Column types"
   ]
  },
  {
   "cell_type": "code",
   "execution_count": 6,
   "id": "1aa27d96",
   "metadata": {
    "scrolled": true
   },
   "outputs": [
    {
     "data": {
      "text/plain": [
       "title                  object\n",
       "series                 object\n",
       "author                 object\n",
       "rating                float64\n",
       "description            object\n",
       "language               object\n",
       "isbn                   object\n",
       "genres                 object\n",
       "characters             object\n",
       "book_format            object\n",
       "edition                object\n",
       "pages                  object\n",
       "publisher              object\n",
       "publish_date           object\n",
       "first_publish_date     object\n",
       "awards                 object\n",
       "num_ratings             int64\n",
       "rating_by_stars        object\n",
       "liked_perc            float64\n",
       "setting                object\n",
       "bbe_score               int64\n",
       "bbe_votes               int64\n",
       "price                  object\n",
       "dtype: object"
      ]
     },
     "execution_count": 6,
     "metadata": {},
     "output_type": "execute_result"
    }
   ],
   "source": [
    "gr_data.dtypes "
   ]
  },
  {
   "cell_type": "code",
   "execution_count": 7,
   "id": "e00d7b52",
   "metadata": {},
   "outputs": [],
   "source": [
    "#publish_date first_publish_date #\n",
    "# Converting object columns to numerical\n",
    "gr_data['pages'] = pd.to_numeric(gr_data['pages'], errors = 'coerce')\n",
    "gr_data['price'] = pd.to_numeric(gr_data['price'], errors = 'coerce')\n",
    "\n",
    "# Converting object columns to datetime\n",
    "#gr_data['publish_date'] = pd.to_datetime(gr_data['publish_date'])\n",
    "#gr_data['first_publish_date'] = pd.to_datetime(gr_data['first_publish_date'])\n"
   ]
  },
  {
   "cell_type": "markdown",
   "id": "37fd9e6a",
   "metadata": {},
   "source": [
    "## Dealing with each column"
   ]
  },
  {
   "cell_type": "code",
   "execution_count": 8,
   "id": "8f5975c2",
   "metadata": {},
   "outputs": [
    {
     "data": {
      "text/plain": [
       "Index(['title', 'series', 'author', 'rating', 'description', 'language',\n",
       "       'isbn', 'genres', 'characters', 'book_format', 'edition', 'pages',\n",
       "       'publisher', 'publish_date', 'first_publish_date', 'awards',\n",
       "       'num_ratings', 'rating_by_stars', 'liked_perc', 'setting', 'bbe_score',\n",
       "       'bbe_votes', 'price'],\n",
       "      dtype='object')"
      ]
     },
     "execution_count": 8,
     "metadata": {},
     "output_type": "execute_result"
    }
   ],
   "source": [
    "gr_data.columns"
   ]
  },
  {
   "cell_type": "markdown",
   "id": "061e3331",
   "metadata": {},
   "source": [
    "### Author"
   ]
  },
  {
   "cell_type": "code",
   "execution_count": 9,
   "id": "7c20b066",
   "metadata": {},
   "outputs": [
    {
     "data": {
      "text/plain": [
       "0                                       Suzanne Collins\n",
       "1             J.K. Rowling, Mary GrandPré (Illustrator)\n",
       "2                                            Harper Lee\n",
       "3             Jane Austen, Anna Quindlen (Introduction)\n",
       "4                                       Stephenie Meyer\n",
       "5                       Markus Zusak (Goodreads Author)\n",
       "6     George Orwell, Russell Baker (Preface), C.M. W...\n",
       "7              C.S. Lewis, Pauline Baynes (Illustrator)\n",
       "8                                        J.R.R. Tolkien\n",
       "9                                     Margaret Mitchell\n",
       "10                        John Green (Goodreads Author)\n",
       "11                                        Douglas Adams\n",
       "12                                     Shel Silverstein\n",
       "13    Emily Brontë, Richard J. Dunn (Editor), David ...\n",
       "14                         Dan Brown (Goodreads Author)\n",
       "15                                        Arthur Golden\n",
       "16        Oscar Wilde, Jeffrey Eugenides (Introduction)\n",
       "17    Lewis Carroll, John Tenniel (Illustrator), Mar...\n",
       "18    Charlotte Brontë, Michael Mason (Editor), Barn...\n",
       "19    Victor Hugo, Lee Fahnestock (Translator), Norm...\n",
       "Name: author, dtype: object"
      ]
     },
     "execution_count": 9,
     "metadata": {},
     "output_type": "execute_result"
    }
   ],
   "source": [
    "gr_data['author'].head(20)"
   ]
  },
  {
   "cell_type": "code",
   "execution_count": 10,
   "id": "2152bd27",
   "metadata": {},
   "outputs": [],
   "source": [
    "import re\n",
    "\n",
    "# Extract author name and collaborators\n",
    "gr_data['author'] = gr_data['author'].astype(str)\n",
    "# Add to new 'other collabs' columns all names after the first ',' or '(' (before it's the writer)\n",
    "gr_data['other_collabs'] = gr_data['author'].apply(lambda x: ', '.join(re.split(',|\\(|:', x)[1:]).strip())\n",
    "gr_data['author'] = gr_data['author'].apply(lambda x: re.split(',|\\(|:', x)[0].strip())\n"
   ]
  },
  {
   "cell_type": "code",
   "execution_count": 11,
   "id": "a8128ecb",
   "metadata": {},
   "outputs": [
    {
     "data": {
      "text/html": [
       "<div>\n",
       "<style scoped>\n",
       "    .dataframe tbody tr th:only-of-type {\n",
       "        vertical-align: middle;\n",
       "    }\n",
       "\n",
       "    .dataframe tbody tr th {\n",
       "        vertical-align: top;\n",
       "    }\n",
       "\n",
       "    .dataframe thead th {\n",
       "        text-align: right;\n",
       "    }\n",
       "</style>\n",
       "<table border=\"1\" class=\"dataframe\">\n",
       "  <thead>\n",
       "    <tr style=\"text-align: right;\">\n",
       "      <th></th>\n",
       "      <th>author</th>\n",
       "      <th>other_collabs</th>\n",
       "    </tr>\n",
       "  </thead>\n",
       "  <tbody>\n",
       "    <tr>\n",
       "      <th>0</th>\n",
       "      <td>Suzanne Collins</td>\n",
       "      <td></td>\n",
       "    </tr>\n",
       "    <tr>\n",
       "      <th>1</th>\n",
       "      <td>J.K. Rowling</td>\n",
       "      <td>Mary GrandPré , Illustrator)</td>\n",
       "    </tr>\n",
       "    <tr>\n",
       "      <th>2</th>\n",
       "      <td>Harper Lee</td>\n",
       "      <td></td>\n",
       "    </tr>\n",
       "    <tr>\n",
       "      <th>3</th>\n",
       "      <td>Jane Austen</td>\n",
       "      <td>Anna Quindlen , Introduction)</td>\n",
       "    </tr>\n",
       "    <tr>\n",
       "      <th>4</th>\n",
       "      <td>Stephenie Meyer</td>\n",
       "      <td></td>\n",
       "    </tr>\n",
       "    <tr>\n",
       "      <th>5</th>\n",
       "      <td>Markus Zusak</td>\n",
       "      <td>Goodreads Author)</td>\n",
       "    </tr>\n",
       "    <tr>\n",
       "      <th>6</th>\n",
       "      <td>George Orwell</td>\n",
       "      <td>Russell Baker , Preface),  C.M. Woodhouse , In...</td>\n",
       "    </tr>\n",
       "    <tr>\n",
       "      <th>7</th>\n",
       "      <td>C.S. Lewis</td>\n",
       "      <td>Pauline Baynes , Illustrator)</td>\n",
       "    </tr>\n",
       "    <tr>\n",
       "      <th>8</th>\n",
       "      <td>J.R.R. Tolkien</td>\n",
       "      <td></td>\n",
       "    </tr>\n",
       "    <tr>\n",
       "      <th>9</th>\n",
       "      <td>Margaret Mitchell</td>\n",
       "      <td></td>\n",
       "    </tr>\n",
       "    <tr>\n",
       "      <th>10</th>\n",
       "      <td>John Green</td>\n",
       "      <td>Goodreads Author)</td>\n",
       "    </tr>\n",
       "    <tr>\n",
       "      <th>11</th>\n",
       "      <td>Douglas Adams</td>\n",
       "      <td></td>\n",
       "    </tr>\n",
       "    <tr>\n",
       "      <th>12</th>\n",
       "      <td>Shel Silverstein</td>\n",
       "      <td></td>\n",
       "    </tr>\n",
       "    <tr>\n",
       "      <th>13</th>\n",
       "      <td>Emily Brontë</td>\n",
       "      <td>Richard J. Dunn , Editor),  David Timson , Nar...</td>\n",
       "    </tr>\n",
       "    <tr>\n",
       "      <th>14</th>\n",
       "      <td>Dan Brown</td>\n",
       "      <td>Goodreads Author)</td>\n",
       "    </tr>\n",
       "    <tr>\n",
       "      <th>15</th>\n",
       "      <td>Arthur Golden</td>\n",
       "      <td></td>\n",
       "    </tr>\n",
       "    <tr>\n",
       "      <th>16</th>\n",
       "      <td>Oscar Wilde</td>\n",
       "      <td>Jeffrey Eugenides , Introduction)</td>\n",
       "    </tr>\n",
       "    <tr>\n",
       "      <th>17</th>\n",
       "      <td>Lewis Carroll</td>\n",
       "      <td>John Tenniel , Illustrator),  Martin Gardner ,...</td>\n",
       "    </tr>\n",
       "    <tr>\n",
       "      <th>18</th>\n",
       "      <td>Charlotte Brontë</td>\n",
       "      <td>Michael Mason , Editor),  Barnett Freedman , I...</td>\n",
       "    </tr>\n",
       "    <tr>\n",
       "      <th>19</th>\n",
       "      <td>Victor Hugo</td>\n",
       "      <td>Lee Fahnestock , Translator),  Norman MacAfee ...</td>\n",
       "    </tr>\n",
       "  </tbody>\n",
       "</table>\n",
       "</div>"
      ],
      "text/plain": [
       "               author                                      other_collabs\n",
       "0     Suzanne Collins                                                   \n",
       "1        J.K. Rowling                       Mary GrandPré , Illustrator)\n",
       "2          Harper Lee                                                   \n",
       "3         Jane Austen                      Anna Quindlen , Introduction)\n",
       "4     Stephenie Meyer                                                   \n",
       "5        Markus Zusak                                  Goodreads Author)\n",
       "6       George Orwell  Russell Baker , Preface),  C.M. Woodhouse , In...\n",
       "7          C.S. Lewis                      Pauline Baynes , Illustrator)\n",
       "8      J.R.R. Tolkien                                                   \n",
       "9   Margaret Mitchell                                                   \n",
       "10         John Green                                  Goodreads Author)\n",
       "11      Douglas Adams                                                   \n",
       "12   Shel Silverstein                                                   \n",
       "13       Emily Brontë  Richard J. Dunn , Editor),  David Timson , Nar...\n",
       "14          Dan Brown                                  Goodreads Author)\n",
       "15      Arthur Golden                                                   \n",
       "16        Oscar Wilde                  Jeffrey Eugenides , Introduction)\n",
       "17      Lewis Carroll  John Tenniel , Illustrator),  Martin Gardner ,...\n",
       "18   Charlotte Brontë  Michael Mason , Editor),  Barnett Freedman , I...\n",
       "19        Victor Hugo  Lee Fahnestock , Translator),  Norman MacAfee ..."
      ]
     },
     "execution_count": 11,
     "metadata": {},
     "output_type": "execute_result"
    }
   ],
   "source": [
    "# Check result\n",
    "gr_data[['author','other_collabs']].head(20)"
   ]
  },
  {
   "cell_type": "code",
   "execution_count": 12,
   "id": "b2c0483f",
   "metadata": {},
   "outputs": [
    {
     "data": {
      "text/plain": [
       "James Patterson    97\n",
       "Nora Roberts       94\n",
       "Stephen King       94\n",
       "Agatha Christie    84\n",
       "Erin Hunter        81\n",
       "                   ..\n",
       "Adele Westbrook     1\n",
       "Clara Ng            1\n",
       "Maria Krüger        1\n",
       "Scott Thomas        1\n",
       "Misty Moncur        1\n",
       "Name: author, Length: 23196, dtype: int64"
      ]
     },
     "execution_count": 12,
     "metadata": {},
     "output_type": "execute_result"
    }
   ],
   "source": [
    "gr_data['author'].value_counts()"
   ]
  },
  {
   "cell_type": "code",
   "execution_count": 13,
   "id": "6839d21d",
   "metadata": {},
   "outputs": [
    {
     "data": {
      "text/plain": [
       "23196"
      ]
     },
     "execution_count": 13,
     "metadata": {},
     "output_type": "execute_result"
    }
   ],
   "source": [
    "gr_data['author'].nunique()"
   ]
  },
  {
   "cell_type": "code",
   "execution_count": 14,
   "id": "7d2e2a0e",
   "metadata": {},
   "outputs": [
    {
     "data": {
      "text/plain": [
       "Index(['title', 'series', 'author', 'rating', 'description', 'language',\n",
       "       'isbn', 'genres', 'characters', 'book_format', 'edition', 'pages',\n",
       "       'publisher', 'publish_date', 'first_publish_date', 'awards',\n",
       "       'num_ratings', 'rating_by_stars', 'liked_perc', 'setting', 'bbe_score',\n",
       "       'bbe_votes', 'price', 'other_collabs'],\n",
       "      dtype='object')"
      ]
     },
     "execution_count": 14,
     "metadata": {},
     "output_type": "execute_result"
    }
   ],
   "source": [
    "gr_data.columns"
   ]
  },
  {
   "cell_type": "markdown",
   "id": "f24c4342",
   "metadata": {},
   "source": [
    "### Rating"
   ]
  },
  {
   "cell_type": "code",
   "execution_count": 15,
   "id": "899c953e",
   "metadata": {},
   "outputs": [
    {
     "data": {
      "text/plain": [
       "50    4.22\n",
       "51    4.30\n",
       "52    3.77\n",
       "53    3.91\n",
       "54    3.85\n",
       "55    4.09\n",
       "56    3.89\n",
       "57    4.08\n",
       "58    3.81\n",
       "59    4.30\n",
       "Name: rating, dtype: float64"
      ]
     },
     "execution_count": 15,
     "metadata": {},
     "output_type": "execute_result"
    }
   ],
   "source": [
    "# Float values\n",
    "gr_data['rating'][50:60]"
   ]
  },
  {
   "cell_type": "code",
   "execution_count": 16,
   "id": "f374529f",
   "metadata": {},
   "outputs": [
    {
     "data": {
      "text/plain": [
       "4.00    923\n",
       "5.00    853\n",
       "4.17    727\n",
       "4.06    709\n",
       "4.05    703\n",
       "       ... \n",
       "2.84      1\n",
       "2.39      1\n",
       "1.92      1\n",
       "1.99      1\n",
       "2.25      1\n",
       "Name: rating, Length: 261, dtype: int64"
      ]
     },
     "execution_count": 16,
     "metadata": {},
     "output_type": "execute_result"
    }
   ],
   "source": [
    "# Checking values\n",
    "gr_data['rating'].value_counts(dropna=False)"
   ]
  },
  {
   "cell_type": "code",
   "execution_count": 17,
   "id": "3ed03a89",
   "metadata": {},
   "outputs": [
    {
     "data": {
      "text/plain": [
       "count    52478.000000\n",
       "mean         4.021878\n",
       "std          0.367146\n",
       "min          0.000000\n",
       "25%          3.820000\n",
       "50%          4.030000\n",
       "75%          4.230000\n",
       "max          5.000000\n",
       "Name: rating, dtype: float64"
      ]
     },
     "execution_count": 17,
     "metadata": {},
     "output_type": "execute_result"
    }
   ],
   "source": [
    "# Minimum rating 0 and maximum 5\n",
    "gr_data['rating'].describe()"
   ]
  },
  {
   "cell_type": "markdown",
   "id": "419055ae",
   "metadata": {},
   "source": [
    "### Description"
   ]
  },
  {
   "cell_type": "code",
   "execution_count": 18,
   "id": "1203cc96",
   "metadata": {},
   "outputs": [
    {
     "data": {
      "text/plain": [
       "0     WINNING MEANS FAME AND FORTUNE.LOSING MEANS CE...\n",
       "1     There is a door at the end of a silent corrido...\n",
       "2     The unforgettable novel of a childhood in a sl...\n",
       "3     Alternate cover edition of ISBN 9780679783268S...\n",
       "4     About three things I was absolutely positive.\\...\n",
       "5     Librarian's note: An alternate cover edition c...\n",
       "6     Librarian's note: There is an Alternate Cover ...\n",
       "7     Journeys to the end of the world, fantastic cr...\n",
       "8     This four-volume, boxed set contains J.R.R. To...\n",
       "9     Scarlett O'Hara, the beautiful, spoiled daught...\n",
       "10    Despite the tumor-shrinking medical miracle th...\n",
       "11    Seconds before the Earth is demolished to make...\n",
       "12    \"Once there was a tree...and she loved a littl...\n",
       "13    You can find the redesigned cover of this edit...\n",
       "14    ISBN 9780307277671 moved to this edition.While...\n",
       "15    A literary sensation and runaway bestseller, t...\n",
       "16    Written in his distinctively dazzling manner, ...\n",
       "17    \"I can't explain myself, I'm afraid, sir,\" sai...\n",
       "18    Orphaned as a child, Jane has felt an outcast ...\n",
       "19    Introducing one of the most famous characters ...\n",
       "Name: description, dtype: object"
      ]
     },
     "execution_count": 18,
     "metadata": {},
     "output_type": "execute_result"
    }
   ],
   "source": [
    "gr_data['description'].head(20)"
   ]
  },
  {
   "cell_type": "code",
   "execution_count": 19,
   "id": "6388bf64",
   "metadata": {},
   "outputs": [
    {
     "data": {
      "text/plain": [
       "'ISBN 9780307277671 moved to this edition.While in Paris, Harvard symbologist Robert Langdon is awakened by a phone call in the dead of the night. The elderly curator of the Louvre has been murdered inside the museum, his body covered in baffling symbols. As Langdon and gifted French cryptologist Sophie Neveu sort through the bizarre riddles, they are stunned to discover a trail of clues hidden in the works of Leonardo da Vinci—clues visible for all to see and yet ingeniously disguised by the painter.Even more startling, the late curator was involved in the Priory of Sion—a secret society whose members included Sir Isaac Newton, Victor Hugo, and Da Vinci—and he guarded a breathtaking historical secret. Unless Langdon and Neveu can decipher the labyrinthine puzzle—while avoiding the faceless adversary who shadows their every move—the explosive, ancient truth will be lost forever.'"
      ]
     },
     "execution_count": 19,
     "metadata": {},
     "output_type": "execute_result"
    }
   ],
   "source": [
    "gr_data['description'][14]"
   ]
  },
  {
   "cell_type": "code",
   "execution_count": 20,
   "id": "56f6aa85",
   "metadata": {},
   "outputs": [
    {
     "data": {
      "text/html": [
       "<div>\n",
       "<style scoped>\n",
       "    .dataframe tbody tr th:only-of-type {\n",
       "        vertical-align: middle;\n",
       "    }\n",
       "\n",
       "    .dataframe tbody tr th {\n",
       "        vertical-align: top;\n",
       "    }\n",
       "\n",
       "    .dataframe thead th {\n",
       "        text-align: right;\n",
       "    }\n",
       "</style>\n",
       "<table border=\"1\" class=\"dataframe\">\n",
       "  <thead>\n",
       "    <tr style=\"text-align: right;\">\n",
       "      <th></th>\n",
       "      <th>title</th>\n",
       "      <th>series</th>\n",
       "      <th>author</th>\n",
       "      <th>rating</th>\n",
       "      <th>description</th>\n",
       "      <th>language</th>\n",
       "      <th>isbn</th>\n",
       "      <th>genres</th>\n",
       "      <th>characters</th>\n",
       "      <th>book_format</th>\n",
       "      <th>edition</th>\n",
       "      <th>pages</th>\n",
       "      <th>publisher</th>\n",
       "      <th>publish_date</th>\n",
       "      <th>first_publish_date</th>\n",
       "      <th>awards</th>\n",
       "      <th>num_ratings</th>\n",
       "      <th>rating_by_stars</th>\n",
       "      <th>liked_perc</th>\n",
       "      <th>setting</th>\n",
       "      <th>bbe_score</th>\n",
       "      <th>bbe_votes</th>\n",
       "      <th>price</th>\n",
       "      <th>other_collabs</th>\n",
       "    </tr>\n",
       "  </thead>\n",
       "  <tbody>\n",
       "    <tr>\n",
       "      <th>291</th>\n",
       "      <td>Leaves of Grass</td>\n",
       "      <td>NaN</td>\n",
       "      <td>Walt Whitman</td>\n",
       "      <td>4.12</td>\n",
       "      <td>NaN</td>\n",
       "      <td>English</td>\n",
       "      <td>1E+13</td>\n",
       "      <td>['Poetry', 'Classics', 'Fiction', 'Literature'...</td>\n",
       "      <td>[]</td>\n",
       "      <td>Paperback</td>\n",
       "      <td>NaN</td>\n",
       "      <td>624.0</td>\n",
       "      <td>Simon Schuster</td>\n",
       "      <td>08-01-2006</td>\n",
       "      <td>10/28/92</td>\n",
       "      <td>[]</td>\n",
       "      <td>89814</td>\n",
       "      <td>['40667', '27858', '14878', '4260', '2151']</td>\n",
       "      <td>93.0</td>\n",
       "      <td>['New York City, New York (United States)', 'W...</td>\n",
       "      <td>43537</td>\n",
       "      <td>591</td>\n",
       "      <td>NaN</td>\n",
       "      <td></td>\n",
       "    </tr>\n",
       "    <tr>\n",
       "      <th>680</th>\n",
       "      <td>Howl and Other Poems</td>\n",
       "      <td>NaN</td>\n",
       "      <td>Allen Ginsberg</td>\n",
       "      <td>4.13</td>\n",
       "      <td>NaN</td>\n",
       "      <td>English</td>\n",
       "      <td>9.78087E+12</td>\n",
       "      <td>['Poetry', 'Classics', 'Fiction', 'American', ...</td>\n",
       "      <td>[]</td>\n",
       "      <td>Hardcover</td>\n",
       "      <td>NaN</td>\n",
       "      <td>56.0</td>\n",
       "      <td>City Lights</td>\n",
       "      <td>01-01-2001</td>\n",
       "      <td>10/28/56</td>\n",
       "      <td>[]</td>\n",
       "      <td>93609</td>\n",
       "      <td>['42231', '29693', '15146', '4295', '2244']</td>\n",
       "      <td>93.0</td>\n",
       "      <td>['United States of America']</td>\n",
       "      <td>11078</td>\n",
       "      <td>157</td>\n",
       "      <td>10.53</td>\n",
       "      <td>William Carlos Williams , Introduction)</td>\n",
       "    </tr>\n",
       "    <tr>\n",
       "      <th>683</th>\n",
       "      <td>The Book of Mormon: Another Testament of Jesus...</td>\n",
       "      <td>NaN</td>\n",
       "      <td>Joseph Smith Jr.</td>\n",
       "      <td>4.34</td>\n",
       "      <td>NaN</td>\n",
       "      <td>English</td>\n",
       "      <td>9.78097E+12</td>\n",
       "      <td>['Religion', 'Nonfiction', 'Lds', 'Church', 'S...</td>\n",
       "      <td>[]</td>\n",
       "      <td>Paperback</td>\n",
       "      <td>2013 Edition</td>\n",
       "      <td>531.0</td>\n",
       "      <td>The Church of Jesus Christ of Latter-day Saints</td>\n",
       "      <td>10/28/13</td>\n",
       "      <td>03-01-1930</td>\n",
       "      <td>[]</td>\n",
       "      <td>75222</td>\n",
       "      <td>['58923', '2290', '2811', '2934', '8264']</td>\n",
       "      <td>85.0</td>\n",
       "      <td>[]</td>\n",
       "      <td>11029</td>\n",
       "      <td>121</td>\n",
       "      <td>2.90</td>\n",
       "      <td>Translator)</td>\n",
       "    </tr>\n",
       "  </tbody>\n",
       "</table>\n",
       "</div>"
      ],
      "text/plain": [
       "                                                 title series  \\\n",
       "291                                    Leaves of Grass    NaN   \n",
       "680                               Howl and Other Poems    NaN   \n",
       "683  The Book of Mormon: Another Testament of Jesus...    NaN   \n",
       "\n",
       "               author  rating description language         isbn  \\\n",
       "291      Walt Whitman    4.12         NaN  English        1E+13   \n",
       "680    Allen Ginsberg    4.13         NaN  English  9.78087E+12   \n",
       "683  Joseph Smith Jr.    4.34         NaN  English  9.78097E+12   \n",
       "\n",
       "                                                genres characters book_format  \\\n",
       "291  ['Poetry', 'Classics', 'Fiction', 'Literature'...         []   Paperback   \n",
       "680  ['Poetry', 'Classics', 'Fiction', 'American', ...         []   Hardcover   \n",
       "683  ['Religion', 'Nonfiction', 'Lds', 'Church', 'S...         []   Paperback   \n",
       "\n",
       "          edition  pages                                        publisher  \\\n",
       "291           NaN  624.0                                   Simon Schuster   \n",
       "680           NaN   56.0                                      City Lights   \n",
       "683  2013 Edition  531.0  The Church of Jesus Christ of Latter-day Saints   \n",
       "\n",
       "    publish_date first_publish_date awards  num_ratings  \\\n",
       "291   08-01-2006           10/28/92     []        89814   \n",
       "680   01-01-2001           10/28/56     []        93609   \n",
       "683     10/28/13         03-01-1930     []        75222   \n",
       "\n",
       "                                 rating_by_stars  liked_perc  \\\n",
       "291  ['40667', '27858', '14878', '4260', '2151']        93.0   \n",
       "680  ['42231', '29693', '15146', '4295', '2244']        93.0   \n",
       "683    ['58923', '2290', '2811', '2934', '8264']        85.0   \n",
       "\n",
       "                                               setting  bbe_score  bbe_votes  \\\n",
       "291  ['New York City, New York (United States)', 'W...      43537        591   \n",
       "680                       ['United States of America']      11078        157   \n",
       "683                                                 []      11029        121   \n",
       "\n",
       "     price                            other_collabs  \n",
       "291    NaN                                           \n",
       "680  10.53  William Carlos Williams , Introduction)  \n",
       "683   2.90                              Translator)  "
      ]
     },
     "metadata": {},
     "output_type": "display_data"
    },
    {
     "data": {
      "text/plain": [
       "(1338, 24)"
      ]
     },
     "metadata": {},
     "output_type": "display_data"
    }
   ],
   "source": [
    "# Checking NaN values (no description)\n",
    "nan_descr = gr_data[gr_data['description'].isna()]\n",
    "display(nan_descr.head(3), nan_descr.shape)"
   ]
  },
  {
   "cell_type": "markdown",
   "id": "70f39327",
   "metadata": {},
   "source": [
    "### Language"
   ]
  },
  {
   "cell_type": "code",
   "execution_count": 21,
   "id": "d8126f71",
   "metadata": {},
   "outputs": [
    {
     "data": {
      "text/plain": [
       "array(['English', 'French', 'German', 'Persian', 'Arabic', nan, 'Spanish',\n",
       "       'Multiple languages', 'Portuguese', 'Indonesian', 'Turkish',\n",
       "       'Polish', 'Bulgarian', 'Tamil', 'Japanese', 'Romanian', 'Italian',\n",
       "       'French, Middle (ca.1400-1600)', 'Norwegian', 'Urdu', 'Dutch',\n",
       "       'Finnish', 'Marathi', 'Chinese', 'Swedish', 'Icelandic',\n",
       "       'Malayalam', 'Croatian', 'Estonian', 'Greek, Modern (1453-)',\n",
       "       'Russian', 'Kurdish', 'Danish', 'Hindi', 'Filipino; Pilipino',\n",
       "       'Serbian', 'Bengali', 'Malay', 'Catalan; Valencian', 'Czech',\n",
       "       'Vietnamese', 'Armenian', 'Georgian', 'Kannada', 'Korean',\n",
       "       'Nepali', 'Slovak', 'Telugu', 'Hungarian',\n",
       "       'English, Middle (1100-1500)', 'Azerbaijani', 'Farsi',\n",
       "       'Lithuanian', 'Ukrainian', 'Bokmål, Norwegian; Norwegian Bokmål',\n",
       "       'Iranian (Other)', 'Faroese', 'Basque', 'Macedonian', 'Maltese',\n",
       "       'Gujarati', 'Amharic', 'Aromanian; Arumanian; Macedo-Romanian',\n",
       "       'Assamese', 'Panjabi; Punjabi', 'Albanian', 'Latvian', 'Bosnian',\n",
       "       'Afrikaans', 'Thai', 'Dutch, Middle (ca.1050-1350)', 'Mongolian',\n",
       "       'Tagalog', 'Galician', 'Aleut', 'Slovenian', 'Undetermined',\n",
       "       'Greek, Ancient (to 1453)', 'Mayan languages', 'Duala',\n",
       "       'Australian languages', 'Norwegian Nynorsk; Nynorsk, Norwegian'],\n",
       "      dtype=object)"
      ]
     },
     "execution_count": 21,
     "metadata": {},
     "output_type": "execute_result"
    }
   ],
   "source": [
    "gr_data['language'].unique()"
   ]
  },
  {
   "cell_type": "code",
   "execution_count": 22,
   "id": "38d0ca59",
   "metadata": {},
   "outputs": [
    {
     "data": {
      "text/plain": [
       "English                                  42661\n",
       "Arabic                                    1038\n",
       "Spanish                                    687\n",
       "French                                     579\n",
       "German                                     528\n",
       "                                         ...  \n",
       "Aromanian; Arumanian; Macedo-Romanian        1\n",
       "Basque                                       1\n",
       "Faroese                                      1\n",
       "Iranian (Other)                              1\n",
       "Norwegian Nynorsk; Nynorsk, Norwegian        1\n",
       "Name: language, Length: 81, dtype: int64"
      ]
     },
     "execution_count": 22,
     "metadata": {},
     "output_type": "execute_result"
    }
   ],
   "source": [
    "gr_data['language'].value_counts()"
   ]
  },
  {
   "cell_type": "code",
   "execution_count": 23,
   "id": "1120d35b",
   "metadata": {},
   "outputs": [
    {
     "data": {
      "text/plain": [
       "3806"
      ]
     },
     "execution_count": 23,
     "metadata": {},
     "output_type": "execute_result"
    }
   ],
   "source": [
    "# Checking null values\n",
    "gr_data['language'].isna().sum()"
   ]
  },
  {
   "cell_type": "code",
   "execution_count": 24,
   "id": "738ce2c9",
   "metadata": {},
   "outputs": [
    {
     "data": {
      "text/html": [
       "<div>\n",
       "<style scoped>\n",
       "    .dataframe tbody tr th:only-of-type {\n",
       "        vertical-align: middle;\n",
       "    }\n",
       "\n",
       "    .dataframe tbody tr th {\n",
       "        vertical-align: top;\n",
       "    }\n",
       "\n",
       "    .dataframe thead th {\n",
       "        text-align: right;\n",
       "    }\n",
       "</style>\n",
       "<table border=\"1\" class=\"dataframe\">\n",
       "  <thead>\n",
       "    <tr style=\"text-align: right;\">\n",
       "      <th></th>\n",
       "      <th>title</th>\n",
       "      <th>series</th>\n",
       "      <th>author</th>\n",
       "      <th>rating</th>\n",
       "      <th>description</th>\n",
       "      <th>language</th>\n",
       "      <th>isbn</th>\n",
       "      <th>genres</th>\n",
       "      <th>characters</th>\n",
       "      <th>book_format</th>\n",
       "      <th>edition</th>\n",
       "      <th>pages</th>\n",
       "      <th>publisher</th>\n",
       "      <th>publish_date</th>\n",
       "      <th>first_publish_date</th>\n",
       "      <th>awards</th>\n",
       "      <th>num_ratings</th>\n",
       "      <th>rating_by_stars</th>\n",
       "      <th>liked_perc</th>\n",
       "      <th>setting</th>\n",
       "      <th>bbe_score</th>\n",
       "      <th>bbe_votes</th>\n",
       "      <th>price</th>\n",
       "      <th>other_collabs</th>\n",
       "    </tr>\n",
       "  </thead>\n",
       "  <tbody>\n",
       "    <tr>\n",
       "      <th>503</th>\n",
       "      <td>Mistress Suffragette</td>\n",
       "      <td>NaN</td>\n",
       "      <td>Diana Forbes</td>\n",
       "      <td>4.34</td>\n",
       "      <td>\\n  A young woman without prospects at a ball ...</td>\n",
       "      <td>NaN</td>\n",
       "      <td>B06XG3G2TF</td>\n",
       "      <td>['Fiction', 'Novels', 'Historical Fiction', 'D...</td>\n",
       "      <td>[]</td>\n",
       "      <td>Kindle Edition</td>\n",
       "      <td>NaN</td>\n",
       "      <td>333.0</td>\n",
       "      <td>Penmore Press LLC</td>\n",
       "      <td>03-05-2017</td>\n",
       "      <td>NaN</td>\n",
       "      <td>[]</td>\n",
       "      <td>7647</td>\n",
       "      <td>['3553', '3422', '466', '140', '66']</td>\n",
       "      <td>97.0</td>\n",
       "      <td>[]</td>\n",
       "      <td>18215</td>\n",
       "      <td>203</td>\n",
       "      <td>NaN</td>\n",
       "      <td>Goodreads Author)</td>\n",
       "    </tr>\n",
       "    <tr>\n",
       "      <th>570</th>\n",
       "      <td>Invisible Monsters</td>\n",
       "      <td>NaN</td>\n",
       "      <td>Chuck Palahniuk</td>\n",
       "      <td>3.98</td>\n",
       "      <td>She's a catwalk model who has everything: a bo...</td>\n",
       "      <td>NaN</td>\n",
       "      <td>9.78039E+12</td>\n",
       "      <td>['Fiction', 'Contemporary', 'Thriller', 'Myste...</td>\n",
       "      <td>['Shannon McFarland', 'Brandy Alexander', 'Evi...</td>\n",
       "      <td>Paperback</td>\n",
       "      <td>NaN</td>\n",
       "      <td>304.0</td>\n",
       "      <td>W. W. Norton Company</td>\n",
       "      <td>05-01-2018</td>\n",
       "      <td>09/17/99</td>\n",
       "      <td>[]</td>\n",
       "      <td>128254</td>\n",
       "      <td>['47150', '45163', '25392', '7675', '2874']</td>\n",
       "      <td>92.0</td>\n",
       "      <td>[]</td>\n",
       "      <td>15186</td>\n",
       "      <td>181</td>\n",
       "      <td>6.53</td>\n",
       "      <td>Goodreads Author)</td>\n",
       "    </tr>\n",
       "    <tr>\n",
       "      <th>645</th>\n",
       "      <td>House of Sand and Fog</td>\n",
       "      <td>NaN</td>\n",
       "      <td>Andre Dubus III</td>\n",
       "      <td>3.85</td>\n",
       "      <td>In this “page-turner with a beating heart” (Bo...</td>\n",
       "      <td>NaN</td>\n",
       "      <td>9.78039E+12</td>\n",
       "      <td>['Fiction', 'Contemporary', 'Literary Fiction'...</td>\n",
       "      <td>['Colonel Behrani', 'Kathy Nicolo', 'Sheriff L...</td>\n",
       "      <td>Paperback</td>\n",
       "      <td>NaN</td>\n",
       "      <td>368.0</td>\n",
       "      <td>W. W. Norton Company</td>\n",
       "      <td>10-02-2018</td>\n",
       "      <td>10/28/99</td>\n",
       "      <td>['Los Angeles Times Book Prize Nominee for Fic...</td>\n",
       "      <td>125230</td>\n",
       "      <td>['38141', '46256', '28560', '8447', '3826']</td>\n",
       "      <td>90.0</td>\n",
       "      <td>['California (United States)']</td>\n",
       "      <td>12262</td>\n",
       "      <td>176</td>\n",
       "      <td>2.86</td>\n",
       "      <td></td>\n",
       "    </tr>\n",
       "    <tr>\n",
       "      <th>703</th>\n",
       "      <td>The Awakening: Fate in Motion</td>\n",
       "      <td>NaN</td>\n",
       "      <td>Suzanne Boisvert</td>\n",
       "      <td>4.31</td>\n",
       "      <td>Exiled from Earth thousands of years ago, Sar ...</td>\n",
       "      <td>NaN</td>\n",
       "      <td>B07GNSZH8M</td>\n",
       "      <td>['Contemporary', 'Drama', 'Book Club', 'Fictio...</td>\n",
       "      <td>[]</td>\n",
       "      <td>Kindle Edition</td>\n",
       "      <td>NaN</td>\n",
       "      <td>331.0</td>\n",
       "      <td>NaN</td>\n",
       "      <td>09/15/18</td>\n",
       "      <td>NaN</td>\n",
       "      <td>[]</td>\n",
       "      <td>6682</td>\n",
       "      <td>['3045', '3031', '329', '206', '71']</td>\n",
       "      <td>96.0</td>\n",
       "      <td>[]</td>\n",
       "      <td>10611</td>\n",
       "      <td>118</td>\n",
       "      <td>NaN</td>\n",
       "      <td>Goodreads Author)</td>\n",
       "    </tr>\n",
       "    <tr>\n",
       "      <th>751</th>\n",
       "      <td>One Fish, Two Fish, Red Fish, Blue Fish</td>\n",
       "      <td>NaN</td>\n",
       "      <td>Dr. Seuss</td>\n",
       "      <td>4.13</td>\n",
       "      <td>One Fish Two Fish Red Fish Blue Fish is a 1960...</td>\n",
       "      <td>NaN</td>\n",
       "      <td>9.78001E+12</td>\n",
       "      <td>['Childrens', 'Picture Books', 'Fiction', 'Cla...</td>\n",
       "      <td>[]</td>\n",
       "      <td>Hardcover</td>\n",
       "      <td>NaN</td>\n",
       "      <td>64.0</td>\n",
       "      <td>Harper Collins Children's Books</td>\n",
       "      <td>10-06-2003</td>\n",
       "      <td>10/28/60</td>\n",
       "      <td>[]</td>\n",
       "      <td>165623</td>\n",
       "      <td>['81438', '41473', '30307', '8407', '3998']</td>\n",
       "      <td>93.0</td>\n",
       "      <td>[]</td>\n",
       "      <td>9731</td>\n",
       "      <td>163</td>\n",
       "      <td>NaN</td>\n",
       "      <td>Reader)</td>\n",
       "    </tr>\n",
       "  </tbody>\n",
       "</table>\n",
       "</div>"
      ],
      "text/plain": [
       "                                       title series            author  rating  \\\n",
       "503                     Mistress Suffragette    NaN      Diana Forbes    4.34   \n",
       "570                       Invisible Monsters    NaN   Chuck Palahniuk    3.98   \n",
       "645                    House of Sand and Fog    NaN   Andre Dubus III    3.85   \n",
       "703            The Awakening: Fate in Motion    NaN  Suzanne Boisvert    4.31   \n",
       "751  One Fish, Two Fish, Red Fish, Blue Fish    NaN         Dr. Seuss    4.13   \n",
       "\n",
       "                                           description language         isbn  \\\n",
       "503  \\n  A young woman without prospects at a ball ...      NaN   B06XG3G2TF   \n",
       "570  She's a catwalk model who has everything: a bo...      NaN  9.78039E+12   \n",
       "645  In this “page-turner with a beating heart” (Bo...      NaN  9.78039E+12   \n",
       "703  Exiled from Earth thousands of years ago, Sar ...      NaN   B07GNSZH8M   \n",
       "751  One Fish Two Fish Red Fish Blue Fish is a 1960...      NaN  9.78001E+12   \n",
       "\n",
       "                                                genres  \\\n",
       "503  ['Fiction', 'Novels', 'Historical Fiction', 'D...   \n",
       "570  ['Fiction', 'Contemporary', 'Thriller', 'Myste...   \n",
       "645  ['Fiction', 'Contemporary', 'Literary Fiction'...   \n",
       "703  ['Contemporary', 'Drama', 'Book Club', 'Fictio...   \n",
       "751  ['Childrens', 'Picture Books', 'Fiction', 'Cla...   \n",
       "\n",
       "                                            characters     book_format  \\\n",
       "503                                                 []  Kindle Edition   \n",
       "570  ['Shannon McFarland', 'Brandy Alexander', 'Evi...       Paperback   \n",
       "645  ['Colonel Behrani', 'Kathy Nicolo', 'Sheriff L...       Paperback   \n",
       "703                                                 []  Kindle Edition   \n",
       "751                                                 []       Hardcover   \n",
       "\n",
       "    edition  pages                        publisher publish_date  \\\n",
       "503     NaN  333.0                Penmore Press LLC   03-05-2017   \n",
       "570     NaN  304.0             W. W. Norton Company   05-01-2018   \n",
       "645     NaN  368.0             W. W. Norton Company   10-02-2018   \n",
       "703     NaN  331.0                              NaN     09/15/18   \n",
       "751     NaN   64.0  Harper Collins Children's Books   10-06-2003   \n",
       "\n",
       "    first_publish_date                                             awards  \\\n",
       "503                NaN                                                 []   \n",
       "570           09/17/99                                                 []   \n",
       "645           10/28/99  ['Los Angeles Times Book Prize Nominee for Fic...   \n",
       "703                NaN                                                 []   \n",
       "751           10/28/60                                                 []   \n",
       "\n",
       "     num_ratings                              rating_by_stars  liked_perc  \\\n",
       "503         7647         ['3553', '3422', '466', '140', '66']        97.0   \n",
       "570       128254  ['47150', '45163', '25392', '7675', '2874']        92.0   \n",
       "645       125230  ['38141', '46256', '28560', '8447', '3826']        90.0   \n",
       "703         6682         ['3045', '3031', '329', '206', '71']        96.0   \n",
       "751       165623  ['81438', '41473', '30307', '8407', '3998']        93.0   \n",
       "\n",
       "                            setting  bbe_score  bbe_votes  price  \\\n",
       "503                              []      18215        203    NaN   \n",
       "570                              []      15186        181   6.53   \n",
       "645  ['California (United States)']      12262        176   2.86   \n",
       "703                              []      10611        118    NaN   \n",
       "751                              []       9731        163    NaN   \n",
       "\n",
       "         other_collabs  \n",
       "503  Goodreads Author)  \n",
       "570  Goodreads Author)  \n",
       "645                     \n",
       "703  Goodreads Author)  \n",
       "751            Reader)  "
      ]
     },
     "execution_count": 24,
     "metadata": {},
     "output_type": "execute_result"
    }
   ],
   "source": [
    "nan_lang = gr_data[gr_data['language'].isna()]\n",
    "nan_lang.head()"
   ]
  },
  {
   "cell_type": "code",
   "execution_count": 25,
   "id": "ee789229",
   "metadata": {},
   "outputs": [],
   "source": [
    "# Import 'langid' --> identifying language from 'description' or 'title' column\n",
    "\n",
    "import langid\n",
    "\n",
    "# Define the language dictionary\n",
    "language_dict = {\n",
    "    \n",
    "    'ar': 'Arabic',\n",
    "    'en': 'English',\n",
    "    'fr': 'French',\n",
    "    'de': 'German',\n",
    "    'es': 'Spanish',\n",
    "    'it': 'Italian',\n",
    "    'pt': 'Portuguese',\n",
    "    'nl': 'Dutch',\n",
    "    'sv': 'Swedish',\n",
    "    'pl': 'Polish',\n",
    "    'sl': 'Slovenian',\n",
    "    'bs': 'Bosnian',\n",
    "    'hr': 'Croatian',\n",
    "    'sr': 'Serbian',\n",
    "    'sq': 'Albanian',\n",
    "    'mk': 'Macedonian',\n",
    "    'ro': 'Romanian',\n",
    "    'da': 'Danish',\n",
    "    'no': 'Norwegian',\n",
    "    'fi': 'Finnish',\n",
    "    'hu': 'Hungarian',\n",
    "    'et': 'Estonian',\n",
    "    'lv': 'Latvian',\n",
    "    'lt': 'Lithuanian',\n",
    "    'cs': 'Czech',\n",
    "    'sk': 'Slovak',\n",
    "    'sl': 'Slovenian',\n",
    "    'ru': 'Russian'\n",
    "}\n",
    "\n",
    "# create a list of unique language values from the dataframe\n",
    "language_values = gr_data['language'].dropna().unique().tolist()\n",
    "\n",
    "# iterate through rows where 'language' is nan\n",
    "for index, row in gr_data[gr_data['language'].isna()].iterrows():\n",
    "    description = row['description']\n",
    "    if isinstance(description, str):\n",
    "        detected_language = langid.classify(description)[0]\n",
    "        gr_data.at[index, 'language'] = language_dict.get(detected_language, detected_language)\n",
    "    else:\n",
    "        title = row['title']\n",
    "        if isinstance(title, str):\n",
    "            detected_language = langid.classify(title)[0]\n",
    "            gr_data.at[index, 'language'] = language_dict.get(detected_language, detected_language)\n",
    "\n"
   ]
  },
  {
   "cell_type": "code",
   "execution_count": 26,
   "id": "5e21c193",
   "metadata": {},
   "outputs": [
    {
     "data": {
      "text/plain": [
       "0"
      ]
     },
     "execution_count": 26,
     "metadata": {},
     "output_type": "execute_result"
    }
   ],
   "source": [
    "# Checking conversion worked well\n",
    "gr_data['language'].isna().sum()"
   ]
  },
  {
   "cell_type": "code",
   "execution_count": 27,
   "id": "b02f5980",
   "metadata": {},
   "outputs": [
    {
     "data": {
      "text/plain": [
       "English                                  46094\n",
       "Arabic                                    1092\n",
       "Spanish                                    739\n",
       "French                                     618\n",
       "German                                     578\n",
       "                                         ...  \n",
       "Iranian (Other)                              1\n",
       "English, Middle (1100-1500)                  1\n",
       "Kurdish                                      1\n",
       "French, Middle (ca.1400-1600)                1\n",
       "Norwegian Nynorsk; Nynorsk, Norwegian        1\n",
       "Name: language, Length: 102, dtype: int64"
      ]
     },
     "execution_count": 27,
     "metadata": {},
     "output_type": "execute_result"
    }
   ],
   "source": [
    "gr_data['language'].value_counts()"
   ]
  },
  {
   "cell_type": "code",
   "execution_count": 28,
   "id": "87598a02",
   "metadata": {},
   "outputs": [
    {
     "data": {
      "text/plain": [
       "Index(['title', 'series', 'author', 'rating', 'description', 'language',\n",
       "       'isbn', 'genres', 'characters', 'book_format', 'edition', 'pages',\n",
       "       'publisher', 'publish_date', 'first_publish_date', 'awards',\n",
       "       'num_ratings', 'rating_by_stars', 'liked_perc', 'setting', 'bbe_score',\n",
       "       'bbe_votes', 'price', 'other_collabs'],\n",
       "      dtype='object')"
      ]
     },
     "execution_count": 28,
     "metadata": {},
     "output_type": "execute_result"
    }
   ],
   "source": [
    "gr_data.columns"
   ]
  },
  {
   "cell_type": "markdown",
   "id": "d5c8f133",
   "metadata": {},
   "source": [
    "### ISBN"
   ]
  },
  {
   "cell_type": "code",
   "execution_count": 29,
   "id": "14cd7d29",
   "metadata": {},
   "outputs": [
    {
     "data": {
      "text/plain": [
       "Index(['title', 'series', 'author', 'rating', 'description', 'language',\n",
       "       'isbn', 'genres', 'characters', 'book_format', 'edition', 'pages',\n",
       "       'publisher', 'publish_date', 'first_publish_date', 'awards',\n",
       "       'num_ratings', 'rating_by_stars', 'liked_perc', 'setting', 'bbe_score',\n",
       "       'bbe_votes', 'price', 'other_collabs'],\n",
       "      dtype='object')"
      ]
     },
     "execution_count": 29,
     "metadata": {},
     "output_type": "execute_result"
    }
   ],
   "source": [
    "gr_data.columns"
   ]
  },
  {
   "cell_type": "markdown",
   "id": "eb5a8acf",
   "metadata": {},
   "source": [
    "### Genres"
   ]
  },
  {
   "cell_type": "markdown",
   "id": "a24dbf30",
   "metadata": {},
   "source": [
    "There were 980 unique genres included in the lists genres for each book (52.478). My goal here was to reduce a little the amount of genres (final count: 609), transpose those unique genres as new columns and stablish a binary system where:\n",
    "\n",
    "        - 0 = genre not included in the genres list of that specific book\n",
    "        - 1 = genre included in the genres list of that specific book\n",
    "\n",
    "\n",
    "In the transposition, I had to deal with NaN values as well as books with empty lists of genres in the original dataframe ('[]' are included in a new column 'unknown'). Last, I also deleted unique genres that somehow where included but were not listed in any book.\n",
    "/\n",
    "/\n",
    "As all of this processes implied lot of code and were very time consuming (looping through each of the genres of each row and creating a new dataframe), I worked on different kernels that can be found in the *'0. Drafts'* folder: \n",
    "/\n",
    "/\n",
    "- goodreads_genres_REDUCTION\n",
    "\n",
    "To reduce the list of unique genres I created a dictionary where I grouped very similar unique genres or that I thought that expressed the same information (still can be improved). Then I looped through the original dataframe and replaced those genres for the key. I also check the frequency of those genres and got a genres_list of unique values.\n",
    "\n",
    "\n",
    "- goodreads_genres_NEWDF\n",
    "\n",
    "Then I created an empty dataframe where columns were named after the items in genres_list. After that, I generated new rows for each book (indexes from the original dataframe were included for next merge) and assign binary values if the genre was present or not in its list of genres.\n",
    "\n",
    "\n",
    "\n",
    "\n",
    "The output of these processes is the following imported genres_df dataframe:"
   ]
  },
  {
   "cell_type": "code",
   "execution_count": 30,
   "id": "bb45ff32",
   "metadata": {},
   "outputs": [],
   "source": [
    "#gr_data = pd.read_csv('./1. Original_df/GoodReads.Best_Books_Ever 2.csv')"
   ]
  },
  {
   "cell_type": "code",
   "execution_count": 31,
   "id": "81f74ee9",
   "metadata": {},
   "outputs": [],
   "source": [
    "import pandas as pd\n",
    "\n",
    "genres_df = pd.read_csv('./0. Drafts/genres_clean_dataset.csv')\n",
    "genres_df = genres_df.drop(['Unnamed: 0'],axis=1)"
   ]
  },
  {
   "cell_type": "code",
   "execution_count": 32,
   "id": "6caf0c6d",
   "metadata": {},
   "outputs": [
    {
     "data": {
      "text/html": [
       "<div>\n",
       "<style scoped>\n",
       "    .dataframe tbody tr th:only-of-type {\n",
       "        vertical-align: middle;\n",
       "    }\n",
       "\n",
       "    .dataframe tbody tr th {\n",
       "        vertical-align: top;\n",
       "    }\n",
       "\n",
       "    .dataframe thead th {\n",
       "        text-align: right;\n",
       "    }\n",
       "</style>\n",
       "<table border=\"1\" class=\"dataframe\">\n",
       "  <thead>\n",
       "    <tr style=\"text-align: right;\">\n",
       "      <th></th>\n",
       "      <th>index_gr_data</th>\n",
       "      <th>fantasy</th>\n",
       "      <th>science fiction</th>\n",
       "      <th>dystopia</th>\n",
       "      <th>young adult</th>\n",
       "      <th>fiction</th>\n",
       "      <th>action</th>\n",
       "      <th>adventure</th>\n",
       "      <th>romance</th>\n",
       "      <th>magic</th>\n",
       "      <th>children</th>\n",
       "      <th>audiobook</th>\n",
       "      <th>school</th>\n",
       "      <th>classics</th>\n",
       "      <th>historical fiction</th>\n",
       "      <th>...</th>\n",
       "      <th>graphic novel and comics.1</th>\n",
       "      <th>guides and travel.1</th>\n",
       "      <th>social justice and activism.1</th>\n",
       "      <th>business and finance.1</th>\n",
       "      <th>mythology and fairy tales.1</th>\n",
       "      <th>programming and computer science.1</th>\n",
       "      <th>diary and journal.1</th>\n",
       "      <th>unknown</th>\n",
       "      <th>cars and motorcycles.1</th>\n",
       "      <th>bande dessinée</th>\n",
       "      <th>sewing and crafts.1</th>\n",
       "      <th>tv and series.1</th>\n",
       "      <th>maps and cartography.1</th>\n",
       "      <th>漫画</th>\n",
       "      <th>veganism and vegetarianism.1</th>\n",
       "    </tr>\n",
       "  </thead>\n",
       "  <tbody>\n",
       "    <tr>\n",
       "      <th>0</th>\n",
       "      <td>0</td>\n",
       "      <td>1</td>\n",
       "      <td>1</td>\n",
       "      <td>1</td>\n",
       "      <td>1</td>\n",
       "      <td>1</td>\n",
       "      <td>1</td>\n",
       "      <td>1</td>\n",
       "      <td>1</td>\n",
       "      <td>0</td>\n",
       "      <td>0</td>\n",
       "      <td>0</td>\n",
       "      <td>0</td>\n",
       "      <td>0</td>\n",
       "      <td>0</td>\n",
       "      <td>...</td>\n",
       "      <td>0</td>\n",
       "      <td>0</td>\n",
       "      <td>0</td>\n",
       "      <td>0</td>\n",
       "      <td>0</td>\n",
       "      <td>0</td>\n",
       "      <td>0</td>\n",
       "      <td>0</td>\n",
       "      <td>0</td>\n",
       "      <td>0</td>\n",
       "      <td>0</td>\n",
       "      <td>0</td>\n",
       "      <td>0</td>\n",
       "      <td>0</td>\n",
       "      <td>0</td>\n",
       "    </tr>\n",
       "    <tr>\n",
       "      <th>1</th>\n",
       "      <td>1</td>\n",
       "      <td>1</td>\n",
       "      <td>1</td>\n",
       "      <td>0</td>\n",
       "      <td>1</td>\n",
       "      <td>1</td>\n",
       "      <td>0</td>\n",
       "      <td>1</td>\n",
       "      <td>0</td>\n",
       "      <td>1</td>\n",
       "      <td>1</td>\n",
       "      <td>1</td>\n",
       "      <td>1</td>\n",
       "      <td>1</td>\n",
       "      <td>0</td>\n",
       "      <td>...</td>\n",
       "      <td>0</td>\n",
       "      <td>0</td>\n",
       "      <td>0</td>\n",
       "      <td>0</td>\n",
       "      <td>0</td>\n",
       "      <td>0</td>\n",
       "      <td>0</td>\n",
       "      <td>0</td>\n",
       "      <td>0</td>\n",
       "      <td>0</td>\n",
       "      <td>0</td>\n",
       "      <td>0</td>\n",
       "      <td>0</td>\n",
       "      <td>0</td>\n",
       "      <td>0</td>\n",
       "    </tr>\n",
       "    <tr>\n",
       "      <th>2</th>\n",
       "      <td>2</td>\n",
       "      <td>0</td>\n",
       "      <td>0</td>\n",
       "      <td>0</td>\n",
       "      <td>1</td>\n",
       "      <td>1</td>\n",
       "      <td>0</td>\n",
       "      <td>0</td>\n",
       "      <td>0</td>\n",
       "      <td>0</td>\n",
       "      <td>0</td>\n",
       "      <td>0</td>\n",
       "      <td>1</td>\n",
       "      <td>1</td>\n",
       "      <td>1</td>\n",
       "      <td>...</td>\n",
       "      <td>0</td>\n",
       "      <td>0</td>\n",
       "      <td>0</td>\n",
       "      <td>0</td>\n",
       "      <td>0</td>\n",
       "      <td>0</td>\n",
       "      <td>0</td>\n",
       "      <td>0</td>\n",
       "      <td>0</td>\n",
       "      <td>0</td>\n",
       "      <td>0</td>\n",
       "      <td>0</td>\n",
       "      <td>0</td>\n",
       "      <td>0</td>\n",
       "      <td>0</td>\n",
       "    </tr>\n",
       "  </tbody>\n",
       "</table>\n",
       "<p>3 rows × 610 columns</p>\n",
       "</div>"
      ],
      "text/plain": [
       "   index_gr_data  fantasy  science fiction  dystopia  young adult  fiction  \\\n",
       "0              0        1                1         1            1        1   \n",
       "1              1        1                1         0            1        1   \n",
       "2              2        0                0         0            1        1   \n",
       "\n",
       "   action  adventure  romance  magic  children  audiobook  school  classics  \\\n",
       "0       1          1        1      0         0          0       0         0   \n",
       "1       0          1        0      1         1          1       1         1   \n",
       "2       0          0        0      0         0          0       1         1   \n",
       "\n",
       "   historical fiction  ...  graphic novel and comics.1  guides and travel.1  \\\n",
       "0                   0  ...                           0                    0   \n",
       "1                   0  ...                           0                    0   \n",
       "2                   1  ...                           0                    0   \n",
       "\n",
       "   social justice and activism.1  business and finance.1  \\\n",
       "0                              0                       0   \n",
       "1                              0                       0   \n",
       "2                              0                       0   \n",
       "\n",
       "   mythology and fairy tales.1  programming and computer science.1  \\\n",
       "0                            0                                   0   \n",
       "1                            0                                   0   \n",
       "2                            0                                   0   \n",
       "\n",
       "   diary and journal.1  unknown  cars and motorcycles.1  bande dessinée  \\\n",
       "0                    0        0                       0               0   \n",
       "1                    0        0                       0               0   \n",
       "2                    0        0                       0               0   \n",
       "\n",
       "   sewing and crafts.1  tv and series.1  maps and cartography.1  漫画  \\\n",
       "0                    0                0                       0   0   \n",
       "1                    0                0                       0   0   \n",
       "2                    0                0                       0   0   \n",
       "\n",
       "   veganism and vegetarianism.1  \n",
       "0                             0  \n",
       "1                             0  \n",
       "2                             0  \n",
       "\n",
       "[3 rows x 610 columns]"
      ]
     },
     "execution_count": 32,
     "metadata": {},
     "output_type": "execute_result"
    }
   ],
   "source": [
    "genres_df.head(3)"
   ]
  },
  {
   "cell_type": "code",
   "execution_count": 33,
   "id": "42a03138",
   "metadata": {},
   "outputs": [
    {
     "data": {
      "text/plain": [
       "\"['Young Adult', 'Fiction', 'Dystopia', 'Fantasy', 'Science Fiction', 'Romance', 'Adventure', 'Teen', 'Post Apocalyptic', 'Action']\""
      ]
     },
     "execution_count": 33,
     "metadata": {},
     "output_type": "execute_result"
    }
   ],
   "source": [
    "# Checking correspondance\n",
    "gr_data['genres'][0]"
   ]
  },
  {
   "cell_type": "code",
   "execution_count": 34,
   "id": "cde48ac7",
   "metadata": {},
   "outputs": [
    {
     "data": {
      "text/plain": [
       "\"['Fantasy', 'Young Adult', 'Fiction', 'Magic', 'Childrens', 'Adventure', 'Audiobook', 'Middle Grade', 'Classics', 'Science Fiction Fantasy']\""
      ]
     },
     "execution_count": 34,
     "metadata": {},
     "output_type": "execute_result"
    }
   ],
   "source": [
    "gr_data['genres'][1]"
   ]
  },
  {
   "cell_type": "code",
   "execution_count": 35,
   "id": "d4e273ff",
   "metadata": {},
   "outputs": [
    {
     "name": "stdout",
     "output_type": "stream",
     "text": [
      "Unique genres:  609\n"
     ]
    }
   ],
   "source": [
    "# Unique genres (= length of columns - index_gr_data)\n",
    "unique_genres = len(genres_df.columns)-1\n",
    "print(\"Unique genres: \", unique_genres)"
   ]
  },
  {
   "cell_type": "code",
   "execution_count": 36,
   "id": "64e6fa37",
   "metadata": {},
   "outputs": [
    {
     "data": {
      "text/plain": [
       "0"
      ]
     },
     "execution_count": 36,
     "metadata": {},
     "output_type": "execute_result"
    }
   ],
   "source": [
    "# No NaN present\n",
    "genres_df.isna().sum().sum()"
   ]
  },
  {
   "cell_type": "code",
   "execution_count": 37,
   "id": "c1186e92",
   "metadata": {},
   "outputs": [
    {
     "data": {
      "text/plain": [
       "index_gr_data                   int64\n",
       "fantasy                         int64\n",
       "science fiction                 int64\n",
       "dystopia                        int64\n",
       "young adult                     int64\n",
       "                                ...  \n",
       "sewing and crafts.1             int64\n",
       "tv and series.1                 int64\n",
       "maps and cartography.1          int64\n",
       "漫画                              int64\n",
       "veganism and vegetarianism.1    int64\n",
       "Length: 610, dtype: object"
      ]
     },
     "execution_count": 37,
     "metadata": {},
     "output_type": "execute_result"
    }
   ],
   "source": [
    "genres_df.dtypes"
   ]
  },
  {
   "cell_type": "markdown",
   "id": "ccfdaf00",
   "metadata": {},
   "source": [
    "##### Correlation Matrix"
   ]
  },
  {
   "cell_type": "markdown",
   "id": "667200a5",
   "metadata": {},
   "source": [
    "Before merging into the original dataframe, I will check for multicollinearity to determine if there are any other variables (columns) that can be removed."
   ]
  },
  {
   "cell_type": "code",
   "execution_count": 38,
   "id": "23e6f55e",
   "metadata": {},
   "outputs": [],
   "source": [
    "# Drop column with the identifier row\n",
    "X = genres_df.drop(['index_gr_data'],axis=1)"
   ]
  },
  {
   "cell_type": "markdown",
   "id": "ab2f7111",
   "metadata": {},
   "source": [
    "To display the correlation matrix for my dataframe which contains 609 columns, I will create a new table that only includes pairs of variables where the correlation coefficient is greater than 0.6 or less than -0.6."
   ]
  },
  {
   "cell_type": "code",
   "execution_count": 39,
   "id": "31c9d9c5",
   "metadata": {},
   "outputs": [
    {
     "data": {
      "text/html": [
       "<div>\n",
       "<style scoped>\n",
       "    .dataframe tbody tr th:only-of-type {\n",
       "        vertical-align: middle;\n",
       "    }\n",
       "\n",
       "    .dataframe tbody tr th {\n",
       "        vertical-align: top;\n",
       "    }\n",
       "\n",
       "    .dataframe thead th {\n",
       "        text-align: right;\n",
       "    }\n",
       "</style>\n",
       "<table border=\"1\" class=\"dataframe\">\n",
       "  <thead>\n",
       "    <tr style=\"text-align: right;\">\n",
       "      <th></th>\n",
       "      <th>row name</th>\n",
       "      <th>col name</th>\n",
       "      <th>corr number</th>\n",
       "    </tr>\n",
       "  </thead>\n",
       "  <tbody>\n",
       "    <tr>\n",
       "      <th>46</th>\n",
       "      <td>climbing</td>\n",
       "      <td>mountaineering</td>\n",
       "      <td>0.856316</td>\n",
       "    </tr>\n",
       "    <tr>\n",
       "      <th>17</th>\n",
       "      <td>plays</td>\n",
       "      <td>theatre</td>\n",
       "      <td>0.817993</td>\n",
       "    </tr>\n",
       "    <tr>\n",
       "      <th>24</th>\n",
       "      <td>regency</td>\n",
       "      <td>regency romance</td>\n",
       "      <td>0.808399</td>\n",
       "    </tr>\n",
       "    <tr>\n",
       "      <th>37</th>\n",
       "      <td>amish</td>\n",
       "      <td>amish fiction</td>\n",
       "      <td>0.785103</td>\n",
       "    </tr>\n",
       "    <tr>\n",
       "      <th>21</th>\n",
       "      <td>christmas</td>\n",
       "      <td>holiday</td>\n",
       "      <td>0.730082</td>\n",
       "    </tr>\n",
       "    <tr>\n",
       "      <th>42</th>\n",
       "      <td>lesbian fiction</td>\n",
       "      <td>lesbian romance</td>\n",
       "      <td>0.729616</td>\n",
       "    </tr>\n",
       "    <tr>\n",
       "      <th>30</th>\n",
       "      <td>american revolution</td>\n",
       "      <td>american revolutionary war</td>\n",
       "      <td>0.721487</td>\n",
       "    </tr>\n",
       "    <tr>\n",
       "      <th>39</th>\n",
       "      <td>love inspired</td>\n",
       "      <td>love inspired historical</td>\n",
       "      <td>0.707073</td>\n",
       "    </tr>\n",
       "    <tr>\n",
       "      <th>3</th>\n",
       "      <td>historical</td>\n",
       "      <td>historical fiction</td>\n",
       "      <td>0.698049</td>\n",
       "    </tr>\n",
       "    <tr>\n",
       "      <th>32</th>\n",
       "      <td>money</td>\n",
       "      <td>personal finance</td>\n",
       "      <td>0.679218</td>\n",
       "    </tr>\n",
       "    <tr>\n",
       "      <th>8</th>\n",
       "      <td>christian fiction</td>\n",
       "      <td>christianity</td>\n",
       "      <td>0.674856</td>\n",
       "    </tr>\n",
       "    <tr>\n",
       "      <th>6</th>\n",
       "      <td>paranormal</td>\n",
       "      <td>paranormal romance</td>\n",
       "      <td>0.656790</td>\n",
       "    </tr>\n",
       "    <tr>\n",
       "      <th>23</th>\n",
       "      <td>prehistoric</td>\n",
       "      <td>prehistory</td>\n",
       "      <td>0.655378</td>\n",
       "    </tr>\n",
       "    <tr>\n",
       "      <th>43</th>\n",
       "      <td>cthulhu mythos</td>\n",
       "      <td>lovecraftian</td>\n",
       "      <td>0.654843</td>\n",
       "    </tr>\n",
       "    <tr>\n",
       "      <th>41</th>\n",
       "      <td>brain</td>\n",
       "      <td>neuroscience</td>\n",
       "      <td>0.648871</td>\n",
       "    </tr>\n",
       "    <tr>\n",
       "      <th>51</th>\n",
       "      <td>business and finance.1</td>\n",
       "      <td>money</td>\n",
       "      <td>0.647366</td>\n",
       "    </tr>\n",
       "    <tr>\n",
       "      <th>29</th>\n",
       "      <td>american civil war</td>\n",
       "      <td>civil war</td>\n",
       "      <td>0.646624</td>\n",
       "    </tr>\n",
       "    <tr>\n",
       "      <th>28</th>\n",
       "      <td>personal development</td>\n",
       "      <td>self help</td>\n",
       "      <td>0.642891</td>\n",
       "    </tr>\n",
       "    <tr>\n",
       "      <th>19</th>\n",
       "      <td>counting</td>\n",
       "      <td>number</td>\n",
       "      <td>0.639539</td>\n",
       "    </tr>\n",
       "    <tr>\n",
       "      <th>15</th>\n",
       "      <td>mystery thriller</td>\n",
       "      <td>thriller</td>\n",
       "      <td>0.633191</td>\n",
       "    </tr>\n",
       "    <tr>\n",
       "      <th>0</th>\n",
       "      <td>fantasy</td>\n",
       "      <td>science fiction</td>\n",
       "      <td>0.631002</td>\n",
       "    </tr>\n",
       "    <tr>\n",
       "      <th>14</th>\n",
       "      <td>crime</td>\n",
       "      <td>mystery thriller</td>\n",
       "      <td>0.624613</td>\n",
       "    </tr>\n",
       "    <tr>\n",
       "      <th>50</th>\n",
       "      <td>shounen ai</td>\n",
       "      <td>yaoi</td>\n",
       "      <td>0.620032</td>\n",
       "    </tr>\n",
       "    <tr>\n",
       "      <th>13</th>\n",
       "      <td>suspense</td>\n",
       "      <td>thriller</td>\n",
       "      <td>0.611209</td>\n",
       "    </tr>\n",
       "    <tr>\n",
       "      <th>26</th>\n",
       "      <td>medical</td>\n",
       "      <td>medicine</td>\n",
       "      <td>0.609798</td>\n",
       "    </tr>\n",
       "    <tr>\n",
       "      <th>5</th>\n",
       "      <td>paranormal</td>\n",
       "      <td>urban fantasy</td>\n",
       "      <td>0.606845</td>\n",
       "    </tr>\n",
       "  </tbody>\n",
       "</table>\n",
       "</div>"
      ],
      "text/plain": [
       "                  row name                    col name  corr number\n",
       "46                climbing              mountaineering     0.856316\n",
       "17                   plays                     theatre     0.817993\n",
       "24                 regency             regency romance     0.808399\n",
       "37                   amish               amish fiction     0.785103\n",
       "21               christmas                     holiday     0.730082\n",
       "42         lesbian fiction             lesbian romance     0.729616\n",
       "30     american revolution  american revolutionary war     0.721487\n",
       "39           love inspired    love inspired historical     0.707073\n",
       "3               historical          historical fiction     0.698049\n",
       "32                   money            personal finance     0.679218\n",
       "8        christian fiction                christianity     0.674856\n",
       "6               paranormal          paranormal romance     0.656790\n",
       "23             prehistoric                  prehistory     0.655378\n",
       "43          cthulhu mythos                lovecraftian     0.654843\n",
       "41                   brain                neuroscience     0.648871\n",
       "51  business and finance.1                       money     0.647366\n",
       "29      american civil war                   civil war     0.646624\n",
       "28    personal development                   self help     0.642891\n",
       "19                counting                      number     0.639539\n",
       "15        mystery thriller                    thriller     0.633191\n",
       "0                  fantasy             science fiction     0.631002\n",
       "14                   crime            mystery thriller     0.624613\n",
       "50              shounen ai                        yaoi     0.620032\n",
       "13                suspense                    thriller     0.611209\n",
       "26                 medical                    medicine     0.609798\n",
       "5               paranormal               urban fantasy     0.606845"
      ]
     },
     "metadata": {},
     "output_type": "display_data"
    },
    {
     "data": {
      "text/plain": [
       "26"
      ]
     },
     "metadata": {},
     "output_type": "display_data"
    }
   ],
   "source": [
    "# Calculate the correlation matrix\n",
    "corr_matrix = X.corr()\n",
    "\n",
    "# Get the indices of non-NaN values in the correlation matrix\n",
    "indices = [(row, col) for row in corr_matrix.index for col in corr_matrix.columns if not pd.isna(corr_matrix.loc[row, col])]\n",
    "\n",
    "# Create a DataFrame with the row name, column name, and correlation number for each\n",
    "# non-NaN value in the correlation matrix that meets the condition and where row name\n",
    "# and col name are different\n",
    "df = pd.DataFrame([(idx[0], idx[1], corr_matrix.loc[idx]) for idx in indices if (corr_matrix.loc[idx] > 0.6 or corr_matrix.loc[idx] < -0.6) and idx[0] != idx[1]], columns=['row name', 'col name', 'corr number'])\n",
    "\n",
    "# Drop duplicate rows where row name is greater than col name\n",
    "df = df[df['row name'] < df['col name']]\n",
    "\n",
    "# Sort the DataFrame by the correlation number in descending order\n",
    "df = df.sort_values(by='corr number', ascending=False)\n",
    "\n",
    "# Print the sorted DataFrame\n",
    "display(df, len(df))\n"
   ]
  },
  {
   "cell_type": "markdown",
   "id": "46f6754f",
   "metadata": {},
   "source": [
    "There are 8 pairs of variables that have a correlation greater than 0.7, indicating potential multicollinearity. To determine which variable to remove, I will consider the frequency of each one."
   ]
  },
  {
   "cell_type": "code",
   "execution_count": 40,
   "id": "a81954ae",
   "metadata": {},
   "outputs": [],
   "source": [
    "#import numpy as np\n",
    "\n",
    "# Columns for row and column counts\n",
    "df['row count'] = 0\n",
    "df['col count'] = 0\n",
    "\n",
    "# Loop over rows in 'df' dataframe\n",
    "for idx, row in df.iterrows():\n",
    "    # Get the row name and column name from the current row\n",
    "    row_name = row['row name']\n",
    "    col_name = row['col name']\n",
    "    \n",
    "    # Get the corresponding column from the 'X' dataframe\n",
    "    row_col = X[row_name]\n",
    "    col_col = X[col_name]\n",
    "    \n",
    "    # Count the sum of values (0,1) in the row and column\n",
    "    row_count = row_col.sum()\n",
    "    col_count = col_col.sum()\n",
    "    \n",
    "    # Add the counts to the 'df' dataframe\n",
    "    df.at[idx, 'row count'] = row_count\n",
    "    df.at[idx, 'col count'] = col_count\n",
    "\n",
    "# Sort 'row name' and 'col name' columns alphabetically to drop duplicates later\n",
    "df[['row name', 'col name']] = np.sort(df[['row name', 'col name']], axis=1)\n",
    "\n",
    "# Drop duplicates, keeping the row with the highest correlation number\n",
    "#df = df.sort_values(by='corr number', ascending=False)\n",
    "df = df.drop_duplicates(subset=['row name', 'col name'], keep='first')\n",
    "\n",
    "# Sort by 'corr number' and reset index\n",
    "df = df.sort_values(by='corr number', ascending=False).reset_index(drop=True)\n"
   ]
  },
  {
   "cell_type": "markdown",
   "id": "d5dd7b3e",
   "metadata": {},
   "source": [
    "        - '.at' is a method used to access and modify a single value in a Pandas DataFrame at a specific row and column. "
   ]
  },
  {
   "cell_type": "code",
   "execution_count": 41,
   "id": "e9256455",
   "metadata": {},
   "outputs": [
    {
     "data": {
      "text/html": [
       "<div>\n",
       "<style scoped>\n",
       "    .dataframe tbody tr th:only-of-type {\n",
       "        vertical-align: middle;\n",
       "    }\n",
       "\n",
       "    .dataframe tbody tr th {\n",
       "        vertical-align: top;\n",
       "    }\n",
       "\n",
       "    .dataframe thead th {\n",
       "        text-align: right;\n",
       "    }\n",
       "</style>\n",
       "<table border=\"1\" class=\"dataframe\">\n",
       "  <thead>\n",
       "    <tr style=\"text-align: right;\">\n",
       "      <th></th>\n",
       "      <th>row name</th>\n",
       "      <th>col name</th>\n",
       "      <th>corr number</th>\n",
       "      <th>row count</th>\n",
       "      <th>col count</th>\n",
       "    </tr>\n",
       "  </thead>\n",
       "  <tbody>\n",
       "    <tr>\n",
       "      <th>0</th>\n",
       "      <td>climbing</td>\n",
       "      <td>mountaineering</td>\n",
       "      <td>0.856316</td>\n",
       "      <td>11</td>\n",
       "      <td>15</td>\n",
       "    </tr>\n",
       "    <tr>\n",
       "      <th>1</th>\n",
       "      <td>plays</td>\n",
       "      <td>theatre</td>\n",
       "      <td>0.817993</td>\n",
       "      <td>443</td>\n",
       "      <td>353</td>\n",
       "    </tr>\n",
       "    <tr>\n",
       "      <th>2</th>\n",
       "      <td>regency</td>\n",
       "      <td>regency romance</td>\n",
       "      <td>0.808399</td>\n",
       "      <td>406</td>\n",
       "      <td>274</td>\n",
       "    </tr>\n",
       "    <tr>\n",
       "      <th>3</th>\n",
       "      <td>amish</td>\n",
       "      <td>amish fiction</td>\n",
       "      <td>0.785103</td>\n",
       "      <td>73</td>\n",
       "      <td>47</td>\n",
       "    </tr>\n",
       "    <tr>\n",
       "      <th>4</th>\n",
       "      <td>christmas</td>\n",
       "      <td>holiday</td>\n",
       "      <td>0.730082</td>\n",
       "      <td>262</td>\n",
       "      <td>176</td>\n",
       "    </tr>\n",
       "    <tr>\n",
       "      <th>5</th>\n",
       "      <td>lesbian fiction</td>\n",
       "      <td>lesbian romance</td>\n",
       "      <td>0.729616</td>\n",
       "      <td>72</td>\n",
       "      <td>76</td>\n",
       "    </tr>\n",
       "    <tr>\n",
       "      <th>6</th>\n",
       "      <td>american revolution</td>\n",
       "      <td>american revolutionary war</td>\n",
       "      <td>0.721487</td>\n",
       "      <td>54</td>\n",
       "      <td>32</td>\n",
       "    </tr>\n",
       "    <tr>\n",
       "      <th>7</th>\n",
       "      <td>love inspired</td>\n",
       "      <td>love inspired historical</td>\n",
       "      <td>0.707073</td>\n",
       "      <td>10</td>\n",
       "      <td>5</td>\n",
       "    </tr>\n",
       "    <tr>\n",
       "      <th>8</th>\n",
       "      <td>historical</td>\n",
       "      <td>historical fiction</td>\n",
       "      <td>0.698049</td>\n",
       "      <td>6383</td>\n",
       "      <td>7665</td>\n",
       "    </tr>\n",
       "    <tr>\n",
       "      <th>9</th>\n",
       "      <td>money</td>\n",
       "      <td>personal finance</td>\n",
       "      <td>0.679218</td>\n",
       "      <td>91</td>\n",
       "      <td>44</td>\n",
       "    </tr>\n",
       "    <tr>\n",
       "      <th>10</th>\n",
       "      <td>christian fiction</td>\n",
       "      <td>christianity</td>\n",
       "      <td>0.674856</td>\n",
       "      <td>1154</td>\n",
       "      <td>2139</td>\n",
       "    </tr>\n",
       "    <tr>\n",
       "      <th>11</th>\n",
       "      <td>paranormal</td>\n",
       "      <td>paranormal romance</td>\n",
       "      <td>0.656790</td>\n",
       "      <td>6030</td>\n",
       "      <td>2912</td>\n",
       "    </tr>\n",
       "    <tr>\n",
       "      <th>12</th>\n",
       "      <td>prehistoric</td>\n",
       "      <td>prehistory</td>\n",
       "      <td>0.655378</td>\n",
       "      <td>35</td>\n",
       "      <td>24</td>\n",
       "    </tr>\n",
       "    <tr>\n",
       "      <th>13</th>\n",
       "      <td>cthulhu mythos</td>\n",
       "      <td>lovecraftian</td>\n",
       "      <td>0.654843</td>\n",
       "      <td>24</td>\n",
       "      <td>47</td>\n",
       "    </tr>\n",
       "    <tr>\n",
       "      <th>14</th>\n",
       "      <td>brain</td>\n",
       "      <td>neuroscience</td>\n",
       "      <td>0.648871</td>\n",
       "      <td>56</td>\n",
       "      <td>82</td>\n",
       "    </tr>\n",
       "    <tr>\n",
       "      <th>15</th>\n",
       "      <td>business and finance.1</td>\n",
       "      <td>money</td>\n",
       "      <td>0.647366</td>\n",
       "      <td>189</td>\n",
       "      <td>91</td>\n",
       "    </tr>\n",
       "    <tr>\n",
       "      <th>16</th>\n",
       "      <td>american civil war</td>\n",
       "      <td>civil war</td>\n",
       "      <td>0.646624</td>\n",
       "      <td>56</td>\n",
       "      <td>129</td>\n",
       "    </tr>\n",
       "    <tr>\n",
       "      <th>17</th>\n",
       "      <td>personal development</td>\n",
       "      <td>self help</td>\n",
       "      <td>0.642891</td>\n",
       "      <td>588</td>\n",
       "      <td>1316</td>\n",
       "    </tr>\n",
       "    <tr>\n",
       "      <th>18</th>\n",
       "      <td>counting</td>\n",
       "      <td>number</td>\n",
       "      <td>0.639539</td>\n",
       "      <td>8</td>\n",
       "      <td>11</td>\n",
       "    </tr>\n",
       "    <tr>\n",
       "      <th>19</th>\n",
       "      <td>mystery thriller</td>\n",
       "      <td>thriller</td>\n",
       "      <td>0.633191</td>\n",
       "      <td>3094</td>\n",
       "      <td>4587</td>\n",
       "    </tr>\n",
       "    <tr>\n",
       "      <th>20</th>\n",
       "      <td>fantasy</td>\n",
       "      <td>science fiction</td>\n",
       "      <td>0.631002</td>\n",
       "      <td>15046</td>\n",
       "      <td>9933</td>\n",
       "    </tr>\n",
       "    <tr>\n",
       "      <th>21</th>\n",
       "      <td>crime</td>\n",
       "      <td>mystery thriller</td>\n",
       "      <td>0.624613</td>\n",
       "      <td>3675</td>\n",
       "      <td>3094</td>\n",
       "    </tr>\n",
       "    <tr>\n",
       "      <th>22</th>\n",
       "      <td>shounen ai</td>\n",
       "      <td>yaoi</td>\n",
       "      <td>0.620032</td>\n",
       "      <td>15</td>\n",
       "      <td>39</td>\n",
       "    </tr>\n",
       "    <tr>\n",
       "      <th>23</th>\n",
       "      <td>suspense</td>\n",
       "      <td>thriller</td>\n",
       "      <td>0.611209</td>\n",
       "      <td>3474</td>\n",
       "      <td>4587</td>\n",
       "    </tr>\n",
       "    <tr>\n",
       "      <th>24</th>\n",
       "      <td>medical</td>\n",
       "      <td>medicine</td>\n",
       "      <td>0.609798</td>\n",
       "      <td>253</td>\n",
       "      <td>176</td>\n",
       "    </tr>\n",
       "    <tr>\n",
       "      <th>25</th>\n",
       "      <td>paranormal</td>\n",
       "      <td>urban fantasy</td>\n",
       "      <td>0.606845</td>\n",
       "      <td>6030</td>\n",
       "      <td>3458</td>\n",
       "    </tr>\n",
       "  </tbody>\n",
       "</table>\n",
       "</div>"
      ],
      "text/plain": [
       "                  row name                    col name  corr number  \\\n",
       "0                 climbing              mountaineering     0.856316   \n",
       "1                    plays                     theatre     0.817993   \n",
       "2                  regency             regency romance     0.808399   \n",
       "3                    amish               amish fiction     0.785103   \n",
       "4                christmas                     holiday     0.730082   \n",
       "5          lesbian fiction             lesbian romance     0.729616   \n",
       "6      american revolution  american revolutionary war     0.721487   \n",
       "7            love inspired    love inspired historical     0.707073   \n",
       "8               historical          historical fiction     0.698049   \n",
       "9                    money            personal finance     0.679218   \n",
       "10       christian fiction                christianity     0.674856   \n",
       "11              paranormal          paranormal romance     0.656790   \n",
       "12             prehistoric                  prehistory     0.655378   \n",
       "13          cthulhu mythos                lovecraftian     0.654843   \n",
       "14                   brain                neuroscience     0.648871   \n",
       "15  business and finance.1                       money     0.647366   \n",
       "16      american civil war                   civil war     0.646624   \n",
       "17    personal development                   self help     0.642891   \n",
       "18                counting                      number     0.639539   \n",
       "19        mystery thriller                    thriller     0.633191   \n",
       "20                 fantasy             science fiction     0.631002   \n",
       "21                   crime            mystery thriller     0.624613   \n",
       "22              shounen ai                        yaoi     0.620032   \n",
       "23                suspense                    thriller     0.611209   \n",
       "24                 medical                    medicine     0.609798   \n",
       "25              paranormal               urban fantasy     0.606845   \n",
       "\n",
       "    row count  col count  \n",
       "0          11         15  \n",
       "1         443        353  \n",
       "2         406        274  \n",
       "3          73         47  \n",
       "4         262        176  \n",
       "5          72         76  \n",
       "6          54         32  \n",
       "7          10          5  \n",
       "8        6383       7665  \n",
       "9          91         44  \n",
       "10       1154       2139  \n",
       "11       6030       2912  \n",
       "12         35         24  \n",
       "13         24         47  \n",
       "14         56         82  \n",
       "15        189         91  \n",
       "16         56        129  \n",
       "17        588       1316  \n",
       "18          8         11  \n",
       "19       3094       4587  \n",
       "20      15046       9933  \n",
       "21       3675       3094  \n",
       "22         15         39  \n",
       "23       3474       4587  \n",
       "24        253        176  \n",
       "25       6030       3458  "
      ]
     },
     "metadata": {},
     "output_type": "display_data"
    },
    {
     "data": {
      "text/plain": [
       "26"
      ]
     },
     "metadata": {},
     "output_type": "display_data"
    }
   ],
   "source": [
    "display(df, len(df))"
   ]
  },
  {
   "cell_type": "markdown",
   "id": "c4a672d2",
   "metadata": {},
   "source": [
    "Using the information from the previous table, I have decided to drop the following variables:\n",
    "\n",
    "- Climbing\n",
    "- Theater\n",
    "- Regency romance\n",
    "- Amish fiction\n",
    "- Holiday\n",
    "- Lesbian fiction\n",
    "- American revolutionary war."
   ]
  },
  {
   "cell_type": "code",
   "execution_count": 42,
   "id": "5f32bcd4",
   "metadata": {},
   "outputs": [
    {
     "data": {
      "text/plain": [
       "(52478, 603)"
      ]
     },
     "execution_count": 42,
     "metadata": {},
     "output_type": "execute_result"
    }
   ],
   "source": [
    "cols_to_drop = ['climbing','theatre','regency romance', 'amish fiction','holiday',\n",
    "               'lesbian fiction','american revolutionary war']\n",
    "\n",
    "# Drop columns\n",
    "genres_df = genres_df.drop(cols_to_drop, axis=1)\n",
    "genres_df.shape"
   ]
  },
  {
   "cell_type": "markdown",
   "id": "3867cb6b",
   "metadata": {},
   "source": [
    "##### Merging dataframes on rows"
   ]
  },
  {
   "cell_type": "code",
   "execution_count": 43,
   "id": "f3e692cb",
   "metadata": {},
   "outputs": [
    {
     "data": {
      "text/plain": [
       "True"
      ]
     },
     "execution_count": 43,
     "metadata": {},
     "output_type": "execute_result"
    }
   ],
   "source": [
    "# Checking both dataframes have the same length\n",
    "len(gr_data) == len(genres_df)"
   ]
  },
  {
   "cell_type": "code",
   "execution_count": 44,
   "id": "cdb540bc",
   "metadata": {},
   "outputs": [
    {
     "data": {
      "text/plain": [
       "0            0\n",
       "1            1\n",
       "2            2\n",
       "3            3\n",
       "4            4\n",
       "         ...  \n",
       "52473    52402\n",
       "52474    52407\n",
       "52475    52436\n",
       "52476    52447\n",
       "52477    52457\n",
       "Name: index_gr_data, Length: 52478, dtype: int64"
      ]
     },
     "execution_count": 44,
     "metadata": {},
     "output_type": "execute_result"
    }
   ],
   "source": [
    "genres_df['index_gr_data']"
   ]
  },
  {
   "cell_type": "code",
   "execution_count": 45,
   "id": "9f6c3f9b",
   "metadata": {},
   "outputs": [],
   "source": [
    "# Merge 'gr_data' with 'genres_df' using 'index_gr_data' as key\n",
    "gr_merged = pd.merge(gr_data, genres_df, left_index=True, right_on='index_gr_data')"
   ]
  },
  {
   "cell_type": "code",
   "execution_count": 46,
   "id": "ac45fc79",
   "metadata": {},
   "outputs": [
    {
     "data": {
      "text/html": [
       "<div>\n",
       "<style scoped>\n",
       "    .dataframe tbody tr th:only-of-type {\n",
       "        vertical-align: middle;\n",
       "    }\n",
       "\n",
       "    .dataframe tbody tr th {\n",
       "        vertical-align: top;\n",
       "    }\n",
       "\n",
       "    .dataframe thead th {\n",
       "        text-align: right;\n",
       "    }\n",
       "</style>\n",
       "<table border=\"1\" class=\"dataframe\">\n",
       "  <thead>\n",
       "    <tr style=\"text-align: right;\">\n",
       "      <th></th>\n",
       "      <th>title</th>\n",
       "      <th>series</th>\n",
       "      <th>author</th>\n",
       "      <th>rating</th>\n",
       "      <th>description</th>\n",
       "      <th>language</th>\n",
       "      <th>isbn</th>\n",
       "      <th>genres</th>\n",
       "      <th>characters</th>\n",
       "      <th>book_format</th>\n",
       "      <th>edition</th>\n",
       "      <th>pages</th>\n",
       "      <th>publisher</th>\n",
       "      <th>publish_date</th>\n",
       "      <th>first_publish_date</th>\n",
       "      <th>...</th>\n",
       "      <th>graphic novel and comics.1</th>\n",
       "      <th>guides and travel.1</th>\n",
       "      <th>social justice and activism.1</th>\n",
       "      <th>business and finance.1</th>\n",
       "      <th>mythology and fairy tales.1</th>\n",
       "      <th>programming and computer science.1</th>\n",
       "      <th>diary and journal.1</th>\n",
       "      <th>unknown</th>\n",
       "      <th>cars and motorcycles.1</th>\n",
       "      <th>bande dessinée</th>\n",
       "      <th>sewing and crafts.1</th>\n",
       "      <th>tv and series.1</th>\n",
       "      <th>maps and cartography.1</th>\n",
       "      <th>漫画</th>\n",
       "      <th>veganism and vegetarianism.1</th>\n",
       "    </tr>\n",
       "  </thead>\n",
       "  <tbody>\n",
       "    <tr>\n",
       "      <th>0</th>\n",
       "      <td>The Hunger Games</td>\n",
       "      <td>The Hunger Games #1</td>\n",
       "      <td>Suzanne Collins</td>\n",
       "      <td>4.33</td>\n",
       "      <td>WINNING MEANS FAME AND FORTUNE.LOSING MEANS CE...</td>\n",
       "      <td>English</td>\n",
       "      <td>9.78044E+12</td>\n",
       "      <td>['Young Adult', 'Fiction', 'Dystopia', 'Fantas...</td>\n",
       "      <td>['Katniss Everdeen', 'Peeta Mellark', 'Cato (H...</td>\n",
       "      <td>Hardcover</td>\n",
       "      <td>First Edition</td>\n",
       "      <td>374.0</td>\n",
       "      <td>Scholastic Press</td>\n",
       "      <td>09/14/08</td>\n",
       "      <td>NaN</td>\n",
       "      <td>...</td>\n",
       "      <td>0</td>\n",
       "      <td>0</td>\n",
       "      <td>0</td>\n",
       "      <td>0</td>\n",
       "      <td>0</td>\n",
       "      <td>0</td>\n",
       "      <td>0</td>\n",
       "      <td>0</td>\n",
       "      <td>0</td>\n",
       "      <td>0</td>\n",
       "      <td>0</td>\n",
       "      <td>0</td>\n",
       "      <td>0</td>\n",
       "      <td>0</td>\n",
       "      <td>0</td>\n",
       "    </tr>\n",
       "    <tr>\n",
       "      <th>1</th>\n",
       "      <td>Harry Potter and the Order of the Phoenix</td>\n",
       "      <td>Harry Potter #5</td>\n",
       "      <td>J.K. Rowling</td>\n",
       "      <td>4.50</td>\n",
       "      <td>There is a door at the end of a silent corrido...</td>\n",
       "      <td>English</td>\n",
       "      <td>9.78044E+12</td>\n",
       "      <td>['Fantasy', 'Young Adult', 'Fiction', 'Magic',...</td>\n",
       "      <td>['Sirius Black', 'Draco Malfoy', 'Ron Weasley'...</td>\n",
       "      <td>Paperback</td>\n",
       "      <td>US Edition</td>\n",
       "      <td>870.0</td>\n",
       "      <td>Scholastic Inc.</td>\n",
       "      <td>09/28/04</td>\n",
       "      <td>06/21/03</td>\n",
       "      <td>...</td>\n",
       "      <td>0</td>\n",
       "      <td>0</td>\n",
       "      <td>0</td>\n",
       "      <td>0</td>\n",
       "      <td>0</td>\n",
       "      <td>0</td>\n",
       "      <td>0</td>\n",
       "      <td>0</td>\n",
       "      <td>0</td>\n",
       "      <td>0</td>\n",
       "      <td>0</td>\n",
       "      <td>0</td>\n",
       "      <td>0</td>\n",
       "      <td>0</td>\n",
       "      <td>0</td>\n",
       "    </tr>\n",
       "    <tr>\n",
       "      <th>2</th>\n",
       "      <td>To Kill a Mockingbird</td>\n",
       "      <td>To Kill a Mockingbird</td>\n",
       "      <td>Harper Lee</td>\n",
       "      <td>4.28</td>\n",
       "      <td>The unforgettable novel of a childhood in a sl...</td>\n",
       "      <td>English</td>\n",
       "      <td>1E+13</td>\n",
       "      <td>['Classics', 'Fiction', 'Historical Fiction', ...</td>\n",
       "      <td>['Scout Finch', 'Atticus Finch', 'Jem Finch', ...</td>\n",
       "      <td>Paperback</td>\n",
       "      <td>NaN</td>\n",
       "      <td>324.0</td>\n",
       "      <td>Harper Perennial Modern Classics</td>\n",
       "      <td>05/23/06</td>\n",
       "      <td>07-11-1960</td>\n",
       "      <td>...</td>\n",
       "      <td>0</td>\n",
       "      <td>0</td>\n",
       "      <td>0</td>\n",
       "      <td>0</td>\n",
       "      <td>0</td>\n",
       "      <td>0</td>\n",
       "      <td>0</td>\n",
       "      <td>0</td>\n",
       "      <td>0</td>\n",
       "      <td>0</td>\n",
       "      <td>0</td>\n",
       "      <td>0</td>\n",
       "      <td>0</td>\n",
       "      <td>0</td>\n",
       "      <td>0</td>\n",
       "    </tr>\n",
       "  </tbody>\n",
       "</table>\n",
       "<p>3 rows × 627 columns</p>\n",
       "</div>"
      ],
      "text/plain": [
       "                                       title                 series  \\\n",
       "0                           The Hunger Games    The Hunger Games #1   \n",
       "1  Harry Potter and the Order of the Phoenix        Harry Potter #5   \n",
       "2                      To Kill a Mockingbird  To Kill a Mockingbird   \n",
       "\n",
       "            author  rating                                        description  \\\n",
       "0  Suzanne Collins    4.33  WINNING MEANS FAME AND FORTUNE.LOSING MEANS CE...   \n",
       "1     J.K. Rowling    4.50  There is a door at the end of a silent corrido...   \n",
       "2       Harper Lee    4.28  The unforgettable novel of a childhood in a sl...   \n",
       "\n",
       "  language         isbn                                             genres  \\\n",
       "0  English  9.78044E+12  ['Young Adult', 'Fiction', 'Dystopia', 'Fantas...   \n",
       "1  English  9.78044E+12  ['Fantasy', 'Young Adult', 'Fiction', 'Magic',...   \n",
       "2  English        1E+13  ['Classics', 'Fiction', 'Historical Fiction', ...   \n",
       "\n",
       "                                          characters book_format  \\\n",
       "0  ['Katniss Everdeen', 'Peeta Mellark', 'Cato (H...   Hardcover   \n",
       "1  ['Sirius Black', 'Draco Malfoy', 'Ron Weasley'...   Paperback   \n",
       "2  ['Scout Finch', 'Atticus Finch', 'Jem Finch', ...   Paperback   \n",
       "\n",
       "         edition  pages                         publisher publish_date  \\\n",
       "0  First Edition  374.0                  Scholastic Press     09/14/08   \n",
       "1     US Edition  870.0                   Scholastic Inc.     09/28/04   \n",
       "2            NaN  324.0  Harper Perennial Modern Classics     05/23/06   \n",
       "\n",
       "  first_publish_date  ... graphic novel and comics.1  guides and travel.1  \\\n",
       "0                NaN  ...                          0                    0   \n",
       "1           06/21/03  ...                          0                    0   \n",
       "2         07-11-1960  ...                          0                    0   \n",
       "\n",
       "  social justice and activism.1  business and finance.1  \\\n",
       "0                             0                       0   \n",
       "1                             0                       0   \n",
       "2                             0                       0   \n",
       "\n",
       "  mythology and fairy tales.1  programming and computer science.1  \\\n",
       "0                           0                                   0   \n",
       "1                           0                                   0   \n",
       "2                           0                                   0   \n",
       "\n",
       "   diary and journal.1  unknown cars and motorcycles.1  bande dessinée  \\\n",
       "0                    0        0                      0               0   \n",
       "1                    0        0                      0               0   \n",
       "2                    0        0                      0               0   \n",
       "\n",
       "   sewing and crafts.1  tv and series.1  maps and cartography.1  漫画  \\\n",
       "0                    0                0                       0   0   \n",
       "1                    0                0                       0   0   \n",
       "2                    0                0                       0   0   \n",
       "\n",
       "   veganism and vegetarianism.1  \n",
       "0                             0  \n",
       "1                             0  \n",
       "2                             0  \n",
       "\n",
       "[3 rows x 627 columns]"
      ]
     },
     "execution_count": 46,
     "metadata": {},
     "output_type": "execute_result"
    }
   ],
   "source": [
    "gr_merged.head(3)"
   ]
  },
  {
   "cell_type": "code",
   "execution_count": 47,
   "id": "92ad729b",
   "metadata": {},
   "outputs": [],
   "source": [
    "# Drop original 'genres' column and ' index_gr_data' \n",
    "gr_merged = gr_merged.drop(['genres','index_gr_data'], axis=1)"
   ]
  },
  {
   "cell_type": "code",
   "execution_count": 48,
   "id": "64f17c77",
   "metadata": {},
   "outputs": [
    {
     "data": {
      "text/plain": [
       "(52478, 625)"
      ]
     },
     "execution_count": 48,
     "metadata": {},
     "output_type": "execute_result"
    }
   ],
   "source": [
    "gr_merged.shape"
   ]
  },
  {
   "cell_type": "code",
   "execution_count": 49,
   "id": "ed501041",
   "metadata": {},
   "outputs": [],
   "source": [
    "# Saving dataset\n",
    "gr_merged.to_csv('gr_merged_genres.csv')"
   ]
  },
  {
   "cell_type": "code",
   "execution_count": null,
   "id": "6c3d8978",
   "metadata": {},
   "outputs": [],
   "source": []
  },
  {
   "cell_type": "code",
   "execution_count": 50,
   "id": "0a3e1ab8",
   "metadata": {},
   "outputs": [
    {
     "data": {
      "text/plain": [
       "Index(['title', 'series', 'author', 'rating', 'description', 'language',\n",
       "       'isbn', 'genres', 'characters', 'book_format', 'edition', 'pages',\n",
       "       'publisher', 'publish_date', 'first_publish_date', 'awards',\n",
       "       'num_ratings', 'rating_by_stars', 'liked_perc', 'setting', 'bbe_score',\n",
       "       'bbe_votes', 'price', 'other_collabs'],\n",
       "      dtype='object')"
      ]
     },
     "execution_count": 50,
     "metadata": {},
     "output_type": "execute_result"
    }
   ],
   "source": [
    "gr_data.columns"
   ]
  },
  {
   "cell_type": "markdown",
   "id": "b333f044",
   "metadata": {},
   "source": [
    "### Book Format"
   ]
  },
  {
   "cell_type": "code",
   "execution_count": 107,
   "id": "a24cb6b2",
   "metadata": {},
   "outputs": [],
   "source": [
    "gr_data = pd.read_csv('gr_merged_genres.csv')"
   ]
  },
  {
   "cell_type": "code",
   "execution_count": 108,
   "id": "a2c0e70a",
   "metadata": {},
   "outputs": [],
   "source": [
    "gr_data = gr_data.drop(['Unnamed: 0'],axis=1)"
   ]
  },
  {
   "cell_type": "code",
   "execution_count": 109,
   "id": "91d10d7c",
   "metadata": {},
   "outputs": [
    {
     "data": {
      "text/plain": [
       "Index(['title', 'series', 'author', 'rating', 'description', 'language',\n",
       "       'isbn', 'characters', 'book_format', 'edition',\n",
       "       ...\n",
       "       'programming and computer science.1', 'diary and journal.1', 'unknown',\n",
       "       'cars and motorcycles.1', 'bande dessinée', 'sewing and crafts.1',\n",
       "       'tv and series.1', 'maps and cartography.1', '漫画',\n",
       "       'veganism and vegetarianism.1'],\n",
       "      dtype='object', length=625)"
      ]
     },
     "execution_count": 109,
     "metadata": {},
     "output_type": "execute_result"
    }
   ],
   "source": [
    "gr_data.columns"
   ]
  },
  {
   "cell_type": "code",
   "execution_count": 110,
   "id": "3c72aaf8",
   "metadata": {},
   "outputs": [
    {
     "data": {
      "text/plain": [
       "137"
      ]
     },
     "execution_count": 110,
     "metadata": {},
     "output_type": "execute_result"
    }
   ],
   "source": [
    "# Unique values\n",
    "len(gr_data['book_format'].value_counts(dropna=False))"
   ]
  },
  {
   "cell_type": "markdown",
   "id": "82e3d0c4",
   "metadata": {},
   "source": [
    "##### Dealing with NaN values"
   ]
  },
  {
   "cell_type": "code",
   "execution_count": 111,
   "id": "336c6558",
   "metadata": {},
   "outputs": [
    {
     "data": {
      "text/plain": [
       "1473"
      ]
     },
     "execution_count": 111,
     "metadata": {},
     "output_type": "execute_result"
    }
   ],
   "source": [
    "# NaN values\n",
    "gr_data['book_format'].isna().sum()"
   ]
  },
  {
   "cell_type": "code",
   "execution_count": 112,
   "id": "4eb5d5cc",
   "metadata": {},
   "outputs": [
    {
     "data": {
      "text/html": [
       "<div>\n",
       "<style scoped>\n",
       "    .dataframe tbody tr th:only-of-type {\n",
       "        vertical-align: middle;\n",
       "    }\n",
       "\n",
       "    .dataframe tbody tr th {\n",
       "        vertical-align: top;\n",
       "    }\n",
       "\n",
       "    .dataframe thead th {\n",
       "        text-align: right;\n",
       "    }\n",
       "</style>\n",
       "<table border=\"1\" class=\"dataframe\">\n",
       "  <thead>\n",
       "    <tr style=\"text-align: right;\">\n",
       "      <th></th>\n",
       "      <th>title</th>\n",
       "      <th>series</th>\n",
       "      <th>author</th>\n",
       "      <th>rating</th>\n",
       "      <th>description</th>\n",
       "      <th>language</th>\n",
       "      <th>isbn</th>\n",
       "      <th>characters</th>\n",
       "      <th>book_format</th>\n",
       "      <th>edition</th>\n",
       "      <th>pages</th>\n",
       "      <th>publisher</th>\n",
       "      <th>publish_date</th>\n",
       "      <th>first_publish_date</th>\n",
       "      <th>awards</th>\n",
       "      <th>...</th>\n",
       "      <th>graphic novel and comics.1</th>\n",
       "      <th>guides and travel.1</th>\n",
       "      <th>social justice and activism.1</th>\n",
       "      <th>business and finance.1</th>\n",
       "      <th>mythology and fairy tales.1</th>\n",
       "      <th>programming and computer science.1</th>\n",
       "      <th>diary and journal.1</th>\n",
       "      <th>unknown</th>\n",
       "      <th>cars and motorcycles.1</th>\n",
       "      <th>bande dessinée</th>\n",
       "      <th>sewing and crafts.1</th>\n",
       "      <th>tv and series.1</th>\n",
       "      <th>maps and cartography.1</th>\n",
       "      <th>漫画</th>\n",
       "      <th>veganism and vegetarianism.1</th>\n",
       "    </tr>\n",
       "  </thead>\n",
       "  <tbody>\n",
       "    <tr>\n",
       "      <th>115</th>\n",
       "      <td>Flowers for Algernon</td>\n",
       "      <td>NaN</td>\n",
       "      <td>Daniel Keyes</td>\n",
       "      <td>4.14</td>\n",
       "      <td>The story of a mentally disabled man whose exp...</td>\n",
       "      <td>English</td>\n",
       "      <td>1E+13</td>\n",
       "      <td>['Charlie Gordon', 'Alice Kinnian']</td>\n",
       "      <td>NaN</td>\n",
       "      <td>NaN</td>\n",
       "      <td>216.0</td>\n",
       "      <td>NaN</td>\n",
       "      <td>NaN</td>\n",
       "      <td>04/28/59</td>\n",
       "      <td>['Hugo Award Nominee for Best Novel (1967)', '...</td>\n",
       "      <td>...</td>\n",
       "      <td>0</td>\n",
       "      <td>0</td>\n",
       "      <td>0</td>\n",
       "      <td>0</td>\n",
       "      <td>0</td>\n",
       "      <td>0</td>\n",
       "      <td>0</td>\n",
       "      <td>0</td>\n",
       "      <td>0</td>\n",
       "      <td>0</td>\n",
       "      <td>0</td>\n",
       "      <td>0</td>\n",
       "      <td>0</td>\n",
       "      <td>0</td>\n",
       "      <td>0</td>\n",
       "    </tr>\n",
       "    <tr>\n",
       "      <th>782</th>\n",
       "      <td>گم شده ای در مه</td>\n",
       "      <td>NaN</td>\n",
       "      <td>سید مرتضی مصطفوی</td>\n",
       "      <td>4.03</td>\n",
       "      <td>Philosophical story about human loneliness in ...</td>\n",
       "      <td>Persian</td>\n",
       "      <td>9.78601E+12</td>\n",
       "      <td>[]</td>\n",
       "      <td>NaN</td>\n",
       "      <td>NaN</td>\n",
       "      <td>82.0</td>\n",
       "      <td>نشر داستان</td>\n",
       "      <td>01-02-2016</td>\n",
       "      <td>NaN</td>\n",
       "      <td>[]</td>\n",
       "      <td>...</td>\n",
       "      <td>0</td>\n",
       "      <td>0</td>\n",
       "      <td>0</td>\n",
       "      <td>0</td>\n",
       "      <td>0</td>\n",
       "      <td>0</td>\n",
       "      <td>0</td>\n",
       "      <td>0</td>\n",
       "      <td>0</td>\n",
       "      <td>0</td>\n",
       "      <td>0</td>\n",
       "      <td>0</td>\n",
       "      <td>0</td>\n",
       "      <td>0</td>\n",
       "      <td>0</td>\n",
       "    </tr>\n",
       "    <tr>\n",
       "      <th>2211</th>\n",
       "      <td>The Trial and Death of Socrates (Euthyphro, Ap...</td>\n",
       "      <td>Great Books in Philosophy</td>\n",
       "      <td>Plato</td>\n",
       "      <td>4.09</td>\n",
       "      <td>NaN</td>\n",
       "      <td>English</td>\n",
       "      <td>9.78087E+12</td>\n",
       "      <td>['Socrates (philosopher)']</td>\n",
       "      <td>NaN</td>\n",
       "      <td>3rd</td>\n",
       "      <td>58.0</td>\n",
       "      <td>Hackett Publishing Company</td>\n",
       "      <td>June 1st 2001</td>\n",
       "      <td>10/28/00</td>\n",
       "      <td>[]</td>\n",
       "      <td>...</td>\n",
       "      <td>0</td>\n",
       "      <td>0</td>\n",
       "      <td>0</td>\n",
       "      <td>0</td>\n",
       "      <td>0</td>\n",
       "      <td>0</td>\n",
       "      <td>0</td>\n",
       "      <td>0</td>\n",
       "      <td>0</td>\n",
       "      <td>0</td>\n",
       "      <td>0</td>\n",
       "      <td>0</td>\n",
       "      <td>0</td>\n",
       "      <td>0</td>\n",
       "      <td>0</td>\n",
       "    </tr>\n",
       "  </tbody>\n",
       "</table>\n",
       "<p>3 rows × 625 columns</p>\n",
       "</div>"
      ],
      "text/plain": [
       "                                                  title  \\\n",
       "115                                Flowers for Algernon   \n",
       "782                                     گم شده ای در مه   \n",
       "2211  The Trial and Death of Socrates (Euthyphro, Ap...   \n",
       "\n",
       "                         series            author  rating  \\\n",
       "115                         NaN      Daniel Keyes    4.14   \n",
       "782                         NaN  سید مرتضی مصطفوی    4.03   \n",
       "2211  Great Books in Philosophy             Plato    4.09   \n",
       "\n",
       "                                            description language         isbn  \\\n",
       "115   The story of a mentally disabled man whose exp...  English        1E+13   \n",
       "782   Philosophical story about human loneliness in ...  Persian  9.78601E+12   \n",
       "2211                                                NaN  English  9.78087E+12   \n",
       "\n",
       "                               characters book_format edition  pages  \\\n",
       "115   ['Charlie Gordon', 'Alice Kinnian']         NaN     NaN  216.0   \n",
       "782                                    []         NaN     NaN   82.0   \n",
       "2211           ['Socrates (philosopher)']         NaN     3rd   58.0   \n",
       "\n",
       "                       publisher   publish_date first_publish_date  \\\n",
       "115                          NaN            NaN           04/28/59   \n",
       "782                   نشر داستان     01-02-2016                NaN   \n",
       "2211  Hackett Publishing Company  June 1st 2001           10/28/00   \n",
       "\n",
       "                                                 awards  ...  \\\n",
       "115   ['Hugo Award Nominee for Best Novel (1967)', '...  ...   \n",
       "782                                                  []  ...   \n",
       "2211                                                 []  ...   \n",
       "\n",
       "      graphic novel and comics.1 guides and travel.1  \\\n",
       "115                            0                   0   \n",
       "782                            0                   0   \n",
       "2211                           0                   0   \n",
       "\n",
       "      social justice and activism.1 business and finance.1  \\\n",
       "115                               0                      0   \n",
       "782                               0                      0   \n",
       "2211                              0                      0   \n",
       "\n",
       "      mythology and fairy tales.1  programming and computer science.1  \\\n",
       "115                             0                                   0   \n",
       "782                             0                                   0   \n",
       "2211                            0                                   0   \n",
       "\n",
       "      diary and journal.1 unknown  cars and motorcycles.1  bande dessinée  \\\n",
       "115                     0       0                       0               0   \n",
       "782                     0       0                       0               0   \n",
       "2211                    0       0                       0               0   \n",
       "\n",
       "      sewing and crafts.1  tv and series.1  maps and cartography.1  漫画  \\\n",
       "115                     0                0                       0   0   \n",
       "782                     0                0                       0   0   \n",
       "2211                    0                0                       0   0   \n",
       "\n",
       "      veganism and vegetarianism.1  \n",
       "115                              0  \n",
       "782                              0  \n",
       "2211                             0  \n",
       "\n",
       "[3 rows x 625 columns]"
      ]
     },
     "metadata": {},
     "output_type": "display_data"
    },
    {
     "data": {
      "text/plain": [
       "1473"
      ]
     },
     "metadata": {},
     "output_type": "display_data"
    }
   ],
   "source": [
    "# Rows with NaN 'boook_format'\n",
    "display(gr_data[gr_data['book_format'].isnull()].head(3),len(gr_data[gr_data['book_format'].isnull()]))"
   ]
  },
  {
   "cell_type": "code",
   "execution_count": 113,
   "id": "b2981dd9",
   "metadata": {},
   "outputs": [],
   "source": [
    "def find_format(df):\n",
    "    \n",
    "    \"\"\"\n",
    "    \"This function checks if a book with a missing format value is part of any series\n",
    "    with other books. If there is a match, it attempts to retrieve the format from the\n",
    "    other book and copy it to the original book. If there is no match or the other book\n",
    "    has no format value, the function adds 'Unknown' as the book format.\"\n",
    "    \"\"\"\n",
    "    \n",
    "    # Count the number of null values in the 'book_format' column\n",
    "    null_format = df['book_format'].isnull().sum()    \n",
    "    # If there are null values in the 'book_format' column\n",
    "    if null_format > 0:  \n",
    "        # Iterate over each row in the dataframe\n",
    "        for i, row in df.iterrows():   \n",
    "            # If the 'book_format' column for this row is null\n",
    "            if pd.isnull(row['book_format']): \n",
    "                # Check if the book is part of a series\n",
    "                if not pd.isnull(row['series']): \n",
    "                    # Look for other books in the same series\n",
    "                    matching_series = df[df['series'] == row['series']]\n",
    "                    # If there are other books in the series with a defined format\n",
    "                    if len(matching_series) > 0 and not matching_series['book_format'].isnull().all():   \n",
    "                        # Find the format of the other book in the series\n",
    "                        matching_format = matching_series['book_format'].dropna().iloc[0]\n",
    "                        # Assign the matching format to the current row\n",
    "                        df.at[i, 'book_format'] = matching_format\n",
    "                    # If there are no other books in the series with a defined format\n",
    "                    else:\n",
    "                        # Assign 'Unknown' to the current row\n",
    "                        df.at[i, 'book_format'] = 'Unknown'\n",
    "                # If the book is not part of a series\n",
    "                else:\n",
    "                    # Assign 'Unknown' to the current row\n",
    "                    df.at[i, 'book_format'] = 'Unknown'\n",
    "    \n",
    "    # Return the updated dataframe\n",
    "    return df\n"
   ]
  },
  {
   "cell_type": "code",
   "execution_count": 114,
   "id": "35a3680e",
   "metadata": {},
   "outputs": [],
   "source": [
    "# Apply function\n",
    "gr_data = find_format(gr_data)"
   ]
  },
  {
   "cell_type": "code",
   "execution_count": 115,
   "id": "8ac6dd95",
   "metadata": {},
   "outputs": [
    {
     "name": "stdout",
     "output_type": "stream",
     "text": [
      "Out of the original 1473 NaN values, 1445 books have been assigned an 'Unknown' format,\n",
      "while 28 books have been assigned the same format as other books in their series.\n"
     ]
    }
   ],
   "source": [
    "# There are 1445 books with 'Unknown format'\n",
    "unknown = len(gr_data[gr_data['book_format'] == 'Unknown'])\n",
    "\n",
    "print(\"Out of the original 1473 NaN values, \" + str(unknown) + \" books have been assigned an 'Unknown' format,\\nwhile \" \n",
    "      + str(1473 - unknown) + \" books have been assigned the same format as other books in their series.\")\n"
   ]
  },
  {
   "cell_type": "markdown",
   "id": "d0275b99",
   "metadata": {},
   "source": [
    "#### Reducing number of book formats"
   ]
  },
  {
   "cell_type": "code",
   "execution_count": 116,
   "id": "3aff65c5",
   "metadata": {},
   "outputs": [
    {
     "data": {
      "text/plain": [
       "137"
      ]
     },
     "execution_count": 116,
     "metadata": {},
     "output_type": "execute_result"
    }
   ],
   "source": [
    "# Unique values\n",
    "len(gr_data['book_format'].value_counts(dropna=False))"
   ]
  },
  {
   "cell_type": "code",
   "execution_count": 117,
   "id": "0e2d9065",
   "metadata": {},
   "outputs": [
    {
     "data": {
      "text/plain": [
       "Paperback                26786\n",
       "Hardcover                12272\n",
       "Kindle Edition            5841\n",
       "Mass Market Paperback     2569\n",
       "ebook                     2548\n",
       "                         ...  \n",
       "capa mole                    1\n",
       "Box-Set                      1\n",
       "Paperback, eBook             1\n",
       "paper book                   1\n",
       "pamphlet                     1\n",
       "Name: book_format, Length: 137, dtype: int64"
      ]
     },
     "execution_count": 117,
     "metadata": {},
     "output_type": "execute_result"
    }
   ],
   "source": [
    "gr_data['book_format'].value_counts(dropna=False)"
   ]
  },
  {
   "cell_type": "code",
   "execution_count": 122,
   "id": "a3e410e8",
   "metadata": {},
   "outputs": [],
   "source": [
    "formats = {\n",
    "    \n",
    "    'Paperback' : ['Mass Market Paperback', 'Trade Paperback', 'paperback', 'Mass Market',\n",
    "                    'Perfect Paperback', 'paper', 'capa comun', 'pasta blanda', 'mass_market',\n",
    "                    'softcover', 'Trade paperback', 'Softcover', 'Pocket', 'Paper Back',\n",
    "                    'Novelty Book', 'Novel', 'Mass Market Paperback', 'Paper Back',\n",
    "                    'Bolsillo con sobrecubierta', 'Trade Paper', 'Fiction', 'paper book',\n",
    "                    'Broché','Capa Mole', 'Capa mole', 'Paperback ', 'Capa comum',\n",
    "                    'Paperback (عربي-English)','Mass Market Paperback', 'Soft cover',\n",
    "                    'Capa mole - 15,5 x 23 x 2cm','capa mole','Pasta blanda',\n",
    "                    'Mass Market Paperback ', 'Paper back', 'Rústica'],\n",
    "    \n",
    "    'Hardcover' : ['Library Binding', 'hardcover', 'Hardback', 'Taschenbuch',\n",
    "                    'Slipcased Hardcover', 'Capa dura', 'Pasta dura', 'Hard Cover',\n",
    "                    'hardback', 'Turtleback', 'Tankobon Hardcover', 'Big Book',\n",
    "                    'Hardcover Slipcased','hardbound','Hardcover Chapbook','Hardcover',\n",
    "                    'Paper Dust Jacket','Hardcover Slipcased ', 'Paperback mit Klappen',\n",
    "                    'Hardcover im Schuber','Klappenbroschur'],\n",
    "    \n",
    "    'Ebook' : ['Paperback and Kindle','Paperback, eBook','Webnovel','ebook and paperback',\n",
    "               'Interactive ebook', 'Paperback/Ebook','Kindle',\n",
    "               'Hard cover, Soft cover, e-book','Paperback, Kindle, Ebook, Audio',\n",
    "               'Digital',\"author's website\",'Online Fiction - Complete','kindle_edition',\n",
    "               'web','PDF','Paperback/Kindle','Softcover, free ebook','online fiction',\n",
    "               'Online Fiction','Webtoon','eBook Kindle','Wattpad','Online','Ebook_Online',\n",
    "               'Nook','ebook','Kindle Edition', 'Poche'],\n",
    "    \n",
    "    'Audio' : ['Audio Play','audiobook','Audio Cd','audio cassette','Audio Book','CD-ROM',\n",
    "               'MP3 CD','Audible Audio','Audio Cassette','Audiobook','Audio CD'],\n",
    "    \n",
    "    'Boxset' : ['Hardcover Boxed Set','Box-Set', 'Book Set', 'Box Set','Boxed Set'],\n",
    "    \n",
    "    'Graphic Novel and Comic' : ['Comics', 'Digital Comic','webtoon','Graphic Novels',\n",
    "                                   'Comic'],\n",
    "    \n",
    "    'Boardbook' : ['Board book', 'Board', 'Board Book'],\n",
    "    \n",
    "    'Special Edition' : ['Leather Bound','cloth','Broschiert','Bonded Leather','Gebunden',\n",
    "                         'revised edition','Gebundene Ausgabe'],\n",
    "    \n",
    "    'Other formats': ['Spiral-bound', 'Unbound', 'Podiobook', 'Kovakantinen', '文庫',\n",
    "                      'School & Library Binding', 'Brochura', 'Bìa mềm', 'گالینگور-وزیری',\n",
    "                      'Bantam New Fiction', 'Casebound', 'Other Format', 'Pamphlet', '単行本',\n",
    "                      'Science Fiction Book Club Omnibus', 'Diary', 'Innbundet',\n",
    "                      'Newsletter Serial', 'Album', 'text', 'islamy',\n",
    "                      'Hardcover, Paper Dust Jacket', 'コミック', '軟精裝', 'Newsprint',\n",
    "                      'pamphlet'],\n",
    "    \n",
    "    'Unknown' : ['Unknown Binding']\n",
    "\n",
    "}"
   ]
  },
  {
   "cell_type": "code",
   "execution_count": 123,
   "id": "f1bbb28a",
   "metadata": {},
   "outputs": [
    {
     "name": "stdout",
     "output_type": "stream",
     "text": [
      "Paperback                  29506\n",
      "Hardcover                  12361\n",
      "Ebook                       8566\n",
      "Unknown                     1545\n",
      "Audio                        348\n",
      "Boardbook                     38\n",
      "Other formats                 37\n",
      "Special Edition               32\n",
      "Graphic Novel and Comic       29\n",
      "Boxset                        16\n",
      "Name: standardized_format, dtype: int64\n"
     ]
    }
   ],
   "source": [
    "# Create a new column to store the standardized format names\n",
    "gr_data['standardized_format'] = gr_data['book_format']\n",
    "\n",
    "# Loop through each row in the 'standardized_format' column of the 'gr_data' dataframe\n",
    "for index, row in gr_data.iterrows():\n",
    "    # Check if the current value in the 'standardized_format' column is not 'Unknown' and is not one of the pre-defined keys in the 'formats' dictionary\n",
    "    if row['standardized_format'] not in formats.keys() and row['standardized_format'] != 'Unknown':\n",
    "        # Loop through each key in the 'formats' dictionary\n",
    "        for key in formats.keys():\n",
    "            # If the current value in the 'standardized_format' column is one of the values for the current key in the 'formats' dictionary\n",
    "            if row['standardized_format'] in formats[key]:\n",
    "                # Replace the value in the 'standardized_format' column with the current key\n",
    "                gr_data.at[index, 'standardized_format'] = key\n",
    "                # Break the loop to move on to the next row\n",
    "                break\n",
    "\n",
    "# Count the number of books in each standardized format\n",
    "format_counts = gr_data['standardized_format'].value_counts()\n",
    "\n",
    "# Print the format counts\n",
    "print(format_counts)"
   ]
  },
  {
   "cell_type": "code",
   "execution_count": 127,
   "id": "dfd13638",
   "metadata": {},
   "outputs": [],
   "source": [
    "# Drop original 'book format' column and replace it for the new standardized_format\n",
    "gr_data.drop(columns=['book_format'], inplace=True)\n",
    "\n",
    "# Rename the standardized column to the original name\n",
    "gr_data.rename(columns={'standardized_format': 'book_format'}, inplace=True)\n"
   ]
  },
  {
   "cell_type": "code",
   "execution_count": 128,
   "id": "729f53b4",
   "metadata": {},
   "outputs": [
    {
     "data": {
      "text/plain": [
       "10"
      ]
     },
     "execution_count": 128,
     "metadata": {},
     "output_type": "execute_result"
    }
   ],
   "source": [
    "# Unique value formats: from 137 to 10\n",
    "len(gr_data['book_format'].value_counts(dropna=False))"
   ]
  },
  {
   "cell_type": "code",
   "execution_count": 129,
   "id": "aecd14bf",
   "metadata": {},
   "outputs": [],
   "source": [
    "gr_data.to_csv('gr_reduced_formats.csv')"
   ]
  },
  {
   "cell_type": "code",
   "execution_count": null,
   "id": "01f9df90",
   "metadata": {},
   "outputs": [],
   "source": []
  },
  {
   "cell_type": "markdown",
   "id": "49c1f723",
   "metadata": {},
   "source": [
    "### Characters"
   ]
  },
  {
   "cell_type": "code",
   "execution_count": 407,
   "id": "9a33776e",
   "metadata": {},
   "outputs": [],
   "source": [
    "gr_data = pd.read_csv('gr_reduced_formats.csv')\n",
    "gr_data = gr_data.drop(['Unnamed: 0'], axis=1)"
   ]
  },
  {
   "cell_type": "code",
   "execution_count": 408,
   "id": "4ea47b3d",
   "metadata": {},
   "outputs": [
    {
     "data": {
      "text/plain": [
       "0        ['Katniss Everdeen', 'Peeta Mellark', 'Cato (H...\n",
       "1        ['Sirius Black', 'Draco Malfoy', 'Ron Weasley'...\n",
       "2        ['Scout Finch', 'Atticus Finch', 'Jem Finch', ...\n",
       "3        ['Mr. Bennet', 'Mrs. Bennet', 'Jane Bennet', '...\n",
       "4        ['Edward Cullen', 'Jacob Black', 'Laurent', 'R...\n",
       "                               ...                        \n",
       "52473                                                   []\n",
       "52474                                                   []\n",
       "52475                                                   []\n",
       "52476                                                   []\n",
       "52477                                                   []\n",
       "Name: characters, Length: 52478, dtype: object"
      ]
     },
     "execution_count": 408,
     "metadata": {},
     "output_type": "execute_result"
    }
   ],
   "source": [
    "gr_data['characters']"
   ]
  },
  {
   "cell_type": "code",
   "execution_count": null,
   "id": "af3eaf96",
   "metadata": {},
   "outputs": [],
   "source": []
  },
  {
   "cell_type": "markdown",
   "id": "0f100852",
   "metadata": {},
   "source": [
    "### Edition"
   ]
  },
  {
   "cell_type": "code",
   "execution_count": 409,
   "id": "b1390b74",
   "metadata": {},
   "outputs": [
    {
     "data": {
      "text/html": [
       "<div>\n",
       "<style scoped>\n",
       "    .dataframe tbody tr th:only-of-type {\n",
       "        vertical-align: middle;\n",
       "    }\n",
       "\n",
       "    .dataframe tbody tr th {\n",
       "        vertical-align: top;\n",
       "    }\n",
       "\n",
       "    .dataframe thead th {\n",
       "        text-align: right;\n",
       "    }\n",
       "</style>\n",
       "<table border=\"1\" class=\"dataframe\">\n",
       "  <thead>\n",
       "    <tr style=\"text-align: right;\">\n",
       "      <th></th>\n",
       "      <th>title</th>\n",
       "      <th>series</th>\n",
       "      <th>author</th>\n",
       "      <th>rating</th>\n",
       "      <th>description</th>\n",
       "      <th>language</th>\n",
       "      <th>isbn</th>\n",
       "      <th>characters</th>\n",
       "      <th>edition</th>\n",
       "      <th>pages</th>\n",
       "      <th>publisher</th>\n",
       "      <th>publish_date</th>\n",
       "      <th>first_publish_date</th>\n",
       "      <th>awards</th>\n",
       "      <th>num_ratings</th>\n",
       "      <th>...</th>\n",
       "      <th>guides and travel.1</th>\n",
       "      <th>social justice and activism.1</th>\n",
       "      <th>business and finance.1</th>\n",
       "      <th>mythology and fairy tales.1</th>\n",
       "      <th>programming and computer science.1</th>\n",
       "      <th>diary and journal.1</th>\n",
       "      <th>unknown</th>\n",
       "      <th>cars and motorcycles.1</th>\n",
       "      <th>bande dessinée</th>\n",
       "      <th>sewing and crafts.1</th>\n",
       "      <th>tv and series.1</th>\n",
       "      <th>maps and cartography.1</th>\n",
       "      <th>漫画</th>\n",
       "      <th>veganism and vegetarianism.1</th>\n",
       "      <th>book_format</th>\n",
       "    </tr>\n",
       "  </thead>\n",
       "  <tbody>\n",
       "    <tr>\n",
       "      <th>52475</th>\n",
       "      <td>Marked</td>\n",
       "      <td>Soul Guardians #1</td>\n",
       "      <td>Kim Richardson</td>\n",
       "      <td>3.70</td>\n",
       "      <td>--READERS FAVORITE AWARDS WINNER 2011--Sixteen...</td>\n",
       "      <td>English</td>\n",
       "      <td>9.78146E+12</td>\n",
       "      <td>[]</td>\n",
       "      <td>NaN</td>\n",
       "      <td>280.0</td>\n",
       "      <td>CreateSpace</td>\n",
       "      <td>March 18th 2011</td>\n",
       "      <td>March 15th 2011</td>\n",
       "      <td>[\"Readers' Favorite Book Award (2011)\"]</td>\n",
       "      <td>6674</td>\n",
       "      <td>...</td>\n",
       "      <td>0</td>\n",
       "      <td>0</td>\n",
       "      <td>0</td>\n",
       "      <td>0</td>\n",
       "      <td>0</td>\n",
       "      <td>0</td>\n",
       "      <td>0</td>\n",
       "      <td>0</td>\n",
       "      <td>0</td>\n",
       "      <td>0</td>\n",
       "      <td>0</td>\n",
       "      <td>0</td>\n",
       "      <td>0</td>\n",
       "      <td>0</td>\n",
       "      <td>Paperback</td>\n",
       "    </tr>\n",
       "    <tr>\n",
       "      <th>52476</th>\n",
       "      <td>Wayward Son</td>\n",
       "      <td>NaN</td>\n",
       "      <td>Tom Pollack</td>\n",
       "      <td>3.85</td>\n",
       "      <td>A POWERFUL TREMOR UNEARTHS AN ANCIENT SECRETBu...</td>\n",
       "      <td>English</td>\n",
       "      <td>9.78145E+12</td>\n",
       "      <td>[]</td>\n",
       "      <td>1st edition</td>\n",
       "      <td>507.0</td>\n",
       "      <td>Cascada Productions</td>\n",
       "      <td>September 1st 2011</td>\n",
       "      <td>April 5th 2011</td>\n",
       "      <td>[]</td>\n",
       "      <td>238</td>\n",
       "      <td>...</td>\n",
       "      <td>0</td>\n",
       "      <td>0</td>\n",
       "      <td>0</td>\n",
       "      <td>0</td>\n",
       "      <td>0</td>\n",
       "      <td>0</td>\n",
       "      <td>0</td>\n",
       "      <td>0</td>\n",
       "      <td>0</td>\n",
       "      <td>0</td>\n",
       "      <td>0</td>\n",
       "      <td>0</td>\n",
       "      <td>0</td>\n",
       "      <td>0</td>\n",
       "      <td>Paperback</td>\n",
       "    </tr>\n",
       "    <tr>\n",
       "      <th>52477</th>\n",
       "      <td>Daughter of Helaman</td>\n",
       "      <td>Stripling Warrior #1</td>\n",
       "      <td>Misty Moncur</td>\n",
       "      <td>4.02</td>\n",
       "      <td>Fighting in Helaman's army is Keturah's deepes...</td>\n",
       "      <td>English</td>\n",
       "      <td>9.7816E+12</td>\n",
       "      <td>[]</td>\n",
       "      <td>NaN</td>\n",
       "      <td>201.0</td>\n",
       "      <td>Bonneville</td>\n",
       "      <td>May 8th 2011</td>\n",
       "      <td>NaN</td>\n",
       "      <td>[]</td>\n",
       "      <td>246</td>\n",
       "      <td>...</td>\n",
       "      <td>0</td>\n",
       "      <td>0</td>\n",
       "      <td>0</td>\n",
       "      <td>0</td>\n",
       "      <td>0</td>\n",
       "      <td>0</td>\n",
       "      <td>0</td>\n",
       "      <td>0</td>\n",
       "      <td>0</td>\n",
       "      <td>0</td>\n",
       "      <td>0</td>\n",
       "      <td>0</td>\n",
       "      <td>0</td>\n",
       "      <td>0</td>\n",
       "      <td>Paperback</td>\n",
       "    </tr>\n",
       "  </tbody>\n",
       "</table>\n",
       "<p>3 rows × 625 columns</p>\n",
       "</div>"
      ],
      "text/plain": [
       "                     title                series          author  rating  \\\n",
       "52475               Marked     Soul Guardians #1  Kim Richardson    3.70   \n",
       "52476          Wayward Son                   NaN     Tom Pollack    3.85   \n",
       "52477  Daughter of Helaman  Stripling Warrior #1    Misty Moncur    4.02   \n",
       "\n",
       "                                             description language  \\\n",
       "52475  --READERS FAVORITE AWARDS WINNER 2011--Sixteen...  English   \n",
       "52476  A POWERFUL TREMOR UNEARTHS AN ANCIENT SECRETBu...  English   \n",
       "52477  Fighting in Helaman's army is Keturah's deepes...  English   \n",
       "\n",
       "              isbn characters      edition  pages            publisher  \\\n",
       "52475  9.78146E+12         []          NaN  280.0          CreateSpace   \n",
       "52476  9.78145E+12         []  1st edition  507.0  Cascada Productions   \n",
       "52477   9.7816E+12         []          NaN  201.0           Bonneville   \n",
       "\n",
       "             publish_date first_publish_date  \\\n",
       "52475     March 18th 2011    March 15th 2011   \n",
       "52476  September 1st 2011     April 5th 2011   \n",
       "52477        May 8th 2011                NaN   \n",
       "\n",
       "                                        awards  num_ratings  ...  \\\n",
       "52475  [\"Readers' Favorite Book Award (2011)\"]         6674  ...   \n",
       "52476                                       []          238  ...   \n",
       "52477                                       []          246  ...   \n",
       "\n",
       "      guides and travel.1  social justice and activism.1  \\\n",
       "52475                   0                              0   \n",
       "52476                   0                              0   \n",
       "52477                   0                              0   \n",
       "\n",
       "      business and finance.1  mythology and fairy tales.1  \\\n",
       "52475                      0                            0   \n",
       "52476                      0                            0   \n",
       "52477                      0                            0   \n",
       "\n",
       "       programming and computer science.1  diary and journal.1 unknown  \\\n",
       "52475                                   0                    0       0   \n",
       "52476                                   0                    0       0   \n",
       "52477                                   0                    0       0   \n",
       "\n",
       "       cars and motorcycles.1  bande dessinée  sewing and crafts.1  \\\n",
       "52475                       0               0                    0   \n",
       "52476                       0               0                    0   \n",
       "52477                       0               0                    0   \n",
       "\n",
       "       tv and series.1  maps and cartography.1  漫画  \\\n",
       "52475                0                       0   0   \n",
       "52476                0                       0   0   \n",
       "52477                0                       0   0   \n",
       "\n",
       "       veganism and vegetarianism.1  book_format  \n",
       "52475                             0    Paperback  \n",
       "52476                             0    Paperback  \n",
       "52477                             0    Paperback  \n",
       "\n",
       "[3 rows x 625 columns]"
      ]
     },
     "execution_count": 409,
     "metadata": {},
     "output_type": "execute_result"
    }
   ],
   "source": [
    "gr_data.tail(3)"
   ]
  },
  {
   "cell_type": "code",
   "execution_count": 410,
   "id": "176452be",
   "metadata": {},
   "outputs": [
    {
     "data": {
      "text/plain": [
       "1781"
      ]
     },
     "execution_count": 410,
     "metadata": {},
     "output_type": "execute_result"
    }
   ],
   "source": [
    "# Unique values\n",
    "gr_data['edition'].nunique()"
   ]
  },
  {
   "cell_type": "code",
   "execution_count": 411,
   "id": "34e1e500",
   "metadata": {},
   "outputs": [
    {
     "data": {
      "text/plain": [
       "47523"
      ]
     },
     "execution_count": 411,
     "metadata": {},
     "output_type": "execute_result"
    }
   ],
   "source": [
    "# NaN Value\n",
    "gr_data['edition'].isnull().sum()"
   ]
  },
  {
   "cell_type": "code",
   "execution_count": 412,
   "id": "13f5b322",
   "metadata": {},
   "outputs": [
    {
     "name": "stdout",
     "output_type": "stream",
     "text": [
      "Out of 52478 rows, there are 47523 rows with NaN values for 'edition', which represents 90.56% of the total.\n"
     ]
    }
   ],
   "source": [
    "null = gr_data['edition'].isnull().sum()\n",
    "\n",
    "print(\"Out of 52478 rows, there are \" + str(null) + \" rows with NaN values for 'edition', which represents \" \n",
    "      + str(round(null/len(gr_data)*100, 2)) + \"% of the total.\")\n"
   ]
  },
  {
   "cell_type": "markdown",
   "id": "8b0000b3",
   "metadata": {},
   "source": [
    "Since the 'edition' column contains a significant number of NaN values (90% of rows), I have decided to remove it from the dataset."
   ]
  },
  {
   "cell_type": "code",
   "execution_count": 413,
   "id": "827836bc",
   "metadata": {},
   "outputs": [],
   "source": [
    "gr_data = gr_data.drop(['edition'], axis = 1)"
   ]
  },
  {
   "cell_type": "code",
   "execution_count": 414,
   "id": "e04f5c70",
   "metadata": {},
   "outputs": [
    {
     "data": {
      "text/plain": [
       "(52478, 624)"
      ]
     },
     "execution_count": 414,
     "metadata": {},
     "output_type": "execute_result"
    }
   ],
   "source": [
    "gr_data.shape"
   ]
  },
  {
   "cell_type": "code",
   "execution_count": 415,
   "id": "b28b6366",
   "metadata": {},
   "outputs": [
    {
     "data": {
      "text/plain": [
       "Index(['title', 'series', 'author', 'rating', 'description', 'language',\n",
       "       'isbn', 'characters', 'pages', 'publisher',\n",
       "       ...\n",
       "       'diary and journal.1', 'unknown', 'cars and motorcycles.1',\n",
       "       'bande dessinée', 'sewing and crafts.1', 'tv and series.1',\n",
       "       'maps and cartography.1', '漫画', 'veganism and vegetarianism.1',\n",
       "       'book_format'],\n",
       "      dtype='object', length=624)"
      ]
     },
     "execution_count": 415,
     "metadata": {},
     "output_type": "execute_result"
    }
   ],
   "source": [
    "gr_data.columns"
   ]
  },
  {
   "cell_type": "markdown",
   "id": "1966af0e",
   "metadata": {},
   "source": [
    "### Pages"
   ]
  },
  {
   "cell_type": "code",
   "execution_count": 416,
   "id": "2debadd8",
   "metadata": {},
   "outputs": [
    {
     "data": {
      "text/plain": [
       "dtype('float64')"
      ]
     },
     "execution_count": 416,
     "metadata": {},
     "output_type": "execute_result"
    }
   ],
   "source": [
    "# Type\n",
    "gr_data['pages'].dtypes"
   ]
  },
  {
   "cell_type": "code",
   "execution_count": 417,
   "id": "08e2ef86",
   "metadata": {},
   "outputs": [],
   "source": [
    "# Changing to integer\n",
    "#gr_data['pages'] = gr_data['pages'].astype(int)\n",
    "#gr_data['pages'].dtypes"
   ]
  },
  {
   "cell_type": "code",
   "execution_count": 418,
   "id": "f94089b7",
   "metadata": {},
   "outputs": [
    {
     "data": {
      "text/plain": [
       "2370"
      ]
     },
     "execution_count": 418,
     "metadata": {},
     "output_type": "execute_result"
    }
   ],
   "source": [
    "# NaN values \n",
    "gr_data['pages'].isna().sum()"
   ]
  },
  {
   "cell_type": "code",
   "execution_count": 419,
   "id": "2f826913",
   "metadata": {
    "scrolled": true
   },
   "outputs": [
    {
     "data": {
      "text/html": [
       "<div>\n",
       "<style scoped>\n",
       "    .dataframe tbody tr th:only-of-type {\n",
       "        vertical-align: middle;\n",
       "    }\n",
       "\n",
       "    .dataframe tbody tr th {\n",
       "        vertical-align: top;\n",
       "    }\n",
       "\n",
       "    .dataframe thead th {\n",
       "        text-align: right;\n",
       "    }\n",
       "</style>\n",
       "<table border=\"1\" class=\"dataframe\">\n",
       "  <thead>\n",
       "    <tr style=\"text-align: right;\">\n",
       "      <th></th>\n",
       "      <th>title</th>\n",
       "      <th>author</th>\n",
       "      <th>pages</th>\n",
       "      <th>book_format</th>\n",
       "    </tr>\n",
       "  </thead>\n",
       "  <tbody>\n",
       "    <tr>\n",
       "      <th>669</th>\n",
       "      <td>Brainwalker</td>\n",
       "      <td>Robyn Mundell</td>\n",
       "      <td>NaN</td>\n",
       "      <td>Ebook</td>\n",
       "    </tr>\n",
       "    <tr>\n",
       "      <th>1062</th>\n",
       "      <td>Pleasant Day</td>\n",
       "      <td>Vera Jane Cook</td>\n",
       "      <td>NaN</td>\n",
       "      <td>Ebook</td>\n",
       "    </tr>\n",
       "    <tr>\n",
       "      <th>1428</th>\n",
       "      <td>Red Storm Rising</td>\n",
       "      <td>Tom Clancy</td>\n",
       "      <td>NaN</td>\n",
       "      <td>Audio</td>\n",
       "    </tr>\n",
       "    <tr>\n",
       "      <th>1483</th>\n",
       "      <td>Beg For Mercy</td>\n",
       "      <td>Lucian Bane</td>\n",
       "      <td>NaN</td>\n",
       "      <td>Ebook</td>\n",
       "    </tr>\n",
       "    <tr>\n",
       "      <th>1543</th>\n",
       "      <td>A Bird Without Wings</td>\n",
       "      <td>Roberta Pearce</td>\n",
       "      <td>NaN</td>\n",
       "      <td>Ebook</td>\n",
       "    </tr>\n",
       "    <tr>\n",
       "      <th>1821</th>\n",
       "      <td>A Summer of Good-Byes (Blue Triangle Press Boo...</td>\n",
       "      <td>Fred Misurella</td>\n",
       "      <td>NaN</td>\n",
       "      <td>Ebook</td>\n",
       "    </tr>\n",
       "    <tr>\n",
       "      <th>1843</th>\n",
       "      <td>Frankie the Ferret</td>\n",
       "      <td>Kimberley Paterson</td>\n",
       "      <td>NaN</td>\n",
       "      <td>Paperback</td>\n",
       "    </tr>\n",
       "    <tr>\n",
       "      <th>2333</th>\n",
       "      <td>Crashing Down to Earth</td>\n",
       "      <td>Terry Reid</td>\n",
       "      <td>NaN</td>\n",
       "      <td>Ebook</td>\n",
       "    </tr>\n",
       "    <tr>\n",
       "      <th>2357</th>\n",
       "      <td>The House at Pooh Corner and Now We Are Six</td>\n",
       "      <td>A.A. Milne</td>\n",
       "      <td>NaN</td>\n",
       "      <td>Audio</td>\n",
       "    </tr>\n",
       "    <tr>\n",
       "      <th>2368</th>\n",
       "      <td>Diya aur baati hum</td>\n",
       "      <td>Snehlata Agarwala</td>\n",
       "      <td>NaN</td>\n",
       "      <td>Ebook</td>\n",
       "    </tr>\n",
       "  </tbody>\n",
       "</table>\n",
       "</div>"
      ],
      "text/plain": [
       "                                                  title              author  \\\n",
       "669                                         Brainwalker       Robyn Mundell   \n",
       "1062                                       Pleasant Day      Vera Jane Cook   \n",
       "1428                                   Red Storm Rising          Tom Clancy   \n",
       "1483                                      Beg For Mercy         Lucian Bane   \n",
       "1543                               A Bird Without Wings      Roberta Pearce   \n",
       "1821  A Summer of Good-Byes (Blue Triangle Press Boo...      Fred Misurella   \n",
       "1843                                 Frankie the Ferret  Kimberley Paterson   \n",
       "2333                             Crashing Down to Earth          Terry Reid   \n",
       "2357        The House at Pooh Corner and Now We Are Six          A.A. Milne   \n",
       "2368                                 Diya aur baati hum   Snehlata Agarwala   \n",
       "\n",
       "      pages book_format  \n",
       "669     NaN       Ebook  \n",
       "1062    NaN       Ebook  \n",
       "1428    NaN       Audio  \n",
       "1483    NaN       Ebook  \n",
       "1543    NaN       Ebook  \n",
       "1821    NaN       Ebook  \n",
       "1843    NaN   Paperback  \n",
       "2333    NaN       Ebook  \n",
       "2357    NaN       Audio  \n",
       "2368    NaN       Ebook  "
      ]
     },
     "metadata": {},
     "output_type": "display_data"
    },
    {
     "data": {
      "text/plain": [
       "2370"
      ]
     },
     "metadata": {},
     "output_type": "display_data"
    }
   ],
   "source": [
    "nan_pages = gr_data[gr_data['pages'].isna()]\n",
    "display(nan_pages[['title', 'author', 'pages', 'book_format']].head(10))\n",
    "display(len(nan_pages))"
   ]
  },
  {
   "cell_type": "code",
   "execution_count": 420,
   "id": "8d0aa7d7",
   "metadata": {},
   "outputs": [
    {
     "data": {
      "text/html": [
       "<div>\n",
       "<style scoped>\n",
       "    .dataframe tbody tr th:only-of-type {\n",
       "        vertical-align: middle;\n",
       "    }\n",
       "\n",
       "    .dataframe tbody tr th {\n",
       "        vertical-align: top;\n",
       "    }\n",
       "\n",
       "    .dataframe thead th {\n",
       "        text-align: right;\n",
       "    }\n",
       "</style>\n",
       "<table border=\"1\" class=\"dataframe\">\n",
       "  <thead>\n",
       "    <tr style=\"text-align: right;\">\n",
       "      <th></th>\n",
       "      <th>book_format</th>\n",
       "      <th>NaN pages count</th>\n",
       "    </tr>\n",
       "  </thead>\n",
       "  <tbody>\n",
       "    <tr>\n",
       "      <th>2</th>\n",
       "      <td>Ebook</td>\n",
       "      <td>907</td>\n",
       "    </tr>\n",
       "    <tr>\n",
       "      <th>8</th>\n",
       "      <td>Unknown</td>\n",
       "      <td>604</td>\n",
       "    </tr>\n",
       "    <tr>\n",
       "      <th>6</th>\n",
       "      <td>Paperback</td>\n",
       "      <td>499</td>\n",
       "    </tr>\n",
       "    <tr>\n",
       "      <th>4</th>\n",
       "      <td>Hardcover</td>\n",
       "      <td>216</td>\n",
       "    </tr>\n",
       "    <tr>\n",
       "      <th>0</th>\n",
       "      <td>Audio</td>\n",
       "      <td>132</td>\n",
       "    </tr>\n",
       "    <tr>\n",
       "      <th>1</th>\n",
       "      <td>Boxset</td>\n",
       "      <td>8</td>\n",
       "    </tr>\n",
       "    <tr>\n",
       "      <th>3</th>\n",
       "      <td>Graphic Novel and Comic</td>\n",
       "      <td>2</td>\n",
       "    </tr>\n",
       "    <tr>\n",
       "      <th>5</th>\n",
       "      <td>Other formats</td>\n",
       "      <td>1</td>\n",
       "    </tr>\n",
       "    <tr>\n",
       "      <th>7</th>\n",
       "      <td>Special Edition</td>\n",
       "      <td>1</td>\n",
       "    </tr>\n",
       "  </tbody>\n",
       "</table>\n",
       "</div>"
      ],
      "text/plain": [
       "               book_format  NaN pages count\n",
       "2                    Ebook              907\n",
       "8                  Unknown              604\n",
       "6                Paperback              499\n",
       "4                Hardcover              216\n",
       "0                    Audio              132\n",
       "1                   Boxset                8\n",
       "3  Graphic Novel and Comic                2\n",
       "5            Other formats                1\n",
       "7          Special Edition                1"
      ]
     },
     "execution_count": 420,
     "metadata": {},
     "output_type": "execute_result"
    }
   ],
   "source": [
    "counts = nan_pages.groupby('book_format').size().reset_index(name='NaN pages count')\n",
    "counts = counts.sort_values(by='NaN pages count', ascending = False)\n",
    "counts"
   ]
  },
  {
   "cell_type": "code",
   "execution_count": null,
   "id": "a157cca3",
   "metadata": {},
   "outputs": [],
   "source": []
  },
  {
   "cell_type": "code",
   "execution_count": null,
   "id": "cc2e2f62",
   "metadata": {},
   "outputs": [],
   "source": []
  },
  {
   "cell_type": "code",
   "execution_count": null,
   "id": "7ac64e3c",
   "metadata": {},
   "outputs": [],
   "source": []
  },
  {
   "cell_type": "markdown",
   "id": "f48c14ec",
   "metadata": {},
   "source": [
    "### Ratings by stars"
   ]
  },
  {
   "cell_type": "markdown",
   "id": "2e0f8860",
   "metadata": {},
   "source": [
    "In the 'rating_by_stars' column, there are five values for each book representing the number of ratings given to 5 stars through 1 star, in that specific order."
   ]
  },
  {
   "cell_type": "code",
   "execution_count": 421,
   "id": "555086c1",
   "metadata": {},
   "outputs": [
    {
     "data": {
      "text/plain": [
       "\"['3444695', '1921313', '745221', '171994', '93557']\""
      ]
     },
     "execution_count": 421,
     "metadata": {},
     "output_type": "execute_result"
    }
   ],
   "source": [
    "# Number of ratings by stars\n",
    "gr_data['rating_by_stars'][0]"
   ]
  },
  {
   "cell_type": "code",
   "execution_count": 422,
   "id": "e82fc21c",
   "metadata": {},
   "outputs": [
    {
     "data": {
      "text/plain": [
       "str"
      ]
     },
     "execution_count": 422,
     "metadata": {},
     "output_type": "execute_result"
    }
   ],
   "source": [
    "# Check type of class\n",
    "type(gr_data['rating_by_stars'][0])"
   ]
  },
  {
   "cell_type": "code",
   "execution_count": 423,
   "id": "effc548c",
   "metadata": {},
   "outputs": [
    {
     "data": {
      "text/plain": [
       "list"
      ]
     },
     "execution_count": 423,
     "metadata": {},
     "output_type": "execute_result"
    }
   ],
   "source": [
    "# Convert to list\n",
    "import ast\n",
    "\n",
    "# Use ast.literal_eval() to convert the strings in the 'rating_by_stars' column to lists\n",
    "gr_data['rating_by_stars'] = gr_data['rating_by_stars'].apply(lambda x: ast.literal_eval(x) if isinstance(x, str) else x)\n",
    "#gr_data['rating_by_stars'] = gr_data['rating_by_stars'].apply(ast.literal_eval)\n",
    "type(gr_data['rating_by_stars'][0])"
   ]
  },
  {
   "cell_type": "code",
   "execution_count": 424,
   "id": "f23093ac",
   "metadata": {},
   "outputs": [],
   "source": [
    "# Creating columns (5 to 1 stars) to add the count of ratings for each \n",
    "gr_data[['5_stars_num_ratings', '4_stars_num_ratings', '3_stars_num_ratings', '2_stars_num_ratings', '1_star_num_ratings']] = gr_data['rating_by_stars'].apply(lambda x: pd.Series({\n",
    "    '5_stars_num_ratings': x[0] if len(x) > 0 else None,\n",
    "    '4_stars_num_ratings': x[1] if len(x) > 1 else None,\n",
    "    '3_stars_num_ratings': x[2] if len(x) > 2 else None,\n",
    "    '2_stars_num_ratings': x[3] if len(x) > 3 else None,\n",
    "    '1_star_num_ratings': x[4] if len(x) > 4 else None\n",
    "}))"
   ]
  },
  {
   "cell_type": "code",
   "execution_count": 425,
   "id": "5619977a",
   "metadata": {},
   "outputs": [],
   "source": [
    "# Droping original 'rating-by-stars' column\n",
    "gr_data = gr_data.drop(['rating_by_stars'], axis = 1)"
   ]
  },
  {
   "cell_type": "code",
   "execution_count": 426,
   "id": "e4839ace",
   "metadata": {},
   "outputs": [
    {
     "data": {
      "text/html": [
       "<div>\n",
       "<style scoped>\n",
       "    .dataframe tbody tr th:only-of-type {\n",
       "        vertical-align: middle;\n",
       "    }\n",
       "\n",
       "    .dataframe tbody tr th {\n",
       "        vertical-align: top;\n",
       "    }\n",
       "\n",
       "    .dataframe thead th {\n",
       "        text-align: right;\n",
       "    }\n",
       "</style>\n",
       "<table border=\"1\" class=\"dataframe\">\n",
       "  <thead>\n",
       "    <tr style=\"text-align: right;\">\n",
       "      <th></th>\n",
       "      <th>5_stars_num_ratings</th>\n",
       "      <th>4_stars_num_ratings</th>\n",
       "      <th>3_stars_num_ratings</th>\n",
       "      <th>2_stars_num_ratings</th>\n",
       "      <th>1_star_num_ratings</th>\n",
       "    </tr>\n",
       "  </thead>\n",
       "  <tbody>\n",
       "    <tr>\n",
       "      <th>0</th>\n",
       "      <td>3444695</td>\n",
       "      <td>1921313</td>\n",
       "      <td>745221</td>\n",
       "      <td>171994</td>\n",
       "      <td>93557</td>\n",
       "    </tr>\n",
       "    <tr>\n",
       "      <th>1</th>\n",
       "      <td>1593642</td>\n",
       "      <td>637516</td>\n",
       "      <td>222366</td>\n",
       "      <td>39573</td>\n",
       "      <td>14526</td>\n",
       "    </tr>\n",
       "    <tr>\n",
       "      <th>2</th>\n",
       "      <td>2363896</td>\n",
       "      <td>1333153</td>\n",
       "      <td>573280</td>\n",
       "      <td>149952</td>\n",
       "      <td>80794</td>\n",
       "    </tr>\n",
       "    <tr>\n",
       "      <th>3</th>\n",
       "      <td>1617567</td>\n",
       "      <td>816659</td>\n",
       "      <td>373311</td>\n",
       "      <td>113934</td>\n",
       "      <td>76770</td>\n",
       "    </tr>\n",
       "    <tr>\n",
       "      <th>4</th>\n",
       "      <td>1751460</td>\n",
       "      <td>1113682</td>\n",
       "      <td>1008686</td>\n",
       "      <td>542017</td>\n",
       "      <td>548674</td>\n",
       "    </tr>\n",
       "  </tbody>\n",
       "</table>\n",
       "</div>"
      ],
      "text/plain": [
       "  5_stars_num_ratings 4_stars_num_ratings 3_stars_num_ratings  \\\n",
       "0             3444695             1921313              745221   \n",
       "1             1593642              637516              222366   \n",
       "2             2363896             1333153              573280   \n",
       "3             1617567              816659              373311   \n",
       "4             1751460             1113682             1008686   \n",
       "\n",
       "  2_stars_num_ratings 1_star_num_ratings  \n",
       "0              171994              93557  \n",
       "1               39573              14526  \n",
       "2              149952              80794  \n",
       "3              113934              76770  \n",
       "4              542017             548674  "
      ]
     },
     "execution_count": 426,
     "metadata": {},
     "output_type": "execute_result"
    }
   ],
   "source": [
    "# New columns\n",
    "gr_data[['5_stars_num_ratings', '4_stars_num_ratings', '3_stars_num_ratings', '2_stars_num_ratings', '1_star_num_ratings']].head(5)"
   ]
  },
  {
   "cell_type": "code",
   "execution_count": 427,
   "id": "64879411",
   "metadata": {},
   "outputs": [
    {
     "data": {
      "text/plain": [
       "5_stars_num_ratings    1423\n",
       "4_stars_num_ratings    1423\n",
       "3_stars_num_ratings    1423\n",
       "2_stars_num_ratings    1423\n",
       "1_star_num_ratings     1423\n",
       "dtype: int64"
      ]
     },
     "execution_count": 427,
     "metadata": {},
     "output_type": "execute_result"
    }
   ],
   "source": [
    "# NaN\n",
    "gr_data[['5_stars_num_ratings',\n",
    "         '4_stars_num_ratings',\n",
    "         '3_stars_num_ratings',\n",
    "         '2_stars_num_ratings',\n",
    "         '1_star_num_ratings']].isna().sum()"
   ]
  },
  {
   "cell_type": "code",
   "execution_count": 428,
   "id": "fe3739fe",
   "metadata": {},
   "outputs": [
    {
     "data": {
      "text/html": [
       "<div>\n",
       "<style scoped>\n",
       "    .dataframe tbody tr th:only-of-type {\n",
       "        vertical-align: middle;\n",
       "    }\n",
       "\n",
       "    .dataframe tbody tr th {\n",
       "        vertical-align: top;\n",
       "    }\n",
       "\n",
       "    .dataframe thead th {\n",
       "        text-align: right;\n",
       "    }\n",
       "</style>\n",
       "<table border=\"1\" class=\"dataframe\">\n",
       "  <thead>\n",
       "    <tr style=\"text-align: right;\">\n",
       "      <th></th>\n",
       "      <th>5_stars_num_ratings</th>\n",
       "      <th>4_stars_num_ratings</th>\n",
       "      <th>3_stars_num_ratings</th>\n",
       "      <th>2_stars_num_ratings</th>\n",
       "      <th>1_star_num_ratings</th>\n",
       "    </tr>\n",
       "  </thead>\n",
       "  <tbody>\n",
       "    <tr>\n",
       "      <th>4968</th>\n",
       "      <td>None</td>\n",
       "      <td>None</td>\n",
       "      <td>None</td>\n",
       "      <td>None</td>\n",
       "      <td>None</td>\n",
       "    </tr>\n",
       "    <tr>\n",
       "      <th>5003</th>\n",
       "      <td>None</td>\n",
       "      <td>None</td>\n",
       "      <td>None</td>\n",
       "      <td>None</td>\n",
       "      <td>None</td>\n",
       "    </tr>\n",
       "    <tr>\n",
       "      <th>5716</th>\n",
       "      <td>None</td>\n",
       "      <td>None</td>\n",
       "      <td>None</td>\n",
       "      <td>None</td>\n",
       "      <td>None</td>\n",
       "    </tr>\n",
       "  </tbody>\n",
       "</table>\n",
       "</div>"
      ],
      "text/plain": [
       "     5_stars_num_ratings 4_stars_num_ratings 3_stars_num_ratings  \\\n",
       "4968                None                None                None   \n",
       "5003                None                None                None   \n",
       "5716                None                None                None   \n",
       "\n",
       "     2_stars_num_ratings 1_star_num_ratings  \n",
       "4968                None               None  \n",
       "5003                None               None  \n",
       "5716                None               None  "
      ]
     },
     "execution_count": 428,
     "metadata": {},
     "output_type": "execute_result"
    }
   ],
   "source": [
    "rows_with_nan = gr_data[gr_data[['5_stars_num_ratings',\n",
    "                                 '4_stars_num_ratings',\n",
    "                                 '3_stars_num_ratings',\n",
    "                                 '2_stars_num_ratings',\n",
    "                                 '1_star_num_ratings']].isna().any(axis=1)]\n",
    "\n",
    "\n",
    "rows_with_nan[['5_stars_num_ratings',\n",
    "               '4_stars_num_ratings',\n",
    "               '3_stars_num_ratings',\n",
    "               '2_stars_num_ratings',\n",
    "               '1_star_num_ratings']].head(3)"
   ]
  },
  {
   "cell_type": "code",
   "execution_count": 429,
   "id": "1af26e0e",
   "metadata": {},
   "outputs": [],
   "source": [
    "# Replace None per 0\n",
    "\n",
    "gr_data[['5_stars_num_ratings',\n",
    "         '4_stars_num_ratings',\n",
    "         '3_stars_num_ratings',\n",
    "         '2_stars_num_ratings',\n",
    "         '1_star_num_ratings']] = gr_data[['5_stars_num_ratings',\n",
    "                                           '4_stars_num_ratings',\n",
    "                                           '3_stars_num_ratings',\n",
    "                                           '2_stars_num_ratings',\n",
    "                                           '1_star_num_ratings']].fillna(0)\n"
   ]
  },
  {
   "cell_type": "code",
   "execution_count": 430,
   "id": "762fe884",
   "metadata": {},
   "outputs": [
    {
     "data": {
      "text/plain": [
       "5_stars_num_ratings    0\n",
       "4_stars_num_ratings    0\n",
       "3_stars_num_ratings    0\n",
       "2_stars_num_ratings    0\n",
       "1_star_num_ratings     0\n",
       "dtype: int64"
      ]
     },
     "execution_count": 430,
     "metadata": {},
     "output_type": "execute_result"
    }
   ],
   "source": [
    "# NaN\n",
    "gr_data[['5_stars_num_ratings',\n",
    "         '4_stars_num_ratings',\n",
    "         '3_stars_num_ratings',\n",
    "         '2_stars_num_ratings',\n",
    "         '1_star_num_ratings']].isna().sum()"
   ]
  },
  {
   "cell_type": "code",
   "execution_count": 431,
   "id": "b6f32214",
   "metadata": {},
   "outputs": [
    {
     "data": {
      "text/plain": [
       "5_stars_num_ratings    object\n",
       "4_stars_num_ratings    object\n",
       "3_stars_num_ratings    object\n",
       "2_stars_num_ratings    object\n",
       "1_star_num_ratings     object\n",
       "dtype: object"
      ]
     },
     "execution_count": 431,
     "metadata": {},
     "output_type": "execute_result"
    }
   ],
   "source": [
    "# Type\n",
    "gr_data[['5_stars_num_ratings', '4_stars_num_ratings', '3_stars_num_ratings', '2_stars_num_ratings', '1_star_num_ratings']].dtypes"
   ]
  },
  {
   "cell_type": "code",
   "execution_count": 432,
   "id": "619d9fe1",
   "metadata": {},
   "outputs": [],
   "source": [
    "# Convert to integer\n",
    "gr_data[['5_stars_num_ratings',\n",
    "         '4_stars_num_ratings',\n",
    "         '3_stars_num_ratings',\n",
    "         '2_stars_num_ratings',\n",
    "         '1_star_num_ratings']] = gr_data[['5_stars_num_ratings',\n",
    "                                           '4_stars_num_ratings',\n",
    "                                           '3_stars_num_ratings',\n",
    "                                           '2_stars_num_ratings',\n",
    "                                           '1_star_num_ratings']].astype(int)\n"
   ]
  },
  {
   "cell_type": "code",
   "execution_count": 433,
   "id": "9102905b",
   "metadata": {},
   "outputs": [
    {
     "data": {
      "text/plain": [
       "5_stars_num_ratings    int64\n",
       "4_stars_num_ratings    int64\n",
       "3_stars_num_ratings    int64\n",
       "2_stars_num_ratings    int64\n",
       "1_star_num_ratings     int64\n",
       "dtype: object"
      ]
     },
     "execution_count": 433,
     "metadata": {},
     "output_type": "execute_result"
    }
   ],
   "source": [
    "# New type\n",
    "gr_data[['5_stars_num_ratings', '4_stars_num_ratings', '3_stars_num_ratings', '2_stars_num_ratings', '1_star_num_ratings']].dtypes"
   ]
  },
  {
   "cell_type": "code",
   "execution_count": 434,
   "id": "4229789d",
   "metadata": {},
   "outputs": [
    {
     "data": {
      "text/html": [
       "<div>\n",
       "<style scoped>\n",
       "    .dataframe tbody tr th:only-of-type {\n",
       "        vertical-align: middle;\n",
       "    }\n",
       "\n",
       "    .dataframe tbody tr th {\n",
       "        vertical-align: top;\n",
       "    }\n",
       "\n",
       "    .dataframe thead th {\n",
       "        text-align: right;\n",
       "    }\n",
       "</style>\n",
       "<table border=\"1\" class=\"dataframe\">\n",
       "  <thead>\n",
       "    <tr style=\"text-align: right;\">\n",
       "      <th></th>\n",
       "      <th>5_stars_num_ratings</th>\n",
       "      <th>4_stars_num_ratings</th>\n",
       "      <th>3_stars_num_ratings</th>\n",
       "      <th>2_stars_num_ratings</th>\n",
       "      <th>1_star_num_ratings</th>\n",
       "    </tr>\n",
       "  </thead>\n",
       "  <tbody>\n",
       "    <tr>\n",
       "      <th>0</th>\n",
       "      <td>3444695</td>\n",
       "      <td>1921313</td>\n",
       "      <td>745221</td>\n",
       "      <td>171994</td>\n",
       "      <td>93557</td>\n",
       "    </tr>\n",
       "    <tr>\n",
       "      <th>1</th>\n",
       "      <td>1593642</td>\n",
       "      <td>637516</td>\n",
       "      <td>222366</td>\n",
       "      <td>39573</td>\n",
       "      <td>14526</td>\n",
       "    </tr>\n",
       "    <tr>\n",
       "      <th>2</th>\n",
       "      <td>2363896</td>\n",
       "      <td>1333153</td>\n",
       "      <td>573280</td>\n",
       "      <td>149952</td>\n",
       "      <td>80794</td>\n",
       "    </tr>\n",
       "    <tr>\n",
       "      <th>3</th>\n",
       "      <td>1617567</td>\n",
       "      <td>816659</td>\n",
       "      <td>373311</td>\n",
       "      <td>113934</td>\n",
       "      <td>76770</td>\n",
       "    </tr>\n",
       "    <tr>\n",
       "      <th>4</th>\n",
       "      <td>1751460</td>\n",
       "      <td>1113682</td>\n",
       "      <td>1008686</td>\n",
       "      <td>542017</td>\n",
       "      <td>548674</td>\n",
       "    </tr>\n",
       "  </tbody>\n",
       "</table>\n",
       "</div>"
      ],
      "text/plain": [
       "   5_stars_num_ratings  4_stars_num_ratings  3_stars_num_ratings  \\\n",
       "0              3444695              1921313               745221   \n",
       "1              1593642               637516               222366   \n",
       "2              2363896              1333153               573280   \n",
       "3              1617567               816659               373311   \n",
       "4              1751460              1113682              1008686   \n",
       "\n",
       "   2_stars_num_ratings  1_star_num_ratings  \n",
       "0               171994               93557  \n",
       "1                39573               14526  \n",
       "2               149952               80794  \n",
       "3               113934               76770  \n",
       "4               542017              548674  "
      ]
     },
     "execution_count": 434,
     "metadata": {},
     "output_type": "execute_result"
    }
   ],
   "source": [
    "gr_data[['5_stars_num_ratings', '4_stars_num_ratings', '3_stars_num_ratings', '2_stars_num_ratings', '1_star_num_ratings']].head()"
   ]
  },
  {
   "cell_type": "code",
   "execution_count": 435,
   "id": "1b86c566",
   "metadata": {},
   "outputs": [
    {
     "data": {
      "text/plain": [
       "Index(['title', 'series', 'author', 'rating', 'description', 'language',\n",
       "       'isbn', 'characters', 'pages', 'publisher',\n",
       "       ...\n",
       "       'tv and series.1', 'maps and cartography.1', '漫画',\n",
       "       'veganism and vegetarianism.1', 'book_format', '5_stars_num_ratings',\n",
       "       '4_stars_num_ratings', '3_stars_num_ratings', '2_stars_num_ratings',\n",
       "       '1_star_num_ratings'],\n",
       "      dtype='object', length=628)"
      ]
     },
     "execution_count": 435,
     "metadata": {},
     "output_type": "execute_result"
    }
   ],
   "source": [
    "gr_data.columns"
   ]
  },
  {
   "cell_type": "markdown",
   "id": "1a92fb04",
   "metadata": {},
   "source": [
    "### Publisher"
   ]
  },
  {
   "cell_type": "code",
   "execution_count": 436,
   "id": "eff18e64",
   "metadata": {},
   "outputs": [
    {
     "data": {
      "text/plain": [
       "Vintage               572\n",
       "HarperCollins         563\n",
       "Penguin Books         430\n",
       "Ballantine Books      399\n",
       "Bantam                369\n",
       "                     ... \n",
       "Bang Ediciones          1\n",
       "Book Sales              1\n",
       "Dakota Press            1\n",
       "Tannbourne Limited      1\n",
       "Bonneville              1\n",
       "Name: publisher, Length: 11109, dtype: int64"
      ]
     },
     "execution_count": 436,
     "metadata": {},
     "output_type": "execute_result"
    }
   ],
   "source": [
    "# Unique Publishers\n",
    "gr_data['publisher'].value_counts()"
   ]
  },
  {
   "cell_type": "code",
   "execution_count": 437,
   "id": "fed425ac",
   "metadata": {},
   "outputs": [
    {
     "data": {
      "text/plain": [
       "3696"
      ]
     },
     "execution_count": 437,
     "metadata": {},
     "output_type": "execute_result"
    }
   ],
   "source": [
    "# NaN\n",
    "gr_data['publisher'].isna().sum()"
   ]
  },
  {
   "cell_type": "code",
   "execution_count": 438,
   "id": "74a38244",
   "metadata": {},
   "outputs": [],
   "source": [
    "# Replace NaN for 'Unknown'\n",
    "gr_data['publisher'] = gr_data['publisher'].fillna('Unknown')"
   ]
  },
  {
   "cell_type": "code",
   "execution_count": 439,
   "id": "9e84a14f",
   "metadata": {},
   "outputs": [
    {
     "name": "stdout",
     "output_type": "stream",
     "text": [
      "Number of publishers with value \"Unknown\": 3696\n"
     ]
    }
   ],
   "source": [
    "unknown_publishers_count = (gr_data['publisher'] == 'Unknown').sum()\n",
    "print('Number of publishers with value \"Unknown\":', unknown_publishers_count)"
   ]
  },
  {
   "cell_type": "code",
   "execution_count": 440,
   "id": "fda73ba7",
   "metadata": {},
   "outputs": [
    {
     "data": {
      "text/plain": [
       "Unknown               3696\n",
       "Vintage                572\n",
       "HarperCollins          563\n",
       "Penguin Books          430\n",
       "Ballantine Books       399\n",
       "                      ... \n",
       "Bang Ediciones           1\n",
       "Book Sales               1\n",
       "Dakota Press             1\n",
       "Tannbourne Limited       1\n",
       "Bonneville               1\n",
       "Name: publisher, Length: 11110, dtype: int64"
      ]
     },
     "execution_count": 440,
     "metadata": {},
     "output_type": "execute_result"
    }
   ],
   "source": [
    "# Unique Publishers\n",
    "gr_data['publisher'].value_counts()"
   ]
  },
  {
   "cell_type": "code",
   "execution_count": 441,
   "id": "0e7590bf",
   "metadata": {},
   "outputs": [],
   "source": [
    "# Stablish new bins for publishers"
   ]
  },
  {
   "cell_type": "code",
   "execution_count": 442,
   "id": "5430910f",
   "metadata": {},
   "outputs": [
    {
     "data": {
      "image/png": "[encoded data removed]",
      "text/plain": [
       "<Figure size 1200x600 with 2 Axes>"
      ]
     },
     "metadata": {},
     "output_type": "display_data"
    }
   ],
   "source": [
    "import matplotlib.pyplot as plt\n",
    "\n",
    "# Filter out publishers with counts of 49 and 'Unknown' (just to visualize it better)\n",
    "publisher_data = gr_data['publisher'].value_counts()\n",
    "publisher_counts = publisher_data[(publisher_data.index != 'Unknown') & (publisher_data.values > 50)]\n",
    "\n",
    "# Create figure with two subplots side-by-side\n",
    "fig, axs = plt.subplots(ncols=2, figsize=(12,6))\n",
    "\n",
    "# Create histogram on the left subplot\n",
    "axs[0].hist(publisher_counts, bins=50)\n",
    "axs[0].set_xlabel('Publisher Count')\n",
    "axs[0].set_ylabel('Frequency')\n",
    "axs[0].set_title(f'Distribution of Publisher Counts\\n(excluding \"Unknown\" and publishers with counts less than 50)')\n",
    "\n",
    "# Create box plot on the right subplot\n",
    "axs[1].boxplot(publisher_counts)\n",
    "axs[1].set_xlabel('Publisher Count')\n",
    "axs[1].set_title(f'Distribution of Publisher Counts\\n(excluding \"Unknown\" and publishers with counts less than 50)')\n",
    "\n",
    "# Display the figure\n",
    "plt.show()\n"
   ]
  },
  {
   "cell_type": "code",
   "execution_count": 443,
   "id": "3cda58ad",
   "metadata": {},
   "outputs": [
    {
     "data": {
      "text/plain": [
       "'Filtered data: '"
      ]
     },
     "metadata": {},
     "output_type": "display_data"
    },
    {
     "data": {
      "text/plain": [
       "count    157.000000\n",
       "mean     125.452229\n",
       "std       90.592738\n",
       "min       51.000000\n",
       "25%       66.000000\n",
       "50%       93.000000\n",
       "75%      149.000000\n",
       "max      572.000000\n",
       "Name: publisher, dtype: float64"
      ]
     },
     "metadata": {},
     "output_type": "display_data"
    },
    {
     "data": {
      "text/plain": [
       "'Actual data: '"
      ]
     },
     "metadata": {},
     "output_type": "display_data"
    },
    {
     "data": {
      "text/plain": [
       "count    11110.000000\n",
       "mean         4.723492\n",
       "std         39.691878\n",
       "min          1.000000\n",
       "25%          1.000000\n",
       "50%          1.000000\n",
       "75%          2.000000\n",
       "max       3696.000000\n",
       "Name: publisher, dtype: float64"
      ]
     },
     "metadata": {},
     "output_type": "display_data"
    }
   ],
   "source": [
    "# Information of filtered published data\n",
    "display(\"Filtered data: \", publisher_counts.describe(),\"Actual data: \", publisher_data.describe())"
   ]
  },
  {
   "cell_type": "code",
   "execution_count": 444,
   "id": "ad98d0af",
   "metadata": {},
   "outputs": [],
   "source": [
    "# Calculate percentiles\n",
    "pct_25 = np.percentile(publisher_counts, 25)\n",
    "pct_50 = np.percentile(publisher_counts, 50)\n",
    "pct_75 = np.percentile(publisher_counts, 75)"
   ]
  },
  {
   "cell_type": "code",
   "execution_count": 445,
   "id": "c5b5c2c1",
   "metadata": {},
   "outputs": [
    {
     "name": "stdout",
     "output_type": "stream",
     "text": [
      "Unique publishers for 25th percentile: 117\n",
      "Unique publishers for 50th percentile: 78\n",
      "Unique publishers for 75th percentile: 40\n"
     ]
    }
   ],
   "source": [
    "# Count the number of unique publishers for each percentile criterion\n",
    "unique_publishers_25 = len(gr_data['publisher'].value_counts()[gr_data['publisher'].value_counts() > pct_25])\n",
    "unique_publishers_50 = len(gr_data['publisher'].value_counts()[gr_data['publisher'].value_counts() > pct_50])\n",
    "unique_publishers_75 = len(gr_data['publisher'].value_counts()[gr_data['publisher'].value_counts() > pct_75])\n",
    "\n",
    "print(f\"Unique publishers for 25th percentile: {unique_publishers_25}\")\n",
    "print(f\"Unique publishers for 50th percentile: {unique_publishers_50}\")\n",
    "print(f\"Unique publishers for 75th percentile: {unique_publishers_75}\")\n"
   ]
  },
  {
   "cell_type": "markdown",
   "id": "5df9d416",
   "metadata": {},
   "source": [
    "As in the original dataset 75% of publishers holds 2 or less counts of books, I've decided to bin all them in a new group."
   ]
  },
  {
   "cell_type": "code",
   "execution_count": 446,
   "id": "453662fb",
   "metadata": {},
   "outputs": [],
   "source": [
    "# Group publishers with count less than pct_75 into \"Other Publishers\"\n",
    "#gr_data.loc[gr_data['publisher'] < pct_75, 'publisher'] = 'Other Publishers'\n",
    "gr_data.loc[gr_data['publisher'].isin(publisher_counts.index[publisher_counts.values < pct_75]) | (publisher_counts == 1), 'publisher'] = 'Other Publishers'\n"
   ]
  },
  {
   "cell_type": "code",
   "execution_count": 447,
   "id": "387f86c3",
   "metadata": {},
   "outputs": [
    {
     "data": {
      "text/plain": [
       "Other Publishers                             9870\n",
       "Unknown                                      3696\n",
       "Vintage                                       572\n",
       "HarperCollins                                 563\n",
       "Penguin Books                                 430\n",
       "                                             ... \n",
       "Council Oak Books                               1\n",
       "Chicken House / Scholastic                      1\n",
       "Applause Theatre & Cinema Book Publishers       1\n",
       "Ahsyad Publications                             1\n",
       "Bonneville                                      1\n",
       "Name: publisher, Length: 10994, dtype: int64"
      ]
     },
     "execution_count": 447,
     "metadata": {},
     "output_type": "execute_result"
    }
   ],
   "source": [
    "# New unique Publishers\n",
    "gr_data['publisher'].value_counts()"
   ]
  },
  {
   "cell_type": "code",
   "execution_count": null,
   "id": "857e0b02",
   "metadata": {},
   "outputs": [],
   "source": []
  },
  {
   "cell_type": "markdown",
   "id": "f5061b05",
   "metadata": {},
   "source": [
    "## Publish Date and First Publish Date"
   ]
  },
  {
   "cell_type": "code",
   "execution_count": 448,
   "id": "ae29e2a6",
   "metadata": {},
   "outputs": [
    {
     "data": {
      "text/html": [
       "<div>\n",
       "<style scoped>\n",
       "    .dataframe tbody tr th:only-of-type {\n",
       "        vertical-align: middle;\n",
       "    }\n",
       "\n",
       "    .dataframe tbody tr th {\n",
       "        vertical-align: top;\n",
       "    }\n",
       "\n",
       "    .dataframe thead th {\n",
       "        text-align: right;\n",
       "    }\n",
       "</style>\n",
       "<table border=\"1\" class=\"dataframe\">\n",
       "  <thead>\n",
       "    <tr style=\"text-align: right;\">\n",
       "      <th></th>\n",
       "      <th>publish_date</th>\n",
       "      <th>first_publish_date</th>\n",
       "    </tr>\n",
       "  </thead>\n",
       "  <tbody>\n",
       "    <tr>\n",
       "      <th>0</th>\n",
       "      <td>09/14/08</td>\n",
       "      <td>NaN</td>\n",
       "    </tr>\n",
       "    <tr>\n",
       "      <th>1</th>\n",
       "      <td>09/28/04</td>\n",
       "      <td>06/21/03</td>\n",
       "    </tr>\n",
       "    <tr>\n",
       "      <th>2</th>\n",
       "      <td>05/23/06</td>\n",
       "      <td>07-11-1960</td>\n",
       "    </tr>\n",
       "    <tr>\n",
       "      <th>3</th>\n",
       "      <td>10-10-2000</td>\n",
       "      <td>01/28/13</td>\n",
       "    </tr>\n",
       "    <tr>\n",
       "      <th>4</th>\n",
       "      <td>09-06-2006</td>\n",
       "      <td>10-05-2005</td>\n",
       "    </tr>\n",
       "    <tr>\n",
       "      <th>...</th>\n",
       "      <td>...</td>\n",
       "      <td>...</td>\n",
       "    </tr>\n",
       "    <tr>\n",
       "      <th>52473</th>\n",
       "      <td>May 28th 2011</td>\n",
       "      <td>NaN</td>\n",
       "    </tr>\n",
       "    <tr>\n",
       "      <th>52474</th>\n",
       "      <td>August 5th 2011</td>\n",
       "      <td>August 3rd 2011</td>\n",
       "    </tr>\n",
       "    <tr>\n",
       "      <th>52475</th>\n",
       "      <td>March 18th 2011</td>\n",
       "      <td>March 15th 2011</td>\n",
       "    </tr>\n",
       "    <tr>\n",
       "      <th>52476</th>\n",
       "      <td>September 1st 2011</td>\n",
       "      <td>April 5th 2011</td>\n",
       "    </tr>\n",
       "    <tr>\n",
       "      <th>52477</th>\n",
       "      <td>May 8th 2011</td>\n",
       "      <td>NaN</td>\n",
       "    </tr>\n",
       "  </tbody>\n",
       "</table>\n",
       "<p>52478 rows × 2 columns</p>\n",
       "</div>"
      ],
      "text/plain": [
       "             publish_date first_publish_date\n",
       "0                09/14/08                NaN\n",
       "1                09/28/04           06/21/03\n",
       "2                05/23/06         07-11-1960\n",
       "3              10-10-2000           01/28/13\n",
       "4              09-06-2006         10-05-2005\n",
       "...                   ...                ...\n",
       "52473       May 28th 2011                NaN\n",
       "52474     August 5th 2011    August 3rd 2011\n",
       "52475     March 18th 2011    March 15th 2011\n",
       "52476  September 1st 2011     April 5th 2011\n",
       "52477        May 8th 2011                NaN\n",
       "\n",
       "[52478 rows x 2 columns]"
      ]
     },
     "execution_count": 448,
     "metadata": {},
     "output_type": "execute_result"
    }
   ],
   "source": [
    "gr_data[['publish_date','first_publish_date']]"
   ]
  },
  {
   "cell_type": "code",
   "execution_count": 449,
   "id": "c7748e60",
   "metadata": {},
   "outputs": [
    {
     "data": {
      "text/plain": [
       "880"
      ]
     },
     "execution_count": 449,
     "metadata": {},
     "output_type": "execute_result"
    }
   ],
   "source": [
    "gr_data['publish_date'].isna().sum()"
   ]
  },
  {
   "cell_type": "code",
   "execution_count": 501,
   "id": "15b017fa",
   "metadata": {},
   "outputs": [],
   "source": [
    "dates = gr_data.copy()"
   ]
  },
  {
   "cell_type": "code",
   "execution_count": 502,
   "id": "f98e11f1",
   "metadata": {},
   "outputs": [],
   "source": [
    "\n",
    "def extract_year(date_str):\n",
    "    if pd.isna(date_str):\n",
    "        return np.nan\n",
    "    else:\n",
    "        # Clean up the date string\n",
    "        date_str = date_str.replace('-', '/')\n",
    "        date_str = date_str.replace('.', '')\n",
    "        date_str = date_str.replace('th', '')\n",
    "        \n",
    "        for fmt in (\"%m/%d/%y\", \"%m/%d/%Y\", \"%m-%d-%y\", \"%m-%d-%Y\", \"%B %d %Y\", \"%B %dth %Y\",\n",
    "                    \"%B %dst %Y\", \"%B %dnd %Y\", \"%B %drd %Y\", \"%b %d %Y\", \"%b %dth %Y\",\n",
    "                    \"%b %dst %Y\", \"%b %dnd %Y\", \"%b %drd %Y\", \"%d-%m-%y\", \"%d-%m-%Y\",\n",
    "                    \"%d/%m/%y\", \"%d/%m/%Y\", \"%m.%d.%Y\", \"%m.%d.%y\", \"%Y/%m/%d\", \"%Y-%m-%d\",\n",
    "                    \"%Y/%m/%d %H:%M:%S\", \"%Y/%m/%d %H:%M\", \"%Y/%m/%d %I:%M:%S %p\",\n",
    "                    \"%Y/%m/%d %I:%M %p\", \"%Y.%m.%d\", \"%Y-%m-%d %H:%M:%S\",\n",
    "                    \"%Y-%m-%d %H:%M:%S.%f\", \"%Y-%m-%d %H:%M\", \"%Y-%m-%d %I:%M:%S %p\",\n",
    "                    \"%Y-%m-%d %I:%M %p\", \"%Y.%m.%d %H:%M:%S\", \"%Y.%m.%d %H:%M\",\n",
    "                    \"%Y.%m.%d %I:%M:%S %p\", \"%Y.%m.%d %I:%M %p\"):\n",
    "            try:\n",
    "                dt = pd.to_datetime(date_str, format=fmt)\n",
    "                return dt.year\n",
    "            except ValueError:\n",
    "                pass\n",
    "        return np.nan\n"
   ]
  },
  {
   "cell_type": "code",
   "execution_count": 503,
   "id": "cd374dc3",
   "metadata": {},
   "outputs": [],
   "source": [
    "# Apply the function to the columns 'publish_date' and 'first_publish_date'\n",
    "dates['publish_year'] = dates['publish_date'].apply(extract_year)\n",
    "dates['first_publish_year'] = dates['first_publish_date'].apply(extract_year)"
   ]
  },
  {
   "cell_type": "code",
   "execution_count": 496,
   "id": "2f6b4556",
   "metadata": {},
   "outputs": [],
   "source": [
    "# If one of the columns has NaN, copy the value from the other column\n",
    "dates['publish_year'].fillna(dates['first_publish_year'], inplace=True)\n",
    "dates['first_publish_year'].fillna(dates['publish_year'], inplace=True)"
   ]
  },
  {
   "cell_type": "code",
   "execution_count": 504,
   "id": "693968f3",
   "metadata": {},
   "outputs": [],
   "source": [
    "# Drop the original columns\n",
    "dates.drop(['publish_date', 'first_publish_date'], axis=1, inplace=True)"
   ]
  },
  {
   "cell_type": "code",
   "execution_count": 505,
   "id": "9a1f18bf",
   "metadata": {},
   "outputs": [
    {
     "data": {
      "text/html": [
       "<div>\n",
       "<style scoped>\n",
       "    .dataframe tbody tr th:only-of-type {\n",
       "        vertical-align: middle;\n",
       "    }\n",
       "\n",
       "    .dataframe tbody tr th {\n",
       "        vertical-align: top;\n",
       "    }\n",
       "\n",
       "    .dataframe thead th {\n",
       "        text-align: right;\n",
       "    }\n",
       "</style>\n",
       "<table border=\"1\" class=\"dataframe\">\n",
       "  <thead>\n",
       "    <tr style=\"text-align: right;\">\n",
       "      <th></th>\n",
       "      <th>publish_year</th>\n",
       "      <th>first_publish_year</th>\n",
       "    </tr>\n",
       "  </thead>\n",
       "  <tbody>\n",
       "    <tr>\n",
       "      <th>0</th>\n",
       "      <td>2008.0</td>\n",
       "      <td>NaN</td>\n",
       "    </tr>\n",
       "    <tr>\n",
       "      <th>1</th>\n",
       "      <td>2004.0</td>\n",
       "      <td>2003.0</td>\n",
       "    </tr>\n",
       "    <tr>\n",
       "      <th>2</th>\n",
       "      <td>2006.0</td>\n",
       "      <td>1960.0</td>\n",
       "    </tr>\n",
       "    <tr>\n",
       "      <th>3</th>\n",
       "      <td>2000.0</td>\n",
       "      <td>2013.0</td>\n",
       "    </tr>\n",
       "    <tr>\n",
       "      <th>4</th>\n",
       "      <td>2006.0</td>\n",
       "      <td>2005.0</td>\n",
       "    </tr>\n",
       "    <tr>\n",
       "      <th>...</th>\n",
       "      <td>...</td>\n",
       "      <td>...</td>\n",
       "    </tr>\n",
       "    <tr>\n",
       "      <th>52473</th>\n",
       "      <td>2011.0</td>\n",
       "      <td>NaN</td>\n",
       "    </tr>\n",
       "    <tr>\n",
       "      <th>52474</th>\n",
       "      <td>2011.0</td>\n",
       "      <td>2011.0</td>\n",
       "    </tr>\n",
       "    <tr>\n",
       "      <th>52475</th>\n",
       "      <td>2011.0</td>\n",
       "      <td>2011.0</td>\n",
       "    </tr>\n",
       "    <tr>\n",
       "      <th>52476</th>\n",
       "      <td>2011.0</td>\n",
       "      <td>2011.0</td>\n",
       "    </tr>\n",
       "    <tr>\n",
       "      <th>52477</th>\n",
       "      <td>2011.0</td>\n",
       "      <td>NaN</td>\n",
       "    </tr>\n",
       "  </tbody>\n",
       "</table>\n",
       "<p>52478 rows × 2 columns</p>\n",
       "</div>"
      ],
      "text/plain": [
       "       publish_year  first_publish_year\n",
       "0            2008.0                 NaN\n",
       "1            2004.0              2003.0\n",
       "2            2006.0              1960.0\n",
       "3            2000.0              2013.0\n",
       "4            2006.0              2005.0\n",
       "...             ...                 ...\n",
       "52473        2011.0                 NaN\n",
       "52474        2011.0              2011.0\n",
       "52475        2011.0              2011.0\n",
       "52476        2011.0              2011.0\n",
       "52477        2011.0                 NaN\n",
       "\n",
       "[52478 rows x 2 columns]"
      ]
     },
     "execution_count": 505,
     "metadata": {},
     "output_type": "execute_result"
    }
   ],
   "source": [
    "# Checking results\n",
    "dates[['publish_year','first_publish_year']]"
   ]
  },
  {
   "cell_type": "code",
   "execution_count": 508,
   "id": "52412bc5",
   "metadata": {},
   "outputs": [],
   "source": [
    "# If one of the columns has NaN, copy the value from the other column\n",
    "mask = dates['publish_year'].isnull() | dates['first_publish_year'].isnull()\n",
    "dates.loc[mask, 'publish_year'] = dates['publish_year'].fillna(dates['first_publish_year'])\n",
    "dates.loc[mask, 'first_publish_year'] = dates['first_publish_year'].fillna(dates['publish_year'])\n",
    "\n",
    "# Replace the remaining NaN values with 0\n",
    "dates.fillna(0, inplace=True)\n",
    "\n",
    "# Convert the year columns to integers\n",
    "dates['publish_year'] = dates['publish_year'].astype(int)\n",
    "dates['first_publish_year'] = dates['first_publish_year'].astype(int)"
   ]
  },
  {
   "cell_type": "code",
   "execution_count": 509,
   "id": "24c00226",
   "metadata": {},
   "outputs": [
    {
     "data": {
      "text/html": [
       "<div>\n",
       "<style scoped>\n",
       "    .dataframe tbody tr th:only-of-type {\n",
       "        vertical-align: middle;\n",
       "    }\n",
       "\n",
       "    .dataframe tbody tr th {\n",
       "        vertical-align: top;\n",
       "    }\n",
       "\n",
       "    .dataframe thead th {\n",
       "        text-align: right;\n",
       "    }\n",
       "</style>\n",
       "<table border=\"1\" class=\"dataframe\">\n",
       "  <thead>\n",
       "    <tr style=\"text-align: right;\">\n",
       "      <th></th>\n",
       "      <th>publish_year</th>\n",
       "      <th>first_publish_year</th>\n",
       "    </tr>\n",
       "  </thead>\n",
       "  <tbody>\n",
       "    <tr>\n",
       "      <th>0</th>\n",
       "      <td>2008</td>\n",
       "      <td>2008</td>\n",
       "    </tr>\n",
       "    <tr>\n",
       "      <th>1</th>\n",
       "      <td>2004</td>\n",
       "      <td>2003</td>\n",
       "    </tr>\n",
       "    <tr>\n",
       "      <th>2</th>\n",
       "      <td>2006</td>\n",
       "      <td>1960</td>\n",
       "    </tr>\n",
       "    <tr>\n",
       "      <th>3</th>\n",
       "      <td>2000</td>\n",
       "      <td>2013</td>\n",
       "    </tr>\n",
       "    <tr>\n",
       "      <th>4</th>\n",
       "      <td>2006</td>\n",
       "      <td>2005</td>\n",
       "    </tr>\n",
       "    <tr>\n",
       "      <th>...</th>\n",
       "      <td>...</td>\n",
       "      <td>...</td>\n",
       "    </tr>\n",
       "    <tr>\n",
       "      <th>52473</th>\n",
       "      <td>2011</td>\n",
       "      <td>2011</td>\n",
       "    </tr>\n",
       "    <tr>\n",
       "      <th>52474</th>\n",
       "      <td>2011</td>\n",
       "      <td>2011</td>\n",
       "    </tr>\n",
       "    <tr>\n",
       "      <th>52475</th>\n",
       "      <td>2011</td>\n",
       "      <td>2011</td>\n",
       "    </tr>\n",
       "    <tr>\n",
       "      <th>52476</th>\n",
       "      <td>2011</td>\n",
       "      <td>2011</td>\n",
       "    </tr>\n",
       "    <tr>\n",
       "      <th>52477</th>\n",
       "      <td>2011</td>\n",
       "      <td>2011</td>\n",
       "    </tr>\n",
       "  </tbody>\n",
       "</table>\n",
       "<p>52478 rows × 2 columns</p>\n",
       "</div>"
      ],
      "text/plain": [
       "       publish_year  first_publish_year\n",
       "0              2008                2008\n",
       "1              2004                2003\n",
       "2              2006                1960\n",
       "3              2000                2013\n",
       "4              2006                2005\n",
       "...             ...                 ...\n",
       "52473          2011                2011\n",
       "52474          2011                2011\n",
       "52475          2011                2011\n",
       "52476          2011                2011\n",
       "52477          2011                2011\n",
       "\n",
       "[52478 rows x 2 columns]"
      ]
     },
     "execution_count": 509,
     "metadata": {},
     "output_type": "execute_result"
    }
   ],
   "source": [
    "# Checking results\n",
    "dates[['publish_year','first_publish_year']]"
   ]
  },
  {
   "cell_type": "code",
   "execution_count": 512,
   "id": "9e578b99",
   "metadata": {},
   "outputs": [
    {
     "data": {
      "text/plain": [
       "publish_year          0\n",
       "first_publish_year    0\n",
       "dtype: int64"
      ]
     },
     "execution_count": 512,
     "metadata": {},
     "output_type": "execute_result"
    }
   ],
   "source": [
    "# NaN values\n",
    "dates[['publish_year', 'first_publish_year']].isna().sum()"
   ]
  },
  {
   "cell_type": "code",
   "execution_count": 513,
   "id": "a23ea9ba",
   "metadata": {},
   "outputs": [],
   "source": [
    "# Add new columns with years to main dataframe\n",
    "gr_data = pd.concat([gr_data, dates[['publish_year', 'first_publish_year']]], axis=1)"
   ]
  },
  {
   "cell_type": "code",
   "execution_count": 518,
   "id": "a4dc8d12",
   "metadata": {},
   "outputs": [],
   "source": [
    "# Drop original columns\n",
    "gr_data = gr_data.drop(['publish_date', 'first_publish_date'], axis=1)"
   ]
  },
  {
   "cell_type": "code",
   "execution_count": 519,
   "id": "476adb33",
   "metadata": {},
   "outputs": [
    {
     "data": {
      "text/plain": [
       "(52478, 628)"
      ]
     },
     "execution_count": 519,
     "metadata": {},
     "output_type": "execute_result"
    }
   ],
   "source": [
    "gr_data.shape"
   ]
  },
  {
   "cell_type": "code",
   "execution_count": 520,
   "id": "9aa49033",
   "metadata": {},
   "outputs": [],
   "source": [
    "gr_data.to_csv('gr_modified_years.csv')"
   ]
  },
  {
   "cell_type": "code",
   "execution_count": null,
   "id": "38a6227d",
   "metadata": {},
   "outputs": [],
   "source": []
  },
  {
   "cell_type": "markdown",
   "id": "a8ed13a1",
   "metadata": {},
   "source": [
    "## Awards"
   ]
  },
  {
   "cell_type": "code",
   "execution_count": 521,
   "id": "3d90ae10",
   "metadata": {},
   "outputs": [],
   "source": [
    "gr_data = pd.read_csv('gr_modified_years.csv')"
   ]
  },
  {
   "cell_type": "code",
   "execution_count": null,
   "id": "6f1bf64b",
   "metadata": {},
   "outputs": [],
   "source": []
  },
  {
   "cell_type": "code",
   "execution_count": null,
   "id": "e5aea8c3",
   "metadata": {},
   "outputs": [],
   "source": []
  },
  {
   "cell_type": "markdown",
   "id": "d16d9d45",
   "metadata": {},
   "source": [
    "### ISBN"
   ]
  },
  {
   "cell_type": "code",
   "execution_count": null,
   "id": "e63a079b",
   "metadata": {},
   "outputs": [],
   "source": [
    "gr_data['isbn']"
   ]
  },
  {
   "cell_type": "code",
   "execution_count": null,
   "id": "2e8d25fb",
   "metadata": {},
   "outputs": [],
   "source": [
    "for value in gr_data['isbn']:\n",
    "    try:\n",
    "        float(value)\n",
    "    except ValueError:\n",
    "        print(f\"Value {value} could not be converted to a float\")"
   ]
  },
  {
   "cell_type": "code",
   "execution_count": null,
   "id": "8af0f3bf",
   "metadata": {},
   "outputs": [],
   "source": [
    "gr_data.head()"
   ]
  },
  {
   "cell_type": "code",
   "execution_count": null,
   "id": "8e1f9bd6",
   "metadata": {},
   "outputs": [],
   "source": [
    "isbn = int(float('9.78044E+12'))\n",
    "print(isbn)\n"
   ]
  },
  {
   "cell_type": "code",
   "execution_count": null,
   "id": "6399a9e9",
   "metadata": {},
   "outputs": [],
   "source": [
    "import requests\n",
    "from bs4 import BeautifulSoup\n",
    "import time\n",
    "import random\n",
    "\n",
    "def extract_isbn(row):\n",
    "    # Check if the isbn column contains a string in scientific notation format\n",
    "    try:\n",
    "        isbn_num = int(row['isbn'])\n",
    "        isbn_str = str(isbn_num)\n",
    "        if len(isbn_str) == 10 or len(isbn_str) == 13:\n",
    "            return isbn_str\n",
    "    except ValueError:\n",
    "        pass\n",
    "    \n",
    "    # If the isbn column does not contain a valid ISBN, extract it from the Amazon product page\n",
    "    amazon_id = row['isbn']\n",
    "    url = f'https://www.amazon.com/dp/{amazon_id}'\n",
    "    response = requests.get(url)\n",
    "    \n",
    "    # Sleep for a random time between 1 and 3 seconds\n",
    "    time.sleep(random.uniform(1, 3))\n",
    "    \n",
    "    soup = BeautifulSoup(response.content, 'html.parser')\n",
    "    \n",
    "    isbn_tags = soup.select('#detailBullets_feature_div li:-soup-contains(\"ISBN-10\") span.a-text-bold, #detailBullets_feature_div li:-soup-contains(\"ISBN-13\") span.a-text-bold')\n",
    "    if isbn_tags:\n",
    "        return isbn_tags[0].text.strip().replace('-', '')\n",
    "    else:\n",
    "        return None\n"
   ]
  },
  {
   "cell_type": "code",
   "execution_count": null,
   "id": "054172bb",
   "metadata": {},
   "outputs": [],
   "source": [
    "#gr_data['isbn'] = gr_data.apply(extract_isbn, axis=1)"
   ]
  },
  {
   "cell_type": "code",
   "execution_count": null,
   "id": "2392a35d",
   "metadata": {},
   "outputs": [],
   "source": [
    "gr_data['isbn']"
   ]
  },
  {
   "cell_type": "code",
   "execution_count": null,
   "id": "27b1aff2",
   "metadata": {},
   "outputs": [],
   "source": []
  }
 ],
 "metadata": {
  "kernelspec": {
   "display_name": "Python 3 (ipykernel)",
   "language": "python",
   "name": "python3"
  },
  "language_info": {
   "codemirror_mode": {
    "name": "ipython",
    "version": 3
   },
   "file_extension": ".py",
   "mimetype": "text/x-python",
   "name": "python",
   "nbconvert_exporter": "python",
   "pygments_lexer": "ipython3",
   "version": "3.9.13"
  }
 },
 "nbformat": 4,
 "nbformat_minor": 5
}
