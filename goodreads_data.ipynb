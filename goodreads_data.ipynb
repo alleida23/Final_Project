{
 "cells": [
  {
   "cell_type": "code",
   "execution_count": 1,
   "id": "0dbd9a5c",
   "metadata": {},
   "outputs": [],
   "source": [
    "import pandas as pd\n",
    "import numpy as np\n"
   ]
  },
  {
   "cell_type": "code",
   "execution_count": 2,
   "id": "149928a6",
   "metadata": {
    "scrolled": true
   },
   "outputs": [
    {
     "data": {
      "text/html": [
       "<div>\n",
       "<style scoped>\n",
       "    .dataframe tbody tr th:only-of-type {\n",
       "        vertical-align: middle;\n",
       "    }\n",
       "\n",
       "    .dataframe tbody tr th {\n",
       "        vertical-align: top;\n",
       "    }\n",
       "\n",
       "    .dataframe thead th {\n",
       "        text-align: right;\n",
       "    }\n",
       "</style>\n",
       "<table border=\"1\" class=\"dataframe\">\n",
       "  <thead>\n",
       "    <tr style=\"text-align: right;\">\n",
       "      <th></th>\n",
       "      <th>title</th>\n",
       "      <th>series</th>\n",
       "      <th>author</th>\n",
       "      <th>rating</th>\n",
       "      <th>description</th>\n",
       "      <th>language</th>\n",
       "      <th>isbn</th>\n",
       "      <th>genres</th>\n",
       "      <th>characters</th>\n",
       "      <th>bookFormat</th>\n",
       "      <th>edition</th>\n",
       "      <th>pages</th>\n",
       "      <th>publisher</th>\n",
       "      <th>publishDate</th>\n",
       "      <th>firstPublishDate</th>\n",
       "      <th>awards</th>\n",
       "      <th>numRatings</th>\n",
       "      <th>ratingsByStars</th>\n",
       "      <th>likedPercent</th>\n",
       "      <th>setting</th>\n",
       "      <th>bbeScore</th>\n",
       "      <th>bbeVotes</th>\n",
       "      <th>price</th>\n",
       "    </tr>\n",
       "  </thead>\n",
       "  <tbody>\n",
       "    <tr>\n",
       "      <th>0</th>\n",
       "      <td>The Hunger Games</td>\n",
       "      <td>The Hunger Games #1</td>\n",
       "      <td>Suzanne Collins</td>\n",
       "      <td>4.33</td>\n",
       "      <td>WINNING MEANS FAME AND FORTUNE.LOSING MEANS CE...</td>\n",
       "      <td>English</td>\n",
       "      <td>9.78044E+12</td>\n",
       "      <td>['Young Adult', 'Fiction', 'Dystopia', 'Fantas...</td>\n",
       "      <td>['Katniss Everdeen', 'Peeta Mellark', 'Cato (H...</td>\n",
       "      <td>Hardcover</td>\n",
       "      <td>First Edition</td>\n",
       "      <td>374</td>\n",
       "      <td>Scholastic Press</td>\n",
       "      <td>09/14/08</td>\n",
       "      <td>NaN</td>\n",
       "      <td>['Locus Award Nominee for Best Young Adult Boo...</td>\n",
       "      <td>6376780</td>\n",
       "      <td>['3444695', '1921313', '745221', '171994', '93...</td>\n",
       "      <td>96.0</td>\n",
       "      <td>['District 12, Panem', 'Capitol, Panem', 'Pane...</td>\n",
       "      <td>2993816</td>\n",
       "      <td>30516</td>\n",
       "      <td>5.09</td>\n",
       "    </tr>\n",
       "    <tr>\n",
       "      <th>1</th>\n",
       "      <td>Harry Potter and the Order of the Phoenix</td>\n",
       "      <td>Harry Potter #5</td>\n",
       "      <td>J.K. Rowling, Mary GrandPré (Illustrator)</td>\n",
       "      <td>4.50</td>\n",
       "      <td>There is a door at the end of a silent corrido...</td>\n",
       "      <td>English</td>\n",
       "      <td>9.78044E+12</td>\n",
       "      <td>['Fantasy', 'Young Adult', 'Fiction', 'Magic',...</td>\n",
       "      <td>['Sirius Black', 'Draco Malfoy', 'Ron Weasley'...</td>\n",
       "      <td>Paperback</td>\n",
       "      <td>US Edition</td>\n",
       "      <td>870</td>\n",
       "      <td>Scholastic Inc.</td>\n",
       "      <td>09/28/04</td>\n",
       "      <td>06/21/03</td>\n",
       "      <td>['Bram Stoker Award for Works for Young Reader...</td>\n",
       "      <td>2507623</td>\n",
       "      <td>['1593642', '637516', '222366', '39573', '14526']</td>\n",
       "      <td>98.0</td>\n",
       "      <td>['Hogwarts School of Witchcraft and Wizardry (...</td>\n",
       "      <td>2632233</td>\n",
       "      <td>26923</td>\n",
       "      <td>7.38</td>\n",
       "    </tr>\n",
       "    <tr>\n",
       "      <th>2</th>\n",
       "      <td>To Kill a Mockingbird</td>\n",
       "      <td>To Kill a Mockingbird</td>\n",
       "      <td>Harper Lee</td>\n",
       "      <td>4.28</td>\n",
       "      <td>The unforgettable novel of a childhood in a sl...</td>\n",
       "      <td>English</td>\n",
       "      <td>1E+13</td>\n",
       "      <td>['Classics', 'Fiction', 'Historical Fiction', ...</td>\n",
       "      <td>['Scout Finch', 'Atticus Finch', 'Jem Finch', ...</td>\n",
       "      <td>Paperback</td>\n",
       "      <td>NaN</td>\n",
       "      <td>324</td>\n",
       "      <td>Harper Perennial Modern Classics</td>\n",
       "      <td>05/23/06</td>\n",
       "      <td>07-11-1960</td>\n",
       "      <td>['Pulitzer Prize for Fiction (1961)', 'Audie A...</td>\n",
       "      <td>4501075</td>\n",
       "      <td>['2363896', '1333153', '573280', '149952', '80...</td>\n",
       "      <td>95.0</td>\n",
       "      <td>['Maycomb, Alabama (United States)']</td>\n",
       "      <td>2269402</td>\n",
       "      <td>23328</td>\n",
       "      <td>NaN</td>\n",
       "    </tr>\n",
       "  </tbody>\n",
       "</table>\n",
       "</div>"
      ],
      "text/plain": [
       "                                       title                 series  \\\n",
       "0                           The Hunger Games    The Hunger Games #1   \n",
       "1  Harry Potter and the Order of the Phoenix        Harry Potter #5   \n",
       "2                      To Kill a Mockingbird  To Kill a Mockingbird   \n",
       "\n",
       "                                      author  rating  \\\n",
       "0                            Suzanne Collins    4.33   \n",
       "1  J.K. Rowling, Mary GrandPré (Illustrator)    4.50   \n",
       "2                                 Harper Lee    4.28   \n",
       "\n",
       "                                         description language         isbn  \\\n",
       "0  WINNING MEANS FAME AND FORTUNE.LOSING MEANS CE...  English  9.78044E+12   \n",
       "1  There is a door at the end of a silent corrido...  English  9.78044E+12   \n",
       "2  The unforgettable novel of a childhood in a sl...  English        1E+13   \n",
       "\n",
       "                                              genres  \\\n",
       "0  ['Young Adult', 'Fiction', 'Dystopia', 'Fantas...   \n",
       "1  ['Fantasy', 'Young Adult', 'Fiction', 'Magic',...   \n",
       "2  ['Classics', 'Fiction', 'Historical Fiction', ...   \n",
       "\n",
       "                                          characters bookFormat  \\\n",
       "0  ['Katniss Everdeen', 'Peeta Mellark', 'Cato (H...  Hardcover   \n",
       "1  ['Sirius Black', 'Draco Malfoy', 'Ron Weasley'...  Paperback   \n",
       "2  ['Scout Finch', 'Atticus Finch', 'Jem Finch', ...  Paperback   \n",
       "\n",
       "         edition pages                         publisher publishDate  \\\n",
       "0  First Edition   374                  Scholastic Press    09/14/08   \n",
       "1     US Edition   870                   Scholastic Inc.    09/28/04   \n",
       "2            NaN   324  Harper Perennial Modern Classics    05/23/06   \n",
       "\n",
       "  firstPublishDate                                             awards  \\\n",
       "0              NaN  ['Locus Award Nominee for Best Young Adult Boo...   \n",
       "1         06/21/03  ['Bram Stoker Award for Works for Young Reader...   \n",
       "2       07-11-1960  ['Pulitzer Prize for Fiction (1961)', 'Audie A...   \n",
       "\n",
       "   numRatings                                     ratingsByStars  \\\n",
       "0     6376780  ['3444695', '1921313', '745221', '171994', '93...   \n",
       "1     2507623  ['1593642', '637516', '222366', '39573', '14526']   \n",
       "2     4501075  ['2363896', '1333153', '573280', '149952', '80...   \n",
       "\n",
       "   likedPercent                                            setting  bbeScore  \\\n",
       "0          96.0  ['District 12, Panem', 'Capitol, Panem', 'Pane...   2993816   \n",
       "1          98.0  ['Hogwarts School of Witchcraft and Wizardry (...   2632233   \n",
       "2          95.0               ['Maycomb, Alabama (United States)']   2269402   \n",
       "\n",
       "   bbeVotes price  \n",
       "0     30516  5.09  \n",
       "1     26923  7.38  \n",
       "2     23328   NaN  "
      ]
     },
     "metadata": {},
     "output_type": "display_data"
    },
    {
     "data": {
      "text/plain": [
       "(52478, 23)"
      ]
     },
     "metadata": {},
     "output_type": "display_data"
    }
   ],
   "source": [
    "gr_data = pd.read_csv('./1. Original_df/GoodReads.Best_Books_Ever 2.csv')\n",
    "\n",
    "pd.set_option('display.max_columns', 30)\n",
    "display(gr_data.head(3), gr_data.shape)"
   ]
  },
  {
   "cell_type": "markdown",
   "id": "f54e33de",
   "metadata": {},
   "source": [
    "# Data Cleaning"
   ]
  },
  {
   "cell_type": "markdown",
   "id": "aba695c0",
   "metadata": {},
   "source": [
    "## Column Names\n"
   ]
  },
  {
   "cell_type": "code",
   "execution_count": 3,
   "id": "e9b35318",
   "metadata": {},
   "outputs": [
    {
     "data": {
      "text/plain": [
       "Index(['title', 'series', 'author', 'rating', 'description', 'language',\n",
       "       'isbn', 'genres', 'characters', 'bookformat', 'edition', 'pages',\n",
       "       'publisher', 'publishdate', 'firstpublishdate', 'awards', 'numratings',\n",
       "       'ratingsbystars', 'likedpercent', 'setting', 'bbescore', 'bbevotes',\n",
       "       'price'],\n",
       "      dtype='object')"
      ]
     },
     "execution_count": 3,
     "metadata": {},
     "output_type": "execute_result"
    }
   ],
   "source": [
    "# Names in lower case\n",
    "cols = []\n",
    "for c in gr_data.columns:\n",
    "    cols.append(c.lower())\n",
    "\n",
    "gr_data.columns = cols\n",
    "gr_data.columns"
   ]
  },
  {
   "cell_type": "code",
   "execution_count": 4,
   "id": "1c8bfc29",
   "metadata": {},
   "outputs": [
    {
     "data": {
      "text/plain": [
       "Index(['title', 'series', 'author', 'rating', 'description', 'language',\n",
       "       'isbn', 'genres', 'characters', 'book_format', 'edition', 'pages',\n",
       "       'publisher', 'publish_date', 'first_publish_date', 'awards',\n",
       "       'num_ratings', 'rating_by_stars', 'liked_perc', 'setting', 'bbe_score',\n",
       "       'bbe_votes', 'price'],\n",
       "      dtype='object')"
      ]
     },
     "execution_count": 4,
     "metadata": {},
     "output_type": "execute_result"
    }
   ],
   "source": [
    "# Renaming columns\n",
    "gr_data = gr_data.rename(columns={'bookformat':'book_format',\n",
    "                                 'publishdate':'publish_date',\n",
    "                                 'firstpublishdate':'first_publish_date',\n",
    "                                 'numratings':'num_ratings',\n",
    "                                 'ratingsbystars':'rating_by_stars',\n",
    "                                 'likedpercent': 'liked_perc',\n",
    "                                 'bbescore':'bbe_score',\n",
    "                                 'bbevotes':'bbe_votes'})\n",
    "\n",
    "gr_data.columns"
   ]
  },
  {
   "cell_type": "code",
   "execution_count": 5,
   "id": "848a5921",
   "metadata": {},
   "outputs": [
    {
     "data": {
      "text/html": [
       "<div>\n",
       "<style scoped>\n",
       "    .dataframe tbody tr th:only-of-type {\n",
       "        vertical-align: middle;\n",
       "    }\n",
       "\n",
       "    .dataframe tbody tr th {\n",
       "        vertical-align: top;\n",
       "    }\n",
       "\n",
       "    .dataframe thead th {\n",
       "        text-align: right;\n",
       "    }\n",
       "</style>\n",
       "<table border=\"1\" class=\"dataframe\">\n",
       "  <thead>\n",
       "    <tr style=\"text-align: right;\">\n",
       "      <th></th>\n",
       "      <th>title</th>\n",
       "      <th>series</th>\n",
       "      <th>author</th>\n",
       "      <th>rating</th>\n",
       "      <th>description</th>\n",
       "      <th>language</th>\n",
       "      <th>isbn</th>\n",
       "      <th>genres</th>\n",
       "      <th>characters</th>\n",
       "      <th>book_format</th>\n",
       "      <th>edition</th>\n",
       "      <th>pages</th>\n",
       "      <th>publisher</th>\n",
       "      <th>publish_date</th>\n",
       "      <th>first_publish_date</th>\n",
       "      <th>awards</th>\n",
       "      <th>num_ratings</th>\n",
       "      <th>rating_by_stars</th>\n",
       "      <th>liked_perc</th>\n",
       "      <th>setting</th>\n",
       "      <th>bbe_score</th>\n",
       "      <th>bbe_votes</th>\n",
       "      <th>price</th>\n",
       "    </tr>\n",
       "  </thead>\n",
       "  <tbody>\n",
       "    <tr>\n",
       "      <th>0</th>\n",
       "      <td>The Hunger Games</td>\n",
       "      <td>The Hunger Games #1</td>\n",
       "      <td>Suzanne Collins</td>\n",
       "      <td>4.33</td>\n",
       "      <td>WINNING MEANS FAME AND FORTUNE.LOSING MEANS CE...</td>\n",
       "      <td>English</td>\n",
       "      <td>9.78044E+12</td>\n",
       "      <td>['Young Adult', 'Fiction', 'Dystopia', 'Fantas...</td>\n",
       "      <td>['Katniss Everdeen', 'Peeta Mellark', 'Cato (H...</td>\n",
       "      <td>Hardcover</td>\n",
       "      <td>First Edition</td>\n",
       "      <td>374</td>\n",
       "      <td>Scholastic Press</td>\n",
       "      <td>09/14/08</td>\n",
       "      <td>NaN</td>\n",
       "      <td>['Locus Award Nominee for Best Young Adult Boo...</td>\n",
       "      <td>6376780</td>\n",
       "      <td>['3444695', '1921313', '745221', '171994', '93...</td>\n",
       "      <td>96.0</td>\n",
       "      <td>['District 12, Panem', 'Capitol, Panem', 'Pane...</td>\n",
       "      <td>2993816</td>\n",
       "      <td>30516</td>\n",
       "      <td>5.09</td>\n",
       "    </tr>\n",
       "  </tbody>\n",
       "</table>\n",
       "</div>"
      ],
      "text/plain": [
       "              title               series           author  rating  \\\n",
       "0  The Hunger Games  The Hunger Games #1  Suzanne Collins    4.33   \n",
       "\n",
       "                                         description language         isbn  \\\n",
       "0  WINNING MEANS FAME AND FORTUNE.LOSING MEANS CE...  English  9.78044E+12   \n",
       "\n",
       "                                              genres  \\\n",
       "0  ['Young Adult', 'Fiction', 'Dystopia', 'Fantas...   \n",
       "\n",
       "                                          characters book_format  \\\n",
       "0  ['Katniss Everdeen', 'Peeta Mellark', 'Cato (H...   Hardcover   \n",
       "\n",
       "         edition pages         publisher publish_date first_publish_date  \\\n",
       "0  First Edition   374  Scholastic Press     09/14/08                NaN   \n",
       "\n",
       "                                              awards  num_ratings  \\\n",
       "0  ['Locus Award Nominee for Best Young Adult Boo...      6376780   \n",
       "\n",
       "                                     rating_by_stars  liked_perc  \\\n",
       "0  ['3444695', '1921313', '745221', '171994', '93...        96.0   \n",
       "\n",
       "                                             setting  bbe_score  bbe_votes  \\\n",
       "0  ['District 12, Panem', 'Capitol, Panem', 'Pane...    2993816      30516   \n",
       "\n",
       "  price  \n",
       "0  5.09  "
      ]
     },
     "execution_count": 5,
     "metadata": {},
     "output_type": "execute_result"
    }
   ],
   "source": [
    "pd.set_option('display.max_columns', 30)\n",
    "gr_data.head(1)"
   ]
  },
  {
   "cell_type": "markdown",
   "id": "e5c50d7c",
   "metadata": {},
   "source": [
    "## Column types"
   ]
  },
  {
   "cell_type": "code",
   "execution_count": 6,
   "id": "1aa27d96",
   "metadata": {
    "scrolled": true
   },
   "outputs": [
    {
     "data": {
      "text/plain": [
       "title                  object\n",
       "series                 object\n",
       "author                 object\n",
       "rating                float64\n",
       "description            object\n",
       "language               object\n",
       "isbn                   object\n",
       "genres                 object\n",
       "characters             object\n",
       "book_format            object\n",
       "edition                object\n",
       "pages                  object\n",
       "publisher              object\n",
       "publish_date           object\n",
       "first_publish_date     object\n",
       "awards                 object\n",
       "num_ratings             int64\n",
       "rating_by_stars        object\n",
       "liked_perc            float64\n",
       "setting                object\n",
       "bbe_score               int64\n",
       "bbe_votes               int64\n",
       "price                  object\n",
       "dtype: object"
      ]
     },
     "execution_count": 6,
     "metadata": {},
     "output_type": "execute_result"
    }
   ],
   "source": [
    "gr_data.dtypes "
   ]
  },
  {
   "cell_type": "code",
   "execution_count": 7,
   "id": "e00d7b52",
   "metadata": {},
   "outputs": [],
   "source": [
    "#publish_date first_publish_date #\n",
    "# Converting object columns to numerical\n",
    "gr_data['pages'] = pd.to_numeric(gr_data['pages'], errors = 'coerce')\n",
    "gr_data['price'] = pd.to_numeric(gr_data['price'], errors = 'coerce')\n",
    "\n",
    "# Converting object columns to datetime\n",
    "#gr_data['publish_date'] = pd.to_datetime(gr_data['publish_date'])\n",
    "#gr_data['first_publish_date'] = pd.to_datetime(gr_data['first_publish_date'])\n"
   ]
  },
  {
   "cell_type": "markdown",
   "id": "37fd9e6a",
   "metadata": {},
   "source": [
    "## Dealing with each column"
   ]
  },
  {
   "cell_type": "code",
   "execution_count": 8,
   "id": "8f5975c2",
   "metadata": {},
   "outputs": [
    {
     "data": {
      "text/plain": [
       "Index(['title', 'series', 'author', 'rating', 'description', 'language',\n",
       "       'isbn', 'genres', 'characters', 'book_format', 'edition', 'pages',\n",
       "       'publisher', 'publish_date', 'first_publish_date', 'awards',\n",
       "       'num_ratings', 'rating_by_stars', 'liked_perc', 'setting', 'bbe_score',\n",
       "       'bbe_votes', 'price'],\n",
       "      dtype='object')"
      ]
     },
     "execution_count": 8,
     "metadata": {},
     "output_type": "execute_result"
    }
   ],
   "source": [
    "gr_data.columns"
   ]
  },
  {
   "cell_type": "markdown",
   "id": "061e3331",
   "metadata": {},
   "source": [
    "### Author"
   ]
  },
  {
   "cell_type": "code",
   "execution_count": 9,
   "id": "7c20b066",
   "metadata": {},
   "outputs": [
    {
     "data": {
      "text/plain": [
       "0                                       Suzanne Collins\n",
       "1             J.K. Rowling, Mary GrandPré (Illustrator)\n",
       "2                                            Harper Lee\n",
       "3             Jane Austen, Anna Quindlen (Introduction)\n",
       "4                                       Stephenie Meyer\n",
       "5                       Markus Zusak (Goodreads Author)\n",
       "6     George Orwell, Russell Baker (Preface), C.M. W...\n",
       "7              C.S. Lewis, Pauline Baynes (Illustrator)\n",
       "8                                        J.R.R. Tolkien\n",
       "9                                     Margaret Mitchell\n",
       "10                        John Green (Goodreads Author)\n",
       "11                                        Douglas Adams\n",
       "12                                     Shel Silverstein\n",
       "13    Emily Brontë, Richard J. Dunn (Editor), David ...\n",
       "14                         Dan Brown (Goodreads Author)\n",
       "15                                        Arthur Golden\n",
       "16        Oscar Wilde, Jeffrey Eugenides (Introduction)\n",
       "17    Lewis Carroll, John Tenniel (Illustrator), Mar...\n",
       "18    Charlotte Brontë, Michael Mason (Editor), Barn...\n",
       "19    Victor Hugo, Lee Fahnestock (Translator), Norm...\n",
       "Name: author, dtype: object"
      ]
     },
     "execution_count": 9,
     "metadata": {},
     "output_type": "execute_result"
    }
   ],
   "source": [
    "gr_data['author'].head(20)"
   ]
  },
  {
   "cell_type": "code",
   "execution_count": 10,
   "id": "2152bd27",
   "metadata": {},
   "outputs": [],
   "source": [
    "import re\n",
    "\n",
    "# Extract author name and collaborators\n",
    "gr_data['author'] = gr_data['author'].astype(str)\n",
    "# Add to new 'other collabs' columns all names after the first ',' or '(' (before it's the writer)\n",
    "gr_data['other_collabs'] = gr_data['author'].apply(lambda x: ', '.join(re.split(',|\\(|:', x)[1:]).strip())\n",
    "gr_data['author'] = gr_data['author'].apply(lambda x: re.split(',|\\(|:', x)[0].strip())\n"
   ]
  },
  {
   "cell_type": "code",
   "execution_count": 11,
   "id": "a8128ecb",
   "metadata": {},
   "outputs": [
    {
     "data": {
      "text/html": [
       "<div>\n",
       "<style scoped>\n",
       "    .dataframe tbody tr th:only-of-type {\n",
       "        vertical-align: middle;\n",
       "    }\n",
       "\n",
       "    .dataframe tbody tr th {\n",
       "        vertical-align: top;\n",
       "    }\n",
       "\n",
       "    .dataframe thead th {\n",
       "        text-align: right;\n",
       "    }\n",
       "</style>\n",
       "<table border=\"1\" class=\"dataframe\">\n",
       "  <thead>\n",
       "    <tr style=\"text-align: right;\">\n",
       "      <th></th>\n",
       "      <th>author</th>\n",
       "      <th>other_collabs</th>\n",
       "    </tr>\n",
       "  </thead>\n",
       "  <tbody>\n",
       "    <tr>\n",
       "      <th>0</th>\n",
       "      <td>Suzanne Collins</td>\n",
       "      <td></td>\n",
       "    </tr>\n",
       "    <tr>\n",
       "      <th>1</th>\n",
       "      <td>J.K. Rowling</td>\n",
       "      <td>Mary GrandPré , Illustrator)</td>\n",
       "    </tr>\n",
       "    <tr>\n",
       "      <th>2</th>\n",
       "      <td>Harper Lee</td>\n",
       "      <td></td>\n",
       "    </tr>\n",
       "    <tr>\n",
       "      <th>3</th>\n",
       "      <td>Jane Austen</td>\n",
       "      <td>Anna Quindlen , Introduction)</td>\n",
       "    </tr>\n",
       "    <tr>\n",
       "      <th>4</th>\n",
       "      <td>Stephenie Meyer</td>\n",
       "      <td></td>\n",
       "    </tr>\n",
       "    <tr>\n",
       "      <th>5</th>\n",
       "      <td>Markus Zusak</td>\n",
       "      <td>Goodreads Author)</td>\n",
       "    </tr>\n",
       "    <tr>\n",
       "      <th>6</th>\n",
       "      <td>George Orwell</td>\n",
       "      <td>Russell Baker , Preface),  C.M. Woodhouse , In...</td>\n",
       "    </tr>\n",
       "    <tr>\n",
       "      <th>7</th>\n",
       "      <td>C.S. Lewis</td>\n",
       "      <td>Pauline Baynes , Illustrator)</td>\n",
       "    </tr>\n",
       "    <tr>\n",
       "      <th>8</th>\n",
       "      <td>J.R.R. Tolkien</td>\n",
       "      <td></td>\n",
       "    </tr>\n",
       "    <tr>\n",
       "      <th>9</th>\n",
       "      <td>Margaret Mitchell</td>\n",
       "      <td></td>\n",
       "    </tr>\n",
       "    <tr>\n",
       "      <th>10</th>\n",
       "      <td>John Green</td>\n",
       "      <td>Goodreads Author)</td>\n",
       "    </tr>\n",
       "    <tr>\n",
       "      <th>11</th>\n",
       "      <td>Douglas Adams</td>\n",
       "      <td></td>\n",
       "    </tr>\n",
       "    <tr>\n",
       "      <th>12</th>\n",
       "      <td>Shel Silverstein</td>\n",
       "      <td></td>\n",
       "    </tr>\n",
       "    <tr>\n",
       "      <th>13</th>\n",
       "      <td>Emily Brontë</td>\n",
       "      <td>Richard J. Dunn , Editor),  David Timson , Nar...</td>\n",
       "    </tr>\n",
       "    <tr>\n",
       "      <th>14</th>\n",
       "      <td>Dan Brown</td>\n",
       "      <td>Goodreads Author)</td>\n",
       "    </tr>\n",
       "    <tr>\n",
       "      <th>15</th>\n",
       "      <td>Arthur Golden</td>\n",
       "      <td></td>\n",
       "    </tr>\n",
       "    <tr>\n",
       "      <th>16</th>\n",
       "      <td>Oscar Wilde</td>\n",
       "      <td>Jeffrey Eugenides , Introduction)</td>\n",
       "    </tr>\n",
       "    <tr>\n",
       "      <th>17</th>\n",
       "      <td>Lewis Carroll</td>\n",
       "      <td>John Tenniel , Illustrator),  Martin Gardner ,...</td>\n",
       "    </tr>\n",
       "    <tr>\n",
       "      <th>18</th>\n",
       "      <td>Charlotte Brontë</td>\n",
       "      <td>Michael Mason , Editor),  Barnett Freedman , I...</td>\n",
       "    </tr>\n",
       "    <tr>\n",
       "      <th>19</th>\n",
       "      <td>Victor Hugo</td>\n",
       "      <td>Lee Fahnestock , Translator),  Norman MacAfee ...</td>\n",
       "    </tr>\n",
       "  </tbody>\n",
       "</table>\n",
       "</div>"
      ],
      "text/plain": [
       "               author                                      other_collabs\n",
       "0     Suzanne Collins                                                   \n",
       "1        J.K. Rowling                       Mary GrandPré , Illustrator)\n",
       "2          Harper Lee                                                   \n",
       "3         Jane Austen                      Anna Quindlen , Introduction)\n",
       "4     Stephenie Meyer                                                   \n",
       "5        Markus Zusak                                  Goodreads Author)\n",
       "6       George Orwell  Russell Baker , Preface),  C.M. Woodhouse , In...\n",
       "7          C.S. Lewis                      Pauline Baynes , Illustrator)\n",
       "8      J.R.R. Tolkien                                                   \n",
       "9   Margaret Mitchell                                                   \n",
       "10         John Green                                  Goodreads Author)\n",
       "11      Douglas Adams                                                   \n",
       "12   Shel Silverstein                                                   \n",
       "13       Emily Brontë  Richard J. Dunn , Editor),  David Timson , Nar...\n",
       "14          Dan Brown                                  Goodreads Author)\n",
       "15      Arthur Golden                                                   \n",
       "16        Oscar Wilde                  Jeffrey Eugenides , Introduction)\n",
       "17      Lewis Carroll  John Tenniel , Illustrator),  Martin Gardner ,...\n",
       "18   Charlotte Brontë  Michael Mason , Editor),  Barnett Freedman , I...\n",
       "19        Victor Hugo  Lee Fahnestock , Translator),  Norman MacAfee ..."
      ]
     },
     "execution_count": 11,
     "metadata": {},
     "output_type": "execute_result"
    }
   ],
   "source": [
    "# Check result\n",
    "gr_data[['author','other_collabs']].head(20)"
   ]
  },
  {
   "cell_type": "code",
   "execution_count": 12,
   "id": "b2c0483f",
   "metadata": {},
   "outputs": [
    {
     "data": {
      "text/plain": [
       "James Patterson    97\n",
       "Nora Roberts       94\n",
       "Stephen King       94\n",
       "Agatha Christie    84\n",
       "Erin Hunter        81\n",
       "                   ..\n",
       "Adele Westbrook     1\n",
       "Clara Ng            1\n",
       "Maria Krüger        1\n",
       "Scott Thomas        1\n",
       "Misty Moncur        1\n",
       "Name: author, Length: 23196, dtype: int64"
      ]
     },
     "execution_count": 12,
     "metadata": {},
     "output_type": "execute_result"
    }
   ],
   "source": [
    "gr_data['author'].value_counts()"
   ]
  },
  {
   "cell_type": "code",
   "execution_count": 13,
   "id": "6839d21d",
   "metadata": {},
   "outputs": [
    {
     "data": {
      "text/plain": [
       "23196"
      ]
     },
     "execution_count": 13,
     "metadata": {},
     "output_type": "execute_result"
    }
   ],
   "source": [
    "gr_data['author'].nunique()"
   ]
  },
  {
   "cell_type": "code",
   "execution_count": 14,
   "id": "7d2e2a0e",
   "metadata": {},
   "outputs": [
    {
     "data": {
      "text/plain": [
       "Index(['title', 'series', 'author', 'rating', 'description', 'language',\n",
       "       'isbn', 'genres', 'characters', 'book_format', 'edition', 'pages',\n",
       "       'publisher', 'publish_date', 'first_publish_date', 'awards',\n",
       "       'num_ratings', 'rating_by_stars', 'liked_perc', 'setting', 'bbe_score',\n",
       "       'bbe_votes', 'price', 'other_collabs'],\n",
       "      dtype='object')"
      ]
     },
     "execution_count": 14,
     "metadata": {},
     "output_type": "execute_result"
    }
   ],
   "source": [
    "gr_data.columns"
   ]
  },
  {
   "cell_type": "markdown",
   "id": "f24c4342",
   "metadata": {},
   "source": [
    "### Rating"
   ]
  },
  {
   "cell_type": "code",
   "execution_count": 15,
   "id": "899c953e",
   "metadata": {},
   "outputs": [
    {
     "data": {
      "text/plain": [
       "50    4.22\n",
       "51    4.30\n",
       "52    3.77\n",
       "53    3.91\n",
       "54    3.85\n",
       "55    4.09\n",
       "56    3.89\n",
       "57    4.08\n",
       "58    3.81\n",
       "59    4.30\n",
       "Name: rating, dtype: float64"
      ]
     },
     "execution_count": 15,
     "metadata": {},
     "output_type": "execute_result"
    }
   ],
   "source": [
    "# Float values\n",
    "gr_data['rating'][50:60]"
   ]
  },
  {
   "cell_type": "code",
   "execution_count": 16,
   "id": "f374529f",
   "metadata": {},
   "outputs": [
    {
     "data": {
      "text/plain": [
       "4.00    923\n",
       "5.00    853\n",
       "4.17    727\n",
       "4.06    709\n",
       "4.05    703\n",
       "       ... \n",
       "2.84      1\n",
       "2.39      1\n",
       "1.92      1\n",
       "1.99      1\n",
       "2.25      1\n",
       "Name: rating, Length: 261, dtype: int64"
      ]
     },
     "execution_count": 16,
     "metadata": {},
     "output_type": "execute_result"
    }
   ],
   "source": [
    "# Checking values\n",
    "gr_data['rating'].value_counts(dropna=False)"
   ]
  },
  {
   "cell_type": "code",
   "execution_count": 17,
   "id": "3ed03a89",
   "metadata": {},
   "outputs": [
    {
     "data": {
      "text/plain": [
       "count    52478.000000\n",
       "mean         4.021878\n",
       "std          0.367146\n",
       "min          0.000000\n",
       "25%          3.820000\n",
       "50%          4.030000\n",
       "75%          4.230000\n",
       "max          5.000000\n",
       "Name: rating, dtype: float64"
      ]
     },
     "execution_count": 17,
     "metadata": {},
     "output_type": "execute_result"
    }
   ],
   "source": [
    "# Minimum rating 0 and maximum 5\n",
    "gr_data['rating'].describe()"
   ]
  },
  {
   "cell_type": "markdown",
   "id": "419055ae",
   "metadata": {},
   "source": [
    "### Description"
   ]
  },
  {
   "cell_type": "code",
   "execution_count": 18,
   "id": "1203cc96",
   "metadata": {},
   "outputs": [
    {
     "data": {
      "text/plain": [
       "0     WINNING MEANS FAME AND FORTUNE.LOSING MEANS CE...\n",
       "1     There is a door at the end of a silent corrido...\n",
       "2     The unforgettable novel of a childhood in a sl...\n",
       "3     Alternate cover edition of ISBN 9780679783268S...\n",
       "4     About three things I was absolutely positive.\\...\n",
       "5     Librarian's note: An alternate cover edition c...\n",
       "6     Librarian's note: There is an Alternate Cover ...\n",
       "7     Journeys to the end of the world, fantastic cr...\n",
       "8     This four-volume, boxed set contains J.R.R. To...\n",
       "9     Scarlett O'Hara, the beautiful, spoiled daught...\n",
       "10    Despite the tumor-shrinking medical miracle th...\n",
       "11    Seconds before the Earth is demolished to make...\n",
       "12    \"Once there was a tree...and she loved a littl...\n",
       "13    You can find the redesigned cover of this edit...\n",
       "14    ISBN 9780307277671 moved to this edition.While...\n",
       "15    A literary sensation and runaway bestseller, t...\n",
       "16    Written in his distinctively dazzling manner, ...\n",
       "17    \"I can't explain myself, I'm afraid, sir,\" sai...\n",
       "18    Orphaned as a child, Jane has felt an outcast ...\n",
       "19    Introducing one of the most famous characters ...\n",
       "Name: description, dtype: object"
      ]
     },
     "execution_count": 18,
     "metadata": {},
     "output_type": "execute_result"
    }
   ],
   "source": [
    "gr_data['description'].head(20)"
   ]
  },
  {
   "cell_type": "code",
   "execution_count": 19,
   "id": "6388bf64",
   "metadata": {},
   "outputs": [
    {
     "data": {
      "text/plain": [
       "'ISBN 9780307277671 moved to this edition.While in Paris, Harvard symbologist Robert Langdon is awakened by a phone call in the dead of the night. The elderly curator of the Louvre has been murdered inside the museum, his body covered in baffling symbols. As Langdon and gifted French cryptologist Sophie Neveu sort through the bizarre riddles, they are stunned to discover a trail of clues hidden in the works of Leonardo da Vinci—clues visible for all to see and yet ingeniously disguised by the painter.Even more startling, the late curator was involved in the Priory of Sion—a secret society whose members included Sir Isaac Newton, Victor Hugo, and Da Vinci—and he guarded a breathtaking historical secret. Unless Langdon and Neveu can decipher the labyrinthine puzzle—while avoiding the faceless adversary who shadows their every move—the explosive, ancient truth will be lost forever.'"
      ]
     },
     "execution_count": 19,
     "metadata": {},
     "output_type": "execute_result"
    }
   ],
   "source": [
    "gr_data['description'][14]"
   ]
  },
  {
   "cell_type": "code",
   "execution_count": 20,
   "id": "56f6aa85",
   "metadata": {},
   "outputs": [
    {
     "data": {
      "text/html": [
       "<div>\n",
       "<style scoped>\n",
       "    .dataframe tbody tr th:only-of-type {\n",
       "        vertical-align: middle;\n",
       "    }\n",
       "\n",
       "    .dataframe tbody tr th {\n",
       "        vertical-align: top;\n",
       "    }\n",
       "\n",
       "    .dataframe thead th {\n",
       "        text-align: right;\n",
       "    }\n",
       "</style>\n",
       "<table border=\"1\" class=\"dataframe\">\n",
       "  <thead>\n",
       "    <tr style=\"text-align: right;\">\n",
       "      <th></th>\n",
       "      <th>title</th>\n",
       "      <th>series</th>\n",
       "      <th>author</th>\n",
       "      <th>rating</th>\n",
       "      <th>description</th>\n",
       "      <th>language</th>\n",
       "      <th>isbn</th>\n",
       "      <th>genres</th>\n",
       "      <th>characters</th>\n",
       "      <th>book_format</th>\n",
       "      <th>edition</th>\n",
       "      <th>pages</th>\n",
       "      <th>publisher</th>\n",
       "      <th>publish_date</th>\n",
       "      <th>first_publish_date</th>\n",
       "      <th>awards</th>\n",
       "      <th>num_ratings</th>\n",
       "      <th>rating_by_stars</th>\n",
       "      <th>liked_perc</th>\n",
       "      <th>setting</th>\n",
       "      <th>bbe_score</th>\n",
       "      <th>bbe_votes</th>\n",
       "      <th>price</th>\n",
       "      <th>other_collabs</th>\n",
       "    </tr>\n",
       "  </thead>\n",
       "  <tbody>\n",
       "    <tr>\n",
       "      <th>291</th>\n",
       "      <td>Leaves of Grass</td>\n",
       "      <td>NaN</td>\n",
       "      <td>Walt Whitman</td>\n",
       "      <td>4.12</td>\n",
       "      <td>NaN</td>\n",
       "      <td>English</td>\n",
       "      <td>1E+13</td>\n",
       "      <td>['Poetry', 'Classics', 'Fiction', 'Literature'...</td>\n",
       "      <td>[]</td>\n",
       "      <td>Paperback</td>\n",
       "      <td>NaN</td>\n",
       "      <td>624.0</td>\n",
       "      <td>Simon Schuster</td>\n",
       "      <td>08-01-2006</td>\n",
       "      <td>10/28/92</td>\n",
       "      <td>[]</td>\n",
       "      <td>89814</td>\n",
       "      <td>['40667', '27858', '14878', '4260', '2151']</td>\n",
       "      <td>93.0</td>\n",
       "      <td>['New York City, New York (United States)', 'W...</td>\n",
       "      <td>43537</td>\n",
       "      <td>591</td>\n",
       "      <td>NaN</td>\n",
       "      <td></td>\n",
       "    </tr>\n",
       "    <tr>\n",
       "      <th>680</th>\n",
       "      <td>Howl and Other Poems</td>\n",
       "      <td>NaN</td>\n",
       "      <td>Allen Ginsberg</td>\n",
       "      <td>4.13</td>\n",
       "      <td>NaN</td>\n",
       "      <td>English</td>\n",
       "      <td>9.78087E+12</td>\n",
       "      <td>['Poetry', 'Classics', 'Fiction', 'American', ...</td>\n",
       "      <td>[]</td>\n",
       "      <td>Hardcover</td>\n",
       "      <td>NaN</td>\n",
       "      <td>56.0</td>\n",
       "      <td>City Lights</td>\n",
       "      <td>01-01-2001</td>\n",
       "      <td>10/28/56</td>\n",
       "      <td>[]</td>\n",
       "      <td>93609</td>\n",
       "      <td>['42231', '29693', '15146', '4295', '2244']</td>\n",
       "      <td>93.0</td>\n",
       "      <td>['United States of America']</td>\n",
       "      <td>11078</td>\n",
       "      <td>157</td>\n",
       "      <td>10.53</td>\n",
       "      <td>William Carlos Williams , Introduction)</td>\n",
       "    </tr>\n",
       "    <tr>\n",
       "      <th>683</th>\n",
       "      <td>The Book of Mormon: Another Testament of Jesus...</td>\n",
       "      <td>NaN</td>\n",
       "      <td>Joseph Smith Jr.</td>\n",
       "      <td>4.34</td>\n",
       "      <td>NaN</td>\n",
       "      <td>English</td>\n",
       "      <td>9.78097E+12</td>\n",
       "      <td>['Religion', 'Nonfiction', 'Lds', 'Church', 'S...</td>\n",
       "      <td>[]</td>\n",
       "      <td>Paperback</td>\n",
       "      <td>2013 Edition</td>\n",
       "      <td>531.0</td>\n",
       "      <td>The Church of Jesus Christ of Latter-day Saints</td>\n",
       "      <td>10/28/13</td>\n",
       "      <td>03-01-1930</td>\n",
       "      <td>[]</td>\n",
       "      <td>75222</td>\n",
       "      <td>['58923', '2290', '2811', '2934', '8264']</td>\n",
       "      <td>85.0</td>\n",
       "      <td>[]</td>\n",
       "      <td>11029</td>\n",
       "      <td>121</td>\n",
       "      <td>2.90</td>\n",
       "      <td>Translator)</td>\n",
       "    </tr>\n",
       "  </tbody>\n",
       "</table>\n",
       "</div>"
      ],
      "text/plain": [
       "                                                 title series  \\\n",
       "291                                    Leaves of Grass    NaN   \n",
       "680                               Howl and Other Poems    NaN   \n",
       "683  The Book of Mormon: Another Testament of Jesus...    NaN   \n",
       "\n",
       "               author  rating description language         isbn  \\\n",
       "291      Walt Whitman    4.12         NaN  English        1E+13   \n",
       "680    Allen Ginsberg    4.13         NaN  English  9.78087E+12   \n",
       "683  Joseph Smith Jr.    4.34         NaN  English  9.78097E+12   \n",
       "\n",
       "                                                genres characters book_format  \\\n",
       "291  ['Poetry', 'Classics', 'Fiction', 'Literature'...         []   Paperback   \n",
       "680  ['Poetry', 'Classics', 'Fiction', 'American', ...         []   Hardcover   \n",
       "683  ['Religion', 'Nonfiction', 'Lds', 'Church', 'S...         []   Paperback   \n",
       "\n",
       "          edition  pages                                        publisher  \\\n",
       "291           NaN  624.0                                   Simon Schuster   \n",
       "680           NaN   56.0                                      City Lights   \n",
       "683  2013 Edition  531.0  The Church of Jesus Christ of Latter-day Saints   \n",
       "\n",
       "    publish_date first_publish_date awards  num_ratings  \\\n",
       "291   08-01-2006           10/28/92     []        89814   \n",
       "680   01-01-2001           10/28/56     []        93609   \n",
       "683     10/28/13         03-01-1930     []        75222   \n",
       "\n",
       "                                 rating_by_stars  liked_perc  \\\n",
       "291  ['40667', '27858', '14878', '4260', '2151']        93.0   \n",
       "680  ['42231', '29693', '15146', '4295', '2244']        93.0   \n",
       "683    ['58923', '2290', '2811', '2934', '8264']        85.0   \n",
       "\n",
       "                                               setting  bbe_score  bbe_votes  \\\n",
       "291  ['New York City, New York (United States)', 'W...      43537        591   \n",
       "680                       ['United States of America']      11078        157   \n",
       "683                                                 []      11029        121   \n",
       "\n",
       "     price                            other_collabs  \n",
       "291    NaN                                           \n",
       "680  10.53  William Carlos Williams , Introduction)  \n",
       "683   2.90                              Translator)  "
      ]
     },
     "metadata": {},
     "output_type": "display_data"
    },
    {
     "data": {
      "text/plain": [
       "(1338, 24)"
      ]
     },
     "metadata": {},
     "output_type": "display_data"
    }
   ],
   "source": [
    "# Checking NaN values (no description)\n",
    "nan_descr = gr_data[gr_data['description'].isna()]\n",
    "display(nan_descr.head(3), nan_descr.shape)"
   ]
  },
  {
   "cell_type": "markdown",
   "id": "70f39327",
   "metadata": {},
   "source": [
    "### Language"
   ]
  },
  {
   "cell_type": "code",
   "execution_count": 21,
   "id": "d8126f71",
   "metadata": {},
   "outputs": [
    {
     "data": {
      "text/plain": [
       "array(['English', 'French', 'German', 'Persian', 'Arabic', nan, 'Spanish',\n",
       "       'Multiple languages', 'Portuguese', 'Indonesian', 'Turkish',\n",
       "       'Polish', 'Bulgarian', 'Tamil', 'Japanese', 'Romanian', 'Italian',\n",
       "       'French, Middle (ca.1400-1600)', 'Norwegian', 'Urdu', 'Dutch',\n",
       "       'Finnish', 'Marathi', 'Chinese', 'Swedish', 'Icelandic',\n",
       "       'Malayalam', 'Croatian', 'Estonian', 'Greek, Modern (1453-)',\n",
       "       'Russian', 'Kurdish', 'Danish', 'Hindi', 'Filipino; Pilipino',\n",
       "       'Serbian', 'Bengali', 'Malay', 'Catalan; Valencian', 'Czech',\n",
       "       'Vietnamese', 'Armenian', 'Georgian', 'Kannada', 'Korean',\n",
       "       'Nepali', 'Slovak', 'Telugu', 'Hungarian',\n",
       "       'English, Middle (1100-1500)', 'Azerbaijani', 'Farsi',\n",
       "       'Lithuanian', 'Ukrainian', 'Bokmål, Norwegian; Norwegian Bokmål',\n",
       "       'Iranian (Other)', 'Faroese', 'Basque', 'Macedonian', 'Maltese',\n",
       "       'Gujarati', 'Amharic', 'Aromanian; Arumanian; Macedo-Romanian',\n",
       "       'Assamese', 'Panjabi; Punjabi', 'Albanian', 'Latvian', 'Bosnian',\n",
       "       'Afrikaans', 'Thai', 'Dutch, Middle (ca.1050-1350)', 'Mongolian',\n",
       "       'Tagalog', 'Galician', 'Aleut', 'Slovenian', 'Undetermined',\n",
       "       'Greek, Ancient (to 1453)', 'Mayan languages', 'Duala',\n",
       "       'Australian languages', 'Norwegian Nynorsk; Nynorsk, Norwegian'],\n",
       "      dtype=object)"
      ]
     },
     "execution_count": 21,
     "metadata": {},
     "output_type": "execute_result"
    }
   ],
   "source": [
    "gr_data['language'].unique()"
   ]
  },
  {
   "cell_type": "code",
   "execution_count": 22,
   "id": "38d0ca59",
   "metadata": {},
   "outputs": [
    {
     "data": {
      "text/plain": [
       "English                                  42661\n",
       "Arabic                                    1038\n",
       "Spanish                                    687\n",
       "French                                     579\n",
       "German                                     528\n",
       "                                         ...  \n",
       "Aromanian; Arumanian; Macedo-Romanian        1\n",
       "Basque                                       1\n",
       "Faroese                                      1\n",
       "Iranian (Other)                              1\n",
       "Norwegian Nynorsk; Nynorsk, Norwegian        1\n",
       "Name: language, Length: 81, dtype: int64"
      ]
     },
     "execution_count": 22,
     "metadata": {},
     "output_type": "execute_result"
    }
   ],
   "source": [
    "gr_data['language'].value_counts()"
   ]
  },
  {
   "cell_type": "code",
   "execution_count": 23,
   "id": "1120d35b",
   "metadata": {},
   "outputs": [
    {
     "data": {
      "text/plain": [
       "3806"
      ]
     },
     "execution_count": 23,
     "metadata": {},
     "output_type": "execute_result"
    }
   ],
   "source": [
    "# Checking null values\n",
    "gr_data['language'].isna().sum()"
   ]
  },
  {
   "cell_type": "code",
   "execution_count": 24,
   "id": "738ce2c9",
   "metadata": {},
   "outputs": [
    {
     "data": {
      "text/html": [
       "<div>\n",
       "<style scoped>\n",
       "    .dataframe tbody tr th:only-of-type {\n",
       "        vertical-align: middle;\n",
       "    }\n",
       "\n",
       "    .dataframe tbody tr th {\n",
       "        vertical-align: top;\n",
       "    }\n",
       "\n",
       "    .dataframe thead th {\n",
       "        text-align: right;\n",
       "    }\n",
       "</style>\n",
       "<table border=\"1\" class=\"dataframe\">\n",
       "  <thead>\n",
       "    <tr style=\"text-align: right;\">\n",
       "      <th></th>\n",
       "      <th>title</th>\n",
       "      <th>series</th>\n",
       "      <th>author</th>\n",
       "      <th>rating</th>\n",
       "      <th>description</th>\n",
       "      <th>language</th>\n",
       "      <th>isbn</th>\n",
       "      <th>genres</th>\n",
       "      <th>characters</th>\n",
       "      <th>book_format</th>\n",
       "      <th>edition</th>\n",
       "      <th>pages</th>\n",
       "      <th>publisher</th>\n",
       "      <th>publish_date</th>\n",
       "      <th>first_publish_date</th>\n",
       "      <th>awards</th>\n",
       "      <th>num_ratings</th>\n",
       "      <th>rating_by_stars</th>\n",
       "      <th>liked_perc</th>\n",
       "      <th>setting</th>\n",
       "      <th>bbe_score</th>\n",
       "      <th>bbe_votes</th>\n",
       "      <th>price</th>\n",
       "      <th>other_collabs</th>\n",
       "    </tr>\n",
       "  </thead>\n",
       "  <tbody>\n",
       "    <tr>\n",
       "      <th>503</th>\n",
       "      <td>Mistress Suffragette</td>\n",
       "      <td>NaN</td>\n",
       "      <td>Diana Forbes</td>\n",
       "      <td>4.34</td>\n",
       "      <td>\\n  A young woman without prospects at a ball ...</td>\n",
       "      <td>NaN</td>\n",
       "      <td>B06XG3G2TF</td>\n",
       "      <td>['Fiction', 'Novels', 'Historical Fiction', 'D...</td>\n",
       "      <td>[]</td>\n",
       "      <td>Kindle Edition</td>\n",
       "      <td>NaN</td>\n",
       "      <td>333.0</td>\n",
       "      <td>Penmore Press LLC</td>\n",
       "      <td>03-05-2017</td>\n",
       "      <td>NaN</td>\n",
       "      <td>[]</td>\n",
       "      <td>7647</td>\n",
       "      <td>['3553', '3422', '466', '140', '66']</td>\n",
       "      <td>97.0</td>\n",
       "      <td>[]</td>\n",
       "      <td>18215</td>\n",
       "      <td>203</td>\n",
       "      <td>NaN</td>\n",
       "      <td>Goodreads Author)</td>\n",
       "    </tr>\n",
       "    <tr>\n",
       "      <th>570</th>\n",
       "      <td>Invisible Monsters</td>\n",
       "      <td>NaN</td>\n",
       "      <td>Chuck Palahniuk</td>\n",
       "      <td>3.98</td>\n",
       "      <td>She's a catwalk model who has everything: a bo...</td>\n",
       "      <td>NaN</td>\n",
       "      <td>9.78039E+12</td>\n",
       "      <td>['Fiction', 'Contemporary', 'Thriller', 'Myste...</td>\n",
       "      <td>['Shannon McFarland', 'Brandy Alexander', 'Evi...</td>\n",
       "      <td>Paperback</td>\n",
       "      <td>NaN</td>\n",
       "      <td>304.0</td>\n",
       "      <td>W. W. Norton Company</td>\n",
       "      <td>05-01-2018</td>\n",
       "      <td>09/17/99</td>\n",
       "      <td>[]</td>\n",
       "      <td>128254</td>\n",
       "      <td>['47150', '45163', '25392', '7675', '2874']</td>\n",
       "      <td>92.0</td>\n",
       "      <td>[]</td>\n",
       "      <td>15186</td>\n",
       "      <td>181</td>\n",
       "      <td>6.53</td>\n",
       "      <td>Goodreads Author)</td>\n",
       "    </tr>\n",
       "    <tr>\n",
       "      <th>645</th>\n",
       "      <td>House of Sand and Fog</td>\n",
       "      <td>NaN</td>\n",
       "      <td>Andre Dubus III</td>\n",
       "      <td>3.85</td>\n",
       "      <td>In this “page-turner with a beating heart” (Bo...</td>\n",
       "      <td>NaN</td>\n",
       "      <td>9.78039E+12</td>\n",
       "      <td>['Fiction', 'Contemporary', 'Literary Fiction'...</td>\n",
       "      <td>['Colonel Behrani', 'Kathy Nicolo', 'Sheriff L...</td>\n",
       "      <td>Paperback</td>\n",
       "      <td>NaN</td>\n",
       "      <td>368.0</td>\n",
       "      <td>W. W. Norton Company</td>\n",
       "      <td>10-02-2018</td>\n",
       "      <td>10/28/99</td>\n",
       "      <td>['Los Angeles Times Book Prize Nominee for Fic...</td>\n",
       "      <td>125230</td>\n",
       "      <td>['38141', '46256', '28560', '8447', '3826']</td>\n",
       "      <td>90.0</td>\n",
       "      <td>['California (United States)']</td>\n",
       "      <td>12262</td>\n",
       "      <td>176</td>\n",
       "      <td>2.86</td>\n",
       "      <td></td>\n",
       "    </tr>\n",
       "    <tr>\n",
       "      <th>703</th>\n",
       "      <td>The Awakening: Fate in Motion</td>\n",
       "      <td>NaN</td>\n",
       "      <td>Suzanne Boisvert</td>\n",
       "      <td>4.31</td>\n",
       "      <td>Exiled from Earth thousands of years ago, Sar ...</td>\n",
       "      <td>NaN</td>\n",
       "      <td>B07GNSZH8M</td>\n",
       "      <td>['Contemporary', 'Drama', 'Book Club', 'Fictio...</td>\n",
       "      <td>[]</td>\n",
       "      <td>Kindle Edition</td>\n",
       "      <td>NaN</td>\n",
       "      <td>331.0</td>\n",
       "      <td>NaN</td>\n",
       "      <td>09/15/18</td>\n",
       "      <td>NaN</td>\n",
       "      <td>[]</td>\n",
       "      <td>6682</td>\n",
       "      <td>['3045', '3031', '329', '206', '71']</td>\n",
       "      <td>96.0</td>\n",
       "      <td>[]</td>\n",
       "      <td>10611</td>\n",
       "      <td>118</td>\n",
       "      <td>NaN</td>\n",
       "      <td>Goodreads Author)</td>\n",
       "    </tr>\n",
       "    <tr>\n",
       "      <th>751</th>\n",
       "      <td>One Fish, Two Fish, Red Fish, Blue Fish</td>\n",
       "      <td>NaN</td>\n",
       "      <td>Dr. Seuss</td>\n",
       "      <td>4.13</td>\n",
       "      <td>One Fish Two Fish Red Fish Blue Fish is a 1960...</td>\n",
       "      <td>NaN</td>\n",
       "      <td>9.78001E+12</td>\n",
       "      <td>['Childrens', 'Picture Books', 'Fiction', 'Cla...</td>\n",
       "      <td>[]</td>\n",
       "      <td>Hardcover</td>\n",
       "      <td>NaN</td>\n",
       "      <td>64.0</td>\n",
       "      <td>Harper Collins Children's Books</td>\n",
       "      <td>10-06-2003</td>\n",
       "      <td>10/28/60</td>\n",
       "      <td>[]</td>\n",
       "      <td>165623</td>\n",
       "      <td>['81438', '41473', '30307', '8407', '3998']</td>\n",
       "      <td>93.0</td>\n",
       "      <td>[]</td>\n",
       "      <td>9731</td>\n",
       "      <td>163</td>\n",
       "      <td>NaN</td>\n",
       "      <td>Reader)</td>\n",
       "    </tr>\n",
       "  </tbody>\n",
       "</table>\n",
       "</div>"
      ],
      "text/plain": [
       "                                       title series            author  rating  \\\n",
       "503                     Mistress Suffragette    NaN      Diana Forbes    4.34   \n",
       "570                       Invisible Monsters    NaN   Chuck Palahniuk    3.98   \n",
       "645                    House of Sand and Fog    NaN   Andre Dubus III    3.85   \n",
       "703            The Awakening: Fate in Motion    NaN  Suzanne Boisvert    4.31   \n",
       "751  One Fish, Two Fish, Red Fish, Blue Fish    NaN         Dr. Seuss    4.13   \n",
       "\n",
       "                                           description language         isbn  \\\n",
       "503  \\n  A young woman without prospects at a ball ...      NaN   B06XG3G2TF   \n",
       "570  She's a catwalk model who has everything: a bo...      NaN  9.78039E+12   \n",
       "645  In this “page-turner with a beating heart” (Bo...      NaN  9.78039E+12   \n",
       "703  Exiled from Earth thousands of years ago, Sar ...      NaN   B07GNSZH8M   \n",
       "751  One Fish Two Fish Red Fish Blue Fish is a 1960...      NaN  9.78001E+12   \n",
       "\n",
       "                                                genres  \\\n",
       "503  ['Fiction', 'Novels', 'Historical Fiction', 'D...   \n",
       "570  ['Fiction', 'Contemporary', 'Thriller', 'Myste...   \n",
       "645  ['Fiction', 'Contemporary', 'Literary Fiction'...   \n",
       "703  ['Contemporary', 'Drama', 'Book Club', 'Fictio...   \n",
       "751  ['Childrens', 'Picture Books', 'Fiction', 'Cla...   \n",
       "\n",
       "                                            characters     book_format  \\\n",
       "503                                                 []  Kindle Edition   \n",
       "570  ['Shannon McFarland', 'Brandy Alexander', 'Evi...       Paperback   \n",
       "645  ['Colonel Behrani', 'Kathy Nicolo', 'Sheriff L...       Paperback   \n",
       "703                                                 []  Kindle Edition   \n",
       "751                                                 []       Hardcover   \n",
       "\n",
       "    edition  pages                        publisher publish_date  \\\n",
       "503     NaN  333.0                Penmore Press LLC   03-05-2017   \n",
       "570     NaN  304.0             W. W. Norton Company   05-01-2018   \n",
       "645     NaN  368.0             W. W. Norton Company   10-02-2018   \n",
       "703     NaN  331.0                              NaN     09/15/18   \n",
       "751     NaN   64.0  Harper Collins Children's Books   10-06-2003   \n",
       "\n",
       "    first_publish_date                                             awards  \\\n",
       "503                NaN                                                 []   \n",
       "570           09/17/99                                                 []   \n",
       "645           10/28/99  ['Los Angeles Times Book Prize Nominee for Fic...   \n",
       "703                NaN                                                 []   \n",
       "751           10/28/60                                                 []   \n",
       "\n",
       "     num_ratings                              rating_by_stars  liked_perc  \\\n",
       "503         7647         ['3553', '3422', '466', '140', '66']        97.0   \n",
       "570       128254  ['47150', '45163', '25392', '7675', '2874']        92.0   \n",
       "645       125230  ['38141', '46256', '28560', '8447', '3826']        90.0   \n",
       "703         6682         ['3045', '3031', '329', '206', '71']        96.0   \n",
       "751       165623  ['81438', '41473', '30307', '8407', '3998']        93.0   \n",
       "\n",
       "                            setting  bbe_score  bbe_votes  price  \\\n",
       "503                              []      18215        203    NaN   \n",
       "570                              []      15186        181   6.53   \n",
       "645  ['California (United States)']      12262        176   2.86   \n",
       "703                              []      10611        118    NaN   \n",
       "751                              []       9731        163    NaN   \n",
       "\n",
       "         other_collabs  \n",
       "503  Goodreads Author)  \n",
       "570  Goodreads Author)  \n",
       "645                     \n",
       "703  Goodreads Author)  \n",
       "751            Reader)  "
      ]
     },
     "execution_count": 24,
     "metadata": {},
     "output_type": "execute_result"
    }
   ],
   "source": [
    "nan_lang = gr_data[gr_data['language'].isna()]\n",
    "nan_lang.head()"
   ]
  },
  {
   "cell_type": "code",
   "execution_count": 25,
   "id": "ee789229",
   "metadata": {},
   "outputs": [],
   "source": [
    "# Import 'langid' --> identifying language from 'description' or 'title' column\n",
    "\n",
    "import langid\n",
    "\n",
    "# Define the language dictionary\n",
    "language_dict = {\n",
    "    'en': 'English',\n",
    "    'fr': 'French',\n",
    "    'de': 'German',\n",
    "    'es': 'Spanish',\n",
    "    'it': 'Italian',\n",
    "    'pt': 'Portuguese',\n",
    "    'nl': 'Dutch',\n",
    "    'sv': 'Swedish',\n",
    "    'pl': 'Polish',\n",
    "    'sl': 'Slovenian',\n",
    "    'bs': 'Bosnian',\n",
    "    'hr': 'Croatian',\n",
    "    'sr': 'Serbian',\n",
    "    'sq': 'Albanian',\n",
    "    'mk': 'Macedonian',\n",
    "    'ro': 'Romanian',\n",
    "    'da': 'Danish',\n",
    "    'no': 'Norwegian',\n",
    "    'fi': 'Finnish',\n",
    "    'hu': 'Hungarian',\n",
    "    'et': 'Estonian',\n",
    "    'lv': 'Latvian',\n",
    "    'lt': 'Lithuanian',\n",
    "    'cs': 'Czech',\n",
    "    'sk': 'Slovak',\n",
    "    'sl': 'Slovenian',\n",
    "    'ru': 'Russian'\n",
    "}\n",
    "\n",
    "# create a list of unique language values from the dataframe\n",
    "language_values = gr_data['language'].dropna().unique().tolist()\n",
    "\n",
    "# iterate through rows where 'language' is nan\n",
    "for index, row in gr_data[gr_data['language'].isna()].iterrows():\n",
    "    description = row['description']\n",
    "    if isinstance(description, str):\n",
    "        detected_language = langid.classify(description)[0]\n",
    "        gr_data.at[index, 'language'] = language_dict.get(detected_language, detected_language)\n",
    "    else:\n",
    "        title = row['title']\n",
    "        if isinstance(title, str):\n",
    "            detected_language = langid.classify(title)[0]\n",
    "            gr_data.at[index, 'language'] = language_dict.get(detected_language, detected_language)\n",
    "\n"
   ]
  },
  {
   "cell_type": "code",
   "execution_count": 26,
   "id": "5e21c193",
   "metadata": {},
   "outputs": [
    {
     "data": {
      "text/plain": [
       "0"
      ]
     },
     "execution_count": 26,
     "metadata": {},
     "output_type": "execute_result"
    }
   ],
   "source": [
    "# Checking conversion worked well\n",
    "gr_data['language'].isna().sum()"
   ]
  },
  {
   "cell_type": "code",
   "execution_count": 27,
   "id": "b02f5980",
   "metadata": {},
   "outputs": [
    {
     "data": {
      "text/plain": [
       "English                                  46094\n",
       "Arabic                                    1038\n",
       "Spanish                                    739\n",
       "French                                     618\n",
       "German                                     578\n",
       "                                         ...  \n",
       "Iranian (Other)                              1\n",
       "Azerbaijani                                  1\n",
       "Kurdish                                      1\n",
       "French, Middle (ca.1400-1600)                1\n",
       "Norwegian Nynorsk; Nynorsk, Norwegian        1\n",
       "Name: language, Length: 103, dtype: int64"
      ]
     },
     "execution_count": 27,
     "metadata": {},
     "output_type": "execute_result"
    }
   ],
   "source": [
    "gr_data['language'].value_counts()"
   ]
  },
  {
   "cell_type": "code",
   "execution_count": 28,
   "id": "87598a02",
   "metadata": {},
   "outputs": [
    {
     "data": {
      "text/plain": [
       "Index(['title', 'series', 'author', 'rating', 'description', 'language',\n",
       "       'isbn', 'genres', 'characters', 'book_format', 'edition', 'pages',\n",
       "       'publisher', 'publish_date', 'first_publish_date', 'awards',\n",
       "       'num_ratings', 'rating_by_stars', 'liked_perc', 'setting', 'bbe_score',\n",
       "       'bbe_votes', 'price', 'other_collabs'],\n",
       "      dtype='object')"
      ]
     },
     "execution_count": 28,
     "metadata": {},
     "output_type": "execute_result"
    }
   ],
   "source": [
    "gr_data.columns"
   ]
  },
  {
   "cell_type": "markdown",
   "id": "d5c8f133",
   "metadata": {},
   "source": [
    "### ISBN"
   ]
  },
  {
   "cell_type": "code",
   "execution_count": 29,
   "id": "14cd7d29",
   "metadata": {},
   "outputs": [
    {
     "data": {
      "text/plain": [
       "Index(['title', 'series', 'author', 'rating', 'description', 'language',\n",
       "       'isbn', 'genres', 'characters', 'book_format', 'edition', 'pages',\n",
       "       'publisher', 'publish_date', 'first_publish_date', 'awards',\n",
       "       'num_ratings', 'rating_by_stars', 'liked_perc', 'setting', 'bbe_score',\n",
       "       'bbe_votes', 'price', 'other_collabs'],\n",
       "      dtype='object')"
      ]
     },
     "execution_count": 29,
     "metadata": {},
     "output_type": "execute_result"
    }
   ],
   "source": [
    "gr_data.columns"
   ]
  },
  {
   "cell_type": "markdown",
   "id": "eb5a8acf",
   "metadata": {},
   "source": [
    "### Genres"
   ]
  },
  {
   "cell_type": "markdown",
   "id": "8e9757d9",
   "metadata": {},
   "source": [
    "There were 980 unique genres included in the lists genres for each book (52.478). My goal here was to reduce a little the amount of genres (final count: 609), transpose those unique genres as new columns and stablish a binary system where:\n",
    "\n",
    "        - 0 = genre not included in the genres list of that specific book\n",
    "        - 1 = genre included in the genres list of that specific book\n",
    "\n",
    "\n",
    "In the transposition, I had to deal with NaN values as well as books with empty lists of genres in the original dataframe ('[]' are included in a new column 'unknown'). Last, I also deleted unique genres that somehow where included but were not listed in any book.\n",
    "/\n",
    "/\n",
    "As all of this processes implied lot of code and were very time consuming (looping through each of the genres of each row and creating a new dataframe), I worked on different kernels that can be found in the *'0. Drafts'* folder: \n",
    "/\n",
    "/\n",
    "- goodreads_genres_REDUCTION\n",
    "\n",
    "To reduce the list of unique genres I created a dictionary where I grouped very similar unique genres or that I thought that expressed the same information (still can be improved). Then I looped through the original dataframe and replaced those genres for the key. I also check the frequency of those genres and got a genres_list of unique values.\n",
    "\n",
    "\n",
    "- goodreads_genres_NEWDF\n",
    "\n",
    "Then I created an empty dataframe where columns were named after the items in genres_list. After that, I generated new rows for each book (indexes from the original dataframe were included for next merge) and assign binary values if the genre was present or not in its list of genres.\n",
    "\n",
    "\n",
    "\n",
    "\n",
    "The output of these processes is the following imported genres_df dataframe:"
   ]
  },
  {
   "cell_type": "code",
   "execution_count": null,
   "id": "d7fdaa59",
   "metadata": {},
   "outputs": [],
   "source": [
    "#gr_data = pd.read_csv('./1. Original_df/GoodReads.Best_Books_Ever 2.csv')"
   ]
  },
  {
   "cell_type": "code",
   "execution_count": 39,
   "id": "925aff19",
   "metadata": {},
   "outputs": [],
   "source": [
    "genres_df = pd.read_csv('./0. Drafts/genres_clean_dataset.csv')\n",
    "genres_df = genres_df.drop(['Unnamed: 0'],axis=1)"
   ]
  },
  {
   "cell_type": "code",
   "execution_count": 40,
   "id": "39023d0b",
   "metadata": {},
   "outputs": [
    {
     "data": {
      "text/html": [
       "<div>\n",
       "<style scoped>\n",
       "    .dataframe tbody tr th:only-of-type {\n",
       "        vertical-align: middle;\n",
       "    }\n",
       "\n",
       "    .dataframe tbody tr th {\n",
       "        vertical-align: top;\n",
       "    }\n",
       "\n",
       "    .dataframe thead th {\n",
       "        text-align: right;\n",
       "    }\n",
       "</style>\n",
       "<table border=\"1\" class=\"dataframe\">\n",
       "  <thead>\n",
       "    <tr style=\"text-align: right;\">\n",
       "      <th></th>\n",
       "      <th>index_gr_data</th>\n",
       "      <th>fantasy</th>\n",
       "      <th>science fiction</th>\n",
       "      <th>dystopia</th>\n",
       "      <th>young adult</th>\n",
       "      <th>fiction</th>\n",
       "      <th>action</th>\n",
       "      <th>adventure</th>\n",
       "      <th>romance</th>\n",
       "      <th>magic</th>\n",
       "      <th>children</th>\n",
       "      <th>audiobook</th>\n",
       "      <th>school</th>\n",
       "      <th>classics</th>\n",
       "      <th>historical fiction</th>\n",
       "      <th>...</th>\n",
       "      <th>graphic novel and comics.1</th>\n",
       "      <th>guides and travel.1</th>\n",
       "      <th>social justice and activism.1</th>\n",
       "      <th>business and finance.1</th>\n",
       "      <th>mythology and fairy tales.1</th>\n",
       "      <th>programming and computer science.1</th>\n",
       "      <th>diary and journal.1</th>\n",
       "      <th>unknown</th>\n",
       "      <th>cars and motorcycles.1</th>\n",
       "      <th>bande dessinée</th>\n",
       "      <th>sewing and crafts.1</th>\n",
       "      <th>tv and series.1</th>\n",
       "      <th>maps and cartography.1</th>\n",
       "      <th>漫画</th>\n",
       "      <th>veganism and vegetarianism.1</th>\n",
       "    </tr>\n",
       "  </thead>\n",
       "  <tbody>\n",
       "    <tr>\n",
       "      <th>0</th>\n",
       "      <td>0</td>\n",
       "      <td>1.0</td>\n",
       "      <td>1.0</td>\n",
       "      <td>1.0</td>\n",
       "      <td>1.0</td>\n",
       "      <td>1.0</td>\n",
       "      <td>1.0</td>\n",
       "      <td>1.0</td>\n",
       "      <td>1.0</td>\n",
       "      <td>0.0</td>\n",
       "      <td>0.0</td>\n",
       "      <td>0.0</td>\n",
       "      <td>0.0</td>\n",
       "      <td>0.0</td>\n",
       "      <td>0.0</td>\n",
       "      <td>...</td>\n",
       "      <td>0.0</td>\n",
       "      <td>0.0</td>\n",
       "      <td>0.0</td>\n",
       "      <td>0.0</td>\n",
       "      <td>0.0</td>\n",
       "      <td>0.0</td>\n",
       "      <td>0.0</td>\n",
       "      <td>0.0</td>\n",
       "      <td>0.0</td>\n",
       "      <td>0.0</td>\n",
       "      <td>0.0</td>\n",
       "      <td>0.0</td>\n",
       "      <td>0.0</td>\n",
       "      <td>0.0</td>\n",
       "      <td>0.0</td>\n",
       "    </tr>\n",
       "    <tr>\n",
       "      <th>1</th>\n",
       "      <td>1</td>\n",
       "      <td>1.0</td>\n",
       "      <td>1.0</td>\n",
       "      <td>0.0</td>\n",
       "      <td>1.0</td>\n",
       "      <td>1.0</td>\n",
       "      <td>0.0</td>\n",
       "      <td>1.0</td>\n",
       "      <td>0.0</td>\n",
       "      <td>1.0</td>\n",
       "      <td>1.0</td>\n",
       "      <td>1.0</td>\n",
       "      <td>1.0</td>\n",
       "      <td>1.0</td>\n",
       "      <td>0.0</td>\n",
       "      <td>...</td>\n",
       "      <td>0.0</td>\n",
       "      <td>0.0</td>\n",
       "      <td>0.0</td>\n",
       "      <td>0.0</td>\n",
       "      <td>0.0</td>\n",
       "      <td>0.0</td>\n",
       "      <td>0.0</td>\n",
       "      <td>0.0</td>\n",
       "      <td>0.0</td>\n",
       "      <td>0.0</td>\n",
       "      <td>0.0</td>\n",
       "      <td>0.0</td>\n",
       "      <td>0.0</td>\n",
       "      <td>0.0</td>\n",
       "      <td>0.0</td>\n",
       "    </tr>\n",
       "    <tr>\n",
       "      <th>2</th>\n",
       "      <td>2</td>\n",
       "      <td>0.0</td>\n",
       "      <td>0.0</td>\n",
       "      <td>0.0</td>\n",
       "      <td>1.0</td>\n",
       "      <td>1.0</td>\n",
       "      <td>0.0</td>\n",
       "      <td>0.0</td>\n",
       "      <td>0.0</td>\n",
       "      <td>0.0</td>\n",
       "      <td>0.0</td>\n",
       "      <td>0.0</td>\n",
       "      <td>1.0</td>\n",
       "      <td>1.0</td>\n",
       "      <td>1.0</td>\n",
       "      <td>...</td>\n",
       "      <td>0.0</td>\n",
       "      <td>0.0</td>\n",
       "      <td>0.0</td>\n",
       "      <td>0.0</td>\n",
       "      <td>0.0</td>\n",
       "      <td>0.0</td>\n",
       "      <td>0.0</td>\n",
       "      <td>0.0</td>\n",
       "      <td>0.0</td>\n",
       "      <td>0.0</td>\n",
       "      <td>0.0</td>\n",
       "      <td>0.0</td>\n",
       "      <td>0.0</td>\n",
       "      <td>0.0</td>\n",
       "      <td>0.0</td>\n",
       "    </tr>\n",
       "  </tbody>\n",
       "</table>\n",
       "<p>3 rows × 610 columns</p>\n",
       "</div>"
      ],
      "text/plain": [
       "   index_gr_data  fantasy  science fiction  dystopia  young adult  fiction  \\\n",
       "0              0      1.0              1.0       1.0          1.0      1.0   \n",
       "1              1      1.0              1.0       0.0          1.0      1.0   \n",
       "2              2      0.0              0.0       0.0          1.0      1.0   \n",
       "\n",
       "   action  adventure  romance  magic  children  audiobook  school  classics  \\\n",
       "0     1.0        1.0      1.0    0.0       0.0        0.0     0.0       0.0   \n",
       "1     0.0        1.0      0.0    1.0       1.0        1.0     1.0       1.0   \n",
       "2     0.0        0.0      0.0    0.0       0.0        0.0     1.0       1.0   \n",
       "\n",
       "   historical fiction  ...  graphic novel and comics.1  guides and travel.1  \\\n",
       "0                 0.0  ...                         0.0                  0.0   \n",
       "1                 0.0  ...                         0.0                  0.0   \n",
       "2                 1.0  ...                         0.0                  0.0   \n",
       "\n",
       "   social justice and activism.1  business and finance.1  \\\n",
       "0                            0.0                     0.0   \n",
       "1                            0.0                     0.0   \n",
       "2                            0.0                     0.0   \n",
       "\n",
       "   mythology and fairy tales.1  programming and computer science.1  \\\n",
       "0                          0.0                                 0.0   \n",
       "1                          0.0                                 0.0   \n",
       "2                          0.0                                 0.0   \n",
       "\n",
       "   diary and journal.1  unknown  cars and motorcycles.1  bande dessinée  \\\n",
       "0                  0.0      0.0                     0.0             0.0   \n",
       "1                  0.0      0.0                     0.0             0.0   \n",
       "2                  0.0      0.0                     0.0             0.0   \n",
       "\n",
       "   sewing and crafts.1  tv and series.1  maps and cartography.1   漫画  \\\n",
       "0                  0.0              0.0                     0.0  0.0   \n",
       "1                  0.0              0.0                     0.0  0.0   \n",
       "2                  0.0              0.0                     0.0  0.0   \n",
       "\n",
       "   veganism and vegetarianism.1  \n",
       "0                           0.0  \n",
       "1                           0.0  \n",
       "2                           0.0  \n",
       "\n",
       "[3 rows x 610 columns]"
      ]
     },
     "execution_count": 40,
     "metadata": {},
     "output_type": "execute_result"
    }
   ],
   "source": [
    "genres_df.head(3)"
   ]
  },
  {
   "cell_type": "code",
   "execution_count": 41,
   "id": "929994ec",
   "metadata": {},
   "outputs": [
    {
     "data": {
      "text/plain": [
       "\"['Young Adult', 'Fiction', 'Dystopia', 'Fantasy', 'Science Fiction', 'Romance', 'Adventure', 'Teen', 'Post Apocalyptic', 'Action']\""
      ]
     },
     "execution_count": 41,
     "metadata": {},
     "output_type": "execute_result"
    }
   ],
   "source": [
    "gr_data['genres'][0]"
   ]
  },
  {
   "cell_type": "code",
   "execution_count": 42,
   "id": "0464073a",
   "metadata": {},
   "outputs": [
    {
     "data": {
      "text/plain": [
       "\"['Fantasy', 'Young Adult', 'Fiction', 'Magic', 'Childrens', 'Adventure', 'Audiobook', 'Middle Grade', 'Classics', 'Science Fiction Fantasy']\""
      ]
     },
     "execution_count": 42,
     "metadata": {},
     "output_type": "execute_result"
    }
   ],
   "source": [
    "gr_data['genres'][1]"
   ]
  },
  {
   "cell_type": "code",
   "execution_count": 44,
   "id": "dcfbdeee",
   "metadata": {},
   "outputs": [
    {
     "name": "stdout",
     "output_type": "stream",
     "text": [
      "Unique genres:  609\n"
     ]
    }
   ],
   "source": [
    "unique_genres = len(genres_df.columns)-1\n",
    "print(\"Unique genres: \", unique_genres)"
   ]
  },
  {
   "cell_type": "code",
   "execution_count": null,
   "id": "64e6fa37",
   "metadata": {},
   "outputs": [],
   "source": []
  },
  {
   "cell_type": "code",
   "execution_count": null,
   "id": "c1186e92",
   "metadata": {},
   "outputs": [],
   "source": []
  },
  {
   "cell_type": "code",
   "execution_count": null,
   "id": "8284f41b",
   "metadata": {},
   "outputs": [],
   "source": []
  },
  {
   "cell_type": "code",
   "execution_count": null,
   "id": "0a3e1ab8",
   "metadata": {},
   "outputs": [],
   "source": [
    "gr_data.columns"
   ]
  },
  {
   "cell_type": "markdown",
   "id": "b333f044",
   "metadata": {},
   "source": [
    "###### Book Format"
   ]
  },
  {
   "cell_type": "code",
   "execution_count": null,
   "id": "336c6558",
   "metadata": {},
   "outputs": [],
   "source": [
    "gr_data['book_format'].isna().sum()"
   ]
  },
  {
   "cell_type": "code",
   "execution_count": null,
   "id": "c842b3ef",
   "metadata": {},
   "outputs": [],
   "source": [
    "pd.set_option('display.max_rows', None)\n",
    "len(gr_data['book_format'].value_counts(dropna=False))\n"
   ]
  },
  {
   "cell_type": "code",
   "execution_count": null,
   "id": "c6762da1",
   "metadata": {},
   "outputs": [],
   "source": [
    "to_paperback = ['Mass Market Paperback', 'Trade Paperback', 'paperback', 'Mass Market', 'Perfect Paperback',\n",
    "                'paper', 'capa comun', 'pasta blanda', 'mass_market', 'softcover', 'Trade paperback',\n",
    "                'Softcover', 'Pocket', 'Paper Back', 'Novelty Book', 'Novel', 'Mass Market Paperback', 'Paper Back',\n",
    "                'Bolsillo con sobrecubierta', 'Trade Paper', 'Fiction', 'paper book', 'Broché',\n",
    "               'Capa Mole', 'Capa mole', 'Paperback ', 'Capa comum', 'Paperback (عربي-English)',\n",
    "               'Mass Market Paperback','Capa mole - 15,5 x 23 x 2cm','capa mole','Pasta blanda',\n",
    "                'Mass Market Paperback ', 'Paper back', 'Rústica']\n",
    "\n",
    "gr_data['book_format'] = gr_data['book_format'].replace(to_replace=to_paperback, value='Paperback')\n"
   ]
  },
  {
   "cell_type": "code",
   "execution_count": null,
   "id": "1635817e",
   "metadata": {},
   "outputs": [],
   "source": [
    "len(gr_data['book_format'].value_counts(dropna=False))"
   ]
  },
  {
   "cell_type": "code",
   "execution_count": null,
   "id": "fe18dab6",
   "metadata": {},
   "outputs": [],
   "source": [
    "to_hardcover = ['Library Binding', 'hardcover', 'Hardback', 'Taschenbuch', 'Slipcased Hardcover',\n",
    "               'Capa dura', 'Pasta dura', 'Hard Cover','hardback', 'Turtleback', 'Tankobon Hardcover',\n",
    "               'Big Book','Hardcover Slipcased','hardbound','Hardcover Chapbook','Hardcover, Paper Dust Jacket',\n",
    "               'Hardcover Slipcased ', 'Paperback mit Klappen','Hardcover im Schuber','Klappenbroschur']\n",
    "\n",
    "gr_data['book_format'] = gr_data['book_format'].replace(to_replace=to_hardcover, value='Hardcover')\n"
   ]
  },
  {
   "cell_type": "code",
   "execution_count": null,
   "id": "1d9d0bd0",
   "metadata": {},
   "outputs": [],
   "source": [
    "len(gr_data['book_format'].value_counts(dropna=False))"
   ]
  },
  {
   "cell_type": "code",
   "execution_count": null,
   "id": "09c515a7",
   "metadata": {},
   "outputs": [],
   "source": [
    "to_ebook = ['Paperback and Kindle','Paperback, eBook','Webnovel','ebook and paperback','Interactive ebook',\n",
    "           'Paperback/Ebook','Kindle','Hard cover, Soft cover, e-book','Paperback, Kindle, Ebook, Audio',\n",
    "           'Digital',\"author's website\",'Online Fiction - Complete','kindle_edition','web','PDF',\n",
    "           'Paperback/Kindle','Softcover, free ebook','online fiction','Online Fiction','Webtoon',\n",
    "           'eBook Kindle','Wattpad','Online','Ebook_Online','Nook','ebook','Kindle Edition', 'Poche']\n",
    "\n",
    "gr_data['book_format'] = gr_data['book_format'].replace(to_replace=to_ebook, value='Ebook_Online')"
   ]
  },
  {
   "cell_type": "code",
   "execution_count": null,
   "id": "1123e24e",
   "metadata": {},
   "outputs": [],
   "source": [
    "len(gr_data['book_format'].value_counts(dropna=False))"
   ]
  },
  {
   "cell_type": "code",
   "execution_count": null,
   "id": "e366885a",
   "metadata": {},
   "outputs": [],
   "source": [
    "to_audio = ['Audio Play','audiobook','Audio Cd','audio cassette','Audio Book','CD-ROM',\n",
    "           'MP3 CD','Audible Audio','Audio Cassette','Audiobook','Audio CD']\n",
    "\n",
    "gr_data['book_format'] = gr_data['book_format'].replace(to_replace=to_audio, value='Audio')"
   ]
  },
  {
   "cell_type": "code",
   "execution_count": null,
   "id": "e6006678",
   "metadata": {},
   "outputs": [],
   "source": [
    "len(gr_data['book_format'].value_counts(dropna=False))"
   ]
  },
  {
   "cell_type": "code",
   "execution_count": null,
   "id": "e45cf58a",
   "metadata": {},
   "outputs": [],
   "source": [
    "to_boxset = ['Hardcover Boxed Set','Box-Set', 'Book Set', 'Box Set','Boxed Set']\n",
    "\n",
    "gr_data['book_format'] = gr_data['book_format'].replace(to_replace=to_boxset, value='Boxset')"
   ]
  },
  {
   "cell_type": "code",
   "execution_count": null,
   "id": "9cb75999",
   "metadata": {},
   "outputs": [],
   "source": [
    "len(gr_data['book_format'].value_counts(dropna=False))"
   ]
  },
  {
   "cell_type": "code",
   "execution_count": null,
   "id": "2ec5bb72",
   "metadata": {},
   "outputs": [],
   "source": [
    "to_graphic = ['Comics', 'Digital Comic','webtoon','Graphic Novels', 'Comic']\n",
    "\n",
    "gr_data['book_format'] = gr_data['book_format'].replace(to_replace=to_graphic, value='Comic & Graphic Novel')"
   ]
  },
  {
   "cell_type": "code",
   "execution_count": null,
   "id": "fa60c2c0",
   "metadata": {},
   "outputs": [],
   "source": [
    "len(gr_data['book_format'].value_counts(dropna=False))"
   ]
  },
  {
   "cell_type": "code",
   "execution_count": null,
   "id": "20495d52",
   "metadata": {},
   "outputs": [],
   "source": [
    "to_boardbook = ['Board book', 'Board']\n",
    "\n",
    "gr_data['book_format'] = gr_data['book_format'].replace(to_replace=to_boardbook, value='Board Book')"
   ]
  },
  {
   "cell_type": "code",
   "execution_count": null,
   "id": "baf33b41",
   "metadata": {},
   "outputs": [],
   "source": [
    "len(gr_data['book_format'].value_counts(dropna=False))"
   ]
  },
  {
   "cell_type": "code",
   "execution_count": null,
   "id": "17bd47d7",
   "metadata": {},
   "outputs": [],
   "source": [
    "to_specialed = ['Leather Bound','cloth','Broschiert','Bonded Leather','Gebunden','revised edition','Gebundene Ausgabe']\n",
    "\n",
    "gr_data['book_format'] = gr_data['book_format'].replace(to_replace=to_specialed, value='Special Edition')"
   ]
  },
  {
   "cell_type": "code",
   "execution_count": null,
   "id": "e1efc771",
   "metadata": {},
   "outputs": [],
   "source": [
    "len(gr_data['book_format'].value_counts(dropna=False))"
   ]
  },
  {
   "cell_type": "code",
   "execution_count": null,
   "id": "63c81d20",
   "metadata": {},
   "outputs": [],
   "source": [
    "# Replacing all other formats to 'Other formats'\n",
    "to_other_format = [f for f in gr_data['book_format'].unique() if f not in ['Paperback', 'Hardcover','Ebook_Online', 'Audio', 'Board Book', 'Special Edition', 'Comic & Graphic Novel', 'Boxset']]\n",
    "\n",
    "gr_data['book_format'] = gr_data['book_format'].replace(to_replace=to_other_format, value='Other Format')"
   ]
  },
  {
   "cell_type": "code",
   "execution_count": null,
   "id": "93269e64",
   "metadata": {},
   "outputs": [],
   "source": [
    "display(gr_data['book_format'].value_counts(dropna=False))\n",
    "len(gr_data['book_format'].value_counts(dropna=False))"
   ]
  },
  {
   "cell_type": "code",
   "execution_count": null,
   "id": "b5a31526",
   "metadata": {},
   "outputs": [],
   "source": [
    "# Checking NaN Values\n",
    "gr_data['book_format'].isna().sum()"
   ]
  },
  {
   "cell_type": "code",
   "execution_count": null,
   "id": "2b72a211",
   "metadata": {},
   "outputs": [],
   "source": []
  },
  {
   "cell_type": "code",
   "execution_count": null,
   "id": "59ff05cf",
   "metadata": {},
   "outputs": [],
   "source": [
    "gr_data.columns"
   ]
  },
  {
   "cell_type": "markdown",
   "id": "49c1f723",
   "metadata": {},
   "source": [
    "###### Characters"
   ]
  },
  {
   "cell_type": "code",
   "execution_count": null,
   "id": "4ea47b3d",
   "metadata": {},
   "outputs": [],
   "source": []
  },
  {
   "cell_type": "markdown",
   "id": "0f100852",
   "metadata": {},
   "source": [
    "###### Edition"
   ]
  },
  {
   "cell_type": "code",
   "execution_count": null,
   "id": "b1390b74",
   "metadata": {},
   "outputs": [],
   "source": [
    "gr_data.tail()"
   ]
  },
  {
   "cell_type": "code",
   "execution_count": null,
   "id": "34e1e500",
   "metadata": {},
   "outputs": [],
   "source": [
    "len(gr_data['edition'].value_counts())"
   ]
  },
  {
   "cell_type": "code",
   "execution_count": null,
   "id": "176452be",
   "metadata": {},
   "outputs": [],
   "source": [
    "gr_data['edition'].nunique()"
   ]
  },
  {
   "cell_type": "code",
   "execution_count": null,
   "id": "e16d434b",
   "metadata": {},
   "outputs": [],
   "source": [
    "# Dealing with 'First Edition' multiple descriptions\n",
    "\n",
    "# Replace NaNs in the 'edition' column with an empty string\n",
    "gr_data['edition'] = gr_data['edition'].fillna('')\n",
    "\n",
    "# Select all rows where the 'edition' column contains 'First', 'first', or '1st'\n",
    "first_edition_rows = gr_data[gr_data['edition'].str.contains('first|1st|1 edition|primera', case=False, na=False)]\n",
    "\n",
    "# Replace the 'edition' column for the selected rows with 'First Edition'\n",
    "gr_data.loc[first_edition_rows.index, 'edition'] = 'First Edition'\n",
    "\n",
    "# Unique values\n",
    "gr_data['edition'].nunique()"
   ]
  },
  {
   "cell_type": "code",
   "execution_count": null,
   "id": "7ebb8d5e",
   "metadata": {},
   "outputs": [],
   "source": [
    "# Dealing with editions 2-5\n",
    "\n",
    "# Select all rows for 'edition' 2 to 5\n",
    "second_edition_rows = gr_data[gr_data['edition'].str.contains('second|2nd|segunda', case=False, na=False)]\n",
    "third_edition_rows = gr_data[gr_data['edition'].str.contains('third|3rd|tercera', case=False, na=False)]\n",
    "fourth_edition_rows = gr_data[gr_data['edition'].str.contains('fourth|4th|cuarta', case=False, na=False)]\n",
    "fifth_edition_rows = gr_data[gr_data['edition'].str.contains('fifth|5th|quinta', case=False, na=False)]\n",
    "\n",
    "# Replacing the 'edition' column \n",
    "gr_data.loc[second_edition_rows.index, 'edition'] = 'Second Edition'\n",
    "gr_data.loc[third_edition_rows.index, 'edition'] = 'Third Edition'\n",
    "gr_data.loc[fourth_edition_rows.index, 'edition'] = 'Fourth Edition'\n",
    "gr_data.loc[fifth_edition_rows.index, 'edition'] = 'Fifth Edition'\n",
    "\n",
    "# Unique values\n",
    "gr_data['edition'].nunique()"
   ]
  },
  {
   "cell_type": "code",
   "execution_count": null,
   "id": "a587d9d2",
   "metadata": {},
   "outputs": [],
   "source": [
    "# Special editions\n",
    "\n",
    "# Select all rows where the 'edition' column contains 'Anniversary' or 'anniversary'\n",
    "anniversary_rows = gr_data[gr_data['edition'].str.contains('anniversary|deluxe edition|limited|special|commemorativa', case=False, na=False)]\n",
    "\n",
    "# Replace the 'edition' column for the selected rows with 'Special Edition'\n",
    "gr_data.loc[anniversary_rows.index, 'edition'] = 'Special Edition'\n"
   ]
  },
  {
   "cell_type": "code",
   "execution_count": null,
   "id": "827f9cb3",
   "metadata": {},
   "outputs": [],
   "source": [
    "gr_data['edition'].nunique()"
   ]
  },
  {
   "cell_type": "code",
   "execution_count": null,
   "id": "9ecfc2a6",
   "metadata": {},
   "outputs": [],
   "source": [
    "# Other cases of editions\n",
    "revised_rows = gr_data[gr_data['edition'].str.contains('revised', case=False, na=False)]\n",
    "gr_data.loc[revised_rows.index, 'edition'] = 'Revised Edition'\n",
    "\n",
    "illustrated_rows = gr_data[gr_data['edition'].str.contains('illustrated', case=False, na=False)]\n",
    "gr_data.loc[illustrated_rows.index, 'edition'] = 'Illustrated Edition'\n",
    "\n",
    "comic_graphic_rows = gr_data[gr_data['edition'].str.contains('comic|graphic', case=False, na=False)]\n",
    "gr_data.loc[comic_graphic_rows.index, 'edition'] = 'Comic&Graphic Novel'\n",
    "\n",
    "classic_rows = gr_data[gr_data['edition'].str.contains('classic|Agatha|Shakespeare|Larousse|clásico', case=False, na=False)]\n",
    "gr_data.loc[classic_rows.index, 'edition'] = 'Classic Collection'\n",
    "\n",
    "updated_rows = gr_data[gr_data['edition'].str.contains('expanded|extended|updated', case=False, na=False)]\n",
    "gr_data.loc[updated_rows.index, 'edition'] = 'Extended-Updated Edition'\n",
    "\n",
    "boxed_rows = gr_data[gr_data['edition'].str.contains('box|boxed|box |set', case=False, na=False)]\n",
    "gr_data.loc[boxed_rows.index, 'edition'] = 'Boxed Set'\n",
    "\n",
    "\n",
    "\n",
    "gr_data['edition'].nunique()"
   ]
  },
  {
   "cell_type": "code",
   "execution_count": null,
   "id": "151c3248",
   "metadata": {},
   "outputs": [],
   "source": [
    "#gr_data['edition'].value_counts()"
   ]
  },
  {
   "cell_type": "code",
   "execution_count": null,
   "id": "f6f86c14",
   "metadata": {},
   "outputs": [],
   "source": [
    "gr_data['edition'].unique()"
   ]
  },
  {
   "cell_type": "markdown",
   "id": "3ae5c6da",
   "metadata": {},
   "source": [
    "# Define expected edition values\n",
    "new_ed = ['First Edition', 'Second Edition', 'Third Edition', 'Fourth Edition', 'Fifth Edition',\n",
    "          'Special Edition', 'Revised Edition', 'Illustrated Edition', 'Graphic Novel Edition',\n",
    "          'Classic Edition', 'Extended-Updated Edition', 'Boxed Set']\n",
    "\n",
    "# Replace unexpected edition values with 'Other Format'\n",
    "gr_data.loc[~gr_data['edition'].isin(new_ed), 'edition'] = 'Other Format'\n",
    "\n",
    "display(gr_data['edition'].value_counts())\n",
    "len(gr_data['edition'].value_counts())"
   ]
  },
  {
   "cell_type": "code",
   "execution_count": null,
   "id": "725b4ba3",
   "metadata": {},
   "outputs": [],
   "source": [
    "gr_data['edition'].value_counts()"
   ]
  },
  {
   "cell_type": "code",
   "execution_count": null,
   "id": "e62e9c12",
   "metadata": {},
   "outputs": [],
   "source": []
  },
  {
   "cell_type": "code",
   "execution_count": null,
   "id": "b28b6366",
   "metadata": {},
   "outputs": [],
   "source": [
    "gr_data.columns"
   ]
  },
  {
   "cell_type": "markdown",
   "id": "1966af0e",
   "metadata": {},
   "source": [
    "###### Pages"
   ]
  },
  {
   "cell_type": "code",
   "execution_count": null,
   "id": "f94089b7",
   "metadata": {},
   "outputs": [],
   "source": [
    "gr_data['pages'].isna().sum()"
   ]
  },
  {
   "cell_type": "code",
   "execution_count": null,
   "id": "2f826913",
   "metadata": {
    "scrolled": true
   },
   "outputs": [],
   "source": [
    "nan_pages = gr_data[gr_data['pages'].isna()]\n",
    "display(nan_pages)\n"
   ]
  },
  {
   "cell_type": "markdown",
   "id": "f48c14ec",
   "metadata": {},
   "source": [
    "###### Ratings by stars"
   ]
  },
  {
   "cell_type": "code",
   "execution_count": null,
   "id": "555086c1",
   "metadata": {},
   "outputs": [],
   "source": [
    "# Number of ratings by stars (from 5 to 1 star)\n",
    "gr_data['rating_by_stars']"
   ]
  },
  {
   "cell_type": "code",
   "execution_count": null,
   "id": "b5d8ae9b",
   "metadata": {},
   "outputs": [],
   "source": [
    "gr_data['rating_by_stars'][0]"
   ]
  },
  {
   "cell_type": "code",
   "execution_count": null,
   "id": "e82fc21c",
   "metadata": {},
   "outputs": [],
   "source": [
    "print(type(gr_data['rating_by_stars'][0]))"
   ]
  },
  {
   "cell_type": "code",
   "execution_count": null,
   "id": "effc548c",
   "metadata": {},
   "outputs": [],
   "source": [
    "import ast\n",
    "gr_data['rating_by_stars'] = gr_data['rating_by_stars'].apply(ast.literal_eval)\n",
    "print(type(gr_data['rating_by_stars'][0]))"
   ]
  },
  {
   "cell_type": "code",
   "execution_count": null,
   "id": "f23093ac",
   "metadata": {},
   "outputs": [],
   "source": [
    "# Creating columns (5 to 1 stars) to add the count of rates for each \n",
    "gr_data[['5_stars_num_ratings', '4_stars_num_ratings', '3_stars_num_ratings', '2_stars_num_ratings', '1_star_num_ratings']] = gr_data['rating_by_stars'].apply(lambda x: pd.Series({\n",
    "    '5_stars_num_ratings': x[0] if len(x) > 0 else None,\n",
    "    '4_stars_num_ratings': x[1] if len(x) > 1 else None,\n",
    "    '3_stars_num_ratings': x[2] if len(x) > 2 else None,\n",
    "    '2_stars_num_ratings': x[3] if len(x) > 3 else None,\n",
    "    '1_star_num_ratings': x[4] if len(x) > 4 else None\n",
    "}))"
   ]
  },
  {
   "cell_type": "code",
   "execution_count": null,
   "id": "5619977a",
   "metadata": {},
   "outputs": [],
   "source": [
    "# Droping original 'rating-by-stars' column\n",
    "gr_data = gr_data.drop(['rating_by_stars'], axis = 1)"
   ]
  },
  {
   "cell_type": "code",
   "execution_count": null,
   "id": "e4839ace",
   "metadata": {},
   "outputs": [],
   "source": [
    "display(gr_data.head(), gr_data.shape)"
   ]
  },
  {
   "cell_type": "markdown",
   "id": "d16d9d45",
   "metadata": {},
   "source": [
    "###### ISBN"
   ]
  },
  {
   "cell_type": "code",
   "execution_count": null,
   "id": "e63a079b",
   "metadata": {},
   "outputs": [],
   "source": [
    "gr_data['isbn']"
   ]
  },
  {
   "cell_type": "code",
   "execution_count": null,
   "id": "2e8d25fb",
   "metadata": {},
   "outputs": [],
   "source": [
    "for value in gr_data['isbn']:\n",
    "    try:\n",
    "        float(value)\n",
    "    except ValueError:\n",
    "        print(f\"Value {value} could not be converted to a float\")"
   ]
  },
  {
   "cell_type": "code",
   "execution_count": null,
   "id": "8af0f3bf",
   "metadata": {},
   "outputs": [],
   "source": [
    "gr_data.head()"
   ]
  },
  {
   "cell_type": "code",
   "execution_count": null,
   "id": "8e1f9bd6",
   "metadata": {},
   "outputs": [],
   "source": [
    "isbn = int(float('9.78044E+12'))\n",
    "print(isbn)\n"
   ]
  },
  {
   "cell_type": "code",
   "execution_count": null,
   "id": "6399a9e9",
   "metadata": {},
   "outputs": [],
   "source": [
    "import requests\n",
    "from bs4 import BeautifulSoup\n",
    "import time\n",
    "import random\n",
    "\n",
    "def extract_isbn(row):\n",
    "    # Check if the isbn column contains a string in scientific notation format\n",
    "    try:\n",
    "        isbn_num = int(row['isbn'])\n",
    "        isbn_str = str(isbn_num)\n",
    "        if len(isbn_str) == 10 or len(isbn_str) == 13:\n",
    "            return isbn_str\n",
    "    except ValueError:\n",
    "        pass\n",
    "    \n",
    "    # If the isbn column does not contain a valid ISBN, extract it from the Amazon product page\n",
    "    amazon_id = row['isbn']\n",
    "    url = f'https://www.amazon.com/dp/{amazon_id}'\n",
    "    response = requests.get(url)\n",
    "    \n",
    "    # Sleep for a random time between 1 and 3 seconds\n",
    "    time.sleep(random.uniform(1, 3))\n",
    "    \n",
    "    soup = BeautifulSoup(response.content, 'html.parser')\n",
    "    \n",
    "    isbn_tags = soup.select('#detailBullets_feature_div li:-soup-contains(\"ISBN-10\") span.a-text-bold, #detailBullets_feature_div li:-soup-contains(\"ISBN-13\") span.a-text-bold')\n",
    "    if isbn_tags:\n",
    "        return isbn_tags[0].text.strip().replace('-', '')\n",
    "    else:\n",
    "        return None\n"
   ]
  },
  {
   "cell_type": "code",
   "execution_count": null,
   "id": "054172bb",
   "metadata": {},
   "outputs": [],
   "source": [
    "#gr_data['isbn'] = gr_data.apply(extract_isbn, axis=1)"
   ]
  },
  {
   "cell_type": "code",
   "execution_count": null,
   "id": "2392a35d",
   "metadata": {},
   "outputs": [],
   "source": [
    "gr_data['isbn']"
   ]
  },
  {
   "cell_type": "code",
   "execution_count": null,
   "id": "27b1aff2",
   "metadata": {},
   "outputs": [],
   "source": []
  }
 ],
 "metadata": {
  "kernelspec": {
   "display_name": "Python 3 (ipykernel)",
   "language": "python",
   "name": "python3"
  },
  "language_info": {
   "codemirror_mode": {
    "name": "ipython",
    "version": 3
   },
   "file_extension": ".py",
   "mimetype": "text/x-python",
   "name": "python",
   "nbconvert_exporter": "python",
   "pygments_lexer": "ipython3",
   "version": "3.9.13"
  }
 },
 "nbformat": 4,
 "nbformat_minor": 5
}
