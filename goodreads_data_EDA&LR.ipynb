{
 "cells": [
  {
   "cell_type": "code",
   "execution_count": 21,
   "id": "7fe101a1",
   "metadata": {},
   "outputs": [],
   "source": [
    "import pandas as pd\n",
    "import numpy as np\n",
    "import matplotlib as plt\n",
    "import matplotlib.pyplot as plt\n",
    "import seaborn as sb"
   ]
  },
  {
   "cell_type": "code",
   "execution_count": 2,
   "id": "e4a8d254",
   "metadata": {},
   "outputs": [],
   "source": [
    "# Import clean data\n",
    "gr_data = pd.read_csv('gr_data_CLEAN.csv')\n",
    "gr_data = gr_data.drop(['Unnamed: 0'],axis=1)"
   ]
  },
  {
   "cell_type": "code",
   "execution_count": 3,
   "id": "eb888106",
   "metadata": {},
   "outputs": [
    {
     "data": {
      "text/html": [
       "<div>\n",
       "<style scoped>\n",
       "    .dataframe tbody tr th:only-of-type {\n",
       "        vertical-align: middle;\n",
       "    }\n",
       "\n",
       "    .dataframe tbody tr th {\n",
       "        vertical-align: top;\n",
       "    }\n",
       "\n",
       "    .dataframe thead th {\n",
       "        text-align: right;\n",
       "    }\n",
       "</style>\n",
       "<table border=\"1\" class=\"dataframe\">\n",
       "  <thead>\n",
       "    <tr style=\"text-align: right;\">\n",
       "      <th></th>\n",
       "      <th>title</th>\n",
       "      <th>series</th>\n",
       "      <th>author</th>\n",
       "      <th>description</th>\n",
       "      <th>language</th>\n",
       "      <th>pages</th>\n",
       "      <th>isbn</th>\n",
       "      <th>book_format</th>\n",
       "      <th>publish_year</th>\n",
       "      <th>first_publish_year</th>\n",
       "      <th>...</th>\n",
       "      <th>West Australian Young Readers' Book Award (WAYRBA) for Older Readers</th>\n",
       "      <th>West Australian Young Readers' Book Award (WAYRBA) for Younger Readers</th>\n",
       "      <th>William Allen White Children's Book Award</th>\n",
       "      <th>William C. Morris YA Debut Award Nominee</th>\n",
       "      <th>Women's Prize for Fiction Nominee</th>\n",
       "      <th>Women's Prize for Fiction Nominee for Longlist</th>\n",
       "      <th>World Fantasy Award Nominee for Best Novel</th>\n",
       "      <th>World Fantasy Award for Best Novel</th>\n",
       "      <th>Zilveren Griffel</th>\n",
       "      <th>الجائزة العالمية للرواية العربية (أي باف) / International Prize for Arabic Fiction (IPAF) Nominee</th>\n",
       "    </tr>\n",
       "  </thead>\n",
       "  <tbody>\n",
       "    <tr>\n",
       "      <th>0</th>\n",
       "      <td>The Hunger Games</td>\n",
       "      <td>The Hunger Games</td>\n",
       "      <td>Suzanne Collins</td>\n",
       "      <td>WINNING MEANS FAME AND FORTUNE.LOSING MEANS CE...</td>\n",
       "      <td>English</td>\n",
       "      <td>200-300</td>\n",
       "      <td>9.78044E+12</td>\n",
       "      <td>Hardcover</td>\n",
       "      <td>2008</td>\n",
       "      <td>2008</td>\n",
       "      <td>...</td>\n",
       "      <td>1</td>\n",
       "      <td>0</td>\n",
       "      <td>0</td>\n",
       "      <td>0</td>\n",
       "      <td>0</td>\n",
       "      <td>0</td>\n",
       "      <td>0</td>\n",
       "      <td>0</td>\n",
       "      <td>0</td>\n",
       "      <td>0</td>\n",
       "    </tr>\n",
       "    <tr>\n",
       "      <th>1</th>\n",
       "      <td>Harry Potter and the Order of the Phoenix</td>\n",
       "      <td>Harry Potter</td>\n",
       "      <td>J.K. Rowling</td>\n",
       "      <td>There is a door at the end of a silent corrido...</td>\n",
       "      <td>English</td>\n",
       "      <td>700-800</td>\n",
       "      <td>9.78044E+12</td>\n",
       "      <td>Paperback</td>\n",
       "      <td>2004</td>\n",
       "      <td>2003</td>\n",
       "      <td>...</td>\n",
       "      <td>0</td>\n",
       "      <td>0</td>\n",
       "      <td>0</td>\n",
       "      <td>0</td>\n",
       "      <td>0</td>\n",
       "      <td>0</td>\n",
       "      <td>0</td>\n",
       "      <td>0</td>\n",
       "      <td>0</td>\n",
       "      <td>0</td>\n",
       "    </tr>\n",
       "    <tr>\n",
       "      <th>2</th>\n",
       "      <td>To Kill a Mockingbird</td>\n",
       "      <td>To Kill a Mockingbird</td>\n",
       "      <td>Harper Lee</td>\n",
       "      <td>The unforgettable novel of a childhood in a sl...</td>\n",
       "      <td>English</td>\n",
       "      <td>200-300</td>\n",
       "      <td>1E+13</td>\n",
       "      <td>Paperback</td>\n",
       "      <td>2006</td>\n",
       "      <td>1960</td>\n",
       "      <td>...</td>\n",
       "      <td>0</td>\n",
       "      <td>0</td>\n",
       "      <td>0</td>\n",
       "      <td>0</td>\n",
       "      <td>0</td>\n",
       "      <td>0</td>\n",
       "      <td>0</td>\n",
       "      <td>0</td>\n",
       "      <td>0</td>\n",
       "      <td>0</td>\n",
       "    </tr>\n",
       "    <tr>\n",
       "      <th>3</th>\n",
       "      <td>Pride and Prejudice</td>\n",
       "      <td>Single Book</td>\n",
       "      <td>Jane Austen</td>\n",
       "      <td>Alternate cover edition of ISBN 9780679783268S...</td>\n",
       "      <td>English</td>\n",
       "      <td>100-200</td>\n",
       "      <td>1E+13</td>\n",
       "      <td>Paperback</td>\n",
       "      <td>2000</td>\n",
       "      <td>2013</td>\n",
       "      <td>...</td>\n",
       "      <td>0</td>\n",
       "      <td>0</td>\n",
       "      <td>0</td>\n",
       "      <td>0</td>\n",
       "      <td>0</td>\n",
       "      <td>0</td>\n",
       "      <td>0</td>\n",
       "      <td>0</td>\n",
       "      <td>0</td>\n",
       "      <td>0</td>\n",
       "    </tr>\n",
       "    <tr>\n",
       "      <th>4</th>\n",
       "      <td>Twilight</td>\n",
       "      <td>The Twilight Saga</td>\n",
       "      <td>Stephenie Meyer</td>\n",
       "      <td>About three things I was absolutely positive.\\...</td>\n",
       "      <td>English</td>\n",
       "      <td>400-500</td>\n",
       "      <td>9.78032E+12</td>\n",
       "      <td>Paperback</td>\n",
       "      <td>2006</td>\n",
       "      <td>2005</td>\n",
       "      <td>...</td>\n",
       "      <td>1</td>\n",
       "      <td>0</td>\n",
       "      <td>0</td>\n",
       "      <td>0</td>\n",
       "      <td>0</td>\n",
       "      <td>0</td>\n",
       "      <td>0</td>\n",
       "      <td>0</td>\n",
       "      <td>0</td>\n",
       "      <td>0</td>\n",
       "    </tr>\n",
       "  </tbody>\n",
       "</table>\n",
       "<p>5 rows × 863 columns</p>\n",
       "</div>"
      ],
      "text/plain": [
       "                                       title                 series  \\\n",
       "0                           The Hunger Games       The Hunger Games   \n",
       "1  Harry Potter and the Order of the Phoenix           Harry Potter   \n",
       "2                      To Kill a Mockingbird  To Kill a Mockingbird   \n",
       "3                        Pride and Prejudice            Single Book   \n",
       "4                                   Twilight      The Twilight Saga   \n",
       "\n",
       "            author                                        description  \\\n",
       "0  Suzanne Collins  WINNING MEANS FAME AND FORTUNE.LOSING MEANS CE...   \n",
       "1     J.K. Rowling  There is a door at the end of a silent corrido...   \n",
       "2       Harper Lee  The unforgettable novel of a childhood in a sl...   \n",
       "3      Jane Austen  Alternate cover edition of ISBN 9780679783268S...   \n",
       "4  Stephenie Meyer  About three things I was absolutely positive.\\...   \n",
       "\n",
       "  language    pages         isbn book_format  publish_year  \\\n",
       "0  English  200-300  9.78044E+12   Hardcover          2008   \n",
       "1  English  700-800  9.78044E+12   Paperback          2004   \n",
       "2  English  200-300        1E+13   Paperback          2006   \n",
       "3  English  100-200        1E+13   Paperback          2000   \n",
       "4  English  400-500  9.78032E+12   Paperback          2006   \n",
       "\n",
       "   first_publish_year  ...  \\\n",
       "0                2008  ...   \n",
       "1                2003  ...   \n",
       "2                1960  ...   \n",
       "3                2013  ...   \n",
       "4                2005  ...   \n",
       "\n",
       "  West Australian Young Readers' Book Award (WAYRBA) for Older Readers   \\\n",
       "0                                                  1                      \n",
       "1                                                  0                      \n",
       "2                                                  0                      \n",
       "3                                                  0                      \n",
       "4                                                  1                      \n",
       "\n",
       "   West Australian Young Readers' Book Award (WAYRBA) for Younger Readers   \\\n",
       "0                                                  0                         \n",
       "1                                                  0                         \n",
       "2                                                  0                         \n",
       "3                                                  0                         \n",
       "4                                                  0                         \n",
       "\n",
       "   William Allen White Children's Book Award   \\\n",
       "0                                           0   \n",
       "1                                           0   \n",
       "2                                           0   \n",
       "3                                           0   \n",
       "4                                           0   \n",
       "\n",
       "   William C. Morris YA Debut Award Nominee   \\\n",
       "0                                          0   \n",
       "1                                          0   \n",
       "2                                          0   \n",
       "3                                          0   \n",
       "4                                          0   \n",
       "\n",
       "   Women's Prize for Fiction Nominee   \\\n",
       "0                                   0   \n",
       "1                                   0   \n",
       "2                                   0   \n",
       "3                                   0   \n",
       "4                                   0   \n",
       "\n",
       "   Women's Prize for Fiction Nominee for Longlist   \\\n",
       "0                                                0   \n",
       "1                                                0   \n",
       "2                                                0   \n",
       "3                                                0   \n",
       "4                                                0   \n",
       "\n",
       "   World Fantasy Award Nominee for Best Novel   \\\n",
       "0                                            0   \n",
       "1                                            0   \n",
       "2                                            0   \n",
       "3                                            0   \n",
       "4                                            0   \n",
       "\n",
       "   World Fantasy Award for Best Novel   Zilveren Griffel   \\\n",
       "0                                    0                  0   \n",
       "1                                    0                  0   \n",
       "2                                    0                  0   \n",
       "3                                    0                  0   \n",
       "4                                    0                  0   \n",
       "\n",
       "   الجائزة العالمية للرواية العربية (أي باف) / International Prize for Arabic Fiction (IPAF) Nominee   \n",
       "0                                                  0                                                   \n",
       "1                                                  0                                                   \n",
       "2                                                  0                                                   \n",
       "3                                                  0                                                   \n",
       "4                                                  0                                                   \n",
       "\n",
       "[5 rows x 863 columns]"
      ]
     },
     "metadata": {},
     "output_type": "display_data"
    },
    {
     "data": {
      "text/plain": [
       "(52478, 863)"
      ]
     },
     "metadata": {},
     "output_type": "display_data"
    }
   ],
   "source": [
    "display(gr_data.head(), gr_data.shape)"
   ]
  },
  {
   "cell_type": "markdown",
   "id": "60bd0ddf",
   "metadata": {},
   "source": [
    "## Exploratory Data Analysis"
   ]
  },
  {
   "cell_type": "markdown",
   "id": "d5bd2b21",
   "metadata": {},
   "source": [
    "#### Target to predict: rating"
   ]
  },
  {
   "cell_type": "code",
   "execution_count": 11,
   "id": "7ab1f900",
   "metadata": {},
   "outputs": [
    {
     "data": {
      "text/plain": [
       "0        4.33\n",
       "1        4.50\n",
       "2        4.28\n",
       "3        4.26\n",
       "4        3.60\n",
       "         ... \n",
       "52473    4.00\n",
       "52474    4.19\n",
       "52475    3.70\n",
       "52476    3.85\n",
       "52477    4.02\n",
       "Name: rating, Length: 52478, dtype: float64"
      ]
     },
     "execution_count": 11,
     "metadata": {},
     "output_type": "execute_result"
    }
   ],
   "source": [
    "gr_data.rating"
   ]
  },
  {
   "cell_type": "code",
   "execution_count": 40,
   "id": "6ada5e56",
   "metadata": {},
   "outputs": [
    {
     "data": {
      "text/plain": [
       "count    52478.000000\n",
       "mean         4.021878\n",
       "std          0.367146\n",
       "min          0.000000\n",
       "25%          3.820000\n",
       "50%          4.030000\n",
       "75%          4.230000\n",
       "max          5.000000\n",
       "Name: rating, dtype: float64"
      ]
     },
     "execution_count": 40,
     "metadata": {},
     "output_type": "execute_result"
    }
   ],
   "source": [
    "gr_data.rating.describe()"
   ]
  },
  {
   "cell_type": "markdown",
   "id": "6ddce968",
   "metadata": {},
   "source": [
    "#### Title"
   ]
  },
  {
   "cell_type": "code",
   "execution_count": 15,
   "id": "67f920f7",
   "metadata": {},
   "outputs": [
    {
     "data": {
      "text/html": [
       "<div>\n",
       "<style scoped>\n",
       "    .dataframe tbody tr th:only-of-type {\n",
       "        vertical-align: middle;\n",
       "    }\n",
       "\n",
       "    .dataframe tbody tr th {\n",
       "        vertical-align: top;\n",
       "    }\n",
       "\n",
       "    .dataframe thead th {\n",
       "        text-align: right;\n",
       "    }\n",
       "</style>\n",
       "<table border=\"1\" class=\"dataframe\">\n",
       "  <thead>\n",
       "    <tr style=\"text-align: right;\">\n",
       "      <th></th>\n",
       "      <th>title</th>\n",
       "      <th>rating</th>\n",
       "    </tr>\n",
       "  </thead>\n",
       "  <tbody>\n",
       "    <tr>\n",
       "      <th>3989</th>\n",
       "      <td>Gris Ange 2014</td>\n",
       "      <td>5.0</td>\n",
       "    </tr>\n",
       "    <tr>\n",
       "      <th>4009</th>\n",
       "      <td>Das geheimnis der blumen (DEU)</td>\n",
       "      <td>5.0</td>\n",
       "    </tr>\n",
       "    <tr>\n",
       "      <th>4405</th>\n",
       "      <td>Obscured Darkness (Family Secrets #2)</td>\n",
       "      <td>5.0</td>\n",
       "    </tr>\n",
       "    <tr>\n",
       "      <th>5118</th>\n",
       "      <td>Rosto Inacabado (Pequenos segredos alquímicos)...</td>\n",
       "      <td>5.0</td>\n",
       "    </tr>\n",
       "    <tr>\n",
       "      <th>5162</th>\n",
       "      <td>Elliptical door (A multifaceted overview) (US)...</td>\n",
       "      <td>5.0</td>\n",
       "    </tr>\n",
       "    <tr>\n",
       "      <th>5716</th>\n",
       "      <td>Females of Valor</td>\n",
       "      <td>5.0</td>\n",
       "    </tr>\n",
       "    <tr>\n",
       "      <th>5740</th>\n",
       "      <td>The Daughter Of Kurdland: A Life Dedicated to ...</td>\n",
       "      <td>5.0</td>\n",
       "    </tr>\n",
       "    <tr>\n",
       "      <th>6829</th>\n",
       "      <td>Patience's Love</td>\n",
       "      <td>5.0</td>\n",
       "    </tr>\n",
       "    <tr>\n",
       "      <th>8659</th>\n",
       "      <td>Abstraction In Theory - Laws Of Physical Trans...</td>\n",
       "      <td>5.0</td>\n",
       "    </tr>\n",
       "    <tr>\n",
       "      <th>9002</th>\n",
       "      <td>Le Poinçon « Pilot Edition »</td>\n",
       "      <td>5.0</td>\n",
       "    </tr>\n",
       "    <tr>\n",
       "      <th>10364</th>\n",
       "      <td>Of Just the Two of Us</td>\n",
       "      <td>5.0</td>\n",
       "    </tr>\n",
       "    <tr>\n",
       "      <th>10750</th>\n",
       "      <td>Liam: Midsummer's Magic Bonus Book</td>\n",
       "      <td>5.0</td>\n",
       "    </tr>\n",
       "    <tr>\n",
       "      <th>11131</th>\n",
       "      <td>Freddy the Fire Hydrant Finds His Purpose</td>\n",
       "      <td>5.0</td>\n",
       "    </tr>\n",
       "    <tr>\n",
       "      <th>11216</th>\n",
       "      <td>POWERFUL PRAYERS OF PRAISE AND PETITION FOR EV...</td>\n",
       "      <td>5.0</td>\n",
       "    </tr>\n",
       "    <tr>\n",
       "      <th>11220</th>\n",
       "      <td>The Best Scandal Ever</td>\n",
       "      <td>5.0</td>\n",
       "    </tr>\n",
       "    <tr>\n",
       "      <th>11233</th>\n",
       "      <td>The Evil Hobo (The Evil Company) (Volume 1)</td>\n",
       "      <td>5.0</td>\n",
       "    </tr>\n",
       "    <tr>\n",
       "      <th>11303</th>\n",
       "      <td>If Shadows Could Tell: an Aurora Steller myste...</td>\n",
       "      <td>5.0</td>\n",
       "    </tr>\n",
       "    <tr>\n",
       "      <th>11326</th>\n",
       "      <td>Maze of Existence</td>\n",
       "      <td>5.0</td>\n",
       "    </tr>\n",
       "    <tr>\n",
       "      <th>11410</th>\n",
       "      <td>The Arms of Venus</td>\n",
       "      <td>5.0</td>\n",
       "    </tr>\n",
       "    <tr>\n",
       "      <th>11412</th>\n",
       "      <td>Matthias and the Shadow</td>\n",
       "      <td>5.0</td>\n",
       "    </tr>\n",
       "  </tbody>\n",
       "</table>\n",
       "</div>"
      ],
      "text/plain": [
       "                                                   title  rating\n",
       "3989                                      Gris Ange 2014     5.0\n",
       "4009                      Das geheimnis der blumen (DEU)     5.0\n",
       "4405               Obscured Darkness (Family Secrets #2)     5.0\n",
       "5118   Rosto Inacabado (Pequenos segredos alquímicos)...     5.0\n",
       "5162   Elliptical door (A multifaceted overview) (US)...     5.0\n",
       "5716                                    Females of Valor     5.0\n",
       "5740   The Daughter Of Kurdland: A Life Dedicated to ...     5.0\n",
       "6829                                     Patience's Love     5.0\n",
       "8659   Abstraction In Theory - Laws Of Physical Trans...     5.0\n",
       "9002                        Le Poinçon « Pilot Edition »     5.0\n",
       "10364                              Of Just the Two of Us     5.0\n",
       "10750                 Liam: Midsummer's Magic Bonus Book     5.0\n",
       "11131          Freddy the Fire Hydrant Finds His Purpose     5.0\n",
       "11216  POWERFUL PRAYERS OF PRAISE AND PETITION FOR EV...     5.0\n",
       "11220                              The Best Scandal Ever     5.0\n",
       "11233        The Evil Hobo (The Evil Company) (Volume 1)     5.0\n",
       "11303  If Shadows Could Tell: an Aurora Steller myste...     5.0\n",
       "11326                                  Maze of Existence     5.0\n",
       "11410                                  The Arms of Venus     5.0\n",
       "11412                            Matthias and the Shadow     5.0"
      ]
     },
     "execution_count": 15,
     "metadata": {},
     "output_type": "execute_result"
    }
   ],
   "source": [
    "# Top 20 rated books\n",
    "top_20 = gr_data.nlargest(20, 'rating')\n",
    "top_20[['title', 'rating']]"
   ]
  },
  {
   "cell_type": "code",
   "execution_count": 20,
   "id": "23544111",
   "metadata": {},
   "outputs": [
    {
     "name": "stdout",
     "output_type": "stream",
     "text": [
      "Number of books with a rating of 5: 853\n"
     ]
    }
   ],
   "source": [
    "# Count number of books with rating 4.5 or more\n",
    "num_top_rated_books = (gr_data['rating'] >= 5).sum()\n",
    "\n",
    "print(f\"Number of books with a rating of 5: {num_top_rated_books}\")"
   ]
  },
  {
   "cell_type": "code",
   "execution_count": 30,
   "id": "2a7fac16",
   "metadata": {
    "scrolled": true
   },
   "outputs": [
    {
     "data": {
      "image/png": "[encoded data removed]",
      "text/plain": [
       "<Figure size 640x480 with 1 Axes>"
      ]
     },
     "metadata": {},
     "output_type": "display_data"
    }
   ],
   "source": [
    "# Plot histogram number of books/Rating\n",
    "plt.hist(gr_data['rating'], bins=20)\n",
    "plt.xlim(0, 5)\n",
    "plt.xlabel('Rating')\n",
    "plt.ylabel('Books')\n",
    "plt.title('Number of books per rating')\n",
    "plt.show()"
   ]
  },
  {
   "cell_type": "markdown",
   "id": "42184272",
   "metadata": {},
   "source": [
    "#### Series"
   ]
  },
  {
   "cell_type": "code",
   "execution_count": 32,
   "id": "24257b07",
   "metadata": {},
   "outputs": [
    {
     "name": "stdout",
     "output_type": "stream",
     "text": [
      "Average rating for titles included in a series: 4.05\n",
      "Average rating for titles not included in any series: 4.0\n"
     ]
    }
   ],
   "source": [
    "# Book included in some series or not\n",
    "\n",
    "# Group by 'series'\n",
    "series_group = gr_data.groupby('series')\n",
    "\n",
    "# Average rating for titles with a series value other than 'Single Book'\n",
    "avg_rating_series = round(gr_data[gr_data['series'] != 'Single Book']['rating'].mean(), 2)\n",
    "\n",
    "# Average rating for titles with a series value of 'Single Book'\n",
    "avg_rating_single = round(gr_data[gr_data['series'] == 'Single Book']['rating'].mean(), 2)\n",
    "\n",
    "print(\"Average rating for titles included in a series:\", avg_rating_series)\n",
    "print(\"Average rating for titles not included in any series:\", avg_rating_single)"
   ]
  },
  {
   "cell_type": "code",
   "execution_count": 34,
   "id": "54b4f525",
   "metadata": {
    "scrolled": true
   },
   "outputs": [
    {
     "data": {
      "image/png": "[encoded data removed]",
      "text/plain": [
       "<Figure size 640x480 with 1 Axes>"
      ]
     },
     "metadata": {},
     "output_type": "display_data"
    }
   ],
   "source": [
    "# Plot bar chart\n",
    "plt.bar(['Series', 'Single Book'], [avg_rating_series, avg_rating_single], color=['blue', 'orange'])\n",
    "\n",
    "# Title and axis labels\n",
    "plt.title('Average Rating by Series Type')\n",
    "plt.xlabel('Series Type')\n",
    "plt.ylabel('Average Rating')\n",
    "plt.show()"
   ]
  },
  {
   "cell_type": "markdown",
   "id": "9de454d3",
   "metadata": {},
   "source": [
    "#### Book Format"
   ]
  },
  {
   "cell_type": "code",
   "execution_count": 35,
   "id": "8ea676cf",
   "metadata": {},
   "outputs": [
    {
     "data": {
      "text/plain": [
       "book_format\n",
       "Audio                      4.08\n",
       "Boardbook                  4.11\n",
       "Boxset                     4.38\n",
       "Ebook                      4.11\n",
       "Graphic Novel and Comic    4.34\n",
       "Hardcover                  4.00\n",
       "Other formats              4.11\n",
       "Paperback                  4.01\n",
       "Special Edition            4.27\n",
       "Unknown                    4.04\n",
       "Name: rating, dtype: float64"
      ]
     },
     "execution_count": 35,
     "metadata": {},
     "output_type": "execute_result"
    }
   ],
   "source": [
    "# Book format and rating\n",
    "\n",
    "# Average rating for unique book_format\n",
    "avg_rating_format = gr_data.groupby('book_format')['rating'].mean().round(2)\n",
    "\n",
    "avg_rating_format"
   ]
  },
  {
   "cell_type": "code",
   "execution_count": 37,
   "id": "854ca8ee",
   "metadata": {},
   "outputs": [
    {
     "data": {
      "image/png": "[encoded data removed]",
      "text/plain": [
       "<Figure size 1200x600 with 1 Axes>"
      ]
     },
     "metadata": {},
     "output_type": "display_data"
    }
   ],
   "source": [
    "# Bar chart\n",
    "\n",
    "# Set figsize to (width, height) and colors\n",
    "fig, ax = plt.subplots(figsize=(12, 6))  \n",
    "ax.bar(avg_rating_format.index, avg_rating_format, color=['red', 'green', 'blue', 'orange', 'purple'])\n",
    "\n",
    "# Set chart title and axis labels\n",
    "ax.set_title('Average Rating by Book Format')\n",
    "ax.set_xlabel('Book Format')\n",
    "ax.set_ylabel('Average Rating')\n",
    "\n",
    "# Rotate x-axis labels for better readability\n",
    "plt.xticks(rotation=45, ha='right')\n",
    "\n",
    "plt.show()"
   ]
  },
  {
   "cell_type": "code",
   "execution_count": null,
   "id": "7ede8d6c",
   "metadata": {},
   "outputs": [],
   "source": []
  }
 ],
 "metadata": {
  "kernelspec": {
   "display_name": "Python 3 (ipykernel)",
   "language": "python",
   "name": "python3"
  },
  "language_info": {
   "codemirror_mode": {
    "name": "ipython",
    "version": 3
   },
   "file_extension": ".py",
   "mimetype": "text/x-python",
   "name": "python",
   "nbconvert_exporter": "python",
   "pygments_lexer": "ipython3",
   "version": "3.9.13"
  }
 },
 "nbformat": 4,
 "nbformat_minor": 5
}
